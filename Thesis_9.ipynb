{
  "nbformat": 4,
  "nbformat_minor": 0,
  "metadata": {
    "colab": {
      "provenance": [],
      "machine_shape": "hm",
      "authorship_tag": "ABX9TyM7XMbkcfkiPtkiGDJYu4q7",
      "include_colab_link": true
    },
    "kernelspec": {
      "name": "python3",
      "display_name": "Python 3"
    },
    "language_info": {
      "name": "python"
    },
    "accelerator": "GPU",
    "gpuClass": "standard"
  },
  "cells": [
    {
      "cell_type": "markdown",
      "metadata": {
        "id": "view-in-github",
        "colab_type": "text"
      },
      "source": [
        "<a href=\"https://colab.research.google.com/github/Bone-Age-Maisha/paper_1/blob/main/Thesis_9.ipynb\" target=\"_parent\"><img src=\"https://colab.research.google.com/assets/colab-badge.svg\" alt=\"Open In Colab\"/></a>"
      ]
    },
    {
      "cell_type": "code",
      "execution_count": null,
      "metadata": {
        "id": "UvCMAP68Bcxn"
      },
      "outputs": [],
      "source": []
    },
    {
      "cell_type": "code",
      "execution_count": null,
      "metadata": {
        "colab": {
          "base_uri": "https://localhost:8080/"
        },
        "id": "vGU48tq_tcdT",
        "outputId": "e8479e4c-3f52-4a8e-ffca-b4e45f810378"
      },
      "outputs": [
        {
          "output_type": "stream",
          "name": "stdout",
          "text": [
            "Mounted at /content/drive\n"
          ]
        }
      ],
      "source": [
        "from google.colab import drive\n",
        "drive.mount('/content/drive')"
      ]
    },
    {
      "cell_type": "code",
      "execution_count": null,
      "metadata": {
        "id": "MFsSxjDQ7ag1"
      },
      "outputs": [],
      "source": [
        "import numpy as np\n",
        "import cv2\n",
        "import os\n",
        "import pandas as pd"
      ]
    },
    {
      "cell_type": "code",
      "execution_count": null,
      "metadata": {
        "id": "rZOk3IJS74QP"
      },
      "outputs": [],
      "source": [
        "import pandas as pd\n",
        "train_dir = '/content/drive/MyDrive/boneage-training-dataset'\n",
        "df = pd.read_csv('/content/drive/MyDrive/boneage-training-dataset.csv')"
      ]
    },
    {
      "cell_type": "code",
      "execution_count": null,
      "metadata": {
        "colab": {
          "base_uri": "https://localhost:8080/"
        },
        "id": "x5WUmhGp_eqe",
        "outputId": "6a06d066-4f4c-4739-d553-d84f0f79476c"
      },
      "outputs": [
        {
          "output_type": "stream",
          "name": "stdout",
          "text": [
            "Fri Feb 10 06:32:01 2023       \n",
            "+-----------------------------------------------------------------------------+\n",
            "| NVIDIA-SMI 510.47.03    Driver Version: 510.47.03    CUDA Version: 11.6     |\n",
            "|-------------------------------+----------------------+----------------------+\n",
            "| GPU  Name        Persistence-M| Bus-Id        Disp.A | Volatile Uncorr. ECC |\n",
            "| Fan  Temp  Perf  Pwr:Usage/Cap|         Memory-Usage | GPU-Util  Compute M. |\n",
            "|                               |                      |               MIG M. |\n",
            "|===============================+======================+======================|\n",
            "|   0  Tesla T4            Off  | 00000000:00:04.0 Off |                    0 |\n",
            "| N/A   36C    P0    27W /  70W |      0MiB / 15360MiB |      0%      Default |\n",
            "|                               |                      |                  N/A |\n",
            "+-------------------------------+----------------------+----------------------+\n",
            "                                                                               \n",
            "+-----------------------------------------------------------------------------+\n",
            "| Processes:                                                                  |\n",
            "|  GPU   GI   CI        PID   Type   Process name                  GPU Memory |\n",
            "|        ID   ID                                                   Usage      |\n",
            "|=============================================================================|\n",
            "|  No running processes found                                                 |\n",
            "+-----------------------------------------------------------------------------+\n"
          ]
        }
      ],
      "source": [
        "!nvidia-smi"
      ]
    },
    {
      "cell_type": "code",
      "execution_count": null,
      "metadata": {
        "colab": {
          "base_uri": "https://localhost:8080/"
        },
        "id": "4o1wzbqb9XlZ",
        "outputId": "ed7b91df-0d83-4c9f-d41f-220c61ec1f22"
      },
      "outputs": [
        {
          "output_type": "stream",
          "name": "stdout",
          "text": [
            "Fri Feb 10 06:32:03 2023       \n",
            "+-----------------------------------------------------------------------------+\n",
            "| NVIDIA-SMI 510.47.03    Driver Version: 510.47.03    CUDA Version: 11.6     |\n",
            "|-------------------------------+----------------------+----------------------+\n",
            "| GPU  Name        Persistence-M| Bus-Id        Disp.A | Volatile Uncorr. ECC |\n",
            "| Fan  Temp  Perf  Pwr:Usage/Cap|         Memory-Usage | GPU-Util  Compute M. |\n",
            "|                               |                      |               MIG M. |\n",
            "|===============================+======================+======================|\n",
            "|   0  Tesla T4            Off  | 00000000:00:04.0 Off |                    0 |\n",
            "| N/A   36C    P0    27W /  70W |      0MiB / 15360MiB |      0%      Default |\n",
            "|                               |                      |                  N/A |\n",
            "+-------------------------------+----------------------+----------------------+\n",
            "                                                                               \n",
            "+-----------------------------------------------------------------------------+\n",
            "| Processes:                                                                  |\n",
            "|  GPU   GI   CI        PID   Type   Process name                  GPU Memory |\n",
            "|        ID   ID                                                   Usage      |\n",
            "|=============================================================================|\n",
            "|  No running processes found                                                 |\n",
            "+-----------------------------------------------------------------------------+\n"
          ]
        }
      ],
      "source": [
        "!nvidia-smi"
      ]
    },
    {
      "cell_type": "code",
      "execution_count": null,
      "metadata": {
        "id": "pk25ubPJ77rD"
      },
      "outputs": [],
      "source": [
        "import os\n",
        "age_df = df \n",
        "age_df['path'] = age_df['id'].map(lambda x: os.path.join(train_dir,'{}.png'.format(x)))\n",
        "#age_df['exists'] = age_df['path'].map(os.path.exists)"
      ]
    },
    {
      "cell_type": "code",
      "execution_count": null,
      "metadata": {
        "id": "p9A1OCGX8Lap"
      },
      "outputs": [],
      "source": [
        "\n",
        "\n",
        "age1=age_df"
      ]
    },
    {
      "cell_type": "code",
      "execution_count": null,
      "metadata": {
        "colab": {
          "base_uri": "https://localhost:8080/",
          "height": 423
        },
        "id": "YNJQZy598Vxg",
        "outputId": "452e3187-d69f-4271-a6aa-7a221dc76889"
      },
      "outputs": [
        {
          "output_type": "execute_result",
          "data": {
            "text/plain": [
              "          id  boneage   male  \\\n",
              "0       1377      180  False   \n",
              "1       1378       12  False   \n",
              "2       1379       94  False   \n",
              "3       1380      120   True   \n",
              "4       1381       82  False   \n",
              "...      ...      ...    ...   \n",
              "12606  15605       50  False   \n",
              "12607  15606      113  False   \n",
              "12608  15608       55  False   \n",
              "12609  15609      150   True   \n",
              "12610  15610      132   True   \n",
              "\n",
              "                                                    path  \n",
              "0      /content/drive/MyDrive/boneage-training-datase...  \n",
              "1      /content/drive/MyDrive/boneage-training-datase...  \n",
              "2      /content/drive/MyDrive/boneage-training-datase...  \n",
              "3      /content/drive/MyDrive/boneage-training-datase...  \n",
              "4      /content/drive/MyDrive/boneage-training-datase...  \n",
              "...                                                  ...  \n",
              "12606  /content/drive/MyDrive/boneage-training-datase...  \n",
              "12607  /content/drive/MyDrive/boneage-training-datase...  \n",
              "12608  /content/drive/MyDrive/boneage-training-datase...  \n",
              "12609  /content/drive/MyDrive/boneage-training-datase...  \n",
              "12610  /content/drive/MyDrive/boneage-training-datase...  \n",
              "\n",
              "[12611 rows x 4 columns]"
            ],
            "text/html": [
              "\n",
              "  <div id=\"df-3e599fa9-98db-416d-997b-70a69b4a0828\">\n",
              "    <div class=\"colab-df-container\">\n",
              "      <div>\n",
              "<style scoped>\n",
              "    .dataframe tbody tr th:only-of-type {\n",
              "        vertical-align: middle;\n",
              "    }\n",
              "\n",
              "    .dataframe tbody tr th {\n",
              "        vertical-align: top;\n",
              "    }\n",
              "\n",
              "    .dataframe thead th {\n",
              "        text-align: right;\n",
              "    }\n",
              "</style>\n",
              "<table border=\"1\" class=\"dataframe\">\n",
              "  <thead>\n",
              "    <tr style=\"text-align: right;\">\n",
              "      <th></th>\n",
              "      <th>id</th>\n",
              "      <th>boneage</th>\n",
              "      <th>male</th>\n",
              "      <th>path</th>\n",
              "    </tr>\n",
              "  </thead>\n",
              "  <tbody>\n",
              "    <tr>\n",
              "      <th>0</th>\n",
              "      <td>1377</td>\n",
              "      <td>180</td>\n",
              "      <td>False</td>\n",
              "      <td>/content/drive/MyDrive/boneage-training-datase...</td>\n",
              "    </tr>\n",
              "    <tr>\n",
              "      <th>1</th>\n",
              "      <td>1378</td>\n",
              "      <td>12</td>\n",
              "      <td>False</td>\n",
              "      <td>/content/drive/MyDrive/boneage-training-datase...</td>\n",
              "    </tr>\n",
              "    <tr>\n",
              "      <th>2</th>\n",
              "      <td>1379</td>\n",
              "      <td>94</td>\n",
              "      <td>False</td>\n",
              "      <td>/content/drive/MyDrive/boneage-training-datase...</td>\n",
              "    </tr>\n",
              "    <tr>\n",
              "      <th>3</th>\n",
              "      <td>1380</td>\n",
              "      <td>120</td>\n",
              "      <td>True</td>\n",
              "      <td>/content/drive/MyDrive/boneage-training-datase...</td>\n",
              "    </tr>\n",
              "    <tr>\n",
              "      <th>4</th>\n",
              "      <td>1381</td>\n",
              "      <td>82</td>\n",
              "      <td>False</td>\n",
              "      <td>/content/drive/MyDrive/boneage-training-datase...</td>\n",
              "    </tr>\n",
              "    <tr>\n",
              "      <th>...</th>\n",
              "      <td>...</td>\n",
              "      <td>...</td>\n",
              "      <td>...</td>\n",
              "      <td>...</td>\n",
              "    </tr>\n",
              "    <tr>\n",
              "      <th>12606</th>\n",
              "      <td>15605</td>\n",
              "      <td>50</td>\n",
              "      <td>False</td>\n",
              "      <td>/content/drive/MyDrive/boneage-training-datase...</td>\n",
              "    </tr>\n",
              "    <tr>\n",
              "      <th>12607</th>\n",
              "      <td>15606</td>\n",
              "      <td>113</td>\n",
              "      <td>False</td>\n",
              "      <td>/content/drive/MyDrive/boneage-training-datase...</td>\n",
              "    </tr>\n",
              "    <tr>\n",
              "      <th>12608</th>\n",
              "      <td>15608</td>\n",
              "      <td>55</td>\n",
              "      <td>False</td>\n",
              "      <td>/content/drive/MyDrive/boneage-training-datase...</td>\n",
              "    </tr>\n",
              "    <tr>\n",
              "      <th>12609</th>\n",
              "      <td>15609</td>\n",
              "      <td>150</td>\n",
              "      <td>True</td>\n",
              "      <td>/content/drive/MyDrive/boneage-training-datase...</td>\n",
              "    </tr>\n",
              "    <tr>\n",
              "      <th>12610</th>\n",
              "      <td>15610</td>\n",
              "      <td>132</td>\n",
              "      <td>True</td>\n",
              "      <td>/content/drive/MyDrive/boneage-training-datase...</td>\n",
              "    </tr>\n",
              "  </tbody>\n",
              "</table>\n",
              "<p>12611 rows × 4 columns</p>\n",
              "</div>\n",
              "      <button class=\"colab-df-convert\" onclick=\"convertToInteractive('df-3e599fa9-98db-416d-997b-70a69b4a0828')\"\n",
              "              title=\"Convert this dataframe to an interactive table.\"\n",
              "              style=\"display:none;\">\n",
              "        \n",
              "  <svg xmlns=\"http://www.w3.org/2000/svg\" height=\"24px\"viewBox=\"0 0 24 24\"\n",
              "       width=\"24px\">\n",
              "    <path d=\"M0 0h24v24H0V0z\" fill=\"none\"/>\n",
              "    <path d=\"M18.56 5.44l.94 2.06.94-2.06 2.06-.94-2.06-.94-.94-2.06-.94 2.06-2.06.94zm-11 1L8.5 8.5l.94-2.06 2.06-.94-2.06-.94L8.5 2.5l-.94 2.06-2.06.94zm10 10l.94 2.06.94-2.06 2.06-.94-2.06-.94-.94-2.06-.94 2.06-2.06.94z\"/><path d=\"M17.41 7.96l-1.37-1.37c-.4-.4-.92-.59-1.43-.59-.52 0-1.04.2-1.43.59L10.3 9.45l-7.72 7.72c-.78.78-.78 2.05 0 2.83L4 21.41c.39.39.9.59 1.41.59.51 0 1.02-.2 1.41-.59l7.78-7.78 2.81-2.81c.8-.78.8-2.07 0-2.86zM5.41 20L4 18.59l7.72-7.72 1.47 1.35L5.41 20z\"/>\n",
              "  </svg>\n",
              "      </button>\n",
              "      \n",
              "  <style>\n",
              "    .colab-df-container {\n",
              "      display:flex;\n",
              "      flex-wrap:wrap;\n",
              "      gap: 12px;\n",
              "    }\n",
              "\n",
              "    .colab-df-convert {\n",
              "      background-color: #E8F0FE;\n",
              "      border: none;\n",
              "      border-radius: 50%;\n",
              "      cursor: pointer;\n",
              "      display: none;\n",
              "      fill: #1967D2;\n",
              "      height: 32px;\n",
              "      padding: 0 0 0 0;\n",
              "      width: 32px;\n",
              "    }\n",
              "\n",
              "    .colab-df-convert:hover {\n",
              "      background-color: #E2EBFA;\n",
              "      box-shadow: 0px 1px 2px rgba(60, 64, 67, 0.3), 0px 1px 3px 1px rgba(60, 64, 67, 0.15);\n",
              "      fill: #174EA6;\n",
              "    }\n",
              "\n",
              "    [theme=dark] .colab-df-convert {\n",
              "      background-color: #3B4455;\n",
              "      fill: #D2E3FC;\n",
              "    }\n",
              "\n",
              "    [theme=dark] .colab-df-convert:hover {\n",
              "      background-color: #434B5C;\n",
              "      box-shadow: 0px 1px 3px 1px rgba(0, 0, 0, 0.15);\n",
              "      filter: drop-shadow(0px 1px 2px rgba(0, 0, 0, 0.3));\n",
              "      fill: #FFFFFF;\n",
              "    }\n",
              "  </style>\n",
              "\n",
              "      <script>\n",
              "        const buttonEl =\n",
              "          document.querySelector('#df-3e599fa9-98db-416d-997b-70a69b4a0828 button.colab-df-convert');\n",
              "        buttonEl.style.display =\n",
              "          google.colab.kernel.accessAllowed ? 'block' : 'none';\n",
              "\n",
              "        async function convertToInteractive(key) {\n",
              "          const element = document.querySelector('#df-3e599fa9-98db-416d-997b-70a69b4a0828');\n",
              "          const dataTable =\n",
              "            await google.colab.kernel.invokeFunction('convertToInteractive',\n",
              "                                                     [key], {});\n",
              "          if (!dataTable) return;\n",
              "\n",
              "          const docLinkHtml = 'Like what you see? Visit the ' +\n",
              "            '<a target=\"_blank\" href=https://colab.research.google.com/notebooks/data_table.ipynb>data table notebook</a>'\n",
              "            + ' to learn more about interactive tables.';\n",
              "          element.innerHTML = '';\n",
              "          dataTable['output_type'] = 'display_data';\n",
              "          await google.colab.output.renderOutput(dataTable, element);\n",
              "          const docLink = document.createElement('div');\n",
              "          docLink.innerHTML = docLinkHtml;\n",
              "          element.appendChild(docLink);\n",
              "        }\n",
              "      </script>\n",
              "    </div>\n",
              "  </div>\n",
              "  "
            ]
          },
          "metadata": {},
          "execution_count": 8
        }
      ],
      "source": [
        "\n",
        "age1"
      ]
    },
    {
      "cell_type": "code",
      "execution_count": null,
      "metadata": {
        "colab": {
          "base_uri": "https://localhost:8080/"
        },
        "id": "c-rTo2av8YsK",
        "outputId": "4e9aec51-7ba6-48c7-cd51-a2b91fb1da91"
      },
      "outputs": [
        {
          "output_type": "execute_result",
          "data": {
            "text/plain": [
              "(160,)"
            ]
          },
          "metadata": {},
          "execution_count": 9
        }
      ],
      "source": [
        "ag=age1.boneage.unique()\n",
        "ag.shape"
      ]
    },
    {
      "cell_type": "code",
      "execution_count": null,
      "metadata": {
        "id": "JTr3aQlu8aJq"
      },
      "outputs": [],
      "source": [
        "\n",
        "\n",
        "\n",
        "\n",
        "\n",
        "age1.drop(df[(age1['male'] == False)].index, inplace=True)"
      ]
    },
    {
      "cell_type": "code",
      "execution_count": null,
      "metadata": {
        "colab": {
          "base_uri": "https://localhost:8080/",
          "height": 423
        },
        "id": "TWFHhu9I8d5K",
        "outputId": "4bcf2487-8dd9-4439-d8e5-1a4362335c32"
      },
      "outputs": [
        {
          "output_type": "execute_result",
          "data": {
            "text/plain": [
              "          id  boneage  male                                               path\n",
              "3       1380      120  True  /content/drive/MyDrive/boneage-training-datase...\n",
              "5       1382      138  True  /content/drive/MyDrive/boneage-training-datase...\n",
              "6       1383      150  True  /content/drive/MyDrive/boneage-training-datase...\n",
              "7       1384      156  True  /content/drive/MyDrive/boneage-training-datase...\n",
              "8       1385       36  True  /content/drive/MyDrive/boneage-training-datase...\n",
              "...      ...      ...   ...                                                ...\n",
              "12599  15597      192  True  /content/drive/MyDrive/boneage-training-datase...\n",
              "12601  15599       36  True  /content/drive/MyDrive/boneage-training-datase...\n",
              "12605  15604      168  True  /content/drive/MyDrive/boneage-training-datase...\n",
              "12609  15609      150  True  /content/drive/MyDrive/boneage-training-datase...\n",
              "12610  15610      132  True  /content/drive/MyDrive/boneage-training-datase...\n",
              "\n",
              "[6833 rows x 4 columns]"
            ],
            "text/html": [
              "\n",
              "  <div id=\"df-16dcb508-6f20-4751-b208-1f6afca55ad3\">\n",
              "    <div class=\"colab-df-container\">\n",
              "      <div>\n",
              "<style scoped>\n",
              "    .dataframe tbody tr th:only-of-type {\n",
              "        vertical-align: middle;\n",
              "    }\n",
              "\n",
              "    .dataframe tbody tr th {\n",
              "        vertical-align: top;\n",
              "    }\n",
              "\n",
              "    .dataframe thead th {\n",
              "        text-align: right;\n",
              "    }\n",
              "</style>\n",
              "<table border=\"1\" class=\"dataframe\">\n",
              "  <thead>\n",
              "    <tr style=\"text-align: right;\">\n",
              "      <th></th>\n",
              "      <th>id</th>\n",
              "      <th>boneage</th>\n",
              "      <th>male</th>\n",
              "      <th>path</th>\n",
              "    </tr>\n",
              "  </thead>\n",
              "  <tbody>\n",
              "    <tr>\n",
              "      <th>3</th>\n",
              "      <td>1380</td>\n",
              "      <td>120</td>\n",
              "      <td>True</td>\n",
              "      <td>/content/drive/MyDrive/boneage-training-datase...</td>\n",
              "    </tr>\n",
              "    <tr>\n",
              "      <th>5</th>\n",
              "      <td>1382</td>\n",
              "      <td>138</td>\n",
              "      <td>True</td>\n",
              "      <td>/content/drive/MyDrive/boneage-training-datase...</td>\n",
              "    </tr>\n",
              "    <tr>\n",
              "      <th>6</th>\n",
              "      <td>1383</td>\n",
              "      <td>150</td>\n",
              "      <td>True</td>\n",
              "      <td>/content/drive/MyDrive/boneage-training-datase...</td>\n",
              "    </tr>\n",
              "    <tr>\n",
              "      <th>7</th>\n",
              "      <td>1384</td>\n",
              "      <td>156</td>\n",
              "      <td>True</td>\n",
              "      <td>/content/drive/MyDrive/boneage-training-datase...</td>\n",
              "    </tr>\n",
              "    <tr>\n",
              "      <th>8</th>\n",
              "      <td>1385</td>\n",
              "      <td>36</td>\n",
              "      <td>True</td>\n",
              "      <td>/content/drive/MyDrive/boneage-training-datase...</td>\n",
              "    </tr>\n",
              "    <tr>\n",
              "      <th>...</th>\n",
              "      <td>...</td>\n",
              "      <td>...</td>\n",
              "      <td>...</td>\n",
              "      <td>...</td>\n",
              "    </tr>\n",
              "    <tr>\n",
              "      <th>12599</th>\n",
              "      <td>15597</td>\n",
              "      <td>192</td>\n",
              "      <td>True</td>\n",
              "      <td>/content/drive/MyDrive/boneage-training-datase...</td>\n",
              "    </tr>\n",
              "    <tr>\n",
              "      <th>12601</th>\n",
              "      <td>15599</td>\n",
              "      <td>36</td>\n",
              "      <td>True</td>\n",
              "      <td>/content/drive/MyDrive/boneage-training-datase...</td>\n",
              "    </tr>\n",
              "    <tr>\n",
              "      <th>12605</th>\n",
              "      <td>15604</td>\n",
              "      <td>168</td>\n",
              "      <td>True</td>\n",
              "      <td>/content/drive/MyDrive/boneage-training-datase...</td>\n",
              "    </tr>\n",
              "    <tr>\n",
              "      <th>12609</th>\n",
              "      <td>15609</td>\n",
              "      <td>150</td>\n",
              "      <td>True</td>\n",
              "      <td>/content/drive/MyDrive/boneage-training-datase...</td>\n",
              "    </tr>\n",
              "    <tr>\n",
              "      <th>12610</th>\n",
              "      <td>15610</td>\n",
              "      <td>132</td>\n",
              "      <td>True</td>\n",
              "      <td>/content/drive/MyDrive/boneage-training-datase...</td>\n",
              "    </tr>\n",
              "  </tbody>\n",
              "</table>\n",
              "<p>6833 rows × 4 columns</p>\n",
              "</div>\n",
              "      <button class=\"colab-df-convert\" onclick=\"convertToInteractive('df-16dcb508-6f20-4751-b208-1f6afca55ad3')\"\n",
              "              title=\"Convert this dataframe to an interactive table.\"\n",
              "              style=\"display:none;\">\n",
              "        \n",
              "  <svg xmlns=\"http://www.w3.org/2000/svg\" height=\"24px\"viewBox=\"0 0 24 24\"\n",
              "       width=\"24px\">\n",
              "    <path d=\"M0 0h24v24H0V0z\" fill=\"none\"/>\n",
              "    <path d=\"M18.56 5.44l.94 2.06.94-2.06 2.06-.94-2.06-.94-.94-2.06-.94 2.06-2.06.94zm-11 1L8.5 8.5l.94-2.06 2.06-.94-2.06-.94L8.5 2.5l-.94 2.06-2.06.94zm10 10l.94 2.06.94-2.06 2.06-.94-2.06-.94-.94-2.06-.94 2.06-2.06.94z\"/><path d=\"M17.41 7.96l-1.37-1.37c-.4-.4-.92-.59-1.43-.59-.52 0-1.04.2-1.43.59L10.3 9.45l-7.72 7.72c-.78.78-.78 2.05 0 2.83L4 21.41c.39.39.9.59 1.41.59.51 0 1.02-.2 1.41-.59l7.78-7.78 2.81-2.81c.8-.78.8-2.07 0-2.86zM5.41 20L4 18.59l7.72-7.72 1.47 1.35L5.41 20z\"/>\n",
              "  </svg>\n",
              "      </button>\n",
              "      \n",
              "  <style>\n",
              "    .colab-df-container {\n",
              "      display:flex;\n",
              "      flex-wrap:wrap;\n",
              "      gap: 12px;\n",
              "    }\n",
              "\n",
              "    .colab-df-convert {\n",
              "      background-color: #E8F0FE;\n",
              "      border: none;\n",
              "      border-radius: 50%;\n",
              "      cursor: pointer;\n",
              "      display: none;\n",
              "      fill: #1967D2;\n",
              "      height: 32px;\n",
              "      padding: 0 0 0 0;\n",
              "      width: 32px;\n",
              "    }\n",
              "\n",
              "    .colab-df-convert:hover {\n",
              "      background-color: #E2EBFA;\n",
              "      box-shadow: 0px 1px 2px rgba(60, 64, 67, 0.3), 0px 1px 3px 1px rgba(60, 64, 67, 0.15);\n",
              "      fill: #174EA6;\n",
              "    }\n",
              "\n",
              "    [theme=dark] .colab-df-convert {\n",
              "      background-color: #3B4455;\n",
              "      fill: #D2E3FC;\n",
              "    }\n",
              "\n",
              "    [theme=dark] .colab-df-convert:hover {\n",
              "      background-color: #434B5C;\n",
              "      box-shadow: 0px 1px 3px 1px rgba(0, 0, 0, 0.15);\n",
              "      filter: drop-shadow(0px 1px 2px rgba(0, 0, 0, 0.3));\n",
              "      fill: #FFFFFF;\n",
              "    }\n",
              "  </style>\n",
              "\n",
              "      <script>\n",
              "        const buttonEl =\n",
              "          document.querySelector('#df-16dcb508-6f20-4751-b208-1f6afca55ad3 button.colab-df-convert');\n",
              "        buttonEl.style.display =\n",
              "          google.colab.kernel.accessAllowed ? 'block' : 'none';\n",
              "\n",
              "        async function convertToInteractive(key) {\n",
              "          const element = document.querySelector('#df-16dcb508-6f20-4751-b208-1f6afca55ad3');\n",
              "          const dataTable =\n",
              "            await google.colab.kernel.invokeFunction('convertToInteractive',\n",
              "                                                     [key], {});\n",
              "          if (!dataTable) return;\n",
              "\n",
              "          const docLinkHtml = 'Like what you see? Visit the ' +\n",
              "            '<a target=\"_blank\" href=https://colab.research.google.com/notebooks/data_table.ipynb>data table notebook</a>'\n",
              "            + ' to learn more about interactive tables.';\n",
              "          element.innerHTML = '';\n",
              "          dataTable['output_type'] = 'display_data';\n",
              "          await google.colab.output.renderOutput(dataTable, element);\n",
              "          const docLink = document.createElement('div');\n",
              "          docLink.innerHTML = docLinkHtml;\n",
              "          element.appendChild(docLink);\n",
              "        }\n",
              "      </script>\n",
              "    </div>\n",
              "  </div>\n",
              "  "
            ]
          },
          "metadata": {},
          "execution_count": 11
        }
      ],
      "source": [
        "age1"
      ]
    },
    {
      "cell_type": "code",
      "execution_count": null,
      "metadata": {
        "colab": {
          "base_uri": "https://localhost:8080/"
        },
        "id": "K_NKe5Kw8p0B",
        "outputId": "749e1082-5e23-451a-a76f-c8a421ad6d04"
      },
      "outputs": [
        {
          "output_type": "execute_result",
          "data": {
            "text/plain": [
              "(131,)"
            ]
          },
          "metadata": {},
          "execution_count": 12
        }
      ],
      "source": [
        "ag=age1.boneage.unique()\n",
        "ag.shape"
      ]
    },
    {
      "cell_type": "code",
      "execution_count": null,
      "metadata": {
        "colab": {
          "base_uri": "https://localhost:8080/"
        },
        "id": "g_H1blDn8rZJ",
        "outputId": "fb1ccc68-9f42-4fe5-ceef-a94f197e41bc"
      },
      "outputs": [
        {
          "output_type": "execute_result",
          "data": {
            "text/plain": [
              "168    738\n",
              "156    725\n",
              "150    595\n",
              "162    491\n",
              "138    428\n",
              "      ... \n",
              "133      1\n",
              "33       1\n",
              "14       1\n",
              "130      1\n",
              "81       1\n",
              "Name: boneage, Length: 131, dtype: int64"
            ]
          },
          "metadata": {},
          "execution_count": 13
        }
      ],
      "source": [
        "age1['boneage'].value_counts()"
      ]
    },
    {
      "cell_type": "code",
      "execution_count": null,
      "metadata": {
        "id": "xS4ttx4698WR"
      },
      "outputs": [],
      "source": [
        "points=age1.boneage.unique()"
      ]
    },
    {
      "cell_type": "code",
      "execution_count": null,
      "metadata": {
        "colab": {
          "base_uri": "https://localhost:8080/"
        },
        "id": "TczCKLG_-JAL",
        "outputId": "63332aa8-f67c-4c86-c267-dd3633667713"
      },
      "outputs": [
        {
          "output_type": "stream",
          "name": "stdout",
          "text": [
            "(131,)\n"
          ]
        },
        {
          "output_type": "execute_result",
          "data": {
            "text/plain": [
              "array([120, 138, 150, 156,  36, 180,  57, 126, 149,  78, 162,  88,  32,\n",
              "        54, 174,  33, 170, 108, 165,  60,  42,  21, 132,  90, 192,  84,\n",
              "        96, 216, 100,  72,  48, 139,  24,  69, 186,  13, 135, 146, 189,\n",
              "        12,  27, 144,  51, 102, 134, 168,  64, 129, 147,  14,  45,  28,\n",
              "       128, 210, 222,  66, 198, 200, 104,  80,   9, 114, 112, 204, 159,\n",
              "       154,  58,  67, 116, 101, 124,  56, 130, 158, 136, 228,  38, 164,\n",
              "       137,  15, 172,  18, 184, 143,  76, 169, 121, 214, 115,  75,  17,\n",
              "        34, 106, 151, 194, 177,  81, 105, 183, 152, 125, 176, 133, 153,\n",
              "        82, 141, 173, 196, 160, 118,  20,  62, 212,   1,  10,  63, 163,\n",
              "        87,  52, 182, 142, 179,  16,  93,  39,  40, 206,  37,  30, 161,\n",
              "        94])"
            ]
          },
          "metadata": {},
          "execution_count": 15
        }
      ],
      "source": [
        "\n",
        "print(points.shape)\n",
        "points"
      ]
    },
    {
      "cell_type": "code",
      "execution_count": null,
      "metadata": {
        "id": "srj5kAzZ838S"
      },
      "outputs": [],
      "source": [
        "import numpy as np\n",
        "point=[]\n",
        "for i in range (131):\n",
        "  if((age1['boneage'].value_counts()[points[i]])<3):\n",
        "    point.append(points[i])\n",
        "  #print(df['boneage'].value_counts()[points[i]])\n",
        "point=np.asarray(point)"
      ]
    },
    {
      "cell_type": "code",
      "execution_count": null,
      "metadata": {
        "colab": {
          "base_uri": "https://localhost:8080/"
        },
        "id": "q0jfheL8-jEf",
        "outputId": "af99030b-77ec-4ec1-fd1c-9ebf14543c7a"
      },
      "outputs": [
        {
          "output_type": "stream",
          "name": "stdout",
          "text": [
            "(63,)\n"
          ]
        },
        {
          "output_type": "execute_result",
          "data": {
            "text/plain": [
              "array([149,  88,  33, 139,  13,  64, 129,  14, 128, 222, 200, 104,  80,\n",
              "       112,  67, 116, 101,  56, 130, 136,  38, 137, 172, 143,  76, 169,\n",
              "       121, 214, 115,  17, 151, 194, 177,  81, 105, 152, 125, 133, 141,\n",
              "       173, 196, 160, 118,  20,  62, 212,   1,  10,  63, 163,  87,  52,\n",
              "       182, 142, 179,  16,  93,  40, 206,  37,  30, 161,  94])"
            ]
          },
          "metadata": {},
          "execution_count": 17
        }
      ],
      "source": [
        "\n",
        "print(point.shape)\n",
        "point"
      ]
    },
    {
      "cell_type": "code",
      "execution_count": null,
      "metadata": {
        "id": "v2B59jo9-uhH"
      },
      "outputs": [],
      "source": [
        "for t in range(3):\n",
        "  for i in range(63):\n",
        "    x=df.id[df.boneage == point[i]].tolist()[0]\n",
        "    y=df.boneage[df.boneage == point[i]].tolist()[0]\n",
        "    m=df.male[df.boneage == point[i]].tolist()[0]\n",
        "    z=df.path[df.boneage== point[i]].tolist()[0]\n",
        "    #y=df['boneage']\n",
        "    #m=df['male']\n",
        "    new_row = {'id': x, 'boneage':y, 'male':m , 'path':z}\n",
        "    age1 = age1.append(new_row, ignore_index=True)"
      ]
    },
    {
      "cell_type": "code",
      "execution_count": null,
      "metadata": {
        "colab": {
          "base_uri": "https://localhost:8080/",
          "height": 423
        },
        "id": "BVu3WWAW_JE5",
        "outputId": "1f3e1b36-4119-4158-e585-aef48e1b73f4"
      },
      "outputs": [
        {
          "output_type": "execute_result",
          "data": {
            "text/plain": [
              "         id  boneage  male                                               path\n",
              "0      1380      120  True  /content/drive/MyDrive/boneage-training-datase...\n",
              "1      1382      138  True  /content/drive/MyDrive/boneage-training-datase...\n",
              "2      1383      150  True  /content/drive/MyDrive/boneage-training-datase...\n",
              "3      1384      156  True  /content/drive/MyDrive/boneage-training-datase...\n",
              "4      1385       36  True  /content/drive/MyDrive/boneage-training-datase...\n",
              "...     ...      ...   ...                                                ...\n",
              "7017  10474      206  True  /content/drive/MyDrive/boneage-training-datase...\n",
              "7018  11355       37  True  /content/drive/MyDrive/boneage-training-datase...\n",
              "7019  12027       30  True  /content/drive/MyDrive/boneage-training-datase...\n",
              "7020  12566      161  True  /content/drive/MyDrive/boneage-training-datase...\n",
              "7021  12920       94  True  /content/drive/MyDrive/boneage-training-datase...\n",
              "\n",
              "[7022 rows x 4 columns]"
            ],
            "text/html": [
              "\n",
              "  <div id=\"df-4f4dccbe-27ed-467a-ac28-b729935622ed\">\n",
              "    <div class=\"colab-df-container\">\n",
              "      <div>\n",
              "<style scoped>\n",
              "    .dataframe tbody tr th:only-of-type {\n",
              "        vertical-align: middle;\n",
              "    }\n",
              "\n",
              "    .dataframe tbody tr th {\n",
              "        vertical-align: top;\n",
              "    }\n",
              "\n",
              "    .dataframe thead th {\n",
              "        text-align: right;\n",
              "    }\n",
              "</style>\n",
              "<table border=\"1\" class=\"dataframe\">\n",
              "  <thead>\n",
              "    <tr style=\"text-align: right;\">\n",
              "      <th></th>\n",
              "      <th>id</th>\n",
              "      <th>boneage</th>\n",
              "      <th>male</th>\n",
              "      <th>path</th>\n",
              "    </tr>\n",
              "  </thead>\n",
              "  <tbody>\n",
              "    <tr>\n",
              "      <th>0</th>\n",
              "      <td>1380</td>\n",
              "      <td>120</td>\n",
              "      <td>True</td>\n",
              "      <td>/content/drive/MyDrive/boneage-training-datase...</td>\n",
              "    </tr>\n",
              "    <tr>\n",
              "      <th>1</th>\n",
              "      <td>1382</td>\n",
              "      <td>138</td>\n",
              "      <td>True</td>\n",
              "      <td>/content/drive/MyDrive/boneage-training-datase...</td>\n",
              "    </tr>\n",
              "    <tr>\n",
              "      <th>2</th>\n",
              "      <td>1383</td>\n",
              "      <td>150</td>\n",
              "      <td>True</td>\n",
              "      <td>/content/drive/MyDrive/boneage-training-datase...</td>\n",
              "    </tr>\n",
              "    <tr>\n",
              "      <th>3</th>\n",
              "      <td>1384</td>\n",
              "      <td>156</td>\n",
              "      <td>True</td>\n",
              "      <td>/content/drive/MyDrive/boneage-training-datase...</td>\n",
              "    </tr>\n",
              "    <tr>\n",
              "      <th>4</th>\n",
              "      <td>1385</td>\n",
              "      <td>36</td>\n",
              "      <td>True</td>\n",
              "      <td>/content/drive/MyDrive/boneage-training-datase...</td>\n",
              "    </tr>\n",
              "    <tr>\n",
              "      <th>...</th>\n",
              "      <td>...</td>\n",
              "      <td>...</td>\n",
              "      <td>...</td>\n",
              "      <td>...</td>\n",
              "    </tr>\n",
              "    <tr>\n",
              "      <th>7017</th>\n",
              "      <td>10474</td>\n",
              "      <td>206</td>\n",
              "      <td>True</td>\n",
              "      <td>/content/drive/MyDrive/boneage-training-datase...</td>\n",
              "    </tr>\n",
              "    <tr>\n",
              "      <th>7018</th>\n",
              "      <td>11355</td>\n",
              "      <td>37</td>\n",
              "      <td>True</td>\n",
              "      <td>/content/drive/MyDrive/boneage-training-datase...</td>\n",
              "    </tr>\n",
              "    <tr>\n",
              "      <th>7019</th>\n",
              "      <td>12027</td>\n",
              "      <td>30</td>\n",
              "      <td>True</td>\n",
              "      <td>/content/drive/MyDrive/boneage-training-datase...</td>\n",
              "    </tr>\n",
              "    <tr>\n",
              "      <th>7020</th>\n",
              "      <td>12566</td>\n",
              "      <td>161</td>\n",
              "      <td>True</td>\n",
              "      <td>/content/drive/MyDrive/boneage-training-datase...</td>\n",
              "    </tr>\n",
              "    <tr>\n",
              "      <th>7021</th>\n",
              "      <td>12920</td>\n",
              "      <td>94</td>\n",
              "      <td>True</td>\n",
              "      <td>/content/drive/MyDrive/boneage-training-datase...</td>\n",
              "    </tr>\n",
              "  </tbody>\n",
              "</table>\n",
              "<p>7022 rows × 4 columns</p>\n",
              "</div>\n",
              "      <button class=\"colab-df-convert\" onclick=\"convertToInteractive('df-4f4dccbe-27ed-467a-ac28-b729935622ed')\"\n",
              "              title=\"Convert this dataframe to an interactive table.\"\n",
              "              style=\"display:none;\">\n",
              "        \n",
              "  <svg xmlns=\"http://www.w3.org/2000/svg\" height=\"24px\"viewBox=\"0 0 24 24\"\n",
              "       width=\"24px\">\n",
              "    <path d=\"M0 0h24v24H0V0z\" fill=\"none\"/>\n",
              "    <path d=\"M18.56 5.44l.94 2.06.94-2.06 2.06-.94-2.06-.94-.94-2.06-.94 2.06-2.06.94zm-11 1L8.5 8.5l.94-2.06 2.06-.94-2.06-.94L8.5 2.5l-.94 2.06-2.06.94zm10 10l.94 2.06.94-2.06 2.06-.94-2.06-.94-.94-2.06-.94 2.06-2.06.94z\"/><path d=\"M17.41 7.96l-1.37-1.37c-.4-.4-.92-.59-1.43-.59-.52 0-1.04.2-1.43.59L10.3 9.45l-7.72 7.72c-.78.78-.78 2.05 0 2.83L4 21.41c.39.39.9.59 1.41.59.51 0 1.02-.2 1.41-.59l7.78-7.78 2.81-2.81c.8-.78.8-2.07 0-2.86zM5.41 20L4 18.59l7.72-7.72 1.47 1.35L5.41 20z\"/>\n",
              "  </svg>\n",
              "      </button>\n",
              "      \n",
              "  <style>\n",
              "    .colab-df-container {\n",
              "      display:flex;\n",
              "      flex-wrap:wrap;\n",
              "      gap: 12px;\n",
              "    }\n",
              "\n",
              "    .colab-df-convert {\n",
              "      background-color: #E8F0FE;\n",
              "      border: none;\n",
              "      border-radius: 50%;\n",
              "      cursor: pointer;\n",
              "      display: none;\n",
              "      fill: #1967D2;\n",
              "      height: 32px;\n",
              "      padding: 0 0 0 0;\n",
              "      width: 32px;\n",
              "    }\n",
              "\n",
              "    .colab-df-convert:hover {\n",
              "      background-color: #E2EBFA;\n",
              "      box-shadow: 0px 1px 2px rgba(60, 64, 67, 0.3), 0px 1px 3px 1px rgba(60, 64, 67, 0.15);\n",
              "      fill: #174EA6;\n",
              "    }\n",
              "\n",
              "    [theme=dark] .colab-df-convert {\n",
              "      background-color: #3B4455;\n",
              "      fill: #D2E3FC;\n",
              "    }\n",
              "\n",
              "    [theme=dark] .colab-df-convert:hover {\n",
              "      background-color: #434B5C;\n",
              "      box-shadow: 0px 1px 3px 1px rgba(0, 0, 0, 0.15);\n",
              "      filter: drop-shadow(0px 1px 2px rgba(0, 0, 0, 0.3));\n",
              "      fill: #FFFFFF;\n",
              "    }\n",
              "  </style>\n",
              "\n",
              "      <script>\n",
              "        const buttonEl =\n",
              "          document.querySelector('#df-4f4dccbe-27ed-467a-ac28-b729935622ed button.colab-df-convert');\n",
              "        buttonEl.style.display =\n",
              "          google.colab.kernel.accessAllowed ? 'block' : 'none';\n",
              "\n",
              "        async function convertToInteractive(key) {\n",
              "          const element = document.querySelector('#df-4f4dccbe-27ed-467a-ac28-b729935622ed');\n",
              "          const dataTable =\n",
              "            await google.colab.kernel.invokeFunction('convertToInteractive',\n",
              "                                                     [key], {});\n",
              "          if (!dataTable) return;\n",
              "\n",
              "          const docLinkHtml = 'Like what you see? Visit the ' +\n",
              "            '<a target=\"_blank\" href=https://colab.research.google.com/notebooks/data_table.ipynb>data table notebook</a>'\n",
              "            + ' to learn more about interactive tables.';\n",
              "          element.innerHTML = '';\n",
              "          dataTable['output_type'] = 'display_data';\n",
              "          await google.colab.output.renderOutput(dataTable, element);\n",
              "          const docLink = document.createElement('div');\n",
              "          docLink.innerHTML = docLinkHtml;\n",
              "          element.appendChild(docLink);\n",
              "        }\n",
              "      </script>\n",
              "    </div>\n",
              "  </div>\n",
              "  "
            ]
          },
          "metadata": {},
          "execution_count": 19
        }
      ],
      "source": [
        "\n",
        "age1"
      ]
    },
    {
      "cell_type": "code",
      "execution_count": null,
      "metadata": {
        "colab": {
          "base_uri": "https://localhost:8080/"
        },
        "id": "78T4_RIVgahz",
        "outputId": "42cbcb50-64d1-4575-ca45-431b603a6bce"
      },
      "outputs": [
        {
          "output_type": "stream",
          "name": "stdout",
          "text": [
            "train 4476 validation 1054 1492\n"
          ]
        }
      ],
      "source": [
        "from sklearn.model_selection import train_test_split\n",
        "train_test1, valid1 = train_test_split(age1, \n",
        "                                   test_size = 0.15, \n",
        "                                   random_state = 2018,\n",
        "                                   stratify = age1['boneage'])\n",
        "#print('train', raw_train_df.shape[0], 'validation', valid_df.shape[0])\n",
        "train1, test1 = train_test_split(train_test1, \n",
        "                                   test_size = 0.25, \n",
        "                                   random_state = 2018,\n",
        "                                   stratify = train_test1['boneage'])\n",
        "print('train', train1.shape[0], 'validation', valid1.shape[0],test1.shape[0])"
      ]
    },
    {
      "cell_type": "code",
      "execution_count": null,
      "metadata": {
        "id": "rgXaGEEShK2u"
      },
      "outputs": [],
      "source": [
        "from keras.preprocessing.image import ImageDataGenerator\n",
        "IMG_SIZE = (256,256)\n",
        "core_idg = ImageDataGenerator(rotation_range=20,width_shift_range=0.15,height_shift_range=0.15,zoom_range=0.2,horizontal_flip=True)"
      ]
    },
    {
      "cell_type": "code",
      "execution_count": null,
      "metadata": {
        "id": "fBvY-nRZ9fUy"
      },
      "outputs": [],
      "source": [
        "#from keras.preprocessing.image import ImageDataGenerator\n",
        "#IMG_SIZE = (500,500)\n",
        "#core_idg = ImageDataGenerator(rotation_range=20,width_shift_range=0.15,height_shift_range=0.15,zoom_range=0.2,horizontal_flip=True)"
      ]
    },
    {
      "cell_type": "code",
      "execution_count": null,
      "metadata": {
        "id": "it_INY2thRLt"
      },
      "outputs": [],
      "source": [
        "def flow_from_dataframe(img_data_gen, in_df, path_col, y_col, **dflow_args):\n",
        "    base_dir = os.path.dirname(in_df[path_col].values[0])\n",
        "    print('## Ignore next message from keras, values are replaced anyways')\n",
        "    df_gen = img_data_gen.flow_from_directory(base_dir, \n",
        "                                     class_mode = 'sparse',\n",
        "                                    **dflow_args)\n",
        "    df_gen.filenames = in_df[path_col].values\n",
        "    df_gen.filepaths.extend(df_gen.filenames)\n",
        "    df_gen.classes = np.stack(in_df[y_col].values)\n",
        "    df_gen.samples = in_df.shape[0]\n",
        "    df_gen.n = in_df.shape[0]\n",
        "    df_gen._set_index_array()\n",
        "    df_gen.directory = '' \n",
        "    gen=np.ones(df_gen.samples)\n",
        "    print('Reinserting dataframe: {} images'.format(in_df.shape[0]))\n",
        "    #print(df_gen.samples)\n",
        "    #yield (df_gen,gen)\n",
        "    return df_gen"
      ]
    },
    {
      "cell_type": "code",
      "execution_count": null,
      "metadata": {
        "colab": {
          "base_uri": "https://localhost:8080/"
        },
        "id": "u7pfG4-FhYU3",
        "outputId": "8854f054-af04-40d7-eff8-ccc52d2e7825"
      },
      "outputs": [
        {
          "output_type": "stream",
          "name": "stdout",
          "text": [
            "## Ignore next message from keras, values are replaced anyways\n",
            "Found 0 images belonging to 0 classes.\n",
            "Reinserting dataframe: 4476 images\n"
          ]
        }
      ],
      "source": [
        "train1_gen = flow_from_dataframe( core_idg, train1, \n",
        "                             path_col = 'path',\n",
        "                            y_col = 'boneage', \n",
        "                            target_size = IMG_SIZE,\n",
        "                             color_mode = 'rgb',\n",
        "                            batch_size = 4476)"
      ]
    },
    {
      "cell_type": "code",
      "execution_count": null,
      "metadata": {
        "colab": {
          "base_uri": "https://localhost:8080/"
        },
        "id": "IGccOe-qhird",
        "outputId": "4aaf5b45-b9a4-45c7-fd12-4c68445ddef4"
      },
      "outputs": [
        {
          "output_type": "stream",
          "name": "stdout",
          "text": [
            "## Ignore next message from keras, values are replaced anyways\n",
            "Found 0 images belonging to 0 classes.\n",
            "Reinserting dataframe: 1054 images\n"
          ]
        }
      ],
      "source": [
        "valid1_gen = flow_from_dataframe(core_idg, valid1, \n",
        "                             path_col = 'path',\n",
        "                            y_col = 'boneage', \n",
        "                            target_size = IMG_SIZE,\n",
        "                             color_mode = 'rgb',\n",
        "                            batch_size = 1054) "
      ]
    },
    {
      "cell_type": "code",
      "execution_count": null,
      "metadata": {
        "id": "bqb6-OqtLFHz"
      },
      "outputs": [],
      "source": [
        "\n",
        "testcore_idg = ImageDataGenerator(rotation_range=20,width_shift_range=0.15,height_shift_range=0.15,zoom_range=0.2,horizontal_flip=True)"
      ]
    },
    {
      "cell_type": "code",
      "execution_count": null,
      "metadata": {
        "colab": {
          "base_uri": "https://localhost:8080/"
        },
        "id": "fnPAVjuXLFHz",
        "outputId": "51ac38fe-f533-4abc-91cc-ae151aec7193"
      },
      "outputs": [
        {
          "output_type": "stream",
          "name": "stdout",
          "text": [
            "## Ignore next message from keras, values are replaced anyways\n",
            "Found 0 images belonging to 0 classes.\n",
            "Reinserting dataframe: 1492 images\n"
          ]
        }
      ],
      "source": [
        "test1_gen = flow_from_dataframe(testcore_idg, \n",
        "                              test1, \n",
        "                             path_col = 'path',\n",
        "                            y_col = 'boneage', \n",
        "                            target_size = IMG_SIZE,\n",
        "                             color_mode = 'rgb',\n",
        "                            batch_size = 1492)"
      ]
    },
    {
      "cell_type": "code",
      "execution_count": null,
      "metadata": {
        "id": "TGRGhrMlhSNa"
      },
      "outputs": [],
      "source": [
        "train1_X, train1_Y = next(train1_gen)"
      ]
    },
    {
      "cell_type": "code",
      "execution_count": null,
      "metadata": {
        "colab": {
          "base_uri": "https://localhost:8080/"
        },
        "id": "ZwAUKKc8kbFw",
        "outputId": "87472c38-e434-4eff-9012-ecf9ef138931"
      },
      "outputs": [
        {
          "output_type": "execute_result",
          "data": {
            "text/plain": [
              "(4476, 256, 256, 3)"
            ]
          },
          "metadata": {},
          "execution_count": 29
        }
      ],
      "source": [
        "train1_X.shape"
      ]
    },
    {
      "cell_type": "code",
      "execution_count": null,
      "metadata": {
        "id": "KxRK-aGYk3Gz"
      },
      "outputs": [],
      "source": [
        "valid1_X, valid1_Y = next(valid1_gen)"
      ]
    },
    {
      "cell_type": "code",
      "execution_count": null,
      "metadata": {
        "id": "YrzIkZL_k4OT",
        "colab": {
          "base_uri": "https://localhost:8080/"
        },
        "outputId": "e1119edd-4004-4d99-e110-5a5a4a5f7dfa"
      },
      "outputs": [
        {
          "output_type": "execute_result",
          "data": {
            "text/plain": [
              "(1054, 256, 256, 3)"
            ]
          },
          "metadata": {},
          "execution_count": 31
        }
      ],
      "source": [
        "valid1_X.shape"
      ]
    },
    {
      "cell_type": "code",
      "execution_count": null,
      "metadata": {
        "id": "fcr4PLs1lDer"
      },
      "outputs": [],
      "source": [
        "test1_X, test1_Y = next(test1_gen)"
      ]
    },
    {
      "cell_type": "code",
      "execution_count": null,
      "metadata": {
        "colab": {
          "base_uri": "https://localhost:8080/"
        },
        "id": "REnaZedJlatT",
        "outputId": "dc17d3d0-d7c8-470f-ea8a-d178dead6d15"
      },
      "outputs": [
        {
          "output_type": "execute_result",
          "data": {
            "text/plain": [
              "(1492, 256, 256, 3)"
            ]
          },
          "metadata": {},
          "execution_count": 33
        }
      ],
      "source": [
        "\n",
        "test1_X.shape"
      ]
    },
    {
      "cell_type": "code",
      "execution_count": null,
      "metadata": {
        "id": "h4ZPp2fG_f6U"
      },
      "outputs": [],
      "source": [
        "import pandas as pd\n",
        "train_dir = '/content/drive/MyDrive/boneage-training-dataset'\n",
        "df = pd.read_csv('/content/drive/MyDrive/boneage-training-dataset.csv')"
      ]
    },
    {
      "cell_type": "code",
      "execution_count": null,
      "metadata": {
        "id": "8SPN47Vl_f6X"
      },
      "outputs": [],
      "source": [
        "import os\n",
        "age_df = df \n",
        "age_df['path'] = age_df['id'].map(lambda x: os.path.join(train_dir,\n",
        "                                                         '{}.png'.format(x)))\n",
        "age_df['exists'] = age_df['path'].map(os.path.exists)"
      ]
    },
    {
      "cell_type": "code",
      "execution_count": null,
      "metadata": {
        "id": "L2n5Bpp8_f6Y"
      },
      "outputs": [],
      "source": [
        "age0=age_df"
      ]
    },
    {
      "cell_type": "code",
      "execution_count": null,
      "metadata": {
        "colab": {
          "base_uri": "https://localhost:8080/",
          "height": 423
        },
        "id": "eJkaXEGR_f6Y",
        "outputId": "a726487d-1a3d-4664-f681-6e9b8ab3e93f"
      },
      "outputs": [
        {
          "output_type": "execute_result",
          "data": {
            "text/plain": [
              "          id  boneage   male  \\\n",
              "0       1377      180  False   \n",
              "1       1378       12  False   \n",
              "2       1379       94  False   \n",
              "3       1380      120   True   \n",
              "4       1381       82  False   \n",
              "...      ...      ...    ...   \n",
              "12606  15605       50  False   \n",
              "12607  15606      113  False   \n",
              "12608  15608       55  False   \n",
              "12609  15609      150   True   \n",
              "12610  15610      132   True   \n",
              "\n",
              "                                                    path  exists  \n",
              "0      /content/drive/MyDrive/boneage-training-datase...    True  \n",
              "1      /content/drive/MyDrive/boneage-training-datase...    True  \n",
              "2      /content/drive/MyDrive/boneage-training-datase...    True  \n",
              "3      /content/drive/MyDrive/boneage-training-datase...    True  \n",
              "4      /content/drive/MyDrive/boneage-training-datase...    True  \n",
              "...                                                  ...     ...  \n",
              "12606  /content/drive/MyDrive/boneage-training-datase...    True  \n",
              "12607  /content/drive/MyDrive/boneage-training-datase...    True  \n",
              "12608  /content/drive/MyDrive/boneage-training-datase...    True  \n",
              "12609  /content/drive/MyDrive/boneage-training-datase...    True  \n",
              "12610  /content/drive/MyDrive/boneage-training-datase...    True  \n",
              "\n",
              "[12611 rows x 5 columns]"
            ],
            "text/html": [
              "\n",
              "  <div id=\"df-28137a88-3813-401c-8d8a-d142c3984440\">\n",
              "    <div class=\"colab-df-container\">\n",
              "      <div>\n",
              "<style scoped>\n",
              "    .dataframe tbody tr th:only-of-type {\n",
              "        vertical-align: middle;\n",
              "    }\n",
              "\n",
              "    .dataframe tbody tr th {\n",
              "        vertical-align: top;\n",
              "    }\n",
              "\n",
              "    .dataframe thead th {\n",
              "        text-align: right;\n",
              "    }\n",
              "</style>\n",
              "<table border=\"1\" class=\"dataframe\">\n",
              "  <thead>\n",
              "    <tr style=\"text-align: right;\">\n",
              "      <th></th>\n",
              "      <th>id</th>\n",
              "      <th>boneage</th>\n",
              "      <th>male</th>\n",
              "      <th>path</th>\n",
              "      <th>exists</th>\n",
              "    </tr>\n",
              "  </thead>\n",
              "  <tbody>\n",
              "    <tr>\n",
              "      <th>0</th>\n",
              "      <td>1377</td>\n",
              "      <td>180</td>\n",
              "      <td>False</td>\n",
              "      <td>/content/drive/MyDrive/boneage-training-datase...</td>\n",
              "      <td>True</td>\n",
              "    </tr>\n",
              "    <tr>\n",
              "      <th>1</th>\n",
              "      <td>1378</td>\n",
              "      <td>12</td>\n",
              "      <td>False</td>\n",
              "      <td>/content/drive/MyDrive/boneage-training-datase...</td>\n",
              "      <td>True</td>\n",
              "    </tr>\n",
              "    <tr>\n",
              "      <th>2</th>\n",
              "      <td>1379</td>\n",
              "      <td>94</td>\n",
              "      <td>False</td>\n",
              "      <td>/content/drive/MyDrive/boneage-training-datase...</td>\n",
              "      <td>True</td>\n",
              "    </tr>\n",
              "    <tr>\n",
              "      <th>3</th>\n",
              "      <td>1380</td>\n",
              "      <td>120</td>\n",
              "      <td>True</td>\n",
              "      <td>/content/drive/MyDrive/boneage-training-datase...</td>\n",
              "      <td>True</td>\n",
              "    </tr>\n",
              "    <tr>\n",
              "      <th>4</th>\n",
              "      <td>1381</td>\n",
              "      <td>82</td>\n",
              "      <td>False</td>\n",
              "      <td>/content/drive/MyDrive/boneage-training-datase...</td>\n",
              "      <td>True</td>\n",
              "    </tr>\n",
              "    <tr>\n",
              "      <th>...</th>\n",
              "      <td>...</td>\n",
              "      <td>...</td>\n",
              "      <td>...</td>\n",
              "      <td>...</td>\n",
              "      <td>...</td>\n",
              "    </tr>\n",
              "    <tr>\n",
              "      <th>12606</th>\n",
              "      <td>15605</td>\n",
              "      <td>50</td>\n",
              "      <td>False</td>\n",
              "      <td>/content/drive/MyDrive/boneage-training-datase...</td>\n",
              "      <td>True</td>\n",
              "    </tr>\n",
              "    <tr>\n",
              "      <th>12607</th>\n",
              "      <td>15606</td>\n",
              "      <td>113</td>\n",
              "      <td>False</td>\n",
              "      <td>/content/drive/MyDrive/boneage-training-datase...</td>\n",
              "      <td>True</td>\n",
              "    </tr>\n",
              "    <tr>\n",
              "      <th>12608</th>\n",
              "      <td>15608</td>\n",
              "      <td>55</td>\n",
              "      <td>False</td>\n",
              "      <td>/content/drive/MyDrive/boneage-training-datase...</td>\n",
              "      <td>True</td>\n",
              "    </tr>\n",
              "    <tr>\n",
              "      <th>12609</th>\n",
              "      <td>15609</td>\n",
              "      <td>150</td>\n",
              "      <td>True</td>\n",
              "      <td>/content/drive/MyDrive/boneage-training-datase...</td>\n",
              "      <td>True</td>\n",
              "    </tr>\n",
              "    <tr>\n",
              "      <th>12610</th>\n",
              "      <td>15610</td>\n",
              "      <td>132</td>\n",
              "      <td>True</td>\n",
              "      <td>/content/drive/MyDrive/boneage-training-datase...</td>\n",
              "      <td>True</td>\n",
              "    </tr>\n",
              "  </tbody>\n",
              "</table>\n",
              "<p>12611 rows × 5 columns</p>\n",
              "</div>\n",
              "      <button class=\"colab-df-convert\" onclick=\"convertToInteractive('df-28137a88-3813-401c-8d8a-d142c3984440')\"\n",
              "              title=\"Convert this dataframe to an interactive table.\"\n",
              "              style=\"display:none;\">\n",
              "        \n",
              "  <svg xmlns=\"http://www.w3.org/2000/svg\" height=\"24px\"viewBox=\"0 0 24 24\"\n",
              "       width=\"24px\">\n",
              "    <path d=\"M0 0h24v24H0V0z\" fill=\"none\"/>\n",
              "    <path d=\"M18.56 5.44l.94 2.06.94-2.06 2.06-.94-2.06-.94-.94-2.06-.94 2.06-2.06.94zm-11 1L8.5 8.5l.94-2.06 2.06-.94-2.06-.94L8.5 2.5l-.94 2.06-2.06.94zm10 10l.94 2.06.94-2.06 2.06-.94-2.06-.94-.94-2.06-.94 2.06-2.06.94z\"/><path d=\"M17.41 7.96l-1.37-1.37c-.4-.4-.92-.59-1.43-.59-.52 0-1.04.2-1.43.59L10.3 9.45l-7.72 7.72c-.78.78-.78 2.05 0 2.83L4 21.41c.39.39.9.59 1.41.59.51 0 1.02-.2 1.41-.59l7.78-7.78 2.81-2.81c.8-.78.8-2.07 0-2.86zM5.41 20L4 18.59l7.72-7.72 1.47 1.35L5.41 20z\"/>\n",
              "  </svg>\n",
              "      </button>\n",
              "      \n",
              "  <style>\n",
              "    .colab-df-container {\n",
              "      display:flex;\n",
              "      flex-wrap:wrap;\n",
              "      gap: 12px;\n",
              "    }\n",
              "\n",
              "    .colab-df-convert {\n",
              "      background-color: #E8F0FE;\n",
              "      border: none;\n",
              "      border-radius: 50%;\n",
              "      cursor: pointer;\n",
              "      display: none;\n",
              "      fill: #1967D2;\n",
              "      height: 32px;\n",
              "      padding: 0 0 0 0;\n",
              "      width: 32px;\n",
              "    }\n",
              "\n",
              "    .colab-df-convert:hover {\n",
              "      background-color: #E2EBFA;\n",
              "      box-shadow: 0px 1px 2px rgba(60, 64, 67, 0.3), 0px 1px 3px 1px rgba(60, 64, 67, 0.15);\n",
              "      fill: #174EA6;\n",
              "    }\n",
              "\n",
              "    [theme=dark] .colab-df-convert {\n",
              "      background-color: #3B4455;\n",
              "      fill: #D2E3FC;\n",
              "    }\n",
              "\n",
              "    [theme=dark] .colab-df-convert:hover {\n",
              "      background-color: #434B5C;\n",
              "      box-shadow: 0px 1px 3px 1px rgba(0, 0, 0, 0.15);\n",
              "      filter: drop-shadow(0px 1px 2px rgba(0, 0, 0, 0.3));\n",
              "      fill: #FFFFFF;\n",
              "    }\n",
              "  </style>\n",
              "\n",
              "      <script>\n",
              "        const buttonEl =\n",
              "          document.querySelector('#df-28137a88-3813-401c-8d8a-d142c3984440 button.colab-df-convert');\n",
              "        buttonEl.style.display =\n",
              "          google.colab.kernel.accessAllowed ? 'block' : 'none';\n",
              "\n",
              "        async function convertToInteractive(key) {\n",
              "          const element = document.querySelector('#df-28137a88-3813-401c-8d8a-d142c3984440');\n",
              "          const dataTable =\n",
              "            await google.colab.kernel.invokeFunction('convertToInteractive',\n",
              "                                                     [key], {});\n",
              "          if (!dataTable) return;\n",
              "\n",
              "          const docLinkHtml = 'Like what you see? Visit the ' +\n",
              "            '<a target=\"_blank\" href=https://colab.research.google.com/notebooks/data_table.ipynb>data table notebook</a>'\n",
              "            + ' to learn more about interactive tables.';\n",
              "          element.innerHTML = '';\n",
              "          dataTable['output_type'] = 'display_data';\n",
              "          await google.colab.output.renderOutput(dataTable, element);\n",
              "          const docLink = document.createElement('div');\n",
              "          docLink.innerHTML = docLinkHtml;\n",
              "          element.appendChild(docLink);\n",
              "        }\n",
              "      </script>\n",
              "    </div>\n",
              "  </div>\n",
              "  "
            ]
          },
          "metadata": {},
          "execution_count": 37
        }
      ],
      "source": [
        "age0"
      ]
    },
    {
      "cell_type": "code",
      "execution_count": null,
      "metadata": {
        "colab": {
          "base_uri": "https://localhost:8080/"
        },
        "id": "jZmYFjRo_f6Z",
        "outputId": "fb582ce9-9fc4-4e23-88a0-d2c2bed7f907"
      },
      "outputs": [
        {
          "output_type": "execute_result",
          "data": {
            "text/plain": [
              "(160,)"
            ]
          },
          "metadata": {},
          "execution_count": 38
        }
      ],
      "source": [
        "ag=age0.boneage.unique()\n",
        "ag.shape"
      ]
    },
    {
      "cell_type": "code",
      "execution_count": null,
      "metadata": {
        "id": "NSVq8Tpo_f6a"
      },
      "outputs": [],
      "source": [
        "age0.drop(df[(age0['male'] == True)].index, inplace=True)"
      ]
    },
    {
      "cell_type": "code",
      "execution_count": null,
      "metadata": {
        "colab": {
          "base_uri": "https://localhost:8080/",
          "height": 423
        },
        "id": "ekW-lTn3_f6d",
        "outputId": "084c17b5-6e3d-4784-844c-86b96be90238"
      },
      "outputs": [
        {
          "output_type": "execute_result",
          "data": {
            "text/plain": [
              "          id  boneage   male  \\\n",
              "0       1377      180  False   \n",
              "1       1378       12  False   \n",
              "2       1379       94  False   \n",
              "4       1381       82  False   \n",
              "10      1388      126  False   \n",
              "...      ...      ...    ...   \n",
              "12603  15602       82  False   \n",
              "12604  15603      106  False   \n",
              "12606  15605       50  False   \n",
              "12607  15606      113  False   \n",
              "12608  15608       55  False   \n",
              "\n",
              "                                                    path  exists  \n",
              "0      /content/drive/MyDrive/boneage-training-datase...    True  \n",
              "1      /content/drive/MyDrive/boneage-training-datase...    True  \n",
              "2      /content/drive/MyDrive/boneage-training-datase...    True  \n",
              "4      /content/drive/MyDrive/boneage-training-datase...    True  \n",
              "10     /content/drive/MyDrive/boneage-training-datase...    True  \n",
              "...                                                  ...     ...  \n",
              "12603  /content/drive/MyDrive/boneage-training-datase...    True  \n",
              "12604  /content/drive/MyDrive/boneage-training-datase...    True  \n",
              "12606  /content/drive/MyDrive/boneage-training-datase...    True  \n",
              "12607  /content/drive/MyDrive/boneage-training-datase...    True  \n",
              "12608  /content/drive/MyDrive/boneage-training-datase...    True  \n",
              "\n",
              "[5778 rows x 5 columns]"
            ],
            "text/html": [
              "\n",
              "  <div id=\"df-efc12067-21ca-4659-98f7-68849148c709\">\n",
              "    <div class=\"colab-df-container\">\n",
              "      <div>\n",
              "<style scoped>\n",
              "    .dataframe tbody tr th:only-of-type {\n",
              "        vertical-align: middle;\n",
              "    }\n",
              "\n",
              "    .dataframe tbody tr th {\n",
              "        vertical-align: top;\n",
              "    }\n",
              "\n",
              "    .dataframe thead th {\n",
              "        text-align: right;\n",
              "    }\n",
              "</style>\n",
              "<table border=\"1\" class=\"dataframe\">\n",
              "  <thead>\n",
              "    <tr style=\"text-align: right;\">\n",
              "      <th></th>\n",
              "      <th>id</th>\n",
              "      <th>boneage</th>\n",
              "      <th>male</th>\n",
              "      <th>path</th>\n",
              "      <th>exists</th>\n",
              "    </tr>\n",
              "  </thead>\n",
              "  <tbody>\n",
              "    <tr>\n",
              "      <th>0</th>\n",
              "      <td>1377</td>\n",
              "      <td>180</td>\n",
              "      <td>False</td>\n",
              "      <td>/content/drive/MyDrive/boneage-training-datase...</td>\n",
              "      <td>True</td>\n",
              "    </tr>\n",
              "    <tr>\n",
              "      <th>1</th>\n",
              "      <td>1378</td>\n",
              "      <td>12</td>\n",
              "      <td>False</td>\n",
              "      <td>/content/drive/MyDrive/boneage-training-datase...</td>\n",
              "      <td>True</td>\n",
              "    </tr>\n",
              "    <tr>\n",
              "      <th>2</th>\n",
              "      <td>1379</td>\n",
              "      <td>94</td>\n",
              "      <td>False</td>\n",
              "      <td>/content/drive/MyDrive/boneage-training-datase...</td>\n",
              "      <td>True</td>\n",
              "    </tr>\n",
              "    <tr>\n",
              "      <th>4</th>\n",
              "      <td>1381</td>\n",
              "      <td>82</td>\n",
              "      <td>False</td>\n",
              "      <td>/content/drive/MyDrive/boneage-training-datase...</td>\n",
              "      <td>True</td>\n",
              "    </tr>\n",
              "    <tr>\n",
              "      <th>10</th>\n",
              "      <td>1388</td>\n",
              "      <td>126</td>\n",
              "      <td>False</td>\n",
              "      <td>/content/drive/MyDrive/boneage-training-datase...</td>\n",
              "      <td>True</td>\n",
              "    </tr>\n",
              "    <tr>\n",
              "      <th>...</th>\n",
              "      <td>...</td>\n",
              "      <td>...</td>\n",
              "      <td>...</td>\n",
              "      <td>...</td>\n",
              "      <td>...</td>\n",
              "    </tr>\n",
              "    <tr>\n",
              "      <th>12603</th>\n",
              "      <td>15602</td>\n",
              "      <td>82</td>\n",
              "      <td>False</td>\n",
              "      <td>/content/drive/MyDrive/boneage-training-datase...</td>\n",
              "      <td>True</td>\n",
              "    </tr>\n",
              "    <tr>\n",
              "      <th>12604</th>\n",
              "      <td>15603</td>\n",
              "      <td>106</td>\n",
              "      <td>False</td>\n",
              "      <td>/content/drive/MyDrive/boneage-training-datase...</td>\n",
              "      <td>True</td>\n",
              "    </tr>\n",
              "    <tr>\n",
              "      <th>12606</th>\n",
              "      <td>15605</td>\n",
              "      <td>50</td>\n",
              "      <td>False</td>\n",
              "      <td>/content/drive/MyDrive/boneage-training-datase...</td>\n",
              "      <td>True</td>\n",
              "    </tr>\n",
              "    <tr>\n",
              "      <th>12607</th>\n",
              "      <td>15606</td>\n",
              "      <td>113</td>\n",
              "      <td>False</td>\n",
              "      <td>/content/drive/MyDrive/boneage-training-datase...</td>\n",
              "      <td>True</td>\n",
              "    </tr>\n",
              "    <tr>\n",
              "      <th>12608</th>\n",
              "      <td>15608</td>\n",
              "      <td>55</td>\n",
              "      <td>False</td>\n",
              "      <td>/content/drive/MyDrive/boneage-training-datase...</td>\n",
              "      <td>True</td>\n",
              "    </tr>\n",
              "  </tbody>\n",
              "</table>\n",
              "<p>5778 rows × 5 columns</p>\n",
              "</div>\n",
              "      <button class=\"colab-df-convert\" onclick=\"convertToInteractive('df-efc12067-21ca-4659-98f7-68849148c709')\"\n",
              "              title=\"Convert this dataframe to an interactive table.\"\n",
              "              style=\"display:none;\">\n",
              "        \n",
              "  <svg xmlns=\"http://www.w3.org/2000/svg\" height=\"24px\"viewBox=\"0 0 24 24\"\n",
              "       width=\"24px\">\n",
              "    <path d=\"M0 0h24v24H0V0z\" fill=\"none\"/>\n",
              "    <path d=\"M18.56 5.44l.94 2.06.94-2.06 2.06-.94-2.06-.94-.94-2.06-.94 2.06-2.06.94zm-11 1L8.5 8.5l.94-2.06 2.06-.94-2.06-.94L8.5 2.5l-.94 2.06-2.06.94zm10 10l.94 2.06.94-2.06 2.06-.94-2.06-.94-.94-2.06-.94 2.06-2.06.94z\"/><path d=\"M17.41 7.96l-1.37-1.37c-.4-.4-.92-.59-1.43-.59-.52 0-1.04.2-1.43.59L10.3 9.45l-7.72 7.72c-.78.78-.78 2.05 0 2.83L4 21.41c.39.39.9.59 1.41.59.51 0 1.02-.2 1.41-.59l7.78-7.78 2.81-2.81c.8-.78.8-2.07 0-2.86zM5.41 20L4 18.59l7.72-7.72 1.47 1.35L5.41 20z\"/>\n",
              "  </svg>\n",
              "      </button>\n",
              "      \n",
              "  <style>\n",
              "    .colab-df-container {\n",
              "      display:flex;\n",
              "      flex-wrap:wrap;\n",
              "      gap: 12px;\n",
              "    }\n",
              "\n",
              "    .colab-df-convert {\n",
              "      background-color: #E8F0FE;\n",
              "      border: none;\n",
              "      border-radius: 50%;\n",
              "      cursor: pointer;\n",
              "      display: none;\n",
              "      fill: #1967D2;\n",
              "      height: 32px;\n",
              "      padding: 0 0 0 0;\n",
              "      width: 32px;\n",
              "    }\n",
              "\n",
              "    .colab-df-convert:hover {\n",
              "      background-color: #E2EBFA;\n",
              "      box-shadow: 0px 1px 2px rgba(60, 64, 67, 0.3), 0px 1px 3px 1px rgba(60, 64, 67, 0.15);\n",
              "      fill: #174EA6;\n",
              "    }\n",
              "\n",
              "    [theme=dark] .colab-df-convert {\n",
              "      background-color: #3B4455;\n",
              "      fill: #D2E3FC;\n",
              "    }\n",
              "\n",
              "    [theme=dark] .colab-df-convert:hover {\n",
              "      background-color: #434B5C;\n",
              "      box-shadow: 0px 1px 3px 1px rgba(0, 0, 0, 0.15);\n",
              "      filter: drop-shadow(0px 1px 2px rgba(0, 0, 0, 0.3));\n",
              "      fill: #FFFFFF;\n",
              "    }\n",
              "  </style>\n",
              "\n",
              "      <script>\n",
              "        const buttonEl =\n",
              "          document.querySelector('#df-efc12067-21ca-4659-98f7-68849148c709 button.colab-df-convert');\n",
              "        buttonEl.style.display =\n",
              "          google.colab.kernel.accessAllowed ? 'block' : 'none';\n",
              "\n",
              "        async function convertToInteractive(key) {\n",
              "          const element = document.querySelector('#df-efc12067-21ca-4659-98f7-68849148c709');\n",
              "          const dataTable =\n",
              "            await google.colab.kernel.invokeFunction('convertToInteractive',\n",
              "                                                     [key], {});\n",
              "          if (!dataTable) return;\n",
              "\n",
              "          const docLinkHtml = 'Like what you see? Visit the ' +\n",
              "            '<a target=\"_blank\" href=https://colab.research.google.com/notebooks/data_table.ipynb>data table notebook</a>'\n",
              "            + ' to learn more about interactive tables.';\n",
              "          element.innerHTML = '';\n",
              "          dataTable['output_type'] = 'display_data';\n",
              "          await google.colab.output.renderOutput(dataTable, element);\n",
              "          const docLink = document.createElement('div');\n",
              "          docLink.innerHTML = docLinkHtml;\n",
              "          element.appendChild(docLink);\n",
              "        }\n",
              "      </script>\n",
              "    </div>\n",
              "  </div>\n",
              "  "
            ]
          },
          "metadata": {},
          "execution_count": 40
        }
      ],
      "source": [
        "age0"
      ]
    },
    {
      "cell_type": "code",
      "execution_count": null,
      "metadata": {
        "colab": {
          "base_uri": "https://localhost:8080/"
        },
        "id": "757QL8zO_f6e",
        "outputId": "23df6002-45a7-410e-9294-89d9a7118d9a"
      },
      "outputs": [
        {
          "output_type": "execute_result",
          "data": {
            "text/plain": [
              "(110,)"
            ]
          },
          "metadata": {},
          "execution_count": 41
        }
      ],
      "source": [
        "ag=age0.boneage.unique()\n",
        "ag.shape"
      ]
    },
    {
      "cell_type": "code",
      "execution_count": null,
      "metadata": {
        "colab": {
          "base_uri": "https://localhost:8080/"
        },
        "id": "ehftfPKb_f6e",
        "outputId": "c4cd01b9-6aed-4d97-81f3-73a937ef3c16"
      },
      "outputs": [
        {
          "output_type": "execute_result",
          "data": {
            "text/plain": [
              "132    689\n",
              "120    635\n",
              "144    542\n",
              "94     490\n",
              "106    474\n",
              "      ... \n",
              "121      1\n",
              "139      1\n",
              "49       1\n",
              "74       1\n",
              "43       1\n",
              "Name: boneage, Length: 110, dtype: int64"
            ]
          },
          "metadata": {},
          "execution_count": 42
        }
      ],
      "source": [
        "age0['boneage'].value_counts()"
      ]
    },
    {
      "cell_type": "code",
      "execution_count": null,
      "metadata": {
        "id": "y_zJN3YI_f6f"
      },
      "outputs": [],
      "source": [
        "points=age0.boneage.unique()"
      ]
    },
    {
      "cell_type": "code",
      "execution_count": null,
      "metadata": {
        "colab": {
          "base_uri": "https://localhost:8080/"
        },
        "id": "LdGDEkDD_f6f",
        "outputId": "fef98b44-1ccd-483f-ce14-b0476ce3b7c2"
      },
      "outputs": [
        {
          "output_type": "stream",
          "name": "stdout",
          "text": [
            "(110,)\n"
          ]
        },
        {
          "output_type": "execute_result",
          "data": {
            "text/plain": [
              "array([180,  12,  94,  82, 126, 132, 120, 188,   4,  36,  24,  60, 159,\n",
              "       106,  30,  33, 156,  88, 162, 144,  27, 113, 136,  42, 150,  69,\n",
              "        50,  21,  84, 138, 140, 100, 168, 174,  90, 192,  39, 165, 104,\n",
              "        18,  86, 153, 110,  55,  54, 186,  64, 109, 148,  13, 102, 118,\n",
              "         9, 139, 111, 123,  29, 210, 117, 108, 169, 166, 130, 112, 137,\n",
              "       204,  15,  78, 163, 125,  74,  96,  75, 114,  91, 135,  87,  16,\n",
              "       128, 152,  72,  32, 197, 171, 167, 121, 115, 216,  49,  67, 101,\n",
              "        10, 147, 164,   6, 160, 183,  76,  48,  70,  46, 198, 107,  81,\n",
              "        45,  65, 103,  77,  62,  43])"
            ]
          },
          "metadata": {},
          "execution_count": 44
        }
      ],
      "source": [
        "print(points.shape)\n",
        "points"
      ]
    },
    {
      "cell_type": "code",
      "execution_count": null,
      "metadata": {
        "id": "566_Y_QH_f6g"
      },
      "outputs": [],
      "source": [
        "import numpy as np\n",
        "point=[]\n",
        "for i in range (110):\n",
        "  if((age0['boneage'].value_counts()[points[i]])<3):\n",
        "    point.append(points[i])\n",
        "  #print(df['boneage'].value_counts()[points[i]])\n",
        "point=np.asarray(point)"
      ]
    },
    {
      "cell_type": "code",
      "execution_count": null,
      "metadata": {
        "colab": {
          "base_uri": "https://localhost:8080/"
        },
        "id": "ltInz4xw_f6g",
        "outputId": "e432148c-59df-48f1-980b-4b4c158d6a58"
      },
      "outputs": [
        {
          "output_type": "stream",
          "name": "stdout",
          "text": [
            "(51,)\n"
          ]
        },
        {
          "output_type": "execute_result",
          "data": {
            "text/plain": [
              "array([188,   4, 104,  86, 153, 110, 109, 148,  13, 102, 118,   9, 139,\n",
              "       111, 123,  29, 210, 117, 108, 169, 166, 130,  78, 163,  74,  91,\n",
              "       135,  87,  16, 128,  32, 197, 171, 167, 121,  49,  67, 101,  10,\n",
              "       164,   6, 160, 183, 107,  81,  45,  65, 103,  77,  62,  43])"
            ]
          },
          "metadata": {},
          "execution_count": 46
        }
      ],
      "source": [
        "print(point.shape)\n",
        "point"
      ]
    },
    {
      "cell_type": "code",
      "execution_count": null,
      "metadata": {
        "id": "mEdGRxPM_f6h"
      },
      "outputs": [],
      "source": [
        "for t in range(3):\n",
        "  for i in range(51):\n",
        "    x=df.id[df.boneage == point[i]].tolist()[0]\n",
        "    y=df.boneage[df.boneage == point[i]].tolist()[0]\n",
        "    m=df.male[df.boneage == point[i]].tolist()[0]\n",
        "    z=df.path[df.boneage== point[i]].tolist()[0]\n",
        "    #y=df['boneage']\n",
        "    #m=df['male']\n",
        "    new_row = {'id': x, 'boneage':y, 'male':m , 'path':z}\n",
        "    age0= age0.append(new_row, ignore_index=True)"
      ]
    },
    {
      "cell_type": "code",
      "execution_count": null,
      "metadata": {
        "colab": {
          "base_uri": "https://localhost:8080/",
          "height": 423
        },
        "id": "CZRdBg1W_f6h",
        "outputId": "78e71b84-c383-4e16-b111-684780581f4c"
      },
      "outputs": [
        {
          "output_type": "execute_result",
          "data": {
            "text/plain": [
              "         id  boneage   male  \\\n",
              "0      1377      180  False   \n",
              "1      1378       12  False   \n",
              "2      1379       94  False   \n",
              "3      1381       82  False   \n",
              "4      1388      126  False   \n",
              "...     ...      ...    ...   \n",
              "5926  11112       65  False   \n",
              "5927  12621      103  False   \n",
              "5928  12799       77  False   \n",
              "5929  13097       62  False   \n",
              "5930  13125       43  False   \n",
              "\n",
              "                                                   path  exists  \n",
              "0     /content/drive/MyDrive/boneage-training-datase...     1.0  \n",
              "1     /content/drive/MyDrive/boneage-training-datase...     1.0  \n",
              "2     /content/drive/MyDrive/boneage-training-datase...     1.0  \n",
              "3     /content/drive/MyDrive/boneage-training-datase...     1.0  \n",
              "4     /content/drive/MyDrive/boneage-training-datase...     1.0  \n",
              "...                                                 ...     ...  \n",
              "5926  /content/drive/MyDrive/boneage-training-datase...     NaN  \n",
              "5927  /content/drive/MyDrive/boneage-training-datase...     NaN  \n",
              "5928  /content/drive/MyDrive/boneage-training-datase...     NaN  \n",
              "5929  /content/drive/MyDrive/boneage-training-datase...     NaN  \n",
              "5930  /content/drive/MyDrive/boneage-training-datase...     NaN  \n",
              "\n",
              "[5931 rows x 5 columns]"
            ],
            "text/html": [
              "\n",
              "  <div id=\"df-a1287f5c-47db-478b-bcb2-c8056a5517ff\">\n",
              "    <div class=\"colab-df-container\">\n",
              "      <div>\n",
              "<style scoped>\n",
              "    .dataframe tbody tr th:only-of-type {\n",
              "        vertical-align: middle;\n",
              "    }\n",
              "\n",
              "    .dataframe tbody tr th {\n",
              "        vertical-align: top;\n",
              "    }\n",
              "\n",
              "    .dataframe thead th {\n",
              "        text-align: right;\n",
              "    }\n",
              "</style>\n",
              "<table border=\"1\" class=\"dataframe\">\n",
              "  <thead>\n",
              "    <tr style=\"text-align: right;\">\n",
              "      <th></th>\n",
              "      <th>id</th>\n",
              "      <th>boneage</th>\n",
              "      <th>male</th>\n",
              "      <th>path</th>\n",
              "      <th>exists</th>\n",
              "    </tr>\n",
              "  </thead>\n",
              "  <tbody>\n",
              "    <tr>\n",
              "      <th>0</th>\n",
              "      <td>1377</td>\n",
              "      <td>180</td>\n",
              "      <td>False</td>\n",
              "      <td>/content/drive/MyDrive/boneage-training-datase...</td>\n",
              "      <td>1.0</td>\n",
              "    </tr>\n",
              "    <tr>\n",
              "      <th>1</th>\n",
              "      <td>1378</td>\n",
              "      <td>12</td>\n",
              "      <td>False</td>\n",
              "      <td>/content/drive/MyDrive/boneage-training-datase...</td>\n",
              "      <td>1.0</td>\n",
              "    </tr>\n",
              "    <tr>\n",
              "      <th>2</th>\n",
              "      <td>1379</td>\n",
              "      <td>94</td>\n",
              "      <td>False</td>\n",
              "      <td>/content/drive/MyDrive/boneage-training-datase...</td>\n",
              "      <td>1.0</td>\n",
              "    </tr>\n",
              "    <tr>\n",
              "      <th>3</th>\n",
              "      <td>1381</td>\n",
              "      <td>82</td>\n",
              "      <td>False</td>\n",
              "      <td>/content/drive/MyDrive/boneage-training-datase...</td>\n",
              "      <td>1.0</td>\n",
              "    </tr>\n",
              "    <tr>\n",
              "      <th>4</th>\n",
              "      <td>1388</td>\n",
              "      <td>126</td>\n",
              "      <td>False</td>\n",
              "      <td>/content/drive/MyDrive/boneage-training-datase...</td>\n",
              "      <td>1.0</td>\n",
              "    </tr>\n",
              "    <tr>\n",
              "      <th>...</th>\n",
              "      <td>...</td>\n",
              "      <td>...</td>\n",
              "      <td>...</td>\n",
              "      <td>...</td>\n",
              "      <td>...</td>\n",
              "    </tr>\n",
              "    <tr>\n",
              "      <th>5926</th>\n",
              "      <td>11112</td>\n",
              "      <td>65</td>\n",
              "      <td>False</td>\n",
              "      <td>/content/drive/MyDrive/boneage-training-datase...</td>\n",
              "      <td>NaN</td>\n",
              "    </tr>\n",
              "    <tr>\n",
              "      <th>5927</th>\n",
              "      <td>12621</td>\n",
              "      <td>103</td>\n",
              "      <td>False</td>\n",
              "      <td>/content/drive/MyDrive/boneage-training-datase...</td>\n",
              "      <td>NaN</td>\n",
              "    </tr>\n",
              "    <tr>\n",
              "      <th>5928</th>\n",
              "      <td>12799</td>\n",
              "      <td>77</td>\n",
              "      <td>False</td>\n",
              "      <td>/content/drive/MyDrive/boneage-training-datase...</td>\n",
              "      <td>NaN</td>\n",
              "    </tr>\n",
              "    <tr>\n",
              "      <th>5929</th>\n",
              "      <td>13097</td>\n",
              "      <td>62</td>\n",
              "      <td>False</td>\n",
              "      <td>/content/drive/MyDrive/boneage-training-datase...</td>\n",
              "      <td>NaN</td>\n",
              "    </tr>\n",
              "    <tr>\n",
              "      <th>5930</th>\n",
              "      <td>13125</td>\n",
              "      <td>43</td>\n",
              "      <td>False</td>\n",
              "      <td>/content/drive/MyDrive/boneage-training-datase...</td>\n",
              "      <td>NaN</td>\n",
              "    </tr>\n",
              "  </tbody>\n",
              "</table>\n",
              "<p>5931 rows × 5 columns</p>\n",
              "</div>\n",
              "      <button class=\"colab-df-convert\" onclick=\"convertToInteractive('df-a1287f5c-47db-478b-bcb2-c8056a5517ff')\"\n",
              "              title=\"Convert this dataframe to an interactive table.\"\n",
              "              style=\"display:none;\">\n",
              "        \n",
              "  <svg xmlns=\"http://www.w3.org/2000/svg\" height=\"24px\"viewBox=\"0 0 24 24\"\n",
              "       width=\"24px\">\n",
              "    <path d=\"M0 0h24v24H0V0z\" fill=\"none\"/>\n",
              "    <path d=\"M18.56 5.44l.94 2.06.94-2.06 2.06-.94-2.06-.94-.94-2.06-.94 2.06-2.06.94zm-11 1L8.5 8.5l.94-2.06 2.06-.94-2.06-.94L8.5 2.5l-.94 2.06-2.06.94zm10 10l.94 2.06.94-2.06 2.06-.94-2.06-.94-.94-2.06-.94 2.06-2.06.94z\"/><path d=\"M17.41 7.96l-1.37-1.37c-.4-.4-.92-.59-1.43-.59-.52 0-1.04.2-1.43.59L10.3 9.45l-7.72 7.72c-.78.78-.78 2.05 0 2.83L4 21.41c.39.39.9.59 1.41.59.51 0 1.02-.2 1.41-.59l7.78-7.78 2.81-2.81c.8-.78.8-2.07 0-2.86zM5.41 20L4 18.59l7.72-7.72 1.47 1.35L5.41 20z\"/>\n",
              "  </svg>\n",
              "      </button>\n",
              "      \n",
              "  <style>\n",
              "    .colab-df-container {\n",
              "      display:flex;\n",
              "      flex-wrap:wrap;\n",
              "      gap: 12px;\n",
              "    }\n",
              "\n",
              "    .colab-df-convert {\n",
              "      background-color: #E8F0FE;\n",
              "      border: none;\n",
              "      border-radius: 50%;\n",
              "      cursor: pointer;\n",
              "      display: none;\n",
              "      fill: #1967D2;\n",
              "      height: 32px;\n",
              "      padding: 0 0 0 0;\n",
              "      width: 32px;\n",
              "    }\n",
              "\n",
              "    .colab-df-convert:hover {\n",
              "      background-color: #E2EBFA;\n",
              "      box-shadow: 0px 1px 2px rgba(60, 64, 67, 0.3), 0px 1px 3px 1px rgba(60, 64, 67, 0.15);\n",
              "      fill: #174EA6;\n",
              "    }\n",
              "\n",
              "    [theme=dark] .colab-df-convert {\n",
              "      background-color: #3B4455;\n",
              "      fill: #D2E3FC;\n",
              "    }\n",
              "\n",
              "    [theme=dark] .colab-df-convert:hover {\n",
              "      background-color: #434B5C;\n",
              "      box-shadow: 0px 1px 3px 1px rgba(0, 0, 0, 0.15);\n",
              "      filter: drop-shadow(0px 1px 2px rgba(0, 0, 0, 0.3));\n",
              "      fill: #FFFFFF;\n",
              "    }\n",
              "  </style>\n",
              "\n",
              "      <script>\n",
              "        const buttonEl =\n",
              "          document.querySelector('#df-a1287f5c-47db-478b-bcb2-c8056a5517ff button.colab-df-convert');\n",
              "        buttonEl.style.display =\n",
              "          google.colab.kernel.accessAllowed ? 'block' : 'none';\n",
              "\n",
              "        async function convertToInteractive(key) {\n",
              "          const element = document.querySelector('#df-a1287f5c-47db-478b-bcb2-c8056a5517ff');\n",
              "          const dataTable =\n",
              "            await google.colab.kernel.invokeFunction('convertToInteractive',\n",
              "                                                     [key], {});\n",
              "          if (!dataTable) return;\n",
              "\n",
              "          const docLinkHtml = 'Like what you see? Visit the ' +\n",
              "            '<a target=\"_blank\" href=https://colab.research.google.com/notebooks/data_table.ipynb>data table notebook</a>'\n",
              "            + ' to learn more about interactive tables.';\n",
              "          element.innerHTML = '';\n",
              "          dataTable['output_type'] = 'display_data';\n",
              "          await google.colab.output.renderOutput(dataTable, element);\n",
              "          const docLink = document.createElement('div');\n",
              "          docLink.innerHTML = docLinkHtml;\n",
              "          element.appendChild(docLink);\n",
              "        }\n",
              "      </script>\n",
              "    </div>\n",
              "  </div>\n",
              "  "
            ]
          },
          "metadata": {},
          "execution_count": 48
        }
      ],
      "source": [
        "age0"
      ]
    },
    {
      "cell_type": "code",
      "execution_count": null,
      "metadata": {
        "colab": {
          "base_uri": "https://localhost:8080/"
        },
        "id": "6OLfe12Qlto-",
        "outputId": "d338e774-0420-4b25-b807-da326233299d"
      },
      "outputs": [
        {
          "output_type": "stream",
          "name": "stdout",
          "text": [
            "train 3320 validation 1187 1424\n"
          ]
        }
      ],
      "source": [
        "from sklearn.model_selection import train_test_split\n",
        "train_test0, valid0 = train_test_split(age0, \n",
        "                                   test_size = 0.2, \n",
        "                                   random_state = 2018,\n",
        "                                   stratify = age0['boneage'])\n",
        "#print('train', raw_train_df.shape[0], 'validation', valid_df.shape[0])\n",
        "train0, test0 = train_test_split(train_test0, \n",
        "                                   test_size = 0.3, \n",
        "                                   random_state = 2018,\n",
        "                                   stratify = train_test0['boneage'])\n",
        "print('train', train0.shape[0], 'validation', valid0.shape[0],test0.shape[0])"
      ]
    },
    {
      "cell_type": "code",
      "execution_count": null,
      "metadata": {
        "colab": {
          "base_uri": "https://localhost:8080/"
        },
        "id": "neq1ir7ylto_",
        "outputId": "146e4e49-934f-47ec-853b-c719f0952a8b"
      },
      "outputs": [
        {
          "output_type": "stream",
          "name": "stdout",
          "text": [
            "## Ignore next message from keras, values are replaced anyways\n",
            "Found 0 images belonging to 0 classes.\n",
            "Reinserting dataframe: 3320 images\n"
          ]
        }
      ],
      "source": [
        "train0_gen = flow_from_dataframe( core_idg, train0, \n",
        "                             path_col = 'path',\n",
        "                            y_col = 'boneage', \n",
        "                            target_size = IMG_SIZE,\n",
        "                             color_mode = 'rgb',\n",
        "                            batch_size = 3320)"
      ]
    },
    {
      "cell_type": "code",
      "execution_count": null,
      "metadata": {
        "colab": {
          "base_uri": "https://localhost:8080/"
        },
        "id": "OzomkT1ZltpA",
        "outputId": "fb8a9dcc-4c81-4763-f0de-e15dc45534d5"
      },
      "outputs": [
        {
          "output_type": "stream",
          "name": "stdout",
          "text": [
            "## Ignore next message from keras, values are replaced anyways\n",
            "Found 0 images belonging to 0 classes.\n",
            "Reinserting dataframe: 1187 images\n"
          ]
        }
      ],
      "source": [
        "valid0_gen = flow_from_dataframe(core_idg, valid0, \n",
        "                             path_col = 'path',\n",
        "                            y_col = 'boneage', \n",
        "                            target_size = IMG_SIZE,\n",
        "                             color_mode = 'rgb',\n",
        "                            batch_size = 1187) "
      ]
    },
    {
      "cell_type": "code",
      "execution_count": null,
      "metadata": {
        "id": "Aw2JaZZwltpA"
      },
      "outputs": [],
      "source": [
        "\n",
        "testcore_idg = ImageDataGenerator(rotation_range=20,width_shift_range=0.15,height_shift_range=0.15,zoom_range=0.2,horizontal_flip=True)"
      ]
    },
    {
      "cell_type": "code",
      "execution_count": null,
      "metadata": {
        "colab": {
          "base_uri": "https://localhost:8080/"
        },
        "id": "Bu7kCWNYltpB",
        "outputId": "74cf89f5-33df-4c6e-9a12-7c6daa3160c6"
      },
      "outputs": [
        {
          "output_type": "stream",
          "name": "stdout",
          "text": [
            "## Ignore next message from keras, values are replaced anyways\n",
            "Found 0 images belonging to 0 classes.\n",
            "Reinserting dataframe: 1424 images\n"
          ]
        }
      ],
      "source": [
        "test0_gen = flow_from_dataframe(testcore_idg, \n",
        "                              test0, \n",
        "                             path_col = 'path',\n",
        "                            y_col = 'boneage', \n",
        "                            target_size = IMG_SIZE,\n",
        "                             color_mode = 'rgb',\n",
        "                            batch_size = 1424)"
      ]
    },
    {
      "cell_type": "code",
      "execution_count": null,
      "metadata": {
        "id": "6XxaEBd5ltpC"
      },
      "outputs": [],
      "source": [
        "train0_X, train0_Y = next(train0_gen)"
      ]
    },
    {
      "cell_type": "code",
      "execution_count": null,
      "metadata": {
        "id": "RDhVkpIBltpC",
        "colab": {
          "base_uri": "https://localhost:8080/"
        },
        "outputId": "5109d44b-8393-4210-c51c-705004b4edfe"
      },
      "outputs": [
        {
          "output_type": "execute_result",
          "data": {
            "text/plain": [
              "(3320, 256, 256, 3)"
            ]
          },
          "metadata": {},
          "execution_count": 55
        }
      ],
      "source": [
        "train0_X.shape"
      ]
    },
    {
      "cell_type": "code",
      "execution_count": null,
      "metadata": {
        "id": "KWlRIzOkx7Dx"
      },
      "outputs": [],
      "source": [
        "train_x=[]\n",
        "train_y=[]\n",
        "train_gen=[]\n",
        "i=0\n",
        "for k in range(332):\n",
        "  for j in range(10):\n",
        "    train_x.append(train1_X[i])\n",
        "    train_y.append(train1_Y[i])\n",
        "    train_gen.append(1)\n",
        "    train_x.append(train0_X[i])\n",
        "    train_y.append(train0_Y[i])\n",
        "    train_gen.append(0)\n",
        "    i=i+1\n",
        "\n",
        "del train0_X\n",
        "del train0_Y\n",
        "i=3320\n",
        "for k in range(1156):\n",
        "  train_x.append(train1_X[i])\n",
        "  train_y.append(train1_Y[i])\n",
        "  train_gen.append(1)\n",
        "  i=i+1\n",
        "del train1_X\n",
        "del train1_Y"
      ]
    },
    {
      "cell_type": "code",
      "execution_count": null,
      "metadata": {
        "id": "0Amo32uq_Pl1"
      },
      "outputs": [],
      "source": [
        "train_x=np.asarray(train_x)\n",
        "train_x=train_x/255\n",
        "train_y=np.asarray(train_y)\n",
        "train_gen=np.asarray(train_gen)"
      ]
    },
    {
      "cell_type": "code",
      "execution_count": null,
      "metadata": {
        "id": "-xcDDZsvltpD"
      },
      "outputs": [],
      "source": [
        "valid0_X, valid0_Y = next(valid0_gen)"
      ]
    },
    {
      "cell_type": "code",
      "execution_count": null,
      "metadata": {
        "id": "Oc0hn0VeltpD",
        "colab": {
          "base_uri": "https://localhost:8080/"
        },
        "outputId": "6a550ec8-33a5-4aa4-f82f-ac7fd1bf1a27"
      },
      "outputs": [
        {
          "output_type": "execute_result",
          "data": {
            "text/plain": [
              "(1187, 256, 256, 3)"
            ]
          },
          "metadata": {},
          "execution_count": 59
        }
      ],
      "source": [
        "valid0_X.shape"
      ]
    },
    {
      "cell_type": "code",
      "execution_count": null,
      "metadata": {
        "id": "f6x2PtQazOqz"
      },
      "outputs": [],
      "source": [
        "valid_x=[]\n",
        "valid_y=[]\n",
        "valid_gen=[]\n",
        "i=0\n",
        "for k in range(62):\n",
        "  for j in range(17):\n",
        "    valid_x.append(valid1_X[i])\n",
        "    valid_y.append(valid1_Y[i])\n",
        "    valid_gen.append(1)\n",
        "    valid_x.append(valid0_X[i])\n",
        "    valid_y.append(valid0_Y[i])\n",
        "    valid_gen.append(0)\n",
        "    i=i+1\n",
        "del valid1_X\n",
        "del valid1_Y\n",
        "i=1054\n",
        "for k in range(133):\n",
        "  valid_x.append(valid0_X[i])\n",
        "  valid_y.append(valid0_Y[i])\n",
        "  valid_gen.append(0)\n",
        "  i=i+1\n",
        "del valid0_X\n",
        "del valid0_Y"
      ]
    },
    {
      "cell_type": "code",
      "execution_count": null,
      "metadata": {
        "id": "xnSq2nAQ_XJd"
      },
      "outputs": [],
      "source": [
        "valid_x=np.asarray(valid_x)\n",
        "valid_x=valid_x/255\n",
        "valid_y=np.asarray(valid_y)\n",
        "valid_gen=np.asarray(valid_gen)"
      ]
    },
    {
      "cell_type": "code",
      "execution_count": null,
      "metadata": {
        "id": "ChATCHw-ltpE"
      },
      "outputs": [],
      "source": [
        "test0_X, test0_Y = next(test0_gen)"
      ]
    },
    {
      "cell_type": "code",
      "execution_count": null,
      "metadata": {
        "id": "Jz5uNv-kltpF",
        "colab": {
          "base_uri": "https://localhost:8080/"
        },
        "outputId": "dfe8b22b-73ce-4e1a-d2c4-264a29916f3f"
      },
      "outputs": [
        {
          "output_type": "execute_result",
          "data": {
            "text/plain": [
              "(1424, 256, 256, 3)"
            ]
          },
          "metadata": {},
          "execution_count": 63
        }
      ],
      "source": [
        "test0_X.shape"
      ]
    },
    {
      "cell_type": "code",
      "execution_count": null,
      "metadata": {
        "id": "dx-q7Ukkzy2V"
      },
      "outputs": [],
      "source": [
        "test_x=[]\n",
        "test_y=[]\n",
        "test_gen=[]\n",
        "i=0\n",
        "for k in range(89):\n",
        "  for j in range(16):\n",
        "    test_x.append(test1_X[i])\n",
        "    test_y.append(test1_Y[i])\n",
        "    test_gen.append(1)\n",
        "    test_x.append(test0_X[i])\n",
        "    test_y.append(test0_Y[i])\n",
        "    test_gen.append(0)\n",
        "    i=i+1\n",
        "\n",
        "del test0_X\n",
        "del test0_Y\n",
        "i=1424\n",
        "for j in range(68):\n",
        "  test_x.append(test1_X[i])\n",
        "  test_y.append(test1_Y[i])\n",
        "  test_gen.append(1)\n",
        "  i=i+1\n",
        "del test1_X\n",
        "del test1_Y"
      ]
    },
    {
      "cell_type": "code",
      "execution_count": null,
      "metadata": {
        "id": "tpCPkoXh_qid"
      },
      "outputs": [],
      "source": [
        "test_x=np.asarray(test_x)\n",
        "test_x=test_x/255\n",
        "test_y=np.asarray(test_y)\n",
        "test_gen=np.asarray(test_gen)"
      ]
    },
    {
      "cell_type": "code",
      "execution_count": null,
      "metadata": {
        "id": "2A4yFegzBAzR"
      },
      "outputs": [],
      "source": [
        "from tensorflow.keras.applications.resnet50 import ResNet50\n",
        "from keras.applications.vgg19 import VGG19\n",
        "from keras.applications.inception_v3 import InceptionV3\n",
        "from keras.applications.xception import Xception\n",
        "from keras.preprocessing import image\n",
        "from keras.models import Model, load_model\n",
        "from keras.layers import Flatten, Dense, Input, Reshape, Lambda,Conv2D\n",
        "from tensorflow.keras import regularizers\n",
        "import tensorflow as tf\n",
        "from keras import backend as K\n",
        "import pickle\n",
        "import numpy as np\n",
        "import matplotlib.pyplot as plt\n",
        "import keras\n",
        "#from func_utils import *\n",
        "import os\n",
        "#os.environ[\"CUDA_VISIBLE_DEVICES\"]=\"2\"\n",
        "#os.environ['OMP_NUM_THREADS']='6'\n",
        "batch_size = 1\n",
        "epochs = 30"
      ]
    },
    {
      "cell_type": "code",
      "execution_count": null,
      "metadata": {
        "id": "1rSdNFgoX2go"
      },
      "outputs": [],
      "source": [
        "def conv2d_bn(x,filters,num_row,num_col,padding='same',strides=(1, 1)):\n",
        "   \n",
        "    x = keras.layers.Conv2D(filters, (num_row, num_col),padding=padding)(x)\n",
        "    x = keras.layers.BatchNormalization(axis=3, scale=False)(x)\n",
        "    x = keras.layers.Activation('relu')(x)\n",
        "    return x\n",
        "\n",
        "    #x = conv2d_bn(x, 32, 3, 3, padding='valid') "
      ]
    },
    {
      "cell_type": "code",
      "execution_count": null,
      "metadata": {
        "id": "2pb-jWtSv8m7"
      },
      "outputs": [],
      "source": []
    },
    {
      "cell_type": "code",
      "execution_count": null,
      "metadata": {
        "id": "VE1A_j3WGLxF"
      },
      "outputs": [],
      "source": [
        "from tensorflow.keras import regularizers\n",
        "def channel_attention(input_feature):\n",
        "    kernel_initializer = tf.keras.initializers.variance_scaling()\n",
        "    bias_initializer = tf.constant_initializer(value=0.0)\n",
        "    channel = input_feature.get_shape()[-1]\n",
        "    ratio=8\n",
        "    avg_pool = tf.reduce_mean(input_feature, axis=[1,2], keepdims=True)\n",
        "    assert avg_pool.get_shape()[1:] == (1,1,channel)\n",
        "    avg_pool =Dense(\n",
        "                                 units=channel//ratio,\n",
        "                                 activation=tf.nn.relu,\n",
        "                   kernel_regularizer=regularizers.L2(0.1),\n",
        "                                 kernel_initializer=kernel_initializer,\n",
        "                                 bias_initializer=bias_initializer) (avg_pool)\n",
        "    avg_pool = tf.keras.layers.Dropout(0.2)( avg_pool)\n",
        "    assert avg_pool.get_shape()[1:] == (1,1,channel//ratio)\n",
        "    avg_pool = Dense(\n",
        "                                 units=channel,                             \n",
        "                                 kernel_initializer=kernel_initializer,\n",
        "                                 kernel_regularizer=regularizers.L2(0.1),\n",
        "                                 bias_initializer=bias_initializer)  (avg_pool)  \n",
        "\n",
        "    assert avg_pool.get_shape()[1:] == (1,1,channel)\n",
        "\n",
        "    max_pool = tf.reduce_max(input_feature, axis=[1,2], keepdims=True)    \n",
        "    assert max_pool.get_shape()[1:] == (1,1,channel)\n",
        "    max_pool = Dense(\n",
        "                                 units=channel//ratio,\n",
        "                                  kernel_regularizer=regularizers.L2(0.1),\n",
        "                                 activation=tf.nn.relu) (max_pool)  \n",
        "\n",
        "    assert max_pool.get_shape()[1:] == (1,1,channel//ratio)\n",
        "    max_pool = Dense(kernel_regularizer=regularizers.L2(0.1),\n",
        "                                 units=channel)  (max_pool)\n",
        "\n",
        "    assert max_pool.get_shape()[1:] == (1,1,channel)\n",
        "\n",
        "    scale = tf.keras.activations.sigmoid(avg_pool + max_pool) \n",
        "    return input_feature * scale\n",
        "\n"
      ]
    },
    {
      "cell_type": "code",
      "execution_count": null,
      "metadata": {
        "id": "vohXWVZBGNbI"
      },
      "outputs": [],
      "source": [
        "def spatial_attention1(input_feature):\n",
        "    kernel_size = 3\n",
        "    kernel_initializer = tf.keras.initializers.variance_scaling()\n",
        "\n",
        "    avg_pool = tf.reduce_mean(input_feature, axis=[3], keepdims=True)\n",
        "    assert avg_pool.get_shape()[-1] == 1\n",
        "    max_pool = tf.reduce_max(input_feature, axis=[3], keepdims=True)\n",
        "    assert max_pool.get_shape()[-1] == 1\n",
        "    concat = tf.concat([avg_pool,max_pool], 3)\n",
        "    assert concat.get_shape()[-1] == 2\n",
        "\n",
        "    concat = Conv2D(\n",
        "                              filters=1,\n",
        "                              kernel_size=[kernel_size,kernel_size],\n",
        "                              strides=[1,1],\n",
        "                              padding=\"same\",\n",
        "                              activation=None,\n",
        "                              kernel_regularizer=regularizers.L2(0.01),\n",
        "                              kernel_initializer=kernel_initializer,\n",
        "                              use_bias=False)(concat)\n",
        "  #concat = tf.keras.layers.Dropout(0.2)( concat)\n",
        "    assert concat.get_shape()[-1] == 1\n",
        "    concat = tf.keras.activations.sigmoid(concat)\n",
        "    \n",
        "    return input_feature * concat\n"
      ]
    },
    {
      "cell_type": "code",
      "execution_count": null,
      "metadata": {
        "id": "W2eO-HVTGUZL"
      },
      "outputs": [],
      "source": [
        "def spatial_attention2(input_feature):\n",
        "    kernel_size = 5\n",
        "    kernel_initializer = tf.keras.initializers.variance_scaling()\n",
        "\n",
        "    avg_pool = tf.reduce_mean(input_feature, axis=[3], keepdims=True)\n",
        "    assert avg_pool.get_shape()[-1] == 1\n",
        "    max_pool = tf.reduce_max(input_feature, axis=[3], keepdims=True)\n",
        "    assert max_pool.get_shape()[-1] == 1\n",
        "    concat = tf.concat([avg_pool,max_pool], 3)\n",
        "    assert concat.get_shape()[-1] == 2\n",
        "\n",
        "    concat = Conv2D(\n",
        "                              filters=1,\n",
        "                              kernel_size=[kernel_size,kernel_size],\n",
        "                              strides=[1,1],\n",
        "                              padding=\"same\",\n",
        "                              activation=None,\n",
        "                              kernel_regularizer=regularizers.L2(0.01),\n",
        "                              kernel_initializer=kernel_initializer,\n",
        "                              use_bias=False)(concat)\n",
        "  #concat = tf.keras.layers.Dropout(0.2)( concat)\n",
        "    assert concat.get_shape()[-1] == 1\n",
        "    concat = tf.keras.activations.sigmoid(concat)\n",
        "    \n",
        "    return input_feature * concat\n"
      ]
    },
    {
      "cell_type": "code",
      "source": [
        "def spatial_attention3(input_feature):\n",
        "    kernel_size = 7\n",
        "    kernel_initializer = tf.keras.initializers.variance_scaling()\n",
        "\n",
        "    avg_pool = tf.reduce_mean(input_feature, axis=[3], keepdims=True)\n",
        "    assert avg_pool.get_shape()[-1] == 1\n",
        "    max_pool = tf.reduce_max(input_feature, axis=[3], keepdims=True)\n",
        "    assert max_pool.get_shape()[-1] == 1\n",
        "    concat = tf.concat([avg_pool,max_pool], 3)\n",
        "    assert concat.get_shape()[-1] == 2\n",
        "\n",
        "    concat = Conv2D(\n",
        "                              filters=1,\n",
        "                              kernel_size=[kernel_size,kernel_size],\n",
        "                              strides=[1,1],\n",
        "                              padding=\"same\",\n",
        "                              activation=None,\n",
        "                              kernel_regularizer=regularizers.L2(0.01),\n",
        "                              kernel_initializer=kernel_initializer,\n",
        "                              use_bias=False)(concat)\n",
        "  #concat = tf.keras.layers.Dropout(0.2)( concat)\n",
        "    assert concat.get_shape()[-1] == 1\n",
        "    concat = tf.keras.activations.sigmoid(concat)\n",
        "    \n",
        "    return input_feature * concat\n"
      ],
      "metadata": {
        "id": "4HP01_24Cbt8"
      },
      "execution_count": null,
      "outputs": []
    },
    {
      "cell_type": "code",
      "source": [],
      "metadata": {
        "id": "2RZfeqQ-M7OF"
      },
      "execution_count": null,
      "outputs": []
    },
    {
      "cell_type": "markdown",
      "source": [
        "================================================================================"
      ],
      "metadata": {
        "id": "6TWOPN8ycXSI"
      }
    },
    {
      "cell_type": "code",
      "source": [
        "base_model = InceptionV3(weights='imagenet', include_top=False)\n",
        "\n",
        "input = Input(shape=(256,256,3),name='input1')\n",
        "input_gender = Input(shape=(1,),dtype='float32',name='input2')\n",
        "output = base_model(input)\n",
        "gender_embedding=Dense(32)(input_gender)\n",
        "#gender_embedding=Dense(12)(gender_embedding)\n",
        "#x = keras.layers.MaxPooling2D(pool_size=(5,5))(output)\n",
        "#x = keras.layers.Conv2D(512,kernel_size=(3,3))(x)\n",
        "#x = conv2d_bn(output, 512, 3, 3, padding='valid') \n",
        "#x = conv2d_bn(x, 256, 3, 3, padding='valid') \n",
        "#x = conv2d_bn(x, 256, 3, 3, padding='valid') \n",
        "x=channel_attention(output)\n",
        "#x=spatial_attention(x)\n",
        "\n",
        "print (K.int_shape(output))\n",
        "x = keras.layers.MaxPooling2D(pool_size=(2,2))(x)\n",
        "print (K.int_shape(x))\n",
        "x=Flatten()(x)\n",
        "f = keras.layers.Concatenate(axis=1)([x,gender_embedding])\n",
        "print (K.int_shape(f)) \n",
        "#x = Dense(256, activation='relu')(x)\n",
        "predictions = Dense(1)(f)\n",
        "model = Model(inputs=[input,input_gender], outputs=predictions)\n",
        "Adam=tf.keras.optimizers.Adam(lr=0.0001,beta_1=0.9,beta_2=0.999)\n",
        "model.compile(optimizer=Adam, loss='mean_absolute_error', metrics=['MAE'])\n",
        "#model.summary()\n",
        "from keras.preprocessing.image import ImageDataGenerator\n",
        "DataGen = ImageDataGenerator(rotation_range=20,width_shift_range=0.15,height_shift_range=0.15,zoom_range=0.2,horizontal_flip=True)\n",
        "def Generator(x_train,gender_train,y_train,batch_size):\n",
        "    loopcount = len(y_train)//batch_size\n",
        "    i=0\n",
        "    while (True):\n",
        "        if i>loopcount:\n",
        "            i=0\n",
        "        # i=np.random.randint(0,loopcount)\n",
        "        x_train_batch = x_train[i*batch_size:(i+1)*batch_size,:,:,:]\n",
        "        x_train_batch = DataAugment(x_train_batch)\n",
        "        gender_train_batch = gender_train[i*batch_size:(i+1)*batch_size]\n",
        "        y_train_batch = y_train[i*batch_size:(i+1)*batch_size]\n",
        "        inputs = [x_train_batch,gender_train_batch]\n",
        "        target = y_train_batch\n",
        "        yield (inputs ,target)\n",
        "        i = i+1\n",
        "checkpoint =keras.callbacks.ModelCheckpoint(filepath='weights/weights.{epoch:02d}-{val_loss:.2f}.hdf5',save_weights_only=True,period=100)\n",
        "history = model.fit_generator(DataGen.flow([train_x,train_gen],train_y,batch_size=64),steps_per_epoch=np.ceil(len(train_y)/64),epochs=100,verbose=1,validation_data=([valid_x,valid_gen],valid_y))\n",
        "#history = model.fit_generator(Generator(x_train,gender_train,y_train,batch_size),steps_per_epoch=np.ceil(len(y_train)/batch_size),epochs=10,verbose=1,validation_data=([x_valid,gender_valid],y_valid))\n",
        "#history=model.fit([x_train,gender_train],y_train,batch_size=32,epochs=5,verbose=1,validation_data=([x_valid,gender_valid],y_valid), callbacks = [checkpoint])\n",
        "score = model.evaluate([test_x,test_gen], test_y, batch_size=64)"
      ],
      "metadata": {
        "colab": {
          "base_uri": "https://localhost:8080/"
        },
        "id": "ijV317oHt6sX",
        "outputId": "5f4f0e30-1d6f-45ab-aa53-f92be39ef16e"
      },
      "execution_count": null,
      "outputs": [
        {
          "metadata": {
            "tags": null
          },
          "name": "stdout",
          "output_type": "stream",
          "text": [
            "Downloading data from https://storage.googleapis.com/tensorflow/keras-applications/inception_v3/inception_v3_weights_tf_dim_ordering_tf_kernels_notop.h5\n",
            "87910968/87910968 [==============================] - 0s 0us/step\n"
          ]
        },
        {
          "metadata": {
            "tags": null
          },
          "name": "stderr",
          "output_type": "stream",
          "text": [
            "/usr/local/lib/python3.8/dist-packages/keras/optimizers/optimizer_v2/adam.py:110: UserWarning: The `lr` argument is deprecated, use `learning_rate` instead.\n",
            "  super(Adam, self).__init__(name, **kwargs)\n",
            "WARNING:tensorflow:`period` argument is deprecated. Please use `save_freq` to specify the frequency in number of batches seen.\n"
          ]
        },
        {
          "metadata": {
            "tags": null
          },
          "name": "stdout",
          "output_type": "stream",
          "text": [
            "(None, 6, 6, 2048)\n",
            "(None, 3, 3, 2048)\n",
            "(None, 18464)\n"
          ]
        },
        {
          "metadata": {
            "tags": null
          },
          "name": "stderr",
          "output_type": "stream",
          "text": [
            "<ipython-input-73-5af9d40f501a>:46: UserWarning: `Model.fit_generator` is deprecated and will be removed in a future version. Please use `Model.fit`, which supports generators.\n",
            "  history = model.fit_generator(DataGen.flow([train_x,train_gen],train_y,batch_size=64),steps_per_epoch=np.ceil(len(train_y)/64),epochs=100,verbose=1,validation_data=([valid_x,valid_gen],valid_y))\n"
          ]
        },
        {
          "output_type": "stream",
          "name": "stdout",
          "text": [
            "Epoch 1/100\n",
            "122/122 [==============================] - 139s 968ms/step - loss: 298.5641 - MAE: 35.7571 - val_loss: 249.1759 - val_MAE: 38.6829\n",
            "Epoch 2/100\n",
            "122/122 [==============================] - 108s 882ms/step - loss: 187.9369 - MAE: 15.1164 - val_loss: 156.2570 - val_MAE: 16.3448\n",
            "Epoch 3/100\n",
            "122/122 [==============================] - 107s 873ms/step - loss: 129.6753 - MAE: 13.7381 - val_loss: 111.1778 - val_MAE: 16.2509\n",
            "Epoch 4/100\n",
            "122/122 [==============================] - 107s 871ms/step - loss: 92.4401 - MAE: 13.1319 - val_loss: 78.1465 - val_MAE: 12.7679\n",
            "Epoch 5/100\n",
            "122/122 [==============================] - 107s 872ms/step - loss: 67.3271 - MAE: 12.4274 - val_loss: 58.2592 - val_MAE: 12.7629\n",
            "Epoch 6/100\n",
            "122/122 [==============================] - 108s 880ms/step - loss: 50.4493 - MAE: 12.1736 - val_loss: 43.7803 - val_MAE: 11.9934\n",
            "Epoch 7/100\n",
            "122/122 [==============================] - 107s 876ms/step - loss: 38.4519 - MAE: 11.7094 - val_loss: 33.7699 - val_MAE: 11.5849\n",
            "Epoch 8/100\n",
            "122/122 [==============================] - 108s 878ms/step - loss: 30.0269 - MAE: 11.3883 - val_loss: 26.7798 - val_MAE: 11.3359\n",
            "Epoch 9/100\n",
            "122/122 [==============================] - 107s 875ms/step - loss: 24.3360 - MAE: 11.4099 - val_loss: 27.0071 - val_MAE: 16.3737\n",
            "Epoch 10/100\n",
            "122/122 [==============================] - 108s 881ms/step - loss: 20.1589 - MAE: 11.2660 - val_loss: 18.5629 - val_MAE: 11.2587\n",
            "Epoch 11/100\n",
            "122/122 [==============================] - 105s 859ms/step - loss: 17.1817 - MAE: 11.1084 - val_loss: 15.5965 - val_MAE: 10.6295\n",
            "Epoch 12/100\n",
            "122/122 [==============================] - 107s 873ms/step - loss: 14.7674 - MAE: 10.6642 - val_loss: 16.3038 - val_MAE: 12.9620\n",
            "Epoch 13/100\n",
            "122/122 [==============================] - 105s 859ms/step - loss: 13.3616 - MAE: 10.5885 - val_loss: 14.9277 - val_MAE: 12.6666\n",
            "Epoch 14/100\n",
            "122/122 [==============================] - 107s 873ms/step - loss: 12.2459 - MAE: 10.3688 - val_loss: 12.0568 - val_MAE: 10.5022\n",
            "Epoch 15/100\n",
            "122/122 [==============================] - 105s 853ms/step - loss: 11.4911 - MAE: 10.2169 - val_loss: 11.6572 - val_MAE: 10.6020\n",
            "Epoch 16/100\n",
            "122/122 [==============================] - 107s 872ms/step - loss: 11.0180 - MAE: 10.1344 - val_loss: 11.2833 - val_MAE: 10.5421\n",
            "Epoch 17/100\n",
            "122/122 [==============================] - 107s 875ms/step - loss: 10.5413 - MAE: 9.9094 - val_loss: 11.1473 - val_MAE: 10.6190\n",
            "Epoch 18/100\n",
            "122/122 [==============================] - 108s 878ms/step - loss: 10.2279 - MAE: 9.7596 - val_loss: 12.0080 - val_MAE: 11.5883\n",
            "Epoch 19/100\n",
            "122/122 [==============================] - 107s 872ms/step - loss: 10.1278 - MAE: 9.7679 - val_loss: 11.6565 - val_MAE: 11.3501\n",
            "Epoch 20/100\n",
            "122/122 [==============================] - 107s 873ms/step - loss: 10.0078 - MAE: 9.7062 - val_loss: 12.1794 - val_MAE: 11.8894\n",
            "Epoch 21/100\n",
            "122/122 [==============================] - 105s 858ms/step - loss: 9.8182 - MAE: 9.5493 - val_loss: 10.8182 - val_MAE: 10.5685\n",
            "Epoch 22/100\n",
            "122/122 [==============================] - 106s 865ms/step - loss: 9.6114 - MAE: 9.3743 - val_loss: 11.8557 - val_MAE: 11.5999\n",
            "Epoch 23/100\n",
            "122/122 [==============================] - 106s 868ms/step - loss: 9.3586 - MAE: 9.1350 - val_loss: 12.5230 - val_MAE: 12.3083\n",
            "Epoch 24/100\n",
            "122/122 [==============================] - 107s 873ms/step - loss: 9.5353 - MAE: 9.3229 - val_loss: 10.8438 - val_MAE: 10.6448\n",
            "Epoch 25/100\n",
            "122/122 [==============================] - 105s 854ms/step - loss: 9.0100 - MAE: 8.8189 - val_loss: 10.4972 - val_MAE: 10.3163\n",
            "Epoch 26/100\n",
            "122/122 [==============================] - 107s 874ms/step - loss: 8.9773 - MAE: 8.7892 - val_loss: 11.0507 - val_MAE: 10.8638\n",
            "Epoch 27/100\n",
            "122/122 [==============================] - 107s 873ms/step - loss: 8.7890 - MAE: 8.6088 - val_loss: 10.0652 - val_MAE: 9.8883\n",
            "Epoch 28/100\n",
            "122/122 [==============================] - 107s 877ms/step - loss: 8.8821 - MAE: 8.6982 - val_loss: 11.1015 - val_MAE: 10.9164\n",
            "Epoch 29/100\n",
            "122/122 [==============================] - 106s 867ms/step - loss: 8.7797 - MAE: 8.5918 - val_loss: 10.7842 - val_MAE: 10.6081\n",
            "Epoch 30/100\n",
            "122/122 [==============================] - 104s 848ms/step - loss: 8.6173 - MAE: 8.4427 - val_loss: 10.6107 - val_MAE: 10.4393\n",
            "Epoch 31/100\n",
            "122/122 [==============================] - 105s 854ms/step - loss: 8.4700 - MAE: 8.2959 - val_loss: 9.8028 - val_MAE: 9.6285\n",
            "Epoch 32/100\n",
            "122/122 [==============================] - 107s 872ms/step - loss: 8.4938 - MAE: 8.3147 - val_loss: 9.9730 - val_MAE: 9.8087\n",
            "Epoch 33/100\n",
            "122/122 [==============================] - 107s 873ms/step - loss: 8.2912 - MAE: 8.1206 - val_loss: 11.5789 - val_MAE: 11.4010\n",
            "Epoch 34/100\n",
            "122/122 [==============================] - 107s 875ms/step - loss: 8.3458 - MAE: 8.1750 - val_loss: 10.7187 - val_MAE: 10.5458\n",
            "Epoch 35/100\n",
            "122/122 [==============================] - 103s 838ms/step - loss: 8.0762 - MAE: 7.9042 - val_loss: 10.2926 - val_MAE: 10.1314\n",
            "Epoch 36/100\n",
            "122/122 [==============================] - 106s 866ms/step - loss: 7.9027 - MAE: 7.7483 - val_loss: 10.1526 - val_MAE: 10.0052\n",
            "Epoch 37/100\n",
            "122/122 [==============================] - 104s 848ms/step - loss: 8.0639 - MAE: 7.8997 - val_loss: 11.4119 - val_MAE: 11.2510\n",
            "Epoch 38/100\n",
            "122/122 [==============================] - 107s 871ms/step - loss: 7.8424 - MAE: 7.6844 - val_loss: 12.0619 - val_MAE: 11.9158\n",
            "Epoch 39/100\n",
            "122/122 [==============================] - 105s 859ms/step - loss: 7.6948 - MAE: 7.5481 - val_loss: 9.8282 - val_MAE: 9.6779\n",
            "Epoch 40/100\n",
            "122/122 [==============================] - 107s 873ms/step - loss: 7.8260 - MAE: 7.6758 - val_loss: 10.9758 - val_MAE: 10.8206\n",
            "Epoch 41/100\n",
            "122/122 [==============================] - 106s 865ms/step - loss: 7.6367 - MAE: 7.4806 - val_loss: 11.6667 - val_MAE: 11.5082\n",
            "Epoch 42/100\n",
            "122/122 [==============================] - 107s 871ms/step - loss: 7.5672 - MAE: 7.4101 - val_loss: 9.7615 - val_MAE: 9.6076\n",
            "Epoch 43/100\n",
            "122/122 [==============================] - 107s 875ms/step - loss: 7.5714 - MAE: 7.4188 - val_loss: 10.5191 - val_MAE: 10.3648\n",
            "Epoch 44/100\n",
            "122/122 [==============================] - 106s 869ms/step - loss: 7.3303 - MAE: 7.1840 - val_loss: 9.5158 - val_MAE: 9.3699\n",
            "Epoch 45/100\n",
            "122/122 [==============================] - 104s 850ms/step - loss: 7.3485 - MAE: 7.2110 - val_loss: 10.3137 - val_MAE: 10.1682\n",
            "Epoch 46/100\n",
            "122/122 [==============================] - 106s 867ms/step - loss: 7.2449 - MAE: 7.0968 - val_loss: 10.6735 - val_MAE: 10.5291\n",
            "Epoch 47/100\n",
            "122/122 [==============================] - 103s 839ms/step - loss: 7.1633 - MAE: 7.0273 - val_loss: 9.2051 - val_MAE: 9.0704\n",
            "Epoch 48/100\n",
            "122/122 [==============================] - 107s 872ms/step - loss: 7.0745 - MAE: 6.9384 - val_loss: 9.8655 - val_MAE: 9.7319\n",
            "Epoch 49/100\n",
            "122/122 [==============================] - 106s 869ms/step - loss: 7.0661 - MAE: 6.9344 - val_loss: 9.0770 - val_MAE: 8.9418\n",
            "Epoch 50/100\n",
            "122/122 [==============================] - 107s 869ms/step - loss: 7.0123 - MAE: 6.8716 - val_loss: 12.3376 - val_MAE: 12.1897\n",
            "Epoch 51/100\n",
            "122/122 [==============================] - 106s 868ms/step - loss: 7.0139 - MAE: 6.8697 - val_loss: 9.2784 - val_MAE: 9.1308\n",
            "Epoch 52/100\n",
            "122/122 [==============================] - 106s 864ms/step - loss: 6.8427 - MAE: 6.7023 - val_loss: 9.3396 - val_MAE: 9.2059\n",
            "Epoch 53/100\n",
            "122/122 [==============================] - 112s 914ms/step - loss: 6.7349 - MAE: 6.5999 - val_loss: 9.4067 - val_MAE: 9.2757\n",
            "Epoch 54/100\n",
            "122/122 [==============================] - 107s 869ms/step - loss: 6.7127 - MAE: 6.5853 - val_loss: 8.9444 - val_MAE: 8.8198\n",
            "Epoch 55/100\n",
            "122/122 [==============================] - 106s 868ms/step - loss: 6.7780 - MAE: 6.6479 - val_loss: 9.6009 - val_MAE: 9.4654\n",
            "Epoch 56/100\n",
            "122/122 [==============================] - 107s 873ms/step - loss: 6.7130 - MAE: 6.5801 - val_loss: 10.0682 - val_MAE: 9.9312\n",
            "Epoch 57/100\n",
            "122/122 [==============================] - 107s 875ms/step - loss: 6.7484 - MAE: 6.6021 - val_loss: 9.5194 - val_MAE: 9.3736\n",
            "Epoch 58/100\n",
            "122/122 [==============================] - 107s 875ms/step - loss: 6.3429 - MAE: 6.2086 - val_loss: 10.1620 - val_MAE: 10.0336\n",
            "Epoch 59/100\n",
            "122/122 [==============================] - 106s 867ms/step - loss: 6.3820 - MAE: 6.2575 - val_loss: 9.4526 - val_MAE: 9.3265\n",
            "Epoch 60/100\n",
            "122/122 [==============================] - 106s 868ms/step - loss: 6.4833 - MAE: 6.3582 - val_loss: 9.5147 - val_MAE: 9.3939\n",
            "Epoch 61/100\n",
            "122/122 [==============================] - 105s 858ms/step - loss: 6.3576 - MAE: 6.2366 - val_loss: 9.1677 - val_MAE: 9.0423\n",
            "Epoch 62/100\n",
            "122/122 [==============================] - 107s 869ms/step - loss: 6.2529 - MAE: 6.1309 - val_loss: 10.8650 - val_MAE: 10.7430\n",
            "Epoch 63/100\n",
            "122/122 [==============================] - 108s 878ms/step - loss: 6.2492 - MAE: 6.1264 - val_loss: 10.2363 - val_MAE: 10.1157\n",
            "Epoch 64/100\n",
            "122/122 [==============================] - 107s 871ms/step - loss: 6.2165 - MAE: 6.0943 - val_loss: 11.6249 - val_MAE: 11.5013\n",
            "Epoch 65/100\n",
            "122/122 [==============================] - 107s 871ms/step - loss: 6.2342 - MAE: 6.1111 - val_loss: 9.9385 - val_MAE: 9.8204\n",
            "Epoch 66/100\n",
            "122/122 [==============================] - 107s 873ms/step - loss: 6.1589 - MAE: 6.0353 - val_loss: 9.8783 - val_MAE: 9.7531\n",
            "Epoch 67/100\n",
            "122/122 [==============================] - 107s 875ms/step - loss: 5.9297 - MAE: 5.8079 - val_loss: 9.1058 - val_MAE: 8.9878\n",
            "Epoch 68/100\n",
            "122/122 [==============================] - 107s 872ms/step - loss: 6.0312 - MAE: 5.9122 - val_loss: 9.6073 - val_MAE: 9.4875\n",
            "Epoch 69/100\n",
            "122/122 [==============================] - 107s 871ms/step - loss: 5.9258 - MAE: 5.8074 - val_loss: 9.7530 - val_MAE: 9.6353\n",
            "Epoch 70/100\n",
            "122/122 [==============================] - 105s 858ms/step - loss: 5.8713 - MAE: 5.7543 - val_loss: 9.0347 - val_MAE: 8.9166\n",
            "Epoch 71/100\n",
            "122/122 [==============================] - 106s 867ms/step - loss: 5.8919 - MAE: 5.7761 - val_loss: 8.8999 - val_MAE: 8.7823\n",
            "Epoch 72/100\n",
            "122/122 [==============================] - 107s 872ms/step - loss: 5.8022 - MAE: 5.6847 - val_loss: 9.1031 - val_MAE: 8.9895\n",
            "Epoch 73/100\n",
            "122/122 [==============================] - 107s 872ms/step - loss: 5.6495 - MAE: 5.5368 - val_loss: 9.4210 - val_MAE: 9.3061\n",
            "Epoch 74/100\n",
            "122/122 [==============================] - 106s 866ms/step - loss: 5.7653 - MAE: 5.6522 - val_loss: 10.1698 - val_MAE: 10.0589\n",
            "Epoch 75/100\n",
            "122/122 [==============================] - 107s 871ms/step - loss: 5.7714 - MAE: 5.6565 - val_loss: 9.8204 - val_MAE: 9.7061\n",
            "Epoch 76/100\n",
            "122/122 [==============================] - 107s 872ms/step - loss: 5.6039 - MAE: 5.4890 - val_loss: 8.7972 - val_MAE: 8.6817\n",
            "Epoch 77/100\n",
            "122/122 [==============================] - 106s 868ms/step - loss: 5.5937 - MAE: 5.4814 - val_loss: 9.7788 - val_MAE: 9.6692\n",
            "Epoch 78/100\n",
            "122/122 [==============================] - 106s 868ms/step - loss: 5.5707 - MAE: 5.4624 - val_loss: 8.9906 - val_MAE: 8.8829\n",
            "Epoch 79/100\n",
            "122/122 [==============================] - 106s 863ms/step - loss: 5.5993 - MAE: 5.4886 - val_loss: 9.2704 - val_MAE: 9.1549\n",
            "Epoch 80/100\n",
            "122/122 [==============================] - 106s 866ms/step - loss: 5.5156 - MAE: 5.3932 - val_loss: 9.4935 - val_MAE: 9.3773\n",
            "Epoch 81/100\n",
            "122/122 [==============================] - 105s 860ms/step - loss: 5.5267 - MAE: 5.4115 - val_loss: 8.7953 - val_MAE: 8.6820\n",
            "Epoch 82/100\n",
            "122/122 [==============================] - 105s 854ms/step - loss: 5.3642 - MAE: 5.2518 - val_loss: 8.7994 - val_MAE: 8.6895\n",
            "Epoch 83/100\n",
            "122/122 [==============================] - 106s 867ms/step - loss: 5.2660 - MAE: 5.1567 - val_loss: 8.9625 - val_MAE: 8.8512\n",
            "Epoch 84/100\n",
            "122/122 [==============================] - 107s 871ms/step - loss: 5.4099 - MAE: 5.2989 - val_loss: 9.1359 - val_MAE: 9.0272\n",
            "Epoch 85/100\n",
            "122/122 [==============================] - 106s 861ms/step - loss: 5.4205 - MAE: 5.3143 - val_loss: 9.0528 - val_MAE: 8.9491\n",
            "Epoch 86/100\n",
            "122/122 [==============================] - 107s 869ms/step - loss: 5.2879 - MAE: 5.1798 - val_loss: 9.4727 - val_MAE: 9.3678\n",
            "Epoch 87/100\n",
            "122/122 [==============================] - 106s 862ms/step - loss: 5.2298 - MAE: 5.1211 - val_loss: 9.4718 - val_MAE: 9.3631\n",
            "Epoch 88/100\n",
            "122/122 [==============================] - 107s 870ms/step - loss: 5.1525 - MAE: 5.0436 - val_loss: 9.1083 - val_MAE: 9.0018\n",
            "Epoch 89/100\n",
            "122/122 [==============================] - 106s 862ms/step - loss: 5.1495 - MAE: 5.0413 - val_loss: 9.1032 - val_MAE: 8.9967\n",
            "Epoch 90/100\n",
            "122/122 [==============================] - 106s 861ms/step - loss: 5.0117 - MAE: 4.9076 - val_loss: 8.6366 - val_MAE: 8.5363\n",
            "Epoch 91/100\n",
            "122/122 [==============================] - 106s 862ms/step - loss: 4.9619 - MAE: 4.8616 - val_loss: 9.2850 - val_MAE: 9.1833\n",
            "Epoch 92/100\n",
            "122/122 [==============================] - 106s 867ms/step - loss: 4.8796 - MAE: 4.7806 - val_loss: 8.4093 - val_MAE: 8.3110\n",
            "Epoch 93/100\n",
            "122/122 [==============================] - 107s 875ms/step - loss: 4.9901 - MAE: 4.8941 - val_loss: 8.9258 - val_MAE: 8.8272\n",
            "Epoch 94/100\n",
            "122/122 [==============================] - 106s 868ms/step - loss: 5.0832 - MAE: 4.9815 - val_loss: 9.5321 - val_MAE: 9.4300\n",
            "Epoch 95/100\n",
            "122/122 [==============================] - 106s 865ms/step - loss: 4.9051 - MAE: 4.8046 - val_loss: 8.6251 - val_MAE: 8.5223\n",
            "Epoch 96/100\n",
            "122/122 [==============================] - 107s 873ms/step - loss: 4.9357 - MAE: 4.8327 - val_loss: 10.0206 - val_MAE: 9.9168\n",
            "Epoch 97/100\n",
            "122/122 [==============================] - 107s 870ms/step - loss: 4.8433 - MAE: 4.7389 - val_loss: 8.7129 - val_MAE: 8.6121\n",
            "Epoch 98/100\n",
            "122/122 [==============================] - 106s 868ms/step - loss: 4.8568 - MAE: 4.7574 - val_loss: 9.3339 - val_MAE: 9.2347\n",
            "Epoch 99/100\n",
            "122/122 [==============================] - 106s 868ms/step - loss: 4.7395 - MAE: 4.6405 - val_loss: 8.5382 - val_MAE: 8.4397\n",
            "Epoch 100/100\n",
            "122/122 [==============================] - 107s 871ms/step - loss: 4.7612 - MAE: 4.6642 - val_loss: 8.6193 - val_MAE: 8.5208\n",
            "46/46 [==============================] - 9s 203ms/step - loss: 8.7941 - MAE: 8.6955\n"
          ]
        }
      ]
    },
    {
      "cell_type": "code",
      "source": [
        "plt.plot(history.history['loss'])\n",
        "plt.plot(history.history['val_loss'])\n",
        "plt.title('Model loss')\n",
        "plt.ylabel('Loss')\n",
        "plt.xlabel('Epoch')\n",
        "plt.legend(['Train', 'Validation'], loc='upper left')\n",
        "plt.show()"
      ],
      "metadata": {
        "colab": {
          "base_uri": "https://localhost:8080/",
          "height": 295
        },
        "id": "i80J8XlNPiz4",
        "outputId": "6fb07dcf-9c7b-41ec-8402-394c04e4f846"
      },
      "execution_count": null,
      "outputs": [
        {
          "output_type": "display_data",
          "data": {
            "text/plain": [
              "<Figure size 432x288 with 1 Axes>"
            ],
            "image/png": "[encoded data removed]"
          },
          "metadata": {
            "needs_background": "light"
          }
        }
      ]
    },
    {
      "cell_type": "code",
      "source": [
        "base_model = InceptionV3(weights='imagenet', include_top=False)\n",
        "\n",
        "input = Input(shape=(256,256,3),name='input1')\n",
        "input_gender = Input(shape=(1,),dtype='float32',name='input2')\n",
        "output = base_model(input)\n",
        "gender_embedding=Dense(32)(input_gender)\n",
        "#gender_embedding=Dense(12)(gender_embedding)\n",
        "#x = keras.layers.MaxPooling2D(pool_size=(5,5))(output)\n",
        "#x = keras.layers.Conv2D(512,kernel_size=(3,3))(x)\n",
        "#x = conv2d_bn(output, 512, 3, 3, padding='valid') \n",
        "#x = conv2d_bn(x, 256, 3, 3, padding='valid') \n",
        "#x = conv2d_bn(x, 256, 3, 3, padding='valid') \n",
        "#x=channel_attention(x)\n",
        "x=spatial_attention3(output)\n",
        "\n",
        "print (K.int_shape(output))\n",
        "x = keras.layers.MaxPooling2D(pool_size=(2,2))(x)\n",
        "print (K.int_shape(x))\n",
        "x=Flatten()(x)\n",
        "f = keras.layers.Concatenate(axis=1)([x,gender_embedding])\n",
        "print (K.int_shape(f)) \n",
        "#x = Dense(256, activation='relu')(x)\n",
        "predictions = Dense(1)(f)\n",
        "model = Model(inputs=[input,input_gender], outputs=predictions)\n",
        "Adam=tf.keras.optimizers.Adam(lr=0.0001,beta_1=0.9,beta_2=0.999)\n",
        "model.compile(optimizer=Adam, loss='mean_absolute_error', metrics=['MAE'])\n",
        "#model.summary()\n",
        "from keras.preprocessing.image import ImageDataGenerator\n",
        "DataGen = ImageDataGenerator(rotation_range=20,width_shift_range=0.15,height_shift_range=0.15,zoom_range=0.2,horizontal_flip=True)\n",
        "def Generator(x_train,gender_train,y_train,batch_size):\n",
        "    loopcount = len(y_train)//batch_size\n",
        "    i=0\n",
        "    while (True):\n",
        "        if i>loopcount:\n",
        "            i=0\n",
        "        # i=np.random.randint(0,loopcount)\n",
        "        x_train_batch = x_train[i*batch_size:(i+1)*batch_size,:,:,:]\n",
        "        x_train_batch = DataAugment(x_train_batch)\n",
        "        gender_train_batch = gender_train[i*batch_size:(i+1)*batch_size]\n",
        "        y_train_batch = y_train[i*batch_size:(i+1)*batch_size]\n",
        "        inputs = [x_train_batch,gender_train_batch]\n",
        "        target = y_train_batch\n",
        "        yield (inputs ,target)\n",
        "        i = i+1\n",
        "checkpoint =keras.callbacks.ModelCheckpoint(filepath='weights/weights.{epoch:02d}-{val_loss:.2f}.hdf5',save_weights_only=True,period=100)\n",
        "history = model.fit_generator(DataGen.flow([train_x,train_gen],train_y,batch_size=64),steps_per_epoch=np.ceil(len(train_y)/64),epochs=100,verbose=1,validation_data=([valid_x,valid_gen],valid_y))\n",
        "#history = model.fit_generator(Generator(x_train,gender_train,y_train,batch_size),steps_per_epoch=np.ceil(len(y_train)/batch_size),epochs=10,verbose=1,validation_data=([x_valid,gender_valid],y_valid))\n",
        "#history=model.fit([x_train,gender_train],y_train,batch_size=32,epochs=5,verbose=1,validation_data=([x_valid,gender_valid],y_valid), callbacks = [checkpoint])\n",
        "score = model.evaluate([test_x,test_gen], test_y, batch_size=64)"
      ],
      "metadata": {
        "colab": {
          "base_uri": "https://localhost:8080/"
        },
        "id": "ssFtMcy-ZUq8",
        "outputId": "3d5497eb-a55d-454c-99fa-de2e103f7742"
      },
      "execution_count": null,
      "outputs": [
        {
          "metadata": {
            "tags": null
          },
          "name": "stderr",
          "output_type": "stream",
          "text": [
            "WARNING:tensorflow:`period` argument is deprecated. Please use `save_freq` to specify the frequency in number of batches seen.\n"
          ]
        },
        {
          "metadata": {
            "tags": null
          },
          "name": "stdout",
          "output_type": "stream",
          "text": [
            "(None, 6, 6, 2048)\n",
            "(None, 3, 3, 2048)\n",
            "(None, 18464)\n"
          ]
        },
        {
          "metadata": {
            "tags": null
          },
          "name": "stderr",
          "output_type": "stream",
          "text": [
            "<ipython-input-75-93a65a7ba113>:46: UserWarning: `Model.fit_generator` is deprecated and will be removed in a future version. Please use `Model.fit`, which supports generators.\n",
            "  history = model.fit_generator(DataGen.flow([train_x,train_gen],train_y,batch_size=64),steps_per_epoch=np.ceil(len(train_y)/64),epochs=100,verbose=1,validation_data=([valid_x,valid_gen],valid_y))\n"
          ]
        },
        {
          "output_type": "stream",
          "name": "stdout",
          "text": [
            "Epoch 1/100\n",
            "122/122 [==============================] - 117s 907ms/step - loss: 36.2376 - MAE: 36.2254 - val_loss: 22.3356 - val_MAE: 22.3234\n",
            "Epoch 2/100\n",
            "122/122 [==============================] - 104s 851ms/step - loss: 15.5699 - MAE: 15.5577 - val_loss: 16.0092 - val_MAE: 15.9969\n",
            "Epoch 3/100\n",
            "122/122 [==============================] - 106s 863ms/step - loss: 14.1706 - MAE: 14.1584 - val_loss: 13.6070 - val_MAE: 13.5948\n",
            "Epoch 4/100\n",
            "122/122 [==============================] - 106s 863ms/step - loss: 13.1357 - MAE: 13.1235 - val_loss: 14.5610 - val_MAE: 14.5488\n",
            "Epoch 5/100\n",
            "122/122 [==============================] - 104s 849ms/step - loss: 12.8356 - MAE: 12.8234 - val_loss: 11.7547 - val_MAE: 11.7425\n",
            "Epoch 6/100\n",
            "122/122 [==============================] - 107s 872ms/step - loss: 12.1886 - MAE: 12.1764 - val_loss: 16.3928 - val_MAE: 16.3806\n",
            "Epoch 7/100\n",
            "122/122 [==============================] - 106s 864ms/step - loss: 12.0050 - MAE: 11.9928 - val_loss: 11.9501 - val_MAE: 11.9379\n",
            "Epoch 8/100\n",
            "122/122 [==============================] - 103s 839ms/step - loss: 11.6635 - MAE: 11.6514 - val_loss: 18.0476 - val_MAE: 18.0354\n",
            "Epoch 9/100\n",
            "122/122 [==============================] - 106s 865ms/step - loss: 11.4505 - MAE: 11.4384 - val_loss: 11.8839 - val_MAE: 11.8717\n",
            "Epoch 10/100\n",
            "122/122 [==============================] - 105s 853ms/step - loss: 11.3650 - MAE: 11.3528 - val_loss: 11.1069 - val_MAE: 11.0947\n",
            "Epoch 11/100\n",
            "122/122 [==============================] - 105s 857ms/step - loss: 10.9067 - MAE: 10.8946 - val_loss: 13.5630 - val_MAE: 13.5509\n",
            "Epoch 12/100\n",
            "122/122 [==============================] - 106s 865ms/step - loss: 11.0030 - MAE: 10.9909 - val_loss: 12.2184 - val_MAE: 12.2063\n",
            "Epoch 13/100\n",
            "122/122 [==============================] - 108s 879ms/step - loss: 10.9766 - MAE: 10.9645 - val_loss: 12.5522 - val_MAE: 12.5400\n",
            "Epoch 14/100\n",
            "122/122 [==============================] - 105s 858ms/step - loss: 10.8029 - MAE: 10.7908 - val_loss: 16.0243 - val_MAE: 16.0122\n",
            "Epoch 15/100\n",
            "122/122 [==============================] - 106s 868ms/step - loss: 10.8099 - MAE: 10.7978 - val_loss: 12.2661 - val_MAE: 12.2540\n",
            "Epoch 16/100\n",
            "122/122 [==============================] - 106s 861ms/step - loss: 10.3362 - MAE: 10.3241 - val_loss: 11.9612 - val_MAE: 11.9491\n",
            "Epoch 17/100\n",
            "122/122 [==============================] - 107s 875ms/step - loss: 10.0604 - MAE: 10.0483 - val_loss: 12.0704 - val_MAE: 12.0583\n",
            "Epoch 18/100\n",
            "122/122 [==============================] - 107s 874ms/step - loss: 10.1402 - MAE: 10.1281 - val_loss: 13.4310 - val_MAE: 13.4189\n",
            "Epoch 19/100\n",
            "122/122 [==============================] - 106s 866ms/step - loss: 9.8684 - MAE: 9.8563 - val_loss: 11.4213 - val_MAE: 11.4092\n",
            "Epoch 20/100\n",
            "122/122 [==============================] - 104s 852ms/step - loss: 9.8794 - MAE: 9.8673 - val_loss: 10.5049 - val_MAE: 10.4928\n",
            "Epoch 21/100\n",
            "122/122 [==============================] - 107s 873ms/step - loss: 9.9122 - MAE: 9.9001 - val_loss: 10.5777 - val_MAE: 10.5657\n",
            "Epoch 22/100\n",
            "122/122 [==============================] - 106s 865ms/step - loss: 9.6574 - MAE: 9.6453 - val_loss: 10.2264 - val_MAE: 10.2144\n",
            "Epoch 23/100\n",
            "122/122 [==============================] - 108s 878ms/step - loss: 9.8016 - MAE: 9.7896 - val_loss: 11.4565 - val_MAE: 11.4445\n",
            "Epoch 24/100\n",
            "122/122 [==============================] - 109s 886ms/step - loss: 9.3704 - MAE: 9.3584 - val_loss: 10.1206 - val_MAE: 10.1086\n",
            "Epoch 25/100\n",
            "122/122 [==============================] - 107s 876ms/step - loss: 9.1894 - MAE: 9.1773 - val_loss: 10.7865 - val_MAE: 10.7745\n",
            "Epoch 26/100\n",
            "122/122 [==============================] - 107s 876ms/step - loss: 9.1742 - MAE: 9.1622 - val_loss: 10.4291 - val_MAE: 10.4171\n",
            "Epoch 27/100\n",
            "122/122 [==============================] - 107s 875ms/step - loss: 9.3291 - MAE: 9.3171 - val_loss: 10.3980 - val_MAE: 10.3860\n",
            "Epoch 28/100\n",
            "122/122 [==============================] - 106s 868ms/step - loss: 8.9604 - MAE: 8.9484 - val_loss: 11.2236 - val_MAE: 11.2116\n",
            "Epoch 29/100\n",
            "122/122 [==============================] - 108s 878ms/step - loss: 8.9345 - MAE: 8.9226 - val_loss: 10.7800 - val_MAE: 10.7680\n",
            "Epoch 30/100\n",
            "122/122 [==============================] - 108s 878ms/step - loss: 8.7204 - MAE: 8.7084 - val_loss: 10.6161 - val_MAE: 10.6042\n",
            "Epoch 31/100\n",
            "122/122 [==============================] - 107s 872ms/step - loss: 8.4999 - MAE: 8.4879 - val_loss: 9.7101 - val_MAE: 9.6982\n",
            "Epoch 32/100\n",
            "122/122 [==============================] - 107s 869ms/step - loss: 8.4491 - MAE: 8.4372 - val_loss: 10.0940 - val_MAE: 10.0821\n",
            "Epoch 33/100\n",
            "122/122 [==============================] - 108s 878ms/step - loss: 8.7034 - MAE: 8.6915 - val_loss: 10.6856 - val_MAE: 10.6737\n",
            "Epoch 34/100\n",
            "122/122 [==============================] - 107s 872ms/step - loss: 8.3467 - MAE: 8.3349 - val_loss: 14.3159 - val_MAE: 14.3040\n",
            "Epoch 35/100\n",
            "122/122 [==============================] - 111s 908ms/step - loss: 8.2243 - MAE: 8.2124 - val_loss: 10.8985 - val_MAE: 10.8866\n",
            "Epoch 36/100\n",
            "122/122 [==============================] - 107s 873ms/step - loss: 8.1663 - MAE: 8.1544 - val_loss: 9.6342 - val_MAE: 9.6224\n",
            "Epoch 37/100\n",
            "122/122 [==============================] - 106s 866ms/step - loss: 8.0325 - MAE: 8.0207 - val_loss: 9.4455 - val_MAE: 9.4337\n",
            "Epoch 38/100\n",
            "122/122 [==============================] - 107s 876ms/step - loss: 8.0322 - MAE: 8.0204 - val_loss: 10.7068 - val_MAE: 10.6950\n",
            "Epoch 39/100\n",
            "122/122 [==============================] - 107s 876ms/step - loss: 8.0242 - MAE: 8.0125 - val_loss: 10.4409 - val_MAE: 10.4291\n",
            "Epoch 40/100\n",
            "122/122 [==============================] - 107s 871ms/step - loss: 8.2500 - MAE: 8.2383 - val_loss: 9.8166 - val_MAE: 9.8048\n",
            "Epoch 41/100\n",
            "122/122 [==============================] - 107s 876ms/step - loss: 7.6701 - MAE: 7.6584 - val_loss: 9.6691 - val_MAE: 9.6574\n",
            "Epoch 42/100\n",
            "122/122 [==============================] - 107s 874ms/step - loss: 7.6087 - MAE: 7.5969 - val_loss: 10.1878 - val_MAE: 10.1761\n",
            "Epoch 43/100\n",
            "122/122 [==============================] - 106s 865ms/step - loss: 7.6058 - MAE: 7.5941 - val_loss: 9.9489 - val_MAE: 9.9372\n",
            "Epoch 44/100\n",
            "122/122 [==============================] - 107s 873ms/step - loss: 7.5639 - MAE: 7.5522 - val_loss: 10.2274 - val_MAE: 10.2157\n",
            "Epoch 45/100\n",
            "122/122 [==============================] - 107s 875ms/step - loss: 7.4758 - MAE: 7.4641 - val_loss: 9.6170 - val_MAE: 9.6053\n",
            "Epoch 46/100\n",
            "122/122 [==============================] - 107s 874ms/step - loss: 7.3952 - MAE: 7.3835 - val_loss: 9.7756 - val_MAE: 9.7639\n",
            "Epoch 47/100\n",
            "122/122 [==============================] - 108s 884ms/step - loss: 7.2969 - MAE: 7.2853 - val_loss: 9.9564 - val_MAE: 9.9448\n",
            "Epoch 48/100\n",
            "122/122 [==============================] - 106s 867ms/step - loss: 7.2005 - MAE: 7.1889 - val_loss: 10.2468 - val_MAE: 10.2352\n",
            "Epoch 49/100\n",
            "122/122 [==============================] - 107s 872ms/step - loss: 7.3033 - MAE: 7.2917 - val_loss: 9.4739 - val_MAE: 9.4623\n",
            "Epoch 50/100\n",
            "122/122 [==============================] - 106s 869ms/step - loss: 7.1240 - MAE: 7.1124 - val_loss: 8.9463 - val_MAE: 8.9348\n",
            "Epoch 51/100\n",
            "122/122 [==============================] - 106s 869ms/step - loss: 7.0615 - MAE: 7.0499 - val_loss: 10.5866 - val_MAE: 10.5751\n",
            "Epoch 52/100\n",
            "122/122 [==============================] - 106s 862ms/step - loss: 7.0746 - MAE: 7.0631 - val_loss: 8.9113 - val_MAE: 8.8997\n",
            "Epoch 53/100\n",
            "122/122 [==============================] - 107s 876ms/step - loss: 7.1065 - MAE: 7.0950 - val_loss: 10.0934 - val_MAE: 10.0819\n",
            "Epoch 54/100\n",
            "122/122 [==============================] - 106s 867ms/step - loss: 6.8979 - MAE: 6.8864 - val_loss: 9.7409 - val_MAE: 9.7294\n",
            "Epoch 55/100\n",
            "122/122 [==============================] - 106s 864ms/step - loss: 6.8604 - MAE: 6.8489 - val_loss: 9.8423 - val_MAE: 9.8309\n",
            "Epoch 56/100\n",
            "122/122 [==============================] - 108s 881ms/step - loss: 6.7261 - MAE: 6.7147 - val_loss: 9.3775 - val_MAE: 9.3661\n",
            "Epoch 57/100\n",
            "122/122 [==============================] - 107s 872ms/step - loss: 6.7019 - MAE: 6.6905 - val_loss: 9.4503 - val_MAE: 9.4388\n",
            "Epoch 58/100\n",
            "122/122 [==============================] - 106s 866ms/step - loss: 6.6024 - MAE: 6.5910 - val_loss: 9.4304 - val_MAE: 9.4190\n",
            "Epoch 59/100\n",
            "122/122 [==============================] - 107s 876ms/step - loss: 6.5257 - MAE: 6.5143 - val_loss: 10.2610 - val_MAE: 10.2496\n",
            "Epoch 60/100\n",
            "122/122 [==============================] - 107s 872ms/step - loss: 6.5031 - MAE: 6.4917 - val_loss: 9.0780 - val_MAE: 9.0666\n",
            "Epoch 61/100\n",
            "122/122 [==============================] - 106s 862ms/step - loss: 6.4609 - MAE: 6.4495 - val_loss: 9.0171 - val_MAE: 9.0058\n",
            "Epoch 62/100\n",
            "122/122 [==============================] - 108s 880ms/step - loss: 6.4571 - MAE: 6.4458 - val_loss: 9.2479 - val_MAE: 9.2366\n",
            "Epoch 63/100\n",
            "122/122 [==============================] - 107s 875ms/step - loss: 6.5910 - MAE: 6.5797 - val_loss: 9.3494 - val_MAE: 9.3380\n",
            "Epoch 64/100\n",
            "122/122 [==============================] - 107s 874ms/step - loss: 6.4838 - MAE: 6.4725 - val_loss: 9.1385 - val_MAE: 9.1272\n",
            "Epoch 65/100\n",
            "122/122 [==============================] - 108s 879ms/step - loss: 6.2291 - MAE: 6.2179 - val_loss: 9.6765 - val_MAE: 9.6652\n",
            "Epoch 66/100\n",
            "122/122 [==============================] - 107s 874ms/step - loss: 6.3255 - MAE: 6.3143 - val_loss: 9.3547 - val_MAE: 9.3434\n",
            "Epoch 67/100\n",
            "122/122 [==============================] - 106s 861ms/step - loss: 6.1296 - MAE: 6.1183 - val_loss: 8.9429 - val_MAE: 8.9316\n",
            "Epoch 68/100\n",
            "122/122 [==============================] - 106s 869ms/step - loss: 6.1283 - MAE: 6.1171 - val_loss: 8.8550 - val_MAE: 8.8438\n",
            "Epoch 69/100\n",
            "122/122 [==============================] - 107s 874ms/step - loss: 6.1414 - MAE: 6.1302 - val_loss: 8.7878 - val_MAE: 8.7766\n",
            "Epoch 70/100\n",
            "122/122 [==============================] - 107s 870ms/step - loss: 6.0712 - MAE: 6.0600 - val_loss: 8.7770 - val_MAE: 8.7658\n",
            "Epoch 71/100\n",
            "122/122 [==============================] - 107s 871ms/step - loss: 6.1852 - MAE: 6.1741 - val_loss: 9.1410 - val_MAE: 9.1298\n",
            "Epoch 72/100\n",
            "122/122 [==============================] - 106s 867ms/step - loss: 6.0465 - MAE: 6.0353 - val_loss: 8.8590 - val_MAE: 8.8478\n",
            "Epoch 73/100\n",
            "122/122 [==============================] - 106s 866ms/step - loss: 5.8474 - MAE: 5.8363 - val_loss: 9.0737 - val_MAE: 9.0626\n",
            "Epoch 74/100\n",
            "122/122 [==============================] - 107s 872ms/step - loss: 5.7387 - MAE: 5.7276 - val_loss: 8.6866 - val_MAE: 8.6755\n",
            "Epoch 75/100\n",
            "122/122 [==============================] - 107s 870ms/step - loss: 5.8001 - MAE: 5.7890 - val_loss: 9.6943 - val_MAE: 9.6832\n",
            "Epoch 76/100\n",
            "122/122 [==============================] - 107s 873ms/step - loss: 5.7310 - MAE: 5.7199 - val_loss: 8.9129 - val_MAE: 8.9018\n",
            "Epoch 77/100\n",
            "122/122 [==============================] - 107s 875ms/step - loss: 5.8149 - MAE: 5.8038 - val_loss: 9.2589 - val_MAE: 9.2479\n",
            "Epoch 78/100\n",
            "122/122 [==============================] - 107s 877ms/step - loss: 5.7915 - MAE: 5.7804 - val_loss: 9.0895 - val_MAE: 9.0784\n",
            "Epoch 79/100\n",
            "122/122 [==============================] - 107s 875ms/step - loss: 5.6807 - MAE: 5.6697 - val_loss: 10.2777 - val_MAE: 10.2667\n",
            "Epoch 80/100\n",
            "122/122 [==============================] - 107s 871ms/step - loss: 5.6706 - MAE: 5.6595 - val_loss: 8.8135 - val_MAE: 8.8025\n",
            "Epoch 81/100\n",
            "122/122 [==============================] - 107s 874ms/step - loss: 5.5372 - MAE: 5.5262 - val_loss: 9.2850 - val_MAE: 9.2740\n",
            "Epoch 82/100\n",
            "122/122 [==============================] - 108s 880ms/step - loss: 5.5951 - MAE: 5.5842 - val_loss: 9.1148 - val_MAE: 9.1038\n",
            "Epoch 83/100\n",
            "122/122 [==============================] - 108s 878ms/step - loss: 5.4671 - MAE: 5.4562 - val_loss: 8.7780 - val_MAE: 8.7671\n",
            "Epoch 84/100\n",
            "122/122 [==============================] - 108s 879ms/step - loss: 5.3840 - MAE: 5.3731 - val_loss: 8.6489 - val_MAE: 8.6380\n",
            "Epoch 85/100\n",
            "122/122 [==============================] - 107s 875ms/step - loss: 5.3157 - MAE: 5.3047 - val_loss: 8.8660 - val_MAE: 8.8550\n",
            "Epoch 86/100\n",
            "122/122 [==============================] - 108s 879ms/step - loss: 5.3775 - MAE: 5.3666 - val_loss: 9.3480 - val_MAE: 9.3371\n",
            "Epoch 87/100\n",
            "122/122 [==============================] - 107s 875ms/step - loss: 5.3907 - MAE: 5.3798 - val_loss: 8.8280 - val_MAE: 8.8171\n",
            "Epoch 88/100\n",
            "122/122 [==============================] - 106s 868ms/step - loss: 5.3021 - MAE: 5.2913 - val_loss: 8.6911 - val_MAE: 8.6802\n",
            "Epoch 89/100\n",
            "122/122 [==============================] - 108s 882ms/step - loss: 5.1390 - MAE: 5.1281 - val_loss: 8.6167 - val_MAE: 8.6059\n",
            "Epoch 90/100\n",
            "122/122 [==============================] - 108s 880ms/step - loss: 5.1994 - MAE: 5.1886 - val_loss: 8.6616 - val_MAE: 8.6508\n",
            "Epoch 91/100\n",
            "122/122 [==============================] - 107s 872ms/step - loss: 5.2029 - MAE: 5.1921 - val_loss: 9.7590 - val_MAE: 9.7482\n",
            "Epoch 92/100\n",
            "122/122 [==============================] - 108s 879ms/step - loss: 5.2125 - MAE: 5.2017 - val_loss: 8.7863 - val_MAE: 8.7755\n",
            "Epoch 93/100\n",
            "122/122 [==============================] - 107s 874ms/step - loss: 5.1962 - MAE: 5.1854 - val_loss: 9.0530 - val_MAE: 9.0422\n",
            "Epoch 94/100\n",
            "122/122 [==============================] - 107s 871ms/step - loss: 5.2200 - MAE: 5.2092 - val_loss: 8.5492 - val_MAE: 8.5385\n",
            "Epoch 95/100\n",
            "122/122 [==============================] - 107s 871ms/step - loss: 4.9247 - MAE: 4.9139 - val_loss: 8.4613 - val_MAE: 8.4505\n",
            "Epoch 96/100\n",
            "122/122 [==============================] - 107s 869ms/step - loss: 5.1109 - MAE: 5.1002 - val_loss: 8.5579 - val_MAE: 8.5471\n",
            "Epoch 97/100\n",
            "122/122 [==============================] - 106s 868ms/step - loss: 4.9941 - MAE: 4.9834 - val_loss: 8.6296 - val_MAE: 8.6189\n",
            "Epoch 98/100\n",
            "122/122 [==============================] - 107s 869ms/step - loss: 5.0718 - MAE: 5.0611 - val_loss: 9.1617 - val_MAE: 9.1511\n",
            "Epoch 99/100\n",
            "122/122 [==============================] - 107s 875ms/step - loss: 5.0063 - MAE: 4.9956 - val_loss: 9.3199 - val_MAE: 9.3093\n",
            "Epoch 100/100\n",
            "122/122 [==============================] - 106s 867ms/step - loss: 4.9285 - MAE: 4.9178 - val_loss: 8.7715 - val_MAE: 8.7609\n",
            "46/46 [==============================] - 8s 169ms/step - loss: 8.9445 - MAE: 8.9338\n"
          ]
        }
      ]
    },
    {
      "cell_type": "code",
      "source": [
        "plt.plot(history.history['loss'])\n",
        "plt.plot(history.history['val_loss'])\n",
        "plt.title('Model loss')\n",
        "plt.ylabel('Loss')\n",
        "plt.xlabel('Epoch')\n",
        "plt.legend(['Train', 'Validation'], loc='upper left')\n",
        "plt.show()"
      ],
      "metadata": {
        "colab": {
          "base_uri": "https://localhost:8080/",
          "height": 295
        },
        "id": "mfS9xyf2ZTW-",
        "outputId": "6316b889-8282-43fe-f5b6-b860e2935ac3"
      },
      "execution_count": null,
      "outputs": [
        {
          "output_type": "display_data",
          "data": {
            "text/plain": [
              "<Figure size 432x288 with 1 Axes>"
            ],
            "image/png": "[encoded data removed]"
          },
          "metadata": {
            "needs_background": "light"
          }
        }
      ]
    },
    {
      "cell_type": "code",
      "source": [
        "base_model = InceptionV3(weights='imagenet', include_top=False)\n",
        "\n",
        "input = Input(shape=(256,256,3),name='input1')\n",
        "input_gender = Input(shape=(1,),dtype='float32',name='input2')\n",
        "output = base_model(input)\n",
        "gender_embedding=Dense(32)(input_gender)\n",
        "#gender_embedding=Dense(12)(gender_embedding)\n",
        "#x = keras.layers.MaxPooling2D(pool_size=(5,5))(output)\n",
        "#x = keras.layers.Conv2D(512,kernel_size=(3,3))(x)\n",
        "#x = conv2d_bn(output, 512, 3, 3, padding='valid') \n",
        "sq = keras.layers.GlobalAveragePooling2D()(output)\n",
        "sq = keras.layers.Reshape((1,1,2048))(sq)\n",
        "sq = keras.layers.Dense(units=2048,activation=\"sigmoid\")(sq)\n",
        "block = keras.layers.multiply([output,sq])\n",
        "#fine Squeeze and Excitation 1\n",
        "\n",
        "net = keras.layers.add([output,block])\n",
        "net = keras.layers.BatchNormalization()(net)\n",
        "net = keras.layers.Activation(\"relu\")(net)\n",
        "net = keras.layers.MaxPooling2D(pool_size=(2, 2),name=\"block_1\")(net)\n",
        "\n",
        "print (K.int_shape(output))\n",
        "x = keras.layers.MaxPooling2D(pool_size=(2,2))(net)\n",
        "print (K.int_shape(x))\n",
        "x=Flatten()(x)\n",
        "f = keras.layers.Concatenate(axis=1)([x,gender_embedding])\n",
        "print (K.int_shape(f)) \n",
        "#x = Dense(256, activation='relu')(x)\n",
        "predictions = Dense(1)(f)\n",
        "model = Model(inputs=[input,input_gender], outputs=predictions)\n",
        "Adam=tf.keras.optimizers.Adam(lr=0.0001,beta_1=0.9,beta_2=0.999)\n",
        "model.compile(optimizer=Adam, loss='mean_absolute_error', metrics=['MAE'])\n",
        "model.summary()\n",
        "from keras.preprocessing.image import ImageDataGenerator\n",
        "DataGen = ImageDataGenerator(rotation_range=20,width_shift_range=0.15,height_shift_range=0.15,zoom_range=0.2,horizontal_flip=True)\n",
        "def Generator(x_train,gender_train,y_train,batch_size):\n",
        "    loopcount = len(y_train)//batch_size\n",
        "    i=0\n",
        "    while (True):\n",
        "        if i>loopcount:\n",
        "            i=0\n",
        "        # i=np.random.randint(0,loopcount)\n",
        "        x_train_batch = x_train[i*batch_size:(i+1)*batch_size,:,:,:]\n",
        "        x_train_batch = DataAugment(x_train_batch)\n",
        "        gender_train_batch = gender_train[i*batch_size:(i+1)*batch_size]\n",
        "        y_train_batch = y_train[i*batch_size:(i+1)*batch_size]\n",
        "        inputs = [x_train_batch,gender_train_batch]\n",
        "        target = y_train_batch\n",
        "        yield (inputs ,target)\n",
        "        i = i+1\n",
        "checkpoint =keras.callbacks.ModelCheckpoint(filepath='weights/weights.{epoch:02d}-{val_loss:.2f}.hdf5',save_weights_only=True,period=100)\n",
        "history = model.fit_generator(DataGen.flow([train_x,train_gen],train_y,batch_size=64),steps_per_epoch=np.ceil(len(train_y)/64),epochs=100,verbose=1,validation_data=([valid_x,valid_gen],valid_y))\n",
        "#history = model.fit_generator(Generator(x_train,gender_train,y_train,batch_size),steps_per_epoch=np.ceil(len(y_train)/batch_size),epochs=10,verbose=1,validation_data=([x_valid,gender_valid],y_valid))\n",
        "#history=model.fit([x_train,gender_train],y_train,batch_size=32,epochs=5,verbose=1,validation_data=([x_valid,gender_valid],y_valid), callbacks = [checkpoint])\n",
        "score = model.evaluate([test_x,test_gen], test_y, batch_size=64)"
      ],
      "metadata": {
        "colab": {
          "base_uri": "https://localhost:8080/"
        },
        "id": "Qi_tMqjjZfcK",
        "outputId": "bb12a40a-17c1-4d0a-b502-76ce517c4d2a"
      },
      "execution_count": null,
      "outputs": [
        {
          "metadata": {
            "tags": null
          },
          "name": "stdout",
          "output_type": "stream",
          "text": [
            "(None, 6, 6, 2048)\n",
            "(None, 1, 1, 2048)\n",
            "(None, 2080)\n",
            "Model: \"model_2\"\n",
            "__________________________________________________________________________________________________\n",
            " Layer (type)                   Output Shape         Param #     Connected to                     \n",
            "==================================================================================================\n",
            " input1 (InputLayer)            [(None, 256, 256, 3  0           []                               \n",
            "                                )]                                                                \n",
            "                                                                                                  \n",
            " inception_v3 (Functional)      (None, None, None,   21802784    ['input1[0][0]']                 \n",
            "                                2048)                                                             \n",
            "                                                                                                  \n",
            " global_average_pooling2d (Glob  (None, 2048)        0           ['inception_v3[0][0]']           \n",
            " alAveragePooling2D)                                                                              \n",
            "                                                                                                  \n",
            " reshape (Reshape)              (None, 1, 1, 2048)   0           ['global_average_pooling2d[0][0]'\n",
            "                                                                 ]                                \n",
            "                                                                                                  \n",
            " dense_9 (Dense)                (None, 1, 1, 2048)   4196352     ['reshape[0][0]']                \n",
            "                                                                                                  \n",
            " multiply (Multiply)            (None, 6, 6, 2048)   0           ['inception_v3[0][0]',           \n",
            "                                                                  'dense_9[0][0]']                \n",
            "                                                                                                  \n",
            " add (Add)                      (None, 6, 6, 2048)   0           ['inception_v3[0][0]',           \n",
            "                                                                  'multiply[0][0]']               \n",
            "                                                                                                  \n",
            " batch_normalization_282 (Batch  (None, 6, 6, 2048)  8192        ['add[0][0]']                    \n",
            " Normalization)                                                                                   \n",
            "                                                                                                  \n",
            " activation_282 (Activation)    (None, 6, 6, 2048)   0           ['batch_normalization_282[0][0]']\n",
            "                                                                                                  \n",
            " block_1 (MaxPooling2D)         (None, 3, 3, 2048)   0           ['activation_282[0][0]']         \n",
            "                                                                                                  \n",
            " max_pooling2d_14 (MaxPooling2D  (None, 1, 1, 2048)  0           ['block_1[0][0]']                \n",
            " )                                                                                                \n",
            "                                                                                                  \n",
            " input2 (InputLayer)            [(None, 1)]          0           []                               \n",
            "                                                                                                  \n",
            " flatten_2 (Flatten)            (None, 2048)         0           ['max_pooling2d_14[0][0]']       \n",
            "                                                                                                  \n",
            " dense_8 (Dense)                (None, 32)           64          ['input2[0][0]']                 \n",
            "                                                                                                  \n",
            " concatenate_8 (Concatenate)    (None, 2080)         0           ['flatten_2[0][0]',              \n",
            "                                                                  'dense_8[0][0]']                \n",
            "                                                                                                  \n",
            " dense_10 (Dense)               (None, 1)            2081        ['concatenate_8[0][0]']          \n",
            "                                                                                                  \n",
            "==================================================================================================\n",
            "Total params: 26,009,473\n",
            "Trainable params: 25,970,945\n",
            "Non-trainable params: 38,528\n",
            "__________________________________________________________________________________________________\n"
          ]
        },
        {
          "metadata": {
            "tags": null
          },
          "name": "stderr",
          "output_type": "stream",
          "text": [
            "WARNING:tensorflow:`period` argument is deprecated. Please use `save_freq` to specify the frequency in number of batches seen.\n",
            "<ipython-input-77-1072a752b83d>:52: UserWarning: `Model.fit_generator` is deprecated and will be removed in a future version. Please use `Model.fit`, which supports generators.\n",
            "  history = model.fit_generator(DataGen.flow([train_x,train_gen],train_y,batch_size=64),steps_per_epoch=np.ceil(len(train_y)/64),epochs=100,verbose=1,validation_data=([valid_x,valid_gen],valid_y))\n"
          ]
        },
        {
          "output_type": "stream",
          "name": "stdout",
          "text": [
            "Epoch 1/100\n",
            "122/122 [==============================] - 118s 911ms/step - loss: 32.8310 - MAE: 32.8310 - val_loss: 25.8432 - val_MAE: 25.8432\n",
            "Epoch 2/100\n",
            "122/122 [==============================] - 105s 854ms/step - loss: 15.4688 - MAE: 15.4688 - val_loss: 21.8930 - val_MAE: 21.8930\n",
            "Epoch 3/100\n",
            "122/122 [==============================] - 106s 867ms/step - loss: 14.0311 - MAE: 14.0311 - val_loss: 33.1732 - val_MAE: 33.1732\n",
            "Epoch 4/100\n",
            "122/122 [==============================] - 105s 856ms/step - loss: 13.2086 - MAE: 13.2086 - val_loss: 21.4680 - val_MAE: 21.4680\n",
            "Epoch 5/100\n",
            "122/122 [==============================] - 105s 855ms/step - loss: 12.6068 - MAE: 12.6068 - val_loss: 15.1774 - val_MAE: 15.1774\n",
            "Epoch 6/100\n",
            "122/122 [==============================] - 105s 856ms/step - loss: 12.1967 - MAE: 12.1967 - val_loss: 12.6945 - val_MAE: 12.6945\n",
            "Epoch 7/100\n",
            "122/122 [==============================] - 103s 843ms/step - loss: 11.9509 - MAE: 11.9509 - val_loss: 20.9277 - val_MAE: 20.9277\n",
            "Epoch 8/100\n",
            "122/122 [==============================] - 103s 842ms/step - loss: 11.6185 - MAE: 11.6185 - val_loss: 12.7378 - val_MAE: 12.7378\n",
            "Epoch 9/100\n",
            "122/122 [==============================] - 103s 839ms/step - loss: 11.2792 - MAE: 11.2792 - val_loss: 13.1218 - val_MAE: 13.1218\n",
            "Epoch 10/100\n",
            "122/122 [==============================] - 107s 872ms/step - loss: 11.0074 - MAE: 11.0074 - val_loss: 11.2356 - val_MAE: 11.2356\n",
            "Epoch 11/100\n",
            "122/122 [==============================] - 106s 866ms/step - loss: 10.9229 - MAE: 10.9229 - val_loss: 11.4403 - val_MAE: 11.4403\n",
            "Epoch 12/100\n",
            "122/122 [==============================] - 106s 866ms/step - loss: 10.7496 - MAE: 10.7496 - val_loss: 13.2398 - val_MAE: 13.2398\n",
            "Epoch 13/100\n",
            "122/122 [==============================] - 106s 868ms/step - loss: 10.5573 - MAE: 10.5573 - val_loss: 14.7015 - val_MAE: 14.7015\n",
            "Epoch 14/100\n",
            "122/122 [==============================] - 107s 870ms/step - loss: 10.3175 - MAE: 10.3175 - val_loss: 10.6744 - val_MAE: 10.6744\n",
            "Epoch 15/100\n",
            "122/122 [==============================] - 109s 893ms/step - loss: 10.1730 - MAE: 10.1730 - val_loss: 11.8685 - val_MAE: 11.8685\n",
            "Epoch 16/100\n",
            "122/122 [==============================] - 111s 902ms/step - loss: 10.0102 - MAE: 10.0102 - val_loss: 13.4301 - val_MAE: 13.4301\n",
            "Epoch 17/100\n",
            "122/122 [==============================] - 107s 876ms/step - loss: 9.8641 - MAE: 9.8641 - val_loss: 10.8007 - val_MAE: 10.8007\n",
            "Epoch 18/100\n",
            "122/122 [==============================] - 107s 875ms/step - loss: 9.9005 - MAE: 9.9005 - val_loss: 11.6515 - val_MAE: 11.6515\n",
            "Epoch 19/100\n",
            "122/122 [==============================] - 107s 869ms/step - loss: 9.8120 - MAE: 9.8120 - val_loss: 10.8824 - val_MAE: 10.8824\n",
            "Epoch 20/100\n",
            "122/122 [==============================] - 104s 848ms/step - loss: 9.7472 - MAE: 9.7472 - val_loss: 14.4707 - val_MAE: 14.4707\n",
            "Epoch 21/100\n",
            "122/122 [==============================] - 107s 876ms/step - loss: 9.6971 - MAE: 9.6971 - val_loss: 11.3199 - val_MAE: 11.3199\n",
            "Epoch 22/100\n",
            "122/122 [==============================] - 107s 873ms/step - loss: 9.2840 - MAE: 9.2840 - val_loss: 11.4317 - val_MAE: 11.4317\n",
            "Epoch 23/100\n",
            "122/122 [==============================] - 106s 861ms/step - loss: 9.2936 - MAE: 9.2936 - val_loss: 11.2791 - val_MAE: 11.2791\n",
            "Epoch 24/100\n",
            "122/122 [==============================] - 105s 858ms/step - loss: 9.1459 - MAE: 9.1459 - val_loss: 14.0169 - val_MAE: 14.0169\n",
            "Epoch 25/100\n",
            "122/122 [==============================] - 105s 852ms/step - loss: 9.0241 - MAE: 9.0241 - val_loss: 11.7966 - val_MAE: 11.7966\n",
            "Epoch 26/100\n",
            "122/122 [==============================] - 104s 850ms/step - loss: 8.7821 - MAE: 8.7821 - val_loss: 10.3518 - val_MAE: 10.3518\n",
            "Epoch 27/100\n",
            "122/122 [==============================] - 105s 857ms/step - loss: 8.8054 - MAE: 8.8054 - val_loss: 11.3026 - val_MAE: 11.3026\n",
            "Epoch 28/100\n",
            "122/122 [==============================] - 105s 860ms/step - loss: 8.7934 - MAE: 8.7934 - val_loss: 11.6083 - val_MAE: 11.6083\n",
            "Epoch 29/100\n",
            "122/122 [==============================] - 108s 879ms/step - loss: 8.4885 - MAE: 8.4885 - val_loss: 11.3282 - val_MAE: 11.3282\n",
            "Epoch 30/100\n",
            "122/122 [==============================] - 106s 865ms/step - loss: 8.3684 - MAE: 8.3684 - val_loss: 9.9251 - val_MAE: 9.9251\n",
            "Epoch 31/100\n",
            "122/122 [==============================] - 105s 854ms/step - loss: 8.3696 - MAE: 8.3696 - val_loss: 9.7243 - val_MAE: 9.7243\n",
            "Epoch 32/100\n",
            "122/122 [==============================] - 108s 878ms/step - loss: 8.2507 - MAE: 8.2507 - val_loss: 11.2293 - val_MAE: 11.2293\n",
            "Epoch 33/100\n",
            "122/122 [==============================] - 106s 864ms/step - loss: 8.2278 - MAE: 8.2278 - val_loss: 9.8455 - val_MAE: 9.8455\n",
            "Epoch 34/100\n",
            "122/122 [==============================] - 106s 867ms/step - loss: 8.1669 - MAE: 8.1669 - val_loss: 9.5809 - val_MAE: 9.5809\n",
            "Epoch 35/100\n",
            "122/122 [==============================] - 108s 884ms/step - loss: 7.9253 - MAE: 7.9253 - val_loss: 10.6441 - val_MAE: 10.6441\n",
            "Epoch 36/100\n",
            "122/122 [==============================] - 105s 855ms/step - loss: 7.8728 - MAE: 7.8728 - val_loss: 11.4892 - val_MAE: 11.4892\n",
            "Epoch 37/100\n",
            "122/122 [==============================] - 105s 858ms/step - loss: 7.6365 - MAE: 7.6365 - val_loss: 12.0183 - val_MAE: 12.0183\n",
            "Epoch 38/100\n",
            "122/122 [==============================] - 106s 865ms/step - loss: 7.6457 - MAE: 7.6457 - val_loss: 9.8098 - val_MAE: 9.8098\n",
            "Epoch 39/100\n",
            "122/122 [==============================] - 106s 863ms/step - loss: 7.7193 - MAE: 7.7193 - val_loss: 10.1781 - val_MAE: 10.1781\n",
            "Epoch 40/100\n",
            "122/122 [==============================] - 104s 845ms/step - loss: 7.7646 - MAE: 7.7646 - val_loss: 10.3709 - val_MAE: 10.3709\n",
            "Epoch 41/100\n",
            "122/122 [==============================] - 107s 872ms/step - loss: 7.4037 - MAE: 7.4037 - val_loss: 9.8952 - val_MAE: 9.8952\n",
            "Epoch 42/100\n",
            "122/122 [==============================] - 108s 881ms/step - loss: 7.3093 - MAE: 7.3093 - val_loss: 10.5381 - val_MAE: 10.5381\n",
            "Epoch 43/100\n",
            "122/122 [==============================] - 105s 854ms/step - loss: 7.4530 - MAE: 7.4530 - val_loss: 10.0245 - val_MAE: 10.0245\n",
            "Epoch 44/100\n",
            "122/122 [==============================] - 107s 873ms/step - loss: 7.1037 - MAE: 7.1037 - val_loss: 10.3211 - val_MAE: 10.3211\n",
            "Epoch 45/100\n",
            "122/122 [==============================] - 106s 862ms/step - loss: 7.2507 - MAE: 7.2507 - val_loss: 9.7312 - val_MAE: 9.7312\n",
            "Epoch 46/100\n",
            "122/122 [==============================] - 106s 861ms/step - loss: 7.2412 - MAE: 7.2412 - val_loss: 9.3354 - val_MAE: 9.3354\n",
            "Epoch 47/100\n",
            "122/122 [==============================] - 107s 872ms/step - loss: 7.0384 - MAE: 7.0384 - val_loss: 9.1445 - val_MAE: 9.1445\n",
            "Epoch 48/100\n",
            "122/122 [==============================] - 108s 882ms/step - loss: 7.0118 - MAE: 7.0118 - val_loss: 13.9103 - val_MAE: 13.9103\n",
            "Epoch 49/100\n",
            "122/122 [==============================] - 109s 889ms/step - loss: 7.0019 - MAE: 7.0019 - val_loss: 10.1402 - val_MAE: 10.1402\n",
            "Epoch 50/100\n",
            "122/122 [==============================] - 107s 873ms/step - loss: 6.8172 - MAE: 6.8172 - val_loss: 9.9947 - val_MAE: 9.9947\n",
            "Epoch 51/100\n",
            "122/122 [==============================] - 107s 870ms/step - loss: 6.8296 - MAE: 6.8296 - val_loss: 9.0170 - val_MAE: 9.0170\n",
            "Epoch 52/100\n",
            "122/122 [==============================] - 107s 874ms/step - loss: 6.9495 - MAE: 6.9495 - val_loss: 11.4705 - val_MAE: 11.4705\n",
            "Epoch 53/100\n",
            "122/122 [==============================] - 107s 871ms/step - loss: 6.7208 - MAE: 6.7208 - val_loss: 10.3247 - val_MAE: 10.3247\n",
            "Epoch 54/100\n",
            "122/122 [==============================] - 105s 860ms/step - loss: 6.6369 - MAE: 6.6369 - val_loss: 8.9540 - val_MAE: 8.9540\n",
            "Epoch 55/100\n",
            "122/122 [==============================] - 108s 882ms/step - loss: 6.6127 - MAE: 6.6127 - val_loss: 10.0324 - val_MAE: 10.0324\n",
            "Epoch 56/100\n",
            "122/122 [==============================] - 107s 873ms/step - loss: 6.3804 - MAE: 6.3804 - val_loss: 9.7527 - val_MAE: 9.7527\n",
            "Epoch 57/100\n",
            "122/122 [==============================] - 105s 859ms/step - loss: 6.4617 - MAE: 6.4617 - val_loss: 9.1005 - val_MAE: 9.1005\n",
            "Epoch 58/100\n",
            "122/122 [==============================] - 108s 881ms/step - loss: 6.4289 - MAE: 6.4289 - val_loss: 11.8541 - val_MAE: 11.8541\n",
            "Epoch 59/100\n",
            "122/122 [==============================] - 108s 880ms/step - loss: 6.4629 - MAE: 6.4629 - val_loss: 10.3429 - val_MAE: 10.3429\n",
            "Epoch 60/100\n",
            "122/122 [==============================] - 105s 854ms/step - loss: 6.3176 - MAE: 6.3176 - val_loss: 9.9711 - val_MAE: 9.9711\n",
            "Epoch 61/100\n",
            "122/122 [==============================] - 106s 868ms/step - loss: 6.2289 - MAE: 6.2289 - val_loss: 9.6989 - val_MAE: 9.6989\n",
            "Epoch 62/100\n",
            "122/122 [==============================] - 105s 855ms/step - loss: 6.2097 - MAE: 6.2097 - val_loss: 8.9718 - val_MAE: 8.9718\n",
            "Epoch 63/100\n",
            "122/122 [==============================] - 106s 863ms/step - loss: 6.0819 - MAE: 6.0819 - val_loss: 9.7952 - val_MAE: 9.7952\n",
            "Epoch 64/100\n",
            "122/122 [==============================] - 106s 866ms/step - loss: 6.0613 - MAE: 6.0613 - val_loss: 9.2322 - val_MAE: 9.2322\n",
            "Epoch 65/100\n",
            "122/122 [==============================] - 107s 872ms/step - loss: 5.9216 - MAE: 5.9216 - val_loss: 8.6612 - val_MAE: 8.6612\n",
            "Epoch 66/100\n",
            "122/122 [==============================] - 107s 875ms/step - loss: 5.9713 - MAE: 5.9713 - val_loss: 9.5394 - val_MAE: 9.5394\n",
            "Epoch 67/100\n",
            "122/122 [==============================] - 106s 865ms/step - loss: 6.0485 - MAE: 6.0485 - val_loss: 9.3670 - val_MAE: 9.3670\n",
            "Epoch 68/100\n",
            "122/122 [==============================] - 105s 853ms/step - loss: 5.8767 - MAE: 5.8767 - val_loss: 9.3900 - val_MAE: 9.3900\n",
            "Epoch 69/100\n",
            "122/122 [==============================] - 108s 883ms/step - loss: 5.7122 - MAE: 5.7122 - val_loss: 9.2595 - val_MAE: 9.2595\n",
            "Epoch 70/100\n",
            "122/122 [==============================] - 106s 863ms/step - loss: 5.7595 - MAE: 5.7595 - val_loss: 9.0716 - val_MAE: 9.0716\n",
            "Epoch 71/100\n",
            "122/122 [==============================] - 106s 862ms/step - loss: 5.7664 - MAE: 5.7664 - val_loss: 9.4775 - val_MAE: 9.4775\n",
            "Epoch 72/100\n",
            "122/122 [==============================] - 107s 875ms/step - loss: 5.5915 - MAE: 5.5915 - val_loss: 9.9371 - val_MAE: 9.9371\n",
            "Epoch 73/100\n",
            "122/122 [==============================] - 106s 868ms/step - loss: 5.6380 - MAE: 5.6380 - val_loss: 9.2094 - val_MAE: 9.2094\n",
            "Epoch 74/100\n",
            "122/122 [==============================] - 107s 871ms/step - loss: 5.5974 - MAE: 5.5974 - val_loss: 9.6653 - val_MAE: 9.6653\n",
            "Epoch 75/100\n",
            "122/122 [==============================] - 105s 853ms/step - loss: 5.5199 - MAE: 5.5199 - val_loss: 9.0300 - val_MAE: 9.0300\n",
            "Epoch 76/100\n",
            "122/122 [==============================] - 107s 869ms/step - loss: 5.5564 - MAE: 5.5564 - val_loss: 8.8306 - val_MAE: 8.8306\n",
            "Epoch 77/100\n",
            "122/122 [==============================] - 105s 858ms/step - loss: 5.4568 - MAE: 5.4568 - val_loss: 8.9911 - val_MAE: 8.9911\n",
            "Epoch 78/100\n",
            "122/122 [==============================] - 105s 853ms/step - loss: 5.3951 - MAE: 5.3951 - val_loss: 8.7831 - val_MAE: 8.7831\n",
            "Epoch 79/100\n",
            "122/122 [==============================] - 104s 848ms/step - loss: 5.3359 - MAE: 5.3359 - val_loss: 9.2942 - val_MAE: 9.2942\n",
            "Epoch 80/100\n",
            "122/122 [==============================] - 104s 849ms/step - loss: 5.2555 - MAE: 5.2555 - val_loss: 9.4778 - val_MAE: 9.4778\n",
            "Epoch 81/100\n",
            "122/122 [==============================] - 105s 858ms/step - loss: 5.2220 - MAE: 5.2220 - val_loss: 10.5155 - val_MAE: 10.5155\n",
            "Epoch 82/100\n",
            "122/122 [==============================] - 106s 865ms/step - loss: 5.1780 - MAE: 5.1780 - val_loss: 9.1410 - val_MAE: 9.1410\n",
            "Epoch 83/100\n",
            "122/122 [==============================] - 105s 859ms/step - loss: 5.1710 - MAE: 5.1710 - val_loss: 8.8493 - val_MAE: 8.8493\n",
            "Epoch 84/100\n",
            "122/122 [==============================] - 105s 858ms/step - loss: 5.1139 - MAE: 5.1139 - val_loss: 9.5707 - val_MAE: 9.5707\n",
            "Epoch 85/100\n",
            "122/122 [==============================] - 106s 864ms/step - loss: 5.1518 - MAE: 5.1518 - val_loss: 8.7039 - val_MAE: 8.7039\n",
            "Epoch 86/100\n",
            "122/122 [==============================] - 105s 858ms/step - loss: 5.0650 - MAE: 5.0650 - val_loss: 8.7692 - val_MAE: 8.7692\n",
            "Epoch 87/100\n",
            "122/122 [==============================] - 106s 865ms/step - loss: 5.0824 - MAE: 5.0824 - val_loss: 9.2942 - val_MAE: 9.2942\n",
            "Epoch 88/100\n",
            "122/122 [==============================] - 107s 870ms/step - loss: 5.0983 - MAE: 5.0983 - val_loss: 13.5759 - val_MAE: 13.5759\n",
            "Epoch 89/100\n",
            "122/122 [==============================] - 106s 861ms/step - loss: 4.9575 - MAE: 4.9575 - val_loss: 9.3637 - val_MAE: 9.3637\n",
            "Epoch 90/100\n",
            "122/122 [==============================] - 107s 872ms/step - loss: 4.9623 - MAE: 4.9623 - val_loss: 8.6428 - val_MAE: 8.6428\n",
            "Epoch 91/100\n",
            "122/122 [==============================] - 105s 855ms/step - loss: 4.8418 - MAE: 4.8418 - val_loss: 8.5433 - val_MAE: 8.5433\n",
            "Epoch 92/100\n",
            "122/122 [==============================] - 106s 866ms/step - loss: 4.8305 - MAE: 4.8305 - val_loss: 10.1508 - val_MAE: 10.1508\n",
            "Epoch 93/100\n",
            "122/122 [==============================] - 106s 868ms/step - loss: 4.7974 - MAE: 4.7974 - val_loss: 8.6129 - val_MAE: 8.6129\n",
            "Epoch 94/100\n",
            "122/122 [==============================] - 105s 854ms/step - loss: 4.7196 - MAE: 4.7196 - val_loss: 9.6888 - val_MAE: 9.6888\n",
            "Epoch 95/100\n",
            "122/122 [==============================] - 105s 856ms/step - loss: 4.7930 - MAE: 4.7930 - val_loss: 8.5005 - val_MAE: 8.5005\n",
            "Epoch 96/100\n",
            "122/122 [==============================] - 107s 869ms/step - loss: 4.6763 - MAE: 4.6763 - val_loss: 8.8842 - val_MAE: 8.8842\n",
            "Epoch 97/100\n",
            "122/122 [==============================] - 104s 848ms/step - loss: 4.6426 - MAE: 4.6426 - val_loss: 8.5713 - val_MAE: 8.5713\n",
            "Epoch 98/100\n",
            "122/122 [==============================] - 103s 842ms/step - loss: 4.6770 - MAE: 4.6770 - val_loss: 8.9663 - val_MAE: 8.9663\n",
            "Epoch 99/100\n",
            " 60/122 [=============>................] - ETA: 50s - loss: 4.5684 - MAE: 4.5684"
          ]
        }
      ]
    },
    {
      "cell_type": "code",
      "source": [
        "plt.plot(history.history['loss'])\n",
        "plt.plot(history.history['val_loss'])\n",
        "plt.title('Model loss')\n",
        "plt.ylabel('Loss')\n",
        "plt.xlabel('Epoch')\n",
        "plt.legend(['Train', 'Validation'], loc='upper left')\n",
        "plt.show()"
      ],
      "metadata": {
        "id": "aDWMVOdUpiZb"
      },
      "execution_count": null,
      "outputs": []
    },
    {
      "cell_type": "code",
      "source": [
        "base_model = InceptionV3(weights='imagenet', include_top=False)\n",
        "\n",
        "input = Input(shape=(256,256,3),name='input1')\n",
        "input_gender = Input(shape=(1,),dtype='float32',name='input2')\n",
        "output = base_model(input)\n",
        "gender_embedding=Dense(32)(input_gender)\n",
        "#gender_embedding=Dense(12)(gender_embedding)\n",
        "#x = keras.layers.MaxPooling2D(pool_size=(5,5))(output)\n",
        "#x = keras.layers.Conv2D(512,kernel_size=(3,3))(x)\n",
        "#x = conv2d_bn(output, 512, 3, 3, padding='valid') \n",
        "#x = conv2d_bn(x, 256, 3, 3, padding='valid') \n",
        "#x = conv2d_bn(x, 256, 3, 3, padding='valid') \n",
        "x=channel_attention(output)\n",
        "x=spatial_attention3(x)\n",
        "\n",
        "print (K.int_shape(output))\n",
        "x = keras.layers.MaxPooling2D(pool_size=(2,2))(x)\n",
        "print (K.int_shape(x))\n",
        "x=Flatten()(x)\n",
        "f = keras.layers.Concatenate(axis=1)([x,gender_embedding])\n",
        "print (K.int_shape(f)) \n",
        "#x = Dense(256, activation='relu')(x)\n",
        "predictions = Dense(1)(f)\n",
        "model = Model(inputs=[input,input_gender], outputs=predictions)\n",
        "Adam=tf.keras.optimizers.Adam(lr=0.0001,beta_1=0.9,beta_2=0.999)\n",
        "model.compile(optimizer=Adam, loss='mean_absolute_error', metrics=['MAE'])\n",
        "#model.summary()\n",
        "from keras.preprocessing.image import ImageDataGenerator\n",
        "DataGen = ImageDataGenerator(rotation_range=20,width_shift_range=0.15,height_shift_range=0.15,zoom_range=0.2,horizontal_flip=True)\n",
        "def Generator(x_train,gender_train,y_train,batch_size):\n",
        "    loopcount = len(y_train)//batch_size\n",
        "    i=0\n",
        "    while (True):\n",
        "        if i>loopcount:\n",
        "            i=0\n",
        "        # i=np.random.randint(0,loopcount)\n",
        "        x_train_batch = x_train[i*batch_size:(i+1)*batch_size,:,:,:]\n",
        "        x_train_batch = DataAugment(x_train_batch)\n",
        "        gender_train_batch = gender_train[i*batch_size:(i+1)*batch_size]\n",
        "        y_train_batch = y_train[i*batch_size:(i+1)*batch_size]\n",
        "        inputs = [x_train_batch,gender_train_batch]\n",
        "        target = y_train_batch\n",
        "        yield (inputs ,target)\n",
        "        i = i+1\n",
        "checkpoint =keras.callbacks.ModelCheckpoint(filepath='weights/weights.{epoch:02d}-{val_loss:.2f}.hdf5',save_weights_only=True,period=100)\n",
        "history = model.fit_generator(DataGen.flow([train_x,train_gen],train_y,batch_size=64),steps_per_epoch=np.ceil(len(train_y)/64),epochs=100,verbose=1,validation_data=([valid_x,valid_gen],valid_y))\n",
        "#history = model.fit_generator(Generator(x_train,gender_train,y_train,batch_size),steps_per_epoch=np.ceil(len(y_train)/batch_size),epochs=10,verbose=1,validation_data=([x_valid,gender_valid],y_valid))\n",
        "#history=model.fit([x_train,gender_train],y_train,batch_size=32,epochs=5,verbose=1,validation_data=([x_valid,gender_valid],y_valid), callbacks = [checkpoint])\n",
        "score = model.evaluate([test_x,test_gen], test_y, batch_size=64)"
      ],
      "metadata": {
        "id": "M_qvYdWvpdTG",
        "colab": {
          "base_uri": "https://localhost:8080/"
        },
        "outputId": "55c2de61-3379-42d6-8400-748134992226"
      },
      "execution_count": null,
      "outputs": [
        {
          "metadata": {
            "tags": null
          },
          "name": "stdout",
          "output_type": "stream",
          "text": [
            "Downloading data from https://storage.googleapis.com/tensorflow/keras-applications/inception_v3/inception_v3_weights_tf_dim_ordering_tf_kernels_notop.h5\n",
            "87910968/87910968 [==============================] - 3s 0us/step\n"
          ]
        },
        {
          "metadata": {
            "tags": null
          },
          "name": "stderr",
          "output_type": "stream",
          "text": [
            "/usr/local/lib/python3.8/dist-packages/keras/optimizers/optimizer_v2/adam.py:110: UserWarning: The `lr` argument is deprecated, use `learning_rate` instead.\n",
            "  super(Adam, self).__init__(name, **kwargs)\n",
            "WARNING:tensorflow:`period` argument is deprecated. Please use `save_freq` to specify the frequency in number of batches seen.\n"
          ]
        },
        {
          "metadata": {
            "tags": null
          },
          "name": "stdout",
          "output_type": "stream",
          "text": [
            "(None, 6, 6, 2048)\n",
            "(None, 3, 3, 2048)\n",
            "(None, 18464)\n"
          ]
        },
        {
          "metadata": {
            "tags": null
          },
          "name": "stderr",
          "output_type": "stream",
          "text": [
            "<ipython-input-72-180efbeb691e>:46: UserWarning: `Model.fit_generator` is deprecated and will be removed in a future version. Please use `Model.fit`, which supports generators.\n",
            "  history = model.fit_generator(DataGen.flow([train_x,train_gen],train_y,batch_size=64),steps_per_epoch=np.ceil(len(train_y)/64),epochs=100,verbose=1,validation_data=([valid_x,valid_gen],valid_y))\n"
          ]
        },
        {
          "output_type": "stream",
          "name": "stdout",
          "text": [
            "Epoch 1/100\n",
            "122/122 [==============================] - 141s 992ms/step - loss: 301.4113 - MAE: 39.2780 - val_loss: 226.2802 - val_MAE: 16.4377\n",
            "Epoch 2/100\n",
            "122/122 [==============================] - 111s 905ms/step - loss: 187.5711 - MAE: 15.4045 - val_loss: 154.4473 - val_MAE: 15.0357\n",
            "Epoch 3/100\n",
            "122/122 [==============================] - 110s 899ms/step - loss: 129.6789 - MAE: 14.0751 - val_loss: 107.6811 - val_MAE: 13.0703\n",
            "Epoch 4/100\n",
            "122/122 [==============================] - 113s 923ms/step - loss: 91.9144 - MAE: 12.9231 - val_loss: 79.4876 - val_MAE: 14.3110\n",
            "Epoch 5/100\n",
            "122/122 [==============================] - 113s 922ms/step - loss: 67.3480 - MAE: 12.6359 - val_loss: 57.2564 - val_MAE: 11.9173\n",
            "Epoch 6/100\n",
            "122/122 [==============================] - 112s 910ms/step - loss: 50.4599 - MAE: 12.2864 - val_loss: 43.0847 - val_MAE: 11.3931\n",
            "Epoch 7/100\n",
            "122/122 [==============================] - 110s 897ms/step - loss: 38.4870 - MAE: 11.8169 - val_loss: 33.8584 - val_MAE: 11.7253\n",
            "Epoch 8/100\n",
            "122/122 [==============================] - 111s 903ms/step - loss: 30.2430 - MAE: 11.6548 - val_loss: 27.3654 - val_MAE: 11.9724\n",
            "Epoch 9/100\n",
            "122/122 [==============================] - 109s 889ms/step - loss: 24.3495 - MAE: 11.4541 - val_loss: 22.3351 - val_MAE: 11.7115\n",
            "Epoch 10/100\n",
            "122/122 [==============================] - 111s 904ms/step - loss: 20.0656 - MAE: 11.1957 - val_loss: 18.2962 - val_MAE: 11.0213\n",
            "Epoch 11/100\n",
            "122/122 [==============================] - 111s 907ms/step - loss: 17.1708 - MAE: 11.1263 - val_loss: 15.5550 - val_MAE: 10.6007\n",
            "Epoch 12/100\n",
            "122/122 [==============================] - 110s 900ms/step - loss: 14.9689 - MAE: 10.8648 - val_loss: 14.6714 - val_MAE: 11.3427\n",
            "Epoch 13/100\n",
            "122/122 [==============================] - 109s 891ms/step - loss: 13.5245 - MAE: 10.7622 - val_loss: 15.2116 - val_MAE: 12.9631\n",
            "Epoch 14/100\n",
            "122/122 [==============================] - 111s 904ms/step - loss: 12.5169 - MAE: 10.6491 - val_loss: 12.1879 - val_MAE: 10.6675\n",
            "Epoch 15/100\n",
            "122/122 [==============================] - 111s 904ms/step - loss: 11.6543 - MAE: 10.3771 - val_loss: 14.2725 - val_MAE: 13.2295\n",
            "Epoch 16/100\n",
            "122/122 [==============================] - 110s 900ms/step - loss: 11.0541 - MAE: 10.1895 - val_loss: 10.9951 - val_MAE: 10.2815\n",
            "Epoch 17/100\n",
            "122/122 [==============================] - 111s 904ms/step - loss: 10.9417 - MAE: 10.3228 - val_loss: 11.0598 - val_MAE: 10.5207\n",
            "Epoch 18/100\n",
            "122/122 [==============================] - 111s 902ms/step - loss: 10.3373 - MAE: 9.8773 - val_loss: 10.7659 - val_MAE: 10.3650\n",
            "Epoch 19/100\n",
            "122/122 [==============================] - 121s 992ms/step - loss: 10.0913 - MAE: 9.7380 - val_loss: 11.1517 - val_MAE: 10.8506\n",
            "Epoch 20/100\n",
            "122/122 [==============================] - 120s 979ms/step - loss: 9.9517 - MAE: 9.6623 - val_loss: 10.4602 - val_MAE: 10.1857\n",
            "Epoch 21/100\n",
            "122/122 [==============================] - 119s 972ms/step - loss: 9.9371 - MAE: 9.6838 - val_loss: 11.8242 - val_MAE: 11.5865\n",
            "Epoch 22/100\n",
            "122/122 [==============================] - 122s 997ms/step - loss: 9.7949 - MAE: 9.5619 - val_loss: 10.3424 - val_MAE: 10.1169\n",
            "Epoch 23/100\n",
            "122/122 [==============================] - 120s 977ms/step - loss: 9.6710 - MAE: 9.4559 - val_loss: 12.0433 - val_MAE: 11.8288\n",
            "Epoch 24/100\n",
            "122/122 [==============================] - 121s 988ms/step - loss: 9.3317 - MAE: 9.1318 - val_loss: 12.1402 - val_MAE: 11.9548\n",
            "Epoch 25/100\n",
            "122/122 [==============================] - 120s 981ms/step - loss: 9.2814 - MAE: 9.0886 - val_loss: 9.8455 - val_MAE: 9.6505\n",
            "Epoch 26/100\n",
            "122/122 [==============================] - 120s 978ms/step - loss: 9.3398 - MAE: 9.1467 - val_loss: 10.4830 - val_MAE: 10.2864\n",
            "Epoch 27/100\n",
            "122/122 [==============================] - 119s 974ms/step - loss: 9.1711 - MAE: 8.9746 - val_loss: 10.2786 - val_MAE: 10.0881\n",
            "Epoch 28/100\n",
            "122/122 [==============================] - 122s 993ms/step - loss: 9.0396 - MAE: 8.8553 - val_loss: 9.7448 - val_MAE: 9.5639\n",
            "Epoch 29/100\n",
            "122/122 [==============================] - 117s 953ms/step - loss: 8.9400 - MAE: 8.7554 - val_loss: 9.9682 - val_MAE: 9.7944\n",
            "Epoch 30/100\n",
            "122/122 [==============================] - 122s 993ms/step - loss: 8.8528 - MAE: 8.6778 - val_loss: 10.2760 - val_MAE: 10.1029\n",
            "Epoch 31/100\n",
            "122/122 [==============================] - 118s 964ms/step - loss: 8.7301 - MAE: 8.5554 - val_loss: 9.5852 - val_MAE: 9.4079\n",
            "Epoch 32/100\n",
            "122/122 [==============================] - 122s 995ms/step - loss: 8.7708 - MAE: 8.6025 - val_loss: 9.6333 - val_MAE: 9.4735\n",
            "Epoch 33/100\n",
            "122/122 [==============================] - 122s 993ms/step - loss: 8.3975 - MAE: 8.2308 - val_loss: 10.4714 - val_MAE: 10.3139\n",
            "Epoch 34/100\n",
            "122/122 [==============================] - 121s 990ms/step - loss: 8.2425 - MAE: 8.0920 - val_loss: 9.9103 - val_MAE: 9.7617\n",
            "Epoch 35/100\n",
            "122/122 [==============================] - 118s 967ms/step - loss: 8.3893 - MAE: 8.2286 - val_loss: 9.6516 - val_MAE: 9.5041\n",
            "Epoch 36/100\n",
            "122/122 [==============================] - 121s 987ms/step - loss: 8.2799 - MAE: 8.1165 - val_loss: 11.0508 - val_MAE: 10.8890\n",
            "Epoch 37/100\n",
            "122/122 [==============================] - 120s 978ms/step - loss: 8.2626 - MAE: 8.1018 - val_loss: 10.5549 - val_MAE: 10.4034\n",
            "Epoch 38/100\n",
            "122/122 [==============================] - 121s 986ms/step - loss: 8.0146 - MAE: 7.8566 - val_loss: 10.0796 - val_MAE: 9.9223\n",
            "Epoch 39/100\n",
            "122/122 [==============================] - 120s 980ms/step - loss: 8.1050 - MAE: 7.9466 - val_loss: 9.5978 - val_MAE: 9.4420\n",
            "Epoch 40/100\n",
            "122/122 [==============================] - 119s 974ms/step - loss: 7.8621 - MAE: 7.7060 - val_loss: 9.2732 - val_MAE: 9.1226\n",
            "Epoch 41/100\n",
            "122/122 [==============================] - 120s 980ms/step - loss: 7.7323 - MAE: 7.5880 - val_loss: 9.8576 - val_MAE: 9.7163\n",
            "Epoch 42/100\n",
            "122/122 [==============================] - 119s 975ms/step - loss: 7.8938 - MAE: 7.7440 - val_loss: 10.4290 - val_MAE: 10.2749\n",
            "Epoch 43/100\n",
            "122/122 [==============================] - 119s 968ms/step - loss: 7.8091 - MAE: 7.6564 - val_loss: 9.3547 - val_MAE: 9.1904\n",
            "Epoch 44/100\n",
            "122/122 [==============================] - 120s 984ms/step - loss: 7.5776 - MAE: 7.4255 - val_loss: 10.5339 - val_MAE: 10.3925\n",
            "Epoch 45/100\n",
            "122/122 [==============================] - 117s 952ms/step - loss: 7.4666 - MAE: 7.3238 - val_loss: 10.3527 - val_MAE: 10.2146\n",
            "Epoch 46/100\n",
            "122/122 [==============================] - 119s 974ms/step - loss: 7.4778 - MAE: 7.3376 - val_loss: 9.2939 - val_MAE: 9.1477\n",
            "Epoch 47/100\n",
            "122/122 [==============================] - 123s 1s/step - loss: 7.4548 - MAE: 7.3143 - val_loss: 9.1076 - val_MAE: 8.9632\n",
            "Epoch 48/100\n",
            "122/122 [==============================] - 121s 988ms/step - loss: 7.2899 - MAE: 7.1475 - val_loss: 9.6297 - val_MAE: 9.4851\n",
            "Epoch 49/100\n",
            "122/122 [==============================] - 119s 973ms/step - loss: 7.2980 - MAE: 7.1582 - val_loss: 9.7935 - val_MAE: 9.6544\n",
            "Epoch 50/100\n",
            "122/122 [==============================] - 120s 980ms/step - loss: 7.0171 - MAE: 6.8779 - val_loss: 9.8122 - val_MAE: 9.6762\n",
            "Epoch 51/100\n",
            "122/122 [==============================] - 118s 962ms/step - loss: 7.2174 - MAE: 7.0753 - val_loss: 9.1632 - val_MAE: 9.0153\n",
            "Epoch 52/100\n",
            "122/122 [==============================] - 122s 997ms/step - loss: 7.1978 - MAE: 7.0490 - val_loss: 10.1245 - val_MAE: 9.9746\n",
            "Epoch 53/100\n",
            "122/122 [==============================] - 122s 996ms/step - loss: 7.0617 - MAE: 6.9184 - val_loss: 9.6708 - val_MAE: 9.5327\n",
            "Epoch 54/100\n",
            "122/122 [==============================] - 123s 1s/step - loss: 6.8492 - MAE: 6.7102 - val_loss: 9.4329 - val_MAE: 9.2961\n",
            "Epoch 55/100\n",
            "122/122 [==============================] - 121s 987ms/step - loss: 6.8137 - MAE: 6.6770 - val_loss: 9.4663 - val_MAE: 9.3314\n",
            "Epoch 56/100\n",
            "122/122 [==============================] - 122s 993ms/step - loss: 6.7466 - MAE: 6.6169 - val_loss: 9.1969 - val_MAE: 9.0652\n",
            "Epoch 57/100\n",
            "122/122 [==============================] - 123s 1s/step - loss: 6.8438 - MAE: 6.7126 - val_loss: 12.2207 - val_MAE: 12.0821\n",
            "Epoch 58/100\n",
            "122/122 [==============================] - 121s 987ms/step - loss: 6.7513 - MAE: 6.6140 - val_loss: 9.5102 - val_MAE: 9.3841\n",
            "Epoch 59/100\n",
            "122/122 [==============================] - 122s 999ms/step - loss: 6.6940 - MAE: 6.5629 - val_loss: 10.5263 - val_MAE: 10.4030\n",
            "Epoch 60/100\n",
            "122/122 [==============================] - 118s 960ms/step - loss: 6.6000 - MAE: 6.4732 - val_loss: 9.0580 - val_MAE: 8.9250\n",
            "Epoch 61/100\n",
            "122/122 [==============================] - 121s 988ms/step - loss: 6.6050 - MAE: 6.4696 - val_loss: 9.7755 - val_MAE: 9.6405\n",
            "Epoch 62/100\n",
            "122/122 [==============================] - 121s 985ms/step - loss: 6.5147 - MAE: 6.3834 - val_loss: 8.8838 - val_MAE: 8.7583\n",
            "Epoch 63/100\n",
            "122/122 [==============================] - 121s 990ms/step - loss: 6.2991 - MAE: 6.1713 - val_loss: 9.1207 - val_MAE: 8.9884\n",
            "Epoch 64/100\n",
            "122/122 [==============================] - 121s 989ms/step - loss: 6.3517 - MAE: 6.2211 - val_loss: 8.7986 - val_MAE: 8.6711\n",
            "Epoch 65/100\n",
            "122/122 [==============================] - 121s 991ms/step - loss: 6.2517 - MAE: 6.1217 - val_loss: 9.1790 - val_MAE: 9.0495\n",
            "Epoch 66/100\n",
            "122/122 [==============================] - 122s 999ms/step - loss: 6.2920 - MAE: 6.1666 - val_loss: 8.7631 - val_MAE: 8.6381\n",
            "Epoch 67/100\n",
            "122/122 [==============================] - 121s 987ms/step - loss: 6.3226 - MAE: 6.1958 - val_loss: 9.4601 - val_MAE: 9.3310\n",
            "Epoch 68/100\n",
            "122/122 [==============================] - 122s 993ms/step - loss: 6.1812 - MAE: 6.0526 - val_loss: 8.7382 - val_MAE: 8.6113\n",
            "Epoch 69/100\n",
            "122/122 [==============================] - 115s 940ms/step - loss: 6.1920 - MAE: 6.0637 - val_loss: 9.1252 - val_MAE: 9.0001\n",
            "Epoch 70/100\n",
            "122/122 [==============================] - 113s 922ms/step - loss: 5.9561 - MAE: 5.8334 - val_loss: 8.9739 - val_MAE: 8.8503\n",
            "Epoch 71/100\n",
            "122/122 [==============================] - 112s 913ms/step - loss: 6.1541 - MAE: 6.0302 - val_loss: 9.7346 - val_MAE: 9.6106\n",
            "Epoch 72/100\n",
            "122/122 [==============================] - 112s 915ms/step - loss: 6.0982 - MAE: 5.9681 - val_loss: 8.9702 - val_MAE: 8.8398\n",
            "Epoch 73/100\n",
            "122/122 [==============================] - 112s 918ms/step - loss: 6.0316 - MAE: 5.9037 - val_loss: 9.0356 - val_MAE: 8.9105\n",
            "Epoch 74/100\n",
            "122/122 [==============================] - 114s 930ms/step - loss: 6.1102 - MAE: 5.9862 - val_loss: 8.9644 - val_MAE: 8.8383\n",
            "Epoch 75/100\n",
            "122/122 [==============================] - 114s 929ms/step - loss: 6.0456 - MAE: 5.9074 - val_loss: 9.2085 - val_MAE: 9.0734\n",
            "Epoch 76/100\n",
            "122/122 [==============================] - 113s 926ms/step - loss: 5.7313 - MAE: 5.6015 - val_loss: 9.0778 - val_MAE: 8.9519\n",
            "Epoch 77/100\n",
            "122/122 [==============================] - 111s 906ms/step - loss: 5.7529 - MAE: 5.6270 - val_loss: 10.4395 - val_MAE: 10.3171\n",
            "Epoch 78/100\n",
            "122/122 [==============================] - 111s 908ms/step - loss: 5.5749 - MAE: 5.4547 - val_loss: 9.0060 - val_MAE: 8.8906\n",
            "Epoch 79/100\n",
            "122/122 [==============================] - 109s 889ms/step - loss: 5.5404 - MAE: 5.4266 - val_loss: 9.0802 - val_MAE: 8.9696\n",
            "Epoch 80/100\n",
            "122/122 [==============================] - 111s 905ms/step - loss: 5.6114 - MAE: 5.4988 - val_loss: 9.1641 - val_MAE: 9.0535\n",
            "Epoch 81/100\n",
            "122/122 [==============================] - 108s 884ms/step - loss: 5.6253 - MAE: 5.5118 - val_loss: 10.3878 - val_MAE: 10.2712\n",
            "Epoch 82/100\n",
            "122/122 [==============================] - 111s 903ms/step - loss: 5.6738 - MAE: 5.5533 - val_loss: 9.6454 - val_MAE: 9.5245\n",
            "Epoch 83/100\n",
            "122/122 [==============================] - 111s 907ms/step - loss: 5.5766 - MAE: 5.4582 - val_loss: 9.0442 - val_MAE: 8.9275\n",
            "Epoch 84/100\n",
            "122/122 [==============================] - 111s 905ms/step - loss: 5.4475 - MAE: 5.3334 - val_loss: 8.6846 - val_MAE: 8.5740\n",
            "Epoch 85/100\n",
            "122/122 [==============================] - 112s 912ms/step - loss: 5.3572 - MAE: 5.2453 - val_loss: 9.7367 - val_MAE: 9.6252\n",
            "Epoch 86/100\n",
            "122/122 [==============================] - 111s 907ms/step - loss: 5.4642 - MAE: 5.3522 - val_loss: 8.9488 - val_MAE: 8.8390\n",
            "Epoch 87/100\n",
            "122/122 [==============================] - 112s 911ms/step - loss: 5.3385 - MAE: 5.2303 - val_loss: 8.6578 - val_MAE: 8.5459\n",
            "Epoch 88/100\n",
            "122/122 [==============================] - 111s 905ms/step - loss: 5.3686 - MAE: 5.2571 - val_loss: 9.0503 - val_MAE: 8.9396\n",
            "Epoch 89/100\n",
            "122/122 [==============================] - 110s 902ms/step - loss: 5.1459 - MAE: 5.0364 - val_loss: 9.1221 - val_MAE: 9.0169\n",
            "Epoch 90/100\n",
            "122/122 [==============================] - 114s 933ms/step - loss: 5.3014 - MAE: 5.1945 - val_loss: 8.5276 - val_MAE: 8.4214\n",
            "Epoch 91/100\n",
            "122/122 [==============================] - 111s 905ms/step - loss: 5.3801 - MAE: 5.2724 - val_loss: 8.3645 - val_MAE: 8.2514\n",
            "Epoch 92/100\n",
            "122/122 [==============================] - 111s 905ms/step - loss: 5.2427 - MAE: 5.1326 - val_loss: 8.6572 - val_MAE: 8.5500\n",
            "Epoch 93/100\n",
            "122/122 [==============================] - 111s 907ms/step - loss: 5.1824 - MAE: 5.0748 - val_loss: 8.9609 - val_MAE: 8.8532\n",
            "Epoch 94/100\n",
            "122/122 [==============================] - 111s 907ms/step - loss: 5.1744 - MAE: 5.0666 - val_loss: 8.9778 - val_MAE: 8.8723\n",
            "Epoch 95/100\n",
            "122/122 [==============================] - 110s 896ms/step - loss: 5.1305 - MAE: 5.0206 - val_loss: 8.3553 - val_MAE: 8.2443\n",
            "Epoch 96/100\n",
            "122/122 [==============================] - 112s 910ms/step - loss: 5.0915 - MAE: 4.9837 - val_loss: 9.5907 - val_MAE: 9.4855\n",
            "Epoch 97/100\n",
            "122/122 [==============================] - 114s 933ms/step - loss: 5.0980 - MAE: 4.9914 - val_loss: 8.3591 - val_MAE: 8.2541\n",
            "Epoch 98/100\n",
            "122/122 [==============================] - 109s 893ms/step - loss: 4.9113 - MAE: 4.8075 - val_loss: 8.7243 - val_MAE: 8.6198\n",
            "Epoch 99/100\n",
            "122/122 [==============================] - 111s 904ms/step - loss: 5.0159 - MAE: 4.9074 - val_loss: 8.9521 - val_MAE: 8.8454\n",
            "Epoch 100/100\n",
            "122/122 [==============================] - 111s 903ms/step - loss: 4.9688 - MAE: 4.8602 - val_loss: 8.5295 - val_MAE: 8.4222\n",
            "122/122 [==============================] - 111s 903ms/step - loss: 4.9688 - MAE: 4.8602 - val_loss: 8.5295 - val_MAE: 8.4222\n",
            "46/46 [==============================] - 10s 212ms/step - loss: 8.9529 - MAE: 8.8456\n",
            "46/46 [==============================] - 10s 212ms/step - loss: 8.9529 - MAE: 8.8456\n"
          ]
        }
      ]
    },
    {
      "cell_type": "code",
      "source": [
        "plt.plot(history.history['loss'])\n",
        "plt.plot(history.history['val_loss'])\n",
        "plt.title('Model loss')\n",
        "plt.ylabel('Loss')\n",
        "plt.xlabel('Epoch')\n",
        "plt.legend(['Train', 'Validation'], loc='upper left')\n",
        "plt.show()"
      ],
      "metadata": {
        "id": "eokRC-iZpo10",
        "colab": {
          "base_uri": "https://localhost:8080/",
          "height": 573
        },
        "outputId": "f505bcad-099a-4711-cae4-50df273c66e8"
      },
      "execution_count": null,
      "outputs": [
        {
          "output_type": "display_data",
          "data": {
            "text/plain": [
              "<Figure size 432x288 with 1 Axes>"
            ],
            "image/png": "[encoded data removed]"
          },
          "metadata": {
            "needs_background": "light"
          }
        },
        {
          "output_type": "display_data",
          "data": {
            "text/plain": [
              "<Figure size 432x288 with 1 Axes>"
            ],
            "image/png": "[encoded data removed]"
          },
          "metadata": {
            "needs_background": "light"
          }
        }
      ]
    },
    {
      "cell_type": "code",
      "source": [
        "base_model = InceptionV3(weights='imagenet', include_top=False)\n",
        "\n",
        "input = Input(shape=(256,256,3),name='input1')\n",
        "input_gender = Input(shape=(1,),dtype='float32',name='input2')\n",
        "output = base_model(input)\n",
        "gender_embedding=Dense(32)(input_gender)\n",
        "#gender_embedding=Dense(12)(gender_embedding)\n",
        "#x = keras.layers.MaxPooling2D(pool_size=(5,5))(output)\n",
        "#x = keras.layers.Conv2D(512,kernel_size=(3,3))(x)\n",
        "#x = conv2d_bn(output, 512, 3, 3, padding='valid') \n",
        "sq = keras.layers.GlobalAveragePooling2D()(output)\n",
        "sq = keras.layers.Reshape((1,1,2048))(sq)\n",
        "sq = keras.layers.Dense(units=2048,activation=\"sigmoid\")(sq)\n",
        "block = keras.layers.multiply([output,sq])\n",
        "#fine Squeeze and Excitation 1\n",
        "\n",
        "net = keras.layers.add([output,block])\n",
        "net = keras.layers.BatchNormalization()(net)\n",
        "net = keras.layers.Activation(\"relu\")(net)\n",
        "net = keras.layers.MaxPooling2D(pool_size=(2, 2),name=\"block_1\")(net)\n",
        "\n",
        "print (K.int_shape(output))\n",
        "x = keras.layers.MaxPooling2D(pool_size=(2,2))(net)\n",
        "print (K.int_shape(x))\n",
        "x=Flatten()(x)\n",
        "f = keras.layers.Concatenate(axis=1)([x,gender_embedding])\n",
        "print (K.int_shape(f)) \n",
        "#x = Dense(256, activation='relu')(x)\n",
        "predictions = Dense(1)(f)\n",
        "model = Model(inputs=[input,input_gender], outputs=predictions)\n",
        "Adam=tf.keras.optimizers.Adam(lr=0.0001,beta_1=0.9,beta_2=0.999)\n",
        "model.compile(optimizer=Adam, loss='mean_absolute_error', metrics=['MAE'])\n",
        "model.summary()\n",
        "from keras.preprocessing.image import ImageDataGenerator\n",
        "DataGen = ImageDataGenerator(rotation_range=20,width_shift_range=0.15,height_shift_range=0.15,zoom_range=0.2,horizontal_flip=True)\n",
        "def Generator(x_train,gender_train,y_train,batch_size):\n",
        "    loopcount = len(y_train)//batch_size\n",
        "    i=0\n",
        "    while (True):\n",
        "        if i>loopcount:\n",
        "            i=0\n",
        "        # i=np.random.randint(0,loopcount)\n",
        "        x_train_batch = x_train[i*batch_size:(i+1)*batch_size,:,:,:]\n",
        "        x_train_batch = DataAugment(x_train_batch)\n",
        "        gender_train_batch = gender_train[i*batch_size:(i+1)*batch_size]\n",
        "        y_train_batch = y_train[i*batch_size:(i+1)*batch_size]\n",
        "        inputs = [x_train_batch,gender_train_batch]\n",
        "        target = y_train_batch\n",
        "        yield (inputs ,target)\n",
        "        i = i+1\n",
        "checkpoint =keras.callbacks.ModelCheckpoint(filepath='weights/weights.{epoch:02d}-{val_loss:.2f}.hdf5',save_weights_only=True,period=100)\n",
        "history = model.fit_generator(DataGen.flow([train_x,train_gen],train_y,batch_size=64),steps_per_epoch=np.ceil(len(train_y)/64),epochs=100,verbose=1,validation_data=([valid_x,valid_gen],valid_y))\n",
        "#history = model.fit_generator(Generator(x_train,gender_train,y_train,batch_size),steps_per_epoch=np.ceil(len(y_train)/batch_size),epochs=10,verbose=1,validation_data=([x_valid,gender_valid],y_valid))\n",
        "#history=model.fit([x_train,gender_train],y_train,batch_size=32,epochs=5,verbose=1,validation_data=([x_valid,gender_valid],y_valid), callbacks = [checkpoint])\n",
        "score = model.evaluate([test_x,test_gen], test_y, batch_size=64)"
      ],
      "metadata": {
        "id": "AGAZ7Za2pqKe",
        "colab": {
          "base_uri": "https://localhost:8080/"
        },
        "outputId": "21c57805-0165-4350-a1f0-62fd899fdf82"
      },
      "execution_count": null,
      "outputs": [
        {
          "metadata": {
            "tags": null
          },
          "name": "stdout",
          "output_type": "stream",
          "text": [
            "(None, 6, 6, 2048)\n",
            "(None, 1, 1, 2048)\n",
            "(None, 2080)\n",
            "Model: \"model_1\"\n",
            "__________________________________________________________________________________________________\n",
            " Layer (type)                   Output Shape         Param #     Connected to                     \n",
            "==================================================================================================\n",
            " input1 (InputLayer)            [(None, 256, 256, 3  0           []                               \n",
            "                                )]                                                                \n",
            "                                                                                                  \n",
            " inception_v3 (Functional)      (None, None, None,   21802784    ['input1[0][0]']                 \n",
            "                                2048)                                                             \n",
            "                                                                                                  \n",
            " global_average_pooling2d (Glob  (None, 2048)        0           ['inception_v3[0][0]']           \n",
            " alAveragePooling2D)                                                                              \n",
            "                                                                                                  \n",
            " reshape (Reshape)              (None, 1, 1, 2048)   0           ['global_average_pooling2d[0][0]'\n",
            "                                                                 ]                                \n",
            "                                                                                                  \n",
            " dense_7 (Dense)                (None, 1, 1, 2048)   4196352     ['reshape[0][0]']                \n",
            "                                                                                                  \n",
            " multiply (Multiply)            (None, 6, 6, 2048)   0           ['inception_v3[0][0]',           \n",
            "                                                                  'dense_7[0][0]']                \n",
            "                                                                                                  \n",
            " add (Add)                      (None, 6, 6, 2048)   0           ['inception_v3[0][0]',           \n",
            "                                                                  'multiply[0][0]']               \n",
            "                                                                                                  \n",
            " batch_normalization_188 (Batch  (None, 6, 6, 2048)  8192        ['add[0][0]']                    \n",
            " Normalization)                                                                                   \n",
            "                                                                                                  \n",
            " activation_188 (Activation)    (None, 6, 6, 2048)   0           ['batch_normalization_188[0][0]']\n",
            "                                                                                                  \n",
            " block_1 (MaxPooling2D)         (None, 3, 3, 2048)   0           ['activation_188[0][0]']         \n",
            "                                                                                                  \n",
            " max_pooling2d_9 (MaxPooling2D)  (None, 1, 1, 2048)  0           ['block_1[0][0]']                \n",
            "                                                                                                  \n",
            " input2 (InputLayer)            [(None, 1)]          0           []                               \n",
            "                                                                                                  \n",
            " flatten_1 (Flatten)            (None, 2048)         0           ['max_pooling2d_9[0][0]']        \n",
            "                                                                                                  \n",
            " dense_6 (Dense)                (None, 32)           64          ['input2[0][0]']                 \n",
            "                                                                                                  \n",
            " concatenate_5 (Concatenate)    (None, 2080)         0           ['flatten_1[0][0]',              \n",
            "                                                                  'dense_6[0][0]']                \n",
            "                                                                                                  \n",
            " dense_8 (Dense)                (None, 1)            2081        ['concatenate_5[0][0]']          \n",
            "                                                                                                  \n",
            "==================================================================================================\n",
            "Total params: 26,009,473\n",
            "Trainable params: 25,970,945\n",
            "Non-trainable params: 38,528\n",
            "__________________________________________________________________________________________________\n"
          ]
        },
        {
          "metadata": {
            "tags": null
          },
          "name": "stderr",
          "output_type": "stream",
          "text": [
            "WARNING:tensorflow:`period` argument is deprecated. Please use `save_freq` to specify the frequency in number of batches seen.\n",
            "<ipython-input-74-1072a752b83d>:52: UserWarning: `Model.fit_generator` is deprecated and will be removed in a future version. Please use `Model.fit`, which supports generators.\n",
            "  history = model.fit_generator(DataGen.flow([train_x,train_gen],train_y,batch_size=64),steps_per_epoch=np.ceil(len(train_y)/64),epochs=100,verbose=1,validation_data=([valid_x,valid_gen],valid_y))\n"
          ]
        },
        {
          "output_type": "stream",
          "name": "stdout",
          "text": [
            "Epoch 1/100\n",
            "122/122 [==============================] - 121s 938ms/step - loss: 33.6081 - MAE: 33.6081 - val_loss: 21.8245 - val_MAE: 21.8245\n",
            "Epoch 2/100\n",
            "122/122 [==============================] - 106s 868ms/step - loss: 15.4797 - MAE: 15.4797 - val_loss: 32.4012 - val_MAE: 32.4012\n",
            "Epoch 3/100\n",
            "122/122 [==============================] - 108s 883ms/step - loss: 13.8488 - MAE: 13.8488 - val_loss: 22.5445 - val_MAE: 22.5445\n",
            "Epoch 4/100\n",
            "122/122 [==============================] - 112s 916ms/step - loss: 13.1568 - MAE: 13.1568 - val_loss: 16.6504 - val_MAE: 16.6504\n",
            "Epoch 5/100\n",
            "122/122 [==============================] - 110s 895ms/step - loss: 12.5470 - MAE: 12.5470 - val_loss: 13.8706 - val_MAE: 13.8706\n",
            "Epoch 6/100\n",
            "122/122 [==============================] - 110s 898ms/step - loss: 12.2209 - MAE: 12.2209 - val_loss: 12.7968 - val_MAE: 12.7968\n",
            "Epoch 7/100\n",
            "122/122 [==============================] - 110s 899ms/step - loss: 12.0240 - MAE: 12.0240 - val_loss: 13.9574 - val_MAE: 13.9574\n",
            "Epoch 8/100\n",
            "122/122 [==============================] - 113s 922ms/step - loss: 11.6441 - MAE: 11.6441 - val_loss: 15.4128 - val_MAE: 15.4128\n",
            "Epoch 9/100\n",
            "122/122 [==============================] - 111s 908ms/step - loss: 11.2372 - MAE: 11.2372 - val_loss: 10.9932 - val_MAE: 10.9932\n",
            "Epoch 10/100\n",
            "122/122 [==============================] - 112s 917ms/step - loss: 11.2330 - MAE: 11.2330 - val_loss: 12.1712 - val_MAE: 12.1712\n",
            "Epoch 11/100\n",
            "122/122 [==============================] - 111s 905ms/step - loss: 11.0400 - MAE: 11.0400 - val_loss: 10.5965 - val_MAE: 10.5965\n",
            "Epoch 12/100\n",
            "122/122 [==============================] - 111s 908ms/step - loss: 10.8272 - MAE: 10.8272 - val_loss: 11.0888 - val_MAE: 11.0888\n",
            "Epoch 13/100\n",
            "122/122 [==============================] - 111s 909ms/step - loss: 10.4488 - MAE: 10.4488 - val_loss: 10.8000 - val_MAE: 10.8000\n",
            "Epoch 14/100\n",
            "122/122 [==============================] - 112s 914ms/step - loss: 10.4716 - MAE: 10.4716 - val_loss: 11.8726 - val_MAE: 11.8726\n",
            "Epoch 15/100\n",
            "122/122 [==============================] - 111s 908ms/step - loss: 10.3707 - MAE: 10.3707 - val_loss: 10.3766 - val_MAE: 10.3766\n",
            "Epoch 16/100\n",
            "122/122 [==============================] - 111s 906ms/step - loss: 10.1591 - MAE: 10.1591 - val_loss: 10.9445 - val_MAE: 10.9445\n",
            "Epoch 17/100\n",
            "122/122 [==============================] - 112s 913ms/step - loss: 9.9937 - MAE: 9.9937 - val_loss: 10.3684 - val_MAE: 10.3684\n",
            "Epoch 18/100\n",
            "122/122 [==============================] - 110s 900ms/step - loss: 9.8849 - MAE: 9.8849 - val_loss: 10.2373 - val_MAE: 10.2373\n",
            "Epoch 19/100\n",
            "122/122 [==============================] - 111s 905ms/step - loss: 10.0017 - MAE: 10.0017 - val_loss: 15.7524 - val_MAE: 15.7524\n",
            "Epoch 20/100\n",
            "122/122 [==============================] - 111s 903ms/step - loss: 9.6473 - MAE: 9.6473 - val_loss: 10.6229 - val_MAE: 10.6229\n",
            "Epoch 21/100\n",
            "122/122 [==============================] - 110s 902ms/step - loss: 9.4387 - MAE: 9.4387 - val_loss: 11.5043 - val_MAE: 11.5043\n",
            "Epoch 22/100\n",
            "122/122 [==============================] - 110s 897ms/step - loss: 9.2725 - MAE: 9.2725 - val_loss: 11.3736 - val_MAE: 11.3736\n",
            "Epoch 23/100\n",
            "122/122 [==============================] - 111s 907ms/step - loss: 9.5538 - MAE: 9.5538 - val_loss: 10.7674 - val_MAE: 10.7674\n",
            "Epoch 24/100\n",
            "122/122 [==============================] - 111s 902ms/step - loss: 9.2650 - MAE: 9.2650 - val_loss: 10.8109 - val_MAE: 10.8109\n",
            "Epoch 25/100\n",
            "122/122 [==============================] - 112s 911ms/step - loss: 8.9876 - MAE: 8.9876 - val_loss: 11.6026 - val_MAE: 11.6026\n",
            "Epoch 26/100\n",
            "122/122 [==============================] - 111s 904ms/step - loss: 8.7737 - MAE: 8.7737 - val_loss: 11.3173 - val_MAE: 11.3173\n",
            "Epoch 27/100\n",
            "122/122 [==============================] - 111s 910ms/step - loss: 8.8334 - MAE: 8.8334 - val_loss: 10.8464 - val_MAE: 10.8464\n",
            "Epoch 28/100\n",
            "122/122 [==============================] - 112s 916ms/step - loss: 8.7730 - MAE: 8.7730 - val_loss: 10.3877 - val_MAE: 10.3877\n",
            "Epoch 29/100\n",
            "122/122 [==============================] - 112s 913ms/step - loss: 8.6014 - MAE: 8.6014 - val_loss: 11.0469 - val_MAE: 11.0469\n",
            "Epoch 30/100\n",
            "122/122 [==============================] - 111s 910ms/step - loss: 8.4735 - MAE: 8.4735 - val_loss: 9.5713 - val_MAE: 9.5713\n",
            "Epoch 31/100\n",
            "122/122 [==============================] - 112s 912ms/step - loss: 8.2492 - MAE: 8.2492 - val_loss: 10.9781 - val_MAE: 10.9781\n",
            "Epoch 32/100\n",
            "122/122 [==============================] - 112s 911ms/step - loss: 8.3162 - MAE: 8.3162 - val_loss: 11.9186 - val_MAE: 11.9186\n",
            "Epoch 33/100\n",
            "122/122 [==============================] - 112s 910ms/step - loss: 8.2662 - MAE: 8.2662 - val_loss: 10.2455 - val_MAE: 10.2455\n",
            "Epoch 34/100\n",
            "122/122 [==============================] - 111s 909ms/step - loss: 7.9866 - MAE: 7.9866 - val_loss: 9.6185 - val_MAE: 9.6185\n",
            "Epoch 35/100\n",
            "122/122 [==============================] - 111s 904ms/step - loss: 7.9436 - MAE: 7.9436 - val_loss: 10.3203 - val_MAE: 10.3203\n",
            "Epoch 36/100\n",
            "122/122 [==============================] - 112s 913ms/step - loss: 8.0729 - MAE: 8.0729 - val_loss: 10.5761 - val_MAE: 10.5761\n",
            "Epoch 37/100\n",
            "122/122 [==============================] - 112s 914ms/step - loss: 7.8924 - MAE: 7.8924 - val_loss: 9.3539 - val_MAE: 9.3539\n",
            "Epoch 38/100\n",
            "122/122 [==============================] - 112s 910ms/step - loss: 7.6710 - MAE: 7.6710 - val_loss: 9.7832 - val_MAE: 9.7832\n",
            "Epoch 39/100\n",
            "122/122 [==============================] - 111s 907ms/step - loss: 7.5896 - MAE: 7.5896 - val_loss: 9.2281 - val_MAE: 9.2281\n",
            "Epoch 40/100\n",
            "122/122 [==============================] - 112s 911ms/step - loss: 7.5562 - MAE: 7.5562 - val_loss: 9.3483 - val_MAE: 9.3483\n",
            "Epoch 41/100\n",
            "122/122 [==============================] - 111s 903ms/step - loss: 7.6757 - MAE: 7.6757 - val_loss: 9.4725 - val_MAE: 9.4725\n",
            "Epoch 42/100\n",
            "122/122 [==============================] - 112s 911ms/step - loss: 7.3488 - MAE: 7.3488 - val_loss: 9.7290 - val_MAE: 9.7290\n",
            "Epoch 43/100\n",
            "122/122 [==============================] - 111s 902ms/step - loss: 7.4666 - MAE: 7.4666 - val_loss: 9.8149 - val_MAE: 9.8149\n",
            "Epoch 44/100\n",
            "122/122 [==============================] - 112s 915ms/step - loss: 7.3873 - MAE: 7.3873 - val_loss: 9.6431 - val_MAE: 9.6431\n",
            "Epoch 45/100\n",
            "122/122 [==============================] - 111s 910ms/step - loss: 7.1698 - MAE: 7.1698 - val_loss: 12.9118 - val_MAE: 12.9118\n",
            "Epoch 46/100\n",
            "122/122 [==============================] - 116s 948ms/step - loss: 7.3047 - MAE: 7.3047 - val_loss: 9.7132 - val_MAE: 9.7132\n",
            "Epoch 47/100\n",
            "122/122 [==============================] - 110s 900ms/step - loss: 6.9406 - MAE: 6.9406 - val_loss: 9.7435 - val_MAE: 9.7435\n",
            "Epoch 48/100\n",
            "122/122 [==============================] - 112s 917ms/step - loss: 6.9687 - MAE: 6.9687 - val_loss: 9.5568 - val_MAE: 9.5568\n",
            "Epoch 49/100\n",
            "122/122 [==============================] - 110s 899ms/step - loss: 6.8493 - MAE: 6.8493 - val_loss: 9.8506 - val_MAE: 9.8506\n",
            "Epoch 50/100\n",
            "122/122 [==============================] - 112s 911ms/step - loss: 6.7520 - MAE: 6.7520 - val_loss: 9.8696 - val_MAE: 9.8696\n",
            "Epoch 51/100\n",
            "122/122 [==============================] - 111s 907ms/step - loss: 6.7835 - MAE: 6.7835 - val_loss: 9.0991 - val_MAE: 9.0991\n",
            "Epoch 52/100\n",
            "122/122 [==============================] - 112s 910ms/step - loss: 6.6313 - MAE: 6.6313 - val_loss: 9.2826 - val_MAE: 9.2826\n",
            "Epoch 53/100\n",
            "122/122 [==============================] - 111s 906ms/step - loss: 6.6769 - MAE: 6.6769 - val_loss: 9.9809 - val_MAE: 9.9809\n",
            "Epoch 54/100\n",
            "122/122 [==============================] - 112s 912ms/step - loss: 6.5934 - MAE: 6.5934 - val_loss: 9.7558 - val_MAE: 9.7558\n",
            "Epoch 55/100\n",
            "122/122 [==============================] - 111s 908ms/step - loss: 6.5930 - MAE: 6.5930 - val_loss: 8.9739 - val_MAE: 8.9739\n",
            "Epoch 56/100\n",
            "122/122 [==============================] - 110s 898ms/step - loss: 6.5001 - MAE: 6.5001 - val_loss: 8.9763 - val_MAE: 8.9763\n",
            "Epoch 57/100\n",
            "122/122 [==============================] - 110s 896ms/step - loss: 6.4630 - MAE: 6.4630 - val_loss: 9.7343 - val_MAE: 9.7343\n",
            "Epoch 58/100\n",
            "122/122 [==============================] - 111s 905ms/step - loss: 6.4055 - MAE: 6.4055 - val_loss: 9.1507 - val_MAE: 9.1507\n",
            "Epoch 59/100\n",
            "122/122 [==============================] - 111s 907ms/step - loss: 6.1342 - MAE: 6.1342 - val_loss: 8.7933 - val_MAE: 8.7933\n",
            "Epoch 60/100\n",
            "122/122 [==============================] - 111s 902ms/step - loss: 6.2565 - MAE: 6.2565 - val_loss: 9.7089 - val_MAE: 9.7089\n",
            "Epoch 61/100\n",
            "122/122 [==============================] - 110s 900ms/step - loss: 6.2034 - MAE: 6.2034 - val_loss: 9.9920 - val_MAE: 9.9920\n",
            "Epoch 62/100\n",
            "122/122 [==============================] - 111s 907ms/step - loss: 6.0276 - MAE: 6.0276 - val_loss: 9.4331 - val_MAE: 9.4331\n",
            "Epoch 63/100\n",
            "122/122 [==============================] - 110s 901ms/step - loss: 6.1171 - MAE: 6.1171 - val_loss: 9.2793 - val_MAE: 9.2793\n",
            "Epoch 64/100\n",
            "122/122 [==============================] - 111s 909ms/step - loss: 6.1169 - MAE: 6.1169 - val_loss: 8.7818 - val_MAE: 8.7818\n",
            "Epoch 65/100\n",
            "122/122 [==============================] - 111s 909ms/step - loss: 5.9231 - MAE: 5.9231 - val_loss: 10.0607 - val_MAE: 10.0607\n",
            "Epoch 66/100\n",
            "122/122 [==============================] - 110s 900ms/step - loss: 5.9887 - MAE: 5.9887 - val_loss: 9.1601 - val_MAE: 9.1601\n",
            "Epoch 67/100\n",
            "122/122 [==============================] - 111s 903ms/step - loss: 5.8917 - MAE: 5.8917 - val_loss: 8.7139 - val_MAE: 8.7139\n",
            "Epoch 68/100\n",
            "122/122 [==============================] - 112s 911ms/step - loss: 5.7146 - MAE: 5.7146 - val_loss: 9.0844 - val_MAE: 9.0844\n",
            "Epoch 69/100\n",
            "122/122 [==============================] - 111s 903ms/step - loss: 5.8118 - MAE: 5.8118 - val_loss: 8.5404 - val_MAE: 8.5404\n",
            "Epoch 70/100\n",
            "122/122 [==============================] - 112s 913ms/step - loss: 5.7870 - MAE: 5.7870 - val_loss: 8.7267 - val_MAE: 8.7267\n",
            "Epoch 71/100\n",
            "122/122 [==============================] - 111s 906ms/step - loss: 5.6899 - MAE: 5.6899 - val_loss: 9.2936 - val_MAE: 9.2936\n",
            "Epoch 72/100\n",
            "122/122 [==============================] - 111s 902ms/step - loss: 5.6655 - MAE: 5.6655 - val_loss: 9.1287 - val_MAE: 9.1287\n",
            "Epoch 73/100\n",
            "122/122 [==============================] - 111s 903ms/step - loss: 5.5524 - MAE: 5.5524 - val_loss: 8.3810 - val_MAE: 8.3810\n",
            "Epoch 74/100\n",
            "122/122 [==============================] - 112s 911ms/step - loss: 5.4213 - MAE: 5.4213 - val_loss: 9.2290 - val_MAE: 9.2290\n",
            "Epoch 75/100\n",
            "122/122 [==============================] - 111s 907ms/step - loss: 5.6893 - MAE: 5.6893 - val_loss: 8.6792 - val_MAE: 8.6792\n",
            "Epoch 76/100\n",
            "122/122 [==============================] - 111s 908ms/step - loss: 5.5274 - MAE: 5.5274 - val_loss: 9.0298 - val_MAE: 9.0298\n",
            "Epoch 77/100\n",
            "122/122 [==============================] - 110s 901ms/step - loss: 5.3349 - MAE: 5.3349 - val_loss: 9.2753 - val_MAE: 9.2753\n",
            "Epoch 78/100\n",
            "122/122 [==============================] - 112s 911ms/step - loss: 5.3293 - MAE: 5.3293 - val_loss: 8.7450 - val_MAE: 8.7450\n",
            "Epoch 79/100\n",
            "122/122 [==============================] - 113s 922ms/step - loss: 5.2875 - MAE: 5.2875 - val_loss: 8.6207 - val_MAE: 8.6207\n",
            "Epoch 80/100\n",
            "122/122 [==============================] - 112s 912ms/step - loss: 5.1669 - MAE: 5.1669 - val_loss: 9.0086 - val_MAE: 9.0086\n",
            "Epoch 81/100\n",
            "122/122 [==============================] - 110s 900ms/step - loss: 5.1896 - MAE: 5.1896 - val_loss: 8.6787 - val_MAE: 8.6787\n",
            "Epoch 82/100\n",
            "122/122 [==============================] - 111s 907ms/step - loss: 5.2789 - MAE: 5.2789 - val_loss: 9.1967 - val_MAE: 9.1967\n",
            "Epoch 83/100\n",
            "122/122 [==============================] - 111s 903ms/step - loss: 5.1959 - MAE: 5.1959 - val_loss: 8.7059 - val_MAE: 8.7059\n",
            "Epoch 84/100\n",
            "122/122 [==============================] - 112s 915ms/step - loss: 5.0605 - MAE: 5.0605 - val_loss: 8.9536 - val_MAE: 8.9536\n",
            "Epoch 85/100\n",
            "122/122 [==============================] - 111s 904ms/step - loss: 5.1631 - MAE: 5.1631 - val_loss: 8.6888 - val_MAE: 8.6888\n",
            "Epoch 86/100\n",
            "122/122 [==============================] - 112s 913ms/step - loss: 5.1551 - MAE: 5.1551 - val_loss: 8.7295 - val_MAE: 8.7295\n",
            "Epoch 87/100\n",
            "122/122 [==============================] - 110s 901ms/step - loss: 4.8919 - MAE: 4.8919 - val_loss: 8.7802 - val_MAE: 8.7802\n",
            "Epoch 88/100\n",
            "122/122 [==============================] - 111s 909ms/step - loss: 4.9827 - MAE: 4.9827 - val_loss: 8.3730 - val_MAE: 8.3730\n",
            "Epoch 89/100\n",
            "122/122 [==============================] - 110s 899ms/step - loss: 4.9237 - MAE: 4.9237 - val_loss: 9.9999 - val_MAE: 9.9999\n",
            "Epoch 90/100\n",
            "122/122 [==============================] - 111s 907ms/step - loss: 4.8825 - MAE: 4.8825 - val_loss: 8.8881 - val_MAE: 8.8881\n",
            "Epoch 91/100\n",
            "122/122 [==============================] - 111s 905ms/step - loss: 4.9355 - MAE: 4.9355 - val_loss: 8.6691 - val_MAE: 8.6691\n",
            "Epoch 92/100\n",
            "122/122 [==============================] - 111s 908ms/step - loss: 4.8235 - MAE: 4.8235 - val_loss: 9.7812 - val_MAE: 9.7812\n",
            "Epoch 93/100\n",
            "122/122 [==============================] - 111s 903ms/step - loss: 4.8322 - MAE: 4.8322 - val_loss: 8.8326 - val_MAE: 8.8326\n",
            "Epoch 94/100\n",
            "122/122 [==============================] - 111s 906ms/step - loss: 4.7458 - MAE: 4.7458 - val_loss: 8.7093 - val_MAE: 8.7093\n",
            "Epoch 95/100\n",
            "122/122 [==============================] - 109s 889ms/step - loss: 4.8271 - MAE: 4.8271 - val_loss: 8.7427 - val_MAE: 8.7427\n",
            "Epoch 96/100\n",
            "122/122 [==============================] - 110s 901ms/step - loss: 4.7382 - MAE: 4.7382 - val_loss: 8.5761 - val_MAE: 8.5761\n",
            "Epoch 97/100\n",
            "122/122 [==============================] - 111s 904ms/step - loss: 4.6537 - MAE: 4.6537 - val_loss: 8.7058 - val_MAE: 8.7058\n",
            "Epoch 98/100\n",
            "122/122 [==============================] - 111s 906ms/step - loss: 4.6457 - MAE: 4.6457 - val_loss: 9.3586 - val_MAE: 9.3586\n",
            "Epoch 99/100\n",
            "122/122 [==============================] - 111s 903ms/step - loss: 4.5336 - MAE: 4.5336 - val_loss: 8.7054 - val_MAE: 8.7054\n",
            "Epoch 100/100\n",
            "122/122 [==============================] - 110s 898ms/step - loss: 4.5250 - MAE: 4.5250 - val_loss: 8.4743 - val_MAE: 8.4743\n",
            "46/46 [==============================] - 8s 173ms/step - loss: 8.7954 - MAE: 8.7954\n"
          ]
        }
      ]
    },
    {
      "cell_type": "code",
      "source": [
        "plt.plot(history.history['loss'])\n",
        "plt.plot(history.history['val_loss'])\n",
        "plt.title('Model loss')\n",
        "plt.ylabel('Loss')\n",
        "plt.xlabel('Epoch')\n",
        "plt.legend(['Train', 'Validation'], loc='upper left')\n",
        "plt.show()"
      ],
      "metadata": {
        "colab": {
          "base_uri": "https://localhost:8080/",
          "height": 295
        },
        "id": "ZNla0B7HZOIj",
        "outputId": "8d934219-4be2-4ea1-bc08-1de647f67e14"
      },
      "execution_count": null,
      "outputs": [
        {
          "output_type": "display_data",
          "data": {
            "text/plain": [
              "<Figure size 432x288 with 1 Axes>"
            ],
            "image/png": "[encoded data removed]"
          },
          "metadata": {
            "needs_background": "light"
          }
        }
      ]
    },
    {
      "cell_type": "code",
      "source": [],
      "metadata": {
        "id": "2gMsSeYWeu6P"
      },
      "execution_count": null,
      "outputs": []
    },
    {
      "cell_type": "code",
      "source": [
        "df_cols = ['age', 'preag' , 'gen','act','abs']\n",
        "new_df = pd.DataFrame(columns=df_cols)\n",
        "def TestMAE(model,test_data,test_label,test_gender):\n",
        "    test_gender = np.array(test_gender)\n",
        "    test_gender = np.expand_dims(test_gender,axis=1)\n",
        "    layer=K.function([model.layers[0].input,model.layers[11].input],[model.layers[-1].output])\n",
        "    predictions=layer([test_data,test_gender])\n",
        "    #print(predictions)\n",
        "    predictions = np.array(predictions)\n",
        "    #print(predictions)\n",
        "    predictions = np.squeeze(predictions,axis=0)\n",
        "    print (predictions.shape)\n",
        "    x=(predictions-test_label)\n",
        "    y=(np.abs(predictions-test_label))\n",
        "    TestMAE = np.mean(np.abs(predictions-test_label))\n",
        "    return TestMAE,predictions\n",
        "\n",
        "tests_x=test_x[1200:1500]\n",
        "tests_y=test_y[1200:1500]\n",
        "tests_gen=test_gen[1200:1500]\n",
        "val,pred=TestMAE(model,tests_x,tests_y,tests_gen)\n",
        "print(val)\n",
        "\n",
        "for i in range(300):\n",
        "  new_row = {'age': tests_y[i], 'preag':pred[i][0], 'gen':tests_gen[i], 'act': tests_y[i]-pred[i][0], 'abs': np.abs( tests_y[i]-pred[i][0])}\n",
        "  new_df= new_df.append(new_row, ignore_index=True)"
      ],
      "metadata": {
        "colab": {
          "base_uri": "https://localhost:8080/"
        },
        "id": "NBt_yWYhRIzV",
        "outputId": "e2fcb9d7-c5f0-4e3d-f455-40e684e27ce1"
      },
      "execution_count": null,
      "outputs": [
        {
          "output_type": "stream",
          "name": "stdout",
          "text": [
            "(300, 1)\n",
            "46.826344\n"
          ]
        }
      ]
    },
    {
      "cell_type": "code",
      "source": [
        "from scipy import stats\n",
        "\n",
        "def res_plots(df):\n",
        "  res = df['act']\n",
        "  plt.figure(figsize=(15,6))\n",
        "  #df['preag'] = df['preag'].astype('int')\n",
        "  # Residual plot\n",
        "  plt.subplot(1, 2, 1)\n",
        "  plt.scatter(df['preag'], res)\n",
        "  plt.axhline(0, color='r')\n",
        "  plt.title('Residual plot')\n",
        "  plt.xlabel('Predictions')\n",
        "  plt.ylabel('Residuals')\n",
        "\n",
        "  # Normal Q-Q plot\n",
        "  plt.subplot(1, 2, 2)\n",
        "  stats.probplot(res, dist='norm', plot=plt)\n",
        "  plt.title('Normal Q-Q plot')\n",
        "  plt.show()\n",
        "\n",
        "res_plots(new_df)"
      ],
      "metadata": {
        "colab": {
          "base_uri": "https://localhost:8080/",
          "height": 404
        },
        "id": "WwT27oseRRNq",
        "outputId": "7f39e718-1814-49e1-f0a0-15854d860859"
      },
      "execution_count": null,
      "outputs": [
        {
          "output_type": "display_data",
          "data": {
            "text/plain": [
              "<Figure size 1080x432 with 2 Axes>"
            ],
            "image/png": "[encoded data removed]"
          },
          "metadata": {
            "needs_background": "light"
          }
        }
      ]
    },
    {
      "cell_type": "code",
      "source": [
        "\n",
        "from keras.metrics import mean_absolute_error\n",
        "import pandas as pd\n",
        "import numpy as np\n",
        "import os\n",
        "import matplotlib.pyplot as plt\n",
        "import seaborn as sns\n",
        "\n",
        "def plot_preds(df, model_name):\n",
        "  plt.figure(figsize=(6,6))\n",
        "  sns.scatterplot(x='age', y='preag', data=df)\n",
        "  sns.lineplot(x='age', y='age', data=df, color='red')\n",
        "  # plt.title(model_name)\n",
        "  plt.xlabel('Actual bone age (months)', fontsize=14)\n",
        "  plt.ylabel('Predicted bone age (months)', fontsize=14)\n",
        "  plt.show()\n",
        "\n",
        "plot_preds(new_df, 'Different Scale CBAM with SE')"
      ],
      "metadata": {
        "colab": {
          "base_uri": "https://localhost:8080/",
          "height": 392
        },
        "id": "48tHBua-RWV2",
        "outputId": "9aa64dc7-8d2b-4f9c-84ed-02f23380a54f"
      },
      "execution_count": null,
      "outputs": [
        {
          "output_type": "display_data",
          "data": {
            "text/plain": [
              "<Figure size 432x432 with 1 Axes>"
            ],
            "image/png": "[encoded data removed]"
          },
          "metadata": {
            "needs_background": "light"
          }
        }
      ]
    },
    {
      "cell_type": "code",
      "source": [
        "def plot_preds_gender(df, model_name):\n",
        "  plt.figure(figsize=(6,6))\n",
        "  sns.scatterplot(x='age', y='preag', data=df, hue='gen', alpha=0.8)\n",
        "  sns.lineplot(x='age', y='age', data=df, color='red')\n",
        "  # plt.title(model_name)\n",
        "  plt.xlabel('Actual bone age (months)', fontsize=14)\n",
        "  plt.ylabel('Predicted bone age (months)', fontsize=14)\n",
        "  plt.show()\n",
        "plot_preds_gender(new_df, 'Different Scale CBAM with SE' )"
      ],
      "metadata": {
        "colab": {
          "base_uri": "https://localhost:8080/",
          "height": 392
        },
        "id": "YuuUoaufRcx4",
        "outputId": "4249f5a8-49b9-47e1-9d55-bcd670a220c7"
      },
      "execution_count": null,
      "outputs": [
        {
          "output_type": "display_data",
          "data": {
            "text/plain": [
              "<Figure size 432x432 with 1 Axes>"
            ],
            "image/png": "[encoded data removed]"
          },
          "metadata": {
            "needs_background": "light"
          }
        }
      ]
    },
    {
      "cell_type": "code",
      "source": [],
      "metadata": {
        "id": "1KCSmTV3fD0t"
      },
      "execution_count": null,
      "outputs": []
    },
    {
      "cell_type": "code",
      "source": [
        "import matplotlib.image as mpimg\n",
        "import matplotlib.pyplot as plt\n",
        "\n",
        "\n",
        "\n",
        "last_conv_layer_name = \"batch_normalization_188\"\n",
        "\n",
        "\n",
        "for column in df['path']:\n",
        "  print(column)\n",
        "  img = mpimg.imread(column)\n",
        "  plt.imshow(img)\n",
        "  break\n"
      ],
      "metadata": {
        "id": "w1ilGtqu9PrQ",
        "colab": {
          "base_uri": "https://localhost:8080/",
          "height": 286
        },
        "outputId": "feb8c220-800c-4bde-87e4-fc5d4bbe81b6"
      },
      "execution_count": null,
      "outputs": [
        {
          "output_type": "stream",
          "name": "stdout",
          "text": [
            "/content/drive/MyDrive/boneage-training-dataset/1377.png\n"
          ]
        },
        {
          "output_type": "display_data",
          "data": {
            "text/plain": [
              "<Figure size 432x288 with 1 Axes>"
            ],
            "image/png": "[encoded data removed]"
          },
          "metadata": {
            "needs_background": "light"
          }
        }
      ]
    },
    {
      "cell_type": "code",
      "source": [
        "def get_img_array(img_path, size):\n",
        "    # `img` is a PIL image of size 299x299\n",
        "    img = tf.keras.utils.load_img(img_path, target_size=size)\n",
        "    # `array` is a float32 Numpy array of shape (299, 299, 3)\n",
        "    array = tf.keras.utils.img_to_array(img)\n",
        "    # We add a dimension to transform our array into a \"batch\"\n",
        "    # of size (1, 299, 299, 3)\n",
        "    array = np.expand_dims(array, axis=0)\n",
        "    return array\n",
        "\n",
        "\n",
        "def make_gradcam_heatmap(img_array, model, last_conv_layer_name, pred_index=None):\n",
        "    # First, we create a model that maps the input image to the activations\n",
        "    # of the last conv layer as well as the output predictions\n",
        "    grad_model = tf.keras.models.Model(\n",
        "        [model.layers[0].input,model.layers[11].input], [model.get_layer(last_conv_layer_name).output, model.output]\n",
        "    )\n",
        "\n",
        "    # Then, we compute the gradient of the top predicted class for our input image\n",
        "    # with respect to the activations of the last conv layer\n",
        "    with tf.GradientTape() as tape:\n",
        "        last_conv_layer_output, preds = grad_model(img_array)\n",
        "        if pred_index is None:\n",
        "            pred_index = tf.argmax(preds[0])\n",
        "        class_channel = preds[:, pred_index]\n",
        "\n",
        "\n",
        "    # This is the gradient of the output neuron (top predicted or chosen)\n",
        "    # with regard to the output feature map of the last conv layer\n",
        "    grads = tape.gradient(class_channel, last_conv_layer_output)\n",
        "\n",
        "    # This is a vector where each entry is the mean intensity of the gradient\n",
        "    # over a specific feature map channel\n",
        "    pooled_grads = tf.reduce_mean(grads, axis=(0, 1, 2))\n",
        "\n",
        "    # We multiply each channel in the feature map array\n",
        "    # by \"how important this channel is\" with regard to the top predicted class\n",
        "    # then sum all the channels to obtain the heatmap class activation\n",
        "    last_conv_layer_output = last_conv_layer_output[0]\n",
        "    heatmap = last_conv_layer_output @ pooled_grads[..., tf.newaxis]\n",
        "    heatmap = tf.squeeze(heatmap)\n",
        "\n",
        "    # For visualization purpose, we will also normalize the heatmap between 0 & 1\n",
        "    heatmap = tf.maximum(heatmap, 0) / tf.math.reduce_max(heatmap)\n",
        "    return heatmap.numpy()"
      ],
      "metadata": {
        "id": "Qs68zamU-gPI"
      },
      "execution_count": null,
      "outputs": []
    },
    {
      "cell_type": "code",
      "source": [
        "import keras\n",
        "import tensorflow as tf\n",
        "preprocess_input = keras.applications.xception.preprocess_input\n",
        "img_path=\"/content/drive/MyDrive/boneage-training-dataset/15598.png\"\n",
        "img_array = preprocess_input(get_img_array(img_path, size=IMG_SIZE))\n",
        "last_conv_layer_name = \"batch_normalization_188\"\n",
        "a=[0]\n",
        "a=np.asarray(a)\n",
        "x=[img_array,a]\n",
        "# Print what the top predicted class is\n",
        "preds = model.predict(x)\n",
        "#print(\"Predicted:\", decode_predictions(preds, top=1)[0])\n",
        "\n",
        "# Generate class activation heatmap\n",
        "heatmap = make_gradcam_heatmap(x, model, last_conv_layer_name)\n",
        "\n",
        "# Display heatmap\n",
        "plt.matshow(heatmap)\n",
        "plt.show()\n",
        "#heatmap.save(\"cam4117.jpg\")"
      ],
      "metadata": {
        "id": "3lC32ric-5hu",
        "colab": {
          "base_uri": "https://localhost:8080/",
          "height": 292
        },
        "outputId": "58de15b5-d252-429b-88eb-5bfa8972f33d"
      },
      "execution_count": null,
      "outputs": [
        {
          "output_type": "stream",
          "name": "stdout",
          "text": [
            "1/1 [==============================] - 0s 53ms/step\n"
          ]
        },
        {
          "output_type": "display_data",
          "data": {
            "text/plain": [
              "<Figure size 288x288 with 1 Axes>"
            ],
            "image/png": "[encoded data removed]"
          },
          "metadata": {
            "needs_background": "light"
          }
        }
      ]
    },
    {
      "cell_type": "code",
      "source": [
        "from IPython.display import Image, display\n",
        "import matplotlib.pyplot as plt\n",
        "import matplotlib.cm as cm\n",
        "\n",
        "def save_and_display_gradcam(img_path, heatmap, cam_path=\"cam15598.jpg\", alpha=0.5):\n",
        "    # Load the original image\n",
        "    img = tf.keras.utils.load_img(img_path)\n",
        "    img = tf.keras.utils.img_to_array(img)\n",
        "\n",
        "    # Rescale heatmap to a range 0-255\n",
        "    heatmap = np.uint8(255 * heatmap)\n",
        "\n",
        "    # Use jet colormap to colorize heatmap\n",
        "    jet = cm.get_cmap(\"jet\")\n",
        "\n",
        "    # Use RGB values of the colormap\n",
        "    jet_colors = jet(np.arange(256))[:, :3]\n",
        "    jet_heatmap = jet_colors[heatmap]\n",
        "\n",
        "    # Create an image with RGB colorized heatmap\n",
        "    jet_heatmap =tf.keras.preprocessing.image.array_to_img(jet_heatmap)\n",
        "    jet_heatmap = jet_heatmap.resize((img.shape[1], img.shape[0]))\n",
        "    jet_heatmap = tf.keras.utils.img_to_array(jet_heatmap)\n",
        "   # print(jet_heatmap)\n",
        "    # Superimpose the heatmap on original image\n",
        "    superimposed_img = jet_heatmap * alpha + img\n",
        "    superimposed_img =  tf.keras.utils.array_to_img(superimposed_img)\n",
        "\n",
        "    # Save the superimposed image\n",
        "    superimposed_img.save(cam_path)\n",
        "\n",
        "    # Display Grad CAM\n",
        "    display(Image(cam_path))\n",
        "save_and_display_gradcam(img_path, heatmap)"
      ],
      "metadata": {
        "id": "4kkJbeLA_ADv",
        "colab": {
          "base_uri": "https://localhost:8080/",
          "height": 1000
        },
        "outputId": "b0156c29-ad56-49c3-ebfd-778773c8600b"
      },
      "execution_count": null,
      "outputs": [
        {
          "output_type": "display_data",
          "data": {
            "image/jpeg": "[encoded data removed]",
            "text/plain": [
              "<IPython.core.display.Image object>"
            ]
          },
          "metadata": {}
        }
      ]
    },
    {
      "cell_type": "code",
      "source": [
        "df=pd.read_csv('/content/drive/MyDrive/boneage-training-dataset.csv')\n",
        " #plotting a histogram for bone ages\n",
        "df['boneage'].hist()\n",
        "plt.xlabel('Age in months')\n",
        "plt.ylabel('Number of children')\n",
        "plt.title('Number of children in each age group')"
      ],
      "metadata": {
        "colab": {
          "base_uri": "https://localhost:8080/",
          "height": 312
        },
        "id": "5_f71ZDil1mN",
        "outputId": "dadc3d41-2ceb-4fb6-c2a2-e9943c5b77c7"
      },
      "execution_count": null,
      "outputs": [
        {
          "output_type": "execute_result",
          "data": {
            "text/plain": [
              "Text(0.5, 1.0, 'Number of children in each age group')"
            ]
          },
          "metadata": {},
          "execution_count": 152
        },
        {
          "output_type": "display_data",
          "data": {
            "text/plain": [
              "<Figure size 432x288 with 1 Axes>"
            ],
            "image/png": "[encoded data removed]"
          },
          "metadata": {
            "needs_background": "light"
          }
        }
      ]
    },
    {
      "cell_type": "code",
      "source": [
        "import seaborn as sns\n",
        "#Relationship between age and gender with a categorical scatter plot (swarmplot)\n",
        "sns.swarmplot(x = df['male'], y = df['boneage'])"
      ],
      "metadata": {
        "colab": {
          "base_uri": "https://localhost:8080/",
          "height": 593
        },
        "id": "mu2mi2lOmDiy",
        "outputId": "547d81a3-c422-4721-c95d-7e13d2b33f7d"
      },
      "execution_count": null,
      "outputs": [
        {
          "output_type": "error",
          "ename": "KeyboardInterrupt",
          "evalue": "ignored",
          "traceback": [
            "\u001b[0;31m---------------------------------------------------------------------------\u001b[0m",
            "\u001b[0;31mKeyboardInterrupt\u001b[0m                         Traceback (most recent call last)",
            "\u001b[0;32m<ipython-input-156-d4fc0a8e3b7a>\u001b[0m in \u001b[0;36m<module>\u001b[0;34m\u001b[0m\n\u001b[1;32m      1\u001b[0m \u001b[0;32mimport\u001b[0m \u001b[0mseaborn\u001b[0m \u001b[0;32mas\u001b[0m \u001b[0msns\u001b[0m\u001b[0;34m\u001b[0m\u001b[0;34m\u001b[0m\u001b[0m\n\u001b[1;32m      2\u001b[0m \u001b[0;31m#Relationship between age and gender with a categorical scatter plot (swarmplot)\u001b[0m\u001b[0;34m\u001b[0m\u001b[0;34m\u001b[0m\u001b[0;34m\u001b[0m\u001b[0m\n\u001b[0;32m----> 3\u001b[0;31m \u001b[0msns\u001b[0m\u001b[0;34m.\u001b[0m\u001b[0mswarmplot\u001b[0m\u001b[0;34m(\u001b[0m\u001b[0mx\u001b[0m \u001b[0;34m=\u001b[0m \u001b[0mdf\u001b[0m\u001b[0;34m[\u001b[0m\u001b[0;34m'male'\u001b[0m\u001b[0;34m]\u001b[0m\u001b[0;34m,\u001b[0m \u001b[0my\u001b[0m \u001b[0;34m=\u001b[0m \u001b[0mdf\u001b[0m\u001b[0;34m[\u001b[0m\u001b[0;34m'boneage'\u001b[0m\u001b[0;34m]\u001b[0m\u001b[0;34m)\u001b[0m\u001b[0;34m\u001b[0m\u001b[0;34m\u001b[0m\u001b[0m\n\u001b[0m",
            "\u001b[0;32m/usr/local/lib/python3.8/dist-packages/seaborn/_decorators.py\u001b[0m in \u001b[0;36minner_f\u001b[0;34m(*args, **kwargs)\u001b[0m\n\u001b[1;32m     44\u001b[0m             )\n\u001b[1;32m     45\u001b[0m         \u001b[0mkwargs\u001b[0m\u001b[0;34m.\u001b[0m\u001b[0mupdate\u001b[0m\u001b[0;34m(\u001b[0m\u001b[0;34m{\u001b[0m\u001b[0mk\u001b[0m\u001b[0;34m:\u001b[0m \u001b[0marg\u001b[0m \u001b[0;32mfor\u001b[0m \u001b[0mk\u001b[0m\u001b[0;34m,\u001b[0m \u001b[0marg\u001b[0m \u001b[0;32min\u001b[0m \u001b[0mzip\u001b[0m\u001b[0;34m(\u001b[0m\u001b[0msig\u001b[0m\u001b[0;34m.\u001b[0m\u001b[0mparameters\u001b[0m\u001b[0;34m,\u001b[0m \u001b[0margs\u001b[0m\u001b[0;34m)\u001b[0m\u001b[0;34m}\u001b[0m\u001b[0;34m)\u001b[0m\u001b[0;34m\u001b[0m\u001b[0;34m\u001b[0m\u001b[0m\n\u001b[0;32m---> 46\u001b[0;31m         \u001b[0;32mreturn\u001b[0m \u001b[0mf\u001b[0m\u001b[0;34m(\u001b[0m\u001b[0;34m**\u001b[0m\u001b[0mkwargs\u001b[0m\u001b[0;34m)\u001b[0m\u001b[0;34m\u001b[0m\u001b[0;34m\u001b[0m\u001b[0m\n\u001b[0m\u001b[1;32m     47\u001b[0m     \u001b[0;32mreturn\u001b[0m \u001b[0minner_f\u001b[0m\u001b[0;34m\u001b[0m\u001b[0;34m\u001b[0m\u001b[0m\n\u001b[1;32m     48\u001b[0m \u001b[0;34m\u001b[0m\u001b[0m\n",
            "\u001b[0;32m/usr/local/lib/python3.8/dist-packages/seaborn/categorical.py\u001b[0m in \u001b[0;36mswarmplot\u001b[0;34m(x, y, hue, data, order, hue_order, dodge, orient, color, palette, size, edgecolor, linewidth, ax, **kwargs)\u001b[0m\n\u001b[1;32m   3017\u001b[0m                        linewidth=linewidth))\n\u001b[1;32m   3018\u001b[0m \u001b[0;34m\u001b[0m\u001b[0m\n\u001b[0;32m-> 3019\u001b[0;31m     \u001b[0mplotter\u001b[0m\u001b[0;34m.\u001b[0m\u001b[0mplot\u001b[0m\u001b[0;34m(\u001b[0m\u001b[0max\u001b[0m\u001b[0;34m,\u001b[0m \u001b[0mkwargs\u001b[0m\u001b[0;34m)\u001b[0m\u001b[0;34m\u001b[0m\u001b[0;34m\u001b[0m\u001b[0m\n\u001b[0m\u001b[1;32m   3020\u001b[0m     \u001b[0;32mreturn\u001b[0m \u001b[0max\u001b[0m\u001b[0;34m\u001b[0m\u001b[0;34m\u001b[0m\u001b[0m\n\u001b[1;32m   3021\u001b[0m \u001b[0;34m\u001b[0m\u001b[0m\n",
            "\u001b[0;32m/usr/local/lib/python3.8/dist-packages/seaborn/categorical.py\u001b[0m in \u001b[0;36mplot\u001b[0;34m(self, ax, kws)\u001b[0m\n\u001b[1;32m   1418\u001b[0m     \u001b[0;32mdef\u001b[0m \u001b[0mplot\u001b[0m\u001b[0;34m(\u001b[0m\u001b[0mself\u001b[0m\u001b[0;34m,\u001b[0m \u001b[0max\u001b[0m\u001b[0;34m,\u001b[0m \u001b[0mkws\u001b[0m\u001b[0;34m)\u001b[0m\u001b[0;34m:\u001b[0m\u001b[0;34m\u001b[0m\u001b[0;34m\u001b[0m\u001b[0m\n\u001b[1;32m   1419\u001b[0m         \u001b[0;34m\"\"\"Make the full plot.\"\"\"\u001b[0m\u001b[0;34m\u001b[0m\u001b[0;34m\u001b[0m\u001b[0m\n\u001b[0;32m-> 1420\u001b[0;31m         \u001b[0mself\u001b[0m\u001b[0;34m.\u001b[0m\u001b[0mdraw_swarmplot\u001b[0m\u001b[0;34m(\u001b[0m\u001b[0max\u001b[0m\u001b[0;34m,\u001b[0m \u001b[0mkws\u001b[0m\u001b[0;34m)\u001b[0m\u001b[0;34m\u001b[0m\u001b[0;34m\u001b[0m\u001b[0m\n\u001b[0m\u001b[1;32m   1421\u001b[0m         \u001b[0mself\u001b[0m\u001b[0;34m.\u001b[0m\u001b[0madd_legend_data\u001b[0m\u001b[0;34m(\u001b[0m\u001b[0max\u001b[0m\u001b[0;34m)\u001b[0m\u001b[0;34m\u001b[0m\u001b[0;34m\u001b[0m\u001b[0m\n\u001b[1;32m   1422\u001b[0m         \u001b[0mself\u001b[0m\u001b[0;34m.\u001b[0m\u001b[0mannotate_axes\u001b[0m\u001b[0;34m(\u001b[0m\u001b[0max\u001b[0m\u001b[0;34m)\u001b[0m\u001b[0;34m\u001b[0m\u001b[0;34m\u001b[0m\u001b[0m\n",
            "\u001b[0;32m/usr/local/lib/python3.8/dist-packages/seaborn/categorical.py\u001b[0m in \u001b[0;36mdraw_swarmplot\u001b[0;34m(self, ax, kws)\u001b[0m\n\u001b[1;32m   1414\u001b[0m         \u001b[0;32mfor\u001b[0m \u001b[0mcenter\u001b[0m\u001b[0;34m,\u001b[0m \u001b[0mswarm\u001b[0m \u001b[0;32min\u001b[0m \u001b[0mzip\u001b[0m\u001b[0;34m(\u001b[0m\u001b[0mcenters\u001b[0m\u001b[0;34m,\u001b[0m \u001b[0mswarms\u001b[0m\u001b[0;34m)\u001b[0m\u001b[0;34m:\u001b[0m\u001b[0;34m\u001b[0m\u001b[0;34m\u001b[0m\u001b[0m\n\u001b[1;32m   1415\u001b[0m             \u001b[0;32mif\u001b[0m \u001b[0mswarm\u001b[0m\u001b[0;34m.\u001b[0m\u001b[0mget_offsets\u001b[0m\u001b[0;34m(\u001b[0m\u001b[0;34m)\u001b[0m\u001b[0;34m.\u001b[0m\u001b[0msize\u001b[0m\u001b[0;34m:\u001b[0m\u001b[0;34m\u001b[0m\u001b[0;34m\u001b[0m\u001b[0m\n\u001b[0;32m-> 1416\u001b[0;31m                 \u001b[0mself\u001b[0m\u001b[0;34m.\u001b[0m\u001b[0mswarm_points\u001b[0m\u001b[0;34m(\u001b[0m\u001b[0max\u001b[0m\u001b[0;34m,\u001b[0m \u001b[0mswarm\u001b[0m\u001b[0;34m,\u001b[0m \u001b[0mcenter\u001b[0m\u001b[0;34m,\u001b[0m \u001b[0mwidth\u001b[0m\u001b[0;34m,\u001b[0m \u001b[0ms\u001b[0m\u001b[0;34m,\u001b[0m \u001b[0;34m**\u001b[0m\u001b[0mkws\u001b[0m\u001b[0;34m)\u001b[0m\u001b[0;34m\u001b[0m\u001b[0;34m\u001b[0m\u001b[0m\n\u001b[0m\u001b[1;32m   1417\u001b[0m \u001b[0;34m\u001b[0m\u001b[0m\n\u001b[1;32m   1418\u001b[0m     \u001b[0;32mdef\u001b[0m \u001b[0mplot\u001b[0m\u001b[0;34m(\u001b[0m\u001b[0mself\u001b[0m\u001b[0;34m,\u001b[0m \u001b[0max\u001b[0m\u001b[0;34m,\u001b[0m \u001b[0mkws\u001b[0m\u001b[0;34m)\u001b[0m\u001b[0;34m:\u001b[0m\u001b[0;34m\u001b[0m\u001b[0;34m\u001b[0m\u001b[0m\n",
            "\u001b[0;32m/usr/local/lib/python3.8/dist-packages/seaborn/categorical.py\u001b[0m in \u001b[0;36mswarm_points\u001b[0;34m(self, ax, points, center, width, s, **kws)\u001b[0m\n\u001b[1;32m   1316\u001b[0m \u001b[0;34m\u001b[0m\u001b[0m\n\u001b[1;32m   1317\u001b[0m         \u001b[0;31m# Do the beeswarm in point coordinates\u001b[0m\u001b[0;34m\u001b[0m\u001b[0;34m\u001b[0m\u001b[0;34m\u001b[0m\u001b[0m\n\u001b[0;32m-> 1318\u001b[0;31m         \u001b[0mnew_xy\u001b[0m \u001b[0;34m=\u001b[0m \u001b[0mself\u001b[0m\u001b[0;34m.\u001b[0m\u001b[0mbeeswarm\u001b[0m\u001b[0;34m(\u001b[0m\u001b[0morig_xy\u001b[0m\u001b[0;34m,\u001b[0m \u001b[0md\u001b[0m\u001b[0;34m)\u001b[0m\u001b[0;34m\u001b[0m\u001b[0;34m\u001b[0m\u001b[0m\n\u001b[0m\u001b[1;32m   1319\u001b[0m \u001b[0;34m\u001b[0m\u001b[0m\n\u001b[1;32m   1320\u001b[0m         \u001b[0;31m# Transform the point coordinates back to data coordinates\u001b[0m\u001b[0;34m\u001b[0m\u001b[0;34m\u001b[0m\u001b[0;34m\u001b[0m\u001b[0m\n",
            "\u001b[0;32m/usr/local/lib/python3.8/dist-packages/seaborn/categorical.py\u001b[0m in \u001b[0;36mbeeswarm\u001b[0;34m(self, orig_xy, d)\u001b[0m\n\u001b[1;32m   1268\u001b[0m \u001b[0;34m\u001b[0m\u001b[0m\n\u001b[1;32m   1269\u001b[0m             \u001b[0;31m# Find the first candidate that does not overlap any neighbours\u001b[0m\u001b[0;34m\u001b[0m\u001b[0;34m\u001b[0m\u001b[0;34m\u001b[0m\u001b[0m\n\u001b[0;32m-> 1270\u001b[0;31m             new_xy_i = self.first_non_overlapping_candidate(candidates,\n\u001b[0m\u001b[1;32m   1271\u001b[0m                                                             neighbors, d)\n\u001b[1;32m   1272\u001b[0m \u001b[0;34m\u001b[0m\u001b[0m\n",
            "\u001b[0;32m/usr/local/lib/python3.8/dist-packages/seaborn/categorical.py\u001b[0m in \u001b[0;36mfirst_non_overlapping_candidate\u001b[0;34m(self, candidates, neighbors, d)\u001b[0m\n\u001b[1;32m   1227\u001b[0m             \u001b[0mdy\u001b[0m \u001b[0;34m=\u001b[0m \u001b[0mneighbors_y\u001b[0m \u001b[0;34m-\u001b[0m \u001b[0my_i\u001b[0m\u001b[0;34m\u001b[0m\u001b[0;34m\u001b[0m\u001b[0m\n\u001b[1;32m   1228\u001b[0m \u001b[0;34m\u001b[0m\u001b[0m\n\u001b[0;32m-> 1229\u001b[0;31m             \u001b[0msq_distances\u001b[0m \u001b[0;34m=\u001b[0m \u001b[0mnp\u001b[0m\u001b[0;34m.\u001b[0m\u001b[0mpower\u001b[0m\u001b[0;34m(\u001b[0m\u001b[0mdx\u001b[0m\u001b[0;34m,\u001b[0m \u001b[0;36m2.0\u001b[0m\u001b[0;34m)\u001b[0m \u001b[0;34m+\u001b[0m \u001b[0mnp\u001b[0m\u001b[0;34m.\u001b[0m\u001b[0mpower\u001b[0m\u001b[0;34m(\u001b[0m\u001b[0mdy\u001b[0m\u001b[0;34m,\u001b[0m \u001b[0;36m2.0\u001b[0m\u001b[0;34m)\u001b[0m\u001b[0;34m\u001b[0m\u001b[0;34m\u001b[0m\u001b[0m\n\u001b[0m\u001b[1;32m   1230\u001b[0m \u001b[0;34m\u001b[0m\u001b[0m\n\u001b[1;32m   1231\u001b[0m             \u001b[0;31m# good candidate does not overlap any of neighbors\u001b[0m\u001b[0;34m\u001b[0m\u001b[0;34m\u001b[0m\u001b[0;34m\u001b[0m\u001b[0m\n",
            "\u001b[0;31mKeyboardInterrupt\u001b[0m: "
          ]
        },
        {
          "output_type": "display_data",
          "data": {
            "text/plain": [
              "<Figure size 432x288 with 1 Axes>"
            ],
            "image/png": "[encoded data removed]"
          },
          "metadata": {
            "needs_background": "light"
          }
        }
      ]
    },
    {
      "cell_type": "code",
      "source": [
        "#distribution of age within each gender \n",
        "male = df[df['male'] == True]\n",
        "female = df[df['male'] == False]\n",
        "fig, ax = plt.subplots(2,1)\n",
        "ax[0].hist(male['boneage'], color = 'lightblue')\n",
        "ax[0].set_ylabel('Number of boys')\n",
        "ax[1].hist(female['boneage'], color = 'lightpink')\n",
        "ax[1].set_xlabel('Age in months')\n",
        "ax[1].set_ylabel('Number of girls')\n",
        "fig.set_size_inches((10,7))"
      ],
      "metadata": {
        "colab": {
          "base_uri": "https://localhost:8080/",
          "height": 442
        },
        "id": "mZ0F5ttamaYY",
        "outputId": "cb1e85d1-e3c1-4254-dcbc-6773c71dffba"
      },
      "execution_count": null,
      "outputs": [
        {
          "output_type": "display_data",
          "data": {
            "text/plain": [
              "<Figure size 720x504 with 2 Axes>"
            ],
            "image/png": "[encoded data removed]"
          },
          "metadata": {
            "needs_background": "light"
          }
        }
      ]
    },
    {
      "cell_type": "code",
      "source": [
        "base_model = InceptionV3(weights='imagenet', include_top=False)\n",
        "\n",
        "input = Input(shape=(256,256,3),name='input1')\n",
        "input_gender = Input(shape=(1,),dtype='float32',name='input2')\n",
        "output = base_model(input)\n",
        "gender_embedding=Dense(32)(input_gender)\n",
        "#gender_embedding=Dense(12)(gender_embedding)\n",
        "#x = keras.layers.MaxPooling2D(pool_size=(5,5))(output)\n",
        "#x = keras.layers.Conv2D(512,kernel_size=(3,3))(x)\n",
        "#x = conv2d_bn(output, 512, 3, 3, padding='valid') \n",
        "sq = keras.layers.GlobalAveragePooling2D()(output)\n",
        "sq = keras.layers.Reshape((1,1,2048))(sq)\n",
        "sq = keras.layers.Dense(units=2048, kernel_regularizer=regularizers.L2(0.1),activation=\"sigmoid\")(sq)\n",
        "block = keras.layers.multiply([output,sq])\n",
        "#fine Squeeze and Excitation 1\n",
        "\n",
        "net = keras.layers.add([output,block])\n",
        "net = keras.layers.BatchNormalization()(net)\n",
        "net = keras.layers.Activation(\"relu\")(net)\n",
        "net = keras.layers.MaxPooling2D(pool_size=(2, 2),name=\"block_1\")(net)\n",
        "\n",
        "print (K.int_shape(output))\n",
        "x = keras.layers.MaxPooling2D(pool_size=(2,2))(net)\n",
        "print (K.int_shape(x))\n",
        "x=Flatten()(x)\n",
        "f = keras.layers.Concatenate(axis=1)([x,gender_embedding])\n",
        "print (K.int_shape(f)) \n",
        "#x = Dense(256, activation='relu')(x)\n",
        "predictions = Dense(1)(f)\n",
        "model = Model(inputs=[input,input_gender], outputs=predictions)\n",
        "Adam=tf.keras.optimizers.Adam(lr=0.0001,beta_1=0.9,beta_2=0.999)\n",
        "model.compile(optimizer=Adam, loss='mean_absolute_error', metrics=['MAE'])\n",
        "model.summary()\n",
        "from keras.preprocessing.image import ImageDataGenerator\n",
        "DataGen = ImageDataGenerator(rotation_range=20,width_shift_range=0.15,height_shift_range=0.15,zoom_range=0.2,horizontal_flip=True)\n",
        "def Generator(x_train,gender_train,y_train,batch_size):\n",
        "    loopcount = len(y_train)//batch_size\n",
        "    i=0\n",
        "    while (True):\n",
        "        if i>loopcount:\n",
        "            i=0\n",
        "        # i=np.random.randint(0,loopcount)\n",
        "        x_train_batch = x_train[i*batch_size:(i+1)*batch_size,:,:,:]\n",
        "        x_train_batch = DataAugment(x_train_batch)\n",
        "        gender_train_batch = gender_train[i*batch_size:(i+1)*batch_size]\n",
        "        y_train_batch = y_train[i*batch_size:(i+1)*batch_size]\n",
        "        inputs = [x_train_batch,gender_train_batch]\n",
        "        target = y_train_batch\n",
        "        yield (inputs ,target)\n",
        "        i = i+1\n",
        "checkpoint =keras.callbacks.ModelCheckpoint(filepath='weights/weights.{epoch:02d}-{val_loss:.2f}.hdf5',save_weights_only=True,period=100)\n",
        "history = model.fit_generator(DataGen.flow([train_x,train_gen],train_y,batch_size=64),steps_per_epoch=np.ceil(len(train_y)/64),epochs=100,verbose=1,validation_data=([valid_x,valid_gen],valid_y))\n",
        "#history = model.fit_generator(Generator(x_train,gender_train,y_train,batch_size),steps_per_epoch=np.ceil(len(y_train)/batch_size),epochs=10,verbose=1,validation_data=([x_valid,gender_valid],y_valid))\n",
        "#history=model.fit([x_train,gender_train],y_train,batch_size=32,epochs=5,verbose=1,validation_data=([x_valid,gender_valid],y_valid), callbacks = [checkpoint])\n",
        "score = model.evaluate([test_x,test_gen], test_y, batch_size=64)"
      ],
      "metadata": {
        "colab": {
          "base_uri": "https://localhost:8080/"
        },
        "id": "Gwn9UydMZQoZ",
        "outputId": "45c7280a-7caf-435d-8b3d-ca9c5449cd03"
      },
      "execution_count": null,
      "outputs": [
        {
          "output_type": "stream",
          "name": "stdout",
          "text": [
            "(None, 6, 6, 2048)\n",
            "(None, 1, 1, 2048)\n",
            "(None, 2080)\n",
            "Model: \"model_36\"\n",
            "__________________________________________________________________________________________________\n",
            " Layer (type)                   Output Shape         Param #     Connected to                     \n",
            "==================================================================================================\n",
            " input1 (InputLayer)            [(None, 256, 256, 3  0           []                               \n",
            "                                )]                                                                \n",
            "                                                                                                  \n",
            " inception_v3 (Functional)      (None, None, None,   21802784    ['input1[0][0]']                 \n",
            "                                2048)                                                             \n",
            "                                                                                                  \n",
            " global_average_pooling2d_1 (Gl  (None, 2048)        0           ['inception_v3[0][0]']           \n",
            " obalAveragePooling2D)                                                                            \n",
            "                                                                                                  \n",
            " reshape_1 (Reshape)            (None, 1, 1, 2048)   0           ['global_average_pooling2d_1[0][0\n",
            "                                                                 ]']                              \n",
            "                                                                                                  \n",
            " dense_10 (Dense)               (None, 1, 1, 2048)   4196352     ['reshape_1[0][0]']              \n",
            "                                                                                                  \n",
            " multiply_1 (Multiply)          (None, 6, 6, 2048)   0           ['inception_v3[0][0]',           \n",
            "                                                                  'dense_10[0][0]']               \n",
            "                                                                                                  \n",
            " add_1 (Add)                    (None, 6, 6, 2048)   0           ['inception_v3[0][0]',           \n",
            "                                                                  'multiply_1[0][0]']             \n",
            "                                                                                                  \n",
            " batch_normalization_283 (Batch  (None, 6, 6, 2048)  8192        ['add_1[0][0]']                  \n",
            " Normalization)                                                                                   \n",
            "                                                                                                  \n",
            " activation_283 (Activation)    (None, 6, 6, 2048)   0           ['batch_normalization_283[0][0]']\n",
            "                                                                                                  \n",
            " block_1 (MaxPooling2D)         (None, 3, 3, 2048)   0           ['activation_283[0][0]']         \n",
            "                                                                                                  \n",
            " max_pooling2d_14 (MaxPooling2D  (None, 1, 1, 2048)  0           ['block_1[0][0]']                \n",
            " )                                                                                                \n",
            "                                                                                                  \n",
            " input2 (InputLayer)            [(None, 1)]          0           []                               \n",
            "                                                                                                  \n",
            " flatten_2 (Flatten)            (None, 2048)         0           ['max_pooling2d_14[0][0]']       \n",
            "                                                                                                  \n",
            " dense_9 (Dense)                (None, 32)           64          ['input2[0][0]']                 \n",
            "                                                                                                  \n",
            " concatenate_8 (Concatenate)    (None, 2080)         0           ['flatten_2[0][0]',              \n",
            "                                                                  'dense_9[0][0]']                \n",
            "                                                                                                  \n",
            " dense_11 (Dense)               (None, 1)            2081        ['concatenate_8[0][0]']          \n",
            "                                                                                                  \n",
            "==================================================================================================\n",
            "Total params: 26,009,473\n",
            "Trainable params: 25,970,945\n",
            "Non-trainable params: 38,528\n",
            "__________________________________________________________________________________________________\n"
          ]
        },
        {
          "output_type": "stream",
          "name": "stderr",
          "text": [
            "/usr/local/lib/python3.8/dist-packages/keras/optimizers/optimizer_v2/adam.py:110: UserWarning: The `lr` argument is deprecated, use `learning_rate` instead.\n",
            "  super(Adam, self).__init__(name, **kwargs)\n",
            "WARNING:tensorflow:`period` argument is deprecated. Please use `save_freq` to specify the frequency in number of batches seen.\n",
            "<ipython-input-157-b03c83fa4d17>:52: UserWarning: `Model.fit_generator` is deprecated and will be removed in a future version. Please use `Model.fit`, which supports generators.\n",
            "  history = model.fit_generator(DataGen.flow([train_x,train_gen],train_y,batch_size=64),steps_per_epoch=np.ceil(len(train_y)/64),epochs=100,verbose=1,validation_data=([valid_x,valid_gen],valid_y))\n"
          ]
        },
        {
          "output_type": "stream",
          "name": "stdout",
          "text": [
            "Epoch 1/100\n",
            "122/122 [==============================] - 125s 971ms/step - loss: 163.5903 - MAE: 33.4737 - val_loss: 99.9846 - val_MAE: 26.1283\n",
            "Epoch 2/100\n",
            "122/122 [==============================] - 111s 908ms/step - loss: 60.3462 - MAE: 15.4156 - val_loss: 38.1976 - val_MAE: 14.3344\n",
            "Epoch 3/100\n",
            "122/122 [==============================] - 112s 915ms/step - loss: 27.6135 - MAE: 13.8568 - val_loss: 21.4498 - val_MAE: 14.7397\n",
            "Epoch 4/100\n",
            "122/122 [==============================] - 110s 896ms/step - loss: 16.7543 - MAE: 13.1095 - val_loss: 21.7543 - val_MAE: 20.1442\n",
            "Epoch 5/100\n",
            "122/122 [==============================] - 112s 912ms/step - loss: 13.6515 - MAE: 12.8298 - val_loss: 14.5767 - val_MAE: 14.2502\n",
            "Epoch 6/100\n",
            "122/122 [==============================] - 108s 879ms/step - loss: 12.4129 - MAE: 12.2555 - val_loss: 12.2280 - val_MAE: 12.1706\n",
            "Epoch 7/100\n",
            "122/122 [==============================] - 111s 903ms/step - loss: 11.7815 - MAE: 11.7549 - val_loss: 15.4933 - val_MAE: 15.4835\n",
            "Epoch 8/100\n",
            "122/122 [==============================] - 111s 903ms/step - loss: 11.3709 - MAE: 11.3650 - val_loss: 11.7672 - val_MAE: 11.7639\n",
            "Epoch 9/100\n",
            "122/122 [==============================] - 109s 889ms/step - loss: 11.3471 - MAE: 11.3440 - val_loss: 11.5961 - val_MAE: 11.5926\n",
            "Epoch 10/100\n",
            "122/122 [==============================] - 111s 908ms/step - loss: 10.9433 - MAE: 10.9408 - val_loss: 11.7402 - val_MAE: 11.7361\n",
            "Epoch 11/100\n",
            "122/122 [==============================] - 111s 906ms/step - loss: 11.0728 - MAE: 11.0701 - val_loss: 13.2884 - val_MAE: 13.2837\n",
            "Epoch 12/100\n",
            "122/122 [==============================] - 113s 925ms/step - loss: 10.7997 - MAE: 10.7963 - val_loss: 10.8192 - val_MAE: 10.8157\n",
            "Epoch 13/100\n",
            "122/122 [==============================] - 110s 896ms/step - loss: 10.7297 - MAE: 10.7265 - val_loss: 10.7463 - val_MAE: 10.7441\n",
            "Epoch 14/100\n",
            "122/122 [==============================] - 108s 885ms/step - loss: 10.4423 - MAE: 10.4396 - val_loss: 10.4062 - val_MAE: 10.4040\n",
            "Epoch 15/100\n",
            "122/122 [==============================] - 108s 881ms/step - loss: 10.5446 - MAE: 10.5412 - val_loss: 12.4445 - val_MAE: 12.4422\n",
            "Epoch 16/100\n",
            "122/122 [==============================] - 114s 933ms/step - loss: 10.2076 - MAE: 10.2048 - val_loss: 11.8354 - val_MAE: 11.8329\n",
            "Epoch 17/100\n",
            "122/122 [==============================] - 113s 925ms/step - loss: 9.9360 - MAE: 9.9338 - val_loss: 10.3471 - val_MAE: 10.3443\n",
            "Epoch 18/100\n",
            "122/122 [==============================] - 112s 916ms/step - loss: 9.8591 - MAE: 9.8557 - val_loss: 11.4260 - val_MAE: 11.4232\n",
            "Epoch 19/100\n",
            "122/122 [==============================] - 110s 894ms/step - loss: 9.7623 - MAE: 9.7596 - val_loss: 10.1845 - val_MAE: 10.1820\n",
            "Epoch 20/100\n",
            "122/122 [==============================] - 110s 896ms/step - loss: 9.6809 - MAE: 9.6772 - val_loss: 11.6124 - val_MAE: 11.6071\n",
            "Epoch 21/100\n",
            "122/122 [==============================] - 109s 889ms/step - loss: 9.6280 - MAE: 9.6245 - val_loss: 12.2621 - val_MAE: 12.2582\n",
            "Epoch 22/100\n",
            "122/122 [==============================] - 110s 898ms/step - loss: 9.3321 - MAE: 9.3294 - val_loss: 11.2340 - val_MAE: 11.2303\n",
            "Epoch 23/100\n",
            "122/122 [==============================] - 109s 891ms/step - loss: 9.2014 - MAE: 9.1974 - val_loss: 18.4941 - val_MAE: 18.4909\n",
            "Epoch 24/100\n",
            "122/122 [==============================] - 109s 886ms/step - loss: 9.0198 - MAE: 9.0167 - val_loss: 10.0674 - val_MAE: 10.0631\n",
            "Epoch 25/100\n",
            "122/122 [==============================] - 110s 900ms/step - loss: 9.2201 - MAE: 9.2163 - val_loss: 10.3323 - val_MAE: 10.3294\n",
            "Epoch 26/100\n",
            "122/122 [==============================] - 115s 941ms/step - loss: 9.2025 - MAE: 9.1986 - val_loss: 11.0223 - val_MAE: 11.0193\n",
            "Epoch 27/100\n",
            "122/122 [==============================] - 115s 935ms/step - loss: 8.9448 - MAE: 8.9412 - val_loss: 10.3934 - val_MAE: 10.3907\n",
            "Epoch 28/100\n",
            "122/122 [==============================] - 112s 912ms/step - loss: 8.7357 - MAE: 8.7310 - val_loss: 11.3534 - val_MAE: 11.3507\n",
            "Epoch 29/100\n",
            "122/122 [==============================] - 110s 902ms/step - loss: 8.6932 - MAE: 8.6893 - val_loss: 12.3065 - val_MAE: 12.3030\n",
            "Epoch 30/100\n",
            "122/122 [==============================] - 113s 919ms/step - loss: 8.6288 - MAE: 8.6245 - val_loss: 12.3998 - val_MAE: 12.3971\n",
            "Epoch 31/100\n",
            "122/122 [==============================] - 111s 904ms/step - loss: 8.4041 - MAE: 8.4003 - val_loss: 10.7099 - val_MAE: 10.7038\n",
            "Epoch 32/100\n",
            "122/122 [==============================] - 112s 910ms/step - loss: 8.2751 - MAE: 8.2713 - val_loss: 9.4836 - val_MAE: 9.4784\n",
            "Epoch 33/100\n",
            "122/122 [==============================] - 109s 887ms/step - loss: 8.2033 - MAE: 8.1989 - val_loss: 9.4393 - val_MAE: 9.4351\n",
            "Epoch 34/100\n",
            "122/122 [==============================] - 111s 904ms/step - loss: 8.1389 - MAE: 8.1343 - val_loss: 9.9568 - val_MAE: 9.9525\n",
            "Epoch 35/100\n",
            "122/122 [==============================] - 112s 911ms/step - loss: 8.0289 - MAE: 8.0248 - val_loss: 9.9453 - val_MAE: 9.9399\n",
            "Epoch 36/100\n",
            "122/122 [==============================] - 110s 898ms/step - loss: 7.9210 - MAE: 7.9171 - val_loss: 10.9091 - val_MAE: 10.9061\n",
            "Epoch 37/100\n",
            "102/122 [========================>.....] - ETA: 16s - loss: 7.7757 - MAE: 7.7720"
          ]
        }
      ]
    },
    {
      "cell_type": "code",
      "source": [
        "plt.plot(history.history['loss'])\n",
        "plt.plot(history.history['val_loss'])\n",
        "plt.title('Model loss')\n",
        "plt.ylabel('Loss')\n",
        "plt.xlabel('Epoch')\n",
        "plt.legend(['Train', 'Validation'], loc='upper left')\n",
        "plt.show()"
      ],
      "metadata": {
        "id": "hMaoh7oWl_YV"
      },
      "execution_count": null,
      "outputs": []
    },
    {
      "cell_type": "code",
      "source": [],
      "metadata": {
        "id": "mKn5HyLlljiC"
      },
      "execution_count": null,
      "outputs": []
    }
  ]
}