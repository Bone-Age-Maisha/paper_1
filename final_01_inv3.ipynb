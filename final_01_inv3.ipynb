{
  "nbformat": 4,
  "nbformat_minor": 0,
  "metadata": {
    "colab": {
      "provenance": [],
      "machine_shape": "hm",
      "authorship_tag": "ABX9TyNL6qPM/n+E5MFBg3t8ax/2",
      "include_colab_link": true
    },
    "kernelspec": {
      "name": "python3",
      "display_name": "Python 3"
    },
    "language_info": {
      "name": "python"
    },
    "accelerator": "GPU",
    "gpuClass": "standard"
  },
  "cells": [
    {
      "cell_type": "markdown",
      "metadata": {
        "id": "view-in-github",
        "colab_type": "text"
      },
      "source": [
        "<a href=\"https://colab.research.google.com/github/Bone-Age-Maisha/paper_1/blob/main/final_01_inv3.ipynb\" target=\"_parent\"><img src=\"https://colab.research.google.com/assets/colab-badge.svg\" alt=\"Open In Colab\"/></a>"
      ]
    },
    {
      "cell_type": "code",
      "execution_count": null,
      "metadata": {
        "colab": {
          "base_uri": "https://localhost:8080/"
        },
        "id": "kyiuaBkJxoIf",
        "outputId": "ab66480a-288d-40c0-8b83-e4e9b52855dd"
      },
      "outputs": [
        {
          "output_type": "stream",
          "name": "stdout",
          "text": [
            "\n",
            "WARNING: apt does not have a stable CLI interface. Use with caution in scripts.\n",
            "\n"
          ]
        }
      ],
      "source": [
        "!sudo add-apt-repository -y ppa:alessandro-strada/ppa 2>&1 > /dev/null\n",
        "!sudo apt-get update -qq 2>&1 > /dev/null\n",
        "!sudo apt -y install -qq google-drive-ocamlfuse 2>&1 > /dev/null\n",
        "!google-drive-ocamlfuse"
      ]
    },
    {
      "cell_type": "code",
      "source": [
        "!sudo apt-get install -qq w3m # to act as web browser \n",
        "!xdg-settings set default-web-browser w3m.desktop # to set default browser\n",
        "%cd /content\n",
        "!mkdir drive\n",
        "%cd drive\n",
        "!mkdir MyDrive\n",
        "%cd ..\n",
        "%cd ..\n",
        "!google-drive-ocamlfuse /content/drive/MyDrive"
      ],
      "metadata": {
        "colab": {
          "base_uri": "https://localhost:8080/"
        },
        "id": "0Igq__4-xx3v",
        "outputId": "3bb52b94-8e58-47b7-ebad-07cbbf48ed05"
      },
      "execution_count": null,
      "outputs": [
        {
          "output_type": "stream",
          "name": "stdout",
          "text": [
            "/content\n",
            "mkdir: cannot create directory ‘drive’: File exists\n",
            "/content/drive\n",
            "mkdir: cannot create directory ‘MyDrive’: File exists\n",
            "/content\n",
            "/\n",
            "fuse: mountpoint is not empty\n",
            "fuse: if you are sure this is safe, use the 'nonempty' mount option\n"
          ]
        }
      ]
    },
    {
      "cell_type": "code",
      "execution_count": null,
      "metadata": {
        "id": "PxxRCRmoEXGv"
      },
      "outputs": [],
      "source": [
        "import numpy as np\n",
        "import cv2\n",
        "import os\n",
        "import pandas as pd\n"
      ]
    },
    {
      "cell_type": "code",
      "execution_count": null,
      "metadata": {
        "id": "-InGAyx9JYmj"
      },
      "outputs": [],
      "source": [
        "import pandas as pd\n",
        "train_dir = '/content/drive/MyDrive/hand_atlas/image'\n",
        "df = pd.read_csv('/content/drive/MyDrive/hand_atlas/data.csv')"
      ]
    },
    {
      "cell_type": "code",
      "execution_count": null,
      "metadata": {
        "id": "pwpxM2gtI9HK"
      },
      "outputs": [],
      "source": [
        "df.drop(df[(df['id'] == 7144)].index, inplace=True)"
      ]
    },
    {
      "cell_type": "code",
      "execution_count": null,
      "metadata": {
        "id": "F0wC42Er279Q"
      },
      "outputs": [],
      "source": [
        "import os\n",
        "age_df = df \n",
        "age_df['path'] = age_df['id'].map(lambda x: os.path.join(train_dir, \n",
        "                                                         '{}.jpg'.format(x)))\n",
        "#age_df['exists'] = age_df['path'].map(os.path.exists)"
      ]
    },
    {
      "cell_type": "code",
      "execution_count": null,
      "metadata": {
        "id": "IiJgKNhOemjz"
      },
      "outputs": [],
      "source": [
        "age1=age_df"
      ]
    },
    {
      "cell_type": "code",
      "execution_count": null,
      "metadata": {
        "colab": {
          "base_uri": "https://localhost:8080/"
        },
        "id": "IByBweEq1KOG",
        "outputId": "2277b202-9d20-42f3-8486-ffcea7f6adad"
      },
      "outputs": [
        {
          "output_type": "execute_result",
          "data": {
            "text/plain": [
              "(1048,)"
            ]
          },
          "metadata": {},
          "execution_count": 8
        }
      ],
      "source": [
        "ag=age1.boneage.unique()\n",
        "ag.shape"
      ]
    },
    {
      "cell_type": "code",
      "execution_count": null,
      "metadata": {
        "id": "yLL4AuOJep07"
      },
      "outputs": [],
      "source": [
        "age1.drop(df[(age1['gender'] == 0)].index, inplace=True)"
      ]
    },
    {
      "cell_type": "code",
      "execution_count": null,
      "metadata": {
        "colab": {
          "base_uri": "https://localhost:8080/",
          "height": 424
        },
        "id": "lAI7P_cEes6s",
        "outputId": "44d438ef-5904-4f23-9de5-686644c11cff"
      },
      "outputs": [
        {
          "output_type": "execute_result",
          "data": {
            "text/plain": [
              "     Unnamed: 0    id  boneage  gender  \\\n",
              "0             0  5014   216.30       1   \n",
              "1             1  5059   221.10       1   \n",
              "2             2  5300   226.40       1   \n",
              "3             3  5084   227.70       1   \n",
              "4             4  5342   224.40       1   \n",
              "..          ...   ...      ...     ...   \n",
              "859         859  3134    55.27       1   \n",
              "860         860  4486    48.85       1   \n",
              "861         861  3736    47.90       1   \n",
              "862         862  3734    59.18       1   \n",
              "982         982  7287   118.40       1   \n",
              "\n",
              "                                                 path  \n",
              "0    /content/drive/MyDrive/hand_atlas/image/5014.jpg  \n",
              "1    /content/drive/MyDrive/hand_atlas/image/5059.jpg  \n",
              "2    /content/drive/MyDrive/hand_atlas/image/5300.jpg  \n",
              "3    /content/drive/MyDrive/hand_atlas/image/5084.jpg  \n",
              "4    /content/drive/MyDrive/hand_atlas/image/5342.jpg  \n",
              "..                                                ...  \n",
              "859  /content/drive/MyDrive/hand_atlas/image/3134.jpg  \n",
              "860  /content/drive/MyDrive/hand_atlas/image/4486.jpg  \n",
              "861  /content/drive/MyDrive/hand_atlas/image/3736.jpg  \n",
              "862  /content/drive/MyDrive/hand_atlas/image/3734.jpg  \n",
              "982  /content/drive/MyDrive/hand_atlas/image/7287.jpg  \n",
              "\n",
              "[697 rows x 5 columns]"
            ],
            "text/html": [
              "\n",
              "  <div id=\"df-12f5d40c-70de-4096-8b1b-5881e214878b\">\n",
              "    <div class=\"colab-df-container\">\n",
              "      <div>\n",
              "<style scoped>\n",
              "    .dataframe tbody tr th:only-of-type {\n",
              "        vertical-align: middle;\n",
              "    }\n",
              "\n",
              "    .dataframe tbody tr th {\n",
              "        vertical-align: top;\n",
              "    }\n",
              "\n",
              "    .dataframe thead th {\n",
              "        text-align: right;\n",
              "    }\n",
              "</style>\n",
              "<table border=\"1\" class=\"dataframe\">\n",
              "  <thead>\n",
              "    <tr style=\"text-align: right;\">\n",
              "      <th></th>\n",
              "      <th>Unnamed: 0</th>\n",
              "      <th>id</th>\n",
              "      <th>boneage</th>\n",
              "      <th>gender</th>\n",
              "      <th>path</th>\n",
              "    </tr>\n",
              "  </thead>\n",
              "  <tbody>\n",
              "    <tr>\n",
              "      <th>0</th>\n",
              "      <td>0</td>\n",
              "      <td>5014</td>\n",
              "      <td>216.30</td>\n",
              "      <td>1</td>\n",
              "      <td>/content/drive/MyDrive/hand_atlas/image/5014.jpg</td>\n",
              "    </tr>\n",
              "    <tr>\n",
              "      <th>1</th>\n",
              "      <td>1</td>\n",
              "      <td>5059</td>\n",
              "      <td>221.10</td>\n",
              "      <td>1</td>\n",
              "      <td>/content/drive/MyDrive/hand_atlas/image/5059.jpg</td>\n",
              "    </tr>\n",
              "    <tr>\n",
              "      <th>2</th>\n",
              "      <td>2</td>\n",
              "      <td>5300</td>\n",
              "      <td>226.40</td>\n",
              "      <td>1</td>\n",
              "      <td>/content/drive/MyDrive/hand_atlas/image/5300.jpg</td>\n",
              "    </tr>\n",
              "    <tr>\n",
              "      <th>3</th>\n",
              "      <td>3</td>\n",
              "      <td>5084</td>\n",
              "      <td>227.70</td>\n",
              "      <td>1</td>\n",
              "      <td>/content/drive/MyDrive/hand_atlas/image/5084.jpg</td>\n",
              "    </tr>\n",
              "    <tr>\n",
              "      <th>4</th>\n",
              "      <td>4</td>\n",
              "      <td>5342</td>\n",
              "      <td>224.40</td>\n",
              "      <td>1</td>\n",
              "      <td>/content/drive/MyDrive/hand_atlas/image/5342.jpg</td>\n",
              "    </tr>\n",
              "    <tr>\n",
              "      <th>...</th>\n",
              "      <td>...</td>\n",
              "      <td>...</td>\n",
              "      <td>...</td>\n",
              "      <td>...</td>\n",
              "      <td>...</td>\n",
              "    </tr>\n",
              "    <tr>\n",
              "      <th>859</th>\n",
              "      <td>859</td>\n",
              "      <td>3134</td>\n",
              "      <td>55.27</td>\n",
              "      <td>1</td>\n",
              "      <td>/content/drive/MyDrive/hand_atlas/image/3134.jpg</td>\n",
              "    </tr>\n",
              "    <tr>\n",
              "      <th>860</th>\n",
              "      <td>860</td>\n",
              "      <td>4486</td>\n",
              "      <td>48.85</td>\n",
              "      <td>1</td>\n",
              "      <td>/content/drive/MyDrive/hand_atlas/image/4486.jpg</td>\n",
              "    </tr>\n",
              "    <tr>\n",
              "      <th>861</th>\n",
              "      <td>861</td>\n",
              "      <td>3736</td>\n",
              "      <td>47.90</td>\n",
              "      <td>1</td>\n",
              "      <td>/content/drive/MyDrive/hand_atlas/image/3736.jpg</td>\n",
              "    </tr>\n",
              "    <tr>\n",
              "      <th>862</th>\n",
              "      <td>862</td>\n",
              "      <td>3734</td>\n",
              "      <td>59.18</td>\n",
              "      <td>1</td>\n",
              "      <td>/content/drive/MyDrive/hand_atlas/image/3734.jpg</td>\n",
              "    </tr>\n",
              "    <tr>\n",
              "      <th>982</th>\n",
              "      <td>982</td>\n",
              "      <td>7287</td>\n",
              "      <td>118.40</td>\n",
              "      <td>1</td>\n",
              "      <td>/content/drive/MyDrive/hand_atlas/image/7287.jpg</td>\n",
              "    </tr>\n",
              "  </tbody>\n",
              "</table>\n",
              "<p>697 rows × 5 columns</p>\n",
              "</div>\n",
              "      <button class=\"colab-df-convert\" onclick=\"convertToInteractive('df-12f5d40c-70de-4096-8b1b-5881e214878b')\"\n",
              "              title=\"Convert this dataframe to an interactive table.\"\n",
              "              style=\"display:none;\">\n",
              "        \n",
              "  <svg xmlns=\"http://www.w3.org/2000/svg\" height=\"24px\"viewBox=\"0 0 24 24\"\n",
              "       width=\"24px\">\n",
              "    <path d=\"M0 0h24v24H0V0z\" fill=\"none\"/>\n",
              "    <path d=\"M18.56 5.44l.94 2.06.94-2.06 2.06-.94-2.06-.94-.94-2.06-.94 2.06-2.06.94zm-11 1L8.5 8.5l.94-2.06 2.06-.94-2.06-.94L8.5 2.5l-.94 2.06-2.06.94zm10 10l.94 2.06.94-2.06 2.06-.94-2.06-.94-.94-2.06-.94 2.06-2.06.94z\"/><path d=\"M17.41 7.96l-1.37-1.37c-.4-.4-.92-.59-1.43-.59-.52 0-1.04.2-1.43.59L10.3 9.45l-7.72 7.72c-.78.78-.78 2.05 0 2.83L4 21.41c.39.39.9.59 1.41.59.51 0 1.02-.2 1.41-.59l7.78-7.78 2.81-2.81c.8-.78.8-2.07 0-2.86zM5.41 20L4 18.59l7.72-7.72 1.47 1.35L5.41 20z\"/>\n",
              "  </svg>\n",
              "      </button>\n",
              "      \n",
              "  <style>\n",
              "    .colab-df-container {\n",
              "      display:flex;\n",
              "      flex-wrap:wrap;\n",
              "      gap: 12px;\n",
              "    }\n",
              "\n",
              "    .colab-df-convert {\n",
              "      background-color: #E8F0FE;\n",
              "      border: none;\n",
              "      border-radius: 50%;\n",
              "      cursor: pointer;\n",
              "      display: none;\n",
              "      fill: #1967D2;\n",
              "      height: 32px;\n",
              "      padding: 0 0 0 0;\n",
              "      width: 32px;\n",
              "    }\n",
              "\n",
              "    .colab-df-convert:hover {\n",
              "      background-color: #E2EBFA;\n",
              "      box-shadow: 0px 1px 2px rgba(60, 64, 67, 0.3), 0px 1px 3px 1px rgba(60, 64, 67, 0.15);\n",
              "      fill: #174EA6;\n",
              "    }\n",
              "\n",
              "    [theme=dark] .colab-df-convert {\n",
              "      background-color: #3B4455;\n",
              "      fill: #D2E3FC;\n",
              "    }\n",
              "\n",
              "    [theme=dark] .colab-df-convert:hover {\n",
              "      background-color: #434B5C;\n",
              "      box-shadow: 0px 1px 3px 1px rgba(0, 0, 0, 0.15);\n",
              "      filter: drop-shadow(0px 1px 2px rgba(0, 0, 0, 0.3));\n",
              "      fill: #FFFFFF;\n",
              "    }\n",
              "  </style>\n",
              "\n",
              "      <script>\n",
              "        const buttonEl =\n",
              "          document.querySelector('#df-12f5d40c-70de-4096-8b1b-5881e214878b button.colab-df-convert');\n",
              "        buttonEl.style.display =\n",
              "          google.colab.kernel.accessAllowed ? 'block' : 'none';\n",
              "\n",
              "        async function convertToInteractive(key) {\n",
              "          const element = document.querySelector('#df-12f5d40c-70de-4096-8b1b-5881e214878b');\n",
              "          const dataTable =\n",
              "            await google.colab.kernel.invokeFunction('convertToInteractive',\n",
              "                                                     [key], {});\n",
              "          if (!dataTable) return;\n",
              "\n",
              "          const docLinkHtml = 'Like what you see? Visit the ' +\n",
              "            '<a target=\"_blank\" href=https://colab.research.google.com/notebooks/data_table.ipynb>data table notebook</a>'\n",
              "            + ' to learn more about interactive tables.';\n",
              "          element.innerHTML = '';\n",
              "          dataTable['output_type'] = 'display_data';\n",
              "          await google.colab.output.renderOutput(dataTable, element);\n",
              "          const docLink = document.createElement('div');\n",
              "          docLink.innerHTML = docLinkHtml;\n",
              "          element.appendChild(docLink);\n",
              "        }\n",
              "      </script>\n",
              "    </div>\n",
              "  </div>\n",
              "  "
            ]
          },
          "metadata": {},
          "execution_count": 10
        }
      ],
      "source": [
        "age1"
      ]
    },
    {
      "cell_type": "code",
      "execution_count": null,
      "metadata": {
        "colab": {
          "base_uri": "https://localhost:8080/"
        },
        "id": "FvBGIqYyfH3n",
        "outputId": "c1deb9cb-f886-40cd-a55d-358faacd5ad4"
      },
      "outputs": [
        {
          "output_type": "execute_result",
          "data": {
            "text/plain": [
              "(600,)"
            ]
          },
          "metadata": {},
          "execution_count": 11
        }
      ],
      "source": [
        "ag=age1.boneage.unique()\n",
        "ag.shape"
      ]
    },
    {
      "cell_type": "code",
      "execution_count": null,
      "metadata": {
        "id": "feLuby6Xf_9v"
      },
      "outputs": [],
      "source": [
        "train1_df = age1.groupby(['boneage']).apply(lambda x: x.sample(5, replace = True)\n",
        "                                                      ).reset_index(drop = True)"
      ]
    },
    {
      "cell_type": "code",
      "execution_count": null,
      "metadata": {
        "colab": {
          "base_uri": "https://localhost:8080/",
          "height": 424
        },
        "id": "-fO7_F0kgVy6",
        "outputId": "18904c52-a9e8-42be-bd2b-01c3742d5d8b"
      },
      "outputs": [
        {
          "output_type": "execute_result",
          "data": {
            "text/plain": [
              "      Unnamed: 0    id   boneage  gender  \\\n",
              "0            504  5574    0.3616       1   \n",
              "1            504  5574    0.3616       1   \n",
              "2            504  5574    0.3616       1   \n",
              "3            504  5574    0.3616       1   \n",
              "4            504  5574    0.3616       1   \n",
              "...          ...   ...       ...     ...   \n",
              "2995           3  5084  227.7000       1   \n",
              "2996           3  5084  227.7000       1   \n",
              "2997           3  5084  227.7000       1   \n",
              "2998           3  5084  227.7000       1   \n",
              "2999           3  5084  227.7000       1   \n",
              "\n",
              "                                                  path  \n",
              "0     /content/drive/MyDrive/hand_atlas/image/5574.jpg  \n",
              "1     /content/drive/MyDrive/hand_atlas/image/5574.jpg  \n",
              "2     /content/drive/MyDrive/hand_atlas/image/5574.jpg  \n",
              "3     /content/drive/MyDrive/hand_atlas/image/5574.jpg  \n",
              "4     /content/drive/MyDrive/hand_atlas/image/5574.jpg  \n",
              "...                                                ...  \n",
              "2995  /content/drive/MyDrive/hand_atlas/image/5084.jpg  \n",
              "2996  /content/drive/MyDrive/hand_atlas/image/5084.jpg  \n",
              "2997  /content/drive/MyDrive/hand_atlas/image/5084.jpg  \n",
              "2998  /content/drive/MyDrive/hand_atlas/image/5084.jpg  \n",
              "2999  /content/drive/MyDrive/hand_atlas/image/5084.jpg  \n",
              "\n",
              "[3000 rows x 5 columns]"
            ],
            "text/html": [
              "\n",
              "  <div id=\"df-4bf9d711-1c34-443b-9d3b-c62ce1386f3e\">\n",
              "    <div class=\"colab-df-container\">\n",
              "      <div>\n",
              "<style scoped>\n",
              "    .dataframe tbody tr th:only-of-type {\n",
              "        vertical-align: middle;\n",
              "    }\n",
              "\n",
              "    .dataframe tbody tr th {\n",
              "        vertical-align: top;\n",
              "    }\n",
              "\n",
              "    .dataframe thead th {\n",
              "        text-align: right;\n",
              "    }\n",
              "</style>\n",
              "<table border=\"1\" class=\"dataframe\">\n",
              "  <thead>\n",
              "    <tr style=\"text-align: right;\">\n",
              "      <th></th>\n",
              "      <th>Unnamed: 0</th>\n",
              "      <th>id</th>\n",
              "      <th>boneage</th>\n",
              "      <th>gender</th>\n",
              "      <th>path</th>\n",
              "    </tr>\n",
              "  </thead>\n",
              "  <tbody>\n",
              "    <tr>\n",
              "      <th>0</th>\n",
              "      <td>504</td>\n",
              "      <td>5574</td>\n",
              "      <td>0.3616</td>\n",
              "      <td>1</td>\n",
              "      <td>/content/drive/MyDrive/hand_atlas/image/5574.jpg</td>\n",
              "    </tr>\n",
              "    <tr>\n",
              "      <th>1</th>\n",
              "      <td>504</td>\n",
              "      <td>5574</td>\n",
              "      <td>0.3616</td>\n",
              "      <td>1</td>\n",
              "      <td>/content/drive/MyDrive/hand_atlas/image/5574.jpg</td>\n",
              "    </tr>\n",
              "    <tr>\n",
              "      <th>2</th>\n",
              "      <td>504</td>\n",
              "      <td>5574</td>\n",
              "      <td>0.3616</td>\n",
              "      <td>1</td>\n",
              "      <td>/content/drive/MyDrive/hand_atlas/image/5574.jpg</td>\n",
              "    </tr>\n",
              "    <tr>\n",
              "      <th>3</th>\n",
              "      <td>504</td>\n",
              "      <td>5574</td>\n",
              "      <td>0.3616</td>\n",
              "      <td>1</td>\n",
              "      <td>/content/drive/MyDrive/hand_atlas/image/5574.jpg</td>\n",
              "    </tr>\n",
              "    <tr>\n",
              "      <th>4</th>\n",
              "      <td>504</td>\n",
              "      <td>5574</td>\n",
              "      <td>0.3616</td>\n",
              "      <td>1</td>\n",
              "      <td>/content/drive/MyDrive/hand_atlas/image/5574.jpg</td>\n",
              "    </tr>\n",
              "    <tr>\n",
              "      <th>...</th>\n",
              "      <td>...</td>\n",
              "      <td>...</td>\n",
              "      <td>...</td>\n",
              "      <td>...</td>\n",
              "      <td>...</td>\n",
              "    </tr>\n",
              "    <tr>\n",
              "      <th>2995</th>\n",
              "      <td>3</td>\n",
              "      <td>5084</td>\n",
              "      <td>227.7000</td>\n",
              "      <td>1</td>\n",
              "      <td>/content/drive/MyDrive/hand_atlas/image/5084.jpg</td>\n",
              "    </tr>\n",
              "    <tr>\n",
              "      <th>2996</th>\n",
              "      <td>3</td>\n",
              "      <td>5084</td>\n",
              "      <td>227.7000</td>\n",
              "      <td>1</td>\n",
              "      <td>/content/drive/MyDrive/hand_atlas/image/5084.jpg</td>\n",
              "    </tr>\n",
              "    <tr>\n",
              "      <th>2997</th>\n",
              "      <td>3</td>\n",
              "      <td>5084</td>\n",
              "      <td>227.7000</td>\n",
              "      <td>1</td>\n",
              "      <td>/content/drive/MyDrive/hand_atlas/image/5084.jpg</td>\n",
              "    </tr>\n",
              "    <tr>\n",
              "      <th>2998</th>\n",
              "      <td>3</td>\n",
              "      <td>5084</td>\n",
              "      <td>227.7000</td>\n",
              "      <td>1</td>\n",
              "      <td>/content/drive/MyDrive/hand_atlas/image/5084.jpg</td>\n",
              "    </tr>\n",
              "    <tr>\n",
              "      <th>2999</th>\n",
              "      <td>3</td>\n",
              "      <td>5084</td>\n",
              "      <td>227.7000</td>\n",
              "      <td>1</td>\n",
              "      <td>/content/drive/MyDrive/hand_atlas/image/5084.jpg</td>\n",
              "    </tr>\n",
              "  </tbody>\n",
              "</table>\n",
              "<p>3000 rows × 5 columns</p>\n",
              "</div>\n",
              "      <button class=\"colab-df-convert\" onclick=\"convertToInteractive('df-4bf9d711-1c34-443b-9d3b-c62ce1386f3e')\"\n",
              "              title=\"Convert this dataframe to an interactive table.\"\n",
              "              style=\"display:none;\">\n",
              "        \n",
              "  <svg xmlns=\"http://www.w3.org/2000/svg\" height=\"24px\"viewBox=\"0 0 24 24\"\n",
              "       width=\"24px\">\n",
              "    <path d=\"M0 0h24v24H0V0z\" fill=\"none\"/>\n",
              "    <path d=\"M18.56 5.44l.94 2.06.94-2.06 2.06-.94-2.06-.94-.94-2.06-.94 2.06-2.06.94zm-11 1L8.5 8.5l.94-2.06 2.06-.94-2.06-.94L8.5 2.5l-.94 2.06-2.06.94zm10 10l.94 2.06.94-2.06 2.06-.94-2.06-.94-.94-2.06-.94 2.06-2.06.94z\"/><path d=\"M17.41 7.96l-1.37-1.37c-.4-.4-.92-.59-1.43-.59-.52 0-1.04.2-1.43.59L10.3 9.45l-7.72 7.72c-.78.78-.78 2.05 0 2.83L4 21.41c.39.39.9.59 1.41.59.51 0 1.02-.2 1.41-.59l7.78-7.78 2.81-2.81c.8-.78.8-2.07 0-2.86zM5.41 20L4 18.59l7.72-7.72 1.47 1.35L5.41 20z\"/>\n",
              "  </svg>\n",
              "      </button>\n",
              "      \n",
              "  <style>\n",
              "    .colab-df-container {\n",
              "      display:flex;\n",
              "      flex-wrap:wrap;\n",
              "      gap: 12px;\n",
              "    }\n",
              "\n",
              "    .colab-df-convert {\n",
              "      background-color: #E8F0FE;\n",
              "      border: none;\n",
              "      border-radius: 50%;\n",
              "      cursor: pointer;\n",
              "      display: none;\n",
              "      fill: #1967D2;\n",
              "      height: 32px;\n",
              "      padding: 0 0 0 0;\n",
              "      width: 32px;\n",
              "    }\n",
              "\n",
              "    .colab-df-convert:hover {\n",
              "      background-color: #E2EBFA;\n",
              "      box-shadow: 0px 1px 2px rgba(60, 64, 67, 0.3), 0px 1px 3px 1px rgba(60, 64, 67, 0.15);\n",
              "      fill: #174EA6;\n",
              "    }\n",
              "\n",
              "    [theme=dark] .colab-df-convert {\n",
              "      background-color: #3B4455;\n",
              "      fill: #D2E3FC;\n",
              "    }\n",
              "\n",
              "    [theme=dark] .colab-df-convert:hover {\n",
              "      background-color: #434B5C;\n",
              "      box-shadow: 0px 1px 3px 1px rgba(0, 0, 0, 0.15);\n",
              "      filter: drop-shadow(0px 1px 2px rgba(0, 0, 0, 0.3));\n",
              "      fill: #FFFFFF;\n",
              "    }\n",
              "  </style>\n",
              "\n",
              "      <script>\n",
              "        const buttonEl =\n",
              "          document.querySelector('#df-4bf9d711-1c34-443b-9d3b-c62ce1386f3e button.colab-df-convert');\n",
              "        buttonEl.style.display =\n",
              "          google.colab.kernel.accessAllowed ? 'block' : 'none';\n",
              "\n",
              "        async function convertToInteractive(key) {\n",
              "          const element = document.querySelector('#df-4bf9d711-1c34-443b-9d3b-c62ce1386f3e');\n",
              "          const dataTable =\n",
              "            await google.colab.kernel.invokeFunction('convertToInteractive',\n",
              "                                                     [key], {});\n",
              "          if (!dataTable) return;\n",
              "\n",
              "          const docLinkHtml = 'Like what you see? Visit the ' +\n",
              "            '<a target=\"_blank\" href=https://colab.research.google.com/notebooks/data_table.ipynb>data table notebook</a>'\n",
              "            + ' to learn more about interactive tables.';\n",
              "          element.innerHTML = '';\n",
              "          dataTable['output_type'] = 'display_data';\n",
              "          await google.colab.output.renderOutput(dataTable, element);\n",
              "          const docLink = document.createElement('div');\n",
              "          docLink.innerHTML = docLinkHtml;\n",
              "          element.appendChild(docLink);\n",
              "        }\n",
              "      </script>\n",
              "    </div>\n",
              "  </div>\n",
              "  "
            ]
          },
          "metadata": {},
          "execution_count": 13
        }
      ],
      "source": [
        "train1_df"
      ]
    },
    {
      "cell_type": "code",
      "execution_count": null,
      "metadata": {
        "colab": {
          "base_uri": "https://localhost:8080/"
        },
        "id": "78T4_RIVgahz",
        "outputId": "122caa92-c3f4-4c4c-9d09-83bece6a7e25"
      },
      "outputs": [
        {
          "output_type": "stream",
          "name": "stdout",
          "text": [
            "train 1680 validation 600 720\n"
          ]
        }
      ],
      "source": [
        "from sklearn.model_selection import train_test_split\n",
        "train_test1, valid1 = train_test_split(train1_df, \n",
        "                                   test_size = 0.2, \n",
        "                                   random_state = 2018,\n",
        "                                   stratify = train1_df['boneage'])\n",
        "#print('train', raw_train_df.shape[0], 'validation', valid_df.shape[0])\n",
        "train1, test1 = train_test_split(train_test1, \n",
        "                                   test_size = 0.3, \n",
        "                                   random_state = 2018,\n",
        "                                   stratify = train_test1['boneage'])\n",
        "print('train', train1.shape[0], 'validation', valid1.shape[0],test1.shape[0])"
      ]
    },
    {
      "cell_type": "code",
      "execution_count": null,
      "metadata": {
        "id": "rgXaGEEShK2u"
      },
      "outputs": [],
      "source": [
        "from keras.preprocessing.image import ImageDataGenerator\n",
        "IMG_SIZE = (300,300)\n",
        "core_idg = ImageDataGenerator(rotation_range=20,width_shift_range=0.15,height_shift_range=0.15,zoom_range=0.2,horizontal_flip=True)"
      ]
    },
    {
      "cell_type": "code",
      "execution_count": null,
      "metadata": {
        "id": "it_INY2thRLt"
      },
      "outputs": [],
      "source": [
        "def flow_from_dataframe(img_data_gen, in_df, path_col, y_col, **dflow_args):\n",
        "    base_dir = os.path.dirname(in_df[path_col].values[0])\n",
        "    print('## Ignore next message from keras, values are replaced anyways')\n",
        "    df_gen = img_data_gen.flow_from_directory(base_dir, \n",
        "                                     class_mode = 'sparse',\n",
        "                                    **dflow_args)\n",
        "    df_gen.filenames = in_df[path_col].values\n",
        "    df_gen.filepaths.extend(df_gen.filenames)\n",
        "    df_gen.classes = np.stack(in_df[y_col].values)\n",
        "    df_gen.samples = in_df.shape[0]\n",
        "    df_gen.n = in_df.shape[0]\n",
        "    df_gen._set_index_array()\n",
        "    df_gen.directory = '' \n",
        "    gen=np.ones(df_gen.samples)\n",
        "    print('Reinserting dataframe: {} images'.format(in_df.shape[0]))\n",
        "    #print(df_gen.samples)\n",
        "    #yield (df_gen,gen)\n",
        "    return df_gen"
      ]
    },
    {
      "cell_type": "code",
      "execution_count": null,
      "metadata": {
        "colab": {
          "base_uri": "https://localhost:8080/"
        },
        "id": "u7pfG4-FhYU3",
        "outputId": "3233a03c-4e61-42ef-94c8-e49238344687"
      },
      "outputs": [
        {
          "output_type": "stream",
          "name": "stdout",
          "text": [
            "## Ignore next message from keras, values are replaced anyways\n",
            "Found 0 images belonging to 0 classes.\n",
            "Reinserting dataframe: 1680 images\n"
          ]
        }
      ],
      "source": [
        "train1_gen = flow_from_dataframe( core_idg, train1, \n",
        "                             path_col = 'path',\n",
        "                            y_col = 'boneage', \n",
        "                            target_size = IMG_SIZE,\n",
        "                             color_mode = 'rgb',\n",
        "                            batch_size = 1680)"
      ]
    },
    {
      "cell_type": "code",
      "execution_count": null,
      "metadata": {
        "colab": {
          "base_uri": "https://localhost:8080/"
        },
        "id": "IGccOe-qhird",
        "outputId": "59c44639-0074-4502-ae98-da0e516972ba"
      },
      "outputs": [
        {
          "output_type": "stream",
          "name": "stdout",
          "text": [
            "## Ignore next message from keras, values are replaced anyways\n",
            "Found 0 images belonging to 0 classes.\n",
            "Reinserting dataframe: 600 images\n"
          ]
        }
      ],
      "source": [
        "valid1_gen = flow_from_dataframe(core_idg, valid1, \n",
        "                             path_col = 'path',\n",
        "                            y_col = 'boneage', \n",
        "                            target_size = IMG_SIZE,\n",
        "                             color_mode = 'rgb',\n",
        "                            batch_size = 600) "
      ]
    },
    {
      "cell_type": "code",
      "execution_count": null,
      "metadata": {
        "id": "bqb6-OqtLFHz"
      },
      "outputs": [],
      "source": [
        "\n",
        "testcore_idg = ImageDataGenerator()"
      ]
    },
    {
      "cell_type": "code",
      "execution_count": null,
      "metadata": {
        "colab": {
          "base_uri": "https://localhost:8080/"
        },
        "id": "fnPAVjuXLFHz",
        "outputId": "8e3ed561-08e8-4556-e8aa-025ea1c5a0f6"
      },
      "outputs": [
        {
          "output_type": "stream",
          "name": "stdout",
          "text": [
            "## Ignore next message from keras, values are replaced anyways\n",
            "Found 0 images belonging to 0 classes.\n",
            "Reinserting dataframe: 720 images\n"
          ]
        }
      ],
      "source": [
        "test1_gen = flow_from_dataframe(testcore_idg, \n",
        "                              test1, \n",
        "                             path_col = 'path',\n",
        "                            y_col = 'boneage', \n",
        "                            target_size = IMG_SIZE,\n",
        "                             color_mode = 'rgb',\n",
        "                            batch_size = 720)"
      ]
    },
    {
      "cell_type": "code",
      "execution_count": null,
      "metadata": {
        "id": "TGRGhrMlhSNa"
      },
      "outputs": [],
      "source": [
        "train1_X, train1_Y = next(train1_gen)"
      ]
    },
    {
      "cell_type": "code",
      "execution_count": null,
      "metadata": {
        "colab": {
          "base_uri": "https://localhost:8080/"
        },
        "id": "ZwAUKKc8kbFw",
        "outputId": "af464aa3-a005-41ea-e99f-d4c190afed6e"
      },
      "outputs": [
        {
          "output_type": "execute_result",
          "data": {
            "text/plain": [
              "(1680, 300, 300, 3)"
            ]
          },
          "metadata": {},
          "execution_count": 22
        }
      ],
      "source": [
        "train1_X.shape"
      ]
    },
    {
      "cell_type": "code",
      "execution_count": null,
      "metadata": {
        "id": "KxRK-aGYk3Gz"
      },
      "outputs": [],
      "source": [
        "valid1_X, valid1_Y = next(valid1_gen)"
      ]
    },
    {
      "cell_type": "code",
      "execution_count": null,
      "metadata": {
        "colab": {
          "base_uri": "https://localhost:8080/"
        },
        "id": "YrzIkZL_k4OT",
        "outputId": "2ee7e3f4-e2f5-45d3-ff21-88a49c91bec5"
      },
      "outputs": [
        {
          "output_type": "execute_result",
          "data": {
            "text/plain": [
              "(600, 300, 300, 3)"
            ]
          },
          "metadata": {},
          "execution_count": 24
        }
      ],
      "source": [
        "valid1_X.shape"
      ]
    },
    {
      "cell_type": "code",
      "execution_count": null,
      "metadata": {
        "id": "fcr4PLs1lDer"
      },
      "outputs": [],
      "source": [
        "test1_X, test1_Y = next(test1_gen)"
      ]
    },
    {
      "cell_type": "code",
      "execution_count": null,
      "metadata": {
        "colab": {
          "base_uri": "https://localhost:8080/"
        },
        "id": "REnaZedJlatT",
        "outputId": "7ac36c60-8e06-4aa1-db34-c474ded1b096"
      },
      "outputs": [
        {
          "output_type": "execute_result",
          "data": {
            "text/plain": [
              "(720, 300, 300, 3)"
            ]
          },
          "metadata": {},
          "execution_count": 26
        }
      ],
      "source": [
        "test1_X.shape"
      ]
    },
    {
      "cell_type": "code",
      "execution_count": null,
      "metadata": {
        "id": "bgz2QDrce3bP"
      },
      "outputs": [],
      "source": [
        "import pandas as pd\n",
        "train_dir = '/content/drive/MyDrive/hand_atlas/image'\n",
        "df = pd.read_csv('/content/drive/MyDrive/hand_atlas/data.csv')"
      ]
    },
    {
      "cell_type": "code",
      "execution_count": null,
      "metadata": {
        "id": "XehSh4Nwe3bZ"
      },
      "outputs": [],
      "source": [
        "df.drop(df[(df['id'] == 7144)].index, inplace=True)"
      ]
    },
    {
      "cell_type": "code",
      "execution_count": null,
      "metadata": {
        "id": "E4P3MPGre3bZ"
      },
      "outputs": [],
      "source": [
        "import os\n",
        "age_df = df \n",
        "age_df['path'] = age_df['id'].map(lambda x: os.path.join(train_dir,\n",
        "                                                         '{}.jpg'.format(x)))\n",
        "age_df['exists'] = age_df['path'].map(os.path.exists)"
      ]
    },
    {
      "cell_type": "code",
      "execution_count": null,
      "metadata": {
        "id": "UFVD6jGXe3ba"
      },
      "outputs": [],
      "source": [
        "age0=age_df"
      ]
    },
    {
      "cell_type": "code",
      "execution_count": null,
      "metadata": {
        "id": "gcjqP4Wie3ba"
      },
      "outputs": [],
      "source": [
        "age0.drop(df[(age0['gender'] == 1)].index, inplace=True)"
      ]
    },
    {
      "cell_type": "code",
      "execution_count": null,
      "metadata": {
        "colab": {
          "base_uri": "https://localhost:8080/",
          "height": 424
        },
        "id": "P9y3PUjre3ba",
        "outputId": "57bfce82-bee2-4289-bc5f-9fff0be918bd"
      },
      "outputs": [
        {
          "output_type": "execute_result",
          "data": {
            "text/plain": [
              "      Unnamed: 0    id  boneage  gender  \\\n",
              "515          515  4117   186.20       0   \n",
              "516          516  4389   186.40       0   \n",
              "517          517  4113   182.50       0   \n",
              "518          518  4503   188.10       0   \n",
              "519          519  4114   180.50       0   \n",
              "...          ...   ...      ...     ...   \n",
              "1382        1382  6106    32.52       0   \n",
              "1383        1383  5234    30.02       0   \n",
              "1384        1384  5334    33.70       0   \n",
              "1385        1385  6131    24.13       0   \n",
              "1386        1386  5131    31.46       0   \n",
              "\n",
              "                                                  path  exists  \n",
              "515   /content/drive/MyDrive/hand_atlas/image/4117.jpg    True  \n",
              "516   /content/drive/MyDrive/hand_atlas/image/4389.jpg    True  \n",
              "517   /content/drive/MyDrive/hand_atlas/image/4113.jpg    True  \n",
              "518   /content/drive/MyDrive/hand_atlas/image/4503.jpg    True  \n",
              "519   /content/drive/MyDrive/hand_atlas/image/4114.jpg    True  \n",
              "...                                                ...     ...  \n",
              "1382  /content/drive/MyDrive/hand_atlas/image/6106.jpg    True  \n",
              "1383  /content/drive/MyDrive/hand_atlas/image/5234.jpg    True  \n",
              "1384  /content/drive/MyDrive/hand_atlas/image/5334.jpg    True  \n",
              "1385  /content/drive/MyDrive/hand_atlas/image/6131.jpg    True  \n",
              "1386  /content/drive/MyDrive/hand_atlas/image/5131.jpg    True  \n",
              "\n",
              "[689 rows x 6 columns]"
            ],
            "text/html": [
              "\n",
              "  <div id=\"df-823d12d6-6abe-4001-adcc-9f1e0276f2c3\">\n",
              "    <div class=\"colab-df-container\">\n",
              "      <div>\n",
              "<style scoped>\n",
              "    .dataframe tbody tr th:only-of-type {\n",
              "        vertical-align: middle;\n",
              "    }\n",
              "\n",
              "    .dataframe tbody tr th {\n",
              "        vertical-align: top;\n",
              "    }\n",
              "\n",
              "    .dataframe thead th {\n",
              "        text-align: right;\n",
              "    }\n",
              "</style>\n",
              "<table border=\"1\" class=\"dataframe\">\n",
              "  <thead>\n",
              "    <tr style=\"text-align: right;\">\n",
              "      <th></th>\n",
              "      <th>Unnamed: 0</th>\n",
              "      <th>id</th>\n",
              "      <th>boneage</th>\n",
              "      <th>gender</th>\n",
              "      <th>path</th>\n",
              "      <th>exists</th>\n",
              "    </tr>\n",
              "  </thead>\n",
              "  <tbody>\n",
              "    <tr>\n",
              "      <th>515</th>\n",
              "      <td>515</td>\n",
              "      <td>4117</td>\n",
              "      <td>186.20</td>\n",
              "      <td>0</td>\n",
              "      <td>/content/drive/MyDrive/hand_atlas/image/4117.jpg</td>\n",
              "      <td>True</td>\n",
              "    </tr>\n",
              "    <tr>\n",
              "      <th>516</th>\n",
              "      <td>516</td>\n",
              "      <td>4389</td>\n",
              "      <td>186.40</td>\n",
              "      <td>0</td>\n",
              "      <td>/content/drive/MyDrive/hand_atlas/image/4389.jpg</td>\n",
              "      <td>True</td>\n",
              "    </tr>\n",
              "    <tr>\n",
              "      <th>517</th>\n",
              "      <td>517</td>\n",
              "      <td>4113</td>\n",
              "      <td>182.50</td>\n",
              "      <td>0</td>\n",
              "      <td>/content/drive/MyDrive/hand_atlas/image/4113.jpg</td>\n",
              "      <td>True</td>\n",
              "    </tr>\n",
              "    <tr>\n",
              "      <th>518</th>\n",
              "      <td>518</td>\n",
              "      <td>4503</td>\n",
              "      <td>188.10</td>\n",
              "      <td>0</td>\n",
              "      <td>/content/drive/MyDrive/hand_atlas/image/4503.jpg</td>\n",
              "      <td>True</td>\n",
              "    </tr>\n",
              "    <tr>\n",
              "      <th>519</th>\n",
              "      <td>519</td>\n",
              "      <td>4114</td>\n",
              "      <td>180.50</td>\n",
              "      <td>0</td>\n",
              "      <td>/content/drive/MyDrive/hand_atlas/image/4114.jpg</td>\n",
              "      <td>True</td>\n",
              "    </tr>\n",
              "    <tr>\n",
              "      <th>...</th>\n",
              "      <td>...</td>\n",
              "      <td>...</td>\n",
              "      <td>...</td>\n",
              "      <td>...</td>\n",
              "      <td>...</td>\n",
              "      <td>...</td>\n",
              "    </tr>\n",
              "    <tr>\n",
              "      <th>1382</th>\n",
              "      <td>1382</td>\n",
              "      <td>6106</td>\n",
              "      <td>32.52</td>\n",
              "      <td>0</td>\n",
              "      <td>/content/drive/MyDrive/hand_atlas/image/6106.jpg</td>\n",
              "      <td>True</td>\n",
              "    </tr>\n",
              "    <tr>\n",
              "      <th>1383</th>\n",
              "      <td>1383</td>\n",
              "      <td>5234</td>\n",
              "      <td>30.02</td>\n",
              "      <td>0</td>\n",
              "      <td>/content/drive/MyDrive/hand_atlas/image/5234.jpg</td>\n",
              "      <td>True</td>\n",
              "    </tr>\n",
              "    <tr>\n",
              "      <th>1384</th>\n",
              "      <td>1384</td>\n",
              "      <td>5334</td>\n",
              "      <td>33.70</td>\n",
              "      <td>0</td>\n",
              "      <td>/content/drive/MyDrive/hand_atlas/image/5334.jpg</td>\n",
              "      <td>True</td>\n",
              "    </tr>\n",
              "    <tr>\n",
              "      <th>1385</th>\n",
              "      <td>1385</td>\n",
              "      <td>6131</td>\n",
              "      <td>24.13</td>\n",
              "      <td>0</td>\n",
              "      <td>/content/drive/MyDrive/hand_atlas/image/6131.jpg</td>\n",
              "      <td>True</td>\n",
              "    </tr>\n",
              "    <tr>\n",
              "      <th>1386</th>\n",
              "      <td>1386</td>\n",
              "      <td>5131</td>\n",
              "      <td>31.46</td>\n",
              "      <td>0</td>\n",
              "      <td>/content/drive/MyDrive/hand_atlas/image/5131.jpg</td>\n",
              "      <td>True</td>\n",
              "    </tr>\n",
              "  </tbody>\n",
              "</table>\n",
              "<p>689 rows × 6 columns</p>\n",
              "</div>\n",
              "      <button class=\"colab-df-convert\" onclick=\"convertToInteractive('df-823d12d6-6abe-4001-adcc-9f1e0276f2c3')\"\n",
              "              title=\"Convert this dataframe to an interactive table.\"\n",
              "              style=\"display:none;\">\n",
              "        \n",
              "  <svg xmlns=\"http://www.w3.org/2000/svg\" height=\"24px\"viewBox=\"0 0 24 24\"\n",
              "       width=\"24px\">\n",
              "    <path d=\"M0 0h24v24H0V0z\" fill=\"none\"/>\n",
              "    <path d=\"M18.56 5.44l.94 2.06.94-2.06 2.06-.94-2.06-.94-.94-2.06-.94 2.06-2.06.94zm-11 1L8.5 8.5l.94-2.06 2.06-.94-2.06-.94L8.5 2.5l-.94 2.06-2.06.94zm10 10l.94 2.06.94-2.06 2.06-.94-2.06-.94-.94-2.06-.94 2.06-2.06.94z\"/><path d=\"M17.41 7.96l-1.37-1.37c-.4-.4-.92-.59-1.43-.59-.52 0-1.04.2-1.43.59L10.3 9.45l-7.72 7.72c-.78.78-.78 2.05 0 2.83L4 21.41c.39.39.9.59 1.41.59.51 0 1.02-.2 1.41-.59l7.78-7.78 2.81-2.81c.8-.78.8-2.07 0-2.86zM5.41 20L4 18.59l7.72-7.72 1.47 1.35L5.41 20z\"/>\n",
              "  </svg>\n",
              "      </button>\n",
              "      \n",
              "  <style>\n",
              "    .colab-df-container {\n",
              "      display:flex;\n",
              "      flex-wrap:wrap;\n",
              "      gap: 12px;\n",
              "    }\n",
              "\n",
              "    .colab-df-convert {\n",
              "      background-color: #E8F0FE;\n",
              "      border: none;\n",
              "      border-radius: 50%;\n",
              "      cursor: pointer;\n",
              "      display: none;\n",
              "      fill: #1967D2;\n",
              "      height: 32px;\n",
              "      padding: 0 0 0 0;\n",
              "      width: 32px;\n",
              "    }\n",
              "\n",
              "    .colab-df-convert:hover {\n",
              "      background-color: #E2EBFA;\n",
              "      box-shadow: 0px 1px 2px rgba(60, 64, 67, 0.3), 0px 1px 3px 1px rgba(60, 64, 67, 0.15);\n",
              "      fill: #174EA6;\n",
              "    }\n",
              "\n",
              "    [theme=dark] .colab-df-convert {\n",
              "      background-color: #3B4455;\n",
              "      fill: #D2E3FC;\n",
              "    }\n",
              "\n",
              "    [theme=dark] .colab-df-convert:hover {\n",
              "      background-color: #434B5C;\n",
              "      box-shadow: 0px 1px 3px 1px rgba(0, 0, 0, 0.15);\n",
              "      filter: drop-shadow(0px 1px 2px rgba(0, 0, 0, 0.3));\n",
              "      fill: #FFFFFF;\n",
              "    }\n",
              "  </style>\n",
              "\n",
              "      <script>\n",
              "        const buttonEl =\n",
              "          document.querySelector('#df-823d12d6-6abe-4001-adcc-9f1e0276f2c3 button.colab-df-convert');\n",
              "        buttonEl.style.display =\n",
              "          google.colab.kernel.accessAllowed ? 'block' : 'none';\n",
              "\n",
              "        async function convertToInteractive(key) {\n",
              "          const element = document.querySelector('#df-823d12d6-6abe-4001-adcc-9f1e0276f2c3');\n",
              "          const dataTable =\n",
              "            await google.colab.kernel.invokeFunction('convertToInteractive',\n",
              "                                                     [key], {});\n",
              "          if (!dataTable) return;\n",
              "\n",
              "          const docLinkHtml = 'Like what you see? Visit the ' +\n",
              "            '<a target=\"_blank\" href=https://colab.research.google.com/notebooks/data_table.ipynb>data table notebook</a>'\n",
              "            + ' to learn more about interactive tables.';\n",
              "          element.innerHTML = '';\n",
              "          dataTable['output_type'] = 'display_data';\n",
              "          await google.colab.output.renderOutput(dataTable, element);\n",
              "          const docLink = document.createElement('div');\n",
              "          docLink.innerHTML = docLinkHtml;\n",
              "          element.appendChild(docLink);\n",
              "        }\n",
              "      </script>\n",
              "    </div>\n",
              "  </div>\n",
              "  "
            ]
          },
          "metadata": {},
          "execution_count": 32
        }
      ],
      "source": [
        "age0"
      ]
    },
    {
      "cell_type": "code",
      "execution_count": null,
      "metadata": {
        "colab": {
          "base_uri": "https://localhost:8080/"
        },
        "id": "rx5RQAtvlton",
        "outputId": "09ff09b4-62d2-4896-ebac-facdcd28a85b"
      },
      "outputs": [
        {
          "output_type": "execute_result",
          "data": {
            "text/plain": [
              "(599,)"
            ]
          },
          "metadata": {},
          "execution_count": 33
        }
      ],
      "source": [
        "ag=age0.boneage.unique()\n",
        "ag.shape"
      ]
    },
    {
      "cell_type": "code",
      "execution_count": null,
      "metadata": {
        "id": "BzMi92Ijlto8"
      },
      "outputs": [],
      "source": [
        "train0_df = age0.groupby(['boneage']).apply(lambda x: x.sample(5, replace = True)\n",
        "                                                      ).reset_index(drop = True)"
      ]
    },
    {
      "cell_type": "code",
      "execution_count": null,
      "metadata": {
        "colab": {
          "base_uri": "https://localhost:8080/",
          "height": 424
        },
        "id": "Jlbyxk3Zlto9",
        "outputId": "b819ea2a-a920-4d17-e367-05e53247a688"
      },
      "outputs": [
        {
          "output_type": "execute_result",
          "data": {
            "text/plain": [
              "      Unnamed: 0    id  boneage  gender  \\\n",
              "0           1036  4706    2.038       0   \n",
              "1           1036  4706    2.038       0   \n",
              "2           1036  4706    2.038       0   \n",
              "3           1036  4706    2.038       0   \n",
              "4           1036  4706    2.038       0   \n",
              "...          ...   ...      ...     ...   \n",
              "2990        1225  5198  228.100       0   \n",
              "2991        1225  5198  228.100       0   \n",
              "2992        1225  5198  228.100       0   \n",
              "2993        1225  5198  228.100       0   \n",
              "2994        1225  5198  228.100       0   \n",
              "\n",
              "                                                  path  exists  \n",
              "0     /content/drive/MyDrive/hand_atlas/image/4706.jpg    True  \n",
              "1     /content/drive/MyDrive/hand_atlas/image/4706.jpg    True  \n",
              "2     /content/drive/MyDrive/hand_atlas/image/4706.jpg    True  \n",
              "3     /content/drive/MyDrive/hand_atlas/image/4706.jpg    True  \n",
              "4     /content/drive/MyDrive/hand_atlas/image/4706.jpg    True  \n",
              "...                                                ...     ...  \n",
              "2990  /content/drive/MyDrive/hand_atlas/image/5198.jpg    True  \n",
              "2991  /content/drive/MyDrive/hand_atlas/image/5198.jpg    True  \n",
              "2992  /content/drive/MyDrive/hand_atlas/image/5198.jpg    True  \n",
              "2993  /content/drive/MyDrive/hand_atlas/image/5198.jpg    True  \n",
              "2994  /content/drive/MyDrive/hand_atlas/image/5198.jpg    True  \n",
              "\n",
              "[2995 rows x 6 columns]"
            ],
            "text/html": [
              "\n",
              "  <div id=\"df-7c7464b8-1a0e-4b76-94bc-b56d097147e2\">\n",
              "    <div class=\"colab-df-container\">\n",
              "      <div>\n",
              "<style scoped>\n",
              "    .dataframe tbody tr th:only-of-type {\n",
              "        vertical-align: middle;\n",
              "    }\n",
              "\n",
              "    .dataframe tbody tr th {\n",
              "        vertical-align: top;\n",
              "    }\n",
              "\n",
              "    .dataframe thead th {\n",
              "        text-align: right;\n",
              "    }\n",
              "</style>\n",
              "<table border=\"1\" class=\"dataframe\">\n",
              "  <thead>\n",
              "    <tr style=\"text-align: right;\">\n",
              "      <th></th>\n",
              "      <th>Unnamed: 0</th>\n",
              "      <th>id</th>\n",
              "      <th>boneage</th>\n",
              "      <th>gender</th>\n",
              "      <th>path</th>\n",
              "      <th>exists</th>\n",
              "    </tr>\n",
              "  </thead>\n",
              "  <tbody>\n",
              "    <tr>\n",
              "      <th>0</th>\n",
              "      <td>1036</td>\n",
              "      <td>4706</td>\n",
              "      <td>2.038</td>\n",
              "      <td>0</td>\n",
              "      <td>/content/drive/MyDrive/hand_atlas/image/4706.jpg</td>\n",
              "      <td>True</td>\n",
              "    </tr>\n",
              "    <tr>\n",
              "      <th>1</th>\n",
              "      <td>1036</td>\n",
              "      <td>4706</td>\n",
              "      <td>2.038</td>\n",
              "      <td>0</td>\n",
              "      <td>/content/drive/MyDrive/hand_atlas/image/4706.jpg</td>\n",
              "      <td>True</td>\n",
              "    </tr>\n",
              "    <tr>\n",
              "      <th>2</th>\n",
              "      <td>1036</td>\n",
              "      <td>4706</td>\n",
              "      <td>2.038</td>\n",
              "      <td>0</td>\n",
              "      <td>/content/drive/MyDrive/hand_atlas/image/4706.jpg</td>\n",
              "      <td>True</td>\n",
              "    </tr>\n",
              "    <tr>\n",
              "      <th>3</th>\n",
              "      <td>1036</td>\n",
              "      <td>4706</td>\n",
              "      <td>2.038</td>\n",
              "      <td>0</td>\n",
              "      <td>/content/drive/MyDrive/hand_atlas/image/4706.jpg</td>\n",
              "      <td>True</td>\n",
              "    </tr>\n",
              "    <tr>\n",
              "      <th>4</th>\n",
              "      <td>1036</td>\n",
              "      <td>4706</td>\n",
              "      <td>2.038</td>\n",
              "      <td>0</td>\n",
              "      <td>/content/drive/MyDrive/hand_atlas/image/4706.jpg</td>\n",
              "      <td>True</td>\n",
              "    </tr>\n",
              "    <tr>\n",
              "      <th>...</th>\n",
              "      <td>...</td>\n",
              "      <td>...</td>\n",
              "      <td>...</td>\n",
              "      <td>...</td>\n",
              "      <td>...</td>\n",
              "      <td>...</td>\n",
              "    </tr>\n",
              "    <tr>\n",
              "      <th>2990</th>\n",
              "      <td>1225</td>\n",
              "      <td>5198</td>\n",
              "      <td>228.100</td>\n",
              "      <td>0</td>\n",
              "      <td>/content/drive/MyDrive/hand_atlas/image/5198.jpg</td>\n",
              "      <td>True</td>\n",
              "    </tr>\n",
              "    <tr>\n",
              "      <th>2991</th>\n",
              "      <td>1225</td>\n",
              "      <td>5198</td>\n",
              "      <td>228.100</td>\n",
              "      <td>0</td>\n",
              "      <td>/content/drive/MyDrive/hand_atlas/image/5198.jpg</td>\n",
              "      <td>True</td>\n",
              "    </tr>\n",
              "    <tr>\n",
              "      <th>2992</th>\n",
              "      <td>1225</td>\n",
              "      <td>5198</td>\n",
              "      <td>228.100</td>\n",
              "      <td>0</td>\n",
              "      <td>/content/drive/MyDrive/hand_atlas/image/5198.jpg</td>\n",
              "      <td>True</td>\n",
              "    </tr>\n",
              "    <tr>\n",
              "      <th>2993</th>\n",
              "      <td>1225</td>\n",
              "      <td>5198</td>\n",
              "      <td>228.100</td>\n",
              "      <td>0</td>\n",
              "      <td>/content/drive/MyDrive/hand_atlas/image/5198.jpg</td>\n",
              "      <td>True</td>\n",
              "    </tr>\n",
              "    <tr>\n",
              "      <th>2994</th>\n",
              "      <td>1225</td>\n",
              "      <td>5198</td>\n",
              "      <td>228.100</td>\n",
              "      <td>0</td>\n",
              "      <td>/content/drive/MyDrive/hand_atlas/image/5198.jpg</td>\n",
              "      <td>True</td>\n",
              "    </tr>\n",
              "  </tbody>\n",
              "</table>\n",
              "<p>2995 rows × 6 columns</p>\n",
              "</div>\n",
              "      <button class=\"colab-df-convert\" onclick=\"convertToInteractive('df-7c7464b8-1a0e-4b76-94bc-b56d097147e2')\"\n",
              "              title=\"Convert this dataframe to an interactive table.\"\n",
              "              style=\"display:none;\">\n",
              "        \n",
              "  <svg xmlns=\"http://www.w3.org/2000/svg\" height=\"24px\"viewBox=\"0 0 24 24\"\n",
              "       width=\"24px\">\n",
              "    <path d=\"M0 0h24v24H0V0z\" fill=\"none\"/>\n",
              "    <path d=\"M18.56 5.44l.94 2.06.94-2.06 2.06-.94-2.06-.94-.94-2.06-.94 2.06-2.06.94zm-11 1L8.5 8.5l.94-2.06 2.06-.94-2.06-.94L8.5 2.5l-.94 2.06-2.06.94zm10 10l.94 2.06.94-2.06 2.06-.94-2.06-.94-.94-2.06-.94 2.06-2.06.94z\"/><path d=\"M17.41 7.96l-1.37-1.37c-.4-.4-.92-.59-1.43-.59-.52 0-1.04.2-1.43.59L10.3 9.45l-7.72 7.72c-.78.78-.78 2.05 0 2.83L4 21.41c.39.39.9.59 1.41.59.51 0 1.02-.2 1.41-.59l7.78-7.78 2.81-2.81c.8-.78.8-2.07 0-2.86zM5.41 20L4 18.59l7.72-7.72 1.47 1.35L5.41 20z\"/>\n",
              "  </svg>\n",
              "      </button>\n",
              "      \n",
              "  <style>\n",
              "    .colab-df-container {\n",
              "      display:flex;\n",
              "      flex-wrap:wrap;\n",
              "      gap: 12px;\n",
              "    }\n",
              "\n",
              "    .colab-df-convert {\n",
              "      background-color: #E8F0FE;\n",
              "      border: none;\n",
              "      border-radius: 50%;\n",
              "      cursor: pointer;\n",
              "      display: none;\n",
              "      fill: #1967D2;\n",
              "      height: 32px;\n",
              "      padding: 0 0 0 0;\n",
              "      width: 32px;\n",
              "    }\n",
              "\n",
              "    .colab-df-convert:hover {\n",
              "      background-color: #E2EBFA;\n",
              "      box-shadow: 0px 1px 2px rgba(60, 64, 67, 0.3), 0px 1px 3px 1px rgba(60, 64, 67, 0.15);\n",
              "      fill: #174EA6;\n",
              "    }\n",
              "\n",
              "    [theme=dark] .colab-df-convert {\n",
              "      background-color: #3B4455;\n",
              "      fill: #D2E3FC;\n",
              "    }\n",
              "\n",
              "    [theme=dark] .colab-df-convert:hover {\n",
              "      background-color: #434B5C;\n",
              "      box-shadow: 0px 1px 3px 1px rgba(0, 0, 0, 0.15);\n",
              "      filter: drop-shadow(0px 1px 2px rgba(0, 0, 0, 0.3));\n",
              "      fill: #FFFFFF;\n",
              "    }\n",
              "  </style>\n",
              "\n",
              "      <script>\n",
              "        const buttonEl =\n",
              "          document.querySelector('#df-7c7464b8-1a0e-4b76-94bc-b56d097147e2 button.colab-df-convert');\n",
              "        buttonEl.style.display =\n",
              "          google.colab.kernel.accessAllowed ? 'block' : 'none';\n",
              "\n",
              "        async function convertToInteractive(key) {\n",
              "          const element = document.querySelector('#df-7c7464b8-1a0e-4b76-94bc-b56d097147e2');\n",
              "          const dataTable =\n",
              "            await google.colab.kernel.invokeFunction('convertToInteractive',\n",
              "                                                     [key], {});\n",
              "          if (!dataTable) return;\n",
              "\n",
              "          const docLinkHtml = 'Like what you see? Visit the ' +\n",
              "            '<a target=\"_blank\" href=https://colab.research.google.com/notebooks/data_table.ipynb>data table notebook</a>'\n",
              "            + ' to learn more about interactive tables.';\n",
              "          element.innerHTML = '';\n",
              "          dataTable['output_type'] = 'display_data';\n",
              "          await google.colab.output.renderOutput(dataTable, element);\n",
              "          const docLink = document.createElement('div');\n",
              "          docLink.innerHTML = docLinkHtml;\n",
              "          element.appendChild(docLink);\n",
              "        }\n",
              "      </script>\n",
              "    </div>\n",
              "  </div>\n",
              "  "
            ]
          },
          "metadata": {},
          "execution_count": 35
        }
      ],
      "source": [
        "train0_df"
      ]
    },
    {
      "cell_type": "code",
      "execution_count": null,
      "metadata": {
        "colab": {
          "base_uri": "https://localhost:8080/"
        },
        "id": "6OLfe12Qlto-",
        "outputId": "7fb241cf-9ae6-4caf-cd93-89dc5e66eb6d"
      },
      "outputs": [
        {
          "output_type": "stream",
          "name": "stdout",
          "text": [
            "train 1677 validation 599 719\n"
          ]
        }
      ],
      "source": [
        "from sklearn.model_selection import train_test_split\n",
        "train_test0, valid0 = train_test_split(train0_df, \n",
        "                                   test_size = 0.2, \n",
        "                                   random_state = 2018,\n",
        "                                   stratify = train0_df['boneage'])\n",
        "#print('train', raw_train_df.shape[0], 'validation', valid_df.shape[0])\n",
        "train0, test0 = train_test_split(train_test0, \n",
        "                                   test_size = 0.3, \n",
        "                                   random_state = 2018,\n",
        "                                   stratify = train_test0['boneage'])\n",
        "print('train', train0.shape[0], 'validation', valid0.shape[0],test0.shape[0])"
      ]
    },
    {
      "cell_type": "code",
      "execution_count": null,
      "metadata": {
        "id": "9nFepXTmlto-"
      },
      "outputs": [],
      "source": [
        "from keras.preprocessing.image import ImageDataGenerator\n",
        "IMG_SIZE = (300,300)\n",
        "core_idg = ImageDataGenerator(rotation_range=20,width_shift_range=0.15,height_shift_range=0.15,zoom_range=0.2,horizontal_flip=True)"
      ]
    },
    {
      "cell_type": "code",
      "execution_count": null,
      "metadata": {
        "id": "_7iQy9cblto_"
      },
      "outputs": [],
      "source": [
        "def flow_from_dataframe(img_data_gen, in_df, path_col, y_col, **dflow_args):\n",
        "    base_dir = os.path.dirname(in_df[path_col].values[0])\n",
        "    print('## Ignore next message from keras, values are replaced anyways')\n",
        "    df_gen = img_data_gen.flow_from_directory(base_dir, \n",
        "                                     class_mode = 'sparse',\n",
        "                                    **dflow_args)\n",
        "    df_gen.filenames = in_df[path_col].values\n",
        "    df_gen.filepaths.extend(df_gen.filenames)\n",
        "    df_gen.classes = np.stack(in_df[y_col].values)\n",
        "    df_gen.samples = in_df.shape[0]\n",
        "    df_gen.n = in_df.shape[0]\n",
        "    df_gen._set_index_array()\n",
        "    df_gen.directory = '' \n",
        "    gen=np.ones(df_gen.samples)\n",
        "    print('Reinserting dataframe: {} images'.format(in_df.shape[0]))\n",
        "    #print(df_gen.samples)\n",
        "    #yield (df_gen,gen)\n",
        "    return df_gen"
      ]
    },
    {
      "cell_type": "code",
      "execution_count": null,
      "metadata": {
        "colab": {
          "base_uri": "https://localhost:8080/"
        },
        "id": "neq1ir7ylto_",
        "outputId": "02f212f1-2812-4a8f-d50d-d4cf472843d0"
      },
      "outputs": [
        {
          "output_type": "stream",
          "name": "stdout",
          "text": [
            "## Ignore next message from keras, values are replaced anyways\n",
            "Found 0 images belonging to 0 classes.\n",
            "Reinserting dataframe: 1677 images\n"
          ]
        }
      ],
      "source": [
        "train0_gen = flow_from_dataframe( core_idg, train0, \n",
        "                             path_col = 'path',\n",
        "                            y_col = 'boneage', \n",
        "                            target_size = IMG_SIZE,\n",
        "                             color_mode = 'rgb',\n",
        "                            batch_size = 1677)"
      ]
    },
    {
      "cell_type": "code",
      "execution_count": null,
      "metadata": {
        "colab": {
          "base_uri": "https://localhost:8080/"
        },
        "id": "OzomkT1ZltpA",
        "outputId": "59a62e17-a93c-4455-d3e6-bfbb604b4a50"
      },
      "outputs": [
        {
          "output_type": "stream",
          "name": "stdout",
          "text": [
            "## Ignore next message from keras, values are replaced anyways\n",
            "Found 0 images belonging to 0 classes.\n",
            "Reinserting dataframe: 599 images\n"
          ]
        }
      ],
      "source": [
        "valid0_gen = flow_from_dataframe(core_idg, valid0, \n",
        "                             path_col = 'path',\n",
        "                            y_col = 'boneage', \n",
        "                            target_size = IMG_SIZE,\n",
        "                             color_mode = 'rgb',\n",
        "                            batch_size = 599) "
      ]
    },
    {
      "cell_type": "code",
      "execution_count": null,
      "metadata": {
        "id": "Aw2JaZZwltpA"
      },
      "outputs": [],
      "source": [
        "\n",
        "testcore_idg = ImageDataGenerator()"
      ]
    },
    {
      "cell_type": "code",
      "execution_count": null,
      "metadata": {
        "colab": {
          "base_uri": "https://localhost:8080/"
        },
        "id": "Bu7kCWNYltpB",
        "outputId": "29392bc6-776b-4807-c466-376532589b16"
      },
      "outputs": [
        {
          "output_type": "stream",
          "name": "stdout",
          "text": [
            "## Ignore next message from keras, values are replaced anyways\n",
            "Found 0 images belonging to 0 classes.\n",
            "Reinserting dataframe: 719 images\n"
          ]
        }
      ],
      "source": [
        "test0_gen = flow_from_dataframe(testcore_idg, \n",
        "                              test0, \n",
        "                             path_col = 'path',\n",
        "                            y_col = 'boneage', \n",
        "                            target_size = IMG_SIZE,\n",
        "                             color_mode = 'rgb',\n",
        "                            batch_size = 719)"
      ]
    },
    {
      "cell_type": "code",
      "execution_count": null,
      "metadata": {
        "id": "6XxaEBd5ltpC"
      },
      "outputs": [],
      "source": [
        "train0_X, train0_Y = next(train0_gen)"
      ]
    },
    {
      "cell_type": "code",
      "execution_count": null,
      "metadata": {
        "colab": {
          "base_uri": "https://localhost:8080/"
        },
        "id": "RDhVkpIBltpC",
        "outputId": "e3bb6236-1b92-4a89-a546-fc13317b6905"
      },
      "outputs": [
        {
          "output_type": "execute_result",
          "data": {
            "text/plain": [
              "(1677, 300, 300, 3)"
            ]
          },
          "metadata": {},
          "execution_count": 44
        }
      ],
      "source": [
        "train0_X.shape"
      ]
    },
    {
      "cell_type": "code",
      "execution_count": null,
      "metadata": {
        "id": "-xcDDZsvltpD"
      },
      "outputs": [],
      "source": [
        "valid0_X, valid0_Y = next(valid0_gen)"
      ]
    },
    {
      "cell_type": "code",
      "execution_count": null,
      "metadata": {
        "colab": {
          "base_uri": "https://localhost:8080/"
        },
        "id": "Oc0hn0VeltpD",
        "outputId": "5efcd94b-e68a-42e0-ef08-bfba32aa0f19"
      },
      "outputs": [
        {
          "output_type": "execute_result",
          "data": {
            "text/plain": [
              "(599, 300, 300, 3)"
            ]
          },
          "metadata": {},
          "execution_count": 46
        }
      ],
      "source": [
        "valid0_X.shape"
      ]
    },
    {
      "cell_type": "code",
      "execution_count": null,
      "metadata": {
        "id": "ChATCHw-ltpE"
      },
      "outputs": [],
      "source": [
        "test0_X, test0_Y = next(test0_gen)"
      ]
    },
    {
      "cell_type": "code",
      "execution_count": null,
      "metadata": {
        "colab": {
          "base_uri": "https://localhost:8080/"
        },
        "id": "Jz5uNv-kltpF",
        "outputId": "07def134-1a7b-49c9-d3ba-64e69249d7fb"
      },
      "outputs": [
        {
          "output_type": "execute_result",
          "data": {
            "text/plain": [
              "(719, 300, 300, 3)"
            ]
          },
          "metadata": {},
          "execution_count": 48
        }
      ],
      "source": [
        "test0_X.shape"
      ]
    },
    {
      "cell_type": "code",
      "source": [
        "train_x=[]\n",
        "train_y=[]\n",
        "train_gen=[]\n",
        "i=0\n",
        "for k in range(67):\n",
        "  for j in range(25):\n",
        "    train_x.append(train1_X[i])\n",
        "    train_y.append(train1_Y[i])\n",
        "    train_gen.append(1)\n",
        "    train_x.append(train0_X[i])\n",
        "    train_y.append(train0_Y[i])\n",
        "    train_gen.append(0)\n",
        "    i=i+1\n",
        "print(i)  \n",
        "i=1675\n",
        "for k in range(5):\n",
        "    train_x.append(train1_X[i])\n",
        "    train_y.append(train1_Y[i])\n",
        "    train_gen.append(1)\n",
        "    i=i+1\n",
        "i=1675\n",
        "for k in range(2):\n",
        "    train_x.append(train0_X[i])\n",
        "    train_y.append(train0_Y[i])\n",
        "    train_gen.append(0)\n",
        "    i=i+1\n"
      ],
      "metadata": {
        "colab": {
          "base_uri": "https://localhost:8080/"
        },
        "id": "M8wdWoT1zmyt",
        "outputId": "3b982904-0c91-453c-ffb6-9decd63d8b45"
      },
      "execution_count": null,
      "outputs": [
        {
          "output_type": "stream",
          "name": "stdout",
          "text": [
            "1675\n"
          ]
        }
      ]
    },
    {
      "cell_type": "code",
      "source": [
        "train_x=np.asarray(train_x)\n",
        "train_x=train_x/255\n",
        "train_y=np.asarray(train_y)\n",
        "train_gen=np.asarray(train_gen)"
      ],
      "metadata": {
        "id": "-sWC9AZj3Vxn"
      },
      "execution_count": null,
      "outputs": []
    },
    {
      "cell_type": "code",
      "source": [
        "train_x.shape"
      ],
      "metadata": {
        "colab": {
          "base_uri": "https://localhost:8080/"
        },
        "id": "JxSkd2TqDz8X",
        "outputId": "39b69ff4-79bc-4b38-84fb-c67612d24360"
      },
      "execution_count": null,
      "outputs": [
        {
          "output_type": "execute_result",
          "data": {
            "text/plain": [
              "(3357, 300, 300, 3)"
            ]
          },
          "metadata": {},
          "execution_count": 51
        }
      ]
    },
    {
      "cell_type": "code",
      "source": [
        "valid_x=[]\n",
        "valid_y=[]\n",
        "valid_gen=[]\n",
        "i=0\n",
        "for k in range(37):\n",
        "  for j in range(15):\n",
        "    valid_x.append(valid1_X[i])\n",
        "    valid_y.append(valid1_Y[i])\n",
        "    valid_gen.append(1)\n",
        "    valid_x.append(valid0_X[i])\n",
        "    valid_y.append(valid0_Y[i])\n",
        "    valid_gen.append(0)\n",
        "    i=i+1\n",
        "print(i)  \n",
        "i=555\n",
        "for k in range(5):\n",
        "    valid_x.append(valid1_X[i])\n",
        "    valid_y.append(valid1_Y[i])\n",
        "    valid_gen.append(1)\n",
        "    i=i+1\n",
        "i=555\n",
        "for k in range(4):\n",
        "    valid_x.append(valid0_X[i])\n",
        "    valid_y.append(valid0_Y[i])\n",
        "    valid_gen.append(0)\n",
        "    i=i+1\n"
      ],
      "metadata": {
        "colab": {
          "base_uri": "https://localhost:8080/"
        },
        "id": "tHORQlNA0ZLK",
        "outputId": "ad7fe54d-f51e-4f43-b0d1-7adfae5b5107"
      },
      "execution_count": null,
      "outputs": [
        {
          "output_type": "stream",
          "name": "stdout",
          "text": [
            "555\n"
          ]
        }
      ]
    },
    {
      "cell_type": "code",
      "source": [
        "valid_x.shape"
      ],
      "metadata": {
        "colab": {
          "base_uri": "https://localhost:8080/",
          "height": 165
        },
        "id": "sAa02SYhFIBw",
        "outputId": "dcd7e970-047b-45ba-8b1c-f341da486e14"
      },
      "execution_count": null,
      "outputs": [
        {
          "output_type": "error",
          "ename": "AttributeError",
          "evalue": "ignored",
          "traceback": [
            "\u001b[0;31m---------------------------------------------------------------------------\u001b[0m",
            "\u001b[0;31mAttributeError\u001b[0m                            Traceback (most recent call last)",
            "\u001b[0;32m<ipython-input-53-4afdb227fcd4>\u001b[0m in \u001b[0;36m<module>\u001b[0;34m\u001b[0m\n\u001b[0;32m----> 1\u001b[0;31m \u001b[0mvalid_x\u001b[0m\u001b[0;34m.\u001b[0m\u001b[0mshape\u001b[0m\u001b[0;34m\u001b[0m\u001b[0;34m\u001b[0m\u001b[0m\n\u001b[0m",
            "\u001b[0;31mAttributeError\u001b[0m: 'list' object has no attribute 'shape'"
          ]
        }
      ]
    },
    {
      "cell_type": "code",
      "source": [
        "valid_y.shape"
      ],
      "metadata": {
        "id": "W8vle6HaFd37"
      },
      "execution_count": null,
      "outputs": []
    },
    {
      "cell_type": "code",
      "source": [
        "valid_x=np.asarray(valid_x)\n",
        "valid_x=valid_x/255\n",
        "valid_y=np.asarray(valid_y)\n",
        "valid_gen=np.asarray(valid_gen)"
      ],
      "metadata": {
        "id": "a533nesY3Zcg"
      },
      "execution_count": null,
      "outputs": []
    },
    {
      "cell_type": "code",
      "source": [
        "test_x=[]\n",
        "test_y=[]\n",
        "test_gen=[]\n",
        "i=0\n",
        "for k in range(35):\n",
        "  for j in range(20):\n",
        "    test_x.append(test1_X[i])\n",
        "    test_y.append(test1_Y[i])\n",
        "    test_gen.append(1)\n",
        "    test_x.append(test0_X[i])\n",
        "    test_y.append(test0_Y[i])\n",
        "    test_gen.append(0)\n",
        "    i=i+1\n",
        "print(i)  \n",
        "i=700\n",
        "for k in range(10):\n",
        "    test_x.append(test1_X[i])\n",
        "    test_y.append(test1_Y[i])\n",
        "    test_gen.append(1)\n",
        "    i=i+1\n",
        "i=700\n",
        "for k in range(9):\n",
        "    test_x.append(test0_X[i])\n",
        "    test_y.append(test0_Y[i])\n",
        "    test_gen.append(0)\n",
        "    i=i+1"
      ],
      "metadata": {
        "colab": {
          "base_uri": "https://localhost:8080/"
        },
        "id": "hHBvaTSg1w2g",
        "outputId": "671331a7-7d70-40da-f6b8-e4e1a130939c"
      },
      "execution_count": null,
      "outputs": [
        {
          "output_type": "stream",
          "name": "stdout",
          "text": [
            "700\n"
          ]
        }
      ]
    },
    {
      "cell_type": "code",
      "source": [
        "test_x=np.asarray(test_x)\n",
        "test_x=test_x/255\n",
        "test_y=np.asarray(test_y)\n",
        "test_gen=np.asarray(test_gen)"
      ],
      "metadata": {
        "id": "mXWtsgeg3REh"
      },
      "execution_count": null,
      "outputs": []
    },
    {
      "cell_type": "code",
      "execution_count": null,
      "metadata": {
        "colab": {
          "base_uri": "https://localhost:8080/"
        },
        "id": "k6KlM3hAsMwE",
        "outputId": "9e5e5998-abb6-4ec3-e5ef-68913f39db89"
      },
      "outputs": [
        {
          "output_type": "stream",
          "name": "stdout",
          "text": [
            "(3357, 2, 114)\n"
          ]
        }
      ],
      "source": [
        "age1=[]\n",
        "for i in range(114):\n",
        "    age1.append(i)\n",
        "age2=[]\n",
        "for i in range (114,228):\n",
        "    age2.append(i)\n",
        "age=[]\n",
        "for i in range (1):\n",
        "    age.append(age1)\n",
        "    age.append(age2)\n",
        "age=np.asarray(age)\n",
        "agetr=[]\n",
        "for i in range(3357):\n",
        "    agetr.append(age)\n",
        "agetr=np.asarray(agetr)\n",
        "print(agetr.shape)"
      ]
    },
    {
      "cell_type": "code",
      "execution_count": null,
      "metadata": {
        "colab": {
          "base_uri": "https://localhost:8080/"
        },
        "id": "b4y4KxI-sVqD",
        "outputId": "1a958c75-3086-48a2-8d3d-5b7a9a00a45b"
      },
      "outputs": [
        {
          "output_type": "stream",
          "name": "stdout",
          "text": [
            "(1119, 2, 114)\n"
          ]
        }
      ],
      "source": [
        "agev=[]\n",
        "for i in range(1119):\n",
        "    agev.append(age)\n",
        "agev=np.asarray(agev)\n",
        "print(agev.shape)"
      ]
    },
    {
      "cell_type": "code",
      "execution_count": null,
      "metadata": {
        "colab": {
          "base_uri": "https://localhost:8080/"
        },
        "id": "gi5djQM_sarK",
        "outputId": "dc7cff1e-c67e-4070-ed1d-ca37bd0d09d5"
      },
      "outputs": [
        {
          "output_type": "stream",
          "name": "stdout",
          "text": [
            "(1419, 2, 114)\n"
          ]
        }
      ],
      "source": [
        "aget=[]\n",
        "for i in range(1419):\n",
        "    aget.append(age)\n",
        "aget=np.asarray(aget)\n",
        "print(aget.shape)"
      ]
    },
    {
      "cell_type": "code",
      "source": [
        "#from numba import cuda \n",
        "#device = cuda.get_current_device()\n",
        "#device.reset()\n",
        "#device"
      ],
      "metadata": {
        "id": "mWCK5zjUcMqg"
      },
      "execution_count": null,
      "outputs": []
    },
    {
      "cell_type": "code",
      "source": [
        "from tensorflow.keras.applications.resnet50 import ResNet50\n",
        "from keras.applications.vgg19 import VGG19\n",
        "from keras.applications.inception_v3 import InceptionV3\n",
        "from keras.applications.xception import Xception\n",
        "from keras.preprocessing import image\n",
        "from keras.models import Model, load_model\n",
        "from keras.layers import Flatten, Dense, Input, Reshape, Lambda,Conv2D\n",
        "import tensorflow as tf\n",
        "from keras import backend as K\n",
        "import pickle\n",
        "import numpy as np\n",
        "import matplotlib.pyplot as plt\n",
        "import keras\n",
        "#from func_utils import *\n",
        "import os\n",
        "#os.environ[\"CUDA_VISIBLE_DEVICES\"]=\"2\"\n",
        "#os.environ['OMP_NUM_THREADS']='6'\n",
        "batch_size = 4\n",
        "epochs = 30"
      ],
      "metadata": {
        "id": "clWCR9Dv6ICi"
      },
      "execution_count": null,
      "outputs": []
    },
    {
      "cell_type": "code",
      "source": [
        "import tensorflow as tf\n",
        "\n",
        "base_model = InceptionV3(weights='imagenet', include_top=False)\n",
        "input = Input(shape=(300,300,3),name='input1')\n",
        "input_gender = Input(shape=(1,),dtype='float32',name='input2')\n",
        "input_age = Input(shape=(2,114),dtype='float32',name='input3')\n",
        "output = base_model(input)\n",
        "gender_embedding=Dense(16)(input_gender)\n",
        "print (K.int_shape(output))\n",
        "sq = keras.layers.GlobalAveragePooling2D()(output)\n",
        "print (K.int_shape(sq))\n",
        "sq = keras.layers.Reshape((1,1,2048))(sq)\n",
        "sq = keras.layers.Dense(units=2048,activation=\"sigmoid\")(sq)\n",
        "block = keras.layers.multiply([output,sq])\n",
        "#fine Squeeze and Excitation 1\n",
        "\n",
        "net = keras.layers.add([output,block])\n",
        "net = keras.layers.BatchNormalization()(net)\n",
        "net = keras.layers.Activation(\"relu\")(net)\n",
        "net = keras.layers.MaxPooling2D(pool_size=(2, 2),name=\"block_1\")(net)\n",
        "print (K.int_shape(net))\n",
        "\n",
        "x = keras.layers.MaxPooling2D(pool_size=(4,4))(net)\n",
        "print (K.int_shape(x))\n",
        "x=Flatten()(x)\n",
        "f = keras.layers.Concatenate(axis=1)([x,gender_embedding])\n",
        "f = Dense(256, activation='relu')(f)\n",
        "x =Dense(228,activation='linear')(f)\n",
        "y=Flatten()(input_age)\n",
        "print(y.shape)\n",
        "f = keras.layers.Multiply()([x,y])\n",
        "predictions=Dense(1)(f)\n",
        "\n",
        "#Embedding = keras.layers.Conv2D(256,kernel_size=(2,2),strides=1)(output)\n",
        "#Embedding = keras.layers.AveragePooling2D(pool_size=(7,7))(Embedding)\n",
        "#Embedding = Flatten()(Embedding)\n",
        "#print (K.int_shape(Embedding))\n",
        "#variance = Dense(1)(Embedding)\n",
        "\n",
        "model = Model(inputs=[input,input_gender,input_age], outputs=predictions)\n",
        "for i,layer in enumerate(model.layers):\n",
        "    print (i,layer.name)\n",
        "\n",
        "Adam=tf.keras.optimizers.Adam(lr=0.0001,beta_1=0.9,beta_2=0.999)\n",
        "model.compile(optimizer=Adam, loss='mean_absolute_error', metrics=['MAE'],run_eagerly=True)\n",
        "model.summary()\n",
        "\n",
        "checkpoint =keras.callbacks.ModelCheckpoint(filepath='weights_inv-mul_sq_aug20_loss_dimg.{epoch:02d}-{val_loss:.2f}.hdf5',save_weights_only=True,period=20)\n",
        "#model.fit_generator(DataGen.flow([x_train,gender_train],y_train,batch_size=batch_size),steps_per_epoch=np.ceil(len(y_train)/batch_size),epochs=50,verbose=1,validation_data=([x_valid,gender_valid,agev],y_valid))\n",
        "history=model.fit([train_x,train_gen,agetr],train_y,batch_size=4,epochs=20,verbose=1,validation_data=([valid_x,valid_gen,agev],valid_y),callbacks = [checkpoint])\n",
        "score = model.evaluate([test_x,test_gen,aget],test_y, batch_size=batch_size)\n",
        "print('Test loss:', score[0])\n",
        "print('Test MAE:', score[1])"
      ],
      "metadata": {
        "colab": {
          "base_uri": "https://localhost:8080/",
          "height": 1000
        },
        "id": "N_cddk7K6NtP",
        "outputId": "286d0fdc-847a-462d-c199-18783e2b5665"
      },
      "execution_count": null,
      "outputs": [
        {
          "output_type": "stream",
          "name": "stdout",
          "text": [
            "(None, 8, 8, 2048)\n",
            "(None, 2048)\n",
            "(None, 4, 4, 2048)\n",
            "(None, 1, 1, 2048)\n",
            "(None, 228)\n",
            "0 input1\n",
            "1 inception_v3\n",
            "2 global_average_pooling2d_1\n",
            "3 reshape_1\n",
            "4 dense_6\n",
            "5 multiply_2\n",
            "6 add_1\n",
            "7 batch_normalization_189\n",
            "8 activation_189\n",
            "9 block_1\n",
            "10 max_pooling2d_9\n",
            "11 input2\n",
            "12 flatten_2\n",
            "13 dense_5\n",
            "14 concatenate_5\n",
            "15 dense_7\n",
            "16 input3\n",
            "17 dense_8\n",
            "18 flatten_3\n",
            "19 multiply_3\n",
            "20 dense_9\n",
            "Model: \"model_1\"\n",
            "__________________________________________________________________________________________________\n",
            " Layer (type)                   Output Shape         Param #     Connected to                     \n",
            "==================================================================================================\n",
            " input1 (InputLayer)            [(None, 300, 300, 3  0           []                               \n",
            "                                )]                                                                \n",
            "                                                                                                  \n",
            " inception_v3 (Functional)      (None, None, None,   21802784    ['input1[0][0]']                 \n",
            "                                2048)                                                             \n",
            "                                                                                                  \n",
            " global_average_pooling2d_1 (Gl  (None, 2048)        0           ['inception_v3[0][0]']           \n",
            " obalAveragePooling2D)                                                                            \n",
            "                                                                                                  \n",
            " reshape_1 (Reshape)            (None, 1, 1, 2048)   0           ['global_average_pooling2d_1[0][0\n",
            "                                                                 ]']                              \n",
            "                                                                                                  \n",
            " dense_6 (Dense)                (None, 1, 1, 2048)   4196352     ['reshape_1[0][0]']              \n",
            "                                                                                                  \n",
            " multiply_2 (Multiply)          (None, 8, 8, 2048)   0           ['inception_v3[0][0]',           \n",
            "                                                                  'dense_6[0][0]']                \n",
            "                                                                                                  \n",
            " add_1 (Add)                    (None, 8, 8, 2048)   0           ['inception_v3[0][0]',           \n",
            "                                                                  'multiply_2[0][0]']             \n",
            "                                                                                                  \n",
            " batch_normalization_189 (Batch  (None, 8, 8, 2048)  8192        ['add_1[0][0]']                  \n",
            " Normalization)                                                                                   \n",
            "                                                                                                  \n",
            " activation_189 (Activation)    (None, 8, 8, 2048)   0           ['batch_normalization_189[0][0]']\n",
            "                                                                                                  \n",
            " block_1 (MaxPooling2D)         (None, 4, 4, 2048)   0           ['activation_189[0][0]']         \n",
            "                                                                                                  \n",
            " max_pooling2d_9 (MaxPooling2D)  (None, 1, 1, 2048)  0           ['block_1[0][0]']                \n",
            "                                                                                                  \n",
            " input2 (InputLayer)            [(None, 1)]          0           []                               \n",
            "                                                                                                  \n",
            " flatten_2 (Flatten)            (None, 2048)         0           ['max_pooling2d_9[0][0]']        \n",
            "                                                                                                  \n",
            " dense_5 (Dense)                (None, 16)           32          ['input2[0][0]']                 \n",
            "                                                                                                  \n",
            " concatenate_5 (Concatenate)    (None, 2064)         0           ['flatten_2[0][0]',              \n",
            "                                                                  'dense_5[0][0]']                \n",
            "                                                                                                  \n",
            " dense_7 (Dense)                (None, 256)          528640      ['concatenate_5[0][0]']          \n",
            "                                                                                                  \n",
            " input3 (InputLayer)            [(None, 2, 114)]     0           []                               \n",
            "                                                                                                  \n",
            " dense_8 (Dense)                (None, 228)          58596       ['dense_7[0][0]']                \n",
            "                                                                                                  \n",
            " flatten_3 (Flatten)            (None, 228)          0           ['input3[0][0]']                 \n",
            "                                                                                                  \n",
            " multiply_3 (Multiply)          (None, 228)          0           ['dense_8[0][0]',                \n",
            "                                                                  'flatten_3[0][0]']              \n",
            "                                                                                                  \n",
            " dense_9 (Dense)                (None, 1)            229         ['multiply_3[0][0]']             \n",
            "                                                                                                  \n",
            "==================================================================================================\n",
            "Total params: 26,594,825\n",
            "Trainable params: 26,556,297\n",
            "Non-trainable params: 38,528\n",
            "__________________________________________________________________________________________________\n"
          ]
        },
        {
          "output_type": "stream",
          "name": "stderr",
          "text": [
            "/usr/local/lib/python3.8/dist-packages/keras/optimizers/optimizer_v2/adam.py:110: UserWarning: The `lr` argument is deprecated, use `learning_rate` instead.\n",
            "  super(Adam, self).__init__(name, **kwargs)\n",
            "WARNING:tensorflow:`period` argument is deprecated. Please use `save_freq` to specify the frequency in number of batches seen.\n"
          ]
        },
        {
          "output_type": "stream",
          "name": "stdout",
          "text": [
            "Epoch 1/20\n",
            "840/840 [==============================] - 244s 290ms/step - loss: 111.3314 - MAE: 111.3314 - val_loss: 80.5119 - val_MAE: 80.5119\n",
            "Epoch 2/20\n",
            "840/840 [==============================] - 239s 285ms/step - loss: 32.8014 - MAE: 32.8014 - val_loss: 22.4670 - val_MAE: 22.4670\n",
            "Epoch 3/20\n",
            "840/840 [==============================] - 236s 281ms/step - loss: 23.4423 - MAE: 23.4423 - val_loss: 24.8786 - val_MAE: 24.8786\n",
            "Epoch 4/20\n",
            "840/840 [==============================] - 235s 280ms/step - loss: 20.6456 - MAE: 20.6456 - val_loss: 22.3862 - val_MAE: 22.3862\n",
            "Epoch 5/20\n",
            "840/840 [==============================] - 234s 279ms/step - loss: 18.0749 - MAE: 18.0749 - val_loss: 18.7086 - val_MAE: 18.7086\n",
            "Epoch 6/20\n",
            "840/840 [==============================] - 233s 277ms/step - loss: 16.9139 - MAE: 16.9139 - val_loss: 16.0063 - val_MAE: 16.0063\n",
            "Epoch 7/20\n",
            "840/840 [==============================] - 233s 278ms/step - loss: 17.0812 - MAE: 17.0812 - val_loss: 25.7632 - val_MAE: 25.7632\n",
            "Epoch 8/20\n",
            "840/840 [==============================] - 233s 278ms/step - loss: 16.0292 - MAE: 16.0292 - val_loss: 15.0095 - val_MAE: 15.0095\n",
            "Epoch 9/20\n",
            "840/840 [==============================] - 233s 277ms/step - loss: 15.9108 - MAE: 15.9108 - val_loss: 16.5431 - val_MAE: 16.5431\n",
            "Epoch 10/20\n",
            "840/840 [==============================] - 234s 279ms/step - loss: 15.3534 - MAE: 15.3534 - val_loss: 15.1052 - val_MAE: 15.1052\n",
            "Epoch 11/20\n",
            "840/840 [==============================] - 241s 287ms/step - loss: 15.1599 - MAE: 15.1599 - val_loss: 14.6860 - val_MAE: 14.6860\n",
            "Epoch 12/20\n",
            "840/840 [==============================] - 240s 285ms/step - loss: 14.6530 - MAE: 14.6530 - val_loss: 13.5975 - val_MAE: 13.5975\n",
            "Epoch 13/20\n",
            "840/840 [==============================] - 239s 284ms/step - loss: 14.1135 - MAE: 14.1135 - val_loss: 13.4949 - val_MAE: 13.4949\n",
            "Epoch 14/20\n",
            "840/840 [==============================] - 235s 280ms/step - loss: 13.1399 - MAE: 13.1399 - val_loss: 18.0249 - val_MAE: 18.0249\n",
            "Epoch 15/20\n",
            "840/840 [==============================] - 234s 279ms/step - loss: 12.4744 - MAE: 12.4744 - val_loss: 16.6501 - val_MAE: 16.6501\n",
            "Epoch 16/20\n",
            "840/840 [==============================] - 233s 278ms/step - loss: 12.3698 - MAE: 12.3698 - val_loss: 13.5652 - val_MAE: 13.5652\n",
            "Epoch 17/20\n",
            "840/840 [==============================] - 233s 278ms/step - loss: 12.1654 - MAE: 12.1654 - val_loss: 13.5978 - val_MAE: 13.5978\n",
            "Epoch 18/20\n",
            "840/840 [==============================] - 234s 278ms/step - loss: 11.7208 - MAE: 11.7208 - val_loss: 12.3969 - val_MAE: 12.3969\n",
            "Epoch 19/20\n",
            "840/840 [==============================] - 233s 278ms/step - loss: 11.3914 - MAE: 11.3914 - val_loss: 11.5257 - val_MAE: 11.5257\n",
            "Epoch 20/20\n",
            "840/840 [==============================] - 241s 287ms/step - loss: 10.3064 - MAE: 10.3064 - val_loss: 11.0966 - val_MAE: 11.0966\n"
          ]
        },
        {
          "output_type": "error",
          "ename": "ValueError",
          "evalue": "ignored",
          "traceback": [
            "\u001b[0;31m---------------------------------------------------------------------------\u001b[0m",
            "\u001b[0;31mValueError\u001b[0m                                Traceback (most recent call last)",
            "\u001b[0;32m<ipython-input-65-1915add7c93e>\u001b[0m in \u001b[0;36m<module>\u001b[0;34m\u001b[0m\n\u001b[1;32m     49\u001b[0m \u001b[0;31m#model.fit_generator(DataGen.flow([x_train,gender_train],y_train,batch_size=batch_size),steps_per_epoch=np.ceil(len(y_train)/batch_size),epochs=50,verbose=1,validation_data=([x_valid,gender_valid,agev],y_valid))\u001b[0m\u001b[0;34m\u001b[0m\u001b[0;34m\u001b[0m\u001b[0;34m\u001b[0m\u001b[0m\n\u001b[1;32m     50\u001b[0m \u001b[0mhistory\u001b[0m\u001b[0;34m=\u001b[0m\u001b[0mmodel\u001b[0m\u001b[0;34m.\u001b[0m\u001b[0mfit\u001b[0m\u001b[0;34m(\u001b[0m\u001b[0;34m[\u001b[0m\u001b[0mtrain_x\u001b[0m\u001b[0;34m,\u001b[0m\u001b[0mtrain_gen\u001b[0m\u001b[0;34m,\u001b[0m\u001b[0magetr\u001b[0m\u001b[0;34m]\u001b[0m\u001b[0;34m,\u001b[0m\u001b[0mtrain_y\u001b[0m\u001b[0;34m,\u001b[0m\u001b[0mbatch_size\u001b[0m\u001b[0;34m=\u001b[0m\u001b[0;36m4\u001b[0m\u001b[0;34m,\u001b[0m\u001b[0mepochs\u001b[0m\u001b[0;34m=\u001b[0m\u001b[0;36m20\u001b[0m\u001b[0;34m,\u001b[0m\u001b[0mverbose\u001b[0m\u001b[0;34m=\u001b[0m\u001b[0;36m1\u001b[0m\u001b[0;34m,\u001b[0m\u001b[0mvalidation_data\u001b[0m\u001b[0;34m=\u001b[0m\u001b[0;34m(\u001b[0m\u001b[0;34m[\u001b[0m\u001b[0mvalid_x\u001b[0m\u001b[0;34m,\u001b[0m\u001b[0mvalid_gen\u001b[0m\u001b[0;34m,\u001b[0m\u001b[0magev\u001b[0m\u001b[0;34m]\u001b[0m\u001b[0;34m,\u001b[0m\u001b[0mvalid_y\u001b[0m\u001b[0;34m)\u001b[0m\u001b[0;34m,\u001b[0m\u001b[0mcallbacks\u001b[0m \u001b[0;34m=\u001b[0m \u001b[0;34m[\u001b[0m\u001b[0mcheckpoint\u001b[0m\u001b[0;34m]\u001b[0m\u001b[0;34m)\u001b[0m\u001b[0;34m\u001b[0m\u001b[0;34m\u001b[0m\u001b[0m\n\u001b[0;32m---> 51\u001b[0;31m \u001b[0mscore\u001b[0m \u001b[0;34m=\u001b[0m \u001b[0mmodel\u001b[0m\u001b[0;34m.\u001b[0m\u001b[0mevaluate\u001b[0m\u001b[0;34m(\u001b[0m\u001b[0;34m[\u001b[0m\u001b[0mtest_x\u001b[0m\u001b[0;34m,\u001b[0m\u001b[0mtest_gen\u001b[0m\u001b[0;34m,\u001b[0m\u001b[0maget\u001b[0m\u001b[0;34m]\u001b[0m\u001b[0;34m,\u001b[0m\u001b[0mtest_y\u001b[0m\u001b[0;34m,\u001b[0m \u001b[0mbatch_size\u001b[0m\u001b[0;34m=\u001b[0m\u001b[0mbatch_size\u001b[0m\u001b[0;34m)\u001b[0m\u001b[0;34m\u001b[0m\u001b[0;34m\u001b[0m\u001b[0m\n\u001b[0m\u001b[1;32m     52\u001b[0m \u001b[0mprint\u001b[0m\u001b[0;34m(\u001b[0m\u001b[0;34m'Test loss:'\u001b[0m\u001b[0;34m,\u001b[0m \u001b[0mscore\u001b[0m\u001b[0;34m[\u001b[0m\u001b[0;36m0\u001b[0m\u001b[0;34m]\u001b[0m\u001b[0;34m)\u001b[0m\u001b[0;34m\u001b[0m\u001b[0;34m\u001b[0m\u001b[0m\n\u001b[1;32m     53\u001b[0m \u001b[0mprint\u001b[0m\u001b[0;34m(\u001b[0m\u001b[0;34m'Test MAE:'\u001b[0m\u001b[0;34m,\u001b[0m \u001b[0mscore\u001b[0m\u001b[0;34m[\u001b[0m\u001b[0;36m1\u001b[0m\u001b[0;34m]\u001b[0m\u001b[0;34m)\u001b[0m\u001b[0;34m\u001b[0m\u001b[0;34m\u001b[0m\u001b[0m\n",
            "\u001b[0;32m/usr/local/lib/python3.8/dist-packages/keras/utils/traceback_utils.py\u001b[0m in \u001b[0;36merror_handler\u001b[0;34m(*args, **kwargs)\u001b[0m\n\u001b[1;32m     65\u001b[0m     \u001b[0;32mexcept\u001b[0m \u001b[0mException\u001b[0m \u001b[0;32mas\u001b[0m \u001b[0me\u001b[0m\u001b[0;34m:\u001b[0m  \u001b[0;31m# pylint: disable=broad-except\u001b[0m\u001b[0;34m\u001b[0m\u001b[0;34m\u001b[0m\u001b[0m\n\u001b[1;32m     66\u001b[0m       \u001b[0mfiltered_tb\u001b[0m \u001b[0;34m=\u001b[0m \u001b[0m_process_traceback_frames\u001b[0m\u001b[0;34m(\u001b[0m\u001b[0me\u001b[0m\u001b[0;34m.\u001b[0m\u001b[0m__traceback__\u001b[0m\u001b[0;34m)\u001b[0m\u001b[0;34m\u001b[0m\u001b[0;34m\u001b[0m\u001b[0m\n\u001b[0;32m---> 67\u001b[0;31m       \u001b[0;32mraise\u001b[0m \u001b[0me\u001b[0m\u001b[0;34m.\u001b[0m\u001b[0mwith_traceback\u001b[0m\u001b[0;34m(\u001b[0m\u001b[0mfiltered_tb\u001b[0m\u001b[0;34m)\u001b[0m \u001b[0;32mfrom\u001b[0m \u001b[0;32mNone\u001b[0m\u001b[0;34m\u001b[0m\u001b[0;34m\u001b[0m\u001b[0m\n\u001b[0m\u001b[1;32m     68\u001b[0m     \u001b[0;32mfinally\u001b[0m\u001b[0;34m:\u001b[0m\u001b[0;34m\u001b[0m\u001b[0;34m\u001b[0m\u001b[0m\n\u001b[1;32m     69\u001b[0m       \u001b[0;32mdel\u001b[0m \u001b[0mfiltered_tb\u001b[0m\u001b[0;34m\u001b[0m\u001b[0;34m\u001b[0m\u001b[0m\n",
            "\u001b[0;32m/usr/local/lib/python3.8/dist-packages/keras/engine/data_adapter.py\u001b[0m in \u001b[0;36m_check_data_cardinality\u001b[0;34m(data)\u001b[0m\n\u001b[1;32m   1653\u001b[0m                            for i in tf.nest.flatten(single_data)))\n\u001b[1;32m   1654\u001b[0m     \u001b[0mmsg\u001b[0m \u001b[0;34m+=\u001b[0m \u001b[0;34m\"Make sure all arrays contain the same number of samples.\"\u001b[0m\u001b[0;34m\u001b[0m\u001b[0;34m\u001b[0m\u001b[0m\n\u001b[0;32m-> 1655\u001b[0;31m     \u001b[0;32mraise\u001b[0m \u001b[0mValueError\u001b[0m\u001b[0;34m(\u001b[0m\u001b[0mmsg\u001b[0m\u001b[0;34m)\u001b[0m\u001b[0;34m\u001b[0m\u001b[0;34m\u001b[0m\u001b[0m\n\u001b[0m\u001b[1;32m   1656\u001b[0m \u001b[0;34m\u001b[0m\u001b[0m\n\u001b[1;32m   1657\u001b[0m \u001b[0;34m\u001b[0m\u001b[0m\n",
            "\u001b[0;31mValueError\u001b[0m: Data cardinality is ambiguous:\n  x sizes: 1419, 1419, 1439\n  y sizes: 1419\nMake sure all arrays contain the same number of samples."
          ]
        }
      ]
    },
    {
      "cell_type": "code",
      "source": [
        "plt.plot(history.history['loss'])\n",
        "plt.plot(history.history['val_loss'])\n",
        "plt.title('inv-mul_sq_aug Model loss')\n",
        "plt.ylabel('Loss')\n",
        "plt.xlabel('Epoch')\n",
        "plt.legend(['Train', 'Validation'], loc='upper left')\n",
        "plt.show()"
      ],
      "metadata": {
        "colab": {
          "base_uri": "https://localhost:8080/",
          "height": 295
        },
        "id": "QN_UZxMA8cE_",
        "outputId": "3bc79a0d-85ad-4f60-b4c3-ca6a9e3d9361"
      },
      "execution_count": null,
      "outputs": [
        {
          "output_type": "display_data",
          "data": {
            "text/plain": [
              "<Figure size 432x288 with 1 Axes>"
            ],
            "image/png": "[encoded data removed]"
          },
          "metadata": {
            "needs_background": "light"
          }
        }
      ]
    },
    {
      "cell_type": "code",
      "source": [
        "import tensorflow as tf\n",
        "\n",
        "base_model = InceptionV3(weights='imagenet', include_top=False)\n",
        "input = Input(shape=(300,300,3),name='input1')\n",
        "input_gender = Input(shape=(1,),dtype='float32',name='input2')\n",
        "input_age = Input(shape=(2,114),dtype='float32',name='input3')\n",
        "output = base_model(input)\n",
        "gender_embedding=Dense(16)(input_gender)\n",
        "print (K.int_shape(output))\n",
        "sq = keras.layers.GlobalAveragePooling2D()(output)\n",
        "print (K.int_shape(sq))\n",
        "sq = keras.layers.Reshape((1,1,2048))(sq)\n",
        "sq = keras.layers.Dense(units=2048,activation=\"sigmoid\")(sq)\n",
        "block = keras.layers.multiply([output,sq])\n",
        "#fine Squeeze and Excitation 1\n",
        "\n",
        "net = keras.layers.add([output,block])\n",
        "net = keras.layers.BatchNormalization()(net)\n",
        "net = keras.layers.Activation(\"relu\")(net)\n",
        "net = keras.layers.MaxPooling2D(pool_size=(2, 2),name=\"block_1\")(net)\n",
        "print (K.int_shape(net))\n",
        "\n",
        "x = keras.layers.MaxPooling2D(pool_size=(4,4))(net)\n",
        "print (K.int_shape(x))\n",
        "x=Flatten()(x)\n",
        "f = keras.layers.Concatenate(axis=1)([x,gender_embedding])\n",
        "f = Dense(256, activation='relu')(f)\n",
        "x =Dense(228,activation='linear')(f)\n",
        "y=Flatten()(input_age)\n",
        "print(y.shape)\n",
        "f = keras.layers.Multiply()([x,y])\n",
        "predictions=Dense(1)(f)\n",
        "\n",
        "#Embedding = keras.layers.Conv2D(256,kernel_size=(2,2),strides=1)(output)\n",
        "#Embedding = keras.layers.AveragePooling2D(pool_size=(7,7))(Embedding)\n",
        "#Embedding = Flatten()(Embedding)\n",
        "#print (K.int_shape(Embedding))\n",
        "#variance = Dense(1)(Embedding)\n",
        "\n",
        "model = Model(inputs=[input,input_gender,input_age], outputs=predictions)\n",
        "for i,layer in enumerate(model.layers):\n",
        "    print (i,layer.name)\n",
        "\n",
        "Adam=tf.keras.optimizers.Adam(lr=0.0001,beta_1=0.9,beta_2=0.999)\n",
        "model.compile(optimizer=Adam, loss='mean_absolute_error', metrics=['MAE'],run_eagerly=True)\n",
        "model.summary()\n",
        "\n",
        "checkpoint =keras.callbacks.ModelCheckpoint(filepath='weights_inv-mul_sq_aug20_loss_dimg.{epoch:02d}-{val_loss:.2f}.hdf5',save_weights_only=True,period=20)\n",
        "#model.fit_generator(DataGen.flow([x_train,gender_train],y_train,batch_size=batch_size),steps_per_epoch=np.ceil(len(y_train)/batch_size),epochs=50,verbose=1,validation_data=([x_valid,gender_valid,agev],y_valid))\n",
        "history2=model.fit([train_x,train_gen,agetr],train_y,batch_size=4,epochs=20,verbose=1,validation_data=([valid_x,valid_gen,agev],valid_y),callbacks = [checkpoint])\n",
        "score = model.evaluate([test_x,test_gen,aget],test_y, batch_size=batch_size)\n",
        "print('Test loss:', score[0])\n",
        "print('Test MAE:', score[1])"
      ],
      "metadata": {
        "colab": {
          "base_uri": "https://localhost:8080/"
        },
        "id": "SO8GnGbdTS7l",
        "outputId": "7db57b48-fcf1-4a9a-d423-be1545aa4143"
      },
      "execution_count": null,
      "outputs": [
        {
          "output_type": "stream",
          "name": "stdout",
          "text": [
            "(None, 8, 8, 2048)\n",
            "(None, 2048)\n",
            "(None, 4, 4, 2048)\n",
            "(None, 1, 1, 2048)\n",
            "(None, 228)\n",
            "0 input1\n",
            "1 inception_v3\n",
            "2 global_average_pooling2d\n",
            "3 reshape\n",
            "4 dense_9\n",
            "5 multiply_1\n",
            "6 add\n",
            "7 batch_normalization_188\n",
            "8 activation_188\n",
            "9 block_1\n",
            "10 max_pooling2d_9\n",
            "11 input2\n",
            "12 flatten_2\n",
            "13 dense_8\n",
            "14 concatenate_5\n",
            "15 dense_10\n",
            "16 input3\n",
            "17 dense_11\n",
            "18 flatten_3\n",
            "19 multiply_2\n",
            "20 dense_12\n",
            "Model: \"model_1\"\n",
            "__________________________________________________________________________________________________\n",
            " Layer (type)                   Output Shape         Param #     Connected to                     \n",
            "==================================================================================================\n",
            " input1 (InputLayer)            [(None, 300, 300, 3  0           []                               \n",
            "                                )]                                                                \n",
            "                                                                                                  \n",
            " inception_v3 (Functional)      (None, None, None,   21802784    ['input1[0][0]']                 \n",
            "                                2048)                                                             \n",
            "                                                                                                  \n",
            " global_average_pooling2d (Glob  (None, 2048)        0           ['inception_v3[0][0]']           \n",
            " alAveragePooling2D)                                                                              \n",
            "                                                                                                  \n",
            " reshape (Reshape)              (None, 1, 1, 2048)   0           ['global_average_pooling2d[0][0]'\n",
            "                                                                 ]                                \n",
            "                                                                                                  \n",
            " dense_9 (Dense)                (None, 1, 1, 2048)   4196352     ['reshape[0][0]']                \n",
            "                                                                                                  \n",
            " multiply_1 (Multiply)          (None, 8, 8, 2048)   0           ['inception_v3[0][0]',           \n",
            "                                                                  'dense_9[0][0]']                \n",
            "                                                                                                  \n",
            " add (Add)                      (None, 8, 8, 2048)   0           ['inception_v3[0][0]',           \n",
            "                                                                  'multiply_1[0][0]']             \n",
            "                                                                                                  \n",
            " batch_normalization_188 (Batch  (None, 8, 8, 2048)  8192        ['add[0][0]']                    \n",
            " Normalization)                                                                                   \n",
            "                                                                                                  \n",
            " activation_188 (Activation)    (None, 8, 8, 2048)   0           ['batch_normalization_188[0][0]']\n",
            "                                                                                                  \n",
            " block_1 (MaxPooling2D)         (None, 4, 4, 2048)   0           ['activation_188[0][0]']         \n",
            "                                                                                                  \n",
            " max_pooling2d_9 (MaxPooling2D)  (None, 1, 1, 2048)  0           ['block_1[0][0]']                \n",
            "                                                                                                  \n",
            " input2 (InputLayer)            [(None, 1)]          0           []                               \n",
            "                                                                                                  \n",
            " flatten_2 (Flatten)            (None, 2048)         0           ['max_pooling2d_9[0][0]']        \n",
            "                                                                                                  \n",
            " dense_8 (Dense)                (None, 16)           32          ['input2[0][0]']                 \n",
            "                                                                                                  \n",
            " concatenate_5 (Concatenate)    (None, 2064)         0           ['flatten_2[0][0]',              \n",
            "                                                                  'dense_8[0][0]']                \n",
            "                                                                                                  \n",
            " dense_10 (Dense)               (None, 256)          528640      ['concatenate_5[0][0]']          \n",
            "                                                                                                  \n",
            " input3 (InputLayer)            [(None, 2, 114)]     0           []                               \n",
            "                                                                                                  \n",
            " dense_11 (Dense)               (None, 228)          58596       ['dense_10[0][0]']               \n",
            "                                                                                                  \n",
            " flatten_3 (Flatten)            (None, 228)          0           ['input3[0][0]']                 \n",
            "                                                                                                  \n",
            " multiply_2 (Multiply)          (None, 228)          0           ['dense_11[0][0]',               \n",
            "                                                                  'flatten_3[0][0]']              \n",
            "                                                                                                  \n",
            " dense_12 (Dense)               (None, 1)            229         ['multiply_2[0][0]']             \n",
            "                                                                                                  \n",
            "==================================================================================================\n",
            "Total params: 26,594,825\n",
            "Trainable params: 26,556,297\n",
            "Non-trainable params: 38,528\n",
            "__________________________________________________________________________________________________\n"
          ]
        },
        {
          "output_type": "stream",
          "name": "stderr",
          "text": [
            "/usr/local/lib/python3.8/dist-packages/keras/optimizers/optimizer_v2/adam.py:110: UserWarning: The `lr` argument is deprecated, use `learning_rate` instead.\n",
            "  super(Adam, self).__init__(name, **kwargs)\n",
            "WARNING:tensorflow:`period` argument is deprecated. Please use `save_freq` to specify the frequency in number of batches seen.\n"
          ]
        },
        {
          "output_type": "stream",
          "name": "stdout",
          "text": [
            "Epoch 1/20\n",
            "840/840 [==============================] - 233s 278ms/step - loss: 102.2936 - MAE: 102.2936 - val_loss: 43.4669 - val_MAE: 43.4669\n",
            "Epoch 2/20\n",
            "840/840 [==============================] - 233s 277ms/step - loss: 31.4606 - MAE: 31.4606 - val_loss: 27.5518 - val_MAE: 27.5518\n",
            "Epoch 3/20\n",
            "840/840 [==============================] - 232s 276ms/step - loss: 25.6858 - MAE: 25.6858 - val_loss: 25.7798 - val_MAE: 25.7798\n",
            "Epoch 4/20\n",
            "840/840 [==============================] - 233s 277ms/step - loss: 22.9624 - MAE: 22.9624 - val_loss: 21.7091 - val_MAE: 21.7091\n",
            "Epoch 5/20\n",
            "840/840 [==============================] - 232s 276ms/step - loss: 19.9708 - MAE: 19.9708 - val_loss: 21.0366 - val_MAE: 21.0366\n",
            "Epoch 6/20\n",
            "840/840 [==============================] - 232s 276ms/step - loss: 18.2665 - MAE: 18.2665 - val_loss: 17.2799 - val_MAE: 17.2799\n",
            "Epoch 7/20\n",
            "840/840 [==============================] - 232s 276ms/step - loss: 18.6088 - MAE: 18.6088 - val_loss: 18.3094 - val_MAE: 18.3094\n",
            "Epoch 8/20\n",
            "840/840 [==============================] - 231s 275ms/step - loss: 16.3278 - MAE: 16.3278 - val_loss: 19.2082 - val_MAE: 19.2082\n",
            "Epoch 9/20\n",
            "840/840 [==============================] - 231s 275ms/step - loss: 16.2753 - MAE: 16.2753 - val_loss: 20.0369 - val_MAE: 20.0369\n",
            "Epoch 10/20\n",
            "840/840 [==============================] - 231s 275ms/step - loss: 15.1826 - MAE: 15.1826 - val_loss: 15.6032 - val_MAE: 15.6032\n",
            "Epoch 11/20\n",
            "840/840 [==============================] - 230s 274ms/step - loss: 14.6372 - MAE: 14.6372 - val_loss: 14.2077 - val_MAE: 14.2077\n",
            "Epoch 12/20\n",
            "840/840 [==============================] - 230s 274ms/step - loss: 13.5721 - MAE: 13.5721 - val_loss: 13.9119 - val_MAE: 13.9119\n",
            "Epoch 13/20\n",
            "840/840 [==============================] - 229s 273ms/step - loss: 13.3356 - MAE: 13.3356 - val_loss: 15.9830 - val_MAE: 15.9830\n",
            "Epoch 14/20\n",
            "840/840 [==============================] - 230s 273ms/step - loss: 13.2159 - MAE: 13.2159 - val_loss: 20.3454 - val_MAE: 20.3454\n",
            "Epoch 15/20\n",
            "840/840 [==============================] - 230s 273ms/step - loss: 12.3773 - MAE: 12.3773 - val_loss: 15.8662 - val_MAE: 15.8662\n",
            "Epoch 16/20\n",
            "840/840 [==============================] - 230s 274ms/step - loss: 12.0958 - MAE: 12.0958 - val_loss: 12.2624 - val_MAE: 12.2624\n",
            "Epoch 17/20\n",
            "840/840 [==============================] - 229s 273ms/step - loss: 11.5428 - MAE: 11.5428 - val_loss: 11.3882 - val_MAE: 11.3882\n",
            "Epoch 18/20\n",
            "840/840 [==============================] - 229s 273ms/step - loss: 11.0346 - MAE: 11.0346 - val_loss: 12.0289 - val_MAE: 12.0289\n",
            "Epoch 19/20\n",
            "840/840 [==============================] - 231s 275ms/step - loss: 10.5209 - MAE: 10.5209 - val_loss: 12.8209 - val_MAE: 12.8209\n",
            "Epoch 20/20\n",
            "840/840 [==============================] - 231s 275ms/step - loss: 10.1030 - MAE: 10.1030 - val_loss: 11.6104 - val_MAE: 11.6104\n",
            "355/355 [==============================] - 38s 106ms/step - loss: 11.1291 - MAE: 11.1291\n",
            "Test loss: 11.129112243652344\n",
            "Test MAE: 11.129112243652344\n"
          ]
        }
      ]
    },
    {
      "cell_type": "code",
      "source": [
        "plt.plot(history2.history['loss'])\n",
        "plt.plot(history2.history['val_loss'])\n",
        "plt.title('nv-mul_sq_aug20_loss Model loss')\n",
        "plt.ylabel('Loss')\n",
        "plt.xlabel('Epoch')\n",
        "plt.legend(['Train', 'Validation'], loc='upper left')\n",
        "plt.show()"
      ],
      "metadata": {
        "id": "nWyMoUWp8TLb",
        "colab": {
          "base_uri": "https://localhost:8080/",
          "height": 295
        },
        "outputId": "3729f743-465b-45af-976e-c0b977d58847"
      },
      "execution_count": null,
      "outputs": [
        {
          "output_type": "display_data",
          "data": {
            "text/plain": [
              "<Figure size 432x288 with 1 Axes>"
            ],
            "image/png": "[encoded data removed]"
          },
          "metadata": {
            "needs_background": "light"
          }
        }
      ]
    },
    {
      "cell_type": "code",
      "source": [
        "checkpoint =keras.callbacks.ModelCheckpoint(filepath='weights_inv-mul_sq_aug20_loss_dimg.{epoch:02d}-{val_loss:.2f}.hdf5',save_weights_only=True,period=20)\n",
        "#model.fit_generator(DataGen.flow([x_train,gender_train],y_train,batch_size=batch_size),steps_per_epoch=np.ceil(len(y_train)/batch_size),epochs=50,verbose=1,validation_data=([x_valid,gender_valid,agev],y_valid))\n",
        "history2=model.fit([train_x,train_gen,agetr],train_y,batch_size=4,epochs=20,verbose=1,validation_data=([valid_x,valid_gen,agev],valid_y),callbacks = [checkpoint])\n",
        "score = model.evaluate([test_x,test_gen,aget],test_y, batch_size=batch_size)\n",
        "print('Test loss:', score[0])\n",
        "print('Test MAE:', score[1])"
      ],
      "metadata": {
        "colab": {
          "base_uri": "https://localhost:8080/"
        },
        "id": "lsWvCVJqlgU7",
        "outputId": "67a64194-e786-47c5-ce08-6030b133e7a2"
      },
      "execution_count": null,
      "outputs": [
        {
          "output_type": "stream",
          "name": "stderr",
          "text": [
            "WARNING:tensorflow:`period` argument is deprecated. Please use `save_freq` to specify the frequency in number of batches seen.\n"
          ]
        },
        {
          "output_type": "stream",
          "name": "stdout",
          "text": [
            "Epoch 1/20\n",
            "840/840 [==============================] - 234s 278ms/step - loss: 9.5457 - MAE: 9.5457 - val_loss: 12.1041 - val_MAE: 12.1041\n",
            "Epoch 2/20\n",
            "840/840 [==============================] - 232s 276ms/step - loss: 9.4274 - MAE: 9.4274 - val_loss: 11.4834 - val_MAE: 11.4834\n",
            "Epoch 3/20\n",
            "840/840 [==============================] - 233s 277ms/step - loss: 8.9323 - MAE: 8.9323 - val_loss: 11.7192 - val_MAE: 11.7192\n",
            "Epoch 4/20\n",
            "840/840 [==============================] - 235s 279ms/step - loss: 9.2046 - MAE: 9.2046 - val_loss: 12.2934 - val_MAE: 12.2934\n",
            "Epoch 5/20\n",
            "840/840 [==============================] - 233s 277ms/step - loss: 9.2037 - MAE: 9.2037 - val_loss: 13.4891 - val_MAE: 13.4891\n",
            "Epoch 6/20\n",
            "840/840 [==============================] - 232s 276ms/step - loss: 9.2230 - MAE: 9.2230 - val_loss: 11.0506 - val_MAE: 11.0506\n",
            "Epoch 7/20\n",
            "840/840 [==============================] - 231s 275ms/step - loss: 8.4616 - MAE: 8.4616 - val_loss: 10.1329 - val_MAE: 10.1329\n",
            "Epoch 8/20\n",
            "840/840 [==============================] - 230s 274ms/step - loss: 8.5482 - MAE: 8.5482 - val_loss: 10.5887 - val_MAE: 10.5887\n",
            "Epoch 9/20\n",
            "840/840 [==============================] - 232s 276ms/step - loss: 8.1818 - MAE: 8.1818 - val_loss: 16.7257 - val_MAE: 16.7257\n",
            "Epoch 10/20\n",
            "840/840 [==============================] - 230s 274ms/step - loss: 7.6994 - MAE: 7.6994 - val_loss: 11.3518 - val_MAE: 11.3518\n",
            "Epoch 11/20\n",
            "840/840 [==============================] - 230s 274ms/step - loss: 7.4924 - MAE: 7.4924 - val_loss: 13.0374 - val_MAE: 13.0374\n",
            "Epoch 12/20\n",
            "840/840 [==============================] - 230s 274ms/step - loss: 7.6220 - MAE: 7.6220 - val_loss: 11.2634 - val_MAE: 11.2634\n",
            "Epoch 13/20\n",
            "840/840 [==============================] - 230s 274ms/step - loss: 7.3049 - MAE: 7.3049 - val_loss: 10.9694 - val_MAE: 10.9694\n",
            "Epoch 14/20\n",
            "840/840 [==============================] - 230s 274ms/step - loss: 7.1238 - MAE: 7.1238 - val_loss: 10.5708 - val_MAE: 10.5708\n",
            "Epoch 15/20\n",
            "840/840 [==============================] - 230s 274ms/step - loss: 7.2771 - MAE: 7.2771 - val_loss: 12.3650 - val_MAE: 12.3650\n",
            "Epoch 16/20\n",
            "840/840 [==============================] - 230s 274ms/step - loss: 6.9424 - MAE: 6.9424 - val_loss: 10.5113 - val_MAE: 10.5113\n",
            "Epoch 17/20\n",
            "840/840 [==============================] - 229s 272ms/step - loss: 6.7338 - MAE: 6.7338 - val_loss: 8.8929 - val_MAE: 8.8929\n",
            "Epoch 18/20\n",
            "840/840 [==============================] - 229s 273ms/step - loss: 6.6392 - MAE: 6.6392 - val_loss: 14.4516 - val_MAE: 14.4516\n",
            "Epoch 19/20\n",
            "840/840 [==============================] - 230s 274ms/step - loss: 6.2084 - MAE: 6.2084 - val_loss: 8.9425 - val_MAE: 8.9425\n",
            "Epoch 20/20\n",
            "840/840 [==============================] - 230s 274ms/step - loss: 6.6918 - MAE: 6.6918 - val_loss: 11.0914 - val_MAE: 11.0914\n",
            "355/355 [==============================] - 37s 105ms/step - loss: 9.5338 - MAE: 9.5338\n",
            "Test loss: 9.533849716186523\n",
            "Test MAE: 9.533849716186523\n"
          ]
        }
      ]
    },
    {
      "cell_type": "code",
      "source": [
        "plt.plot(history2.history['loss'])\n",
        "plt.plot(history2.history['val_loss'])\n",
        "plt.title('nv-mul_sq_aug20_loss Model loss')\n",
        "plt.ylabel('Loss')\n",
        "plt.xlabel('Epoch')\n",
        "plt.legend(['Train', 'Validation'], loc='upper left')\n",
        "plt.show()"
      ],
      "metadata": {
        "colab": {
          "base_uri": "https://localhost:8080/",
          "height": 295
        },
        "id": "8pptU2SW3ZFp",
        "outputId": "978920d6-4d01-47c1-e466-9c9b0d8e5b46"
      },
      "execution_count": null,
      "outputs": [
        {
          "output_type": "display_data",
          "data": {
            "text/plain": [
              "<Figure size 432x288 with 1 Axes>"
            ],
            "image/png": "[encoded data removed]"
          },
          "metadata": {
            "needs_background": "light"
          }
        }
      ]
    },
    {
      "cell_type": "code",
      "source": [
        "import tensorflow as tf\n",
        "\n",
        "base_model = InceptionV3(weights='imagenet', include_top=False)\n",
        "input = Input(shape=(300,300,3),name='input1')\n",
        "input_gender = Input(shape=(1,),dtype='float32',name='input2')\n",
        "input_age = Input(shape=(2,114),dtype='float32',name='input3')\n",
        "output = base_model(input)\n",
        "gender_embedding=Dense(16)(input_gender)\n",
        "print (K.int_shape(output))\n",
        "sq = keras.layers.GlobalAveragePooling2D()(output)\n",
        "print (K.int_shape(sq))\n",
        "sq = keras.layers.Reshape((1,1,2048))(sq)\n",
        "sq = keras.layers.Dense(units=2048,activation=\"sigmoid\")(sq)\n",
        "block = keras.layers.multiply([output,sq])\n",
        "#fine Squeeze and Excitation 1\n",
        "\n",
        "net = keras.layers.add([output,block])\n",
        "net = keras.layers.BatchNormalization()(net)\n",
        "net = keras.layers.Activation(\"relu\")(net)\n",
        "net = keras.layers.MaxPooling2D(pool_size=(2, 2),name=\"block_1\")(net)\n",
        "print (K.int_shape(net))\n",
        "\n",
        "x = keras.layers.MaxPooling2D(pool_size=(4,4))(net)\n",
        "print (K.int_shape(x))\n",
        "x=Flatten()(x)\n",
        "f = keras.layers.Concatenate(axis=1)([x,gender_embedding])\n",
        "f = Dense(256, activation='relu')(f)\n",
        "x =Dense(228,activation='linear')(f)\n",
        "y=Flatten()(input_age)\n",
        "print(y.shape)\n",
        "f = keras.layers.Multiply()([x,y])\n",
        "predictions=Dense(1)(f)\n",
        "\n",
        "#Embedding = keras.layers.Conv2D(256,kernel_size=(2,2),strides=1)(output)\n",
        "#Embedding = keras.layers.AveragePooling2D(pool_size=(7,7))(Embedding)\n",
        "#Embedding = Flatten()(Embedding)\n",
        "#print (K.int_shape(Embedding))\n",
        "#variance = Dense(1)(Embedding)\n",
        "\n",
        "model = Model(inputs=[input,input_gender,input_age], outputs=predictions)\n",
        "for i,layer in enumerate(model.layers):\n",
        "    print (i,layer.name)\n",
        "\n",
        "Adam=tf.keras.optimizers.Adam(lr=0.0003,beta_1=0.9,beta_2=0.999)\n",
        "model.compile(optimizer=Adam, loss='mean_absolute_error', metrics=['MAE'],run_eagerly=True)\n",
        "model.summary()\n",
        "\n",
        "checkpoint =keras.callbacks.ModelCheckpoint(filepath='weights_inv-mul_sq_aug20_loss_dimg.{epoch:02d}-{val_loss:.2f}.hdf5',save_weights_only=True,period=20)\n",
        "#model.fit_generator(DataGen.flow([x_train,gender_train],y_train,batch_size=batch_size),steps_per_epoch=np.ceil(len(y_train)/batch_size),epochs=50,verbose=1,validation_data=([x_valid,gender_valid,agev],y_valid))\n",
        "history2=model.fit([train_x,train_gen,agetr],train_y,batch_size=4,epochs=20,verbose=1,validation_data=([valid_x,valid_gen,agev],valid_y),callbacks = [checkpoint])\n",
        "score = model.evaluate([test_x,test_gen,aget],test_y, batch_size=batch_size)\n",
        "print('Test loss:', score[0])\n",
        "print('Test MAE:', score[1])\n"
      ],
      "metadata": {
        "colab": {
          "base_uri": "https://localhost:8080/"
        },
        "id": "DVxNxbVc3lx3",
        "outputId": "206c8130-d249-4452-f600-df37be5c35fc"
      },
      "execution_count": null,
      "outputs": [
        {
          "output_type": "stream",
          "name": "stdout",
          "text": [
            "(None, 8, 8, 2048)\n",
            "(None, 2048)\n",
            "(None, 4, 4, 2048)\n",
            "(None, 1, 1, 2048)\n",
            "(None, 228)\n",
            "0 input1\n",
            "1 inception_v3\n",
            "2 global_average_pooling2d\n",
            "3 reshape\n",
            "4 dense_1\n",
            "5 multiply\n",
            "6 add\n",
            "7 batch_normalization_94\n",
            "8 activation_94\n",
            "9 block_1\n",
            "10 max_pooling2d_4\n",
            "11 input2\n",
            "12 flatten\n",
            "13 dense\n",
            "14 concatenate_2\n",
            "15 dense_2\n",
            "16 input3\n",
            "17 dense_3\n",
            "18 flatten_1\n",
            "19 multiply_1\n",
            "20 dense_4\n",
            "Model: \"model\"\n",
            "__________________________________________________________________________________________________\n",
            " Layer (type)                   Output Shape         Param #     Connected to                     \n",
            "==================================================================================================\n",
            " input1 (InputLayer)            [(None, 300, 300, 3  0           []                               \n",
            "                                )]                                                                \n",
            "                                                                                                  \n",
            " inception_v3 (Functional)      (None, None, None,   21802784    ['input1[0][0]']                 \n",
            "                                2048)                                                             \n",
            "                                                                                                  \n",
            " global_average_pooling2d (Glob  (None, 2048)        0           ['inception_v3[0][0]']           \n",
            " alAveragePooling2D)                                                                              \n",
            "                                                                                                  \n",
            " reshape (Reshape)              (None, 1, 1, 2048)   0           ['global_average_pooling2d[0][0]'\n",
            "                                                                 ]                                \n",
            "                                                                                                  \n",
            " dense_1 (Dense)                (None, 1, 1, 2048)   4196352     ['reshape[0][0]']                \n",
            "                                                                                                  \n",
            " multiply (Multiply)            (None, 8, 8, 2048)   0           ['inception_v3[0][0]',           \n",
            "                                                                  'dense_1[0][0]']                \n",
            "                                                                                                  \n",
            " add (Add)                      (None, 8, 8, 2048)   0           ['inception_v3[0][0]',           \n",
            "                                                                  'multiply[0][0]']               \n",
            "                                                                                                  \n",
            " batch_normalization_94 (BatchN  (None, 8, 8, 2048)  8192        ['add[0][0]']                    \n",
            " ormalization)                                                                                    \n",
            "                                                                                                  \n",
            " activation_94 (Activation)     (None, 8, 8, 2048)   0           ['batch_normalization_94[0][0]'] \n",
            "                                                                                                  \n",
            " block_1 (MaxPooling2D)         (None, 4, 4, 2048)   0           ['activation_94[0][0]']          \n",
            "                                                                                                  \n",
            " max_pooling2d_4 (MaxPooling2D)  (None, 1, 1, 2048)  0           ['block_1[0][0]']                \n",
            "                                                                                                  \n",
            " input2 (InputLayer)            [(None, 1)]          0           []                               \n",
            "                                                                                                  \n",
            " flatten (Flatten)              (None, 2048)         0           ['max_pooling2d_4[0][0]']        \n",
            "                                                                                                  \n",
            " dense (Dense)                  (None, 16)           32          ['input2[0][0]']                 \n",
            "                                                                                                  \n",
            " concatenate_2 (Concatenate)    (None, 2064)         0           ['flatten[0][0]',                \n",
            "                                                                  'dense[0][0]']                  \n",
            "                                                                                                  \n",
            " dense_2 (Dense)                (None, 256)          528640      ['concatenate_2[0][0]']          \n",
            "                                                                                                  \n",
            " input3 (InputLayer)            [(None, 2, 114)]     0           []                               \n",
            "                                                                                                  \n",
            " dense_3 (Dense)                (None, 228)          58596       ['dense_2[0][0]']                \n",
            "                                                                                                  \n",
            " flatten_1 (Flatten)            (None, 228)          0           ['input3[0][0]']                 \n",
            "                                                                                                  \n",
            " multiply_1 (Multiply)          (None, 228)          0           ['dense_3[0][0]',                \n",
            "                                                                  'flatten_1[0][0]']              \n",
            "                                                                                                  \n",
            " dense_4 (Dense)                (None, 1)            229         ['multiply_1[0][0]']             \n",
            "                                                                                                  \n",
            "==================================================================================================\n",
            "Total params: 26,594,825\n",
            "Trainable params: 26,556,297\n",
            "Non-trainable params: 38,528\n",
            "__________________________________________________________________________________________________\n"
          ]
        },
        {
          "output_type": "stream",
          "name": "stderr",
          "text": [
            "/usr/local/lib/python3.8/dist-packages/keras/optimizers/optimizer_v2/adam.py:110: UserWarning: The `lr` argument is deprecated, use `learning_rate` instead.\n",
            "  super(Adam, self).__init__(name, **kwargs)\n",
            "WARNING:tensorflow:`period` argument is deprecated. Please use `save_freq` to specify the frequency in number of batches seen.\n"
          ]
        },
        {
          "output_type": "stream",
          "name": "stdout",
          "text": [
            "Epoch 1/20\n",
            "840/840 [==============================] - 246s 282ms/step - loss: 62.9293 - MAE: 62.9293 - val_loss: 23.7555 - val_MAE: 23.7555\n",
            "Epoch 2/20\n",
            "840/840 [==============================] - 232s 277ms/step - loss: 27.4268 - MAE: 27.4268 - val_loss: 28.3828 - val_MAE: 28.3828\n",
            "Epoch 3/20\n",
            "840/840 [==============================] - 233s 277ms/step - loss: 25.2061 - MAE: 25.2061 - val_loss: 32.5506 - val_MAE: 32.5506\n",
            "Epoch 4/20\n",
            "840/840 [==============================] - ETA: 0s - loss: 24.2913 - MAE: 24.2913"
          ]
        }
      ]
    },
    {
      "cell_type": "markdown",
      "source": [
        "#model-2"
      ],
      "metadata": {
        "id": "k3xGdsAhOPco"
      }
    },
    {
      "cell_type": "code",
      "source": [
        "def channel_attention(input_feature):\n",
        "  kernel_initializer = tf.keras.initializers.variance_scaling()\n",
        "  bias_initializer = tf.constant_initializer(value=0.0)\n",
        "  channel = input_feature.get_shape()[-1]\n",
        "  ratio=8\n",
        "  avg_pool = tf.reduce_mean(input_feature, axis=[1,2], keepdims=True)\n",
        "  assert avg_pool.get_shape()[1:] == (1,1,channel)\n",
        "  avg_pool =Dense(\n",
        "                                 units=channel//ratio,\n",
        "                                 activation=tf.nn.relu,\n",
        "                                 kernel_initializer=kernel_initializer,\n",
        "                                 bias_initializer=bias_initializer) (avg_pool)\n",
        "  assert avg_pool.get_shape()[1:] == (1,1,channel//ratio)\n",
        "  avg_pool = Dense(\n",
        "                                 units=channel,                             \n",
        "                                 kernel_initializer=kernel_initializer,\n",
        "                                 bias_initializer=bias_initializer)  (avg_pool)  \n",
        "  assert avg_pool.get_shape()[1:] == (1,1,channel)\n",
        "\n",
        "  max_pool = tf.reduce_max(input_feature, axis=[1,2], keepdims=True)    \n",
        "  assert max_pool.get_shape()[1:] == (1,1,channel)\n",
        "  max_pool = Dense(\n",
        "                                 units=channel//ratio,\n",
        "                                 activation=tf.nn.relu) (max_pool)  \n",
        "  assert max_pool.get_shape()[1:] == (1,1,channel//ratio)\n",
        "  max_pool = Dense(\n",
        "                                 units=channel)  (max_pool)\n",
        "  assert max_pool.get_shape()[1:] == (1,1,channel)\n",
        "\n",
        "  scale = tf.keras.activations.sigmoid(avg_pool + max_pool) \n",
        "  return input_feature * scale"
      ],
      "metadata": {
        "id": "3w-khr7K7MXw"
      },
      "execution_count": null,
      "outputs": []
    },
    {
      "cell_type": "code",
      "source": [
        "def spatial_attention(input_feature):\n",
        "  kernel_size = 7\n",
        "  kernel_initializer = tf.keras.initializers.variance_scaling()\n",
        "\n",
        "  avg_pool = tf.reduce_mean(input_feature, axis=[3], keepdims=True)\n",
        "  assert avg_pool.get_shape()[-1] == 1\n",
        "  max_pool = tf.reduce_max(input_feature, axis=[3], keepdims=True)\n",
        "  assert max_pool.get_shape()[-1] == 1\n",
        "  concat = tf.concat([avg_pool,max_pool], 3)\n",
        "  assert concat.get_shape()[-1] == 2\n",
        "\n",
        "  concat = Conv2D(\n",
        "                              filters=1,\n",
        "                              kernel_size=[kernel_size,kernel_size],\n",
        "                              strides=[1,1],\n",
        "                              padding=\"same\",\n",
        "                              activation=None,\n",
        "                              kernel_initializer=kernel_initializer,\n",
        "                              use_bias=False)(concat)\n",
        "  assert concat.get_shape()[-1] == 1\n",
        "  concat = tf.keras.activations.sigmoid(concat)\n",
        "    \n",
        "  return input_feature * concat"
      ],
      "metadata": {
        "id": "4Fqwpdfq7QRK"
      },
      "execution_count": null,
      "outputs": []
    },
    {
      "cell_type": "code",
      "source": [
        "import tensorflow as tf\n",
        "\n",
        "base_model = InceptionV3(weights='imagenet', include_top=False)\n",
        "input = Input(shape=(300,300,3),name='input1')\n",
        "input_gender = Input(shape=(1,),dtype='float32',name='input2')\n",
        "input_age = Input(shape=(2,114),dtype='float32',name='input3')\n",
        "output = base_model(input)\n",
        "gender_embedding=Dense(16)(input_gender)\n",
        "print (K.int_shape(output))\n",
        "x=channel_attention(output)\n",
        "print (K.int_shape(x))\n",
        "x=spatial_attention(x)\n",
        "print (K.int_shape(x))\n",
        "x = keras.layers.MaxPooling2D(pool_size=(4,4))(x)\n",
        "f=Flatten()(x)\n",
        "f = Dense(256, activation='relu')(f)\n",
        "x =Dense(228,activation='linear')(f)\n",
        "y=Flatten()(input_age)\n",
        "print(y.shape)\n",
        "f = keras.layers.Multiply()([x,y])\n",
        "f = keras.layers.Concatenate(axis=1)([f,gender_embedding])\n",
        "predictions=Dense(1)(f)\n",
        "\n",
        "model = Model(inputs=[input,input_gender,input_age], outputs=predictions)\n",
        "for i,layer in enumerate(model.layers):\n",
        "    print (i,layer.name)\n",
        "\n",
        "Adam=tf.keras.optimizers.Adam(lr=0.0001,beta_1=0.9,beta_2=0.999)\n",
        "model.compile(optimizer=Adam, loss='mean_absolute_error', metrics=['MAE'])\n",
        "model.summary()\n",
        "\n",
        "checkpoint =keras.callbacks.ModelCheckpoint(filepath='weights_inv-mul_cam_aug_ndimg.{epoch:02d}-{val_loss:.2f}.hdf5',save_weights_only=True,period=20)\n",
        "#model.fit_generator(DataGen.flow([x_train,gender_train],y_train,batch_size=batch_size),steps_per_epoch=np.ceil(len(y_train)/batch_size),epochs=50,verbose=1,validation_data=([x_valid,gender_valid,agev],y_valid))\n",
        "history1=model.fit([train_x,train_gen,agetr],train_y,batch_size=4,epochs=20,verbose=1,validation_data=([valid_x,valid_gen,agev],valid_y),callbacks = [checkpoint])\n",
        "score = model.evaluate([test_x,test_gen,aget],test_y, batch_size=batch_size)\n",
        "print('Test loss:', score[0])\n",
        "print('Test MAE:', score[1])"
      ],
      "metadata": {
        "id": "o-fLaCDA8Nnh",
        "colab": {
          "base_uri": "https://localhost:8080/"
        },
        "outputId": "d683ac6c-d3d4-4811-b0dd-16b3abff7303"
      },
      "execution_count": null,
      "outputs": [
        {
          "output_type": "stream",
          "name": "stdout",
          "text": [
            "Downloading data from https://storage.googleapis.com/tensorflow/keras-applications/inception_v3/inception_v3_weights_tf_dim_ordering_tf_kernels_notop.h5\n",
            "87910968/87910968 [==============================] - 1s 0us/step\n",
            "(None, 8, 8, 2048)\n",
            "(None, 8, 8, 2048)\n",
            "(None, 8, 8, 2048)\n",
            "(None, 228)\n",
            "0 input1\n",
            "1 inception_v3\n",
            "2 tf.math.reduce_mean\n",
            "3 tf.math.reduce_max\n",
            "4 dense_1\n",
            "5 dense_3\n",
            "6 dense_2\n",
            "7 dense_4\n",
            "8 tf.__operators__.add\n",
            "9 tf.math.sigmoid\n",
            "10 tf.math.multiply\n",
            "11 tf.math.reduce_mean_1\n",
            "12 tf.math.reduce_max_1\n",
            "13 tf.concat\n",
            "14 conv2d_94\n",
            "15 tf.math.sigmoid_1\n",
            "16 tf.math.multiply_1\n",
            "17 max_pooling2d_4\n",
            "18 flatten\n",
            "19 dense_5\n",
            "20 input3\n",
            "21 dense_6\n",
            "22 flatten_1\n",
            "23 input2\n",
            "24 multiply\n",
            "25 dense\n",
            "26 concatenate_2\n",
            "27 dense_7\n",
            "Model: \"model\"\n",
            "__________________________________________________________________________________________________\n",
            " Layer (type)                   Output Shape         Param #     Connected to                     \n",
            "==================================================================================================\n",
            " input1 (InputLayer)            [(None, 300, 300, 3  0           []                               \n",
            "                                )]                                                                \n",
            "                                                                                                  \n",
            " inception_v3 (Functional)      (None, None, None,   21802784    ['input1[0][0]']                 \n",
            "                                2048)                                                             \n",
            "                                                                                                  \n",
            " tf.math.reduce_mean (TFOpLambd  (None, 1, 1, 2048)  0           ['inception_v3[0][0]']           \n",
            " a)                                                                                               \n",
            "                                                                                                  \n",
            " tf.math.reduce_max (TFOpLambda  (None, 1, 1, 2048)  0           ['inception_v3[0][0]']           \n",
            " )                                                                                                \n",
            "                                                                                                  \n",
            " dense_1 (Dense)                (None, 1, 1, 256)    524544      ['tf.math.reduce_mean[0][0]']    \n",
            "                                                                                                  \n",
            " dense_3 (Dense)                (None, 1, 1, 256)    524544      ['tf.math.reduce_max[0][0]']     \n",
            "                                                                                                  \n",
            " dense_2 (Dense)                (None, 1, 1, 2048)   526336      ['dense_1[0][0]']                \n",
            "                                                                                                  \n",
            " dense_4 (Dense)                (None, 1, 1, 2048)   526336      ['dense_3[0][0]']                \n",
            "                                                                                                  \n",
            " tf.__operators__.add (TFOpLamb  (None, 1, 1, 2048)  0           ['dense_2[0][0]',                \n",
            " da)                                                              'dense_4[0][0]']                \n",
            "                                                                                                  \n",
            " tf.math.sigmoid (TFOpLambda)   (None, 1, 1, 2048)   0           ['tf.__operators__.add[0][0]']   \n",
            "                                                                                                  \n",
            " tf.math.multiply (TFOpLambda)  (None, 8, 8, 2048)   0           ['inception_v3[0][0]',           \n",
            "                                                                  'tf.math.sigmoid[0][0]']        \n",
            "                                                                                                  \n",
            " tf.math.reduce_mean_1 (TFOpLam  (None, 8, 8, 1)     0           ['tf.math.multiply[0][0]']       \n",
            " bda)                                                                                             \n",
            "                                                                                                  \n",
            " tf.math.reduce_max_1 (TFOpLamb  (None, 8, 8, 1)     0           ['tf.math.multiply[0][0]']       \n",
            " da)                                                                                              \n",
            "                                                                                                  \n",
            " tf.concat (TFOpLambda)         (None, 8, 8, 2)      0           ['tf.math.reduce_mean_1[0][0]',  \n",
            "                                                                  'tf.math.reduce_max_1[0][0]']   \n",
            "                                                                                                  \n",
            " conv2d_94 (Conv2D)             (None, 8, 8, 1)      98          ['tf.concat[0][0]']              \n",
            "                                                                                                  \n",
            " tf.math.sigmoid_1 (TFOpLambda)  (None, 8, 8, 1)     0           ['conv2d_94[0][0]']              \n",
            "                                                                                                  \n",
            " tf.math.multiply_1 (TFOpLambda  (None, 8, 8, 2048)  0           ['tf.math.multiply[0][0]',       \n",
            " )                                                                'tf.math.sigmoid_1[0][0]']      \n",
            "                                                                                                  \n",
            " max_pooling2d_4 (MaxPooling2D)  (None, 2, 2, 2048)  0           ['tf.math.multiply_1[0][0]']     \n",
            "                                                                                                  \n",
            " flatten (Flatten)              (None, 8192)         0           ['max_pooling2d_4[0][0]']        \n",
            "                                                                                                  \n",
            " dense_5 (Dense)                (None, 256)          2097408     ['flatten[0][0]']                \n",
            "                                                                                                  \n",
            " input3 (InputLayer)            [(None, 2, 114)]     0           []                               \n",
            "                                                                                                  \n",
            " dense_6 (Dense)                (None, 228)          58596       ['dense_5[0][0]']                \n",
            "                                                                                                  \n",
            " flatten_1 (Flatten)            (None, 228)          0           ['input3[0][0]']                 \n",
            "                                                                                                  \n",
            " input2 (InputLayer)            [(None, 1)]          0           []                               \n",
            "                                                                                                  \n",
            " multiply (Multiply)            (None, 228)          0           ['dense_6[0][0]',                \n",
            "                                                                  'flatten_1[0][0]']              \n",
            "                                                                                                  \n",
            " dense (Dense)                  (None, 16)           32          ['input2[0][0]']                 \n",
            "                                                                                                  \n",
            " concatenate_2 (Concatenate)    (None, 244)          0           ['multiply[0][0]',               \n",
            "                                                                  'dense[0][0]']                  \n",
            "                                                                                                  \n",
            " dense_7 (Dense)                (None, 1)            245         ['concatenate_2[0][0]']          \n",
            "                                                                                                  \n",
            "==================================================================================================\n",
            "Total params: 26,060,923\n",
            "Trainable params: 26,026,491\n",
            "Non-trainable params: 34,432\n",
            "__________________________________________________________________________________________________\n"
          ]
        },
        {
          "output_type": "stream",
          "name": "stderr",
          "text": [
            "/usr/local/lib/python3.8/dist-packages/keras/optimizers/optimizer_v2/adam.py:110: UserWarning: The `lr` argument is deprecated, use `learning_rate` instead.\n",
            "  super(Adam, self).__init__(name, **kwargs)\n",
            "WARNING:tensorflow:`period` argument is deprecated. Please use `save_freq` to specify the frequency in number of batches seen.\n"
          ]
        },
        {
          "output_type": "stream",
          "name": "stdout",
          "text": [
            "Epoch 1/20\n",
            "840/840 [==============================] - 98s 95ms/step - loss: 36.2595 - MAE: 36.2595 - val_loss: 21.8681 - val_MAE: 21.8681\n",
            "Epoch 2/20\n",
            "840/840 [==============================] - 75s 89ms/step - loss: 21.5872 - MAE: 21.5872 - val_loss: 20.6654 - val_MAE: 20.6654\n",
            "Epoch 3/20\n",
            "840/840 [==============================] - 75s 90ms/step - loss: 18.6622 - MAE: 18.6622 - val_loss: 20.2280 - val_MAE: 20.2280\n",
            "Epoch 4/20\n",
            "840/840 [==============================] - 75s 89ms/step - loss: 17.3663 - MAE: 17.3663 - val_loss: 18.9521 - val_MAE: 18.9521\n",
            "Epoch 5/20\n",
            "840/840 [==============================] - 75s 89ms/step - loss: 15.4758 - MAE: 15.4758 - val_loss: 22.8377 - val_MAE: 22.8377\n",
            "Epoch 6/20\n",
            "840/840 [==============================] - 75s 89ms/step - loss: 14.7708 - MAE: 14.7708 - val_loss: 17.4109 - val_MAE: 17.4109\n",
            "Epoch 7/20\n",
            "840/840 [==============================] - 75s 89ms/step - loss: 14.1709 - MAE: 14.1709 - val_loss: 17.2179 - val_MAE: 17.2179\n",
            "Epoch 8/20\n",
            "840/840 [==============================] - 75s 89ms/step - loss: 13.2508 - MAE: 13.2508 - val_loss: 13.7053 - val_MAE: 13.7053\n",
            "Epoch 9/20\n",
            "840/840 [==============================] - 75s 89ms/step - loss: 12.4767 - MAE: 12.4767 - val_loss: 16.3296 - val_MAE: 16.3296\n",
            "Epoch 10/20\n",
            "840/840 [==============================] - 75s 89ms/step - loss: 12.4854 - MAE: 12.4854 - val_loss: 14.9532 - val_MAE: 14.9532\n",
            "Epoch 11/20\n",
            "840/840 [==============================] - 75s 89ms/step - loss: 11.7378 - MAE: 11.7378 - val_loss: 15.3508 - val_MAE: 15.3508\n",
            "Epoch 12/20\n",
            "840/840 [==============================] - 75s 89ms/step - loss: 10.8875 - MAE: 10.8875 - val_loss: 13.3909 - val_MAE: 13.3909\n",
            "Epoch 13/20\n",
            "840/840 [==============================] - 75s 89ms/step - loss: 10.2262 - MAE: 10.2262 - val_loss: 15.0998 - val_MAE: 15.0998\n",
            "Epoch 14/20\n",
            "840/840 [==============================] - 75s 89ms/step - loss: 10.1662 - MAE: 10.1662 - val_loss: 14.6608 - val_MAE: 14.6608\n",
            "Epoch 15/20\n",
            "840/840 [==============================] - 75s 89ms/step - loss: 9.3987 - MAE: 9.3987 - val_loss: 13.3163 - val_MAE: 13.3163\n",
            "Epoch 16/20\n",
            "840/840 [==============================] - 75s 89ms/step - loss: 9.2884 - MAE: 9.2884 - val_loss: 12.7739 - val_MAE: 12.7739\n",
            "Epoch 17/20\n",
            "840/840 [==============================] - 75s 89ms/step - loss: 8.8053 - MAE: 8.8053 - val_loss: 12.5922 - val_MAE: 12.5922\n",
            "Epoch 18/20\n",
            "840/840 [==============================] - 75s 89ms/step - loss: 8.4060 - MAE: 8.4060 - val_loss: 16.5617 - val_MAE: 16.5617\n",
            "Epoch 19/20\n",
            "840/840 [==============================] - 75s 89ms/step - loss: 8.2298 - MAE: 8.2298 - val_loss: 11.9675 - val_MAE: 11.9675\n",
            "Epoch 20/20\n",
            "840/840 [==============================] - 75s 90ms/step - loss: 8.0455 - MAE: 8.0455 - val_loss: 12.7890 - val_MAE: 12.7890\n",
            "355/355 [==============================] - 9s 26ms/step - loss: 12.9704 - MAE: 12.9704\n",
            "Test loss: 12.970437049865723\n",
            "Test MAE: 12.970437049865723\n"
          ]
        }
      ]
    },
    {
      "cell_type": "code",
      "source": [
        "plt.plot(history1.history['loss'])\n",
        "plt.plot(history1.history['val_loss'])\n",
        "plt.title('inv-mul_cam_aug Model loss')\n",
        "plt.ylabel('Loss')\n",
        "plt.xlabel('Epoch')\n",
        "plt.legend(['Train', 'Validation'], loc='upper left')\n",
        "plt.show()"
      ],
      "metadata": {
        "id": "89qMh90r8nhN",
        "colab": {
          "base_uri": "https://localhost:8080/",
          "height": 295
        },
        "outputId": "212b621f-a14a-4caf-84b1-cd00287d52f5"
      },
      "execution_count": null,
      "outputs": [
        {
          "output_type": "display_data",
          "data": {
            "text/plain": [
              "<Figure size 432x288 with 1 Axes>"
            ],
            "image/png": "[encoded data removed]"
          },
          "metadata": {
            "needs_background": "light"
          }
        }
      ]
    },
    {
      "cell_type": "code",
      "source": [],
      "metadata": {
        "id": "9xrYU-kANR8q"
      },
      "execution_count": null,
      "outputs": []
    }
  ]
}