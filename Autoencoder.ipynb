{
  "nbformat": 4,
  "nbformat_minor": 0,
  "metadata": {
    "colab": {
      "name": "HACKANONS COLAB 25GB RAM.ipynb",
      "provenance": [],
      "collapsed_sections": [],
      "machine_shape": "hm",
      "include_colab_link": true
    },
    "kernelspec": {
      "name": "python3",
      "display_name": "Python 3"
    },
    "accelerator": "GPU",
    "gpuClass": "standard"
  },
  "cells": [
    {
      "cell_type": "markdown",
      "metadata": {
        "id": "view-in-github",
        "colab_type": "text"
      },
      "source": [
        "<a href=\"https://colab.research.google.com/github/Bone-Age-Maisha/paper_1/blob/main/Autoencoder.ipynb\" target=\"_parent\"><img src=\"https://colab.research.google.com/assets/colab-badge.svg\" alt=\"Open In Colab\"/></a>"
      ]
    },
    {
      "cell_type": "markdown",
      "metadata": {
        "id": "4cbgwZWWfWpp"
      },
      "source": [
        "# New Section"
      ]
    },
    {
      "cell_type": "code",
      "execution_count": 1,
      "metadata": {
        "colab": {
          "base_uri": "https://localhost:8080/",
          "height": 36
        },
        "id": "J6rR2tUNzHsD",
        "outputId": "ec3dd7f8-8776-4e46-f2ab-a74ef7f6b404"
      },
      "outputs": [
        {
          "output_type": "execute_result",
          "data": {
            "text/plain": [
              "'/device:GPU:0'"
            ],
            "application/vnd.google.colaboratory.intrinsic+json": {
              "type": "string"
            }
          },
          "metadata": {},
          "execution_count": 1
        }
      ],
      "source": [
        "import tensorflow as tf\n",
        "tf.test.gpu_device_name()"
      ]
    },
    {
      "cell_type": "code",
      "source": [
        "from tensorflow.python.client import device_lib\n",
        "device_lib.list_local_devices()"
      ],
      "metadata": {
        "id": "JL-rYC7KzUwT",
        "colab": {
          "base_uri": "https://localhost:8080/"
        },
        "outputId": "0dfcb5c9-d0ed-42f9-8ddc-36443fdf7cc1"
      },
      "execution_count": 2,
      "outputs": [
        {
          "output_type": "execute_result",
          "data": {
            "text/plain": [
              "[name: \"/device:CPU:0\"\n",
              " device_type: \"CPU\"\n",
              " memory_limit: 268435456\n",
              " locality {\n",
              " }\n",
              " incarnation: 17898818597920019690\n",
              " xla_global_id: -1, name: \"/device:GPU:0\"\n",
              " device_type: \"GPU\"\n",
              " memory_limit: 14444920832\n",
              " locality {\n",
              "   bus_id: 1\n",
              "   links {\n",
              "   }\n",
              " }\n",
              " incarnation: 4407731289909978156\n",
              " physical_device_desc: \"device: 0, name: Tesla T4, pci bus id: 0000:00:04.0, compute capability: 7.5\"\n",
              " xla_global_id: 416903419]"
            ]
          },
          "metadata": {},
          "execution_count": 2
        }
      ]
    },
    {
      "cell_type": "code",
      "source": [
        "from google.colab import drive\n",
        "drive.mount('/content/drive')"
      ],
      "metadata": {
        "colab": {
          "base_uri": "https://localhost:8080/"
        },
        "id": "z8bs_BTHeF_5",
        "outputId": "0d7e4602-8ec6-4dd6-ee84-35721d5639dd"
      },
      "execution_count": 7,
      "outputs": [
        {
          "output_type": "stream",
          "name": "stdout",
          "text": [
            "Mounted at /content/drive\n"
          ]
        }
      ]
    },
    {
      "cell_type": "code",
      "source": [
        "import numpy as np\n",
        "\n",
        "from keras.preprocessing.image import img_to_array\n",
        "from keras.layers import Dense, Conv2D, MaxPooling2D, UpSampling2D\n",
        "from keras.models import Sequential\n",
        "import cv2\n",
        "import matplotlib.pyplot as plt\n",
        "\n",
        "np.random.seed(42)\n",
        "\n",
        "img_size=256\n",
        "\n",
        "\n",
        "img_data=[]\n",
        "\n",
        "img=cv2.imread('/content/drive/MyDrive/1377.png', 1)\n",
        "rgb_img=cv2.cvtColor(img, cv2.COLOR_BGR2RGB)\n",
        "rgb_img=cv2.resize(rgb_img, (256,256))\n",
        "img_data.append(img_to_array(rgb_img))\n",
        "img_final=np.reshape(img_data, (len(img_data),256, 256, 3))\n",
        "img_final=img_final.astype('float32')/255\n",
        "\n",
        "\n",
        "model=Sequential()\n",
        "\n",
        "model.add(Conv2D(64, (3,3), activation='relu', padding='same', input_shape=(256,256,3)))\n",
        "model.add(MaxPooling2D((2,2), padding='same'))\n",
        "model.add(Conv2D(32, (3,3),activation='relu',padding='same'))\n",
        "model.add(MaxPooling2D((2,2), padding='same'))\n",
        "model.add(Conv2D(16, (3,3),activation='relu',padding='same'))\n",
        "model.add(MaxPooling2D((2,2), padding='same'))\n",
        "\n",
        "model.add(Conv2D(16, (3,3), activation='relu', padding='same'))\n",
        "model.add(UpSampling2D((2,2)))\n",
        "\n",
        "model.add(Conv2D(32, (3,3), activation='relu', padding='same'))\n",
        "model.add(UpSampling2D((2,2)))\n",
        "\n",
        "model.add(Conv2D(64, (3,3), activation='relu', padding='same'))\n",
        "model.add(UpSampling2D((2,2)))\n",
        "\n",
        "model.add(Conv2D(3, (3,3), activation='relu', padding='same'))\n",
        "\n",
        "model.compile(optimizer='adam',loss='mean_squared_error',metrics=['accuracy'])\n",
        "\n",
        "model.summary()\n",
        "\n",
        "model.fit(img_final, img_final, epochs=15, shuffle=True)\n",
        "\n",
        "\n",
        "pred=model.predict(img_final)\n",
        "print(pred.shape)\n",
        "\n",
        "\n",
        "plt.imshow(pred.reshape(256,256,3))"
      ],
      "metadata": {
        "colab": {
          "base_uri": "https://localhost:8080/",
          "height": 1000
        },
        "id": "pNGaETiqdr6q",
        "outputId": "4fecad7b-fd1a-4ae7-f28c-53f756a8bad4"
      },
      "execution_count": 4,
      "outputs": [
        {
          "output_type": "stream",
          "name": "stdout",
          "text": [
            "Model: \"sequential_3\"\n",
            "_________________________________________________________________\n",
            " Layer (type)                Output Shape              Param #   \n",
            "=================================================================\n",
            " conv2d_21 (Conv2D)          (None, 256, 256, 64)      1792      \n",
            "                                                                 \n",
            " max_pooling2d_9 (MaxPooling  (None, 128, 128, 64)     0         \n",
            " 2D)                                                             \n",
            "                                                                 \n",
            " conv2d_22 (Conv2D)          (None, 128, 128, 32)      18464     \n",
            "                                                                 \n",
            " max_pooling2d_10 (MaxPoolin  (None, 64, 64, 32)       0         \n",
            " g2D)                                                            \n",
            "                                                                 \n",
            " conv2d_23 (Conv2D)          (None, 64, 64, 16)        4624      \n",
            "                                                                 \n",
            " max_pooling2d_11 (MaxPoolin  (None, 32, 32, 16)       0         \n",
            " g2D)                                                            \n",
            "                                                                 \n",
            " conv2d_24 (Conv2D)          (None, 32, 32, 16)        2320      \n",
            "                                                                 \n",
            " up_sampling2d_9 (UpSampling  (None, 64, 64, 16)       0         \n",
            " 2D)                                                             \n",
            "                                                                 \n",
            " conv2d_25 (Conv2D)          (None, 64, 64, 32)        4640      \n",
            "                                                                 \n",
            " up_sampling2d_10 (UpSamplin  (None, 128, 128, 32)     0         \n",
            " g2D)                                                            \n",
            "                                                                 \n",
            " conv2d_26 (Conv2D)          (None, 128, 128, 64)      18496     \n",
            "                                                                 \n",
            " up_sampling2d_11 (UpSamplin  (None, 256, 256, 64)     0         \n",
            " g2D)                                                            \n",
            "                                                                 \n",
            " conv2d_27 (Conv2D)          (None, 256, 256, 3)       1731      \n",
            "                                                                 \n",
            "=================================================================\n",
            "Total params: 52,067\n",
            "Trainable params: 52,067\n",
            "Non-trainable params: 0\n",
            "_________________________________________________________________\n",
            "Epoch 1/15\n",
            "1/1 [==============================] - 1s 1s/step - loss: 0.1204 - accuracy: 0.9963\n",
            "Epoch 2/15\n",
            "1/1 [==============================] - 0s 20ms/step - loss: 0.0904 - accuracy: 1.0000\n",
            "Epoch 3/15\n",
            "1/1 [==============================] - 0s 32ms/step - loss: 0.0634 - accuracy: 1.0000\n",
            "Epoch 4/15\n",
            "1/1 [==============================] - 0s 24ms/step - loss: 0.0781 - accuracy: 1.0000\n",
            "Epoch 5/15\n",
            "1/1 [==============================] - 0s 31ms/step - loss: 0.0450 - accuracy: 0.9992\n",
            "Epoch 6/15\n",
            "1/1 [==============================] - 0s 35ms/step - loss: 0.0273 - accuracy: 0.9937\n",
            "Epoch 7/15\n",
            "1/1 [==============================] - 0s 23ms/step - loss: 0.0237 - accuracy: 0.7152\n",
            "Epoch 8/15\n",
            "1/1 [==============================] - 0s 18ms/step - loss: 0.0238 - accuracy: 0.0279\n",
            "Epoch 9/15\n",
            "1/1 [==============================] - 0s 18ms/step - loss: 0.0258 - accuracy: 0.0148\n",
            "Epoch 10/15\n",
            "1/1 [==============================] - 0s 26ms/step - loss: 0.0277 - accuracy: 0.0130\n",
            "Epoch 11/15\n",
            "1/1 [==============================] - 0s 20ms/step - loss: 0.0267 - accuracy: 0.0086\n",
            "Epoch 12/15\n",
            "1/1 [==============================] - 0s 18ms/step - loss: 0.0246 - accuracy: 0.0047\n",
            "Epoch 13/15\n",
            "1/1 [==============================] - 0s 18ms/step - loss: 0.0230 - accuracy: 0.0045\n",
            "Epoch 14/15\n",
            "1/1 [==============================] - 0s 18ms/step - loss: 0.0210 - accuracy: 0.0047\n",
            "Epoch 15/15\n",
            "1/1 [==============================] - 0s 28ms/step - loss: 0.0184 - accuracy: 0.0067\n",
            "(1, 256, 256, 3)\n"
          ]
        },
        {
          "output_type": "execute_result",
          "data": {
            "text/plain": [
              "<matplotlib.image.AxesImage at 0x7f621017e210>"
            ]
          },
          "metadata": {},
          "execution_count": 4
        },
        {
          "output_type": "display_data",
          "data": {
            "text/plain": [
              "<Figure size 432x288 with 1 Axes>"
            ],
            "image/png": "[encoded data removed]"
          },
          "metadata": {
            "needs_background": "light"
          }
        }
      ]
    },
    {
      "cell_type": "code",
      "source": [
        "print(pred.shape)\n",
        "#pred=cv2.cvtColor(pred[0], cv2.COLOR_BGR2RGB)\n",
        "\n",
        "#print(pred.shape)"
      ],
      "metadata": {
        "colab": {
          "base_uri": "https://localhost:8080/"
        },
        "id": "ofOdKfU-ev_O",
        "outputId": "598b43b5-769d-42ed-ed9e-00542e5e1050"
      },
      "execution_count": 15,
      "outputs": [
        {
          "output_type": "stream",
          "name": "stdout",
          "text": [
            "(3, 3, 3)\n"
          ]
        }
      ]
    },
    {
      "cell_type": "markdown",
      "source": [
        "##Youtube"
      ],
      "metadata": {
        "id": "_D6ITy5khcRu"
      }
    },
    {
      "cell_type": "code",
      "source": [
        "import pandas as pd\n",
        "train_dir = '/content/drive/MyDrive/small_data/train'\n",
        "df = pd.read_csv('/content/drive/MyDrive/small_data/train_csv1.csv')"
      ],
      "metadata": {
        "id": "27SDX27chq2t"
      },
      "execution_count": 5,
      "outputs": []
    },
    {
      "cell_type": "code",
      "source": [
        "import numpy as np\n",
        "import cv2\n",
        "import os\n",
        "import pandas as pd\n",
        "from six.moves import cPickle"
      ],
      "metadata": {
        "id": "muGAyd8MiEG4"
      },
      "execution_count": 6,
      "outputs": []
    },
    {
      "cell_type": "code",
      "source": [
        "\n",
        "\n",
        "cnt=1\n",
        "path = train_dir\n",
        "print ('Loading data set...')\n",
        "img_data=[]\n",
        "for i in os.listdir(path):\n",
        "  #print(i)\n",
        "  #print(cnt)\n",
        "  #cnt=cnt+1\n",
        "  if(len(i)>9):   #errror occuring  so to \n",
        "    continue\n",
        "  img_path = path + \"/\"+i\n",
        "  rgb_img=cv2.cvtColor(img, cv2.COLOR_BGR2RGB)\n",
        "  rgb_img=cv2.resize(rgb_img, (512,512))\n",
        "  img_data.append(img_to_array(rgb_img))\n",
        "  img_final=np.reshape(img_data, (len(img_data),512,512, 3))\n",
        "  img_final=img_final.astype('float32')/255\n",
        "\n",
        "print(img_final.shape)"
      ],
      "metadata": {
        "colab": {
          "base_uri": "https://localhost:8080/"
        },
        "id": "DyfRt2doiR0c",
        "outputId": "7b7b39e8-58e3-4cbe-eb55-a75a71996487"
      },
      "execution_count": 131,
      "outputs": [
        {
          "output_type": "stream",
          "name": "stdout",
          "text": [
            "Loading data set...\n",
            "(71, 512, 512, 3)\n"
          ]
        }
      ]
    },
    {
      "cell_type": "code",
      "source": [
        "from sklearn.model_selection import train_test_split\n",
        "\n",
        "IMG_SHAPE = img_final.shape[1:]\n",
        "\n",
        "X_train, X_test = train_test_split(img_final, test_size=0.1, random_state=42)\n",
        "\n",
        "print(IMG_SHAPE)"
      ],
      "metadata": {
        "colab": {
          "base_uri": "https://localhost:8080/"
        },
        "id": "LhDHz9lfjLjI",
        "outputId": "8a81a851-b72c-44d9-e785-d6caff0136f9"
      },
      "execution_count": 132,
      "outputs": [
        {
          "output_type": "stream",
          "name": "stdout",
          "text": [
            "(512, 512, 3)\n"
          ]
        }
      ]
    },
    {
      "cell_type": "code",
      "source": [
        "def show_image(x):\n",
        "    plt.imshow(x)"
      ],
      "metadata": {
        "id": "KN0MkRFTjr9D"
      },
      "execution_count": 133,
      "outputs": []
    },
    {
      "cell_type": "code",
      "source": [
        "plt.title('sample images')\n",
        "\n",
        "for i in range(6):\n",
        "    plt.subplot(2,3,i+1)\n",
        "    show_image(img_final[i])\n",
        "\n",
        "print(\"X shape:\", img_final.shape)\n",
        "#print(\"attr shape:\", attr.shape)\n",
        "\n",
        "# try to free memory\n",
        "del img_final\n",
        "import gc\n",
        "gc.collect()"
      ],
      "metadata": {
        "colab": {
          "base_uri": "https://localhost:8080/",
          "height": 304
        },
        "id": "rIqiKJssjvDO",
        "outputId": "96a1042e-0bd6-4881-aef9-8515cfb28feb"
      },
      "execution_count": 134,
      "outputs": [
        {
          "output_type": "stream",
          "name": "stdout",
          "text": [
            "X shape: (71, 512, 512, 3)\n"
          ]
        },
        {
          "output_type": "execute_result",
          "data": {
            "text/plain": [
              "13316"
            ]
          },
          "metadata": {},
          "execution_count": 134
        },
        {
          "output_type": "display_data",
          "data": {
            "text/plain": [
              "<Figure size 432x288 with 6 Axes>"
            ],
            "image/png": "[encoded data removed]"
          },
          "metadata": {
            "needs_background": "light"
          }
        }
      ]
    },
    {
      "cell_type": "code",
      "source": [
        "import tensorflow as tf\n",
        "from tensorflow.keras.models import save_model\n",
        "#from tensorflow.python.framework import ops\n",
        "import tensorflow.keras.layers as L\n",
        "#import tensorflow.compat.v1.keras.backend as K\n",
        "import numpy as np\n",
        "from sklearn.model_selection import train_test_split\n",
        "#from lfw_dataset import load_lfw_dataset\n",
        "import matplotlib.pyplot as plt\n",
        "#import keras_utils\n",
        "import numpy as np"
      ],
      "metadata": {
        "id": "V-ao4ISzkiO4"
      },
      "execution_count": 135,
      "outputs": []
    },
    {
      "cell_type": "code",
      "source": [
        "def build_deep_autoencoder(img_shape, code_size):\n",
        "    \"\"\"PCA's deeper brother. See instructions above. Use `code_size` in layer definitions.\"\"\"\n",
        "    H,W,C = img_shape\n",
        "    \n",
        "    # encoder\n",
        "    encoder = tf.keras.models.Sequential()\n",
        "    encoder.add(L.InputLayer(img_shape))\n",
        "    \n",
        "    ### YOUR CODE HERE: define encoder as per instructions above ###\n",
        "    encoder.add(L.Conv2D(filters=32, kernel_size=(3, 3), activation='elu', padding='same'))\n",
        "    encoder.add(L.MaxPooling2D(pool_size=(2, 2)))\n",
        "    encoder.add(L.Conv2D(filters=64, kernel_size=(3, 3), activation='elu', padding='same'))\n",
        "    encoder.add(L.MaxPooling2D(pool_size=(2, 2)))\n",
        "    encoder.add(L.Conv2D(filters=128, kernel_size=(3, 3), activation='elu', padding='same'))\n",
        "    encoder.add(L.MaxPooling2D(pool_size=(2, 2)))\n",
        "    encoder.add(L.Conv2D(filters=256, kernel_size=(3, 3), activation='elu', padding='same'))\n",
        "    encoder.add(L.MaxPooling2D(pool_size=(2, 2)))\n",
        "    encoder.add(L.Conv2D(filters=512, kernel_size=(3, 3), activation='elu', padding='same'))\n",
        "    encoder.add(L.MaxPooling2D(pool_size=(2, 2)))\n",
        "    encoder.add(L.Conv2D(filters=1024, kernel_size=(3, 3), activation='elu', padding='same'))\n",
        "    encoder.add(L.MaxPooling2D(pool_size=(2, 2)))\n",
        "    encoder.add(L.Conv2D(filters=2048, kernel_size=(3, 3), activation='elu', padding='same'))\n",
        "    encoder.add(L.MaxPooling2D(pool_size=(2, 2)))\n",
        "    encoder.add(L.Conv2D(filters=4096, kernel_size=(3, 3), activation='elu', padding='same'))\n",
        "    encoder.add(L.MaxPooling2D(pool_size=(2, 2)))\n",
        "    encoder.add(L.Flatten())\n",
        "    encoder.add(L.Dense(code_size))\n",
        "\n",
        "    # decoder\n",
        "    decoder = tf.keras.models.Sequential()\n",
        "    decoder.add(L.InputLayer((code_size,)))\n",
        "    \n",
        "    ### YOUR CODE HERE: define decoder as per instructions above ###\n",
        "    decoder.add(L.Dense(2*2*4096))\n",
        "    decoder.add(L.Reshape((2, 2, 4096)))\n",
        "    decoder.add(L.Conv2DTranspose(filters=2048, kernel_size=(3, 3), strides=2, activation='elu', padding='same'))\n",
        "    decoder.add(L.Conv2DTranspose(filters=1024, kernel_size=(3, 3), strides=2, activation='elu', padding='same'))\n",
        "    decoder.add(L.Conv2DTranspose(filters=512, kernel_size=(3, 3), strides=2, activation='elu', padding='same'))\n",
        "    decoder.add(L.Conv2DTranspose(filters=256, kernel_size=(3, 3), strides=2, activation='elu', padding='same'))\n",
        "    decoder.add(L.Conv2DTranspose(filters=128, kernel_size=(3, 3), strides=2, activation='elu', padding='same'))\n",
        "    decoder.add(L.Conv2DTranspose(filters=64, kernel_size=(3, 3), strides=2, activation='elu', padding='same'))\n",
        "    decoder.add(L.Conv2DTranspose(filters=32, kernel_size=(3, 3), strides=2, activation='elu', padding='same'))\n",
        "    decoder.add(L.Conv2DTranspose(filters=3, kernel_size=(3, 3), strides=2, activation=None, padding='same'))\n",
        "    \n",
        "    return encoder, decoder"
      ],
      "metadata": {
        "id": "pxX8Q9uevkW5"
      },
      "execution_count": 136,
      "outputs": []
    },
    {
      "cell_type": "code",
      "source": [
        "# Check autoencoder shapes along different code_sizes\n",
        "get_dim = lambda layer: np.prod(layer.output_shape[1:])\n",
        "for code_size in [1,8,32,128,512]:\n",
        "    tf.keras.backend.clear_session()\n",
        "    encoder, decoder = build_deep_autoencoder(IMG_SHAPE, code_size=code_size)\n",
        "    print(\"Testing code size %i\" % code_size)\n",
        "    assert encoder.output_shape[1:]==(code_size,),\"encoder must output a code of required size\"\n",
        "    assert decoder.output_shape[1:]==IMG_SHAPE,   \"decoder must output an image of valid shape\"\n",
        "    assert len(encoder.trainable_weights)>=6,     \"encoder must contain at least 3 layers\"\n",
        "    assert len(decoder.trainable_weights)>=6,     \"decoder must contain at least 3 layers\"\n",
        "    \n",
        "    for layer in encoder.layers + decoder.layers:\n",
        "        assert get_dim(layer) >= code_size, \"Encoder layer %s is smaller than bottleneck (%i units)\"%(layer.name,get_dim(layer))\n",
        "\n",
        "print(\"All tests passed!\")"
      ],
      "metadata": {
        "colab": {
          "base_uri": "https://localhost:8080/"
        },
        "id": "MdJxGNOwhsKZ",
        "outputId": "b218833a-d8ba-4fec-b1e9-fa7d5fa21b31"
      },
      "execution_count": 137,
      "outputs": [
        {
          "output_type": "stream",
          "name": "stdout",
          "text": [
            "Testing code size 1\n",
            "Testing code size 8\n",
            "Testing code size 32\n",
            "Testing code size 128\n",
            "Testing code size 512\n",
            "All tests passed!\n"
          ]
        }
      ]
    },
    {
      "cell_type": "code",
      "source": [
        "print(IMG_SHAPE)\n",
        "tf.keras.backend.clear_session()\n",
        "encoder, decoder = build_deep_autoencoder((512,512,3), code_size=512)\n",
        "encoder.summary()\n",
        "decoder.summary()"
      ],
      "metadata": {
        "colab": {
          "base_uri": "https://localhost:8080/"
        },
        "id": "A6y_EWH-hvJ7",
        "outputId": "fcb1adfc-1ddc-4552-84a8-7a60656b3c6c"
      },
      "execution_count": 138,
      "outputs": [
        {
          "output_type": "stream",
          "name": "stdout",
          "text": [
            "(512, 512, 3)\n",
            "Model: \"sequential\"\n",
            "_________________________________________________________________\n",
            " Layer (type)                Output Shape              Param #   \n",
            "=================================================================\n",
            " conv2d (Conv2D)             (None, 512, 512, 32)      896       \n",
            "                                                                 \n",
            " max_pooling2d (MaxPooling2D  (None, 256, 256, 32)     0         \n",
            " )                                                               \n",
            "                                                                 \n",
            " conv2d_1 (Conv2D)           (None, 256, 256, 64)      18496     \n",
            "                                                                 \n",
            " max_pooling2d_1 (MaxPooling  (None, 128, 128, 64)     0         \n",
            " 2D)                                                             \n",
            "                                                                 \n",
            " conv2d_2 (Conv2D)           (None, 128, 128, 128)     73856     \n",
            "                                                                 \n",
            " max_pooling2d_2 (MaxPooling  (None, 64, 64, 128)      0         \n",
            " 2D)                                                             \n",
            "                                                                 \n",
            " conv2d_3 (Conv2D)           (None, 64, 64, 256)       295168    \n",
            "                                                                 \n",
            " max_pooling2d_3 (MaxPooling  (None, 32, 32, 256)      0         \n",
            " 2D)                                                             \n",
            "                                                                 \n",
            " conv2d_4 (Conv2D)           (None, 32, 32, 512)       1180160   \n",
            "                                                                 \n",
            " max_pooling2d_4 (MaxPooling  (None, 16, 16, 512)      0         \n",
            " 2D)                                                             \n",
            "                                                                 \n",
            " conv2d_5 (Conv2D)           (None, 16, 16, 1024)      4719616   \n",
            "                                                                 \n",
            " max_pooling2d_5 (MaxPooling  (None, 8, 8, 1024)       0         \n",
            " 2D)                                                             \n",
            "                                                                 \n",
            " conv2d_6 (Conv2D)           (None, 8, 8, 2048)        18876416  \n",
            "                                                                 \n",
            " max_pooling2d_6 (MaxPooling  (None, 4, 4, 2048)       0         \n",
            " 2D)                                                             \n",
            "                                                                 \n",
            " conv2d_7 (Conv2D)           (None, 4, 4, 4096)        75501568  \n",
            "                                                                 \n",
            " max_pooling2d_7 (MaxPooling  (None, 2, 2, 4096)       0         \n",
            " 2D)                                                             \n",
            "                                                                 \n",
            " flatten (Flatten)           (None, 16384)             0         \n",
            "                                                                 \n",
            " dense (Dense)               (None, 512)               8389120   \n",
            "                                                                 \n",
            "=================================================================\n",
            "Total params: 109,055,296\n",
            "Trainable params: 109,055,296\n",
            "Non-trainable params: 0\n",
            "_________________________________________________________________\n",
            "Model: \"sequential_1\"\n",
            "_________________________________________________________________\n",
            " Layer (type)                Output Shape              Param #   \n",
            "=================================================================\n",
            " dense_1 (Dense)             (None, 16384)             8404992   \n",
            "                                                                 \n",
            " reshape (Reshape)           (None, 2, 2, 4096)        0         \n",
            "                                                                 \n",
            " conv2d_transpose (Conv2DTra  (None, 4, 4, 2048)       75499520  \n",
            " nspose)                                                         \n",
            "                                                                 \n",
            " conv2d_transpose_1 (Conv2DT  (None, 8, 8, 1024)       18875392  \n",
            " ranspose)                                                       \n",
            "                                                                 \n",
            " conv2d_transpose_2 (Conv2DT  (None, 16, 16, 512)      4719104   \n",
            " ranspose)                                                       \n",
            "                                                                 \n",
            " conv2d_transpose_3 (Conv2DT  (None, 32, 32, 256)      1179904   \n",
            " ranspose)                                                       \n",
            "                                                                 \n",
            " conv2d_transpose_4 (Conv2DT  (None, 64, 64, 128)      295040    \n",
            " ranspose)                                                       \n",
            "                                                                 \n",
            " conv2d_transpose_5 (Conv2DT  (None, 128, 128, 64)     73792     \n",
            " ranspose)                                                       \n",
            "                                                                 \n",
            " conv2d_transpose_6 (Conv2DT  (None, 256, 256, 32)     18464     \n",
            " ranspose)                                                       \n",
            "                                                                 \n",
            " conv2d_transpose_7 (Conv2DT  (None, 512, 512, 3)      867       \n",
            " ranspose)                                                       \n",
            "                                                                 \n",
            "=================================================================\n",
            "Total params: 109,067,075\n",
            "Trainable params: 109,067,075\n",
            "Non-trainable params: 0\n",
            "_________________________________________________________________\n"
          ]
        }
      ]
    },
    {
      "cell_type": "code",
      "source": [
        "inp = L.Input(IMG_SHAPE)\n",
        "code = encoder(inp)\n",
        "reconstruction = decoder(code)"
      ],
      "metadata": {
        "id": "NLrDmKmAk-ea"
      },
      "execution_count": 139,
      "outputs": []
    },
    {
      "cell_type": "code",
      "source": [
        "autoencoder = tf.keras.models.Model(inputs=inp, outputs=reconstruction)\n",
        "autoencoder.compile(optimizer=\"adamax\", loss='mse')"
      ],
      "metadata": {
        "id": "AuRFfZXvlBvr"
      },
      "execution_count": 140,
      "outputs": []
    },
    {
      "cell_type": "code",
      "source": [
        "model_filename = 'autoencoder.{0:03d}.hdf5'\n",
        "last_finished_epoch = None"
      ],
      "metadata": {
        "id": "Txd8SSAPlFs5"
      },
      "execution_count": 141,
      "outputs": []
    },
    {
      "cell_type": "code",
      "source": [
        "class ModelSaveCallback(tf.keras.callbacks.Callback):\n",
        "    def __init__(self, file_name):\n",
        "        super(ModelSaveCallback, self).__init__()\n",
        "        self.file_name = file_name\n",
        "\n",
        "    def on_epoch_end(self, epoch, logs=None):\n",
        "        model_filename = self.file_name.format(epoch)\n",
        "        save_model(self.model, model_filename)\n",
        "        print(\"Model saved in {}\".format(model_filename))"
      ],
      "metadata": {
        "id": "uEodqJellIlg"
      },
      "execution_count": 142,
      "outputs": []
    },
    {
      "cell_type": "code",
      "source": [
        "autoencoder.fit(x=X_train, y=X_train, epochs=25,\n",
        "                validation_data=[X_test, X_test],\n",
        "                callbacks=[ModelSaveCallback(model_filename)],\n",
        "                           #keras_utils.TqdmProgressCallback()],\n",
        "                verbose=1,\n",
        "                initial_epoch=last_finished_epoch or 0)"
      ],
      "metadata": {
        "colab": {
          "base_uri": "https://localhost:8080/"
        },
        "id": "1L-XpIqmlQYK",
        "outputId": "1859c330-48ec-4745-b492-08cb2151b4f7"
      },
      "execution_count": 81,
      "outputs": [
        {
          "output_type": "stream",
          "name": "stdout",
          "text": [
            "Epoch 1/25\n",
            "1/2 [==============>...............] - ETA: 0s - loss: 0.1292Model saved in autoencoder.000.hdf5\n",
            "2/2 [==============================] - 1s 281ms/step - loss: 0.1276 - val_loss: 0.1172\n",
            "Epoch 2/25\n",
            "1/2 [==============>...............] - ETA: 0s - loss: 0.1172Model saved in autoencoder.001.hdf5\n",
            "2/2 [==============================] - 0s 91ms/step - loss: 0.1104 - val_loss: 0.0879\n",
            "Epoch 3/25\n",
            "1/2 [==============>...............] - ETA: 0s - loss: 0.0879Model saved in autoencoder.002.hdf5\n",
            "2/2 [==============================] - 0s 103ms/step - loss: 0.0858 - val_loss: 0.0746\n",
            "Epoch 4/25\n",
            "1/2 [==============>...............] - ETA: 0s - loss: 0.0746Model saved in autoencoder.003.hdf5\n",
            "2/2 [==============================] - 0s 102ms/step - loss: 0.0686 - val_loss: 0.0571\n",
            "Epoch 5/25\n",
            "1/2 [==============>...............] - ETA: 0s - loss: 0.0571Model saved in autoencoder.004.hdf5\n",
            "2/2 [==============================] - 0s 99ms/step - loss: 0.0554 - val_loss: 0.0488\n",
            "Epoch 6/25\n",
            "1/2 [==============>...............] - ETA: 0s - loss: 0.0488Model saved in autoencoder.005.hdf5\n",
            "2/2 [==============================] - 0s 96ms/step - loss: 0.0462 - val_loss: 0.0401\n",
            "Epoch 7/25\n",
            "1/2 [==============>...............] - ETA: 0s - loss: 0.0401Model saved in autoencoder.006.hdf5\n",
            "2/2 [==============================] - 0s 99ms/step - loss: 0.0387 - val_loss: 0.0331\n",
            "Epoch 8/25\n",
            "1/2 [==============>...............] - ETA: 0s - loss: 0.0331Model saved in autoencoder.007.hdf5\n",
            "2/2 [==============================] - 0s 98ms/step - loss: 0.0315 - val_loss: 0.0280\n",
            "Epoch 9/25\n",
            "1/2 [==============>...............] - ETA: 0s - loss: 0.0280Model saved in autoencoder.008.hdf5\n",
            "2/2 [==============================] - 0s 96ms/step - loss: 0.0272 - val_loss: 0.0240\n",
            "Epoch 10/25\n",
            "1/2 [==============>...............] - ETA: 0s - loss: 0.0240Model saved in autoencoder.009.hdf5\n",
            "2/2 [==============================] - 0s 90ms/step - loss: 0.0228 - val_loss: 0.0200\n",
            "Epoch 11/25\n",
            "1/2 [==============>...............] - ETA: 0s - loss: 0.0200Model saved in autoencoder.010.hdf5\n",
            "2/2 [==============================] - 0s 101ms/step - loss: 0.0195 - val_loss: 0.0174\n",
            "Epoch 12/25\n",
            "1/2 [==============>...............] - ETA: 0s - loss: 0.0174Model saved in autoencoder.011.hdf5\n",
            "2/2 [==============================] - 0s 101ms/step - loss: 0.0167 - val_loss: 0.0150\n",
            "Epoch 13/25\n",
            "1/2 [==============>...............] - ETA: 0s - loss: 0.0150Model saved in autoencoder.012.hdf5\n",
            "2/2 [==============================] - 0s 114ms/step - loss: 0.0145 - val_loss: 0.0130\n",
            "Epoch 14/25\n",
            "1/2 [==============>...............] - ETA: 0s - loss: 0.0130Model saved in autoencoder.013.hdf5\n",
            "2/2 [==============================] - 0s 92ms/step - loss: 0.0125 - val_loss: 0.0111\n",
            "Epoch 15/25\n",
            "1/2 [==============>...............] - ETA: 0s - loss: 0.0111Model saved in autoencoder.014.hdf5\n",
            "2/2 [==============================] - 0s 94ms/step - loss: 0.0107 - val_loss: 0.0097\n",
            "Epoch 16/25\n",
            "1/2 [==============>...............] - ETA: 0s - loss: 0.0097Model saved in autoencoder.015.hdf5\n",
            "2/2 [==============================] - 0s 98ms/step - loss: 0.0093 - val_loss: 0.0082\n",
            "Epoch 17/25\n",
            "1/2 [==============>...............] - ETA: 0s - loss: 0.0082Model saved in autoencoder.016.hdf5\n",
            "2/2 [==============================] - 0s 98ms/step - loss: 0.0079 - val_loss: 0.0072\n",
            "Epoch 18/25\n",
            "1/2 [==============>...............] - ETA: 0s - loss: 0.0072Model saved in autoencoder.017.hdf5\n",
            "2/2 [==============================] - 0s 104ms/step - loss: 0.0069 - val_loss: 0.0063\n",
            "Epoch 19/25\n",
            "1/2 [==============>...............] - ETA: 0s - loss: 0.0063Model saved in autoencoder.018.hdf5\n",
            "2/2 [==============================] - 0s 103ms/step - loss: 0.0061 - val_loss: 0.0057\n",
            "Epoch 20/25\n",
            "1/2 [==============>...............] - ETA: 0s - loss: 0.0057Model saved in autoencoder.019.hdf5\n",
            "2/2 [==============================] - 0s 108ms/step - loss: 0.0055 - val_loss: 0.0050\n",
            "Epoch 21/25\n",
            "1/2 [==============>...............] - ETA: 0s - loss: 0.0050Model saved in autoencoder.020.hdf5\n",
            "2/2 [==============================] - 0s 98ms/step - loss: 0.0049 - val_loss: 0.0046\n",
            "Epoch 22/25\n",
            "1/2 [==============>...............] - ETA: 0s - loss: 0.0046Model saved in autoencoder.021.hdf5\n",
            "2/2 [==============================] - 0s 95ms/step - loss: 0.0045 - val_loss: 0.0041\n",
            "Epoch 23/25\n",
            "1/2 [==============>...............] - ETA: 0s - loss: 0.0041Model saved in autoencoder.022.hdf5\n",
            "2/2 [==============================] - 0s 98ms/step - loss: 0.0040 - val_loss: 0.0037\n",
            "Epoch 24/25\n",
            "1/2 [==============>...............] - ETA: 0s - loss: 0.0037Model saved in autoencoder.023.hdf5\n",
            "2/2 [==============================] - 0s 97ms/step - loss: 0.0037 - val_loss: 0.0034\n",
            "Epoch 25/25\n",
            "1/2 [==============>...............] - ETA: 0s - loss: 0.0034Model saved in autoencoder.024.hdf5\n",
            "2/2 [==============================] - 0s 91ms/step - loss: 0.0033 - val_loss: 0.0032\n"
          ]
        },
        {
          "output_type": "execute_result",
          "data": {
            "text/plain": [
              "<keras.callbacks.History at 0x7f6184eba650>"
            ]
          },
          "metadata": {},
          "execution_count": 81
        }
      ]
    },
    {
      "cell_type": "code",
      "source": [
        "def visualize(img,encoder,decoder):\n",
        "    \"\"\"Draws original, encoded and decoded images\"\"\"\n",
        "    code = encoder.predict(img[None])[0]  # img[None] is the same as img[np.newaxis, :]\n",
        "    reco = decoder.predict(code[None])[0]\n",
        "\n",
        "    plt.subplot(1,3,1)\n",
        "    plt.title(\"Original\")\n",
        "    show_image(img)\n",
        "\n",
        "    plt.subplot(1,3,2)\n",
        "    plt.title(\"Code\")\n",
        "    plt.imshow(code.reshape([code.shape[-1]//2,-1]))\n",
        "\n",
        "    plt.subplot(1,3,3)\n",
        "    plt.title(\"Reconstructed\")\n",
        "    show_image(reco)\n",
        "    plt.show()"
      ],
      "metadata": {
        "id": "mpm5OOS9wCnr"
      },
      "execution_count": 143,
      "outputs": []
    },
    {
      "cell_type": "code",
      "source": [
        "reconstruction_mse = autoencoder.evaluate(X_test, X_test, verbose=0)\n",
        "print(\"Convolutional autoencoder MSE:\", reconstruction_mse)\n",
        "for i in range(5):\n",
        "    img = X_test[i]\n",
        "    visualize(img,encoder,decoder)"
      ],
      "metadata": {
        "colab": {
          "base_uri": "https://localhost:8080/",
          "height": 1000
        },
        "id": "3r7w-HrKwJ26",
        "outputId": "6588b8c4-e031-428a-bd07-6eb8b987e02c"
      },
      "execution_count": 83,
      "outputs": [
        {
          "output_type": "stream",
          "name": "stdout",
          "text": [
            "Convolutional autoencoder MSE: 0.0031526335515081882\n"
          ]
        },
        {
          "output_type": "stream",
          "name": "stderr",
          "text": [
            "WARNING:matplotlib.image:Clipping input data to the valid range for imshow with RGB data ([0..1] for floats or [0..255] for integers).\n"
          ]
        },
        {
          "output_type": "display_data",
          "data": {
            "text/plain": [
              "<Figure size 432x288 with 3 Axes>"
            ],
            "image/png": "[encoded data removed]"
          },
          "metadata": {
            "needs_background": "light"
          }
        },
        {
          "output_type": "stream",
          "name": "stderr",
          "text": [
            "WARNING:matplotlib.image:Clipping input data to the valid range for imshow with RGB data ([0..1] for floats or [0..255] for integers).\n"
          ]
        },
        {
          "output_type": "display_data",
          "data": {
            "text/plain": [
              "<Figure size 432x288 with 3 Axes>"
            ],
            "image/png": "[encoded data removed]"
          },
          "metadata": {
            "needs_background": "light"
          }
        },
        {
          "output_type": "stream",
          "name": "stderr",
          "text": [
            "WARNING:matplotlib.image:Clipping input data to the valid range for imshow with RGB data ([0..1] for floats or [0..255] for integers).\n"
          ]
        },
        {
          "output_type": "display_data",
          "data": {
            "text/plain": [
              "<Figure size 432x288 with 3 Axes>"
            ],
            "image/png": "[encoded data removed]"
          },
          "metadata": {
            "needs_background": "light"
          }
        },
        {
          "output_type": "stream",
          "name": "stderr",
          "text": [
            "WARNING:matplotlib.image:Clipping input data to the valid range for imshow with RGB data ([0..1] for floats or [0..255] for integers).\n"
          ]
        },
        {
          "output_type": "display_data",
          "data": {
            "text/plain": [
              "<Figure size 432x288 with 3 Axes>"
            ],
            "image/png": "[encoded data removed]"
          },
          "metadata": {
            "needs_background": "light"
          }
        },
        {
          "output_type": "stream",
          "name": "stderr",
          "text": [
            "WARNING:matplotlib.image:Clipping input data to the valid range for imshow with RGB data ([0..1] for floats or [0..255] for integers).\n"
          ]
        },
        {
          "output_type": "display_data",
          "data": {
            "text/plain": [
              "<Figure size 432x288 with 3 Axes>"
            ],
            "image/png": "[encoded data removed]"
          },
          "metadata": {
            "needs_background": "light"
          }
        }
      ]
    },
    {
      "cell_type": "code",
      "source": [
        "# save trained weights\n",
        "encoder.save_weights(\"encoder.h5\")\n",
        "decoder.save_weights(\"decoder.h5\")"
      ],
      "metadata": {
        "id": "QG3Jp_5nwV9O"
      },
      "execution_count": 144,
      "outputs": []
    }
  ]
}