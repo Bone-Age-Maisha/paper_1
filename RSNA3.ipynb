{
  "nbformat": 4,
  "nbformat_minor": 0,
  "metadata": {
    "colab": {
      "provenance": [],
      "machine_shape": "hm",
      "authorship_tag": "ABX9TyOOR4oMz7WhuuBA34lWpMBu",
      "include_colab_link": true
    },
    "kernelspec": {
      "name": "python3",
      "display_name": "Python 3"
    },
    "language_info": {
      "name": "python"
    },
    "accelerator": "GPU",
    "gpuClass": "premium"
  },
  "cells": [
    {
      "cell_type": "markdown",
      "metadata": {
        "id": "view-in-github",
        "colab_type": "text"
      },
      "source": [
        "<a href=\"https://colab.research.google.com/github/Bone-Age-Maisha/paper_1/blob/main/RSNA3.ipynb\" target=\"_parent\"><img src=\"https://colab.research.google.com/assets/colab-badge.svg\" alt=\"Open In Colab\"/></a>"
      ]
    },
    {
      "cell_type": "code",
      "execution_count": null,
      "metadata": {
        "colab": {
          "base_uri": "https://localhost:8080/"
        },
        "id": "sSch82QZDuEN",
        "outputId": "2e18e4bf-d63e-47b7-ae3d-8ecd4dc79d15"
      },
      "outputs": [
        {
          "output_type": "stream",
          "name": "stdout",
          "text": [
            "\n",
            "WARNING: apt does not have a stable CLI interface. Use with caution in scripts.\n",
            "\n",
            "debconf: unable to initialize frontend: Dialog\n",
            "debconf: (No usable dialog-like program is installed, so the dialog based frontend cannot be used. at /usr/share/perl5/Debconf/FrontEnd/Dialog.pm line 76, <> line 1.)\n",
            "debconf: falling back to frontend: Readline\n",
            "debconf: unable to initialize frontend: Readline\n",
            "debconf: (This frontend requires a controlling tty.)\n",
            "debconf: falling back to frontend: Teletype\n",
            "dpkg-preconfigure: unable to re-open stdin: \n",
            "/usr/bin/xdg-open: 851: /usr/bin/xdg-open: www-browser: not found\n",
            "/usr/bin/xdg-open: 851: /usr/bin/xdg-open: links2: not found\n",
            "/usr/bin/xdg-open: 851: /usr/bin/xdg-open: elinks: not found\n",
            "/usr/bin/xdg-open: 851: /usr/bin/xdg-open: links: not found\n",
            "/usr/bin/xdg-open: 851: /usr/bin/xdg-open: lynx: not found\n",
            "/usr/bin/xdg-open: 851: /usr/bin/xdg-open: w3m: not found\n",
            "xdg-open: no method available for opening 'https://accounts.google.com/o/oauth2/auth?client_id=564921029129.apps.googleusercontent.com&redirect_uri=https%3A%2F%2Fgd-ocaml-auth.appspot.com%2Foauth2callback&scope=https%3A%2F%2Fwww.googleapis.com%2Fauth%2Fdrive&response_type=code&access_type=offline&approval_prompt=force&state=K1At%2FtXaL%2F2n%2FE71kAPDAyFfEhFR9lAFv59WaU3t0K0'\n",
            "/bin/sh: 1: firefox: not found\n",
            "/bin/sh: 1: google-chrome: not found\n",
            "/bin/sh: 1: chromium-browser: not found\n",
            "/bin/sh: 1: open: not found\n",
            "Cannot retrieve auth tokens.\n",
            "Failure(\"Error opening URL:https://accounts.google.com/o/oauth2/auth?client_id=564921029129.apps.googleusercontent.com&redirect_uri=https%3A%2F%2Fgd-ocaml-auth.appspot.com%2Foauth2callback&scope=https%3A%2F%2Fwww.googleapis.com%2Fauth%2Fdrive&response_type=code&access_type=offline&approval_prompt=force&state=K1At%2FtXaL%2F2n%2FE71kAPDAyFfEhFR9lAFv59WaU3t0K0\")\n"
          ]
        }
      ],
      "source": [
        "!sudo add-apt-repository -y ppa:alessandro-strada/ppa 2>&1 > /dev/null\n",
        "!sudo apt-get update -qq 2>&1 > /dev/null\n",
        "!sudo apt -y install -qq google-drive-ocamlfuse 2>&1 > /dev/null\n",
        "!google-drive-ocamlfuse"
      ]
    },
    {
      "cell_type": "code",
      "execution_count": null,
      "metadata": {
        "colab": {
          "base_uri": "https://localhost:8080/"
        },
        "id": "8MvPNAbkD_q2",
        "outputId": "ff82490d-31f1-4bf8-c50d-076d10cab04b"
      },
      "outputs": [
        {
          "output_type": "stream",
          "name": "stdout",
          "text": [
            "debconf: unable to initialize frontend: Dialog\n",
            "debconf: (No usable dialog-like program is installed, so the dialog based frontend cannot be used. at /usr/share/perl5/Debconf/FrontEnd/Dialog.pm line 76, <> line 1.)\n",
            "debconf: falling back to frontend: Readline\n",
            "debconf: unable to initialize frontend: Readline\n",
            "debconf: (This frontend requires a controlling tty.)\n",
            "debconf: falling back to frontend: Teletype\n",
            "dpkg-preconfigure: unable to re-open stdin: \n",
            "Selecting previously unselected package w3m.\n",
            "(Reading database ... \r(Reading database ... 5%\r(Reading database ... 10%\r(Reading database ... 15%\r(Reading database ... 20%\r(Reading database ... 25%\r(Reading database ... 30%\r(Reading database ... 35%\r(Reading database ... 40%\r(Reading database ... 45%\r(Reading database ... 50%\r(Reading database ... 55%\r(Reading database ... 60%\r(Reading database ... 65%\r(Reading database ... 70%\r(Reading database ... 75%\r(Reading database ... 80%\r(Reading database ... 85%\r(Reading database ... 90%\r(Reading database ... 95%\r(Reading database ... 100%\r(Reading database ... 124021 files and directories currently installed.)\n",
            "Preparing to unpack .../w3m_0.5.3-36ubuntu0.1_amd64.deb ...\n",
            "Unpacking w3m (0.5.3-36ubuntu0.1) ...\n",
            "Setting up w3m (0.5.3-36ubuntu0.1) ...\n",
            "Processing triggers for mime-support (3.60ubuntu1) ...\n",
            "Processing triggers for man-db (2.8.3-2ubuntu0.1) ...\n",
            "/content\n",
            "/content/drive\n",
            "/content\n",
            "/\n",
            "Access token retrieved correctly.\n"
          ]
        }
      ],
      "source": [
        "!sudo apt-get install -qq w3m # to act as web browser \n",
        "!xdg-settings set default-web-browser w3m.desktop # to set default browser\n",
        "%cd /content\n",
        "!mkdir drive\n",
        "%cd drive\n",
        "!mkdir MyDrive\n",
        "%cd ..\n",
        "%cd ..\n",
        "!google-drive-ocamlfuse /content/drive/MyDrive"
      ]
    },
    {
      "cell_type": "code",
      "execution_count": null,
      "metadata": {
        "id": "MFsSxjDQ7ag1"
      },
      "outputs": [],
      "source": [
        "import numpy as np\n",
        "import cv2\n",
        "import os\n",
        "import pandas as pd"
      ]
    },
    {
      "cell_type": "code",
      "execution_count": null,
      "metadata": {
        "id": "rZOk3IJS74QP"
      },
      "outputs": [],
      "source": [
        "import pandas as pd\n",
        "train_dir = '/content/drive/MyDrive/RSNA/archive/boneage-training-dataset/boneage-training-dataset'\n",
        "df = pd.read_csv('/content/drive/MyDrive/RSNA/archive/boneage-training-dataset.csv')"
      ]
    },
    {
      "cell_type": "code",
      "execution_count": null,
      "metadata": {
        "id": "pk25ubPJ77rD"
      },
      "outputs": [],
      "source": [
        "import os\n",
        "age_df = df \n",
        "age_df['path'] = age_df['id'].map(lambda x: os.path.join(train_dir,'{}.png'.format(x)))\n",
        "#age_df['exists'] = age_df['path'].map(os.path.exists)"
      ]
    },
    {
      "cell_type": "code",
      "execution_count": null,
      "metadata": {
        "id": "p9A1OCGX8Lap"
      },
      "outputs": [],
      "source": [
        "age1=age_df"
      ]
    },
    {
      "cell_type": "code",
      "execution_count": null,
      "metadata": {
        "colab": {
          "base_uri": "https://localhost:8080/",
          "height": 424
        },
        "id": "YNJQZy598Vxg",
        "outputId": "ef5d2b23-f7ec-48f0-b16a-32f22cbb65f1"
      },
      "outputs": [
        {
          "output_type": "execute_result",
          "data": {
            "text/plain": [
              "          id  boneage   male  \\\n",
              "0       1377      180  False   \n",
              "1       1378       12  False   \n",
              "2       1379       94  False   \n",
              "3       1380      120   True   \n",
              "4       1381       82  False   \n",
              "...      ...      ...    ...   \n",
              "12606  15605       50  False   \n",
              "12607  15606      113  False   \n",
              "12608  15608       55  False   \n",
              "12609  15609      150   True   \n",
              "12610  15610      132   True   \n",
              "\n",
              "                                                    path  \n",
              "0      /content/drive/MyDrive/RSNA/archive/boneage-tr...  \n",
              "1      /content/drive/MyDrive/RSNA/archive/boneage-tr...  \n",
              "2      /content/drive/MyDrive/RSNA/archive/boneage-tr...  \n",
              "3      /content/drive/MyDrive/RSNA/archive/boneage-tr...  \n",
              "4      /content/drive/MyDrive/RSNA/archive/boneage-tr...  \n",
              "...                                                  ...  \n",
              "12606  /content/drive/MyDrive/RSNA/archive/boneage-tr...  \n",
              "12607  /content/drive/MyDrive/RSNA/archive/boneage-tr...  \n",
              "12608  /content/drive/MyDrive/RSNA/archive/boneage-tr...  \n",
              "12609  /content/drive/MyDrive/RSNA/archive/boneage-tr...  \n",
              "12610  /content/drive/MyDrive/RSNA/archive/boneage-tr...  \n",
              "\n",
              "[12611 rows x 4 columns]"
            ],
            "text/html": [
              "\n",
              "  <div id=\"df-edd3c20b-41a0-4586-8310-5c8ce7f58a7d\">\n",
              "    <div class=\"colab-df-container\">\n",
              "      <div>\n",
              "<style scoped>\n",
              "    .dataframe tbody tr th:only-of-type {\n",
              "        vertical-align: middle;\n",
              "    }\n",
              "\n",
              "    .dataframe tbody tr th {\n",
              "        vertical-align: top;\n",
              "    }\n",
              "\n",
              "    .dataframe thead th {\n",
              "        text-align: right;\n",
              "    }\n",
              "</style>\n",
              "<table border=\"1\" class=\"dataframe\">\n",
              "  <thead>\n",
              "    <tr style=\"text-align: right;\">\n",
              "      <th></th>\n",
              "      <th>id</th>\n",
              "      <th>boneage</th>\n",
              "      <th>male</th>\n",
              "      <th>path</th>\n",
              "    </tr>\n",
              "  </thead>\n",
              "  <tbody>\n",
              "    <tr>\n",
              "      <th>0</th>\n",
              "      <td>1377</td>\n",
              "      <td>180</td>\n",
              "      <td>False</td>\n",
              "      <td>/content/drive/MyDrive/RSNA/archive/boneage-tr...</td>\n",
              "    </tr>\n",
              "    <tr>\n",
              "      <th>1</th>\n",
              "      <td>1378</td>\n",
              "      <td>12</td>\n",
              "      <td>False</td>\n",
              "      <td>/content/drive/MyDrive/RSNA/archive/boneage-tr...</td>\n",
              "    </tr>\n",
              "    <tr>\n",
              "      <th>2</th>\n",
              "      <td>1379</td>\n",
              "      <td>94</td>\n",
              "      <td>False</td>\n",
              "      <td>/content/drive/MyDrive/RSNA/archive/boneage-tr...</td>\n",
              "    </tr>\n",
              "    <tr>\n",
              "      <th>3</th>\n",
              "      <td>1380</td>\n",
              "      <td>120</td>\n",
              "      <td>True</td>\n",
              "      <td>/content/drive/MyDrive/RSNA/archive/boneage-tr...</td>\n",
              "    </tr>\n",
              "    <tr>\n",
              "      <th>4</th>\n",
              "      <td>1381</td>\n",
              "      <td>82</td>\n",
              "      <td>False</td>\n",
              "      <td>/content/drive/MyDrive/RSNA/archive/boneage-tr...</td>\n",
              "    </tr>\n",
              "    <tr>\n",
              "      <th>...</th>\n",
              "      <td>...</td>\n",
              "      <td>...</td>\n",
              "      <td>...</td>\n",
              "      <td>...</td>\n",
              "    </tr>\n",
              "    <tr>\n",
              "      <th>12606</th>\n",
              "      <td>15605</td>\n",
              "      <td>50</td>\n",
              "      <td>False</td>\n",
              "      <td>/content/drive/MyDrive/RSNA/archive/boneage-tr...</td>\n",
              "    </tr>\n",
              "    <tr>\n",
              "      <th>12607</th>\n",
              "      <td>15606</td>\n",
              "      <td>113</td>\n",
              "      <td>False</td>\n",
              "      <td>/content/drive/MyDrive/RSNA/archive/boneage-tr...</td>\n",
              "    </tr>\n",
              "    <tr>\n",
              "      <th>12608</th>\n",
              "      <td>15608</td>\n",
              "      <td>55</td>\n",
              "      <td>False</td>\n",
              "      <td>/content/drive/MyDrive/RSNA/archive/boneage-tr...</td>\n",
              "    </tr>\n",
              "    <tr>\n",
              "      <th>12609</th>\n",
              "      <td>15609</td>\n",
              "      <td>150</td>\n",
              "      <td>True</td>\n",
              "      <td>/content/drive/MyDrive/RSNA/archive/boneage-tr...</td>\n",
              "    </tr>\n",
              "    <tr>\n",
              "      <th>12610</th>\n",
              "      <td>15610</td>\n",
              "      <td>132</td>\n",
              "      <td>True</td>\n",
              "      <td>/content/drive/MyDrive/RSNA/archive/boneage-tr...</td>\n",
              "    </tr>\n",
              "  </tbody>\n",
              "</table>\n",
              "<p>12611 rows × 4 columns</p>\n",
              "</div>\n",
              "      <button class=\"colab-df-convert\" onclick=\"convertToInteractive('df-edd3c20b-41a0-4586-8310-5c8ce7f58a7d')\"\n",
              "              title=\"Convert this dataframe to an interactive table.\"\n",
              "              style=\"display:none;\">\n",
              "        \n",
              "  <svg xmlns=\"http://www.w3.org/2000/svg\" height=\"24px\"viewBox=\"0 0 24 24\"\n",
              "       width=\"24px\">\n",
              "    <path d=\"M0 0h24v24H0V0z\" fill=\"none\"/>\n",
              "    <path d=\"M18.56 5.44l.94 2.06.94-2.06 2.06-.94-2.06-.94-.94-2.06-.94 2.06-2.06.94zm-11 1L8.5 8.5l.94-2.06 2.06-.94-2.06-.94L8.5 2.5l-.94 2.06-2.06.94zm10 10l.94 2.06.94-2.06 2.06-.94-2.06-.94-.94-2.06-.94 2.06-2.06.94z\"/><path d=\"M17.41 7.96l-1.37-1.37c-.4-.4-.92-.59-1.43-.59-.52 0-1.04.2-1.43.59L10.3 9.45l-7.72 7.72c-.78.78-.78 2.05 0 2.83L4 21.41c.39.39.9.59 1.41.59.51 0 1.02-.2 1.41-.59l7.78-7.78 2.81-2.81c.8-.78.8-2.07 0-2.86zM5.41 20L4 18.59l7.72-7.72 1.47 1.35L5.41 20z\"/>\n",
              "  </svg>\n",
              "      </button>\n",
              "      \n",
              "  <style>\n",
              "    .colab-df-container {\n",
              "      display:flex;\n",
              "      flex-wrap:wrap;\n",
              "      gap: 12px;\n",
              "    }\n",
              "\n",
              "    .colab-df-convert {\n",
              "      background-color: #E8F0FE;\n",
              "      border: none;\n",
              "      border-radius: 50%;\n",
              "      cursor: pointer;\n",
              "      display: none;\n",
              "      fill: #1967D2;\n",
              "      height: 32px;\n",
              "      padding: 0 0 0 0;\n",
              "      width: 32px;\n",
              "    }\n",
              "\n",
              "    .colab-df-convert:hover {\n",
              "      background-color: #E2EBFA;\n",
              "      box-shadow: 0px 1px 2px rgba(60, 64, 67, 0.3), 0px 1px 3px 1px rgba(60, 64, 67, 0.15);\n",
              "      fill: #174EA6;\n",
              "    }\n",
              "\n",
              "    [theme=dark] .colab-df-convert {\n",
              "      background-color: #3B4455;\n",
              "      fill: #D2E3FC;\n",
              "    }\n",
              "\n",
              "    [theme=dark] .colab-df-convert:hover {\n",
              "      background-color: #434B5C;\n",
              "      box-shadow: 0px 1px 3px 1px rgba(0, 0, 0, 0.15);\n",
              "      filter: drop-shadow(0px 1px 2px rgba(0, 0, 0, 0.3));\n",
              "      fill: #FFFFFF;\n",
              "    }\n",
              "  </style>\n",
              "\n",
              "      <script>\n",
              "        const buttonEl =\n",
              "          document.querySelector('#df-edd3c20b-41a0-4586-8310-5c8ce7f58a7d button.colab-df-convert');\n",
              "        buttonEl.style.display =\n",
              "          google.colab.kernel.accessAllowed ? 'block' : 'none';\n",
              "\n",
              "        async function convertToInteractive(key) {\n",
              "          const element = document.querySelector('#df-edd3c20b-41a0-4586-8310-5c8ce7f58a7d');\n",
              "          const dataTable =\n",
              "            await google.colab.kernel.invokeFunction('convertToInteractive',\n",
              "                                                     [key], {});\n",
              "          if (!dataTable) return;\n",
              "\n",
              "          const docLinkHtml = 'Like what you see? Visit the ' +\n",
              "            '<a target=\"_blank\" href=https://colab.research.google.com/notebooks/data_table.ipynb>data table notebook</a>'\n",
              "            + ' to learn more about interactive tables.';\n",
              "          element.innerHTML = '';\n",
              "          dataTable['output_type'] = 'display_data';\n",
              "          await google.colab.output.renderOutput(dataTable, element);\n",
              "          const docLink = document.createElement('div');\n",
              "          docLink.innerHTML = docLinkHtml;\n",
              "          element.appendChild(docLink);\n",
              "        }\n",
              "      </script>\n",
              "    </div>\n",
              "  </div>\n",
              "  "
            ]
          },
          "metadata": {},
          "execution_count": 7
        }
      ],
      "source": [
        "age1"
      ]
    },
    {
      "cell_type": "code",
      "execution_count": null,
      "metadata": {
        "colab": {
          "base_uri": "https://localhost:8080/"
        },
        "id": "c-rTo2av8YsK",
        "outputId": "c3d7ce04-6fb0-4a13-d739-9ba08186c9c7"
      },
      "outputs": [
        {
          "output_type": "execute_result",
          "data": {
            "text/plain": [
              "(160,)"
            ]
          },
          "metadata": {},
          "execution_count": 8
        }
      ],
      "source": [
        "ag=age1.boneage.unique()\n",
        "ag.shape"
      ]
    },
    {
      "cell_type": "code",
      "execution_count": null,
      "metadata": {
        "id": "JTr3aQlu8aJq"
      },
      "outputs": [],
      "source": [
        "age1.drop(df[(age1['male'] == False)].index, inplace=True)"
      ]
    },
    {
      "cell_type": "code",
      "execution_count": null,
      "metadata": {
        "colab": {
          "base_uri": "https://localhost:8080/",
          "height": 424
        },
        "id": "TWFHhu9I8d5K",
        "outputId": "47b00fc8-635d-4a82-b915-933740048d0d"
      },
      "outputs": [
        {
          "output_type": "execute_result",
          "data": {
            "text/plain": [
              "          id  boneage  male                                               path\n",
              "3       1380      120  True  /content/drive/MyDrive/RSNA/archive/boneage-tr...\n",
              "5       1382      138  True  /content/drive/MyDrive/RSNA/archive/boneage-tr...\n",
              "6       1383      150  True  /content/drive/MyDrive/RSNA/archive/boneage-tr...\n",
              "7       1384      156  True  /content/drive/MyDrive/RSNA/archive/boneage-tr...\n",
              "8       1385       36  True  /content/drive/MyDrive/RSNA/archive/boneage-tr...\n",
              "...      ...      ...   ...                                                ...\n",
              "12599  15597      192  True  /content/drive/MyDrive/RSNA/archive/boneage-tr...\n",
              "12601  15599       36  True  /content/drive/MyDrive/RSNA/archive/boneage-tr...\n",
              "12605  15604      168  True  /content/drive/MyDrive/RSNA/archive/boneage-tr...\n",
              "12609  15609      150  True  /content/drive/MyDrive/RSNA/archive/boneage-tr...\n",
              "12610  15610      132  True  /content/drive/MyDrive/RSNA/archive/boneage-tr...\n",
              "\n",
              "[6833 rows x 4 columns]"
            ],
            "text/html": [
              "\n",
              "  <div id=\"df-b4b37f2f-98dc-4973-83ae-276b0ef5a30c\">\n",
              "    <div class=\"colab-df-container\">\n",
              "      <div>\n",
              "<style scoped>\n",
              "    .dataframe tbody tr th:only-of-type {\n",
              "        vertical-align: middle;\n",
              "    }\n",
              "\n",
              "    .dataframe tbody tr th {\n",
              "        vertical-align: top;\n",
              "    }\n",
              "\n",
              "    .dataframe thead th {\n",
              "        text-align: right;\n",
              "    }\n",
              "</style>\n",
              "<table border=\"1\" class=\"dataframe\">\n",
              "  <thead>\n",
              "    <tr style=\"text-align: right;\">\n",
              "      <th></th>\n",
              "      <th>id</th>\n",
              "      <th>boneage</th>\n",
              "      <th>male</th>\n",
              "      <th>path</th>\n",
              "    </tr>\n",
              "  </thead>\n",
              "  <tbody>\n",
              "    <tr>\n",
              "      <th>3</th>\n",
              "      <td>1380</td>\n",
              "      <td>120</td>\n",
              "      <td>True</td>\n",
              "      <td>/content/drive/MyDrive/RSNA/archive/boneage-tr...</td>\n",
              "    </tr>\n",
              "    <tr>\n",
              "      <th>5</th>\n",
              "      <td>1382</td>\n",
              "      <td>138</td>\n",
              "      <td>True</td>\n",
              "      <td>/content/drive/MyDrive/RSNA/archive/boneage-tr...</td>\n",
              "    </tr>\n",
              "    <tr>\n",
              "      <th>6</th>\n",
              "      <td>1383</td>\n",
              "      <td>150</td>\n",
              "      <td>True</td>\n",
              "      <td>/content/drive/MyDrive/RSNA/archive/boneage-tr...</td>\n",
              "    </tr>\n",
              "    <tr>\n",
              "      <th>7</th>\n",
              "      <td>1384</td>\n",
              "      <td>156</td>\n",
              "      <td>True</td>\n",
              "      <td>/content/drive/MyDrive/RSNA/archive/boneage-tr...</td>\n",
              "    </tr>\n",
              "    <tr>\n",
              "      <th>8</th>\n",
              "      <td>1385</td>\n",
              "      <td>36</td>\n",
              "      <td>True</td>\n",
              "      <td>/content/drive/MyDrive/RSNA/archive/boneage-tr...</td>\n",
              "    </tr>\n",
              "    <tr>\n",
              "      <th>...</th>\n",
              "      <td>...</td>\n",
              "      <td>...</td>\n",
              "      <td>...</td>\n",
              "      <td>...</td>\n",
              "    </tr>\n",
              "    <tr>\n",
              "      <th>12599</th>\n",
              "      <td>15597</td>\n",
              "      <td>192</td>\n",
              "      <td>True</td>\n",
              "      <td>/content/drive/MyDrive/RSNA/archive/boneage-tr...</td>\n",
              "    </tr>\n",
              "    <tr>\n",
              "      <th>12601</th>\n",
              "      <td>15599</td>\n",
              "      <td>36</td>\n",
              "      <td>True</td>\n",
              "      <td>/content/drive/MyDrive/RSNA/archive/boneage-tr...</td>\n",
              "    </tr>\n",
              "    <tr>\n",
              "      <th>12605</th>\n",
              "      <td>15604</td>\n",
              "      <td>168</td>\n",
              "      <td>True</td>\n",
              "      <td>/content/drive/MyDrive/RSNA/archive/boneage-tr...</td>\n",
              "    </tr>\n",
              "    <tr>\n",
              "      <th>12609</th>\n",
              "      <td>15609</td>\n",
              "      <td>150</td>\n",
              "      <td>True</td>\n",
              "      <td>/content/drive/MyDrive/RSNA/archive/boneage-tr...</td>\n",
              "    </tr>\n",
              "    <tr>\n",
              "      <th>12610</th>\n",
              "      <td>15610</td>\n",
              "      <td>132</td>\n",
              "      <td>True</td>\n",
              "      <td>/content/drive/MyDrive/RSNA/archive/boneage-tr...</td>\n",
              "    </tr>\n",
              "  </tbody>\n",
              "</table>\n",
              "<p>6833 rows × 4 columns</p>\n",
              "</div>\n",
              "      <button class=\"colab-df-convert\" onclick=\"convertToInteractive('df-b4b37f2f-98dc-4973-83ae-276b0ef5a30c')\"\n",
              "              title=\"Convert this dataframe to an interactive table.\"\n",
              "              style=\"display:none;\">\n",
              "        \n",
              "  <svg xmlns=\"http://www.w3.org/2000/svg\" height=\"24px\"viewBox=\"0 0 24 24\"\n",
              "       width=\"24px\">\n",
              "    <path d=\"M0 0h24v24H0V0z\" fill=\"none\"/>\n",
              "    <path d=\"M18.56 5.44l.94 2.06.94-2.06 2.06-.94-2.06-.94-.94-2.06-.94 2.06-2.06.94zm-11 1L8.5 8.5l.94-2.06 2.06-.94-2.06-.94L8.5 2.5l-.94 2.06-2.06.94zm10 10l.94 2.06.94-2.06 2.06-.94-2.06-.94-.94-2.06-.94 2.06-2.06.94z\"/><path d=\"M17.41 7.96l-1.37-1.37c-.4-.4-.92-.59-1.43-.59-.52 0-1.04.2-1.43.59L10.3 9.45l-7.72 7.72c-.78.78-.78 2.05 0 2.83L4 21.41c.39.39.9.59 1.41.59.51 0 1.02-.2 1.41-.59l7.78-7.78 2.81-2.81c.8-.78.8-2.07 0-2.86zM5.41 20L4 18.59l7.72-7.72 1.47 1.35L5.41 20z\"/>\n",
              "  </svg>\n",
              "      </button>\n",
              "      \n",
              "  <style>\n",
              "    .colab-df-container {\n",
              "      display:flex;\n",
              "      flex-wrap:wrap;\n",
              "      gap: 12px;\n",
              "    }\n",
              "\n",
              "    .colab-df-convert {\n",
              "      background-color: #E8F0FE;\n",
              "      border: none;\n",
              "      border-radius: 50%;\n",
              "      cursor: pointer;\n",
              "      display: none;\n",
              "      fill: #1967D2;\n",
              "      height: 32px;\n",
              "      padding: 0 0 0 0;\n",
              "      width: 32px;\n",
              "    }\n",
              "\n",
              "    .colab-df-convert:hover {\n",
              "      background-color: #E2EBFA;\n",
              "      box-shadow: 0px 1px 2px rgba(60, 64, 67, 0.3), 0px 1px 3px 1px rgba(60, 64, 67, 0.15);\n",
              "      fill: #174EA6;\n",
              "    }\n",
              "\n",
              "    [theme=dark] .colab-df-convert {\n",
              "      background-color: #3B4455;\n",
              "      fill: #D2E3FC;\n",
              "    }\n",
              "\n",
              "    [theme=dark] .colab-df-convert:hover {\n",
              "      background-color: #434B5C;\n",
              "      box-shadow: 0px 1px 3px 1px rgba(0, 0, 0, 0.15);\n",
              "      filter: drop-shadow(0px 1px 2px rgba(0, 0, 0, 0.3));\n",
              "      fill: #FFFFFF;\n",
              "    }\n",
              "  </style>\n",
              "\n",
              "      <script>\n",
              "        const buttonEl =\n",
              "          document.querySelector('#df-b4b37f2f-98dc-4973-83ae-276b0ef5a30c button.colab-df-convert');\n",
              "        buttonEl.style.display =\n",
              "          google.colab.kernel.accessAllowed ? 'block' : 'none';\n",
              "\n",
              "        async function convertToInteractive(key) {\n",
              "          const element = document.querySelector('#df-b4b37f2f-98dc-4973-83ae-276b0ef5a30c');\n",
              "          const dataTable =\n",
              "            await google.colab.kernel.invokeFunction('convertToInteractive',\n",
              "                                                     [key], {});\n",
              "          if (!dataTable) return;\n",
              "\n",
              "          const docLinkHtml = 'Like what you see? Visit the ' +\n",
              "            '<a target=\"_blank\" href=https://colab.research.google.com/notebooks/data_table.ipynb>data table notebook</a>'\n",
              "            + ' to learn more about interactive tables.';\n",
              "          element.innerHTML = '';\n",
              "          dataTable['output_type'] = 'display_data';\n",
              "          await google.colab.output.renderOutput(dataTable, element);\n",
              "          const docLink = document.createElement('div');\n",
              "          docLink.innerHTML = docLinkHtml;\n",
              "          element.appendChild(docLink);\n",
              "        }\n",
              "      </script>\n",
              "    </div>\n",
              "  </div>\n",
              "  "
            ]
          },
          "metadata": {},
          "execution_count": 10
        }
      ],
      "source": [
        "age1"
      ]
    },
    {
      "cell_type": "code",
      "execution_count": null,
      "metadata": {
        "colab": {
          "base_uri": "https://localhost:8080/"
        },
        "id": "K_NKe5Kw8p0B",
        "outputId": "6273111b-b23a-442e-8b8e-ea17dfb998fc"
      },
      "outputs": [
        {
          "output_type": "execute_result",
          "data": {
            "text/plain": [
              "(131,)"
            ]
          },
          "metadata": {},
          "execution_count": 11
        }
      ],
      "source": [
        "ag=age1.boneage.unique()\n",
        "ag.shape"
      ]
    },
    {
      "cell_type": "code",
      "execution_count": null,
      "metadata": {
        "colab": {
          "base_uri": "https://localhost:8080/"
        },
        "id": "g_H1blDn8rZJ",
        "outputId": "7864d4e5-ae68-4866-f651-d5ad9750eb16"
      },
      "outputs": [
        {
          "output_type": "execute_result",
          "data": {
            "text/plain": [
              "168    738\n",
              "156    725\n",
              "150    595\n",
              "162    491\n",
              "138    428\n",
              "      ... \n",
              "133      1\n",
              "33       1\n",
              "14       1\n",
              "130      1\n",
              "81       1\n",
              "Name: boneage, Length: 131, dtype: int64"
            ]
          },
          "metadata": {},
          "execution_count": 12
        }
      ],
      "source": [
        "age1['boneage'].value_counts()"
      ]
    },
    {
      "cell_type": "code",
      "execution_count": null,
      "metadata": {
        "id": "xS4ttx4698WR"
      },
      "outputs": [],
      "source": [
        "points=age1.boneage.unique()"
      ]
    },
    {
      "cell_type": "code",
      "execution_count": null,
      "metadata": {
        "colab": {
          "base_uri": "https://localhost:8080/"
        },
        "id": "TczCKLG_-JAL",
        "outputId": "6f3f1848-717e-4e32-ee43-412c42020ab7"
      },
      "outputs": [
        {
          "output_type": "stream",
          "name": "stdout",
          "text": [
            "(131,)\n"
          ]
        },
        {
          "output_type": "execute_result",
          "data": {
            "text/plain": [
              "array([120, 138, 150, 156,  36, 180,  57, 126, 149,  78, 162,  88,  32,\n",
              "        54, 174,  33, 170, 108, 165,  60,  42,  21, 132,  90, 192,  84,\n",
              "        96, 216, 100,  72,  48, 139,  24,  69, 186,  13, 135, 146, 189,\n",
              "        12,  27, 144,  51, 102, 134, 168,  64, 129, 147,  14,  45,  28,\n",
              "       128, 210, 222,  66, 198, 200, 104,  80,   9, 114, 112, 204, 159,\n",
              "       154,  58,  67, 116, 101, 124,  56, 130, 158, 136, 228,  38, 164,\n",
              "       137,  15, 172,  18, 184, 143,  76, 169, 121, 214, 115,  75,  17,\n",
              "        34, 106, 151, 194, 177,  81, 105, 183, 152, 125, 176, 133, 153,\n",
              "        82, 141, 173, 196, 160, 118,  20,  62, 212,   1,  10,  63, 163,\n",
              "        87,  52, 182, 142, 179,  16,  93,  39,  40, 206,  37,  30, 161,\n",
              "        94])"
            ]
          },
          "metadata": {},
          "execution_count": 14
        }
      ],
      "source": [
        "\n",
        "print(points.shape)\n",
        "points"
      ]
    },
    {
      "cell_type": "code",
      "execution_count": null,
      "metadata": {
        "id": "srj5kAzZ838S"
      },
      "outputs": [],
      "source": [
        "import numpy as np\n",
        "point=[]\n",
        "for i in range (131):\n",
        "  if((age1['boneage'].value_counts()[points[i]])<3):\n",
        "    point.append(points[i])\n",
        "  #print(df['boneage'].value_counts()[points[i]])\n",
        "point=np.asarray(point)"
      ]
    },
    {
      "cell_type": "code",
      "execution_count": null,
      "metadata": {
        "colab": {
          "base_uri": "https://localhost:8080/"
        },
        "id": "q0jfheL8-jEf",
        "outputId": "c97388a1-9dbe-4b65-d6ab-ce42a8d35665"
      },
      "outputs": [
        {
          "output_type": "stream",
          "name": "stdout",
          "text": [
            "(63,)\n"
          ]
        },
        {
          "output_type": "execute_result",
          "data": {
            "text/plain": [
              "array([149,  88,  33, 139,  13,  64, 129,  14, 128, 222, 200, 104,  80,\n",
              "       112,  67, 116, 101,  56, 130, 136,  38, 137, 172, 143,  76, 169,\n",
              "       121, 214, 115,  17, 151, 194, 177,  81, 105, 152, 125, 133, 141,\n",
              "       173, 196, 160, 118,  20,  62, 212,   1,  10,  63, 163,  87,  52,\n",
              "       182, 142, 179,  16,  93,  40, 206,  37,  30, 161,  94])"
            ]
          },
          "metadata": {},
          "execution_count": 16
        }
      ],
      "source": [
        "\n",
        "print(point.shape)\n",
        "point"
      ]
    },
    {
      "cell_type": "code",
      "execution_count": null,
      "metadata": {
        "id": "v2B59jo9-uhH"
      },
      "outputs": [],
      "source": [
        "for t in range(3):\n",
        "  for i in range(63):\n",
        "    x=df.id[df.boneage == point[i]].tolist()[0]\n",
        "    y=df.boneage[df.boneage == point[i]].tolist()[0]\n",
        "    m=df.male[df.boneage == point[i]].tolist()[0]\n",
        "    z=df.path[df.boneage== point[i]].tolist()[0]\n",
        "    #y=df['boneage']\n",
        "    #m=df['male']\n",
        "    new_row = {'id': x, 'boneage':y, 'male':m , 'path':z}\n",
        "    age1 = age1.append(new_row, ignore_index=True)"
      ]
    },
    {
      "cell_type": "code",
      "execution_count": null,
      "metadata": {
        "colab": {
          "base_uri": "https://localhost:8080/",
          "height": 424
        },
        "id": "BVu3WWAW_JE5",
        "outputId": "83f875e4-4ca3-4eee-be02-d3eca6a489f3"
      },
      "outputs": [
        {
          "output_type": "execute_result",
          "data": {
            "text/plain": [
              "         id  boneage  male                                               path\n",
              "0      1380      120  True  /content/drive/MyDrive/RSNA/archive/boneage-tr...\n",
              "1      1382      138  True  /content/drive/MyDrive/RSNA/archive/boneage-tr...\n",
              "2      1383      150  True  /content/drive/MyDrive/RSNA/archive/boneage-tr...\n",
              "3      1384      156  True  /content/drive/MyDrive/RSNA/archive/boneage-tr...\n",
              "4      1385       36  True  /content/drive/MyDrive/RSNA/archive/boneage-tr...\n",
              "...     ...      ...   ...                                                ...\n",
              "7017  10474      206  True  /content/drive/MyDrive/RSNA/archive/boneage-tr...\n",
              "7018  11355       37  True  /content/drive/MyDrive/RSNA/archive/boneage-tr...\n",
              "7019  12027       30  True  /content/drive/MyDrive/RSNA/archive/boneage-tr...\n",
              "7020  12566      161  True  /content/drive/MyDrive/RSNA/archive/boneage-tr...\n",
              "7021  12920       94  True  /content/drive/MyDrive/RSNA/archive/boneage-tr...\n",
              "\n",
              "[7022 rows x 4 columns]"
            ],
            "text/html": [
              "\n",
              "  <div id=\"df-d70be517-9fbc-4688-a54a-14b9a07b4f6c\">\n",
              "    <div class=\"colab-df-container\">\n",
              "      <div>\n",
              "<style scoped>\n",
              "    .dataframe tbody tr th:only-of-type {\n",
              "        vertical-align: middle;\n",
              "    }\n",
              "\n",
              "    .dataframe tbody tr th {\n",
              "        vertical-align: top;\n",
              "    }\n",
              "\n",
              "    .dataframe thead th {\n",
              "        text-align: right;\n",
              "    }\n",
              "</style>\n",
              "<table border=\"1\" class=\"dataframe\">\n",
              "  <thead>\n",
              "    <tr style=\"text-align: right;\">\n",
              "      <th></th>\n",
              "      <th>id</th>\n",
              "      <th>boneage</th>\n",
              "      <th>male</th>\n",
              "      <th>path</th>\n",
              "    </tr>\n",
              "  </thead>\n",
              "  <tbody>\n",
              "    <tr>\n",
              "      <th>0</th>\n",
              "      <td>1380</td>\n",
              "      <td>120</td>\n",
              "      <td>True</td>\n",
              "      <td>/content/drive/MyDrive/RSNA/archive/boneage-tr...</td>\n",
              "    </tr>\n",
              "    <tr>\n",
              "      <th>1</th>\n",
              "      <td>1382</td>\n",
              "      <td>138</td>\n",
              "      <td>True</td>\n",
              "      <td>/content/drive/MyDrive/RSNA/archive/boneage-tr...</td>\n",
              "    </tr>\n",
              "    <tr>\n",
              "      <th>2</th>\n",
              "      <td>1383</td>\n",
              "      <td>150</td>\n",
              "      <td>True</td>\n",
              "      <td>/content/drive/MyDrive/RSNA/archive/boneage-tr...</td>\n",
              "    </tr>\n",
              "    <tr>\n",
              "      <th>3</th>\n",
              "      <td>1384</td>\n",
              "      <td>156</td>\n",
              "      <td>True</td>\n",
              "      <td>/content/drive/MyDrive/RSNA/archive/boneage-tr...</td>\n",
              "    </tr>\n",
              "    <tr>\n",
              "      <th>4</th>\n",
              "      <td>1385</td>\n",
              "      <td>36</td>\n",
              "      <td>True</td>\n",
              "      <td>/content/drive/MyDrive/RSNA/archive/boneage-tr...</td>\n",
              "    </tr>\n",
              "    <tr>\n",
              "      <th>...</th>\n",
              "      <td>...</td>\n",
              "      <td>...</td>\n",
              "      <td>...</td>\n",
              "      <td>...</td>\n",
              "    </tr>\n",
              "    <tr>\n",
              "      <th>7017</th>\n",
              "      <td>10474</td>\n",
              "      <td>206</td>\n",
              "      <td>True</td>\n",
              "      <td>/content/drive/MyDrive/RSNA/archive/boneage-tr...</td>\n",
              "    </tr>\n",
              "    <tr>\n",
              "      <th>7018</th>\n",
              "      <td>11355</td>\n",
              "      <td>37</td>\n",
              "      <td>True</td>\n",
              "      <td>/content/drive/MyDrive/RSNA/archive/boneage-tr...</td>\n",
              "    </tr>\n",
              "    <tr>\n",
              "      <th>7019</th>\n",
              "      <td>12027</td>\n",
              "      <td>30</td>\n",
              "      <td>True</td>\n",
              "      <td>/content/drive/MyDrive/RSNA/archive/boneage-tr...</td>\n",
              "    </tr>\n",
              "    <tr>\n",
              "      <th>7020</th>\n",
              "      <td>12566</td>\n",
              "      <td>161</td>\n",
              "      <td>True</td>\n",
              "      <td>/content/drive/MyDrive/RSNA/archive/boneage-tr...</td>\n",
              "    </tr>\n",
              "    <tr>\n",
              "      <th>7021</th>\n",
              "      <td>12920</td>\n",
              "      <td>94</td>\n",
              "      <td>True</td>\n",
              "      <td>/content/drive/MyDrive/RSNA/archive/boneage-tr...</td>\n",
              "    </tr>\n",
              "  </tbody>\n",
              "</table>\n",
              "<p>7022 rows × 4 columns</p>\n",
              "</div>\n",
              "      <button class=\"colab-df-convert\" onclick=\"convertToInteractive('df-d70be517-9fbc-4688-a54a-14b9a07b4f6c')\"\n",
              "              title=\"Convert this dataframe to an interactive table.\"\n",
              "              style=\"display:none;\">\n",
              "        \n",
              "  <svg xmlns=\"http://www.w3.org/2000/svg\" height=\"24px\"viewBox=\"0 0 24 24\"\n",
              "       width=\"24px\">\n",
              "    <path d=\"M0 0h24v24H0V0z\" fill=\"none\"/>\n",
              "    <path d=\"M18.56 5.44l.94 2.06.94-2.06 2.06-.94-2.06-.94-.94-2.06-.94 2.06-2.06.94zm-11 1L8.5 8.5l.94-2.06 2.06-.94-2.06-.94L8.5 2.5l-.94 2.06-2.06.94zm10 10l.94 2.06.94-2.06 2.06-.94-2.06-.94-.94-2.06-.94 2.06-2.06.94z\"/><path d=\"M17.41 7.96l-1.37-1.37c-.4-.4-.92-.59-1.43-.59-.52 0-1.04.2-1.43.59L10.3 9.45l-7.72 7.72c-.78.78-.78 2.05 0 2.83L4 21.41c.39.39.9.59 1.41.59.51 0 1.02-.2 1.41-.59l7.78-7.78 2.81-2.81c.8-.78.8-2.07 0-2.86zM5.41 20L4 18.59l7.72-7.72 1.47 1.35L5.41 20z\"/>\n",
              "  </svg>\n",
              "      </button>\n",
              "      \n",
              "  <style>\n",
              "    .colab-df-container {\n",
              "      display:flex;\n",
              "      flex-wrap:wrap;\n",
              "      gap: 12px;\n",
              "    }\n",
              "\n",
              "    .colab-df-convert {\n",
              "      background-color: #E8F0FE;\n",
              "      border: none;\n",
              "      border-radius: 50%;\n",
              "      cursor: pointer;\n",
              "      display: none;\n",
              "      fill: #1967D2;\n",
              "      height: 32px;\n",
              "      padding: 0 0 0 0;\n",
              "      width: 32px;\n",
              "    }\n",
              "\n",
              "    .colab-df-convert:hover {\n",
              "      background-color: #E2EBFA;\n",
              "      box-shadow: 0px 1px 2px rgba(60, 64, 67, 0.3), 0px 1px 3px 1px rgba(60, 64, 67, 0.15);\n",
              "      fill: #174EA6;\n",
              "    }\n",
              "\n",
              "    [theme=dark] .colab-df-convert {\n",
              "      background-color: #3B4455;\n",
              "      fill: #D2E3FC;\n",
              "    }\n",
              "\n",
              "    [theme=dark] .colab-df-convert:hover {\n",
              "      background-color: #434B5C;\n",
              "      box-shadow: 0px 1px 3px 1px rgba(0, 0, 0, 0.15);\n",
              "      filter: drop-shadow(0px 1px 2px rgba(0, 0, 0, 0.3));\n",
              "      fill: #FFFFFF;\n",
              "    }\n",
              "  </style>\n",
              "\n",
              "      <script>\n",
              "        const buttonEl =\n",
              "          document.querySelector('#df-d70be517-9fbc-4688-a54a-14b9a07b4f6c button.colab-df-convert');\n",
              "        buttonEl.style.display =\n",
              "          google.colab.kernel.accessAllowed ? 'block' : 'none';\n",
              "\n",
              "        async function convertToInteractive(key) {\n",
              "          const element = document.querySelector('#df-d70be517-9fbc-4688-a54a-14b9a07b4f6c');\n",
              "          const dataTable =\n",
              "            await google.colab.kernel.invokeFunction('convertToInteractive',\n",
              "                                                     [key], {});\n",
              "          if (!dataTable) return;\n",
              "\n",
              "          const docLinkHtml = 'Like what you see? Visit the ' +\n",
              "            '<a target=\"_blank\" href=https://colab.research.google.com/notebooks/data_table.ipynb>data table notebook</a>'\n",
              "            + ' to learn more about interactive tables.';\n",
              "          element.innerHTML = '';\n",
              "          dataTable['output_type'] = 'display_data';\n",
              "          await google.colab.output.renderOutput(dataTable, element);\n",
              "          const docLink = document.createElement('div');\n",
              "          docLink.innerHTML = docLinkHtml;\n",
              "          element.appendChild(docLink);\n",
              "        }\n",
              "      </script>\n",
              "    </div>\n",
              "  </div>\n",
              "  "
            ]
          },
          "metadata": {},
          "execution_count": 18
        }
      ],
      "source": [
        "age1"
      ]
    },
    {
      "cell_type": "code",
      "execution_count": null,
      "metadata": {
        "colab": {
          "base_uri": "https://localhost:8080/"
        },
        "id": "78T4_RIVgahz",
        "outputId": "a0dd73b0-ee7c-49f3-d580-7a8c5f0f70d5"
      },
      "outputs": [
        {
          "output_type": "stream",
          "name": "stdout",
          "text": [
            "train 4476 validation 1054 1492\n"
          ]
        }
      ],
      "source": [
        "from sklearn.model_selection import train_test_split\n",
        "train_test1, valid1 = train_test_split(age1, \n",
        "                                   test_size = 0.15, \n",
        "                                   random_state = 2018,\n",
        "                                   stratify = age1['boneage'])\n",
        "#print('train', raw_train_df.shape[0], 'validation', valid_df.shape[0])\n",
        "train1, test1 = train_test_split(train_test1, \n",
        "                                   test_size = 0.25, \n",
        "                                   random_state = 2018,\n",
        "                                   stratify = train_test1['boneage'])\n",
        "print('train', train1.shape[0], 'validation', valid1.shape[0],test1.shape[0])"
      ]
    },
    {
      "cell_type": "code",
      "execution_count": null,
      "metadata": {
        "id": "rgXaGEEShK2u"
      },
      "outputs": [],
      "source": [
        "from keras.preprocessing.image import ImageDataGenerator\n",
        "IMG_SIZE = (300,300)\n",
        "core_idg = ImageDataGenerator(rotation_range=20,width_shift_range=0.15,height_shift_range=0.15,zoom_range=0.2,horizontal_flip=True)"
      ]
    },
    {
      "cell_type": "code",
      "execution_count": null,
      "metadata": {
        "id": "it_INY2thRLt"
      },
      "outputs": [],
      "source": [
        "def flow_from_dataframe(img_data_gen, in_df, path_col, y_col, **dflow_args):\n",
        "    base_dir = os.path.dirname(in_df[path_col].values[0])\n",
        "    print('## Ignore next message from keras, values are replaced anyways')\n",
        "    df_gen = img_data_gen.flow_from_directory(base_dir, \n",
        "                                     class_mode = 'sparse',\n",
        "                                    **dflow_args)\n",
        "    df_gen.filenames = in_df[path_col].values\n",
        "    df_gen.filepaths.extend(df_gen.filenames)\n",
        "    df_gen.classes = np.stack(in_df[y_col].values)\n",
        "    df_gen.samples = in_df.shape[0]\n",
        "    df_gen.n = in_df.shape[0]\n",
        "    df_gen._set_index_array()\n",
        "    df_gen.directory = '' \n",
        "    gen=np.ones(df_gen.samples)\n",
        "    print('Reinserting dataframe: {} images'.format(in_df.shape[0]))\n",
        "    #print(df_gen.samples)\n",
        "    #yield (df_gen,gen)\n",
        "    return df_gen"
      ]
    },
    {
      "cell_type": "code",
      "execution_count": null,
      "metadata": {
        "colab": {
          "base_uri": "https://localhost:8080/"
        },
        "id": "u7pfG4-FhYU3",
        "outputId": "52104193-a4d4-46fd-9794-602418515b0b"
      },
      "outputs": [
        {
          "output_type": "stream",
          "name": "stdout",
          "text": [
            "## Ignore next message from keras, values are replaced anyways\n",
            "Found 0 images belonging to 0 classes.\n",
            "Reinserting dataframe: 4476 images\n"
          ]
        }
      ],
      "source": [
        "train1_gen = flow_from_dataframe( core_idg, train1, \n",
        "                             path_col = 'path',\n",
        "                            y_col = 'boneage', \n",
        "                            target_size = IMG_SIZE,\n",
        "                             color_mode = 'rgb',\n",
        "                            batch_size = 4476)"
      ]
    },
    {
      "cell_type": "code",
      "execution_count": null,
      "metadata": {
        "id": "IGccOe-qhird",
        "colab": {
          "base_uri": "https://localhost:8080/"
        },
        "outputId": "7704fa2e-3479-4b74-d6ff-0de5bd4dd249"
      },
      "outputs": [
        {
          "output_type": "stream",
          "name": "stdout",
          "text": [
            "## Ignore next message from keras, values are replaced anyways\n",
            "Found 0 images belonging to 0 classes.\n",
            "Reinserting dataframe: 1054 images\n"
          ]
        }
      ],
      "source": [
        "valid1_gen = flow_from_dataframe(core_idg, valid1, \n",
        "                             path_col = 'path',\n",
        "                            y_col = 'boneage', \n",
        "                            target_size = IMG_SIZE,\n",
        "                             color_mode = 'rgb',\n",
        "                            batch_size = 1054) "
      ]
    },
    {
      "cell_type": "code",
      "execution_count": null,
      "metadata": {
        "id": "bqb6-OqtLFHz"
      },
      "outputs": [],
      "source": [
        "\n",
        "testcore_idg = ImageDataGenerator()"
      ]
    },
    {
      "cell_type": "code",
      "execution_count": null,
      "metadata": {
        "id": "fnPAVjuXLFHz",
        "colab": {
          "base_uri": "https://localhost:8080/"
        },
        "outputId": "05faaade-65ae-47ed-9b34-48472a4355dd"
      },
      "outputs": [
        {
          "output_type": "stream",
          "name": "stdout",
          "text": [
            "## Ignore next message from keras, values are replaced anyways\n",
            "Found 0 images belonging to 0 classes.\n",
            "Reinserting dataframe: 1492 images\n"
          ]
        }
      ],
      "source": [
        "test1_gen = flow_from_dataframe(testcore_idg, \n",
        "                              test1, \n",
        "                             path_col = 'path',\n",
        "                            y_col = 'boneage', \n",
        "                            target_size = IMG_SIZE,\n",
        "                             color_mode = 'rgb',\n",
        "                            batch_size = 1492)"
      ]
    },
    {
      "cell_type": "code",
      "execution_count": null,
      "metadata": {
        "id": "TGRGhrMlhSNa"
      },
      "outputs": [],
      "source": [
        "train1_X, train1_Y = next(train1_gen)"
      ]
    },
    {
      "cell_type": "code",
      "execution_count": null,
      "metadata": {
        "id": "ZwAUKKc8kbFw",
        "colab": {
          "base_uri": "https://localhost:8080/"
        },
        "outputId": "e804288f-db88-4153-9482-d398f3e26500"
      },
      "outputs": [
        {
          "data": {
            "text/plain": [
              "(4476, 300, 300, 3)"
            ]
          },
          "execution_count": 27,
          "metadata": {},
          "output_type": "execute_result"
        }
      ],
      "source": [
        "train1_X.shape"
      ]
    },
    {
      "cell_type": "code",
      "execution_count": null,
      "metadata": {
        "id": "KxRK-aGYk3Gz"
      },
      "outputs": [],
      "source": [
        "valid1_X, valid1_Y = next(valid1_gen)"
      ]
    },
    {
      "cell_type": "code",
      "execution_count": null,
      "metadata": {
        "id": "YrzIkZL_k4OT"
      },
      "outputs": [],
      "source": [
        "valid1_X.shape"
      ]
    },
    {
      "cell_type": "code",
      "execution_count": null,
      "metadata": {
        "id": "fcr4PLs1lDer"
      },
      "outputs": [],
      "source": [
        "test1_X, test1_Y = next(test1_gen)"
      ]
    },
    {
      "cell_type": "code",
      "execution_count": null,
      "metadata": {
        "id": "REnaZedJlatT",
        "colab": {
          "base_uri": "https://localhost:8080/"
        },
        "outputId": "fc178bb9-fc83-4ff7-c8ad-71faa01fa87f"
      },
      "outputs": [
        {
          "output_type": "execute_result",
          "data": {
            "text/plain": [
              "(1492, 300, 300, 3)"
            ]
          },
          "metadata": {},
          "execution_count": 31
        }
      ],
      "source": [
        "test1_X.shape"
      ]
    },
    {
      "cell_type": "code",
      "execution_count": null,
      "metadata": {
        "id": "h4ZPp2fG_f6U"
      },
      "outputs": [],
      "source": [
        "import pandas as pd\n",
        "train_dir = '/content/drive/MyDrive/RSNA/archive/boneage-training-dataset/boneage-training-dataset'\n",
        "df = pd.read_csv('/content/drive/MyDrive/RSNA/archive/boneage-training-dataset.csv')"
      ]
    },
    {
      "cell_type": "code",
      "execution_count": null,
      "metadata": {
        "id": "8SPN47Vl_f6X"
      },
      "outputs": [],
      "source": [
        "import os\n",
        "age_df = df \n",
        "age_df['path'] = age_df['id'].map(lambda x: os.path.join(train_dir,\n",
        "                                                         '{}.png'.format(x)))\n",
        "age_df['exists'] = age_df['path'].map(os.path.exists)"
      ]
    },
    {
      "cell_type": "code",
      "execution_count": null,
      "metadata": {
        "id": "L2n5Bpp8_f6Y"
      },
      "outputs": [],
      "source": [
        "age0=age_df"
      ]
    },
    {
      "cell_type": "code",
      "execution_count": null,
      "metadata": {
        "id": "eJkaXEGR_f6Y",
        "colab": {
          "base_uri": "https://localhost:8080/",
          "height": 424
        },
        "outputId": "e6b9e74a-6ece-4d31-d611-2944f0c68235"
      },
      "outputs": [
        {
          "output_type": "execute_result",
          "data": {
            "text/plain": [
              "          id  boneage   male  \\\n",
              "0       1377      180  False   \n",
              "1       1378       12  False   \n",
              "2       1379       94  False   \n",
              "3       1380      120   True   \n",
              "4       1381       82  False   \n",
              "...      ...      ...    ...   \n",
              "12606  15605       50  False   \n",
              "12607  15606      113  False   \n",
              "12608  15608       55  False   \n",
              "12609  15609      150   True   \n",
              "12610  15610      132   True   \n",
              "\n",
              "                                                    path  exists  \n",
              "0      /content/drive/MyDrive/RSNA/archive/boneage-tr...    True  \n",
              "1      /content/drive/MyDrive/RSNA/archive/boneage-tr...    True  \n",
              "2      /content/drive/MyDrive/RSNA/archive/boneage-tr...    True  \n",
              "3      /content/drive/MyDrive/RSNA/archive/boneage-tr...    True  \n",
              "4      /content/drive/MyDrive/RSNA/archive/boneage-tr...    True  \n",
              "...                                                  ...     ...  \n",
              "12606  /content/drive/MyDrive/RSNA/archive/boneage-tr...    True  \n",
              "12607  /content/drive/MyDrive/RSNA/archive/boneage-tr...    True  \n",
              "12608  /content/drive/MyDrive/RSNA/archive/boneage-tr...    True  \n",
              "12609  /content/drive/MyDrive/RSNA/archive/boneage-tr...    True  \n",
              "12610  /content/drive/MyDrive/RSNA/archive/boneage-tr...    True  \n",
              "\n",
              "[12611 rows x 5 columns]"
            ],
            "text/html": [
              "\n",
              "  <div id=\"df-efaf7ffe-2b86-4cc6-a903-8d5015ad71e7\">\n",
              "    <div class=\"colab-df-container\">\n",
              "      <div>\n",
              "<style scoped>\n",
              "    .dataframe tbody tr th:only-of-type {\n",
              "        vertical-align: middle;\n",
              "    }\n",
              "\n",
              "    .dataframe tbody tr th {\n",
              "        vertical-align: top;\n",
              "    }\n",
              "\n",
              "    .dataframe thead th {\n",
              "        text-align: right;\n",
              "    }\n",
              "</style>\n",
              "<table border=\"1\" class=\"dataframe\">\n",
              "  <thead>\n",
              "    <tr style=\"text-align: right;\">\n",
              "      <th></th>\n",
              "      <th>id</th>\n",
              "      <th>boneage</th>\n",
              "      <th>male</th>\n",
              "      <th>path</th>\n",
              "      <th>exists</th>\n",
              "    </tr>\n",
              "  </thead>\n",
              "  <tbody>\n",
              "    <tr>\n",
              "      <th>0</th>\n",
              "      <td>1377</td>\n",
              "      <td>180</td>\n",
              "      <td>False</td>\n",
              "      <td>/content/drive/MyDrive/RSNA/archive/boneage-tr...</td>\n",
              "      <td>True</td>\n",
              "    </tr>\n",
              "    <tr>\n",
              "      <th>1</th>\n",
              "      <td>1378</td>\n",
              "      <td>12</td>\n",
              "      <td>False</td>\n",
              "      <td>/content/drive/MyDrive/RSNA/archive/boneage-tr...</td>\n",
              "      <td>True</td>\n",
              "    </tr>\n",
              "    <tr>\n",
              "      <th>2</th>\n",
              "      <td>1379</td>\n",
              "      <td>94</td>\n",
              "      <td>False</td>\n",
              "      <td>/content/drive/MyDrive/RSNA/archive/boneage-tr...</td>\n",
              "      <td>True</td>\n",
              "    </tr>\n",
              "    <tr>\n",
              "      <th>3</th>\n",
              "      <td>1380</td>\n",
              "      <td>120</td>\n",
              "      <td>True</td>\n",
              "      <td>/content/drive/MyDrive/RSNA/archive/boneage-tr...</td>\n",
              "      <td>True</td>\n",
              "    </tr>\n",
              "    <tr>\n",
              "      <th>4</th>\n",
              "      <td>1381</td>\n",
              "      <td>82</td>\n",
              "      <td>False</td>\n",
              "      <td>/content/drive/MyDrive/RSNA/archive/boneage-tr...</td>\n",
              "      <td>True</td>\n",
              "    </tr>\n",
              "    <tr>\n",
              "      <th>...</th>\n",
              "      <td>...</td>\n",
              "      <td>...</td>\n",
              "      <td>...</td>\n",
              "      <td>...</td>\n",
              "      <td>...</td>\n",
              "    </tr>\n",
              "    <tr>\n",
              "      <th>12606</th>\n",
              "      <td>15605</td>\n",
              "      <td>50</td>\n",
              "      <td>False</td>\n",
              "      <td>/content/drive/MyDrive/RSNA/archive/boneage-tr...</td>\n",
              "      <td>True</td>\n",
              "    </tr>\n",
              "    <tr>\n",
              "      <th>12607</th>\n",
              "      <td>15606</td>\n",
              "      <td>113</td>\n",
              "      <td>False</td>\n",
              "      <td>/content/drive/MyDrive/RSNA/archive/boneage-tr...</td>\n",
              "      <td>True</td>\n",
              "    </tr>\n",
              "    <tr>\n",
              "      <th>12608</th>\n",
              "      <td>15608</td>\n",
              "      <td>55</td>\n",
              "      <td>False</td>\n",
              "      <td>/content/drive/MyDrive/RSNA/archive/boneage-tr...</td>\n",
              "      <td>True</td>\n",
              "    </tr>\n",
              "    <tr>\n",
              "      <th>12609</th>\n",
              "      <td>15609</td>\n",
              "      <td>150</td>\n",
              "      <td>True</td>\n",
              "      <td>/content/drive/MyDrive/RSNA/archive/boneage-tr...</td>\n",
              "      <td>True</td>\n",
              "    </tr>\n",
              "    <tr>\n",
              "      <th>12610</th>\n",
              "      <td>15610</td>\n",
              "      <td>132</td>\n",
              "      <td>True</td>\n",
              "      <td>/content/drive/MyDrive/RSNA/archive/boneage-tr...</td>\n",
              "      <td>True</td>\n",
              "    </tr>\n",
              "  </tbody>\n",
              "</table>\n",
              "<p>12611 rows × 5 columns</p>\n",
              "</div>\n",
              "      <button class=\"colab-df-convert\" onclick=\"convertToInteractive('df-efaf7ffe-2b86-4cc6-a903-8d5015ad71e7')\"\n",
              "              title=\"Convert this dataframe to an interactive table.\"\n",
              "              style=\"display:none;\">\n",
              "        \n",
              "  <svg xmlns=\"http://www.w3.org/2000/svg\" height=\"24px\"viewBox=\"0 0 24 24\"\n",
              "       width=\"24px\">\n",
              "    <path d=\"M0 0h24v24H0V0z\" fill=\"none\"/>\n",
              "    <path d=\"M18.56 5.44l.94 2.06.94-2.06 2.06-.94-2.06-.94-.94-2.06-.94 2.06-2.06.94zm-11 1L8.5 8.5l.94-2.06 2.06-.94-2.06-.94L8.5 2.5l-.94 2.06-2.06.94zm10 10l.94 2.06.94-2.06 2.06-.94-2.06-.94-.94-2.06-.94 2.06-2.06.94z\"/><path d=\"M17.41 7.96l-1.37-1.37c-.4-.4-.92-.59-1.43-.59-.52 0-1.04.2-1.43.59L10.3 9.45l-7.72 7.72c-.78.78-.78 2.05 0 2.83L4 21.41c.39.39.9.59 1.41.59.51 0 1.02-.2 1.41-.59l7.78-7.78 2.81-2.81c.8-.78.8-2.07 0-2.86zM5.41 20L4 18.59l7.72-7.72 1.47 1.35L5.41 20z\"/>\n",
              "  </svg>\n",
              "      </button>\n",
              "      \n",
              "  <style>\n",
              "    .colab-df-container {\n",
              "      display:flex;\n",
              "      flex-wrap:wrap;\n",
              "      gap: 12px;\n",
              "    }\n",
              "\n",
              "    .colab-df-convert {\n",
              "      background-color: #E8F0FE;\n",
              "      border: none;\n",
              "      border-radius: 50%;\n",
              "      cursor: pointer;\n",
              "      display: none;\n",
              "      fill: #1967D2;\n",
              "      height: 32px;\n",
              "      padding: 0 0 0 0;\n",
              "      width: 32px;\n",
              "    }\n",
              "\n",
              "    .colab-df-convert:hover {\n",
              "      background-color: #E2EBFA;\n",
              "      box-shadow: 0px 1px 2px rgba(60, 64, 67, 0.3), 0px 1px 3px 1px rgba(60, 64, 67, 0.15);\n",
              "      fill: #174EA6;\n",
              "    }\n",
              "\n",
              "    [theme=dark] .colab-df-convert {\n",
              "      background-color: #3B4455;\n",
              "      fill: #D2E3FC;\n",
              "    }\n",
              "\n",
              "    [theme=dark] .colab-df-convert:hover {\n",
              "      background-color: #434B5C;\n",
              "      box-shadow: 0px 1px 3px 1px rgba(0, 0, 0, 0.15);\n",
              "      filter: drop-shadow(0px 1px 2px rgba(0, 0, 0, 0.3));\n",
              "      fill: #FFFFFF;\n",
              "    }\n",
              "  </style>\n",
              "\n",
              "      <script>\n",
              "        const buttonEl =\n",
              "          document.querySelector('#df-efaf7ffe-2b86-4cc6-a903-8d5015ad71e7 button.colab-df-convert');\n",
              "        buttonEl.style.display =\n",
              "          google.colab.kernel.accessAllowed ? 'block' : 'none';\n",
              "\n",
              "        async function convertToInteractive(key) {\n",
              "          const element = document.querySelector('#df-efaf7ffe-2b86-4cc6-a903-8d5015ad71e7');\n",
              "          const dataTable =\n",
              "            await google.colab.kernel.invokeFunction('convertToInteractive',\n",
              "                                                     [key], {});\n",
              "          if (!dataTable) return;\n",
              "\n",
              "          const docLinkHtml = 'Like what you see? Visit the ' +\n",
              "            '<a target=\"_blank\" href=https://colab.research.google.com/notebooks/data_table.ipynb>data table notebook</a>'\n",
              "            + ' to learn more about interactive tables.';\n",
              "          element.innerHTML = '';\n",
              "          dataTable['output_type'] = 'display_data';\n",
              "          await google.colab.output.renderOutput(dataTable, element);\n",
              "          const docLink = document.createElement('div');\n",
              "          docLink.innerHTML = docLinkHtml;\n",
              "          element.appendChild(docLink);\n",
              "        }\n",
              "      </script>\n",
              "    </div>\n",
              "  </div>\n",
              "  "
            ]
          },
          "metadata": {},
          "execution_count": 35
        }
      ],
      "source": [
        "age0"
      ]
    },
    {
      "cell_type": "code",
      "execution_count": null,
      "metadata": {
        "id": "jZmYFjRo_f6Z",
        "colab": {
          "base_uri": "https://localhost:8080/"
        },
        "outputId": "d941d571-06f8-4ce6-c6cc-eeb859df34ca"
      },
      "outputs": [
        {
          "output_type": "execute_result",
          "data": {
            "text/plain": [
              "(160,)"
            ]
          },
          "metadata": {},
          "execution_count": 36
        }
      ],
      "source": [
        "ag=age0.boneage.unique()\n",
        "ag.shape"
      ]
    },
    {
      "cell_type": "code",
      "execution_count": null,
      "metadata": {
        "id": "NSVq8Tpo_f6a"
      },
      "outputs": [],
      "source": [
        "age0.drop(df[(age0['male'] == True)].index, inplace=True)"
      ]
    },
    {
      "cell_type": "code",
      "execution_count": null,
      "metadata": {
        "id": "ekW-lTn3_f6d",
        "colab": {
          "base_uri": "https://localhost:8080/",
          "height": 424
        },
        "outputId": "d30649df-eb20-4e5e-f232-abdbe1323b86"
      },
      "outputs": [
        {
          "output_type": "execute_result",
          "data": {
            "text/plain": [
              "          id  boneage   male  \\\n",
              "0       1377      180  False   \n",
              "1       1378       12  False   \n",
              "2       1379       94  False   \n",
              "4       1381       82  False   \n",
              "10      1388      126  False   \n",
              "...      ...      ...    ...   \n",
              "12603  15602       82  False   \n",
              "12604  15603      106  False   \n",
              "12606  15605       50  False   \n",
              "12607  15606      113  False   \n",
              "12608  15608       55  False   \n",
              "\n",
              "                                                    path  exists  \n",
              "0      /content/drive/MyDrive/RSNA/archive/boneage-tr...    True  \n",
              "1      /content/drive/MyDrive/RSNA/archive/boneage-tr...    True  \n",
              "2      /content/drive/MyDrive/RSNA/archive/boneage-tr...    True  \n",
              "4      /content/drive/MyDrive/RSNA/archive/boneage-tr...    True  \n",
              "10     /content/drive/MyDrive/RSNA/archive/boneage-tr...    True  \n",
              "...                                                  ...     ...  \n",
              "12603  /content/drive/MyDrive/RSNA/archive/boneage-tr...    True  \n",
              "12604  /content/drive/MyDrive/RSNA/archive/boneage-tr...    True  \n",
              "12606  /content/drive/MyDrive/RSNA/archive/boneage-tr...    True  \n",
              "12607  /content/drive/MyDrive/RSNA/archive/boneage-tr...    True  \n",
              "12608  /content/drive/MyDrive/RSNA/archive/boneage-tr...    True  \n",
              "\n",
              "[5778 rows x 5 columns]"
            ],
            "text/html": [
              "\n",
              "  <div id=\"df-2b65adf5-8fe7-4078-80ad-1cae179e6d96\">\n",
              "    <div class=\"colab-df-container\">\n",
              "      <div>\n",
              "<style scoped>\n",
              "    .dataframe tbody tr th:only-of-type {\n",
              "        vertical-align: middle;\n",
              "    }\n",
              "\n",
              "    .dataframe tbody tr th {\n",
              "        vertical-align: top;\n",
              "    }\n",
              "\n",
              "    .dataframe thead th {\n",
              "        text-align: right;\n",
              "    }\n",
              "</style>\n",
              "<table border=\"1\" class=\"dataframe\">\n",
              "  <thead>\n",
              "    <tr style=\"text-align: right;\">\n",
              "      <th></th>\n",
              "      <th>id</th>\n",
              "      <th>boneage</th>\n",
              "      <th>male</th>\n",
              "      <th>path</th>\n",
              "      <th>exists</th>\n",
              "    </tr>\n",
              "  </thead>\n",
              "  <tbody>\n",
              "    <tr>\n",
              "      <th>0</th>\n",
              "      <td>1377</td>\n",
              "      <td>180</td>\n",
              "      <td>False</td>\n",
              "      <td>/content/drive/MyDrive/RSNA/archive/boneage-tr...</td>\n",
              "      <td>True</td>\n",
              "    </tr>\n",
              "    <tr>\n",
              "      <th>1</th>\n",
              "      <td>1378</td>\n",
              "      <td>12</td>\n",
              "      <td>False</td>\n",
              "      <td>/content/drive/MyDrive/RSNA/archive/boneage-tr...</td>\n",
              "      <td>True</td>\n",
              "    </tr>\n",
              "    <tr>\n",
              "      <th>2</th>\n",
              "      <td>1379</td>\n",
              "      <td>94</td>\n",
              "      <td>False</td>\n",
              "      <td>/content/drive/MyDrive/RSNA/archive/boneage-tr...</td>\n",
              "      <td>True</td>\n",
              "    </tr>\n",
              "    <tr>\n",
              "      <th>4</th>\n",
              "      <td>1381</td>\n",
              "      <td>82</td>\n",
              "      <td>False</td>\n",
              "      <td>/content/drive/MyDrive/RSNA/archive/boneage-tr...</td>\n",
              "      <td>True</td>\n",
              "    </tr>\n",
              "    <tr>\n",
              "      <th>10</th>\n",
              "      <td>1388</td>\n",
              "      <td>126</td>\n",
              "      <td>False</td>\n",
              "      <td>/content/drive/MyDrive/RSNA/archive/boneage-tr...</td>\n",
              "      <td>True</td>\n",
              "    </tr>\n",
              "    <tr>\n",
              "      <th>...</th>\n",
              "      <td>...</td>\n",
              "      <td>...</td>\n",
              "      <td>...</td>\n",
              "      <td>...</td>\n",
              "      <td>...</td>\n",
              "    </tr>\n",
              "    <tr>\n",
              "      <th>12603</th>\n",
              "      <td>15602</td>\n",
              "      <td>82</td>\n",
              "      <td>False</td>\n",
              "      <td>/content/drive/MyDrive/RSNA/archive/boneage-tr...</td>\n",
              "      <td>True</td>\n",
              "    </tr>\n",
              "    <tr>\n",
              "      <th>12604</th>\n",
              "      <td>15603</td>\n",
              "      <td>106</td>\n",
              "      <td>False</td>\n",
              "      <td>/content/drive/MyDrive/RSNA/archive/boneage-tr...</td>\n",
              "      <td>True</td>\n",
              "    </tr>\n",
              "    <tr>\n",
              "      <th>12606</th>\n",
              "      <td>15605</td>\n",
              "      <td>50</td>\n",
              "      <td>False</td>\n",
              "      <td>/content/drive/MyDrive/RSNA/archive/boneage-tr...</td>\n",
              "      <td>True</td>\n",
              "    </tr>\n",
              "    <tr>\n",
              "      <th>12607</th>\n",
              "      <td>15606</td>\n",
              "      <td>113</td>\n",
              "      <td>False</td>\n",
              "      <td>/content/drive/MyDrive/RSNA/archive/boneage-tr...</td>\n",
              "      <td>True</td>\n",
              "    </tr>\n",
              "    <tr>\n",
              "      <th>12608</th>\n",
              "      <td>15608</td>\n",
              "      <td>55</td>\n",
              "      <td>False</td>\n",
              "      <td>/content/drive/MyDrive/RSNA/archive/boneage-tr...</td>\n",
              "      <td>True</td>\n",
              "    </tr>\n",
              "  </tbody>\n",
              "</table>\n",
              "<p>5778 rows × 5 columns</p>\n",
              "</div>\n",
              "      <button class=\"colab-df-convert\" onclick=\"convertToInteractive('df-2b65adf5-8fe7-4078-80ad-1cae179e6d96')\"\n",
              "              title=\"Convert this dataframe to an interactive table.\"\n",
              "              style=\"display:none;\">\n",
              "        \n",
              "  <svg xmlns=\"http://www.w3.org/2000/svg\" height=\"24px\"viewBox=\"0 0 24 24\"\n",
              "       width=\"24px\">\n",
              "    <path d=\"M0 0h24v24H0V0z\" fill=\"none\"/>\n",
              "    <path d=\"M18.56 5.44l.94 2.06.94-2.06 2.06-.94-2.06-.94-.94-2.06-.94 2.06-2.06.94zm-11 1L8.5 8.5l.94-2.06 2.06-.94-2.06-.94L8.5 2.5l-.94 2.06-2.06.94zm10 10l.94 2.06.94-2.06 2.06-.94-2.06-.94-.94-2.06-.94 2.06-2.06.94z\"/><path d=\"M17.41 7.96l-1.37-1.37c-.4-.4-.92-.59-1.43-.59-.52 0-1.04.2-1.43.59L10.3 9.45l-7.72 7.72c-.78.78-.78 2.05 0 2.83L4 21.41c.39.39.9.59 1.41.59.51 0 1.02-.2 1.41-.59l7.78-7.78 2.81-2.81c.8-.78.8-2.07 0-2.86zM5.41 20L4 18.59l7.72-7.72 1.47 1.35L5.41 20z\"/>\n",
              "  </svg>\n",
              "      </button>\n",
              "      \n",
              "  <style>\n",
              "    .colab-df-container {\n",
              "      display:flex;\n",
              "      flex-wrap:wrap;\n",
              "      gap: 12px;\n",
              "    }\n",
              "\n",
              "    .colab-df-convert {\n",
              "      background-color: #E8F0FE;\n",
              "      border: none;\n",
              "      border-radius: 50%;\n",
              "      cursor: pointer;\n",
              "      display: none;\n",
              "      fill: #1967D2;\n",
              "      height: 32px;\n",
              "      padding: 0 0 0 0;\n",
              "      width: 32px;\n",
              "    }\n",
              "\n",
              "    .colab-df-convert:hover {\n",
              "      background-color: #E2EBFA;\n",
              "      box-shadow: 0px 1px 2px rgba(60, 64, 67, 0.3), 0px 1px 3px 1px rgba(60, 64, 67, 0.15);\n",
              "      fill: #174EA6;\n",
              "    }\n",
              "\n",
              "    [theme=dark] .colab-df-convert {\n",
              "      background-color: #3B4455;\n",
              "      fill: #D2E3FC;\n",
              "    }\n",
              "\n",
              "    [theme=dark] .colab-df-convert:hover {\n",
              "      background-color: #434B5C;\n",
              "      box-shadow: 0px 1px 3px 1px rgba(0, 0, 0, 0.15);\n",
              "      filter: drop-shadow(0px 1px 2px rgba(0, 0, 0, 0.3));\n",
              "      fill: #FFFFFF;\n",
              "    }\n",
              "  </style>\n",
              "\n",
              "      <script>\n",
              "        const buttonEl =\n",
              "          document.querySelector('#df-2b65adf5-8fe7-4078-80ad-1cae179e6d96 button.colab-df-convert');\n",
              "        buttonEl.style.display =\n",
              "          google.colab.kernel.accessAllowed ? 'block' : 'none';\n",
              "\n",
              "        async function convertToInteractive(key) {\n",
              "          const element = document.querySelector('#df-2b65adf5-8fe7-4078-80ad-1cae179e6d96');\n",
              "          const dataTable =\n",
              "            await google.colab.kernel.invokeFunction('convertToInteractive',\n",
              "                                                     [key], {});\n",
              "          if (!dataTable) return;\n",
              "\n",
              "          const docLinkHtml = 'Like what you see? Visit the ' +\n",
              "            '<a target=\"_blank\" href=https://colab.research.google.com/notebooks/data_table.ipynb>data table notebook</a>'\n",
              "            + ' to learn more about interactive tables.';\n",
              "          element.innerHTML = '';\n",
              "          dataTable['output_type'] = 'display_data';\n",
              "          await google.colab.output.renderOutput(dataTable, element);\n",
              "          const docLink = document.createElement('div');\n",
              "          docLink.innerHTML = docLinkHtml;\n",
              "          element.appendChild(docLink);\n",
              "        }\n",
              "      </script>\n",
              "    </div>\n",
              "  </div>\n",
              "  "
            ]
          },
          "metadata": {},
          "execution_count": 38
        }
      ],
      "source": [
        "age0"
      ]
    },
    {
      "cell_type": "code",
      "execution_count": null,
      "metadata": {
        "id": "757QL8zO_f6e",
        "colab": {
          "base_uri": "https://localhost:8080/"
        },
        "outputId": "6bec9dc8-3e13-4523-8a1a-122e837beb49"
      },
      "outputs": [
        {
          "data": {
            "text/plain": [
              "(110,)"
            ]
          },
          "execution_count": 39,
          "metadata": {},
          "output_type": "execute_result"
        }
      ],
      "source": [
        "ag=age0.boneage.unique()\n",
        "ag.shape"
      ]
    },
    {
      "cell_type": "code",
      "execution_count": null,
      "metadata": {
        "id": "ehftfPKb_f6e",
        "colab": {
          "base_uri": "https://localhost:8080/"
        },
        "outputId": "4ca60712-bcae-451b-ef61-3a3c1109e196"
      },
      "outputs": [
        {
          "output_type": "execute_result",
          "data": {
            "text/plain": [
              "132    689\n",
              "120    635\n",
              "144    542\n",
              "94     490\n",
              "106    474\n",
              "      ... \n",
              "121      1\n",
              "139      1\n",
              "49       1\n",
              "74       1\n",
              "43       1\n",
              "Name: boneage, Length: 110, dtype: int64"
            ]
          },
          "metadata": {},
          "execution_count": 40
        }
      ],
      "source": [
        "age0['boneage'].value_counts()"
      ]
    },
    {
      "cell_type": "code",
      "execution_count": null,
      "metadata": {
        "id": "y_zJN3YI_f6f"
      },
      "outputs": [],
      "source": [
        "points=age0.boneage.unique()"
      ]
    },
    {
      "cell_type": "code",
      "execution_count": null,
      "metadata": {
        "id": "LdGDEkDD_f6f",
        "colab": {
          "base_uri": "https://localhost:8080/"
        },
        "outputId": "98cf61da-c74e-4d52-8ed0-29edee19c4c2"
      },
      "outputs": [
        {
          "metadata": {
            "tags": null
          },
          "name": "stdout",
          "output_type": "stream",
          "text": [
            "(110,)\n"
          ]
        },
        {
          "output_type": "execute_result",
          "data": {
            "text/plain": [
              "array([180,  12,  94,  82, 126, 132, 120, 188,   4,  36,  24,  60, 159,\n",
              "       106,  30,  33, 156,  88, 162, 144,  27, 113, 136,  42, 150,  69,\n",
              "        50,  21,  84, 138, 140, 100, 168, 174,  90, 192,  39, 165, 104,\n",
              "        18,  86, 153, 110,  55,  54, 186,  64, 109, 148,  13, 102, 118,\n",
              "         9, 139, 111, 123,  29, 210, 117, 108, 169, 166, 130, 112, 137,\n",
              "       204,  15,  78, 163, 125,  74,  96,  75, 114,  91, 135,  87,  16,\n",
              "       128, 152,  72,  32, 197, 171, 167, 121, 115, 216,  49,  67, 101,\n",
              "        10, 147, 164,   6, 160, 183,  76,  48,  70,  46, 198, 107,  81,\n",
              "        45,  65, 103,  77,  62,  43])"
            ]
          },
          "metadata": {},
          "execution_count": 42
        }
      ],
      "source": [
        "print(points.shape)\n",
        "points"
      ]
    },
    {
      "cell_type": "code",
      "execution_count": null,
      "metadata": {
        "id": "566_Y_QH_f6g"
      },
      "outputs": [],
      "source": [
        "import numpy as np\n",
        "point=[]\n",
        "for i in range (110):\n",
        "  if((age0['boneage'].value_counts()[points[i]])<3):\n",
        "    point.append(points[i])\n",
        "  #print(df['boneage'].value_counts()[points[i]])\n",
        "point=np.asarray(point)"
      ]
    },
    {
      "cell_type": "code",
      "execution_count": null,
      "metadata": {
        "id": "ltInz4xw_f6g",
        "colab": {
          "base_uri": "https://localhost:8080/"
        },
        "outputId": "e65ccf02-a5fa-4b99-801a-b264cf804d5d"
      },
      "outputs": [
        {
          "output_type": "stream",
          "name": "stdout",
          "text": [
            "(51,)\n"
          ]
        },
        {
          "output_type": "execute_result",
          "data": {
            "text/plain": [
              "array([188,   4, 104,  86, 153, 110, 109, 148,  13, 102, 118,   9, 139,\n",
              "       111, 123,  29, 210, 117, 108, 169, 166, 130,  78, 163,  74,  91,\n",
              "       135,  87,  16, 128,  32, 197, 171, 167, 121,  49,  67, 101,  10,\n",
              "       164,   6, 160, 183, 107,  81,  45,  65, 103,  77,  62,  43])"
            ]
          },
          "metadata": {},
          "execution_count": 44
        }
      ],
      "source": [
        "print(point.shape)\n",
        "point"
      ]
    },
    {
      "cell_type": "code",
      "execution_count": null,
      "metadata": {
        "id": "mEdGRxPM_f6h"
      },
      "outputs": [],
      "source": [
        "for t in range(3):\n",
        "  for i in range(51):\n",
        "    x=df.id[df.boneage == point[i]].tolist()[0]\n",
        "    y=df.boneage[df.boneage == point[i]].tolist()[0]\n",
        "    m=df.male[df.boneage == point[i]].tolist()[0]\n",
        "    z=df.path[df.boneage== point[i]].tolist()[0]\n",
        "    #y=df['boneage']\n",
        "    #m=df['male']\n",
        "    new_row = {'id': x, 'boneage':y, 'male':m , 'path':z}\n",
        "    age0= age0.append(new_row, ignore_index=True)"
      ]
    },
    {
      "cell_type": "code",
      "execution_count": null,
      "metadata": {
        "id": "CZRdBg1W_f6h",
        "colab": {
          "base_uri": "https://localhost:8080/",
          "height": 424
        },
        "outputId": "4ed01939-eda1-4089-dc8b-baea7c76783e"
      },
      "outputs": [
        {
          "output_type": "execute_result",
          "data": {
            "text/plain": [
              "         id  boneage   male  \\\n",
              "0      1377      180  False   \n",
              "1      1378       12  False   \n",
              "2      1379       94  False   \n",
              "3      1381       82  False   \n",
              "4      1388      126  False   \n",
              "...     ...      ...    ...   \n",
              "5926  11112       65  False   \n",
              "5927  12621      103  False   \n",
              "5928  12799       77  False   \n",
              "5929  13097       62  False   \n",
              "5930  13125       43  False   \n",
              "\n",
              "                                                   path  exists  \n",
              "0     /content/drive/MyDrive/RSNA/archive/boneage-tr...     1.0  \n",
              "1     /content/drive/MyDrive/RSNA/archive/boneage-tr...     1.0  \n",
              "2     /content/drive/MyDrive/RSNA/archive/boneage-tr...     1.0  \n",
              "3     /content/drive/MyDrive/RSNA/archive/boneage-tr...     1.0  \n",
              "4     /content/drive/MyDrive/RSNA/archive/boneage-tr...     1.0  \n",
              "...                                                 ...     ...  \n",
              "5926  /content/drive/MyDrive/RSNA/archive/boneage-tr...     NaN  \n",
              "5927  /content/drive/MyDrive/RSNA/archive/boneage-tr...     NaN  \n",
              "5928  /content/drive/MyDrive/RSNA/archive/boneage-tr...     NaN  \n",
              "5929  /content/drive/MyDrive/RSNA/archive/boneage-tr...     NaN  \n",
              "5930  /content/drive/MyDrive/RSNA/archive/boneage-tr...     NaN  \n",
              "\n",
              "[5931 rows x 5 columns]"
            ],
            "text/html": [
              "\n",
              "  <div id=\"df-29973255-a793-46cf-b888-b05e21857ea9\">\n",
              "    <div class=\"colab-df-container\">\n",
              "      <div>\n",
              "<style scoped>\n",
              "    .dataframe tbody tr th:only-of-type {\n",
              "        vertical-align: middle;\n",
              "    }\n",
              "\n",
              "    .dataframe tbody tr th {\n",
              "        vertical-align: top;\n",
              "    }\n",
              "\n",
              "    .dataframe thead th {\n",
              "        text-align: right;\n",
              "    }\n",
              "</style>\n",
              "<table border=\"1\" class=\"dataframe\">\n",
              "  <thead>\n",
              "    <tr style=\"text-align: right;\">\n",
              "      <th></th>\n",
              "      <th>id</th>\n",
              "      <th>boneage</th>\n",
              "      <th>male</th>\n",
              "      <th>path</th>\n",
              "      <th>exists</th>\n",
              "    </tr>\n",
              "  </thead>\n",
              "  <tbody>\n",
              "    <tr>\n",
              "      <th>0</th>\n",
              "      <td>1377</td>\n",
              "      <td>180</td>\n",
              "      <td>False</td>\n",
              "      <td>/content/drive/MyDrive/RSNA/archive/boneage-tr...</td>\n",
              "      <td>1.0</td>\n",
              "    </tr>\n",
              "    <tr>\n",
              "      <th>1</th>\n",
              "      <td>1378</td>\n",
              "      <td>12</td>\n",
              "      <td>False</td>\n",
              "      <td>/content/drive/MyDrive/RSNA/archive/boneage-tr...</td>\n",
              "      <td>1.0</td>\n",
              "    </tr>\n",
              "    <tr>\n",
              "      <th>2</th>\n",
              "      <td>1379</td>\n",
              "      <td>94</td>\n",
              "      <td>False</td>\n",
              "      <td>/content/drive/MyDrive/RSNA/archive/boneage-tr...</td>\n",
              "      <td>1.0</td>\n",
              "    </tr>\n",
              "    <tr>\n",
              "      <th>3</th>\n",
              "      <td>1381</td>\n",
              "      <td>82</td>\n",
              "      <td>False</td>\n",
              "      <td>/content/drive/MyDrive/RSNA/archive/boneage-tr...</td>\n",
              "      <td>1.0</td>\n",
              "    </tr>\n",
              "    <tr>\n",
              "      <th>4</th>\n",
              "      <td>1388</td>\n",
              "      <td>126</td>\n",
              "      <td>False</td>\n",
              "      <td>/content/drive/MyDrive/RSNA/archive/boneage-tr...</td>\n",
              "      <td>1.0</td>\n",
              "    </tr>\n",
              "    <tr>\n",
              "      <th>...</th>\n",
              "      <td>...</td>\n",
              "      <td>...</td>\n",
              "      <td>...</td>\n",
              "      <td>...</td>\n",
              "      <td>...</td>\n",
              "    </tr>\n",
              "    <tr>\n",
              "      <th>5926</th>\n",
              "      <td>11112</td>\n",
              "      <td>65</td>\n",
              "      <td>False</td>\n",
              "      <td>/content/drive/MyDrive/RSNA/archive/boneage-tr...</td>\n",
              "      <td>NaN</td>\n",
              "    </tr>\n",
              "    <tr>\n",
              "      <th>5927</th>\n",
              "      <td>12621</td>\n",
              "      <td>103</td>\n",
              "      <td>False</td>\n",
              "      <td>/content/drive/MyDrive/RSNA/archive/boneage-tr...</td>\n",
              "      <td>NaN</td>\n",
              "    </tr>\n",
              "    <tr>\n",
              "      <th>5928</th>\n",
              "      <td>12799</td>\n",
              "      <td>77</td>\n",
              "      <td>False</td>\n",
              "      <td>/content/drive/MyDrive/RSNA/archive/boneage-tr...</td>\n",
              "      <td>NaN</td>\n",
              "    </tr>\n",
              "    <tr>\n",
              "      <th>5929</th>\n",
              "      <td>13097</td>\n",
              "      <td>62</td>\n",
              "      <td>False</td>\n",
              "      <td>/content/drive/MyDrive/RSNA/archive/boneage-tr...</td>\n",
              "      <td>NaN</td>\n",
              "    </tr>\n",
              "    <tr>\n",
              "      <th>5930</th>\n",
              "      <td>13125</td>\n",
              "      <td>43</td>\n",
              "      <td>False</td>\n",
              "      <td>/content/drive/MyDrive/RSNA/archive/boneage-tr...</td>\n",
              "      <td>NaN</td>\n",
              "    </tr>\n",
              "  </tbody>\n",
              "</table>\n",
              "<p>5931 rows × 5 columns</p>\n",
              "</div>\n",
              "      <button class=\"colab-df-convert\" onclick=\"convertToInteractive('df-29973255-a793-46cf-b888-b05e21857ea9')\"\n",
              "              title=\"Convert this dataframe to an interactive table.\"\n",
              "              style=\"display:none;\">\n",
              "        \n",
              "  <svg xmlns=\"http://www.w3.org/2000/svg\" height=\"24px\"viewBox=\"0 0 24 24\"\n",
              "       width=\"24px\">\n",
              "    <path d=\"M0 0h24v24H0V0z\" fill=\"none\"/>\n",
              "    <path d=\"M18.56 5.44l.94 2.06.94-2.06 2.06-.94-2.06-.94-.94-2.06-.94 2.06-2.06.94zm-11 1L8.5 8.5l.94-2.06 2.06-.94-2.06-.94L8.5 2.5l-.94 2.06-2.06.94zm10 10l.94 2.06.94-2.06 2.06-.94-2.06-.94-.94-2.06-.94 2.06-2.06.94z\"/><path d=\"M17.41 7.96l-1.37-1.37c-.4-.4-.92-.59-1.43-.59-.52 0-1.04.2-1.43.59L10.3 9.45l-7.72 7.72c-.78.78-.78 2.05 0 2.83L4 21.41c.39.39.9.59 1.41.59.51 0 1.02-.2 1.41-.59l7.78-7.78 2.81-2.81c.8-.78.8-2.07 0-2.86zM5.41 20L4 18.59l7.72-7.72 1.47 1.35L5.41 20z\"/>\n",
              "  </svg>\n",
              "      </button>\n",
              "      \n",
              "  <style>\n",
              "    .colab-df-container {\n",
              "      display:flex;\n",
              "      flex-wrap:wrap;\n",
              "      gap: 12px;\n",
              "    }\n",
              "\n",
              "    .colab-df-convert {\n",
              "      background-color: #E8F0FE;\n",
              "      border: none;\n",
              "      border-radius: 50%;\n",
              "      cursor: pointer;\n",
              "      display: none;\n",
              "      fill: #1967D2;\n",
              "      height: 32px;\n",
              "      padding: 0 0 0 0;\n",
              "      width: 32px;\n",
              "    }\n",
              "\n",
              "    .colab-df-convert:hover {\n",
              "      background-color: #E2EBFA;\n",
              "      box-shadow: 0px 1px 2px rgba(60, 64, 67, 0.3), 0px 1px 3px 1px rgba(60, 64, 67, 0.15);\n",
              "      fill: #174EA6;\n",
              "    }\n",
              "\n",
              "    [theme=dark] .colab-df-convert {\n",
              "      background-color: #3B4455;\n",
              "      fill: #D2E3FC;\n",
              "    }\n",
              "\n",
              "    [theme=dark] .colab-df-convert:hover {\n",
              "      background-color: #434B5C;\n",
              "      box-shadow: 0px 1px 3px 1px rgba(0, 0, 0, 0.15);\n",
              "      filter: drop-shadow(0px 1px 2px rgba(0, 0, 0, 0.3));\n",
              "      fill: #FFFFFF;\n",
              "    }\n",
              "  </style>\n",
              "\n",
              "      <script>\n",
              "        const buttonEl =\n",
              "          document.querySelector('#df-29973255-a793-46cf-b888-b05e21857ea9 button.colab-df-convert');\n",
              "        buttonEl.style.display =\n",
              "          google.colab.kernel.accessAllowed ? 'block' : 'none';\n",
              "\n",
              "        async function convertToInteractive(key) {\n",
              "          const element = document.querySelector('#df-29973255-a793-46cf-b888-b05e21857ea9');\n",
              "          const dataTable =\n",
              "            await google.colab.kernel.invokeFunction('convertToInteractive',\n",
              "                                                     [key], {});\n",
              "          if (!dataTable) return;\n",
              "\n",
              "          const docLinkHtml = 'Like what you see? Visit the ' +\n",
              "            '<a target=\"_blank\" href=https://colab.research.google.com/notebooks/data_table.ipynb>data table notebook</a>'\n",
              "            + ' to learn more about interactive tables.';\n",
              "          element.innerHTML = '';\n",
              "          dataTable['output_type'] = 'display_data';\n",
              "          await google.colab.output.renderOutput(dataTable, element);\n",
              "          const docLink = document.createElement('div');\n",
              "          docLink.innerHTML = docLinkHtml;\n",
              "          element.appendChild(docLink);\n",
              "        }\n",
              "      </script>\n",
              "    </div>\n",
              "  </div>\n",
              "  "
            ]
          },
          "metadata": {},
          "execution_count": 46
        }
      ],
      "source": [
        "age0"
      ]
    },
    {
      "cell_type": "code",
      "execution_count": null,
      "metadata": {
        "id": "6OLfe12Qlto-",
        "colab": {
          "base_uri": "https://localhost:8080/"
        },
        "outputId": "304c78b9-8a5d-48ef-e589-23617a7f1236"
      },
      "outputs": [
        {
          "output_type": "stream",
          "name": "stdout",
          "text": [
            "train 3320 validation 1187 1424\n"
          ]
        }
      ],
      "source": [
        "from sklearn.model_selection import train_test_split\n",
        "train_test0, valid0 = train_test_split(age0, \n",
        "                                   test_size = 0.2, \n",
        "                                   random_state = 2018,\n",
        "                                   stratify = age0['boneage'])\n",
        "#print('train', raw_train_df.shape[0], 'validation', valid_df.shape[0])\n",
        "train0, test0 = train_test_split(train_test0, \n",
        "                                   test_size = 0.3, \n",
        "                                   random_state = 2018,\n",
        "                                   stratify = train_test0['boneage'])\n",
        "print('train', train0.shape[0], 'validation', valid0.shape[0],test0.shape[0])"
      ]
    },
    {
      "cell_type": "code",
      "execution_count": null,
      "metadata": {
        "id": "neq1ir7ylto_",
        "colab": {
          "base_uri": "https://localhost:8080/"
        },
        "outputId": "6494b1fa-c540-447b-8085-29228fb08f5f"
      },
      "outputs": [
        {
          "output_type": "stream",
          "name": "stdout",
          "text": [
            "## Ignore next message from keras, values are replaced anyways\n",
            "Found 0 images belonging to 0 classes.\n",
            "Reinserting dataframe: 3320 images\n"
          ]
        }
      ],
      "source": [
        "train0_gen = flow_from_dataframe( core_idg, train0, \n",
        "                             path_col = 'path',\n",
        "                            y_col = 'boneage', \n",
        "                            target_size = IMG_SIZE,\n",
        "                             color_mode = 'rgb',\n",
        "                            batch_size = 3320)"
      ]
    },
    {
      "cell_type": "code",
      "execution_count": null,
      "metadata": {
        "id": "OzomkT1ZltpA"
      },
      "outputs": [],
      "source": [
        "valid0_gen = flow_from_dataframe(core_idg, valid0, \n",
        "                             path_col = 'path',\n",
        "                            y_col = 'boneage', \n",
        "                            target_size = IMG_SIZE,\n",
        "                             color_mode = 'rgb',\n",
        "                            batch_size = 1187) "
      ]
    },
    {
      "cell_type": "code",
      "execution_count": null,
      "metadata": {
        "id": "Aw2JaZZwltpA"
      },
      "outputs": [],
      "source": [
        "\n",
        "testcore_idg = ImageDataGenerator()"
      ]
    },
    {
      "cell_type": "code",
      "execution_count": null,
      "metadata": {
        "id": "Bu7kCWNYltpB"
      },
      "outputs": [],
      "source": [
        "test0_gen = flow_from_dataframe(testcore_idg, \n",
        "                              test0, \n",
        "                             path_col = 'path',\n",
        "                            y_col = 'boneage', \n",
        "                            target_size = IMG_SIZE,\n",
        "                             color_mode = 'rgb',\n",
        "                            batch_size = 1424)"
      ]
    },
    {
      "cell_type": "code",
      "execution_count": null,
      "metadata": {
        "id": "6XxaEBd5ltpC"
      },
      "outputs": [],
      "source": [
        "train0_X, train0_Y = next(train0_gen)"
      ]
    },
    {
      "cell_type": "code",
      "execution_count": null,
      "metadata": {
        "id": "RDhVkpIBltpC"
      },
      "outputs": [],
      "source": [
        "train0_X.shape"
      ]
    },
    {
      "cell_type": "code",
      "execution_count": null,
      "metadata": {
        "id": "-xcDDZsvltpD"
      },
      "outputs": [],
      "source": [
        "valid0_X, valid0_Y = next(valid0_gen)"
      ]
    },
    {
      "cell_type": "code",
      "execution_count": null,
      "metadata": {
        "id": "Oc0hn0VeltpD"
      },
      "outputs": [],
      "source": [
        "valid0_X.shape"
      ]
    },
    {
      "cell_type": "code",
      "execution_count": null,
      "metadata": {
        "id": "ChATCHw-ltpE"
      },
      "outputs": [],
      "source": [
        "test0_X, test0_Y = next(test0_gen)"
      ]
    },
    {
      "cell_type": "code",
      "execution_count": null,
      "metadata": {
        "id": "Jz5uNv-kltpF"
      },
      "outputs": [],
      "source": [
        "test0_X.shape"
      ]
    },
    {
      "cell_type": "code",
      "execution_count": null,
      "metadata": {
        "id": "lr36h1sw_LP4"
      },
      "outputs": [],
      "source": [
        "#train_x=[]\n",
        "#train_y=[]\n",
        "##train_gen=[]\n",
        "#for i in range(4436):\n",
        "  #train_x.append(train1_X[i])\n",
        "  #train_y.append(train1_Y[i])\n",
        "  #train_gen.append(1)\n",
        "\n",
        "\n",
        "#for i in range(3292):\n",
        "  #train_x.append(train0_X[i])\n",
        "  #train_y.append(train0_Y[i])\n",
        "  #train_gen.append(0)\n",
        "#del train0_X\n",
        "#del train0_Y"
      ]
    },
    {
      "cell_type": "code",
      "execution_count": null,
      "metadata": {
        "id": "KWlRIzOkx7Dx"
      },
      "outputs": [],
      "source": [
        "train_x=[]\n",
        "train_y=[]\n",
        "train_gen=[]\n",
        "i=0\n",
        "for k in range(332):\n",
        "  for j in range(10):\n",
        "    train_x.append(train1_X[i])\n",
        "    train_y.append(train1_Y[i])\n",
        "    train_gen.append(1)\n",
        "    train_x.append(train0_X[i])\n",
        "    train_y.append(train0_Y[i])\n",
        "    train_gen.append(0)\n",
        "    i=i+1\n",
        "\n",
        "del train0_X\n",
        "del train0_Y\n",
        "i=3320\n",
        "for k in range(1156):\n",
        "  train_x.append(train1_X[i])\n",
        "  train_y.append(train1_Y[i])\n",
        "  train_gen.append(1)\n",
        "  i=i+1\n",
        "del train1_X\n",
        "del train1_Y"
      ]
    },
    {
      "cell_type": "code",
      "execution_count": null,
      "metadata": {
        "id": "0Amo32uq_Pl1"
      },
      "outputs": [],
      "source": [
        "train_x=np.asarray(train_x)\n",
        "train_x=train_x/255\n",
        "train_y=np.asarray(train_y)\n",
        "train_gen=np.asarray(train_gen)"
      ]
    },
    {
      "cell_type": "code",
      "execution_count": null,
      "metadata": {
        "id": "XkqgIKc0_TVq"
      },
      "outputs": [],
      "source": [
        "#valid_x=[]\n",
        "#valid_y=[]\n",
        "#valid_gen=[]\n",
        "#for i in range(1044):\n",
        "  #valid_x.append(valid1_X[i])\n",
        "  #valid_y.append(valid1_Y[i])\n",
        "  #valid_gen.append(1)\n",
        "#del valid1_X\n",
        "#del valid1_Y\n",
        "\n",
        "#for i in range(1176):\n",
        "  #valid_x.append(valid0_X[i])\n",
        "  #valid_y.append(valid0_Y[i])\n",
        "  #valid_gen.append(0)\n",
        "#del valid0_X\n",
        "#del valid0_Y"
      ]
    },
    {
      "cell_type": "code",
      "execution_count": null,
      "metadata": {
        "id": "f6x2PtQazOqz"
      },
      "outputs": [],
      "source": [
        "valid_x=[]\n",
        "valid_y=[]\n",
        "valid_gen=[]\n",
        "i=0\n",
        "for k in range(62):\n",
        "  for j in range(17):\n",
        "    valid_x.append(valid1_X[i])\n",
        "    valid_y.append(valid1_Y[i])\n",
        "    valid_gen.append(1)\n",
        "    valid_x.append(valid0_X[i])\n",
        "    valid_y.append(valid0_Y[i])\n",
        "    valid_gen.append(0)\n",
        "    i=i+1\n",
        "del valid1_X\n",
        "del valid1_Y\n",
        "i=1054\n",
        "for k in range(133):\n",
        "  valid_x.append(valid0_X[i])\n",
        "  valid_y.append(valid0_Y[i])\n",
        "  valid_gen.append(0)\n",
        "  i=i+1\n",
        "del valid0_X\n",
        "del valid0_Y"
      ]
    },
    {
      "cell_type": "code",
      "execution_count": null,
      "metadata": {
        "id": "xnSq2nAQ_XJd"
      },
      "outputs": [],
      "source": [
        "valid_x=np.asarray(valid_x)\n",
        "valid_x=valid_x/255\n",
        "valid_y=np.asarray(valid_y)\n",
        "valid_gen=np.asarray(valid_gen)"
      ]
    },
    {
      "cell_type": "code",
      "execution_count": null,
      "metadata": {
        "id": "KoYnxamg_d0f"
      },
      "outputs": [],
      "source": [
        "#test_x=[]\n",
        "#test_y=[]\n",
        "#test_gen=[]\n",
        "#for i in range(1479):\n",
        "  #test_x.append(test1_X[i])\n",
        "  #test_y.append(test1_Y[i])\n",
        "  #test_gen.append(1)\n",
        "#del test1_X\n",
        "#del test1_Y\n",
        "\n",
        "#for i in range(1412):\n",
        "  #test_x.append(test0_X[i])\n",
        "  #test_y.append(test0_Y[i])\n",
        "  #test_gen.append(0)\n",
        "#del test0_X\n",
        "#del test0_Y"
      ]
    },
    {
      "cell_type": "code",
      "execution_count": null,
      "metadata": {
        "id": "dx-q7Ukkzy2V"
      },
      "outputs": [],
      "source": [
        "test_x=[]\n",
        "test_y=[]\n",
        "test_gen=[]\n",
        "i=0\n",
        "for k in range(89):\n",
        "  for j in range(16):\n",
        "    test_x.append(test1_X[i])\n",
        "    test_y.append(test1_Y[i])\n",
        "    test_gen.append(1)\n",
        "    test_x.append(test0_X[i])\n",
        "    test_y.append(test0_Y[i])\n",
        "    test_gen.append(0)\n",
        "    i=i+1\n",
        "\n",
        "del test0_X\n",
        "del test0_Y\n",
        "i=1424\n",
        "for j in range(68):\n",
        "  test_x.append(test1_X[i])\n",
        "  test_y.append(test1_Y[i])\n",
        "  test_gen.append(1)\n",
        "  i=i+1\n",
        "del test1_X\n",
        "del test1_Y"
      ]
    },
    {
      "cell_type": "code",
      "execution_count": null,
      "metadata": {
        "id": "tpCPkoXh_qid"
      },
      "outputs": [],
      "source": [
        "test_x=np.asarray(test_x)\n",
        "test_x=test_x/255\n",
        "test_y=np.asarray(test_y)\n",
        "test_gen=np.asarray(test_gen)"
      ]
    },
    {
      "cell_type": "code",
      "execution_count": null,
      "metadata": {
        "id": "bqDBCcqM_uw8",
        "colab": {
          "base_uri": "https://localhost:8080/"
        },
        "outputId": "9929217a-9c05-46ff-d461-0734a564cebb"
      },
      "outputs": [
        {
          "output_type": "stream",
          "name": "stdout",
          "text": [
            "(7796, 2, 114)\n"
          ]
        }
      ],
      "source": [
        "age1=[]\n",
        "for i in range(114):\n",
        "    age1.append(i)\n",
        "age2=[]\n",
        "for i in range (114,228):\n",
        "    age2.append(i)\n",
        "age=[]\n",
        "for i in range (1):\n",
        "    age.append(age1)\n",
        "    age.append(age2)\n",
        "age=np.asarray(age)\n",
        "agetr=[]\n",
        "for i in range(7796):\n",
        "    agetr.append(age)\n",
        "agetr=np.asarray(agetr)\n",
        "print(agetr.shape)"
      ]
    },
    {
      "cell_type": "code",
      "execution_count": null,
      "metadata": {
        "id": "BagRNRoG_xqr"
      },
      "outputs": [],
      "source": [
        "agev=[]\n",
        "for i in range(2241):\n",
        "    agev.append(age)\n",
        "agev=np.asarray(agev)\n",
        "print(agev.shape)"
      ]
    },
    {
      "cell_type": "code",
      "execution_count": null,
      "metadata": {
        "id": "nQ7VwiPz_1CK"
      },
      "outputs": [],
      "source": [
        "aget=[]\n",
        "for i in range(2916):\n",
        "    aget.append(age)\n",
        "aget=np.asarray(aget)\n",
        "print(aget.shape)"
      ]
    },
    {
      "cell_type": "code",
      "execution_count": null,
      "metadata": {
        "id": "2A4yFegzBAzR"
      },
      "outputs": [],
      "source": [
        "from tensorflow.keras.applications.resnet50 import ResNet50\n",
        "from keras.applications.vgg19 import VGG19\n",
        "from keras.applications.inception_v3 import InceptionV3\n",
        "from keras.applications.xception import Xception\n",
        "from keras.preprocessing import image\n",
        "from keras.models import Model, load_model\n",
        "from keras.layers import Flatten, Dense, Input, Reshape, Lambda,Conv2D\n",
        "import tensorflow as tf\n",
        "from keras import backend as K\n",
        "import pickle\n",
        "import numpy as np\n",
        "import matplotlib.pyplot as plt\n",
        "import keras\n",
        "#from func_utils import *\n",
        "import os\n",
        "#os.environ[\"CUDA_VISIBLE_DEVICES\"]=\"2\"\n",
        "#os.environ['OMP_NUM_THREADS']='6'\n",
        "batch_size = 1\n",
        "epochs = 30"
      ]
    },
    {
      "cell_type": "code",
      "execution_count": null,
      "metadata": {
        "id": "SLKx-Do1R65I",
        "colab": {
          "base_uri": "https://localhost:8080/"
        },
        "outputId": "959ba42f-1152-43e9-bac4-56327322fc51"
      },
      "outputs": [
        {
          "output_type": "stream",
          "name": "stdout",
          "text": [
            "(None, 2048)\n",
            "(None, 1, 1, 2048)\n",
            "0 input1\n",
            "1 inception_v3\n",
            "2 global_average_pooling2d_5\n",
            "3 reshape_5\n",
            "4 dense_20\n",
            "5 multiply_8\n",
            "6 add_5\n",
            "7 batch_normalization_569\n",
            "8 activation_569\n",
            "9 block_1\n",
            "10 flatten_6\n",
            "11 dense_21\n",
            "12 dense_22\n",
            "13 input2\n",
            "14 input3\n",
            "15 dense_23\n",
            "Model: \"model_2\"\n",
            "__________________________________________________________________________________________________\n",
            " Layer (type)                   Output Shape         Param #     Connected to                     \n",
            "==================================================================================================\n",
            " input1 (InputLayer)            [(None, 128, 128, 3  0           []                               \n",
            "                                )]                                                                \n",
            "                                                                                                  \n",
            " inception_v3 (Functional)      (None, None, None,   21802784    ['input1[0][0]']                 \n",
            "                                2048)                                                             \n",
            "                                                                                                  \n",
            " global_average_pooling2d_5 (Gl  (None, 2048)        0           ['inception_v3[0][0]']           \n",
            " obalAveragePooling2D)                                                                            \n",
            "                                                                                                  \n",
            " reshape_5 (Reshape)            (None, 1, 1, 2048)   0           ['global_average_pooling2d_5[0][0\n",
            "                                                                 ]']                              \n",
            "                                                                                                  \n",
            " dense_20 (Dense)               (None, 1, 1, 2048)   4196352     ['reshape_5[0][0]']              \n",
            "                                                                                                  \n",
            " multiply_8 (Multiply)          (None, 2, 2, 2048)   0           ['inception_v3[0][0]',           \n",
            "                                                                  'dense_20[0][0]']               \n",
            "                                                                                                  \n",
            " add_5 (Add)                    (None, 2, 2, 2048)   0           ['inception_v3[0][0]',           \n",
            "                                                                  'multiply_8[0][0]']             \n",
            "                                                                                                  \n",
            " batch_normalization_569 (Batch  (None, 2, 2, 2048)  8192        ['add_5[0][0]']                  \n",
            " Normalization)                                                                                   \n",
            "                                                                                                  \n",
            " activation_569 (Activation)    (None, 2, 2, 2048)   0           ['batch_normalization_569[0][0]']\n",
            "                                                                                                  \n",
            " block_1 (MaxPooling2D)         (None, 1, 1, 2048)   0           ['activation_569[0][0]']         \n",
            "                                                                                                  \n",
            " flatten_6 (Flatten)            (None, 2048)         0           ['block_1[0][0]']                \n",
            "                                                                                                  \n",
            " dense_21 (Dense)               (None, 256)          524544      ['flatten_6[0][0]']              \n",
            "                                                                                                  \n",
            " dense_22 (Dense)               (None, 228)          58596       ['dense_21[0][0]']               \n",
            "                                                                                                  \n",
            " input2 (InputLayer)            [(None, 1)]          0           []                               \n",
            "                                                                                                  \n",
            " input3 (InputLayer)            [(None, 2, 114)]     0           []                               \n",
            "                                                                                                  \n",
            " dense_23 (Dense)               (None, 1)            229         ['dense_22[0][0]']               \n",
            "                                                                                                  \n",
            "==================================================================================================\n",
            "Total params: 26,590,697\n",
            "Trainable params: 26,552,169\n",
            "Non-trainable params: 38,528\n",
            "__________________________________________________________________________________________________\n"
          ]
        },
        {
          "output_type": "stream",
          "name": "stderr",
          "text": [
            "/usr/local/lib/python3.8/dist-packages/keras/optimizers/optimizer_v2/adam.py:110: UserWarning: The `lr` argument is deprecated, use `learning_rate` instead.\n",
            "  super(Adam, self).__init__(name, **kwargs)\n",
            "WARNING:tensorflow:`period` argument is deprecated. Please use `save_freq` to specify the frequency in number of batches seen.\n"
          ]
        },
        {
          "output_type": "stream",
          "name": "stdout",
          "text": [
            "Epoch 1/50\n",
            "488/488 [==============================] - 43s 74ms/step - loss: 28.9486 - MAE: 28.9486 - val_loss: 24.2130 - val_MAE: 24.2130\n",
            "Epoch 2/50\n",
            "488/488 [==============================] - 33s 67ms/step - loss: 19.4872 - MAE: 19.4872 - val_loss: 18.5249 - val_MAE: 18.5249\n",
            "Epoch 3/50\n",
            "488/488 [==============================] - 32s 66ms/step - loss: 17.4422 - MAE: 17.4422 - val_loss: 19.4129 - val_MAE: 19.4129\n",
            "Epoch 4/50\n",
            "488/488 [==============================] - 32s 66ms/step - loss: 16.1956 - MAE: 16.1956 - val_loss: 23.0105 - val_MAE: 23.0105\n",
            "Epoch 5/50\n",
            "488/488 [==============================] - 32s 66ms/step - loss: 15.0291 - MAE: 15.0291 - val_loss: 18.9259 - val_MAE: 18.9259\n",
            "Epoch 6/50\n",
            "488/488 [==============================] - 32s 66ms/step - loss: 14.2129 - MAE: 14.2129 - val_loss: 16.6799 - val_MAE: 16.6799\n",
            "Epoch 7/50\n",
            "488/488 [==============================] - 32s 66ms/step - loss: 13.2412 - MAE: 13.2412 - val_loss: 20.0249 - val_MAE: 20.0249\n",
            "Epoch 8/50\n",
            "488/488 [==============================] - 32s 66ms/step - loss: 12.6659 - MAE: 12.6659 - val_loss: 16.5791 - val_MAE: 16.5791\n",
            "Epoch 9/50\n",
            "488/488 [==============================] - 32s 66ms/step - loss: 12.0777 - MAE: 12.0777 - val_loss: 17.3492 - val_MAE: 17.3492\n",
            "Epoch 10/50\n",
            "488/488 [==============================] - 32s 66ms/step - loss: 11.8896 - MAE: 11.8896 - val_loss: 15.2695 - val_MAE: 15.2695\n",
            "Epoch 11/50\n",
            "488/488 [==============================] - 32s 66ms/step - loss: 10.9600 - MAE: 10.9600 - val_loss: 15.2994 - val_MAE: 15.2994\n",
            "Epoch 12/50\n",
            "488/488 [==============================] - 32s 66ms/step - loss: 10.7643 - MAE: 10.7643 - val_loss: 14.5561 - val_MAE: 14.5561\n",
            "Epoch 13/50\n",
            "488/488 [==============================] - 32s 66ms/step - loss: 10.0529 - MAE: 10.0529 - val_loss: 15.9733 - val_MAE: 15.9733\n",
            "Epoch 14/50\n",
            "488/488 [==============================] - 33s 67ms/step - loss: 9.5356 - MAE: 9.5356 - val_loss: 16.7489 - val_MAE: 16.7489\n",
            "Epoch 15/50\n",
            "488/488 [==============================] - 33s 67ms/step - loss: 8.9689 - MAE: 8.9689 - val_loss: 21.5342 - val_MAE: 21.5342\n",
            "Epoch 16/50\n",
            "488/488 [==============================] - 33s 67ms/step - loss: 8.8146 - MAE: 8.8146 - val_loss: 15.4887 - val_MAE: 15.4887\n",
            "Epoch 17/50\n",
            "488/488 [==============================] - 33s 67ms/step - loss: 8.3602 - MAE: 8.3602 - val_loss: 15.5335 - val_MAE: 15.5335\n",
            "Epoch 18/50\n",
            "488/488 [==============================] - 32s 66ms/step - loss: 8.1833 - MAE: 8.1833 - val_loss: 16.0488 - val_MAE: 16.0488\n",
            "Epoch 19/50\n",
            "488/488 [==============================] - 33s 67ms/step - loss: 7.6949 - MAE: 7.6949 - val_loss: 15.7744 - val_MAE: 15.7744\n",
            "Epoch 20/50\n",
            "488/488 [==============================] - 33s 67ms/step - loss: 7.4648 - MAE: 7.4648 - val_loss: 15.4868 - val_MAE: 15.4868\n",
            "Epoch 21/50\n",
            "488/488 [==============================] - 33s 67ms/step - loss: 7.3142 - MAE: 7.3142 - val_loss: 14.4119 - val_MAE: 14.4119\n",
            "Epoch 22/50\n",
            "488/488 [==============================] - 33s 67ms/step - loss: 7.1265 - MAE: 7.1265 - val_loss: 13.8754 - val_MAE: 13.8754\n",
            "Epoch 23/50\n",
            "488/488 [==============================] - 33s 67ms/step - loss: 6.8728 - MAE: 6.8728 - val_loss: 17.9479 - val_MAE: 17.9479\n",
            "Epoch 24/50\n",
            "488/488 [==============================] - 33s 67ms/step - loss: 6.7726 - MAE: 6.7726 - val_loss: 14.7272 - val_MAE: 14.7272\n",
            "Epoch 25/50\n",
            "488/488 [==============================] - 33s 67ms/step - loss: 6.5641 - MAE: 6.5641 - val_loss: 14.9503 - val_MAE: 14.9503\n",
            "Epoch 26/50\n",
            "488/488 [==============================] - 33s 67ms/step - loss: 6.5167 - MAE: 6.5167 - val_loss: 14.2184 - val_MAE: 14.2184\n",
            "Epoch 27/50\n",
            "488/488 [==============================] - 33s 67ms/step - loss: 6.0678 - MAE: 6.0678 - val_loss: 14.1267 - val_MAE: 14.1267\n",
            "Epoch 28/50\n",
            "488/488 [==============================] - 33s 67ms/step - loss: 5.8837 - MAE: 5.8837 - val_loss: 14.3057 - val_MAE: 14.3057\n",
            "Epoch 29/50\n",
            "488/488 [==============================] - 33s 67ms/step - loss: 5.7821 - MAE: 5.7821 - val_loss: 13.9094 - val_MAE: 13.9094\n",
            "Epoch 30/50\n",
            "488/488 [==============================] - 33s 67ms/step - loss: 5.6249 - MAE: 5.6249 - val_loss: 15.7056 - val_MAE: 15.7056\n",
            "Epoch 31/50\n",
            "488/488 [==============================] - 33s 67ms/step - loss: 5.3721 - MAE: 5.3721 - val_loss: 14.5863 - val_MAE: 14.5863\n",
            "Epoch 32/50\n",
            "488/488 [==============================] - 33s 67ms/step - loss: 5.3810 - MAE: 5.3810 - val_loss: 14.3749 - val_MAE: 14.3749\n",
            "Epoch 33/50\n",
            "488/488 [==============================] - 32s 66ms/step - loss: 5.2787 - MAE: 5.2787 - val_loss: 14.1702 - val_MAE: 14.1702\n",
            "Epoch 34/50\n",
            "488/488 [==============================] - 32s 66ms/step - loss: 5.1595 - MAE: 5.1595 - val_loss: 14.5685 - val_MAE: 14.5685\n",
            "Epoch 35/50\n",
            "488/488 [==============================] - 32s 66ms/step - loss: 5.0368 - MAE: 5.0368 - val_loss: 14.8690 - val_MAE: 14.8690\n",
            "Epoch 36/50\n",
            "488/488 [==============================] - 32s 66ms/step - loss: 4.8650 - MAE: 4.8650 - val_loss: 16.0456 - val_MAE: 16.0456\n",
            "Epoch 37/50\n",
            "488/488 [==============================] - 32s 66ms/step - loss: 4.7803 - MAE: 4.7803 - val_loss: 14.5420 - val_MAE: 14.5420\n",
            "Epoch 38/50\n",
            "488/488 [==============================] - 32s 66ms/step - loss: 4.6141 - MAE: 4.6141 - val_loss: 16.0132 - val_MAE: 16.0132\n",
            "Epoch 39/50\n",
            "488/488 [==============================] - 32s 66ms/step - loss: 4.6129 - MAE: 4.6129 - val_loss: 16.0921 - val_MAE: 16.0921\n",
            "Epoch 40/50\n",
            "488/488 [==============================] - 32s 66ms/step - loss: 4.5281 - MAE: 4.5281 - val_loss: 14.5435 - val_MAE: 14.5435\n",
            "Epoch 41/50\n",
            "488/488 [==============================] - 32s 66ms/step - loss: 4.4115 - MAE: 4.4115 - val_loss: 16.5493 - val_MAE: 16.5493\n",
            "Epoch 42/50\n",
            "488/488 [==============================] - 32s 66ms/step - loss: 4.3525 - MAE: 4.3525 - val_loss: 14.8030 - val_MAE: 14.8030\n",
            "Epoch 43/50\n",
            "488/488 [==============================] - 32s 66ms/step - loss: 4.2762 - MAE: 4.2762 - val_loss: 15.5651 - val_MAE: 15.5651\n",
            "Epoch 44/50\n",
            "488/488 [==============================] - 32s 66ms/step - loss: 4.0981 - MAE: 4.0981 - val_loss: 13.7446 - val_MAE: 13.7446\n",
            "Epoch 45/50\n",
            "488/488 [==============================] - 32s 66ms/step - loss: 3.8773 - MAE: 3.8773 - val_loss: 15.0179 - val_MAE: 15.0179\n",
            "Epoch 46/50\n",
            "488/488 [==============================] - 32s 66ms/step - loss: 3.9647 - MAE: 3.9647 - val_loss: 14.4431 - val_MAE: 14.4431\n",
            "Epoch 47/50\n",
            "488/488 [==============================] - 32s 66ms/step - loss: 3.8044 - MAE: 3.8044 - val_loss: 14.0460 - val_MAE: 14.0460\n",
            "Epoch 48/50\n",
            "488/488 [==============================] - 32s 66ms/step - loss: 3.7555 - MAE: 3.7555 - val_loss: 14.6999 - val_MAE: 14.6999\n",
            "Epoch 49/50\n",
            "488/488 [==============================] - 32s 66ms/step - loss: 3.7203 - MAE: 3.7203 - val_loss: 15.3517 - val_MAE: 15.3517\n",
            "Epoch 50/50\n",
            "488/488 [==============================] - 33s 67ms/step - loss: 4.2339 - MAE: 4.2339 - val_loss: 15.8151 - val_MAE: 15.8151\n",
            "2916/2916 [==============================] - 38s 13ms/step - loss: 15.6725 - MAE: 15.6725\n",
            "Test loss: 15.6725435256958\n",
            "Test MAE: 15.6725435256958\n"
          ]
        }
      ],
      "source": [
        "import tensorflow as tf\n",
        "#from tensorflow.keras.applications.inception_resnet_v2 import InceptionResNetV2\n",
        "\n",
        "base_model = InceptionV3(weights='imagenet', include_top=False)\n",
        "input = Input(shape=(300,300,3),name='input1')\n",
        "input_gender = Input(shape=(1,),dtype='float32',name='input2')\n",
        "input_age = Input(shape=(2,114),dtype='float32',name='input3')\n",
        "output = base_model(input)\n",
        "gender_embedding=Dense(16)(input_gender)\n",
        "\n",
        "sq = keras.layers.GlobalAveragePooling2D()(output)\n",
        "print (K.int_shape(sq))\n",
        "sq = keras.layers.Reshape((1,1,2048))(sq)\n",
        "sq = keras.layers.Dense(units=2048,activation=\"sigmoid\")(sq)\n",
        "block = keras.layers.multiply([output,sq])\n",
        "#fine Squeeze and Excitation 1\n",
        "\n",
        "net = keras.layers.add([output,block])\n",
        "net = keras.layers.BatchNormalization()(net)\n",
        "net = keras.layers.Activation(\"relu\")(net)\n",
        "net = keras.layers.MaxPooling2D(pool_size=(2, 2),name=\"block_1\")(net)\n",
        "print (K.int_shape(net))\n",
        "\n",
        "x = keras.layers.MaxPooling2D(pool_size=(4,4))(net)\n",
        "#print (K.int_shape(x))\n",
        "f=Flatten()(x)\n",
        "\n",
        "f = Dense(256, activation='relu')(f)\n",
        "x =Dense(228,activation='linear')(f)\n",
        "y=Flatten()(input_age)\n",
        "#print(y.shape)\n",
        "f = keras.layers.Multiply()([x,y])\n",
        "f = keras.layers.Concatenate(axis=1)([f,gender_embedding])\n",
        "predictions=Dense(1)(x)\n",
        "\n",
        "model = Model(inputs=[input,input_gender,input_age], outputs=predictions)\n",
        "for i,layer in enumerate(model.layers):\n",
        "    print (i,layer.name)\n",
        "\n",
        "Adam=tf.keras.optimizers.Adam(lr=0.0001,beta_1=0.9,beta_2=0.999)\n",
        "model.compile(optimizer=Adam, loss='mean_absolute_error', metrics=['MAE'])\n",
        "model.summary()\n",
        "\n",
        "checkpoint =keras.callbacks.ModelCheckpoint(filepath='weights_inres-mul_sq_aug_ndimg.{epoch:02d}-{val_loss:.2f}.hdf5',save_weights_only=True,period=50)\n",
        "#model.fit_generator(DataGen.flow([x_train,gender_train],y_train,batch_size=batch_size),steps_per_epoch=np.ceil(len(y_train)/batch_size),epochs=50,verbose=1,validation_data=([x_valid,gender_valid,agev],y_valid))\n",
        "history6=model.fit([train_x,train_gen,agetr],train_y,batch_size=4,epochs=50,verbose=1,validation_data=([valid_x,valid_gen,agev],valid_y),callbacks = [checkpoint])\n",
        "score = model.evaluate([test_x,test_gen,aget],test_y, batch_size=batch_size)\n",
        "print('Test loss:', score[0])\n",
        "print('Test MAE:', score[1])"
      ]
    },
    {
      "cell_type": "code",
      "source": [
        "def channel_attention(input_feature):\n",
        "  kernel_initializer = tf.keras.initializers.variance_scaling()\n",
        "  bias_initializer = tf.constant_initializer(value=0.0)\n",
        "  channel = input_feature.get_shape()[-1]\n",
        "  ratio=8\n",
        "  avg_pool = tf.reduce_mean(input_feature, axis=[1,2], keepdims=True)\n",
        "  assert avg_pool.get_shape()[1:] == (1,1,channel)\n",
        "  avg_pool =Dense(\n",
        "                                 units=channel//ratio,\n",
        "                                 activation=tf.nn.relu,\n",
        "                                 kernel_initializer=kernel_initializer,\n",
        "                                 bias_initializer=bias_initializer) (avg_pool)\n",
        "  assert avg_pool.get_shape()[1:] == (1,1,channel//ratio)\n",
        "  avg_pool = Dense(\n",
        "                                 units=channel,                             \n",
        "                                 kernel_initializer=kernel_initializer,\n",
        "                                 bias_initializer=bias_initializer)  (avg_pool)  \n",
        "  assert avg_pool.get_shape()[1:] == (1,1,channel)\n",
        "\n",
        "  max_pool = tf.reduce_max(input_feature, axis=[1,2], keepdims=True)    \n",
        "  assert max_pool.get_shape()[1:] == (1,1,channel)\n",
        "  max_pool = Dense(\n",
        "                                 units=channel//ratio,\n",
        "                                 activation=tf.nn.relu) (max_pool)  \n",
        "  assert max_pool.get_shape()[1:] == (1,1,channel//ratio)\n",
        "  max_pool = Dense(\n",
        "                                 units=channel)  (max_pool)\n",
        "  assert max_pool.get_shape()[1:] == (1,1,channel)\n",
        "\n",
        "  scale = tf.keras.activations.sigmoid(avg_pool + max_pool) \n",
        "  return input_feature * scale"
      ],
      "metadata": {
        "id": "7LaT4kWGUJ9c"
      },
      "execution_count": null,
      "outputs": []
    },
    {
      "cell_type": "code",
      "source": [
        "!nvidia-smi"
      ],
      "metadata": {
        "colab": {
          "base_uri": "https://localhost:8080/"
        },
        "id": "0Cqcp2xHgVK9",
        "outputId": "38137031-c55b-4016-f63b-dd8f634650c5"
      },
      "execution_count": null,
      "outputs": [
        {
          "output_type": "stream",
          "name": "stdout",
          "text": [
            "Tue Jan 10 16:27:24 2023       \n",
            "+-----------------------------------------------------------------------------+\n",
            "| NVIDIA-SMI 460.32.03    Driver Version: 460.32.03    CUDA Version: 11.2     |\n",
            "|-------------------------------+----------------------+----------------------+\n",
            "| GPU  Name        Persistence-M| Bus-Id        Disp.A | Volatile Uncorr. ECC |\n",
            "| Fan  Temp  Perf  Pwr:Usage/Cap|         Memory-Usage | GPU-Util  Compute M. |\n",
            "|                               |                      |               MIG M. |\n",
            "|===============================+======================+======================|\n",
            "|   0  A100-SXM4-40GB      Off  | 00000000:00:04.0 Off |                    0 |\n",
            "| N/A   44C    P0    58W / 400W |      0MiB / 40536MiB |      0%      Default |\n",
            "|                               |                      |             Disabled |\n",
            "+-------------------------------+----------------------+----------------------+\n",
            "                                                                               \n",
            "+-----------------------------------------------------------------------------+\n",
            "| Processes:                                                                  |\n",
            "|  GPU   GI   CI        PID   Type   Process name                  GPU Memory |\n",
            "|        ID   ID                                                   Usage      |\n",
            "|=============================================================================|\n",
            "|  No running processes found                                                 |\n",
            "+-----------------------------------------------------------------------------+\n"
          ]
        }
      ]
    },
    {
      "cell_type": "code",
      "source": [
        "import tensorflow as tf\n",
        "\n",
        "base_model = InceptionV3(weights='imagenet', include_top=False)\n",
        "input = Input(shape=(300,300,3),name='input1')\n",
        "input_gender = Input(shape=(1,),dtype='float32',name='input2')\n",
        "input_age = Input(shape=(2,114),dtype='float32',name='input3')\n",
        "output = base_model(input)\n",
        "gender_embedding=Dense(16)(input_gender)\n",
        "#print (K.int_shape(output))\n",
        "\n",
        "x=channel_attention(output)\n",
        "x = keras.layers.MaxPooling2D(pool_size=(4,4))(x)\n",
        "print (K.int_shape(x))\n",
        "f=Flatten()(x)\n",
        "#f = keras.layers.Concatenate(axis=1)([x,gender_embedding])\n",
        "f = Dense(256, activation='relu')(f)\n",
        "x =Dense(228,activation='linear')(f)\n",
        "y=Flatten()(input_age)\n",
        "print(y.shape)\n",
        "f = keras.layers.Multiply()([x,y])\n",
        "f = keras.layers.Concatenate(axis=1)([f,gender_embedding])\n",
        "predictions=Dense(1)(f)\n",
        "\n",
        "#Embedding = keras.layers.Conv2D(256,kernel_size=(2,2),strides=1)(output)\n",
        "#Embedding = keras.layers.AveragePooling2D(pool_size=(7,7))(Embedding)\n",
        "#Embedding = Flatten()(Embedding)\n",
        "#print (K.int_shape(Embedding))\n",
        "#variance = Dense(1)(Embedding)\n",
        "\n",
        "model = Model(inputs=[input,input_gender,input_age], outputs=predictions)\n",
        "for i,layer in enumerate(model.layers):\n",
        "    print (i,layer.name)\n",
        "\n",
        "Adam=tf.keras.optimizers.Adam(lr=0.0001,beta_1=0.9,beta_2=0.999)\n",
        "model.compile(optimizer=Adam, loss='mean_absolute_error', metrics=['MAE'],run_eagerly=True)\n",
        "model.summary()\n",
        "\n",
        "checkpoint =keras.callbacks.ModelCheckpoint(filepath='weights_inv-mul_sq_aug20_loss_dimg.{epoch:02d}-{val_loss:.2f}.hdf5',save_weights_only=True,period=50)\n",
        "#model.fit_generator(DataGen.flow([x_train,gender_train],y_train,batch_size=batch_size),steps_per_epoch=np.ceil(len(y_train)/batch_size),epochs=50,verbose=1,validation_data=([x_valid,gender_valid,agev],y_valid))\n",
        "history=model.fit([train_x,train_gen,agetr],train_y,batch_size=4,epochs=50,verbose=1,validation_data=([valid_x,valid_gen,agev],valid_y),callbacks = [checkpoint])\n",
        "score = model.evaluate([test_x,test_gen,aget],test_y, batch_size=batch_size)\n",
        "print('Test loss:', score[0])\n",
        "print('Test MAE:', score[1])"
      ],
      "metadata": {
        "colab": {
          "base_uri": "https://localhost:8080/"
        },
        "id": "OF8Ul4fUgfuV",
        "outputId": "c16d9997-5edf-44fd-8f17-9018aa86abf2"
      },
      "execution_count": null,
      "outputs": [
        {
          "output_type": "stream",
          "name": "stdout",
          "text": [
            "Downloading data from https://storage.googleapis.com/tensorflow/keras-applications/inception_v3/inception_v3_weights_tf_dim_ordering_tf_kernels_notop.h5\n",
            "87910968/87910968 [==============================] - 7s 0us/step\n",
            "(None, 2, 2, 2048)\n",
            "(None, 228)\n",
            "0 input1\n",
            "1 inception_v3\n",
            "2 tf.math.reduce_mean\n",
            "3 tf.math.reduce_max\n",
            "4 dense_1\n",
            "5 dense_3\n",
            "6 dense_2\n",
            "7 dense_4\n",
            "8 tf.__operators__.add\n",
            "9 tf.math.sigmoid\n",
            "10 tf.math.multiply\n",
            "11 max_pooling2d_4\n",
            "12 flatten\n",
            "13 dense_5\n",
            "14 input3\n",
            "15 dense_6\n",
            "16 flatten_1\n",
            "17 input2\n",
            "18 multiply\n",
            "19 dense\n",
            "20 concatenate_2\n",
            "21 dense_7\n",
            "Model: \"model\"\n",
            "__________________________________________________________________________________________________\n",
            " Layer (type)                   Output Shape         Param #     Connected to                     \n",
            "==================================================================================================\n",
            " input1 (InputLayer)            [(None, 300, 300, 3  0           []                               \n",
            "                                )]                                                                \n",
            "                                                                                                  \n",
            " inception_v3 (Functional)      (None, None, None,   21802784    ['input1[0][0]']                 \n",
            "                                2048)                                                             \n",
            "                                                                                                  \n",
            " tf.math.reduce_mean (TFOpLambd  (None, 1, 1, 2048)  0           ['inception_v3[0][0]']           \n",
            " a)                                                                                               \n",
            "                                                                                                  \n",
            " tf.math.reduce_max (TFOpLambda  (None, 1, 1, 2048)  0           ['inception_v3[0][0]']           \n",
            " )                                                                                                \n",
            "                                                                                                  \n",
            " dense_1 (Dense)                (None, 1, 1, 256)    524544      ['tf.math.reduce_mean[0][0]']    \n",
            "                                                                                                  \n",
            " dense_3 (Dense)                (None, 1, 1, 256)    524544      ['tf.math.reduce_max[0][0]']     \n",
            "                                                                                                  \n",
            " dense_2 (Dense)                (None, 1, 1, 2048)   526336      ['dense_1[0][0]']                \n",
            "                                                                                                  \n",
            " dense_4 (Dense)                (None, 1, 1, 2048)   526336      ['dense_3[0][0]']                \n",
            "                                                                                                  \n",
            " tf.__operators__.add (TFOpLamb  (None, 1, 1, 2048)  0           ['dense_2[0][0]',                \n",
            " da)                                                              'dense_4[0][0]']                \n",
            "                                                                                                  \n",
            " tf.math.sigmoid (TFOpLambda)   (None, 1, 1, 2048)   0           ['tf.__operators__.add[0][0]']   \n",
            "                                                                                                  \n",
            " tf.math.multiply (TFOpLambda)  (None, 8, 8, 2048)   0           ['inception_v3[0][0]',           \n",
            "                                                                  'tf.math.sigmoid[0][0]']        \n",
            "                                                                                                  \n",
            " max_pooling2d_4 (MaxPooling2D)  (None, 2, 2, 2048)  0           ['tf.math.multiply[0][0]']       \n",
            "                                                                                                  \n",
            " flatten (Flatten)              (None, 8192)         0           ['max_pooling2d_4[0][0]']        \n",
            "                                                                                                  \n",
            " dense_5 (Dense)                (None, 256)          2097408     ['flatten[0][0]']                \n",
            "                                                                                                  \n",
            " input3 (InputLayer)            [(None, 2, 114)]     0           []                               \n",
            "                                                                                                  \n",
            " dense_6 (Dense)                (None, 228)          58596       ['dense_5[0][0]']                \n",
            "                                                                                                  \n",
            " flatten_1 (Flatten)            (None, 228)          0           ['input3[0][0]']                 \n",
            "                                                                                                  \n",
            " input2 (InputLayer)            [(None, 1)]          0           []                               \n",
            "                                                                                                  \n",
            " multiply (Multiply)            (None, 228)          0           ['dense_6[0][0]',                \n",
            "                                                                  'flatten_1[0][0]']              \n",
            "                                                                                                  \n",
            " dense (Dense)                  (None, 16)           32          ['input2[0][0]']                 \n",
            "                                                                                                  \n",
            " concatenate_2 (Concatenate)    (None, 244)          0           ['multiply[0][0]',               \n",
            "                                                                  'dense[0][0]']                  \n",
            "                                                                                                  \n",
            " dense_7 (Dense)                (None, 1)            245         ['concatenate_2[0][0]']          \n",
            "                                                                                                  \n",
            "==================================================================================================\n",
            "Total params: 26,060,825\n",
            "Trainable params: 26,026,393\n",
            "Non-trainable params: 34,432\n",
            "__________________________________________________________________________________________________\n"
          ]
        },
        {
          "output_type": "stream",
          "name": "stderr",
          "text": [
            "/usr/local/lib/python3.8/dist-packages/keras/optimizers/optimizer_v2/adam.py:110: UserWarning: The `lr` argument is deprecated, use `learning_rate` instead.\n",
            "  super(Adam, self).__init__(name, **kwargs)\n",
            "WARNING:tensorflow:`period` argument is deprecated. Please use `save_freq` to specify the frequency in number of batches seen.\n"
          ]
        },
        {
          "output_type": "stream",
          "name": "stdout",
          "text": [
            "Epoch 1/50\n",
            "1949/1949 [==============================] - 605s 304ms/step - loss: 27.5362 - MAE: 27.5362 - val_loss: 22.6556 - val_MAE: 22.6556\n",
            "Epoch 2/50\n",
            "1949/1949 [==============================] - 587s 301ms/step - loss: 17.7162 - MAE: 17.7162 - val_loss: 14.2818 - val_MAE: 14.2818\n",
            "Epoch 3/50\n",
            "1949/1949 [==============================] - 589s 302ms/step - loss: 15.4792 - MAE: 15.4792 - val_loss: 13.6821 - val_MAE: 13.6821\n",
            "Epoch 4/50\n",
            "1949/1949 [==============================] - 589s 302ms/step - loss: 13.6284 - MAE: 13.6284 - val_loss: 12.5142 - val_MAE: 12.5142\n",
            "Epoch 5/50\n",
            "1949/1949 [==============================] - 587s 301ms/step - loss: 12.4322 - MAE: 12.4322 - val_loss: 12.9812 - val_MAE: 12.9812\n",
            "Epoch 6/50\n",
            "1949/1949 [==============================] - 585s 300ms/step - loss: 11.4831 - MAE: 11.4831 - val_loss: 16.7391 - val_MAE: 16.7391\n",
            "Epoch 7/50\n",
            "1949/1949 [==============================] - 585s 300ms/step - loss: 10.5523 - MAE: 10.5523 - val_loss: 12.4503 - val_MAE: 12.4503\n",
            "Epoch 8/50\n",
            "1949/1949 [==============================] - 585s 300ms/step - loss: 9.5022 - MAE: 9.5022 - val_loss: 11.7663 - val_MAE: 11.7663\n",
            "Epoch 9/50\n",
            "1949/1949 [==============================] - 585s 300ms/step - loss: 8.9794 - MAE: 8.9794 - val_loss: 12.0267 - val_MAE: 12.0267\n",
            "Epoch 10/50\n",
            "1949/1949 [==============================] - 586s 301ms/step - loss: 8.2862 - MAE: 8.2862 - val_loss: 10.6288 - val_MAE: 10.6288\n",
            "Epoch 11/50\n",
            "1949/1949 [==============================] - 584s 300ms/step - loss: 7.8065 - MAE: 7.8065 - val_loss: 10.9977 - val_MAE: 10.9977\n",
            "Epoch 12/50\n",
            "1949/1949 [==============================] - 584s 300ms/step - loss: 7.2293 - MAE: 7.2293 - val_loss: 10.8273 - val_MAE: 10.8273\n",
            "Epoch 13/50\n",
            "1949/1949 [==============================] - 584s 300ms/step - loss: 6.8537 - MAE: 6.8537 - val_loss: 10.4792 - val_MAE: 10.4792\n",
            "Epoch 14/50\n",
            "1949/1949 [==============================] - 584s 300ms/step - loss: 6.5005 - MAE: 6.5005 - val_loss: 11.5342 - val_MAE: 11.5342\n",
            "Epoch 15/50\n",
            "1949/1949 [==============================] - 582s 299ms/step - loss: 6.1391 - MAE: 6.1391 - val_loss: 11.2485 - val_MAE: 11.2485\n",
            "Epoch 16/50\n",
            "1949/1949 [==============================] - 581s 298ms/step - loss: 5.9401 - MAE: 5.9401 - val_loss: 12.7320 - val_MAE: 12.7320\n",
            "Epoch 17/50\n",
            "1949/1949 [==============================] - 580s 298ms/step - loss: 5.5839 - MAE: 5.5839 - val_loss: 9.4434 - val_MAE: 9.4434\n",
            "Epoch 18/50\n",
            "1949/1949 [==============================] - 580s 298ms/step - loss: 5.4389 - MAE: 5.4389 - val_loss: 9.6387 - val_MAE: 9.6387\n",
            "Epoch 19/50\n",
            "1949/1949 [==============================] - 580s 297ms/step - loss: 5.2193 - MAE: 5.2193 - val_loss: 9.9922 - val_MAE: 9.9922\n",
            "Epoch 20/50\n",
            "1949/1949 [==============================] - 579s 297ms/step - loss: 5.0573 - MAE: 5.0573 - val_loss: 9.2180 - val_MAE: 9.2180\n",
            "Epoch 21/50\n",
            "1949/1949 [==============================] - 579s 297ms/step - loss: 4.8943 - MAE: 4.8943 - val_loss: 9.4345 - val_MAE: 9.4345\n",
            "Epoch 22/50\n",
            "1949/1949 [==============================] - 579s 297ms/step - loss: 4.7659 - MAE: 4.7659 - val_loss: 9.4734 - val_MAE: 9.4734\n",
            "Epoch 23/50\n",
            "1949/1949 [==============================] - 579s 297ms/step - loss: 4.5547 - MAE: 4.5547 - val_loss: 9.3871 - val_MAE: 9.3871\n",
            "Epoch 24/50\n",
            "1949/1949 [==============================] - 579s 297ms/step - loss: 4.4838 - MAE: 4.4838 - val_loss: 9.1398 - val_MAE: 9.1398\n",
            "Epoch 25/50\n",
            "1949/1949 [==============================] - 579s 297ms/step - loss: 4.3838 - MAE: 4.3838 - val_loss: 9.7679 - val_MAE: 9.7679\n",
            "Epoch 26/50\n",
            "1949/1949 [==============================] - 579s 297ms/step - loss: 4.3932 - MAE: 4.3932 - val_loss: 10.5000 - val_MAE: 10.5000\n",
            "Epoch 27/50\n",
            "1949/1949 [==============================] - 579s 297ms/step - loss: 4.1651 - MAE: 4.1651 - val_loss: 9.1798 - val_MAE: 9.1798\n",
            "Epoch 28/50\n",
            "1949/1949 [==============================] - 579s 297ms/step - loss: 4.1568 - MAE: 4.1568 - val_loss: 9.0864 - val_MAE: 9.0864\n",
            "Epoch 29/50\n",
            "1949/1949 [==============================] - 580s 298ms/step - loss: 4.0079 - MAE: 4.0079 - val_loss: 9.0142 - val_MAE: 9.0142\n",
            "Epoch 30/50\n",
            "1949/1949 [==============================] - 579s 297ms/step - loss: 3.8937 - MAE: 3.8937 - val_loss: 8.9223 - val_MAE: 8.9223\n",
            "Epoch 31/50\n",
            "1949/1949 [==============================] - 579s 297ms/step - loss: 3.8653 - MAE: 3.8653 - val_loss: 9.0765 - val_MAE: 9.0765\n",
            "Epoch 32/50\n",
            "1949/1949 [==============================] - 579s 297ms/step - loss: 3.8835 - MAE: 3.8835 - val_loss: 8.9122 - val_MAE: 8.9122\n",
            "Epoch 33/50\n",
            "1949/1949 [==============================] - 578s 297ms/step - loss: 3.7559 - MAE: 3.7559 - val_loss: 8.8861 - val_MAE: 8.8861\n",
            "Epoch 34/50\n",
            "1949/1949 [==============================] - 578s 297ms/step - loss: 3.6386 - MAE: 3.6386 - val_loss: 9.1473 - val_MAE: 9.1473\n",
            "Epoch 35/50\n",
            "1949/1949 [==============================] - 579s 297ms/step - loss: 3.6073 - MAE: 3.6073 - val_loss: 9.2266 - val_MAE: 9.2266\n",
            "Epoch 36/50\n",
            "1949/1949 [==============================] - 579s 297ms/step - loss: 3.5462 - MAE: 3.5462 - val_loss: 8.8814 - val_MAE: 8.8814\n",
            "Epoch 37/50\n",
            "1949/1949 [==============================] - 579s 297ms/step - loss: 3.4940 - MAE: 3.4940 - val_loss: 8.9589 - val_MAE: 8.9589\n",
            "Epoch 38/50\n",
            "1949/1949 [==============================] - 579s 297ms/step - loss: 3.4042 - MAE: 3.4042 - val_loss: 9.1072 - val_MAE: 9.1072\n",
            "Epoch 39/50\n",
            "1949/1949 [==============================] - 579s 297ms/step - loss: 3.3313 - MAE: 3.3313 - val_loss: 8.8432 - val_MAE: 8.8432\n",
            "Epoch 40/50\n",
            "1949/1949 [==============================] - 579s 297ms/step - loss: 3.3491 - MAE: 3.3491 - val_loss: 8.8892 - val_MAE: 8.8892\n",
            "Epoch 41/50\n",
            "1949/1949 [==============================] - 579s 297ms/step - loss: 3.3826 - MAE: 3.3826 - val_loss: 8.9057 - val_MAE: 8.9057\n",
            "Epoch 42/50\n",
            "1949/1949 [==============================] - 579s 297ms/step - loss: 3.2997 - MAE: 3.2997 - val_loss: 9.0464 - val_MAE: 9.0464\n",
            "Epoch 43/50\n",
            "1949/1949 [==============================] - 580s 298ms/step - loss: 3.2462 - MAE: 3.2462 - val_loss: 9.0709 - val_MAE: 9.0709\n",
            "Epoch 44/50\n",
            "1949/1949 [==============================] - 580s 297ms/step - loss: 3.2211 - MAE: 3.2211 - val_loss: 8.7718 - val_MAE: 8.7718\n",
            "Epoch 45/50\n",
            "1949/1949 [==============================] - 580s 298ms/step - loss: 3.1999 - MAE: 3.1999 - val_loss: 8.6961 - val_MAE: 8.6961\n",
            "Epoch 46/50\n",
            "1949/1949 [==============================] - 579s 297ms/step - loss: 3.1573 - MAE: 3.1573 - val_loss: 8.7279 - val_MAE: 8.7279\n",
            "Epoch 47/50\n",
            "1949/1949 [==============================] - 579s 297ms/step - loss: 3.0829 - MAE: 3.0829 - val_loss: 9.1435 - val_MAE: 9.1435\n",
            "Epoch 48/50\n",
            "1949/1949 [==============================] - 578s 297ms/step - loss: 3.0093 - MAE: 3.0093 - val_loss: 8.6170 - val_MAE: 8.6170\n",
            "Epoch 49/50\n",
            "1949/1949 [==============================] - 579s 297ms/step - loss: 3.0349 - MAE: 3.0349 - val_loss: 8.5679 - val_MAE: 8.5679\n",
            "Epoch 50/50\n",
            "1949/1949 [==============================] - 580s 297ms/step - loss: 2.9761 - MAE: 2.9761 - val_loss: 8.7746 - val_MAE: 8.7746\n",
            "2916/2916 [==============================] - 329s 113ms/step - loss: 8.5380 - MAE: 8.5380\n",
            "Test loss: 8.537980079650879\n",
            "Test MAE: 8.537980079650879\n"
          ]
        }
      ]
    },
    {
      "cell_type": "code",
      "source": [
        "plt.plot(history.history['loss'])\n",
        "plt.plot(history.history['val_loss'])\n",
        "plt.title('inv-mul_sq_aug Model loss')\n",
        "plt.ylabel('Loss')\n",
        "plt.xlabel('Epoch')\n",
        "plt.legend(['Train', 'Validation'], loc='upper left')\n",
        "plt.show()"
      ],
      "metadata": {
        "colab": {
          "base_uri": "https://localhost:8080/",
          "height": 295
        },
        "id": "AXFOkBYlgnfE",
        "outputId": "0ffba760-21d7-45f9-93fa-58c8f5cf6fa8"
      },
      "execution_count": null,
      "outputs": [
        {
          "output_type": "display_data",
          "data": {
            "text/plain": [
              "<Figure size 432x288 with 1 Axes>"
            ],
            "image/png": "[encoded data removed]"
          },
          "metadata": {
            "needs_background": "light"
          }
        }
      ]
    },
    {
      "cell_type": "code",
      "source": [
        "import tensorflow as tf\n",
        "\n",
        "base_model = InceptionV3(weights='imagenet', include_top=False)\n",
        "input = Input(shape=(300,300,3),name='input1')\n",
        "input_gender = Input(shape=(1,),dtype='float32',name='input2')\n",
        "input_age = Input(shape=(2,114),dtype='float32',name='input3')\n",
        "output = base_model(input)\n",
        "gender_embedding=Dense(16)(input_gender)\n",
        "print (K.int_shape(output))\n",
        "sq = keras.layers.GlobalAveragePooling2D()(output)\n",
        "print (K.int_shape(sq))\n",
        "sq = keras.layers.Reshape((1,1,2048))(sq)\n",
        "sq = keras.layers.Dense(units=2048,activation=\"sigmoid\")(sq)\n",
        "block = keras.layers.multiply([output,sq])\n",
        "#fine Squeeze and Excitation 1\n",
        "\n",
        "net = keras.layers.add([output,block])\n",
        "net = keras.layers.BatchNormalization()(net)\n",
        "net = keras.layers.Activation(\"relu\")(net)\n",
        "net = keras.layers.MaxPooling2D(pool_size=(2, 2),name=\"block_1\")(net)\n",
        "print (K.int_shape(net))\n",
        "\n",
        "#x=channel_attention(net)\n",
        "x = keras.layers.MaxPooling2D(pool_size=(4,4))(net)\n",
        "print (K.int_shape(x))\n",
        "x=Flatten()(x)\n",
        "f = keras.layers.Concatenate(axis=1)([x,gender_embedding])\n",
        "f = Dense(256, activation='relu')(f)\n",
        "x =Dense(228,activation='linear')(f)\n",
        "y=Flatten()(input_age)\n",
        "print(y.shape)\n",
        "f = keras.layers.Multiply()([x,y])\n",
        "predictions=Dense(1)(f)\n",
        "\n",
        "#Embedding = keras.layers.Conv2D(256,kernel_size=(2,2),strides=1)(output)\n",
        "#Embedding = keras.layers.AveragePooling2D(pool_size=(7,7))(Embedding)\n",
        "#Embedding = Flatten()(Embedding)\n",
        "#print (K.int_shape(Embedding))\n",
        "#variance = Dense(1)(Embedding)\n",
        "\n",
        "model = Model(inputs=[input,input_gender,input_age], outputs=predictions)\n",
        "for i,layer in enumerate(model.layers):\n",
        "    print (i,layer.name)\n",
        "\n",
        "Adam=tf.keras.optimizers.Adam(lr=0.0001,beta_1=0.9,beta_2=0.999)\n",
        "model.compile(optimizer=Adam, loss='mean_absolute_error', metrics=['MAE'],run_eagerly=True)\n",
        "model.summary()\n",
        "\n",
        "checkpoint =keras.callbacks.ModelCheckpoint(filepath='weights_inv-mul_sq_aug20_loss_dimg.{epoch:02d}-{val_loss:.2f}.hdf5',save_weights_only=True,period=20)\n",
        "#model.fit_generator(DataGen.flow([x_train,gender_train],y_train,batch_size=batch_size),steps_per_epoch=np.ceil(len(y_train)/batch_size),epochs=50,verbose=1,validation_data=([x_valid,gender_valid,agev],y_valid))\n",
        "history=model.fit([train_x,train_gen,agetr],train_y,batch_size=4,epochs=20,verbose=1,validation_data=([valid_x,valid_gen,agev],valid_y),callbacks = [checkpoint])\n",
        "score = model.evaluate([test_x,test_gen,aget],test_y, batch_size=batch_size)\n",
        "print('Test loss:', score[0])\n",
        "print('Test MAE:', score[1])"
      ],
      "metadata": {
        "colab": {
          "base_uri": "https://localhost:8080/"
        },
        "id": "MwPfkw6l1yFN",
        "outputId": "45762b8f-7ee6-4262-afb0-3d2d479a9724"
      },
      "execution_count": null,
      "outputs": [
        {
          "metadata": {
            "tags": null
          },
          "name": "stdout",
          "output_type": "stream",
          "text": [
            "(None, 8, 8, 2048)\n",
            "(None, 2048)\n",
            "(None, 4, 4, 2048)\n",
            "(None, 1, 1, 2048)\n",
            "(None, 228)\n",
            "0 input1\n",
            "1 inception_v3\n",
            "2 global_average_pooling2d\n",
            "3 reshape\n",
            "4 dense_9\n",
            "5 multiply_1\n",
            "6 add\n",
            "7 batch_normalization_188\n",
            "8 activation_188\n",
            "9 block_1\n",
            "10 max_pooling2d_9\n",
            "11 input2\n",
            "12 flatten_2\n",
            "13 dense_8\n",
            "14 concatenate_5\n",
            "15 dense_10\n",
            "16 input3\n",
            "17 dense_11\n",
            "18 flatten_3\n",
            "19 multiply_2\n",
            "20 dense_12\n",
            "Model: \"model_1\"\n",
            "__________________________________________________________________________________________________\n",
            " Layer (type)                   Output Shape         Param #     Connected to                     \n",
            "==================================================================================================\n",
            " input1 (InputLayer)            [(None, 300, 300, 3  0           []                               \n",
            "                                )]                                                                \n",
            "                                                                                                  \n",
            " inception_v3 (Functional)      (None, None, None,   21802784    ['input1[0][0]']                 \n",
            "                                2048)                                                             \n",
            "                                                                                                  \n",
            " global_average_pooling2d (Glob  (None, 2048)        0           ['inception_v3[0][0]']           \n",
            " alAveragePooling2D)                                                                              \n",
            "                                                                                                  \n",
            " reshape (Reshape)              (None, 1, 1, 2048)   0           ['global_average_pooling2d[0][0]'\n",
            "                                                                 ]                                \n",
            "                                                                                                  \n",
            " dense_9 (Dense)                (None, 1, 1, 2048)   4196352     ['reshape[0][0]']                \n",
            "                                                                                                  \n",
            " multiply_1 (Multiply)          (None, 8, 8, 2048)   0           ['inception_v3[0][0]',           \n",
            "                                                                  'dense_9[0][0]']                \n",
            "                                                                                                  \n",
            " add (Add)                      (None, 8, 8, 2048)   0           ['inception_v3[0][0]',           \n",
            "                                                                  'multiply_1[0][0]']             \n",
            "                                                                                                  \n",
            " batch_normalization_188 (Batch  (None, 8, 8, 2048)  8192        ['add[0][0]']                    \n",
            " Normalization)                                                                                   \n",
            "                                                                                                  \n",
            " activation_188 (Activation)    (None, 8, 8, 2048)   0           ['batch_normalization_188[0][0]']\n",
            "                                                                                                  \n",
            " block_1 (MaxPooling2D)         (None, 4, 4, 2048)   0           ['activation_188[0][0]']         \n",
            "                                                                                                  \n",
            " max_pooling2d_9 (MaxPooling2D)  (None, 1, 1, 2048)  0           ['block_1[0][0]']                \n",
            "                                                                                                  \n",
            " input2 (InputLayer)            [(None, 1)]          0           []                               \n",
            "                                                                                                  \n",
            " flatten_2 (Flatten)            (None, 2048)         0           ['max_pooling2d_9[0][0]']        \n",
            "                                                                                                  \n",
            " dense_8 (Dense)                (None, 16)           32          ['input2[0][0]']                 \n",
            "                                                                                                  \n",
            " concatenate_5 (Concatenate)    (None, 2064)         0           ['flatten_2[0][0]',              \n",
            "                                                                  'dense_8[0][0]']                \n",
            "                                                                                                  \n",
            " dense_10 (Dense)               (None, 256)          528640      ['concatenate_5[0][0]']          \n",
            "                                                                                                  \n",
            " input3 (InputLayer)            [(None, 2, 114)]     0           []                               \n",
            "                                                                                                  \n",
            " dense_11 (Dense)               (None, 228)          58596       ['dense_10[0][0]']               \n",
            "                                                                                                  \n",
            " flatten_3 (Flatten)            (None, 228)          0           ['input3[0][0]']                 \n",
            "                                                                                                  \n",
            " multiply_2 (Multiply)          (None, 228)          0           ['dense_11[0][0]',               \n",
            "                                                                  'flatten_3[0][0]']              \n",
            "                                                                                                  \n",
            " dense_12 (Dense)               (None, 1)            229         ['multiply_2[0][0]']             \n",
            "                                                                                                  \n",
            "==================================================================================================\n",
            "Total params: 26,594,825\n",
            "Trainable params: 26,556,297\n",
            "Non-trainable params: 38,528\n",
            "__________________________________________________________________________________________________\n"
          ]
        },
        {
          "metadata": {
            "tags": null
          },
          "name": "stderr",
          "output_type": "stream",
          "text": [
            "/usr/local/lib/python3.8/dist-packages/keras/optimizers/optimizer_v2/adam.py:110: UserWarning: The `lr` argument is deprecated, use `learning_rate` instead.\n",
            "  super(Adam, self).__init__(name, **kwargs)\n",
            "WARNING:tensorflow:`period` argument is deprecated. Please use `save_freq` to specify the frequency in number of batches seen.\n"
          ]
        },
        {
          "output_type": "stream",
          "name": "stdout",
          "text": [
            "Epoch 1/20\n",
            "1949/1949 [==============================] - 572s 293ms/step - loss: 51.0793 - MAE: 51.0793 - val_loss: 24.7892 - val_MAE: 24.7892\n",
            "Epoch 2/20\n",
            "1949/1949 [==============================] - 571s 293ms/step - loss: 21.3071 - MAE: 21.3071 - val_loss: 23.6796 - val_MAE: 23.6796\n",
            "Epoch 3/20\n",
            "1949/1949 [==============================] - 570s 293ms/step - loss: 18.3941 - MAE: 18.3941 - val_loss: 14.6644 - val_MAE: 14.6644\n",
            "Epoch 4/20\n",
            "1949/1949 [==============================] - 570s 292ms/step - loss: 16.4387 - MAE: 16.4387 - val_loss: 16.6463 - val_MAE: 16.6463\n",
            "Epoch 5/20\n",
            "1949/1949 [==============================] - 571s 293ms/step - loss: 14.9468 - MAE: 14.9468 - val_loss: 13.5213 - val_MAE: 13.5213\n",
            "Epoch 6/20\n",
            "1949/1949 [==============================] - 570s 292ms/step - loss: 13.7657 - MAE: 13.7657 - val_loss: 12.7904 - val_MAE: 12.7904\n",
            "Epoch 7/20\n",
            "1949/1949 [==============================] - 570s 293ms/step - loss: 12.7070 - MAE: 12.7070 - val_loss: 13.8046 - val_MAE: 13.8046\n",
            "Epoch 8/20\n",
            "1949/1949 [==============================] - 570s 293ms/step - loss: 12.3216 - MAE: 12.3216 - val_loss: 11.0020 - val_MAE: 11.0020\n",
            "Epoch 9/20\n",
            "1949/1949 [==============================] - 571s 293ms/step - loss: 11.4335 - MAE: 11.4335 - val_loss: 22.1777 - val_MAE: 22.1777\n",
            "Epoch 10/20\n",
            "1949/1949 [==============================] - 570s 293ms/step - loss: 10.6558 - MAE: 10.6558 - val_loss: 11.7149 - val_MAE: 11.7149\n",
            "Epoch 11/20\n",
            "1949/1949 [==============================] - 570s 293ms/step - loss: 10.0521 - MAE: 10.0521 - val_loss: 15.0287 - val_MAE: 15.0287\n",
            "Epoch 12/20\n",
            "1949/1949 [==============================] - 566s 291ms/step - loss: 9.6148 - MAE: 9.6148 - val_loss: 9.7834 - val_MAE: 9.7834\n",
            "Epoch 13/20\n",
            "1949/1949 [==============================] - 567s 291ms/step - loss: 9.0668 - MAE: 9.0668 - val_loss: 17.2788 - val_MAE: 17.2788\n",
            "Epoch 14/20\n",
            "1949/1949 [==============================] - 568s 291ms/step - loss: 8.6073 - MAE: 8.6073 - val_loss: 11.4904 - val_MAE: 11.4904\n",
            "Epoch 15/20\n",
            "1949/1949 [==============================] - 567s 291ms/step - loss: 8.1121 - MAE: 8.1121 - val_loss: 10.0253 - val_MAE: 10.0253\n",
            "Epoch 16/20\n",
            "1949/1949 [==============================] - 567s 291ms/step - loss: 8.0052 - MAE: 8.0052 - val_loss: 9.0359 - val_MAE: 9.0359\n",
            "Epoch 17/20\n",
            "1949/1949 [==============================] - 567s 291ms/step - loss: 7.4772 - MAE: 7.4772 - val_loss: 9.6665 - val_MAE: 9.6665\n",
            "Epoch 18/20\n",
            "1949/1949 [==============================] - 567s 291ms/step - loss: 7.0995 - MAE: 7.0995 - val_loss: 9.8099 - val_MAE: 9.8099\n",
            "Epoch 19/20\n",
            "1949/1949 [==============================] - 566s 291ms/step - loss: 6.8572 - MAE: 6.8572 - val_loss: 9.3329 - val_MAE: 9.3329\n",
            "Epoch 20/20\n",
            "1949/1949 [==============================] - 568s 291ms/step - loss: 6.6160 - MAE: 6.6160 - val_loss: 9.2747 - val_MAE: 9.2747\n",
            "2916/2916 [==============================] - 321s 110ms/step - loss: 8.6447 - MAE: 8.6447\n",
            "Test loss: 8.644740104675293\n",
            "Test MAE: 8.644740104675293\n"
          ]
        }
      ]
    },
    {
      "cell_type": "code",
      "source": [
        "checkpoint =keras.callbacks.ModelCheckpoint(filepath='weights_inv-mul_sq_aug20_loss_dimg.{epoch:02d}-{val_loss:.2f}.hdf5',save_weights_only=True,period=40)\n",
        "#model.fit_generator(DataGen.flow([x_train,gender_train],y_train,batch_size=batch_size),steps_per_epoch=np.ceil(len(y_train)/batch_size),epochs=50,verbose=1,validation_data=([x_valid,gender_valid,agev],y_valid))\n",
        "history=model.fit([train_x,train_gen,agetr],train_y,batch_size=4,epochs=40,verbose=1,validation_data=([valid_x,valid_gen,agev],valid_y),callbacks = [checkpoint])\n",
        "score = model.evaluate([test_x,test_gen,aget],test_y, batch_size=batch_size)\n",
        "print('Test loss:', score[0])\n",
        "print('Test MAE:', score[1])"
      ],
      "metadata": {
        "colab": {
          "base_uri": "https://localhost:8080/",
          "height": 1000
        },
        "id": "Y3orpAxu2hnD",
        "outputId": "cb5b63e0-d37a-4ff2-83f3-0e51591d7a34"
      },
      "execution_count": null,
      "outputs": [
        {
          "metadata": {
            "tags": null
          },
          "name": "stderr",
          "output_type": "stream",
          "text": [
            "WARNING:tensorflow:`period` argument is deprecated. Please use `save_freq` to specify the frequency in number of batches seen.\n"
          ]
        },
        {
          "output_type": "stream",
          "name": "stdout",
          "text": [
            "Epoch 1/40\n",
            "1949/1949 [==============================] - 570s 292ms/step - loss: 6.4224 - MAE: 6.4224 - val_loss: 8.6277 - val_MAE: 8.6277\n",
            "Epoch 2/40\n",
            "1949/1949 [==============================] - 567s 291ms/step - loss: 6.1675 - MAE: 6.1675 - val_loss: 8.9993 - val_MAE: 8.9993\n",
            "Epoch 3/40\n",
            "1949/1949 [==============================] - 567s 291ms/step - loss: 5.8469 - MAE: 5.8469 - val_loss: 8.7425 - val_MAE: 8.7425\n",
            "Epoch 4/40\n",
            "1949/1949 [==============================] - 568s 291ms/step - loss: 5.8934 - MAE: 5.8934 - val_loss: 9.9627 - val_MAE: 9.9627\n",
            "Epoch 5/40\n",
            "1949/1949 [==============================] - 568s 291ms/step - loss: 5.8770 - MAE: 5.8770 - val_loss: 9.4165 - val_MAE: 9.4165\n",
            "Epoch 6/40\n",
            "1949/1949 [==============================] - 566s 291ms/step - loss: 5.5993 - MAE: 5.5993 - val_loss: 9.2457 - val_MAE: 9.2457\n",
            "Epoch 7/40\n",
            "1949/1949 [==============================] - 567s 291ms/step - loss: 5.3826 - MAE: 5.3826 - val_loss: 9.5756 - val_MAE: 9.5756\n",
            "Epoch 8/40\n",
            "1949/1949 [==============================] - 568s 292ms/step - loss: 5.3895 - MAE: 5.3895 - val_loss: 8.6337 - val_MAE: 8.6337\n",
            "Epoch 9/40\n",
            "1949/1949 [==============================] - 567s 291ms/step - loss: 5.0463 - MAE: 5.0463 - val_loss: 9.0009 - val_MAE: 9.0009\n",
            "Epoch 10/40\n",
            "1949/1949 [==============================] - 567s 291ms/step - loss: 5.1501 - MAE: 5.1501 - val_loss: 8.5750 - val_MAE: 8.5750\n",
            "Epoch 11/40\n",
            "1949/1949 [==============================] - 567s 291ms/step - loss: 5.0000 - MAE: 5.0000 - val_loss: 9.2962 - val_MAE: 9.2962\n",
            "Epoch 12/40\n",
            "1949/1949 [==============================] - 567s 291ms/step - loss: 4.8489 - MAE: 4.8489 - val_loss: 8.7005 - val_MAE: 8.7005\n",
            "Epoch 13/40\n",
            "1949/1949 [==============================] - 567s 291ms/step - loss: 4.8499 - MAE: 4.8499 - val_loss: 8.4952 - val_MAE: 8.4952\n",
            "Epoch 14/40\n",
            "1949/1949 [==============================] - 567s 291ms/step - loss: 4.8287 - MAE: 4.8287 - val_loss: 8.5498 - val_MAE: 8.5498\n",
            "Epoch 15/40\n",
            "1949/1949 [==============================] - 567s 291ms/step - loss: 4.5926 - MAE: 4.5926 - val_loss: 8.7351 - val_MAE: 8.7351\n",
            "Epoch 16/40\n",
            "1949/1949 [==============================] - 567s 291ms/step - loss: 4.6384 - MAE: 4.6384 - val_loss: 8.7697 - val_MAE: 8.7697\n",
            "Epoch 17/40\n",
            "1949/1949 [==============================] - ETA: 0s - loss: 4.3773 - MAE: 4.3773"
          ]
        },
        {
          "output_type": "error",
          "ename": "KeyboardInterrupt",
          "evalue": "ignored",
          "traceback": [
            "\u001b[0;31m---------------------------------------------------------------------------\u001b[0m",
            "\u001b[0;31mKeyboardInterrupt\u001b[0m                         Traceback (most recent call last)",
            "\u001b[0;32m<ipython-input-76-c61bf3c1d993>\u001b[0m in \u001b[0;36m<module>\u001b[0;34m\u001b[0m\n\u001b[1;32m      1\u001b[0m \u001b[0mcheckpoint\u001b[0m \u001b[0;34m=\u001b[0m\u001b[0mkeras\u001b[0m\u001b[0;34m.\u001b[0m\u001b[0mcallbacks\u001b[0m\u001b[0;34m.\u001b[0m\u001b[0mModelCheckpoint\u001b[0m\u001b[0;34m(\u001b[0m\u001b[0mfilepath\u001b[0m\u001b[0;34m=\u001b[0m\u001b[0;34m'weights_inv-mul_sq_aug20_loss_dimg.{epoch:02d}-{val_loss:.2f}.hdf5'\u001b[0m\u001b[0;34m,\u001b[0m\u001b[0msave_weights_only\u001b[0m\u001b[0;34m=\u001b[0m\u001b[0;32mTrue\u001b[0m\u001b[0;34m,\u001b[0m\u001b[0mperiod\u001b[0m\u001b[0;34m=\u001b[0m\u001b[0;36m40\u001b[0m\u001b[0;34m)\u001b[0m\u001b[0;34m\u001b[0m\u001b[0;34m\u001b[0m\u001b[0m\n\u001b[1;32m      2\u001b[0m \u001b[0;31m#model.fit_generator(DataGen.flow([x_train,gender_train],y_train,batch_size=batch_size),steps_per_epoch=np.ceil(len(y_train)/batch_size),epochs=50,verbose=1,validation_data=([x_valid,gender_valid,agev],y_valid))\u001b[0m\u001b[0;34m\u001b[0m\u001b[0;34m\u001b[0m\u001b[0;34m\u001b[0m\u001b[0m\n\u001b[0;32m----> 3\u001b[0;31m \u001b[0mhistory\u001b[0m\u001b[0;34m=\u001b[0m\u001b[0mmodel\u001b[0m\u001b[0;34m.\u001b[0m\u001b[0mfit\u001b[0m\u001b[0;34m(\u001b[0m\u001b[0;34m[\u001b[0m\u001b[0mtrain_x\u001b[0m\u001b[0;34m,\u001b[0m\u001b[0mtrain_gen\u001b[0m\u001b[0;34m,\u001b[0m\u001b[0magetr\u001b[0m\u001b[0;34m]\u001b[0m\u001b[0;34m,\u001b[0m\u001b[0mtrain_y\u001b[0m\u001b[0;34m,\u001b[0m\u001b[0mbatch_size\u001b[0m\u001b[0;34m=\u001b[0m\u001b[0;36m4\u001b[0m\u001b[0;34m,\u001b[0m\u001b[0mepochs\u001b[0m\u001b[0;34m=\u001b[0m\u001b[0;36m40\u001b[0m\u001b[0;34m,\u001b[0m\u001b[0mverbose\u001b[0m\u001b[0;34m=\u001b[0m\u001b[0;36m1\u001b[0m\u001b[0;34m,\u001b[0m\u001b[0mvalidation_data\u001b[0m\u001b[0;34m=\u001b[0m\u001b[0;34m(\u001b[0m\u001b[0;34m[\u001b[0m\u001b[0mvalid_x\u001b[0m\u001b[0;34m,\u001b[0m\u001b[0mvalid_gen\u001b[0m\u001b[0;34m,\u001b[0m\u001b[0magev\u001b[0m\u001b[0;34m]\u001b[0m\u001b[0;34m,\u001b[0m\u001b[0mvalid_y\u001b[0m\u001b[0;34m)\u001b[0m\u001b[0;34m,\u001b[0m\u001b[0mcallbacks\u001b[0m \u001b[0;34m=\u001b[0m \u001b[0;34m[\u001b[0m\u001b[0mcheckpoint\u001b[0m\u001b[0;34m]\u001b[0m\u001b[0;34m)\u001b[0m\u001b[0;34m\u001b[0m\u001b[0;34m\u001b[0m\u001b[0m\n\u001b[0m\u001b[1;32m      4\u001b[0m \u001b[0mscore\u001b[0m \u001b[0;34m=\u001b[0m \u001b[0mmodel\u001b[0m\u001b[0;34m.\u001b[0m\u001b[0mevaluate\u001b[0m\u001b[0;34m(\u001b[0m\u001b[0;34m[\u001b[0m\u001b[0mtest_x\u001b[0m\u001b[0;34m,\u001b[0m\u001b[0mtest_gen\u001b[0m\u001b[0;34m,\u001b[0m\u001b[0maget\u001b[0m\u001b[0;34m]\u001b[0m\u001b[0;34m,\u001b[0m\u001b[0mtest_y\u001b[0m\u001b[0;34m,\u001b[0m \u001b[0mbatch_size\u001b[0m\u001b[0;34m=\u001b[0m\u001b[0mbatch_size\u001b[0m\u001b[0;34m)\u001b[0m\u001b[0;34m\u001b[0m\u001b[0;34m\u001b[0m\u001b[0m\n\u001b[1;32m      5\u001b[0m \u001b[0mprint\u001b[0m\u001b[0;34m(\u001b[0m\u001b[0;34m'Test loss:'\u001b[0m\u001b[0;34m,\u001b[0m \u001b[0mscore\u001b[0m\u001b[0;34m[\u001b[0m\u001b[0;36m0\u001b[0m\u001b[0;34m]\u001b[0m\u001b[0;34m)\u001b[0m\u001b[0;34m\u001b[0m\u001b[0;34m\u001b[0m\u001b[0m\n",
            "\u001b[0;32m/usr/local/lib/python3.8/dist-packages/keras/utils/traceback_utils.py\u001b[0m in \u001b[0;36merror_handler\u001b[0;34m(*args, **kwargs)\u001b[0m\n\u001b[1;32m     62\u001b[0m     \u001b[0mfiltered_tb\u001b[0m \u001b[0;34m=\u001b[0m \u001b[0;32mNone\u001b[0m\u001b[0;34m\u001b[0m\u001b[0;34m\u001b[0m\u001b[0m\n\u001b[1;32m     63\u001b[0m     \u001b[0;32mtry\u001b[0m\u001b[0;34m:\u001b[0m\u001b[0;34m\u001b[0m\u001b[0;34m\u001b[0m\u001b[0m\n\u001b[0;32m---> 64\u001b[0;31m       \u001b[0;32mreturn\u001b[0m \u001b[0mfn\u001b[0m\u001b[0;34m(\u001b[0m\u001b[0;34m*\u001b[0m\u001b[0margs\u001b[0m\u001b[0;34m,\u001b[0m \u001b[0;34m**\u001b[0m\u001b[0mkwargs\u001b[0m\u001b[0;34m)\u001b[0m\u001b[0;34m\u001b[0m\u001b[0;34m\u001b[0m\u001b[0m\n\u001b[0m\u001b[1;32m     65\u001b[0m     \u001b[0;32mexcept\u001b[0m \u001b[0mException\u001b[0m \u001b[0;32mas\u001b[0m \u001b[0me\u001b[0m\u001b[0;34m:\u001b[0m  \u001b[0;31m# pylint: disable=broad-except\u001b[0m\u001b[0;34m\u001b[0m\u001b[0;34m\u001b[0m\u001b[0m\n\u001b[1;32m     66\u001b[0m       \u001b[0mfiltered_tb\u001b[0m \u001b[0;34m=\u001b[0m \u001b[0m_process_traceback_frames\u001b[0m\u001b[0;34m(\u001b[0m\u001b[0me\u001b[0m\u001b[0;34m.\u001b[0m\u001b[0m__traceback__\u001b[0m\u001b[0;34m)\u001b[0m\u001b[0;34m\u001b[0m\u001b[0;34m\u001b[0m\u001b[0m\n",
            "\u001b[0;32m/usr/local/lib/python3.8/dist-packages/keras/engine/training.py\u001b[0m in \u001b[0;36mfit\u001b[0;34m(self, x, y, batch_size, epochs, verbose, callbacks, validation_split, validation_data, shuffle, class_weight, sample_weight, initial_epoch, steps_per_epoch, validation_steps, validation_batch_size, validation_freq, max_queue_size, workers, use_multiprocessing)\u001b[0m\n\u001b[1;32m   1443\u001b[0m                 \u001b[0mmodel\u001b[0m\u001b[0;34m=\u001b[0m\u001b[0mself\u001b[0m\u001b[0;34m,\u001b[0m\u001b[0;34m\u001b[0m\u001b[0;34m\u001b[0m\u001b[0m\n\u001b[1;32m   1444\u001b[0m                 steps_per_execution=self._steps_per_execution)\n\u001b[0;32m-> 1445\u001b[0;31m           val_logs = self.evaluate(\n\u001b[0m\u001b[1;32m   1446\u001b[0m               \u001b[0mx\u001b[0m\u001b[0;34m=\u001b[0m\u001b[0mval_x\u001b[0m\u001b[0;34m,\u001b[0m\u001b[0;34m\u001b[0m\u001b[0;34m\u001b[0m\u001b[0m\n\u001b[1;32m   1447\u001b[0m               \u001b[0my\u001b[0m\u001b[0;34m=\u001b[0m\u001b[0mval_y\u001b[0m\u001b[0;34m,\u001b[0m\u001b[0;34m\u001b[0m\u001b[0;34m\u001b[0m\u001b[0m\n",
            "\u001b[0;32m/usr/local/lib/python3.8/dist-packages/keras/utils/traceback_utils.py\u001b[0m in \u001b[0;36merror_handler\u001b[0;34m(*args, **kwargs)\u001b[0m\n\u001b[1;32m     62\u001b[0m     \u001b[0mfiltered_tb\u001b[0m \u001b[0;34m=\u001b[0m \u001b[0;32mNone\u001b[0m\u001b[0;34m\u001b[0m\u001b[0;34m\u001b[0m\u001b[0m\n\u001b[1;32m     63\u001b[0m     \u001b[0;32mtry\u001b[0m\u001b[0;34m:\u001b[0m\u001b[0;34m\u001b[0m\u001b[0;34m\u001b[0m\u001b[0m\n\u001b[0;32m---> 64\u001b[0;31m       \u001b[0;32mreturn\u001b[0m \u001b[0mfn\u001b[0m\u001b[0;34m(\u001b[0m\u001b[0;34m*\u001b[0m\u001b[0margs\u001b[0m\u001b[0;34m,\u001b[0m \u001b[0;34m**\u001b[0m\u001b[0mkwargs\u001b[0m\u001b[0;34m)\u001b[0m\u001b[0;34m\u001b[0m\u001b[0;34m\u001b[0m\u001b[0m\n\u001b[0m\u001b[1;32m     65\u001b[0m     \u001b[0;32mexcept\u001b[0m \u001b[0mException\u001b[0m \u001b[0;32mas\u001b[0m \u001b[0me\u001b[0m\u001b[0;34m:\u001b[0m  \u001b[0;31m# pylint: disable=broad-except\u001b[0m\u001b[0;34m\u001b[0m\u001b[0;34m\u001b[0m\u001b[0m\n\u001b[1;32m     66\u001b[0m       \u001b[0mfiltered_tb\u001b[0m \u001b[0;34m=\u001b[0m \u001b[0m_process_traceback_frames\u001b[0m\u001b[0;34m(\u001b[0m\u001b[0me\u001b[0m\u001b[0;34m.\u001b[0m\u001b[0m__traceback__\u001b[0m\u001b[0;34m)\u001b[0m\u001b[0;34m\u001b[0m\u001b[0;34m\u001b[0m\u001b[0m\n",
            "\u001b[0;32m/usr/local/lib/python3.8/dist-packages/keras/engine/training.py\u001b[0m in \u001b[0;36mevaluate\u001b[0;34m(self, x, y, batch_size, verbose, sample_weight, steps, callbacks, max_queue_size, workers, use_multiprocessing, return_dict, **kwargs)\u001b[0m\n\u001b[1;32m   1754\u001b[0m             \u001b[0;32mwith\u001b[0m \u001b[0mtf\u001b[0m\u001b[0;34m.\u001b[0m\u001b[0mprofiler\u001b[0m\u001b[0;34m.\u001b[0m\u001b[0mexperimental\u001b[0m\u001b[0;34m.\u001b[0m\u001b[0mTrace\u001b[0m\u001b[0;34m(\u001b[0m\u001b[0;34m'test'\u001b[0m\u001b[0;34m,\u001b[0m \u001b[0mstep_num\u001b[0m\u001b[0;34m=\u001b[0m\u001b[0mstep\u001b[0m\u001b[0;34m,\u001b[0m \u001b[0m_r\u001b[0m\u001b[0;34m=\u001b[0m\u001b[0;36m1\u001b[0m\u001b[0;34m)\u001b[0m\u001b[0;34m:\u001b[0m\u001b[0;34m\u001b[0m\u001b[0;34m\u001b[0m\u001b[0m\n\u001b[1;32m   1755\u001b[0m               \u001b[0mcallbacks\u001b[0m\u001b[0;34m.\u001b[0m\u001b[0mon_test_batch_begin\u001b[0m\u001b[0;34m(\u001b[0m\u001b[0mstep\u001b[0m\u001b[0;34m)\u001b[0m\u001b[0;34m\u001b[0m\u001b[0;34m\u001b[0m\u001b[0m\n\u001b[0;32m-> 1756\u001b[0;31m               \u001b[0mtmp_logs\u001b[0m \u001b[0;34m=\u001b[0m \u001b[0mself\u001b[0m\u001b[0;34m.\u001b[0m\u001b[0mtest_function\u001b[0m\u001b[0;34m(\u001b[0m\u001b[0miterator\u001b[0m\u001b[0;34m)\u001b[0m\u001b[0;34m\u001b[0m\u001b[0;34m\u001b[0m\u001b[0m\n\u001b[0m\u001b[1;32m   1757\u001b[0m               \u001b[0;32mif\u001b[0m \u001b[0mdata_handler\u001b[0m\u001b[0;34m.\u001b[0m\u001b[0mshould_sync\u001b[0m\u001b[0;34m:\u001b[0m\u001b[0;34m\u001b[0m\u001b[0;34m\u001b[0m\u001b[0m\n\u001b[1;32m   1758\u001b[0m                 \u001b[0mcontext\u001b[0m\u001b[0;34m.\u001b[0m\u001b[0masync_wait\u001b[0m\u001b[0;34m(\u001b[0m\u001b[0;34m)\u001b[0m\u001b[0;34m\u001b[0m\u001b[0;34m\u001b[0m\u001b[0m\n",
            "\u001b[0;32m/usr/local/lib/python3.8/dist-packages/keras/engine/training.py\u001b[0m in \u001b[0;36mtest_function\u001b[0;34m(iterator)\u001b[0m\n\u001b[1;32m   1555\u001b[0m       \u001b[0;32mdef\u001b[0m \u001b[0mtest_function\u001b[0m\u001b[0;34m(\u001b[0m\u001b[0miterator\u001b[0m\u001b[0;34m)\u001b[0m\u001b[0;34m:\u001b[0m\u001b[0;34m\u001b[0m\u001b[0;34m\u001b[0m\u001b[0m\n\u001b[1;32m   1556\u001b[0m         \u001b[0;34m\"\"\"Runs a test execution with a single step.\"\"\"\u001b[0m\u001b[0;34m\u001b[0m\u001b[0;34m\u001b[0m\u001b[0m\n\u001b[0;32m-> 1557\u001b[0;31m         \u001b[0;32mreturn\u001b[0m \u001b[0mstep_function\u001b[0m\u001b[0;34m(\u001b[0m\u001b[0mself\u001b[0m\u001b[0;34m,\u001b[0m \u001b[0miterator\u001b[0m\u001b[0;34m)\u001b[0m\u001b[0;34m\u001b[0m\u001b[0;34m\u001b[0m\u001b[0m\n\u001b[0m\u001b[1;32m   1558\u001b[0m \u001b[0;34m\u001b[0m\u001b[0m\n\u001b[1;32m   1559\u001b[0m       \u001b[0;32mif\u001b[0m \u001b[0;32mnot\u001b[0m \u001b[0mself\u001b[0m\u001b[0;34m.\u001b[0m\u001b[0mrun_eagerly\u001b[0m\u001b[0;34m:\u001b[0m\u001b[0;34m\u001b[0m\u001b[0;34m\u001b[0m\u001b[0m\n",
            "\u001b[0;32m/usr/local/lib/python3.8/dist-packages/keras/engine/training.py\u001b[0m in \u001b[0;36mstep_function\u001b[0;34m(model, iterator)\u001b[0m\n\u001b[1;32m   1544\u001b[0m \u001b[0;34m\u001b[0m\u001b[0m\n\u001b[1;32m   1545\u001b[0m       \u001b[0mdata\u001b[0m \u001b[0;34m=\u001b[0m \u001b[0mnext\u001b[0m\u001b[0;34m(\u001b[0m\u001b[0miterator\u001b[0m\u001b[0;34m)\u001b[0m\u001b[0;34m\u001b[0m\u001b[0;34m\u001b[0m\u001b[0m\n\u001b[0;32m-> 1546\u001b[0;31m       \u001b[0moutputs\u001b[0m \u001b[0;34m=\u001b[0m \u001b[0mmodel\u001b[0m\u001b[0;34m.\u001b[0m\u001b[0mdistribute_strategy\u001b[0m\u001b[0;34m.\u001b[0m\u001b[0mrun\u001b[0m\u001b[0;34m(\u001b[0m\u001b[0mrun_step\u001b[0m\u001b[0;34m,\u001b[0m \u001b[0margs\u001b[0m\u001b[0;34m=\u001b[0m\u001b[0;34m(\u001b[0m\u001b[0mdata\u001b[0m\u001b[0;34m,\u001b[0m\u001b[0;34m)\u001b[0m\u001b[0;34m)\u001b[0m\u001b[0;34m\u001b[0m\u001b[0;34m\u001b[0m\u001b[0m\n\u001b[0m\u001b[1;32m   1547\u001b[0m       outputs = reduce_per_replica(\n\u001b[1;32m   1548\u001b[0m           outputs, self.distribute_strategy, reduction='first')\n",
            "\u001b[0;32m/usr/local/lib/python3.8/dist-packages/tensorflow/python/distribute/distribute_lib.py\u001b[0m in \u001b[0;36mrun\u001b[0;34m(***failed resolving arguments***)\u001b[0m\n\u001b[1;32m   1310\u001b[0m       fn = autograph.tf_convert(\n\u001b[1;32m   1311\u001b[0m           fn, autograph_ctx.control_status_ctx(), convert_by_default=False)\n\u001b[0;32m-> 1312\u001b[0;31m       \u001b[0;32mreturn\u001b[0m \u001b[0mself\u001b[0m\u001b[0;34m.\u001b[0m\u001b[0m_extended\u001b[0m\u001b[0;34m.\u001b[0m\u001b[0mcall_for_each_replica\u001b[0m\u001b[0;34m(\u001b[0m\u001b[0mfn\u001b[0m\u001b[0;34m,\u001b[0m \u001b[0margs\u001b[0m\u001b[0;34m=\u001b[0m\u001b[0margs\u001b[0m\u001b[0;34m,\u001b[0m \u001b[0mkwargs\u001b[0m\u001b[0;34m=\u001b[0m\u001b[0mkwargs\u001b[0m\u001b[0;34m)\u001b[0m\u001b[0;34m\u001b[0m\u001b[0;34m\u001b[0m\u001b[0m\n\u001b[0m\u001b[1;32m   1313\u001b[0m \u001b[0;34m\u001b[0m\u001b[0m\n\u001b[1;32m   1314\u001b[0m   \u001b[0;32mdef\u001b[0m \u001b[0mreduce\u001b[0m\u001b[0;34m(\u001b[0m\u001b[0mself\u001b[0m\u001b[0;34m,\u001b[0m \u001b[0mreduce_op\u001b[0m\u001b[0;34m,\u001b[0m \u001b[0mvalue\u001b[0m\u001b[0;34m,\u001b[0m \u001b[0maxis\u001b[0m\u001b[0;34m)\u001b[0m\u001b[0;34m:\u001b[0m\u001b[0;34m\u001b[0m\u001b[0;34m\u001b[0m\u001b[0m\n",
            "\u001b[0;32m/usr/local/lib/python3.8/dist-packages/tensorflow/python/distribute/distribute_lib.py\u001b[0m in \u001b[0;36mcall_for_each_replica\u001b[0;34m(self, fn, args, kwargs)\u001b[0m\n\u001b[1;32m   2886\u001b[0m       \u001b[0mkwargs\u001b[0m \u001b[0;34m=\u001b[0m \u001b[0;34m{\u001b[0m\u001b[0;34m}\u001b[0m\u001b[0;34m\u001b[0m\u001b[0;34m\u001b[0m\u001b[0m\n\u001b[1;32m   2887\u001b[0m     \u001b[0;32mwith\u001b[0m \u001b[0mself\u001b[0m\u001b[0;34m.\u001b[0m\u001b[0m_container_strategy\u001b[0m\u001b[0;34m(\u001b[0m\u001b[0;34m)\u001b[0m\u001b[0;34m.\u001b[0m\u001b[0mscope\u001b[0m\u001b[0;34m(\u001b[0m\u001b[0;34m)\u001b[0m\u001b[0;34m:\u001b[0m\u001b[0;34m\u001b[0m\u001b[0;34m\u001b[0m\u001b[0m\n\u001b[0;32m-> 2888\u001b[0;31m       \u001b[0;32mreturn\u001b[0m \u001b[0mself\u001b[0m\u001b[0;34m.\u001b[0m\u001b[0m_call_for_each_replica\u001b[0m\u001b[0;34m(\u001b[0m\u001b[0mfn\u001b[0m\u001b[0;34m,\u001b[0m \u001b[0margs\u001b[0m\u001b[0;34m,\u001b[0m \u001b[0mkwargs\u001b[0m\u001b[0;34m)\u001b[0m\u001b[0;34m\u001b[0m\u001b[0;34m\u001b[0m\u001b[0m\n\u001b[0m\u001b[1;32m   2889\u001b[0m \u001b[0;34m\u001b[0m\u001b[0m\n\u001b[1;32m   2890\u001b[0m   \u001b[0;32mdef\u001b[0m \u001b[0m_call_for_each_replica\u001b[0m\u001b[0;34m(\u001b[0m\u001b[0mself\u001b[0m\u001b[0;34m,\u001b[0m \u001b[0mfn\u001b[0m\u001b[0;34m,\u001b[0m \u001b[0margs\u001b[0m\u001b[0;34m,\u001b[0m \u001b[0mkwargs\u001b[0m\u001b[0;34m)\u001b[0m\u001b[0;34m:\u001b[0m\u001b[0;34m\u001b[0m\u001b[0;34m\u001b[0m\u001b[0m\n",
            "\u001b[0;32m/usr/local/lib/python3.8/dist-packages/tensorflow/python/distribute/distribute_lib.py\u001b[0m in \u001b[0;36m_call_for_each_replica\u001b[0;34m(self, fn, args, kwargs)\u001b[0m\n\u001b[1;32m   3687\u001b[0m   \u001b[0;32mdef\u001b[0m \u001b[0m_call_for_each_replica\u001b[0m\u001b[0;34m(\u001b[0m\u001b[0mself\u001b[0m\u001b[0;34m,\u001b[0m \u001b[0mfn\u001b[0m\u001b[0;34m,\u001b[0m \u001b[0margs\u001b[0m\u001b[0;34m,\u001b[0m \u001b[0mkwargs\u001b[0m\u001b[0;34m)\u001b[0m\u001b[0;34m:\u001b[0m\u001b[0;34m\u001b[0m\u001b[0;34m\u001b[0m\u001b[0m\n\u001b[1;32m   3688\u001b[0m     \u001b[0;32mwith\u001b[0m \u001b[0mReplicaContext\u001b[0m\u001b[0;34m(\u001b[0m\u001b[0mself\u001b[0m\u001b[0;34m.\u001b[0m\u001b[0m_container_strategy\u001b[0m\u001b[0;34m(\u001b[0m\u001b[0;34m)\u001b[0m\u001b[0;34m,\u001b[0m \u001b[0mreplica_id_in_sync_group\u001b[0m\u001b[0;34m=\u001b[0m\u001b[0;36m0\u001b[0m\u001b[0;34m)\u001b[0m\u001b[0;34m:\u001b[0m\u001b[0;34m\u001b[0m\u001b[0;34m\u001b[0m\u001b[0m\n\u001b[0;32m-> 3689\u001b[0;31m       \u001b[0;32mreturn\u001b[0m \u001b[0mfn\u001b[0m\u001b[0;34m(\u001b[0m\u001b[0;34m*\u001b[0m\u001b[0margs\u001b[0m\u001b[0;34m,\u001b[0m \u001b[0;34m**\u001b[0m\u001b[0mkwargs\u001b[0m\u001b[0;34m)\u001b[0m\u001b[0;34m\u001b[0m\u001b[0;34m\u001b[0m\u001b[0m\n\u001b[0m\u001b[1;32m   3690\u001b[0m \u001b[0;34m\u001b[0m\u001b[0m\n\u001b[1;32m   3691\u001b[0m   \u001b[0;32mdef\u001b[0m \u001b[0m_reduce_to\u001b[0m\u001b[0;34m(\u001b[0m\u001b[0mself\u001b[0m\u001b[0;34m,\u001b[0m \u001b[0mreduce_op\u001b[0m\u001b[0;34m,\u001b[0m \u001b[0mvalue\u001b[0m\u001b[0;34m,\u001b[0m \u001b[0mdestinations\u001b[0m\u001b[0;34m,\u001b[0m \u001b[0moptions\u001b[0m\u001b[0;34m)\u001b[0m\u001b[0;34m:\u001b[0m\u001b[0;34m\u001b[0m\u001b[0;34m\u001b[0m\u001b[0m\n",
            "\u001b[0;32m/usr/local/lib/python3.8/dist-packages/tensorflow/python/autograph/impl/api.py\u001b[0m in \u001b[0;36mwrapper\u001b[0;34m(*args, **kwargs)\u001b[0m\n\u001b[1;32m    593\u001b[0m   \u001b[0;32mdef\u001b[0m \u001b[0mwrapper\u001b[0m\u001b[0;34m(\u001b[0m\u001b[0;34m*\u001b[0m\u001b[0margs\u001b[0m\u001b[0;34m,\u001b[0m \u001b[0;34m**\u001b[0m\u001b[0mkwargs\u001b[0m\u001b[0;34m)\u001b[0m\u001b[0;34m:\u001b[0m\u001b[0;34m\u001b[0m\u001b[0;34m\u001b[0m\u001b[0m\n\u001b[1;32m    594\u001b[0m     \u001b[0;32mwith\u001b[0m \u001b[0mag_ctx\u001b[0m\u001b[0;34m.\u001b[0m\u001b[0mControlStatusCtx\u001b[0m\u001b[0;34m(\u001b[0m\u001b[0mstatus\u001b[0m\u001b[0;34m=\u001b[0m\u001b[0mag_ctx\u001b[0m\u001b[0;34m.\u001b[0m\u001b[0mStatus\u001b[0m\u001b[0;34m.\u001b[0m\u001b[0mUNSPECIFIED\u001b[0m\u001b[0;34m)\u001b[0m\u001b[0;34m:\u001b[0m\u001b[0;34m\u001b[0m\u001b[0;34m\u001b[0m\u001b[0m\n\u001b[0;32m--> 595\u001b[0;31m       \u001b[0;32mreturn\u001b[0m \u001b[0mfunc\u001b[0m\u001b[0;34m(\u001b[0m\u001b[0;34m*\u001b[0m\u001b[0margs\u001b[0m\u001b[0;34m,\u001b[0m \u001b[0;34m**\u001b[0m\u001b[0mkwargs\u001b[0m\u001b[0;34m)\u001b[0m\u001b[0;34m\u001b[0m\u001b[0;34m\u001b[0m\u001b[0m\n\u001b[0m\u001b[1;32m    596\u001b[0m \u001b[0;34m\u001b[0m\u001b[0m\n\u001b[1;32m    597\u001b[0m   \u001b[0;32mif\u001b[0m \u001b[0minspect\u001b[0m\u001b[0;34m.\u001b[0m\u001b[0misfunction\u001b[0m\u001b[0;34m(\u001b[0m\u001b[0mfunc\u001b[0m\u001b[0;34m)\u001b[0m \u001b[0;32mor\u001b[0m \u001b[0minspect\u001b[0m\u001b[0;34m.\u001b[0m\u001b[0mismethod\u001b[0m\u001b[0;34m(\u001b[0m\u001b[0mfunc\u001b[0m\u001b[0;34m)\u001b[0m\u001b[0;34m:\u001b[0m\u001b[0;34m\u001b[0m\u001b[0;34m\u001b[0m\u001b[0m\n",
            "\u001b[0;32m/usr/local/lib/python3.8/dist-packages/keras/engine/training.py\u001b[0m in \u001b[0;36mrun_step\u001b[0;34m(data)\u001b[0m\n\u001b[1;32m   1533\u001b[0m \u001b[0;34m\u001b[0m\u001b[0m\n\u001b[1;32m   1534\u001b[0m       \u001b[0;32mdef\u001b[0m \u001b[0mrun_step\u001b[0m\u001b[0;34m(\u001b[0m\u001b[0mdata\u001b[0m\u001b[0;34m)\u001b[0m\u001b[0;34m:\u001b[0m\u001b[0;34m\u001b[0m\u001b[0;34m\u001b[0m\u001b[0m\n\u001b[0;32m-> 1535\u001b[0;31m         \u001b[0moutputs\u001b[0m \u001b[0;34m=\u001b[0m \u001b[0mmodel\u001b[0m\u001b[0;34m.\u001b[0m\u001b[0mtest_step\u001b[0m\u001b[0;34m(\u001b[0m\u001b[0mdata\u001b[0m\u001b[0;34m)\u001b[0m\u001b[0;34m\u001b[0m\u001b[0;34m\u001b[0m\u001b[0m\n\u001b[0m\u001b[1;32m   1536\u001b[0m         \u001b[0;31m# Ensure counter is updated only if `test_step` succeeds.\u001b[0m\u001b[0;34m\u001b[0m\u001b[0;34m\u001b[0m\u001b[0;34m\u001b[0m\u001b[0m\n\u001b[1;32m   1537\u001b[0m         \u001b[0;32mwith\u001b[0m \u001b[0mtf\u001b[0m\u001b[0;34m.\u001b[0m\u001b[0mcontrol_dependencies\u001b[0m\u001b[0;34m(\u001b[0m\u001b[0m_minimum_control_deps\u001b[0m\u001b[0;34m(\u001b[0m\u001b[0moutputs\u001b[0m\u001b[0;34m)\u001b[0m\u001b[0;34m)\u001b[0m\u001b[0;34m:\u001b[0m\u001b[0;34m\u001b[0m\u001b[0;34m\u001b[0m\u001b[0m\n",
            "\u001b[0;32m/usr/local/lib/python3.8/dist-packages/keras/engine/training.py\u001b[0m in \u001b[0;36mtest_step\u001b[0;34m(self, data)\u001b[0m\n\u001b[1;32m   1497\u001b[0m     \u001b[0mx\u001b[0m\u001b[0;34m,\u001b[0m \u001b[0my\u001b[0m\u001b[0;34m,\u001b[0m \u001b[0msample_weight\u001b[0m \u001b[0;34m=\u001b[0m \u001b[0mdata_adapter\u001b[0m\u001b[0;34m.\u001b[0m\u001b[0munpack_x_y_sample_weight\u001b[0m\u001b[0;34m(\u001b[0m\u001b[0mdata\u001b[0m\u001b[0;34m)\u001b[0m\u001b[0;34m\u001b[0m\u001b[0;34m\u001b[0m\u001b[0m\n\u001b[1;32m   1498\u001b[0m \u001b[0;34m\u001b[0m\u001b[0m\n\u001b[0;32m-> 1499\u001b[0;31m     \u001b[0my_pred\u001b[0m \u001b[0;34m=\u001b[0m \u001b[0mself\u001b[0m\u001b[0;34m(\u001b[0m\u001b[0mx\u001b[0m\u001b[0;34m,\u001b[0m \u001b[0mtraining\u001b[0m\u001b[0;34m=\u001b[0m\u001b[0;32mFalse\u001b[0m\u001b[0;34m)\u001b[0m\u001b[0;34m\u001b[0m\u001b[0;34m\u001b[0m\u001b[0m\n\u001b[0m\u001b[1;32m   1500\u001b[0m     \u001b[0;31m# Updates stateful loss metrics.\u001b[0m\u001b[0;34m\u001b[0m\u001b[0;34m\u001b[0m\u001b[0;34m\u001b[0m\u001b[0m\n\u001b[1;32m   1501\u001b[0m     \u001b[0mself\u001b[0m\u001b[0;34m.\u001b[0m\u001b[0mcompute_loss\u001b[0m\u001b[0;34m(\u001b[0m\u001b[0mx\u001b[0m\u001b[0;34m,\u001b[0m \u001b[0my\u001b[0m\u001b[0;34m,\u001b[0m \u001b[0my_pred\u001b[0m\u001b[0;34m,\u001b[0m \u001b[0msample_weight\u001b[0m\u001b[0;34m)\u001b[0m\u001b[0;34m\u001b[0m\u001b[0;34m\u001b[0m\u001b[0m\n",
            "\u001b[0;32m/usr/local/lib/python3.8/dist-packages/keras/utils/traceback_utils.py\u001b[0m in \u001b[0;36merror_handler\u001b[0;34m(*args, **kwargs)\u001b[0m\n\u001b[1;32m     62\u001b[0m     \u001b[0mfiltered_tb\u001b[0m \u001b[0;34m=\u001b[0m \u001b[0;32mNone\u001b[0m\u001b[0;34m\u001b[0m\u001b[0;34m\u001b[0m\u001b[0m\n\u001b[1;32m     63\u001b[0m     \u001b[0;32mtry\u001b[0m\u001b[0;34m:\u001b[0m\u001b[0;34m\u001b[0m\u001b[0;34m\u001b[0m\u001b[0m\n\u001b[0;32m---> 64\u001b[0;31m       \u001b[0;32mreturn\u001b[0m \u001b[0mfn\u001b[0m\u001b[0;34m(\u001b[0m\u001b[0;34m*\u001b[0m\u001b[0margs\u001b[0m\u001b[0;34m,\u001b[0m \u001b[0;34m**\u001b[0m\u001b[0mkwargs\u001b[0m\u001b[0;34m)\u001b[0m\u001b[0;34m\u001b[0m\u001b[0;34m\u001b[0m\u001b[0m\n\u001b[0m\u001b[1;32m     65\u001b[0m     \u001b[0;32mexcept\u001b[0m \u001b[0mException\u001b[0m \u001b[0;32mas\u001b[0m \u001b[0me\u001b[0m\u001b[0;34m:\u001b[0m  \u001b[0;31m# pylint: disable=broad-except\u001b[0m\u001b[0;34m\u001b[0m\u001b[0;34m\u001b[0m\u001b[0m\n\u001b[1;32m     66\u001b[0m       \u001b[0mfiltered_tb\u001b[0m \u001b[0;34m=\u001b[0m \u001b[0m_process_traceback_frames\u001b[0m\u001b[0;34m(\u001b[0m\u001b[0me\u001b[0m\u001b[0;34m.\u001b[0m\u001b[0m__traceback__\u001b[0m\u001b[0;34m)\u001b[0m\u001b[0;34m\u001b[0m\u001b[0;34m\u001b[0m\u001b[0m\n",
            "\u001b[0;32m/usr/local/lib/python3.8/dist-packages/keras/engine/training.py\u001b[0m in \u001b[0;36m__call__\u001b[0;34m(self, *args, **kwargs)\u001b[0m\n\u001b[1;32m    488\u001b[0m       \u001b[0mlayout_map_lib\u001b[0m\u001b[0;34m.\u001b[0m\u001b[0m_map_subclass_model_variable\u001b[0m\u001b[0;34m(\u001b[0m\u001b[0mself\u001b[0m\u001b[0;34m,\u001b[0m \u001b[0mself\u001b[0m\u001b[0;34m.\u001b[0m\u001b[0m_layout_map\u001b[0m\u001b[0;34m)\u001b[0m\u001b[0;34m\u001b[0m\u001b[0;34m\u001b[0m\u001b[0m\n\u001b[1;32m    489\u001b[0m \u001b[0;34m\u001b[0m\u001b[0m\n\u001b[0;32m--> 490\u001b[0;31m     \u001b[0;32mreturn\u001b[0m \u001b[0msuper\u001b[0m\u001b[0;34m(\u001b[0m\u001b[0;34m)\u001b[0m\u001b[0;34m.\u001b[0m\u001b[0m__call__\u001b[0m\u001b[0;34m(\u001b[0m\u001b[0;34m*\u001b[0m\u001b[0margs\u001b[0m\u001b[0;34m,\u001b[0m \u001b[0;34m**\u001b[0m\u001b[0mkwargs\u001b[0m\u001b[0;34m)\u001b[0m\u001b[0;34m\u001b[0m\u001b[0;34m\u001b[0m\u001b[0m\n\u001b[0m\u001b[1;32m    491\u001b[0m \u001b[0;34m\u001b[0m\u001b[0m\n\u001b[1;32m    492\u001b[0m   \u001b[0;34m@\u001b[0m\u001b[0mdoc_controls\u001b[0m\u001b[0;34m.\u001b[0m\u001b[0mdoc_in_current_and_subclasses\u001b[0m\u001b[0;34m\u001b[0m\u001b[0;34m\u001b[0m\u001b[0m\n",
            "\u001b[0;32m/usr/local/lib/python3.8/dist-packages/keras/utils/traceback_utils.py\u001b[0m in \u001b[0;36merror_handler\u001b[0;34m(*args, **kwargs)\u001b[0m\n\u001b[1;32m     62\u001b[0m     \u001b[0mfiltered_tb\u001b[0m \u001b[0;34m=\u001b[0m \u001b[0;32mNone\u001b[0m\u001b[0;34m\u001b[0m\u001b[0;34m\u001b[0m\u001b[0m\n\u001b[1;32m     63\u001b[0m     \u001b[0;32mtry\u001b[0m\u001b[0;34m:\u001b[0m\u001b[0;34m\u001b[0m\u001b[0;34m\u001b[0m\u001b[0m\n\u001b[0;32m---> 64\u001b[0;31m       \u001b[0;32mreturn\u001b[0m \u001b[0mfn\u001b[0m\u001b[0;34m(\u001b[0m\u001b[0;34m*\u001b[0m\u001b[0margs\u001b[0m\u001b[0;34m,\u001b[0m \u001b[0;34m**\u001b[0m\u001b[0mkwargs\u001b[0m\u001b[0;34m)\u001b[0m\u001b[0;34m\u001b[0m\u001b[0;34m\u001b[0m\u001b[0m\n\u001b[0m\u001b[1;32m     65\u001b[0m     \u001b[0;32mexcept\u001b[0m \u001b[0mException\u001b[0m \u001b[0;32mas\u001b[0m \u001b[0me\u001b[0m\u001b[0;34m:\u001b[0m  \u001b[0;31m# pylint: disable=broad-except\u001b[0m\u001b[0;34m\u001b[0m\u001b[0;34m\u001b[0m\u001b[0m\n\u001b[1;32m     66\u001b[0m       \u001b[0mfiltered_tb\u001b[0m \u001b[0;34m=\u001b[0m \u001b[0m_process_traceback_frames\u001b[0m\u001b[0;34m(\u001b[0m\u001b[0me\u001b[0m\u001b[0;34m.\u001b[0m\u001b[0m__traceback__\u001b[0m\u001b[0;34m)\u001b[0m\u001b[0;34m\u001b[0m\u001b[0;34m\u001b[0m\u001b[0m\n",
            "\u001b[0;32m/usr/local/lib/python3.8/dist-packages/keras/engine/base_layer.py\u001b[0m in \u001b[0;36m__call__\u001b[0;34m(self, *args, **kwargs)\u001b[0m\n\u001b[1;32m   1012\u001b[0m         with autocast_variable.enable_auto_cast_variables(\n\u001b[1;32m   1013\u001b[0m             self._compute_dtype_object):\n\u001b[0;32m-> 1014\u001b[0;31m           \u001b[0moutputs\u001b[0m \u001b[0;34m=\u001b[0m \u001b[0mcall_fn\u001b[0m\u001b[0;34m(\u001b[0m\u001b[0minputs\u001b[0m\u001b[0;34m,\u001b[0m \u001b[0;34m*\u001b[0m\u001b[0margs\u001b[0m\u001b[0;34m,\u001b[0m \u001b[0;34m**\u001b[0m\u001b[0mkwargs\u001b[0m\u001b[0;34m)\u001b[0m\u001b[0;34m\u001b[0m\u001b[0;34m\u001b[0m\u001b[0m\n\u001b[0m\u001b[1;32m   1015\u001b[0m \u001b[0;34m\u001b[0m\u001b[0m\n\u001b[1;32m   1016\u001b[0m         \u001b[0;32mif\u001b[0m \u001b[0mself\u001b[0m\u001b[0;34m.\u001b[0m\u001b[0m_activity_regularizer\u001b[0m\u001b[0;34m:\u001b[0m\u001b[0;34m\u001b[0m\u001b[0;34m\u001b[0m\u001b[0m\n",
            "\u001b[0;32m/usr/local/lib/python3.8/dist-packages/keras/utils/traceback_utils.py\u001b[0m in \u001b[0;36merror_handler\u001b[0;34m(*args, **kwargs)\u001b[0m\n\u001b[1;32m     90\u001b[0m     \u001b[0mbound_signature\u001b[0m \u001b[0;34m=\u001b[0m \u001b[0;32mNone\u001b[0m\u001b[0;34m\u001b[0m\u001b[0;34m\u001b[0m\u001b[0m\n\u001b[1;32m     91\u001b[0m     \u001b[0;32mtry\u001b[0m\u001b[0;34m:\u001b[0m\u001b[0;34m\u001b[0m\u001b[0;34m\u001b[0m\u001b[0m\n\u001b[0;32m---> 92\u001b[0;31m       \u001b[0;32mreturn\u001b[0m \u001b[0mfn\u001b[0m\u001b[0;34m(\u001b[0m\u001b[0;34m*\u001b[0m\u001b[0margs\u001b[0m\u001b[0;34m,\u001b[0m \u001b[0;34m**\u001b[0m\u001b[0mkwargs\u001b[0m\u001b[0;34m)\u001b[0m\u001b[0;34m\u001b[0m\u001b[0;34m\u001b[0m\u001b[0m\n\u001b[0m\u001b[1;32m     93\u001b[0m     \u001b[0;32mexcept\u001b[0m \u001b[0mException\u001b[0m \u001b[0;32mas\u001b[0m \u001b[0me\u001b[0m\u001b[0;34m:\u001b[0m  \u001b[0;31m# pylint: disable=broad-except\u001b[0m\u001b[0;34m\u001b[0m\u001b[0;34m\u001b[0m\u001b[0m\n\u001b[1;32m     94\u001b[0m       \u001b[0;32mif\u001b[0m \u001b[0mhasattr\u001b[0m\u001b[0;34m(\u001b[0m\u001b[0me\u001b[0m\u001b[0;34m,\u001b[0m \u001b[0;34m'_keras_call_info_injected'\u001b[0m\u001b[0;34m)\u001b[0m\u001b[0;34m:\u001b[0m\u001b[0;34m\u001b[0m\u001b[0;34m\u001b[0m\u001b[0m\n",
            "\u001b[0;32m/usr/local/lib/python3.8/dist-packages/keras/engine/functional.py\u001b[0m in \u001b[0;36mcall\u001b[0;34m(self, inputs, training, mask)\u001b[0m\n\u001b[1;32m    456\u001b[0m         \u001b[0ma\u001b[0m \u001b[0mlist\u001b[0m \u001b[0mof\u001b[0m \u001b[0mtensors\u001b[0m \u001b[0;32mif\u001b[0m \u001b[0mthere\u001b[0m \u001b[0mare\u001b[0m \u001b[0mmore\u001b[0m \u001b[0mthan\u001b[0m \u001b[0mone\u001b[0m \u001b[0moutputs\u001b[0m\u001b[0;34m.\u001b[0m\u001b[0;34m\u001b[0m\u001b[0;34m\u001b[0m\u001b[0m\n\u001b[1;32m    457\u001b[0m     \"\"\"\n\u001b[0;32m--> 458\u001b[0;31m     return self._run_internal_graph(\n\u001b[0m\u001b[1;32m    459\u001b[0m         inputs, training=training, mask=mask)\n\u001b[1;32m    460\u001b[0m \u001b[0;34m\u001b[0m\u001b[0m\n",
            "\u001b[0;32m/usr/local/lib/python3.8/dist-packages/keras/engine/functional.py\u001b[0m in \u001b[0;36m_run_internal_graph\u001b[0;34m(self, inputs, training, mask)\u001b[0m\n\u001b[1;32m    594\u001b[0m \u001b[0;34m\u001b[0m\u001b[0m\n\u001b[1;32m    595\u001b[0m         \u001b[0margs\u001b[0m\u001b[0;34m,\u001b[0m \u001b[0mkwargs\u001b[0m \u001b[0;34m=\u001b[0m \u001b[0mnode\u001b[0m\u001b[0;34m.\u001b[0m\u001b[0mmap_arguments\u001b[0m\u001b[0;34m(\u001b[0m\u001b[0mtensor_dict\u001b[0m\u001b[0;34m)\u001b[0m\u001b[0;34m\u001b[0m\u001b[0;34m\u001b[0m\u001b[0m\n\u001b[0;32m--> 596\u001b[0;31m         \u001b[0moutputs\u001b[0m \u001b[0;34m=\u001b[0m \u001b[0mnode\u001b[0m\u001b[0;34m.\u001b[0m\u001b[0mlayer\u001b[0m\u001b[0;34m(\u001b[0m\u001b[0;34m*\u001b[0m\u001b[0margs\u001b[0m\u001b[0;34m,\u001b[0m \u001b[0;34m**\u001b[0m\u001b[0mkwargs\u001b[0m\u001b[0;34m)\u001b[0m\u001b[0;34m\u001b[0m\u001b[0;34m\u001b[0m\u001b[0m\n\u001b[0m\u001b[1;32m    597\u001b[0m \u001b[0;34m\u001b[0m\u001b[0m\n\u001b[1;32m    598\u001b[0m         \u001b[0;31m# Update tensor_dict.\u001b[0m\u001b[0;34m\u001b[0m\u001b[0;34m\u001b[0m\u001b[0;34m\u001b[0m\u001b[0m\n",
            "\u001b[0;32m/usr/local/lib/python3.8/dist-packages/keras/utils/traceback_utils.py\u001b[0m in \u001b[0;36merror_handler\u001b[0;34m(*args, **kwargs)\u001b[0m\n\u001b[1;32m     62\u001b[0m     \u001b[0mfiltered_tb\u001b[0m \u001b[0;34m=\u001b[0m \u001b[0;32mNone\u001b[0m\u001b[0;34m\u001b[0m\u001b[0;34m\u001b[0m\u001b[0m\n\u001b[1;32m     63\u001b[0m     \u001b[0;32mtry\u001b[0m\u001b[0;34m:\u001b[0m\u001b[0;34m\u001b[0m\u001b[0;34m\u001b[0m\u001b[0m\n\u001b[0;32m---> 64\u001b[0;31m       \u001b[0;32mreturn\u001b[0m \u001b[0mfn\u001b[0m\u001b[0;34m(\u001b[0m\u001b[0;34m*\u001b[0m\u001b[0margs\u001b[0m\u001b[0;34m,\u001b[0m \u001b[0;34m**\u001b[0m\u001b[0mkwargs\u001b[0m\u001b[0;34m)\u001b[0m\u001b[0;34m\u001b[0m\u001b[0;34m\u001b[0m\u001b[0m\n\u001b[0m\u001b[1;32m     65\u001b[0m     \u001b[0;32mexcept\u001b[0m \u001b[0mException\u001b[0m \u001b[0;32mas\u001b[0m \u001b[0me\u001b[0m\u001b[0;34m:\u001b[0m  \u001b[0;31m# pylint: disable=broad-except\u001b[0m\u001b[0;34m\u001b[0m\u001b[0;34m\u001b[0m\u001b[0m\n\u001b[1;32m     66\u001b[0m       \u001b[0mfiltered_tb\u001b[0m \u001b[0;34m=\u001b[0m \u001b[0m_process_traceback_frames\u001b[0m\u001b[0;34m(\u001b[0m\u001b[0me\u001b[0m\u001b[0;34m.\u001b[0m\u001b[0m__traceback__\u001b[0m\u001b[0;34m)\u001b[0m\u001b[0;34m\u001b[0m\u001b[0;34m\u001b[0m\u001b[0m\n",
            "\u001b[0;32m/usr/local/lib/python3.8/dist-packages/keras/engine/base_layer.py\u001b[0m in \u001b[0;36m__call__\u001b[0;34m(self, *args, **kwargs)\u001b[0m\n\u001b[1;32m   1012\u001b[0m         with autocast_variable.enable_auto_cast_variables(\n\u001b[1;32m   1013\u001b[0m             self._compute_dtype_object):\n\u001b[0;32m-> 1014\u001b[0;31m           \u001b[0moutputs\u001b[0m \u001b[0;34m=\u001b[0m \u001b[0mcall_fn\u001b[0m\u001b[0;34m(\u001b[0m\u001b[0minputs\u001b[0m\u001b[0;34m,\u001b[0m \u001b[0;34m*\u001b[0m\u001b[0margs\u001b[0m\u001b[0;34m,\u001b[0m \u001b[0;34m**\u001b[0m\u001b[0mkwargs\u001b[0m\u001b[0;34m)\u001b[0m\u001b[0;34m\u001b[0m\u001b[0;34m\u001b[0m\u001b[0m\n\u001b[0m\u001b[1;32m   1015\u001b[0m \u001b[0;34m\u001b[0m\u001b[0m\n\u001b[1;32m   1016\u001b[0m         \u001b[0;32mif\u001b[0m \u001b[0mself\u001b[0m\u001b[0;34m.\u001b[0m\u001b[0m_activity_regularizer\u001b[0m\u001b[0;34m:\u001b[0m\u001b[0;34m\u001b[0m\u001b[0;34m\u001b[0m\u001b[0m\n",
            "\u001b[0;32m/usr/local/lib/python3.8/dist-packages/keras/utils/traceback_utils.py\u001b[0m in \u001b[0;36merror_handler\u001b[0;34m(*args, **kwargs)\u001b[0m\n\u001b[1;32m     90\u001b[0m     \u001b[0mbound_signature\u001b[0m \u001b[0;34m=\u001b[0m \u001b[0;32mNone\u001b[0m\u001b[0;34m\u001b[0m\u001b[0;34m\u001b[0m\u001b[0m\n\u001b[1;32m     91\u001b[0m     \u001b[0;32mtry\u001b[0m\u001b[0;34m:\u001b[0m\u001b[0;34m\u001b[0m\u001b[0;34m\u001b[0m\u001b[0m\n\u001b[0;32m---> 92\u001b[0;31m       \u001b[0;32mreturn\u001b[0m \u001b[0mfn\u001b[0m\u001b[0;34m(\u001b[0m\u001b[0;34m*\u001b[0m\u001b[0margs\u001b[0m\u001b[0;34m,\u001b[0m \u001b[0;34m**\u001b[0m\u001b[0mkwargs\u001b[0m\u001b[0;34m)\u001b[0m\u001b[0;34m\u001b[0m\u001b[0;34m\u001b[0m\u001b[0m\n\u001b[0m\u001b[1;32m     93\u001b[0m     \u001b[0;32mexcept\u001b[0m \u001b[0mException\u001b[0m \u001b[0;32mas\u001b[0m \u001b[0me\u001b[0m\u001b[0;34m:\u001b[0m  \u001b[0;31m# pylint: disable=broad-except\u001b[0m\u001b[0;34m\u001b[0m\u001b[0;34m\u001b[0m\u001b[0m\n\u001b[1;32m     94\u001b[0m       \u001b[0;32mif\u001b[0m \u001b[0mhasattr\u001b[0m\u001b[0;34m(\u001b[0m\u001b[0me\u001b[0m\u001b[0;34m,\u001b[0m \u001b[0;34m'_keras_call_info_injected'\u001b[0m\u001b[0;34m)\u001b[0m\u001b[0;34m:\u001b[0m\u001b[0;34m\u001b[0m\u001b[0;34m\u001b[0m\u001b[0m\n",
            "\u001b[0;32m/usr/local/lib/python3.8/dist-packages/keras/layers/core/dense.py\u001b[0m in \u001b[0;36mcall\u001b[0;34m(self, inputs)\u001b[0m\n\u001b[1;32m    219\u001b[0m             self.kernel, ids, weights, combiner='sum')\n\u001b[1;32m    220\u001b[0m       \u001b[0;32melse\u001b[0m\u001b[0;34m:\u001b[0m\u001b[0;34m\u001b[0m\u001b[0;34m\u001b[0m\u001b[0m\n\u001b[0;32m--> 221\u001b[0;31m         \u001b[0moutputs\u001b[0m \u001b[0;34m=\u001b[0m \u001b[0mtf\u001b[0m\u001b[0;34m.\u001b[0m\u001b[0mmatmul\u001b[0m\u001b[0;34m(\u001b[0m\u001b[0ma\u001b[0m\u001b[0;34m=\u001b[0m\u001b[0minputs\u001b[0m\u001b[0;34m,\u001b[0m \u001b[0mb\u001b[0m\u001b[0;34m=\u001b[0m\u001b[0mself\u001b[0m\u001b[0;34m.\u001b[0m\u001b[0mkernel\u001b[0m\u001b[0;34m)\u001b[0m\u001b[0;34m\u001b[0m\u001b[0;34m\u001b[0m\u001b[0m\n\u001b[0m\u001b[1;32m    222\u001b[0m     \u001b[0;31m# Broadcast kernel to inputs.\u001b[0m\u001b[0;34m\u001b[0m\u001b[0;34m\u001b[0m\u001b[0;34m\u001b[0m\u001b[0m\n\u001b[1;32m    223\u001b[0m     \u001b[0;32melse\u001b[0m\u001b[0;34m:\u001b[0m\u001b[0;34m\u001b[0m\u001b[0;34m\u001b[0m\u001b[0m\n",
            "\u001b[0;32m/usr/local/lib/python3.8/dist-packages/tensorflow/python/util/traceback_utils.py\u001b[0m in \u001b[0;36merror_handler\u001b[0;34m(*args, **kwargs)\u001b[0m\n\u001b[1;32m    148\u001b[0m     \u001b[0mfiltered_tb\u001b[0m \u001b[0;34m=\u001b[0m \u001b[0;32mNone\u001b[0m\u001b[0;34m\u001b[0m\u001b[0;34m\u001b[0m\u001b[0m\n\u001b[1;32m    149\u001b[0m     \u001b[0;32mtry\u001b[0m\u001b[0;34m:\u001b[0m\u001b[0;34m\u001b[0m\u001b[0;34m\u001b[0m\u001b[0m\n\u001b[0;32m--> 150\u001b[0;31m       \u001b[0;32mreturn\u001b[0m \u001b[0mfn\u001b[0m\u001b[0;34m(\u001b[0m\u001b[0;34m*\u001b[0m\u001b[0margs\u001b[0m\u001b[0;34m,\u001b[0m \u001b[0;34m**\u001b[0m\u001b[0mkwargs\u001b[0m\u001b[0;34m)\u001b[0m\u001b[0;34m\u001b[0m\u001b[0;34m\u001b[0m\u001b[0m\n\u001b[0m\u001b[1;32m    151\u001b[0m     \u001b[0;32mexcept\u001b[0m \u001b[0mException\u001b[0m \u001b[0;32mas\u001b[0m \u001b[0me\u001b[0m\u001b[0;34m:\u001b[0m\u001b[0;34m\u001b[0m\u001b[0;34m\u001b[0m\u001b[0m\n\u001b[1;32m    152\u001b[0m       \u001b[0mfiltered_tb\u001b[0m \u001b[0;34m=\u001b[0m \u001b[0m_process_traceback_frames\u001b[0m\u001b[0;34m(\u001b[0m\u001b[0me\u001b[0m\u001b[0;34m.\u001b[0m\u001b[0m__traceback__\u001b[0m\u001b[0;34m)\u001b[0m\u001b[0;34m\u001b[0m\u001b[0;34m\u001b[0m\u001b[0m\n",
            "\u001b[0;32m/usr/local/lib/python3.8/dist-packages/tensorflow/python/util/dispatch.py\u001b[0m in \u001b[0;36mop_dispatch_handler\u001b[0;34m(*args, **kwargs)\u001b[0m\n\u001b[1;32m   1080\u001b[0m       \u001b[0;31m# Fallback dispatch system (dispatch v1):\u001b[0m\u001b[0;34m\u001b[0m\u001b[0;34m\u001b[0m\u001b[0;34m\u001b[0m\u001b[0m\n\u001b[1;32m   1081\u001b[0m       \u001b[0;32mtry\u001b[0m\u001b[0;34m:\u001b[0m\u001b[0;34m\u001b[0m\u001b[0;34m\u001b[0m\u001b[0m\n\u001b[0;32m-> 1082\u001b[0;31m         \u001b[0;32mreturn\u001b[0m \u001b[0mdispatch_target\u001b[0m\u001b[0;34m(\u001b[0m\u001b[0;34m*\u001b[0m\u001b[0margs\u001b[0m\u001b[0;34m,\u001b[0m \u001b[0;34m**\u001b[0m\u001b[0mkwargs\u001b[0m\u001b[0;34m)\u001b[0m\u001b[0;34m\u001b[0m\u001b[0;34m\u001b[0m\u001b[0m\n\u001b[0m\u001b[1;32m   1083\u001b[0m       \u001b[0;32mexcept\u001b[0m \u001b[0;34m(\u001b[0m\u001b[0mTypeError\u001b[0m\u001b[0;34m,\u001b[0m \u001b[0mValueError\u001b[0m\u001b[0;34m)\u001b[0m\u001b[0;34m:\u001b[0m\u001b[0;34m\u001b[0m\u001b[0;34m\u001b[0m\u001b[0m\n\u001b[1;32m   1084\u001b[0m         \u001b[0;31m# Note: convert_to_eager_tensor currently raises a ValueError, not a\u001b[0m\u001b[0;34m\u001b[0m\u001b[0;34m\u001b[0m\u001b[0;34m\u001b[0m\u001b[0m\n",
            "\u001b[0;32m/usr/local/lib/python3.8/dist-packages/tensorflow/python/ops/math_ops.py\u001b[0m in \u001b[0;36mmatmul\u001b[0;34m(a, b, transpose_a, transpose_b, adjoint_a, adjoint_b, a_is_sparse, b_is_sparse, output_type, name)\u001b[0m\n\u001b[1;32m   3711\u001b[0m             a, b, adj_x=adjoint_a, adj_y=adjoint_b, Tout=output_type, name=name)\n\u001b[1;32m   3712\u001b[0m       \u001b[0;32melse\u001b[0m\u001b[0;34m:\u001b[0m\u001b[0;34m\u001b[0m\u001b[0;34m\u001b[0m\u001b[0m\n\u001b[0;32m-> 3713\u001b[0;31m         return gen_math_ops.mat_mul(\n\u001b[0m\u001b[1;32m   3714\u001b[0m             a, b, transpose_a=transpose_a, transpose_b=transpose_b, name=name)\n\u001b[1;32m   3715\u001b[0m \u001b[0;34m\u001b[0m\u001b[0m\n",
            "\u001b[0;32m/usr/local/lib/python3.8/dist-packages/tensorflow/python/ops/gen_math_ops.py\u001b[0m in \u001b[0;36mmat_mul\u001b[0;34m(a, b, transpose_a, transpose_b, name)\u001b[0m\n\u001b[1;32m   6011\u001b[0m   \u001b[0;32mif\u001b[0m \u001b[0mtld\u001b[0m\u001b[0;34m.\u001b[0m\u001b[0mis_eager\u001b[0m\u001b[0;34m:\u001b[0m\u001b[0;34m\u001b[0m\u001b[0;34m\u001b[0m\u001b[0m\n\u001b[1;32m   6012\u001b[0m     \u001b[0;32mtry\u001b[0m\u001b[0;34m:\u001b[0m\u001b[0;34m\u001b[0m\u001b[0;34m\u001b[0m\u001b[0m\n\u001b[0;32m-> 6013\u001b[0;31m       _result = pywrap_tfe.TFE_Py_FastPathExecute(\n\u001b[0m\u001b[1;32m   6014\u001b[0m         \u001b[0m_ctx\u001b[0m\u001b[0;34m,\u001b[0m \u001b[0;34m\"MatMul\"\u001b[0m\u001b[0;34m,\u001b[0m \u001b[0mname\u001b[0m\u001b[0;34m,\u001b[0m \u001b[0ma\u001b[0m\u001b[0;34m,\u001b[0m \u001b[0mb\u001b[0m\u001b[0;34m,\u001b[0m \u001b[0;34m\"transpose_a\"\u001b[0m\u001b[0;34m,\u001b[0m \u001b[0mtranspose_a\u001b[0m\u001b[0;34m,\u001b[0m \u001b[0;34m\"transpose_b\"\u001b[0m\u001b[0;34m,\u001b[0m\u001b[0;34m\u001b[0m\u001b[0;34m\u001b[0m\u001b[0m\n\u001b[1;32m   6015\u001b[0m         transpose_b)\n",
            "\u001b[0;31mKeyboardInterrupt\u001b[0m: "
          ]
        }
      ]
    },
    {
      "cell_type": "code",
      "source": [
        "plt.plot(history.history['loss'])\n",
        "plt.plot(history.history['val_loss'])\n",
        "plt.title('inv-mul_sq_aug Model loss')\n",
        "plt.ylabel('Loss')\n",
        "plt.xlabel('Epoch')\n",
        "plt.legend(['Train', 'Validation'], loc='upper left')\n",
        "plt.show()"
      ],
      "metadata": {
        "id": "qQJJPP9V2lSU"
      },
      "execution_count": null,
      "outputs": []
    },
    {
      "cell_type": "code",
      "source": [
        "def spatial_attention(input_feature):\n",
        "  kernel_size = 7\n",
        "  kernel_initializer = tf.keras.initializers.variance_scaling()\n",
        "\n",
        "  avg_pool = tf.reduce_mean(input_feature, axis=[3], keepdims=True)\n",
        "  assert avg_pool.get_shape()[-1] == 1\n",
        "  max_pool = tf.reduce_max(input_feature, axis=[3], keepdims=True)\n",
        "  assert max_pool.get_shape()[-1] == 1\n",
        "  concat = tf.concat([avg_pool,max_pool], 3)\n",
        "  assert concat.get_shape()[-1] == 2\n",
        "\n",
        "  concat = Conv2D(\n",
        "                              filters=1,\n",
        "                              kernel_size=[kernel_size,kernel_size],\n",
        "                              strides=[1,1],\n",
        "                              padding=\"same\",\n",
        "                              activation=None,\n",
        "                              kernel_initializer=kernel_initializer,\n",
        "                              use_bias=False)(concat)\n",
        "  assert concat.get_shape()[-1] == 1\n",
        "  concat = tf.keras.activations.sigmoid(concat)\n",
        "    \n",
        "  return input_feature * concat"
      ],
      "metadata": {
        "id": "yANehLYV2pEJ"
      },
      "execution_count": null,
      "outputs": []
    },
    {
      "cell_type": "code",
      "source": [
        "import tensorflow as tf\n",
        "\n",
        "base_model = InceptionV3(weights='imagenet', include_top=False)\n",
        "input = Input(shape=(300,300,3),name='input1')\n",
        "input_gender = Input(shape=(1,),dtype='float32',name='input2')\n",
        "input_age = Input(shape=(2,114),dtype='float32',name='input3')\n",
        "output = base_model(input)\n",
        "gender_embedding=Dense(16)(input_gender)\n",
        "print (K.int_shape(output))\n",
        "x=channel_attention(output)\n",
        "print (K.int_shape(x))\n",
        "x=spatial_attention(x)\n",
        "print (K.int_shape(x))\n",
        "x = keras.layers.MaxPooling2D(pool_size=(4,4))(x)\n",
        "f=Flatten()(x)\n",
        "f = Dense(256, activation='relu')(f)\n",
        "x =Dense(228,activation='linear')(f)\n",
        "y=Flatten()(input_age)\n",
        "print(y.shape)\n",
        "f = keras.layers.Multiply()([x,y])\n",
        "f = keras.layers.Concatenate(axis=1)([f,gender_embedding])\n",
        "predictions=Dense(1)(f)\n",
        "\n",
        "model = Model(inputs=[input,input_gender,input_age], outputs=predictions)\n",
        "for i,layer in enumerate(model.layers):\n",
        "    print (i,layer.name)\n",
        "\n",
        "Adam=tf.keras.optimizers.Adam(lr=0.0001,beta_1=0.9,beta_2=0.999)\n",
        "model.compile(optimizer=Adam, loss='mean_absolute_error', metrics=['MAE'])\n",
        "model.summary()\n",
        "\n",
        "checkpoint =keras.callbacks.ModelCheckpoint(filepath='weights_inv-mul_cam_aug_ndimg.{epoch:02d}-{val_loss:.2f}.hdf5',save_weights_only=True,period=50)\n",
        "#model.fit_generator(DataGen.flow([x_train,gender_train],y_train,batch_size=batch_size),steps_per_epoch=np.ceil(len(y_train)/batch_size),epochs=50,verbose=1,validation_data=([x_valid,gender_valid,agev],y_valid))\n",
        "history1=model.fit([train_x,train_gen,agetr],train_y,batch_size=4,epochs=50,verbose=1,validation_data=([valid_x,valid_gen,agev],valid_y),callbacks = [checkpoint])\n",
        "score = model.evaluate([test_x,test_gen,aget],test_y, batch_size=batch_size)\n",
        "print('Test loss:', score[0])\n",
        "print('Test MAE:', score[1])"
      ],
      "metadata": {
        "colab": {
          "base_uri": "https://localhost:8080/"
        },
        "id": "0Fu-rjH23XMk",
        "outputId": "91ba6169-3f17-46db-c567-a49fabaf5161"
      },
      "execution_count": null,
      "outputs": [
        {
          "metadata": {
            "tags": null
          },
          "name": "stdout",
          "output_type": "stream",
          "text": [
            "(None, 8, 8, 2048)\n",
            "(None, 8, 8, 2048)\n",
            "(None, 8, 8, 2048)\n",
            "(None, 228)\n",
            "0 input1\n",
            "1 inception_v3\n",
            "2 tf.math.reduce_mean_1\n",
            "3 tf.math.reduce_max_1\n",
            "4 dense_14\n",
            "5 dense_16\n",
            "6 dense_15\n",
            "7 dense_17\n",
            "8 tf.__operators__.add_1\n",
            "9 tf.math.sigmoid_1\n",
            "10 tf.math.multiply_1\n",
            "11 tf.math.reduce_mean_2\n",
            "12 tf.math.reduce_max_2\n",
            "13 tf.concat\n",
            "14 conv2d_282\n",
            "15 tf.math.sigmoid_2\n",
            "16 tf.math.multiply_2\n",
            "17 max_pooling2d_14\n",
            "18 flatten_4\n",
            "19 dense_18\n",
            "20 input3\n",
            "21 dense_19\n",
            "22 flatten_5\n",
            "23 input2\n",
            "24 multiply_3\n",
            "25 dense_13\n",
            "26 concatenate_8\n",
            "27 dense_20\n",
            "Model: \"model_2\"\n",
            "__________________________________________________________________________________________________\n",
            " Layer (type)                   Output Shape         Param #     Connected to                     \n",
            "==================================================================================================\n",
            " input1 (InputLayer)            [(None, 300, 300, 3  0           []                               \n",
            "                                )]                                                                \n",
            "                                                                                                  \n",
            " inception_v3 (Functional)      (None, None, None,   21802784    ['input1[0][0]']                 \n",
            "                                2048)                                                             \n",
            "                                                                                                  \n",
            " tf.math.reduce_mean_1 (TFOpLam  (None, 1, 1, 2048)  0           ['inception_v3[0][0]']           \n",
            " bda)                                                                                             \n",
            "                                                                                                  \n",
            " tf.math.reduce_max_1 (TFOpLamb  (None, 1, 1, 2048)  0           ['inception_v3[0][0]']           \n",
            " da)                                                                                              \n",
            "                                                                                                  \n",
            " dense_14 (Dense)               (None, 1, 1, 256)    524544      ['tf.math.reduce_mean_1[0][0]']  \n",
            "                                                                                                  \n",
            " dense_16 (Dense)               (None, 1, 1, 256)    524544      ['tf.math.reduce_max_1[0][0]']   \n",
            "                                                                                                  \n",
            " dense_15 (Dense)               (None, 1, 1, 2048)   526336      ['dense_14[0][0]']               \n",
            "                                                                                                  \n",
            " dense_17 (Dense)               (None, 1, 1, 2048)   526336      ['dense_16[0][0]']               \n",
            "                                                                                                  \n",
            " tf.__operators__.add_1 (TFOpLa  (None, 1, 1, 2048)  0           ['dense_15[0][0]',               \n",
            " mbda)                                                            'dense_17[0][0]']               \n",
            "                                                                                                  \n",
            " tf.math.sigmoid_1 (TFOpLambda)  (None, 1, 1, 2048)  0           ['tf.__operators__.add_1[0][0]'] \n",
            "                                                                                                  \n",
            " tf.math.multiply_1 (TFOpLambda  (None, 8, 8, 2048)  0           ['inception_v3[0][0]',           \n",
            " )                                                                'tf.math.sigmoid_1[0][0]']      \n",
            "                                                                                                  \n",
            " tf.math.reduce_mean_2 (TFOpLam  (None, 8, 8, 1)     0           ['tf.math.multiply_1[0][0]']     \n",
            " bda)                                                                                             \n",
            "                                                                                                  \n",
            " tf.math.reduce_max_2 (TFOpLamb  (None, 8, 8, 1)     0           ['tf.math.multiply_1[0][0]']     \n",
            " da)                                                                                              \n",
            "                                                                                                  \n",
            " tf.concat (TFOpLambda)         (None, 8, 8, 2)      0           ['tf.math.reduce_mean_2[0][0]',  \n",
            "                                                                  'tf.math.reduce_max_2[0][0]']   \n",
            "                                                                                                  \n",
            " conv2d_282 (Conv2D)            (None, 8, 8, 1)      98          ['tf.concat[0][0]']              \n",
            "                                                                                                  \n",
            " tf.math.sigmoid_2 (TFOpLambda)  (None, 8, 8, 1)     0           ['conv2d_282[0][0]']             \n",
            "                                                                                                  \n",
            " tf.math.multiply_2 (TFOpLambda  (None, 8, 8, 2048)  0           ['tf.math.multiply_1[0][0]',     \n",
            " )                                                                'tf.math.sigmoid_2[0][0]']      \n",
            "                                                                                                  \n",
            " max_pooling2d_14 (MaxPooling2D  (None, 2, 2, 2048)  0           ['tf.math.multiply_2[0][0]']     \n",
            " )                                                                                                \n",
            "                                                                                                  \n",
            " flatten_4 (Flatten)            (None, 8192)         0           ['max_pooling2d_14[0][0]']       \n",
            "                                                                                                  \n",
            " dense_18 (Dense)               (None, 256)          2097408     ['flatten_4[0][0]']              \n",
            "                                                                                                  \n",
            " input3 (InputLayer)            [(None, 2, 114)]     0           []                               \n",
            "                                                                                                  \n",
            " dense_19 (Dense)               (None, 228)          58596       ['dense_18[0][0]']               \n",
            "                                                                                                  \n",
            " flatten_5 (Flatten)            (None, 228)          0           ['input3[0][0]']                 \n",
            "                                                                                                  \n",
            " input2 (InputLayer)            [(None, 1)]          0           []                               \n",
            "                                                                                                  \n",
            " multiply_3 (Multiply)          (None, 228)          0           ['dense_19[0][0]',               \n",
            "                                                                  'flatten_5[0][0]']              \n",
            "                                                                                                  \n",
            " dense_13 (Dense)               (None, 16)           32          ['input2[0][0]']                 \n",
            "                                                                                                  \n",
            " concatenate_8 (Concatenate)    (None, 244)          0           ['multiply_3[0][0]',             \n",
            "                                                                  'dense_13[0][0]']               \n",
            "                                                                                                  \n",
            " dense_20 (Dense)               (None, 1)            245         ['concatenate_8[0][0]']          \n",
            "                                                                                                  \n",
            "==================================================================================================\n",
            "Total params: 26,060,923\n",
            "Trainable params: 26,026,491\n",
            "Non-trainable params: 34,432\n",
            "__________________________________________________________________________________________________\n"
          ]
        },
        {
          "metadata": {
            "tags": null
          },
          "name": "stderr",
          "output_type": "stream",
          "text": [
            "WARNING:tensorflow:`period` argument is deprecated. Please use `save_freq` to specify the frequency in number of batches seen.\n"
          ]
        },
        {
          "output_type": "stream",
          "name": "stdout",
          "text": [
            "Epoch 1/50\n",
            "1949/1949 [==============================] - 100s 47ms/step - loss: 26.3327 - MAE: 26.3327 - val_loss: 21.8351 - val_MAE: 21.8351\n",
            "Epoch 2/50\n",
            "1949/1949 [==============================] - 90s 46ms/step - loss: 17.2423 - MAE: 17.2423 - val_loss: 17.0161 - val_MAE: 17.0161\n",
            "Epoch 3/50\n",
            "1949/1949 [==============================] - 90s 46ms/step - loss: 15.3100 - MAE: 15.3100 - val_loss: 14.5316 - val_MAE: 14.5316\n",
            "Epoch 4/50\n",
            "1949/1949 [==============================] - 91s 47ms/step - loss: 13.6772 - MAE: 13.6772 - val_loss: 15.8629 - val_MAE: 15.8629\n",
            "Epoch 5/50\n",
            "1949/1949 [==============================] - 90s 46ms/step - loss: 12.5129 - MAE: 12.5129 - val_loss: 11.7392 - val_MAE: 11.7392\n",
            "Epoch 6/50\n",
            "1949/1949 [==============================] - 90s 46ms/step - loss: 11.4626 - MAE: 11.4626 - val_loss: 12.1201 - val_MAE: 12.1201\n",
            "Epoch 7/50\n",
            "1949/1949 [==============================] - 90s 46ms/step - loss: 10.3160 - MAE: 10.3160 - val_loss: 12.2036 - val_MAE: 12.2036\n",
            "Epoch 8/50\n",
            "1949/1949 [==============================] - 90s 46ms/step - loss: 9.6161 - MAE: 9.6161 - val_loss: 12.9980 - val_MAE: 12.9980\n",
            "Epoch 9/50\n",
            "1949/1949 [==============================] - 90s 46ms/step - loss: 8.8553 - MAE: 8.8553 - val_loss: 10.7605 - val_MAE: 10.7605\n",
            "Epoch 10/50\n",
            "1949/1949 [==============================] - 90s 46ms/step - loss: 8.1979 - MAE: 8.1979 - val_loss: 11.1289 - val_MAE: 11.1289\n",
            "Epoch 11/50\n",
            "1949/1949 [==============================] - 90s 46ms/step - loss: 7.6561 - MAE: 7.6561 - val_loss: 10.2163 - val_MAE: 10.2163\n",
            "Epoch 12/50\n",
            "1949/1949 [==============================] - 89s 46ms/step - loss: 7.1472 - MAE: 7.1472 - val_loss: 10.1042 - val_MAE: 10.1042\n",
            "Epoch 13/50\n",
            "1949/1949 [==============================] - 90s 46ms/step - loss: 6.8895 - MAE: 6.8895 - val_loss: 11.5812 - val_MAE: 11.5812\n",
            "Epoch 14/50\n",
            "1949/1949 [==============================] - 90s 46ms/step - loss: 6.3347 - MAE: 6.3347 - val_loss: 10.3074 - val_MAE: 10.3074\n",
            "Epoch 15/50\n",
            "1949/1949 [==============================] - 90s 46ms/step - loss: 6.0011 - MAE: 6.0011 - val_loss: 10.2830 - val_MAE: 10.2830\n",
            "Epoch 16/50\n",
            "1949/1949 [==============================] - 90s 46ms/step - loss: 5.6937 - MAE: 5.6937 - val_loss: 9.5986 - val_MAE: 9.5986\n",
            "Epoch 17/50\n",
            "1949/1949 [==============================] - 90s 46ms/step - loss: 5.5512 - MAE: 5.5512 - val_loss: 9.6703 - val_MAE: 9.6703\n",
            "Epoch 18/50\n",
            "1949/1949 [==============================] - 90s 46ms/step - loss: 5.4343 - MAE: 5.4343 - val_loss: 9.6828 - val_MAE: 9.6828\n",
            "Epoch 19/50\n",
            "1949/1949 [==============================] - 90s 46ms/step - loss: 5.2350 - MAE: 5.2350 - val_loss: 9.9601 - val_MAE: 9.9601\n",
            "Epoch 20/50\n",
            "1949/1949 [==============================] - 90s 46ms/step - loss: 5.0232 - MAE: 5.0232 - val_loss: 9.2728 - val_MAE: 9.2728\n",
            "Epoch 21/50\n",
            "1949/1949 [==============================] - 90s 46ms/step - loss: 4.9054 - MAE: 4.9054 - val_loss: 9.2249 - val_MAE: 9.2249\n",
            "Epoch 22/50\n",
            "1949/1949 [==============================] - 90s 46ms/step - loss: 4.7630 - MAE: 4.7630 - val_loss: 10.0145 - val_MAE: 10.0145\n",
            "Epoch 23/50\n",
            "1949/1949 [==============================] - 89s 46ms/step - loss: 4.6582 - MAE: 4.6582 - val_loss: 9.3251 - val_MAE: 9.3251\n",
            "Epoch 24/50\n",
            "1949/1949 [==============================] - 88s 45ms/step - loss: 4.5408 - MAE: 4.5408 - val_loss: 9.2643 - val_MAE: 9.2643\n",
            "Epoch 25/50\n",
            "1949/1949 [==============================] - 90s 46ms/step - loss: 4.3854 - MAE: 4.3854 - val_loss: 8.9098 - val_MAE: 8.9098\n",
            "Epoch 26/50\n",
            "1949/1949 [==============================] - 89s 46ms/step - loss: 4.3109 - MAE: 4.3109 - val_loss: 9.2968 - val_MAE: 9.2968\n",
            "Epoch 27/50\n",
            "1949/1949 [==============================] - 89s 46ms/step - loss: 4.1969 - MAE: 4.1969 - val_loss: 9.2346 - val_MAE: 9.2346\n",
            "Epoch 28/50\n",
            "1949/1949 [==============================] - 89s 45ms/step - loss: 4.1225 - MAE: 4.1225 - val_loss: 9.4512 - val_MAE: 9.4512\n",
            "Epoch 29/50\n",
            "1949/1949 [==============================] - 89s 45ms/step - loss: 4.0427 - MAE: 4.0427 - val_loss: 9.0194 - val_MAE: 9.0194\n",
            "Epoch 30/50\n",
            "1949/1949 [==============================] - 88s 45ms/step - loss: 3.9451 - MAE: 3.9451 - val_loss: 9.2302 - val_MAE: 9.2302\n",
            "Epoch 31/50\n",
            "1949/1949 [==============================] - 90s 46ms/step - loss: 3.8474 - MAE: 3.8474 - val_loss: 8.7824 - val_MAE: 8.7824\n",
            "Epoch 32/50\n",
            "1949/1949 [==============================] - 90s 46ms/step - loss: 3.7862 - MAE: 3.7862 - val_loss: 8.7520 - val_MAE: 8.7520\n",
            "Epoch 33/50\n",
            "1949/1949 [==============================] - 90s 46ms/step - loss: 3.6947 - MAE: 3.6947 - val_loss: 8.9344 - val_MAE: 8.9344\n",
            "Epoch 34/50\n",
            "1949/1949 [==============================] - 90s 46ms/step - loss: 3.6847 - MAE: 3.6847 - val_loss: 9.0148 - val_MAE: 9.0148\n",
            "Epoch 35/50\n",
            "1949/1949 [==============================] - 89s 46ms/step - loss: 3.6634 - MAE: 3.6634 - val_loss: 8.7167 - val_MAE: 8.7167\n",
            "Epoch 36/50\n",
            "1949/1949 [==============================] - 90s 46ms/step - loss: 3.4033 - MAE: 3.4033 - val_loss: 9.2184 - val_MAE: 9.2184\n",
            "Epoch 37/50\n",
            "1949/1949 [==============================] - 90s 46ms/step - loss: 3.4043 - MAE: 3.4043 - val_loss: 9.1139 - val_MAE: 9.1139\n",
            "Epoch 38/50\n",
            "1949/1949 [==============================] - 89s 46ms/step - loss: 3.3352 - MAE: 3.3352 - val_loss: 8.8276 - val_MAE: 8.8276\n",
            "Epoch 39/50\n",
            "1949/1949 [==============================] - 89s 46ms/step - loss: 3.3553 - MAE: 3.3553 - val_loss: 9.0781 - val_MAE: 9.0781\n",
            "Epoch 40/50\n",
            "1949/1949 [==============================] - 90s 46ms/step - loss: 3.2408 - MAE: 3.2408 - val_loss: 8.9416 - val_MAE: 8.9416\n",
            "Epoch 41/50\n",
            "1949/1949 [==============================] - 90s 46ms/step - loss: 3.2328 - MAE: 3.2328 - val_loss: 8.9519 - val_MAE: 8.9519\n",
            "Epoch 42/50\n",
            "1949/1949 [==============================] - 90s 46ms/step - loss: 3.1522 - MAE: 3.1522 - val_loss: 8.5332 - val_MAE: 8.5332\n",
            "Epoch 43/50\n",
            "1949/1949 [==============================] - 90s 46ms/step - loss: 3.0903 - MAE: 3.0903 - val_loss: 8.6598 - val_MAE: 8.6598\n",
            "Epoch 44/50\n",
            "1949/1949 [==============================] - 90s 46ms/step - loss: 3.0856 - MAE: 3.0856 - val_loss: 8.7509 - val_MAE: 8.7509\n",
            "Epoch 45/50\n",
            "1949/1949 [==============================] - 89s 46ms/step - loss: 3.0589 - MAE: 3.0589 - val_loss: 8.8678 - val_MAE: 8.8678\n",
            "Epoch 46/50\n",
            "1949/1949 [==============================] - 89s 46ms/step - loss: 3.0006 - MAE: 3.0006 - val_loss: 8.7851 - val_MAE: 8.7851\n",
            "Epoch 47/50\n",
            "1949/1949 [==============================] - 89s 46ms/step - loss: 2.9650 - MAE: 2.9650 - val_loss: 8.9547 - val_MAE: 8.9547\n",
            "Epoch 48/50\n",
            "1949/1949 [==============================] - 89s 46ms/step - loss: 2.9417 - MAE: 2.9417 - val_loss: 9.3453 - val_MAE: 9.3453\n",
            "Epoch 49/50\n",
            "1949/1949 [==============================] - 90s 46ms/step - loss: 2.8895 - MAE: 2.8895 - val_loss: 8.9118 - val_MAE: 8.9118\n",
            "Epoch 50/50\n",
            "1949/1949 [==============================] - 90s 46ms/step - loss: 2.8459 - MAE: 2.8459 - val_loss: 8.5358 - val_MAE: 8.5358\n",
            "2916/2916 [==============================] - 44s 15ms/step - loss: 8.3322 - MAE: 8.3322\n",
            "Test loss: 8.332164764404297\n",
            "Test MAE: 8.332164764404297\n"
          ]
        }
      ]
    },
    {
      "cell_type": "code",
      "source": [
        "plt.plot(history1.history['loss'])\n",
        "plt.plot(history1.history['val_loss'])\n",
        "plt.title('inv-mul_sq_aug Model loss')\n",
        "plt.ylabel('Loss')\n",
        "plt.xlabel('Epoch')\n",
        "plt.legend(['Train', 'Validation'], loc='upper left')\n",
        "plt.show()"
      ],
      "metadata": {
        "colab": {
          "base_uri": "https://localhost:8080/",
          "height": 295
        },
        "id": "jTfqxQ6Q3j4V",
        "outputId": "958ced04-c233-4025-8c3d-1015b3510780"
      },
      "execution_count": null,
      "outputs": [
        {
          "output_type": "display_data",
          "data": {
            "text/plain": [
              "<Figure size 432x288 with 1 Axes>"
            ],
            "image/png": "[encoded data removed]"
          },
          "metadata": {
            "needs_background": "light"
          }
        }
      ]
    },
    {
      "cell_type": "code",
      "source": [
        "import tensorflow as tf\n",
        "\n",
        "base_model = InceptionV3(weights='imagenet', include_top=False)\n",
        "input = Input(shape=(300,300,3),name='input1')\n",
        "input_gender = Input(shape=(1,),dtype='float32',name='input2')\n",
        "input_age = Input(shape=(2,114),dtype='float32',name='input3')\n",
        "output = base_model(input)\n",
        "gender_embedding=Dense(16)(input_gender)\n",
        "print (K.int_shape(output))\n",
        "#x=channel_attention(output)\n",
        "#print (K.int_shape(x))\n",
        "x=spatial_attention(output)\n",
        "print (K.int_shape(x))\n",
        "x = keras.layers.MaxPooling2D(pool_size=(4,4))(x)\n",
        "f=Flatten()(x)\n",
        "f = Dense(256, activation='relu')(f)\n",
        "x =Dense(228,activation='linear')(f)\n",
        "y=Flatten()(input_age)\n",
        "print(y.shape)\n",
        "f = keras.layers.Multiply()([x,y])\n",
        "f = keras.layers.Concatenate(axis=1)([f,gender_embedding])\n",
        "predictions=Dense(1)(f)\n",
        "\n",
        "model = Model(inputs=[input,input_gender,input_age], outputs=predictions)\n",
        "for i,layer in enumerate(model.layers):\n",
        "    print (i,layer.name)\n",
        "\n",
        "Adam=tf.keras.optimizers.Adam(lr=0.0001,beta_1=0.9,beta_2=0.999)\n",
        "model.compile(optimizer=Adam, loss='mean_absolute_error', metrics=['MAE'])\n",
        "model.summary()\n",
        "\n",
        "checkpoint =keras.callbacks.ModelCheckpoint(filepath='weights_inv-mul_cam_aug_ndimg.{epoch:02d}-{val_loss:.2f}.hdf5',save_weights_only=True,period=50)\n",
        "#model.fit_generator(DataGen.flow([x_train,gender_train],y_train,batch_size=batch_size),steps_per_epoch=np.ceil(len(y_train)/batch_size),epochs=50,verbose=1,validation_data=([x_valid,gender_valid,agev],y_valid))\n",
        "history1=model.fit([train_x,train_gen,agetr],train_y,batch_size=4,epochs=50,verbose=1,validation_data=([valid_x,valid_gen,agev],valid_y),callbacks = [checkpoint])\n",
        "score = model.evaluate([test_x,test_gen,aget],test_y, batch_size=batch_size)\n",
        "print('Test loss:', score[0])\n",
        "print('Test MAE:', score[1])"
      ],
      "metadata": {
        "colab": {
          "base_uri": "https://localhost:8080/"
        },
        "id": "y6CtvNPl3qEx",
        "outputId": "6edc4bbe-6990-4368-c30a-a6dda18b858f"
      },
      "execution_count": null,
      "outputs": [
        {
          "output_type": "stream",
          "name": "stdout",
          "text": [
            "(None, 8, 8, 2048)\n",
            "(None, 8, 8, 2048)\n",
            "(None, 228)\n",
            "0 input1\n",
            "1 inception_v3\n",
            "2 tf.math.reduce_mean_3\n",
            "3 tf.math.reduce_max_3\n",
            "4 tf.concat_1\n",
            "5 conv2d_377\n",
            "6 tf.math.sigmoid_3\n",
            "7 tf.math.multiply_3\n",
            "8 max_pooling2d_19\n",
            "9 flatten_6\n",
            "10 dense_22\n",
            "11 input3\n",
            "12 dense_23\n",
            "13 flatten_7\n",
            "14 input2\n",
            "15 multiply_4\n",
            "16 dense_21\n",
            "17 concatenate_11\n",
            "18 dense_24\n",
            "Model: \"model_3\"\n",
            "__________________________________________________________________________________________________\n",
            " Layer (type)                   Output Shape         Param #     Connected to                     \n",
            "==================================================================================================\n",
            " input1 (InputLayer)            [(None, 300, 300, 3  0           []                               \n",
            "                                )]                                                                \n",
            "                                                                                                  \n",
            " inception_v3 (Functional)      (None, None, None,   21802784    ['input1[0][0]']                 \n",
            "                                2048)                                                             \n",
            "                                                                                                  \n",
            " tf.math.reduce_mean_3 (TFOpLam  (None, 8, 8, 1)     0           ['inception_v3[0][0]']           \n",
            " bda)                                                                                             \n",
            "                                                                                                  \n",
            " tf.math.reduce_max_3 (TFOpLamb  (None, 8, 8, 1)     0           ['inception_v3[0][0]']           \n",
            " da)                                                                                              \n",
            "                                                                                                  \n",
            " tf.concat_1 (TFOpLambda)       (None, 8, 8, 2)      0           ['tf.math.reduce_mean_3[0][0]',  \n",
            "                                                                  'tf.math.reduce_max_3[0][0]']   \n",
            "                                                                                                  \n",
            " conv2d_377 (Conv2D)            (None, 8, 8, 1)      98          ['tf.concat_1[0][0]']            \n",
            "                                                                                                  \n",
            " tf.math.sigmoid_3 (TFOpLambda)  (None, 8, 8, 1)     0           ['conv2d_377[0][0]']             \n",
            "                                                                                                  \n",
            " tf.math.multiply_3 (TFOpLambda  (None, 8, 8, 2048)  0           ['inception_v3[0][0]',           \n",
            " )                                                                'tf.math.sigmoid_3[0][0]']      \n",
            "                                                                                                  \n",
            " max_pooling2d_19 (MaxPooling2D  (None, 2, 2, 2048)  0           ['tf.math.multiply_3[0][0]']     \n",
            " )                                                                                                \n",
            "                                                                                                  \n",
            " flatten_6 (Flatten)            (None, 8192)         0           ['max_pooling2d_19[0][0]']       \n",
            "                                                                                                  \n",
            " dense_22 (Dense)               (None, 256)          2097408     ['flatten_6[0][0]']              \n",
            "                                                                                                  \n",
            " input3 (InputLayer)            [(None, 2, 114)]     0           []                               \n",
            "                                                                                                  \n",
            " dense_23 (Dense)               (None, 228)          58596       ['dense_22[0][0]']               \n",
            "                                                                                                  \n",
            " flatten_7 (Flatten)            (None, 228)          0           ['input3[0][0]']                 \n",
            "                                                                                                  \n",
            " input2 (InputLayer)            [(None, 1)]          0           []                               \n",
            "                                                                                                  \n",
            " multiply_4 (Multiply)          (None, 228)          0           ['dense_23[0][0]',               \n",
            "                                                                  'flatten_7[0][0]']              \n",
            "                                                                                                  \n",
            " dense_21 (Dense)               (None, 16)           32          ['input2[0][0]']                 \n",
            "                                                                                                  \n",
            " concatenate_11 (Concatenate)   (None, 244)          0           ['multiply_4[0][0]',             \n",
            "                                                                  'dense_21[0][0]']               \n",
            "                                                                                                  \n",
            " dense_24 (Dense)               (None, 1)            245         ['concatenate_11[0][0]']         \n",
            "                                                                                                  \n",
            "==================================================================================================\n",
            "Total params: 23,959,163\n",
            "Trainable params: 23,924,731\n",
            "Non-trainable params: 34,432\n",
            "__________________________________________________________________________________________________\n"
          ]
        },
        {
          "output_type": "stream",
          "name": "stderr",
          "text": [
            "/usr/local/lib/python3.8/dist-packages/keras/optimizers/optimizer_v2/adam.py:110: UserWarning: The `lr` argument is deprecated, use `learning_rate` instead.\n",
            "  super(Adam, self).__init__(name, **kwargs)\n",
            "WARNING:tensorflow:`period` argument is deprecated. Please use `save_freq` to specify the frequency in number of batches seen.\n"
          ]
        },
        {
          "output_type": "stream",
          "name": "stdout",
          "text": [
            "Epoch 1/50\n",
            "1949/1949 [==============================] - 98s 47ms/step - loss: 28.4171 - MAE: 28.4171 - val_loss: 21.4977 - val_MAE: 21.4977\n",
            "Epoch 2/50\n",
            "1949/1949 [==============================] - 88s 45ms/step - loss: 18.6296 - MAE: 18.6296 - val_loss: 15.5067 - val_MAE: 15.5067\n",
            "Epoch 3/50\n",
            "1949/1949 [==============================] - 87s 45ms/step - loss: 16.2993 - MAE: 16.2993 - val_loss: 15.2733 - val_MAE: 15.2733\n",
            "Epoch 4/50\n",
            "1949/1949 [==============================] - 87s 45ms/step - loss: 14.8416 - MAE: 14.8416 - val_loss: 16.7241 - val_MAE: 16.7241\n",
            "Epoch 5/50\n",
            "1949/1949 [==============================] - 87s 45ms/step - loss: 13.5166 - MAE: 13.5166 - val_loss: 14.6585 - val_MAE: 14.6585\n",
            "Epoch 6/50\n",
            "1949/1949 [==============================] - 87s 45ms/step - loss: 12.1997 - MAE: 12.1997 - val_loss: 15.0654 - val_MAE: 15.0654\n",
            "Epoch 7/50\n",
            "1949/1949 [==============================] - 87s 45ms/step - loss: 11.0335 - MAE: 11.0335 - val_loss: 19.3828 - val_MAE: 19.3828\n",
            "Epoch 8/50\n",
            "1949/1949 [==============================] - 87s 45ms/step - loss: 10.6052 - MAE: 10.6052 - val_loss: 15.9522 - val_MAE: 15.9522\n",
            "Epoch 9/50\n",
            "1949/1949 [==============================] - 87s 45ms/step - loss: 9.9611 - MAE: 9.9611 - val_loss: 14.0932 - val_MAE: 14.0932\n",
            "Epoch 10/50\n",
            "1949/1949 [==============================] - 87s 45ms/step - loss: 9.0482 - MAE: 9.0482 - val_loss: 12.4379 - val_MAE: 12.4379\n",
            "Epoch 11/50\n",
            "1949/1949 [==============================] - 87s 45ms/step - loss: 8.3897 - MAE: 8.3897 - val_loss: 12.2676 - val_MAE: 12.2676\n",
            "Epoch 12/50\n",
            "1949/1949 [==============================] - 87s 45ms/step - loss: 7.9784 - MAE: 7.9784 - val_loss: 10.8707 - val_MAE: 10.8707\n",
            "Epoch 13/50\n",
            "1949/1949 [==============================] - 87s 45ms/step - loss: 7.4924 - MAE: 7.4924 - val_loss: 12.3350 - val_MAE: 12.3350\n",
            "Epoch 14/50\n",
            "1949/1949 [==============================] - 87s 45ms/step - loss: 7.5503 - MAE: 7.5503 - val_loss: 12.2796 - val_MAE: 12.2796\n",
            "Epoch 15/50\n",
            "1949/1949 [==============================] - 87s 45ms/step - loss: 7.3034 - MAE: 7.3034 - val_loss: 16.6071 - val_MAE: 16.6071\n",
            "Epoch 16/50\n",
            "1949/1949 [==============================] - 88s 45ms/step - loss: 6.9211 - MAE: 6.9211 - val_loss: 12.8779 - val_MAE: 12.8779\n",
            "Epoch 17/50\n",
            "1949/1949 [==============================] - 87s 45ms/step - loss: 6.7718 - MAE: 6.7718 - val_loss: 11.8955 - val_MAE: 11.8955\n",
            "Epoch 18/50\n",
            "1949/1949 [==============================] - 87s 45ms/step - loss: 6.1293 - MAE: 6.1293 - val_loss: 10.7592 - val_MAE: 10.7592\n",
            "Epoch 19/50\n",
            "1949/1949 [==============================] - 87s 45ms/step - loss: 6.1140 - MAE: 6.1140 - val_loss: 13.8697 - val_MAE: 13.8697\n",
            "Epoch 20/50\n",
            "1949/1949 [==============================] - 87s 45ms/step - loss: 5.8026 - MAE: 5.8026 - val_loss: 14.2595 - val_MAE: 14.2595\n",
            "Epoch 21/50\n",
            "1949/1949 [==============================] - 87s 45ms/step - loss: 5.5522 - MAE: 5.5522 - val_loss: 21.6415 - val_MAE: 21.6415\n",
            "Epoch 22/50\n",
            "1949/1949 [==============================] - 87s 45ms/step - loss: 5.3249 - MAE: 5.3249 - val_loss: 10.7320 - val_MAE: 10.7320\n",
            "Epoch 23/50\n",
            "1949/1949 [==============================] - 87s 45ms/step - loss: 5.5057 - MAE: 5.5057 - val_loss: 10.0691 - val_MAE: 10.0691\n",
            "Epoch 24/50\n",
            "1949/1949 [==============================] - 87s 45ms/step - loss: 5.2184 - MAE: 5.2184 - val_loss: 10.1033 - val_MAE: 10.1033\n",
            "Epoch 25/50\n",
            "1949/1949 [==============================] - 87s 45ms/step - loss: 4.8727 - MAE: 4.8727 - val_loss: 10.0313 - val_MAE: 10.0313\n",
            "Epoch 26/50\n",
            "1949/1949 [==============================] - 87s 45ms/step - loss: 4.7660 - MAE: 4.7660 - val_loss: 9.4993 - val_MAE: 9.4993\n",
            "Epoch 27/50\n",
            "1949/1949 [==============================] - 87s 45ms/step - loss: 4.6655 - MAE: 4.6655 - val_loss: 9.9241 - val_MAE: 9.9241\n",
            "Epoch 28/50\n",
            "1949/1949 [==============================] - 87s 45ms/step - loss: 4.5518 - MAE: 4.5518 - val_loss: 10.5217 - val_MAE: 10.5217\n",
            "Epoch 29/50\n",
            "1949/1949 [==============================] - 87s 45ms/step - loss: 4.6474 - MAE: 4.6474 - val_loss: 9.4525 - val_MAE: 9.4525\n",
            "Epoch 30/50\n",
            "1949/1949 [==============================] - 87s 45ms/step - loss: 4.1238 - MAE: 4.1238 - val_loss: 10.3517 - val_MAE: 10.3517\n",
            "Epoch 31/50\n",
            "1949/1949 [==============================] - 87s 45ms/step - loss: 4.1986 - MAE: 4.1986 - val_loss: 10.4909 - val_MAE: 10.4909\n",
            "Epoch 32/50\n",
            "1949/1949 [==============================] - 87s 45ms/step - loss: 4.1638 - MAE: 4.1638 - val_loss: 9.7026 - val_MAE: 9.7026\n",
            "Epoch 33/50\n",
            "1949/1949 [==============================] - 87s 45ms/step - loss: 4.1020 - MAE: 4.1020 - val_loss: 10.0650 - val_MAE: 10.0650\n",
            "Epoch 34/50\n",
            "1949/1949 [==============================] - 87s 45ms/step - loss: 4.0924 - MAE: 4.0924 - val_loss: 9.9906 - val_MAE: 9.9906\n",
            "Epoch 35/50\n",
            "1949/1949 [==============================] - 87s 45ms/step - loss: 3.9217 - MAE: 3.9217 - val_loss: 9.4835 - val_MAE: 9.4835\n",
            "Epoch 36/50\n",
            "1949/1949 [==============================] - 87s 45ms/step - loss: 3.7924 - MAE: 3.7924 - val_loss: 11.2682 - val_MAE: 11.2682\n",
            "Epoch 37/50\n",
            "1949/1949 [==============================] - 88s 45ms/step - loss: 3.9352 - MAE: 3.9352 - val_loss: 9.7100 - val_MAE: 9.7100\n",
            "Epoch 38/50\n",
            "1949/1949 [==============================] - 87s 45ms/step - loss: 3.7037 - MAE: 3.7037 - val_loss: 10.0283 - val_MAE: 10.0283\n",
            "Epoch 39/50\n",
            "1949/1949 [==============================] - 87s 45ms/step - loss: 3.7568 - MAE: 3.7568 - val_loss: 9.4940 - val_MAE: 9.4940\n",
            "Epoch 40/50\n",
            "1949/1949 [==============================] - 87s 45ms/step - loss: 3.5132 - MAE: 3.5132 - val_loss: 9.2446 - val_MAE: 9.2446\n",
            "Epoch 41/50\n",
            "1949/1949 [==============================] - 87s 45ms/step - loss: 3.5687 - MAE: 3.5687 - val_loss: 9.4086 - val_MAE: 9.4086\n",
            "Epoch 42/50\n",
            "1949/1949 [==============================] - 87s 45ms/step - loss: 4.0953 - MAE: 4.0953 - val_loss: 17.6791 - val_MAE: 17.6791\n",
            "Epoch 43/50\n",
            "1949/1949 [==============================] - 87s 45ms/step - loss: 3.6764 - MAE: 3.6764 - val_loss: 9.8942 - val_MAE: 9.8942\n",
            "Epoch 44/50\n",
            "1949/1949 [==============================] - 87s 45ms/step - loss: 3.3902 - MAE: 3.3902 - val_loss: 9.9382 - val_MAE: 9.9382\n",
            "Epoch 45/50\n",
            "1949/1949 [==============================] - 87s 45ms/step - loss: 3.2921 - MAE: 3.2921 - val_loss: 9.3275 - val_MAE: 9.3275\n",
            "Epoch 46/50\n",
            "1949/1949 [==============================] - 87s 45ms/step - loss: 3.3338 - MAE: 3.3338 - val_loss: 10.3217 - val_MAE: 10.3217\n",
            "Epoch 47/50\n",
            "1949/1949 [==============================] - 87s 45ms/step - loss: 3.2646 - MAE: 3.2646 - val_loss: 9.9084 - val_MAE: 9.9084\n",
            "Epoch 48/50\n",
            "1949/1949 [==============================] - 87s 45ms/step - loss: 3.2854 - MAE: 3.2854 - val_loss: 9.0331 - val_MAE: 9.0331\n",
            "Epoch 49/50\n",
            "1949/1949 [==============================] - 87s 45ms/step - loss: 3.2935 - MAE: 3.2935 - val_loss: 10.7676 - val_MAE: 10.7676\n",
            "Epoch 50/50\n",
            "1949/1949 [==============================] - 88s 45ms/step - loss: 3.1938 - MAE: 3.1938 - val_loss: 9.4301 - val_MAE: 9.4301\n",
            "2916/2916 [==============================] - 41s 14ms/step - loss: 8.6076 - MAE: 8.6076\n",
            "Test loss: 8.607609748840332\n",
            "Test MAE: 8.607609748840332\n"
          ]
        }
      ]
    },
    {
      "cell_type": "code",
      "source": [
        "plt.plot(history1.history['loss'])\n",
        "plt.plot(history1.history['val_loss'])\n",
        "plt.title('inv-mul_sq_aug Model loss')\n",
        "plt.ylabel('Loss')\n",
        "plt.xlabel('Epoch')\n",
        "plt.legend(['Train', 'Validation'], loc='upper left')\n",
        "plt.show()"
      ],
      "metadata": {
        "colab": {
          "base_uri": "https://localhost:8080/",
          "height": 295
        },
        "id": "ZkVgC3UX3kDi",
        "outputId": "64a6ff98-1d23-47a6-f5e3-215743bcebe0"
      },
      "execution_count": null,
      "outputs": [
        {
          "output_type": "display_data",
          "data": {
            "text/plain": [
              "<Figure size 432x288 with 1 Axes>"
            ],
            "image/png": "[encoded data removed]"
          },
          "metadata": {
            "needs_background": "light"
          }
        }
      ]
    },
    {
      "cell_type": "code",
      "source": [
        "import tensorflow as tf\n",
        "\n",
        "base_model = InceptionV3(weights='imagenet', include_top=False)\n",
        "input = Input(shape=(300,300,3),name='input1')\n",
        "input_gender = Input(shape=(1,),dtype='float32',name='input2')\n",
        "input_age = Input(shape=(2,114),dtype='float32',name='input3')\n",
        "output = base_model(input)\n",
        "gender_embedding=Dense(16)(input_gender)\n",
        "print (K.int_shape(output))\n",
        "#x=channel_attention(output)\n",
        "#print (K.int_shape(x))\n",
        "x=spatial_attention(output)\n",
        "print (K.int_shape(x))\n",
        "x=channel_attention(x)\n",
        "x = keras.layers.MaxPooling2D(pool_size=(4,4))(x)\n",
        "f=Flatten()(x)\n",
        "f = Dense(256, activation='relu')(f)\n",
        "x =Dense(228,activation='linear')(f)\n",
        "y=Flatten()(input_age)\n",
        "print(y.shape)\n",
        "f = keras.layers.Multiply()([x,y])\n",
        "f = keras.layers.Concatenate(axis=1)([f,gender_embedding])\n",
        "predictions=Dense(1)(f)\n",
        "\n",
        "model = Model(inputs=[input,input_gender,input_age], outputs=predictions)\n",
        "for i,layer in enumerate(model.layers):\n",
        "    print (i,layer.name)\n",
        "\n",
        "Adam=tf.keras.optimizers.Adam(lr=0.0001,beta_1=0.9,beta_2=0.999)\n",
        "model.compile(optimizer=Adam, loss='mean_absolute_error', metrics=['MAE'])\n",
        "model.summary()\n",
        "\n",
        "checkpoint =keras.callbacks.ModelCheckpoint(filepath='weights_inv-mul_cam_aug_ndimg.{epoch:02d}-{val_loss:.2f}.hdf5',save_weights_only=True,period=50)\n",
        "#model.fit_generator(DataGen.flow([x_train,gender_train],y_train,batch_size=batch_size),steps_per_epoch=np.ceil(len(y_train)/batch_size),epochs=50,verbose=1,validation_data=([x_valid,gender_valid,agev],y_valid))\n",
        "history1=model.fit([train_x,train_gen,agetr],train_y,batch_size=4,epochs=50,verbose=1,validation_data=([valid_x,valid_gen,agev],valid_y),callbacks = [checkpoint])\n",
        "score = model.evaluate([test_x,test_gen,aget],test_y, batch_size=batch_size)\n",
        "print('Test loss:', score[0])\n",
        "print('Test MAE:', score[1])"
      ],
      "metadata": {
        "colab": {
          "base_uri": "https://localhost:8080/"
        },
        "id": "4fRR8IJy3oDJ",
        "outputId": "8d07dee2-5688-43ce-b071-347d00f644a6"
      },
      "execution_count": null,
      "outputs": [
        {
          "output_type": "stream",
          "name": "stdout",
          "text": [
            "(None, 8, 8, 2048)\n",
            "(None, 8, 8, 2048)\n",
            "(None, 228)\n",
            "0 input1\n",
            "1 inception_v3\n",
            "2 tf.math.reduce_mean_4\n",
            "3 tf.math.reduce_max_4\n",
            "4 tf.concat_2\n",
            "5 conv2d_472\n",
            "6 tf.math.sigmoid_4\n",
            "7 tf.math.multiply_4\n",
            "8 tf.math.reduce_mean_5\n",
            "9 tf.math.reduce_max_5\n",
            "10 dense_26\n",
            "11 dense_28\n",
            "12 dense_27\n",
            "13 dense_29\n",
            "14 tf.__operators__.add_2\n",
            "15 tf.math.sigmoid_5\n",
            "16 tf.math.multiply_5\n",
            "17 max_pooling2d_24\n",
            "18 flatten_8\n",
            "19 dense_30\n",
            "20 input3\n",
            "21 dense_31\n",
            "22 flatten_9\n",
            "23 input2\n",
            "24 multiply_5\n",
            "25 dense_25\n",
            "26 concatenate_14\n",
            "27 dense_32\n",
            "Model: \"model_4\"\n",
            "__________________________________________________________________________________________________\n",
            " Layer (type)                   Output Shape         Param #     Connected to                     \n",
            "==================================================================================================\n",
            " input1 (InputLayer)            [(None, 300, 300, 3  0           []                               \n",
            "                                )]                                                                \n",
            "                                                                                                  \n",
            " inception_v3 (Functional)      (None, None, None,   21802784    ['input1[0][0]']                 \n",
            "                                2048)                                                             \n",
            "                                                                                                  \n",
            " tf.math.reduce_mean_4 (TFOpLam  (None, 8, 8, 1)     0           ['inception_v3[0][0]']           \n",
            " bda)                                                                                             \n",
            "                                                                                                  \n",
            " tf.math.reduce_max_4 (TFOpLamb  (None, 8, 8, 1)     0           ['inception_v3[0][0]']           \n",
            " da)                                                                                              \n",
            "                                                                                                  \n",
            " tf.concat_2 (TFOpLambda)       (None, 8, 8, 2)      0           ['tf.math.reduce_mean_4[0][0]',  \n",
            "                                                                  'tf.math.reduce_max_4[0][0]']   \n",
            "                                                                                                  \n",
            " conv2d_472 (Conv2D)            (None, 8, 8, 1)      98          ['tf.concat_2[0][0]']            \n",
            "                                                                                                  \n",
            " tf.math.sigmoid_4 (TFOpLambda)  (None, 8, 8, 1)     0           ['conv2d_472[0][0]']             \n",
            "                                                                                                  \n",
            " tf.math.multiply_4 (TFOpLambda  (None, 8, 8, 2048)  0           ['inception_v3[0][0]',           \n",
            " )                                                                'tf.math.sigmoid_4[0][0]']      \n",
            "                                                                                                  \n",
            " tf.math.reduce_mean_5 (TFOpLam  (None, 1, 1, 2048)  0           ['tf.math.multiply_4[0][0]']     \n",
            " bda)                                                                                             \n",
            "                                                                                                  \n",
            " tf.math.reduce_max_5 (TFOpLamb  (None, 1, 1, 2048)  0           ['tf.math.multiply_4[0][0]']     \n",
            " da)                                                                                              \n",
            "                                                                                                  \n",
            " dense_26 (Dense)               (None, 1, 1, 256)    524544      ['tf.math.reduce_mean_5[0][0]']  \n",
            "                                                                                                  \n",
            " dense_28 (Dense)               (None, 1, 1, 256)    524544      ['tf.math.reduce_max_5[0][0]']   \n",
            "                                                                                                  \n",
            " dense_27 (Dense)               (None, 1, 1, 2048)   526336      ['dense_26[0][0]']               \n",
            "                                                                                                  \n",
            " dense_29 (Dense)               (None, 1, 1, 2048)   526336      ['dense_28[0][0]']               \n",
            "                                                                                                  \n",
            " tf.__operators__.add_2 (TFOpLa  (None, 1, 1, 2048)  0           ['dense_27[0][0]',               \n",
            " mbda)                                                            'dense_29[0][0]']               \n",
            "                                                                                                  \n",
            " tf.math.sigmoid_5 (TFOpLambda)  (None, 1, 1, 2048)  0           ['tf.__operators__.add_2[0][0]'] \n",
            "                                                                                                  \n",
            " tf.math.multiply_5 (TFOpLambda  (None, 8, 8, 2048)  0           ['tf.math.multiply_4[0][0]',     \n",
            " )                                                                'tf.math.sigmoid_5[0][0]']      \n",
            "                                                                                                  \n",
            " max_pooling2d_24 (MaxPooling2D  (None, 2, 2, 2048)  0           ['tf.math.multiply_5[0][0]']     \n",
            " )                                                                                                \n",
            "                                                                                                  \n",
            " flatten_8 (Flatten)            (None, 8192)         0           ['max_pooling2d_24[0][0]']       \n",
            "                                                                                                  \n",
            " dense_30 (Dense)               (None, 256)          2097408     ['flatten_8[0][0]']              \n",
            "                                                                                                  \n",
            " input3 (InputLayer)            [(None, 2, 114)]     0           []                               \n",
            "                                                                                                  \n",
            " dense_31 (Dense)               (None, 228)          58596       ['dense_30[0][0]']               \n",
            "                                                                                                  \n",
            " flatten_9 (Flatten)            (None, 228)          0           ['input3[0][0]']                 \n",
            "                                                                                                  \n",
            " input2 (InputLayer)            [(None, 1)]          0           []                               \n",
            "                                                                                                  \n",
            " multiply_5 (Multiply)          (None, 228)          0           ['dense_31[0][0]',               \n",
            "                                                                  'flatten_9[0][0]']              \n",
            "                                                                                                  \n",
            " dense_25 (Dense)               (None, 16)           32          ['input2[0][0]']                 \n",
            "                                                                                                  \n",
            " concatenate_14 (Concatenate)   (None, 244)          0           ['multiply_5[0][0]',             \n",
            "                                                                  'dense_25[0][0]']               \n",
            "                                                                                                  \n",
            " dense_32 (Dense)               (None, 1)            245         ['concatenate_14[0][0]']         \n",
            "                                                                                                  \n",
            "==================================================================================================\n",
            "Total params: 26,060,923\n",
            "Trainable params: 26,026,491\n",
            "Non-trainable params: 34,432\n",
            "__________________________________________________________________________________________________\n"
          ]
        },
        {
          "output_type": "stream",
          "name": "stderr",
          "text": [
            "/usr/local/lib/python3.8/dist-packages/keras/optimizers/optimizer_v2/adam.py:110: UserWarning: The `lr` argument is deprecated, use `learning_rate` instead.\n",
            "  super(Adam, self).__init__(name, **kwargs)\n",
            "WARNING:tensorflow:`period` argument is deprecated. Please use `save_freq` to specify the frequency in number of batches seen.\n"
          ]
        },
        {
          "output_type": "stream",
          "name": "stdout",
          "text": [
            "Epoch 1/50\n",
            "1949/1949 [==============================] - 99s 47ms/step - loss: 26.8509 - MAE: 26.8509 - val_loss: 22.9908 - val_MAE: 22.9908\n",
            "Epoch 2/50\n",
            "1949/1949 [==============================] - 90s 46ms/step - loss: 17.8477 - MAE: 17.8477 - val_loss: 16.5954 - val_MAE: 16.5954\n",
            "Epoch 3/50\n",
            "1949/1949 [==============================] - 90s 46ms/step - loss: 15.3814 - MAE: 15.3814 - val_loss: 14.7075 - val_MAE: 14.7075\n",
            "Epoch 4/50\n",
            "1949/1949 [==============================] - 90s 46ms/step - loss: 14.0324 - MAE: 14.0324 - val_loss: 12.6550 - val_MAE: 12.6550\n",
            "Epoch 5/50\n",
            "1949/1949 [==============================] - 90s 46ms/step - loss: 12.4047 - MAE: 12.4047 - val_loss: 14.1948 - val_MAE: 14.1948\n",
            "Epoch 6/50\n",
            "1949/1949 [==============================] - 90s 46ms/step - loss: 11.3564 - MAE: 11.3564 - val_loss: 12.3527 - val_MAE: 12.3527\n",
            "Epoch 7/50\n",
            "1949/1949 [==============================] - 90s 46ms/step - loss: 10.3814 - MAE: 10.3814 - val_loss: 12.4281 - val_MAE: 12.4281\n",
            "Epoch 8/50\n",
            "1949/1949 [==============================] - 90s 46ms/step - loss: 9.5221 - MAE: 9.5221 - val_loss: 11.0525 - val_MAE: 11.0525\n",
            "Epoch 9/50\n",
            "1949/1949 [==============================] - 90s 46ms/step - loss: 8.7844 - MAE: 8.7844 - val_loss: 11.0537 - val_MAE: 11.0537\n",
            "Epoch 10/50\n",
            "1949/1949 [==============================] - 90s 46ms/step - loss: 8.1744 - MAE: 8.1744 - val_loss: 11.5416 - val_MAE: 11.5416\n",
            "Epoch 11/50\n",
            "1949/1949 [==============================] - 90s 46ms/step - loss: 7.7084 - MAE: 7.7084 - val_loss: 10.5497 - val_MAE: 10.5497\n",
            "Epoch 12/50\n",
            "1949/1949 [==============================] - 90s 46ms/step - loss: 7.1462 - MAE: 7.1462 - val_loss: 10.4741 - val_MAE: 10.4741\n",
            "Epoch 13/50\n",
            "1949/1949 [==============================] - 90s 46ms/step - loss: 6.8071 - MAE: 6.8071 - val_loss: 10.1657 - val_MAE: 10.1657\n",
            "Epoch 14/50\n",
            "1949/1949 [==============================] - 90s 46ms/step - loss: 6.5025 - MAE: 6.5025 - val_loss: 10.4035 - val_MAE: 10.4035\n",
            "Epoch 15/50\n",
            "1949/1949 [==============================] - 90s 46ms/step - loss: 6.2920 - MAE: 6.2920 - val_loss: 10.5008 - val_MAE: 10.5008\n",
            "Epoch 16/50\n",
            "1949/1949 [==============================] - 90s 46ms/step - loss: 5.9376 - MAE: 5.9376 - val_loss: 10.4273 - val_MAE: 10.4273\n",
            "Epoch 17/50\n",
            "1949/1949 [==============================] - 90s 46ms/step - loss: 5.6846 - MAE: 5.6846 - val_loss: 9.4988 - val_MAE: 9.4988\n",
            "Epoch 18/50\n",
            "1949/1949 [==============================] - 90s 46ms/step - loss: 5.5129 - MAE: 5.5129 - val_loss: 9.5582 - val_MAE: 9.5582\n",
            "Epoch 19/50\n",
            "1949/1949 [==============================] - 90s 46ms/step - loss: 5.2526 - MAE: 5.2526 - val_loss: 9.9973 - val_MAE: 9.9973\n",
            "Epoch 20/50\n",
            "1949/1949 [==============================] - 90s 46ms/step - loss: 5.0728 - MAE: 5.0728 - val_loss: 9.4250 - val_MAE: 9.4250\n",
            "Epoch 21/50\n",
            "1949/1949 [==============================] - 90s 46ms/step - loss: 4.9309 - MAE: 4.9309 - val_loss: 9.3657 - val_MAE: 9.3657\n",
            "Epoch 22/50\n",
            "1949/1949 [==============================] - 90s 46ms/step - loss: 4.8713 - MAE: 4.8713 - val_loss: 9.3802 - val_MAE: 9.3802\n",
            "Epoch 23/50\n",
            "1949/1949 [==============================] - 90s 46ms/step - loss: 4.7307 - MAE: 4.7307 - val_loss: 9.0996 - val_MAE: 9.0996\n",
            "Epoch 24/50\n",
            "1949/1949 [==============================] - 90s 46ms/step - loss: 4.4762 - MAE: 4.4762 - val_loss: 9.3471 - val_MAE: 9.3471\n",
            "Epoch 25/50\n",
            "1949/1949 [==============================] - 93s 48ms/step - loss: 4.4415 - MAE: 4.4415 - val_loss: 8.9881 - val_MAE: 8.9881\n",
            "Epoch 26/50\n",
            "1949/1949 [==============================] - 98s 50ms/step - loss: 4.3457 - MAE: 4.3457 - val_loss: 9.6708 - val_MAE: 9.6708\n",
            "Epoch 27/50\n",
            "1949/1949 [==============================] - 98s 50ms/step - loss: 4.2816 - MAE: 4.2816 - val_loss: 8.9900 - val_MAE: 8.9900\n",
            "Epoch 28/50\n",
            "1949/1949 [==============================] - 98s 50ms/step - loss: 4.0900 - MAE: 4.0900 - val_loss: 9.2448 - val_MAE: 9.2448\n",
            "Epoch 29/50\n",
            "1949/1949 [==============================] - 94s 48ms/step - loss: 4.0832 - MAE: 4.0832 - val_loss: 9.9075 - val_MAE: 9.9075\n",
            "Epoch 30/50\n",
            "1949/1949 [==============================] - 90s 46ms/step - loss: 4.0410 - MAE: 4.0410 - val_loss: 9.0033 - val_MAE: 9.0033\n",
            "Epoch 31/50\n",
            "1949/1949 [==============================] - 90s 46ms/step - loss: 3.9424 - MAE: 3.9424 - val_loss: 9.0810 - val_MAE: 9.0810\n",
            "Epoch 32/50\n",
            "1949/1949 [==============================] - 98s 50ms/step - loss: 3.9223 - MAE: 3.9223 - val_loss: 9.7301 - val_MAE: 9.7301\n",
            "Epoch 33/50\n",
            "1949/1949 [==============================] - 98s 50ms/step - loss: 3.8881 - MAE: 3.8881 - val_loss: 9.7067 - val_MAE: 9.7067\n",
            "Epoch 34/50\n",
            "1949/1949 [==============================] - 98s 50ms/step - loss: 3.8013 - MAE: 3.8013 - val_loss: 9.0982 - val_MAE: 9.0982\n",
            "Epoch 35/50\n",
            "1949/1949 [==============================] - 90s 46ms/step - loss: 3.7509 - MAE: 3.7509 - val_loss: 8.8810 - val_MAE: 8.8810\n",
            "Epoch 36/50\n",
            "1949/1949 [==============================] - 90s 46ms/step - loss: 3.5711 - MAE: 3.5711 - val_loss: 9.0418 - val_MAE: 9.0418\n",
            "Epoch 37/50\n",
            "1949/1949 [==============================] - 97s 50ms/step - loss: 3.5344 - MAE: 3.5344 - val_loss: 9.0298 - val_MAE: 9.0298\n",
            "Epoch 38/50\n",
            "1949/1949 [==============================] - 98s 50ms/step - loss: 3.4322 - MAE: 3.4322 - val_loss: 9.1537 - val_MAE: 9.1537\n",
            "Epoch 39/50\n",
            "1949/1949 [==============================] - 97s 50ms/step - loss: 3.4428 - MAE: 3.4428 - val_loss: 8.9486 - val_MAE: 8.9486\n",
            "Epoch 40/50\n",
            "1949/1949 [==============================] - 97s 50ms/step - loss: 3.4166 - MAE: 3.4166 - val_loss: 9.0795 - val_MAE: 9.0795\n",
            "Epoch 41/50\n",
            "1949/1949 [==============================] - 97s 50ms/step - loss: 3.3793 - MAE: 3.3793 - val_loss: 8.8216 - val_MAE: 8.8216\n",
            "Epoch 42/50\n",
            "1949/1949 [==============================] - 90s 46ms/step - loss: 3.3755 - MAE: 3.3755 - val_loss: 9.4662 - val_MAE: 9.4662\n",
            "Epoch 43/50\n",
            "1949/1949 [==============================] - 90s 46ms/step - loss: 3.2697 - MAE: 3.2697 - val_loss: 9.2456 - val_MAE: 9.2456\n",
            "Epoch 44/50\n",
            "1949/1949 [==============================] - 98s 50ms/step - loss: 3.3227 - MAE: 3.3227 - val_loss: 8.9414 - val_MAE: 8.9414\n",
            "Epoch 45/50\n",
            "1949/1949 [==============================] - 94s 48ms/step - loss: 3.1618 - MAE: 3.1618 - val_loss: 9.1312 - val_MAE: 9.1312\n",
            "Epoch 46/50\n",
            "1949/1949 [==============================] - 98s 50ms/step - loss: 3.1568 - MAE: 3.1568 - val_loss: 9.0373 - val_MAE: 9.0373\n",
            "Epoch 47/50\n",
            "1949/1949 [==============================] - 102s 53ms/step - loss: 3.1982 - MAE: 3.1982 - val_loss: 8.7517 - val_MAE: 8.7517\n",
            "Epoch 48/50\n",
            "1949/1949 [==============================] - 92s 47ms/step - loss: 3.1303 - MAE: 3.1303 - val_loss: 8.8376 - val_MAE: 8.8376\n",
            "Epoch 49/50\n",
            "1540/1949 [======================>.......] - ETA: 17s - loss: 3.0484 - MAE: 3.0484"
          ]
        }
      ]
    },
    {
      "cell_type": "code",
      "source": [
        "plt.plot(history1.history['loss'])\n",
        "plt.plot(history1.history['val_loss'])\n",
        "plt.title('inv-mul_sq_aug Model loss')\n",
        "plt.ylabel('Loss')\n",
        "plt.xlabel('Epoch')\n",
        "plt.legend(['Train', 'Validation'], loc='upper left')\n",
        "plt.show()"
      ],
      "metadata": {
        "id": "50oblH2n3yZK"
      },
      "execution_count": null,
      "outputs": []
    },
    {
      "cell_type": "code",
      "source": [
        "import tensorflow as tf\n",
        "\n",
        "base_model = InceptionV3(weights='imagenet', include_top=False)\n",
        "input = Input(shape=(300,300,3),name='input1')\n",
        "input_gender = Input(shape=(1,),dtype='float32',name='input2')\n",
        "input_age = Input(shape=(2,114),dtype='float32',name='input3')\n",
        "output = base_model(input)\n",
        "gender_embedding=Dense(16)(input_gender)\n",
        "print (K.int_shape(output))\n",
        "x=spatial_attention(output)\n",
        "sq = keras.layers.GlobalAveragePooling2D()(x)\n",
        "print (K.int_shape(sq))\n",
        "sq = keras.layers.Reshape((1,1,2048))(sq)\n",
        "sq = keras.layers.Dense(units=2048,activation=\"sigmoid\")(sq)\n",
        "block = keras.layers.multiply([output,sq])\n",
        "#fine Squeeze and Excitation 1\n",
        "\n",
        "net = keras.layers.add([output,block])\n",
        "net = keras.layers.BatchNormalization()(net)\n",
        "net = keras.layers.Activation(\"relu\")(net)\n",
        "net = keras.layers.MaxPooling2D(pool_size=(2, 2),name=\"block_1\")(net)\n",
        "print (K.int_shape(net))\n",
        "\n",
        "#x=channel_attention(net)\n",
        "x = keras.layers.MaxPooling2D(pool_size=(4,4))(net)\n",
        "print (K.int_shape(x))\n",
        "x=Flatten()(x)\n",
        "f = keras.layers.Concatenate(axis=1)([x,gender_embedding])\n",
        "f = Dense(256, activation='relu')(f)\n",
        "x =Dense(228,activation='linear')(f)\n",
        "y=Flatten()(input_age)\n",
        "print(y.shape)\n",
        "f = keras.layers.Multiply()([x,y])\n",
        "predictions=Dense(1)(f)\n",
        "\n",
        "#Embedding = keras.layers.Conv2D(256,kernel_size=(2,2),strides=1)(output)\n",
        "#Embedding = keras.layers.AveragePooling2D(pool_size=(7,7))(Embedding)\n",
        "#Embedding = Flatten()(Embedding)\n",
        "#print (K.int_shape(Embedding))\n",
        "#variance = Dense(1)(Embedding)\n",
        "\n",
        "model = Model(inputs=[input,input_gender,input_age], outputs=predictions)\n",
        "for i,layer in enumerate(model.layers):\n",
        "    print (i,layer.name)\n",
        "\n",
        "Adam=tf.keras.optimizers.Adam(lr=0.0001,beta_1=0.9,beta_2=0.999)\n",
        "model.compile(optimizer=Adam, loss='mean_absolute_error', metrics=['MAE'],run_eagerly=True)\n",
        "model.summary()\n",
        "\n",
        "checkpoint =keras.callbacks.ModelCheckpoint(filepath='weights_inv-mul_sq_aug20_loss_dimg.{epoch:02d}-{val_loss:.2f}.hdf5',save_weights_only=True,period=20)\n",
        "#model.fit_generator(DataGen.flow([x_train,gender_train],y_train,batch_size=batch_size),steps_per_epoch=np.ceil(len(y_train)/batch_size),epochs=50,verbose=1,validation_data=([x_valid,gender_valid,agev],y_valid))\n",
        "history=model.fit([train_x,train_gen,agetr],train_y,batch_size=4,epochs=20,verbose=1,validation_data=([valid_x,valid_gen,agev],valid_y),callbacks = [checkpoint])\n",
        "score = model.evaluate([test_x,test_gen,aget],test_y, batch_size=batch_size)\n",
        "print('Test loss:', score[0])\n",
        "print('Test MAE:', score[1])"
      ],
      "metadata": {
        "id": "xnUKFG6T30qs"
      },
      "execution_count": null,
      "outputs": []
    },
    {
      "cell_type": "code",
      "source": [],
      "metadata": {
        "id": "lK_937phJlvO"
      },
      "execution_count": null,
      "outputs": []
    }
  ]
}