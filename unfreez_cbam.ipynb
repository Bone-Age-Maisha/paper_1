{
  "nbformat": 4,
  "nbformat_minor": 0,
  "metadata": {
    "colab": {
      "provenance": [],
      "authorship_tag": "ABX9TyM2irLquk+ZBsWqcQgsb+Vs",
      "include_colab_link": true
    },
    "kernelspec": {
      "name": "python3",
      "display_name": "Python 3"
    },
    "language_info": {
      "name": "python"
    },
    "accelerator": "GPU",
    "gpuClass": "standard"
  },
  "cells": [
    {
      "cell_type": "markdown",
      "metadata": {
        "id": "view-in-github",
        "colab_type": "text"
      },
      "source": [
        "<a href=\"https://colab.research.google.com/github/Bone-Age-Maisha/paper_1/blob/main/unfreez_cbam.ipynb\" target=\"_parent\"><img src=\"https://colab.research.google.com/assets/colab-badge.svg\" alt=\"Open In Colab\"/></a>"
      ]
    },
    {
      "cell_type": "code",
      "execution_count": 1,
      "metadata": {
        "colab": {
          "base_uri": "https://localhost:8080/"
        },
        "id": "8rzSUVbG67dF",
        "outputId": "be796058-7c98-492a-b496-84da0946c7d1"
      },
      "outputs": [
        {
          "output_type": "stream",
          "name": "stdout",
          "text": [
            "Mounted at /content/drive\n"
          ]
        }
      ],
      "source": []
    },
    {
      "cell_type": "code",
      "source": [],
      "metadata": {
        "id": "_PcIoKKIAJAY"
      },
      "execution_count": 2,
      "outputs": []
    },
    {
      "cell_type": "code",
      "source": [
        "from google.colab import drive\n",
        "drive.mount('/content/drive')"
      ],
      "metadata": {
        "colab": {
          "base_uri": "https://localhost:8080/"
        },
        "id": "cj0M8rgXC9-M",
        "outputId": "1994bb47-8fb1-402e-9210-835e3047d648"
      },
      "execution_count": 15,
      "outputs": [
        {
          "output_type": "stream",
          "name": "stdout",
          "text": [
            "Drive already mounted at /content/drive; to attempt to forcibly remount, call drive.mount(\"/content/drive\", force_remount=True).\n"
          ]
        }
      ]
    },
    {
      "cell_type": "code",
      "source": [
        "import numpy as np\n",
        "import cv2\n",
        "import os\n",
        "import pandas as pd"
      ],
      "metadata": {
        "id": "jge23qZcHDjY"
      },
      "execution_count": 16,
      "outputs": []
    },
    {
      "cell_type": "code",
      "source": [
        "import pandas as pd\n",
        "train_dir = '/content/drive/MyDrive/small_data/train'\n",
        "df = pd.read_csv('/content/drive/MyDrive/small_data/train_csv1.csv')"
      ],
      "metadata": {
        "id": "Wi5JWkMZHJXf"
      },
      "execution_count": 17,
      "outputs": []
    },
    {
      "cell_type": "code",
      "source": [
        "import tensorflow as tf\n",
        "gpus = tf.config.experimental.list_physical_devices('GPU')\n",
        "tf.config.experimental.set_visible_devices(gpus[0], 'GPU')\n",
        "tf.config.experimental.set_memory_growth(gpus[0], True)"
      ],
      "metadata": {
        "id": "3JzBDYz5HMbn"
      },
      "execution_count": 18,
      "outputs": []
    },
    {
      "cell_type": "code",
      "source": [
        "X_train = []\n",
        "y_age = []\n",
        "y_gender = []\n",
        "\n",
        "#df = pd.read_csv('/raid/chenchao/code/BoneAge/BoneAge/data/Training.csv')\n",
        "a = df.values\n",
        "m = a.shape[0]\n",
        "\n",
        "path = train_dir\n",
        "k = 0\n",
        "print ('Loading data set...')\n",
        "k=1\n",
        "for i in os.listdir(path):\n",
        "  #print(i)\n",
        "  if(len(i)>9):   #errror occuring  so to \n",
        "    continue\n",
        "  y_age.append(df.boneage[df.id == int(i[:-4])].tolist()[0])\n",
        "  a = df.male[df.id == int(i[:-4])].tolist()[0]\n",
        "  if a:\n",
        "    y_gender.append(1)\n",
        "  else:\n",
        "     y_gender.append(0)\n",
        "  img_path = path + \"/\"+i\n",
        "  img = cv2.imread(img_path)\n",
        "  #print(img.shape)\n",
        "  #print (img_path)\n",
        "  img = cv2.imread(img_path)\n",
        "    #print (img_path)\n",
        "    #if(img is not None):\n",
        "  img = cv2.cvtColor(img, cv2.COLOR_BGR2RGB)\n",
        "  img = cv2.resize(img,(300,300))\n",
        "  x = np.asarray(img, dtype=np.uint8)\n",
        "  X_train.append(x)"
      ],
      "metadata": {
        "colab": {
          "base_uri": "https://localhost:8080/"
        },
        "id": "TNGFFM_CHQLn",
        "outputId": "ef2e24d5-d8d4-4792-a325-c55f55843074"
      },
      "execution_count": 19,
      "outputs": [
        {
          "output_type": "stream",
          "name": "stdout",
          "text": [
            "Loading data set...\n"
          ]
        }
      ]
    },
    {
      "cell_type": "code",
      "source": [
        "def softlabel(label,num_class):\n",
        "    softlabel=np.zeros((len(label),num_class))\n",
        "    ratio = 1.0/50\n",
        "    for i in range(len(label)):\n",
        "        for j in range(num_class):\n",
        "            softlabel[i,j]=1.0 - ratio*np.abs(j-label[i])\n",
        "    softlabel = np.maximum(softlabel,0)\n",
        "    return softlabel"
      ],
      "metadata": {
        "id": "Z82u4e5SHYyA"
      },
      "execution_count": 20,
      "outputs": []
    },
    {
      "cell_type": "code",
      "source": [
        "y = np.asarray(y_age)\n",
        "gender = np.asarray(y_gender)\n",
        "x=np.asarray(X_train, dtype=np.float32)\n",
        "x/255\n",
        "gender =2*( gender-0.5)\n",
        "x_final = []\n",
        "y_final = []\n",
        "gender_final = []\n",
        "\n",
        "# Shuffle images and split into train, validation and test sets\n",
        "#random_no = np.random.choice(x.shape[0], size=x.shape[0], replace=False)\n",
        "random_no = np.arange(x.shape[0])\n",
        "#print(random_no)\n",
        "np.random.seed(0)\n",
        "np.random.shuffle(random_no)\n",
        "for i in random_no:\n",
        "    x_final.append(x[i,:,:,:])\n",
        "    y_final.append(y[i])\n",
        "    gender_final.append(gender[i])\n",
        "\n",
        "x_final = np.asarray(x_final)\n",
        "y_final = np.asarray(y_final)\n",
        "gender_final = np.asarray(gender_final)\n",
        "print (y_final[:50])\n",
        "print (gender_final[:50])\n",
        "k = 10 # Decides split count\n",
        "x_test = x_final[:k,:,:,:]\n",
        "y_test = y_final[:k]\n",
        "gender_test = gender_final[:k]\n",
        "x_valid = x_final[k:2*k,:,:,:]\n",
        "y_valid = y_final[k:2*k]\n",
        "gender_valid = gender_final[k:2*k]\n",
        "x_train = x_final[2*k:,:,:,:]\n",
        "y_train = y_final[2*k:]\n",
        "gender_train = gender_final[2*k:]\n",
        "\n",
        "## \n",
        "#y_test = keras.utils.to_categorical(y_test,240)\n",
        "#y_train = keras.utils.to_categorical(y_train,240)\n",
        "#y_valid = keras.utils.to_categorical(y_valid,240)\n",
        "y_train = softlabel(y_train,240)\n",
        "y_valid = softlabel(y_valid,240)\n",
        "y_test = softlabel(y_test,240)\n",
        "print (y_train)\n",
        "\n",
        "\n",
        "print ('x_train shape:'+ str(x_train.shape))\n",
        "print ('y_train shape:'+ str(y_train.shape))\n",
        "print ('gender_train shape:'+ str(gender_train.shape))\n",
        "print ('x_valid shape:'+ str(x_valid.shape))\n",
        "print ('y_valid shape:'+ str(y_valid.shape))\n",
        "print ('gender_valid shape:' + str(gender_valid.shape))\n",
        "print ('x_test shape:'+ str(x_test.shape))\n",
        "print ('y_test shape:'+ str(y_test.shape))\n"
      ],
      "metadata": {
        "colab": {
          "base_uri": "https://localhost:8080/"
        },
        "id": "a0TN-ZPAH1pI",
        "outputId": "78b66a0e-7e40-4d6b-823c-0b537336d3b1"
      },
      "execution_count": 21,
      "outputs": [
        {
          "output_type": "stream",
          "name": "stdout",
          "text": [
            "[126 149 113 132 156 180 156  42 126 126  42  30  78 174  88 165  32 132\n",
            " 156  82 192 170  94  32 156 120  60  33 126  54  27 108  94 162 120  21\n",
            " 188  33 136  24   4  12 132  36  57  24  90 138 138 159]\n",
            "[ 1.  1. -1. -1. -1.  1.  1. -1.  1. -1.  1. -1.  1.  1. -1.  1.  1.  1.\n",
            "  1. -1.  1.  1. -1.  1.  1.  1.  1.  1. -1.  1. -1.  1. -1. -1. -1. -1.\n",
            " -1. -1. -1. -1. -1. -1. -1.  1.  1. -1.  1.  1.  1. -1.]\n",
            "[[0.   0.   0.   ... 0.1  0.08 0.06]\n",
            " [0.   0.   0.   ... 0.   0.   0.  ]\n",
            " [0.   0.   0.   ... 0.   0.   0.  ]\n",
            " ...\n",
            " [0.   0.02 0.04 ... 0.   0.   0.  ]\n",
            " [0.52 0.54 0.56 ... 0.   0.   0.  ]\n",
            " [0.   0.   0.   ... 0.   0.   0.  ]]\n",
            "x_train shape:(51, 300, 300, 3)\n",
            "y_train shape:(51, 240)\n",
            "gender_train shape:(51,)\n",
            "x_valid shape:(10, 300, 300, 3)\n",
            "y_valid shape:(10, 240)\n",
            "gender_valid shape:(10,)\n",
            "x_test shape:(10, 300, 300, 3)\n",
            "y_test shape:(10, 240)\n"
          ]
        }
      ]
    },
    {
      "cell_type": "code",
      "source": [
        "!pip install visualization"
      ],
      "metadata": {
        "colab": {
          "base_uri": "https://localhost:8080/"
        },
        "id": "A-MKAQxgH6fo",
        "outputId": "db21e79b-94a7-41ba-b227-e8437c602989"
      },
      "execution_count": 25,
      "outputs": [
        {
          "output_type": "stream",
          "name": "stdout",
          "text": [
            "Looking in indexes: https://pypi.org/simple, https://us-python.pkg.dev/colab-wheels/public/simple/\n",
            "Collecting visualization\n",
            "  Downloading visualization-1.0.0-py3-none-any.whl (13 kB)\n",
            "Collecting pyrender\n",
            "  Downloading pyrender-0.1.45-py3-none-any.whl (1.2 MB)\n",
            "\u001b[K     |████████████████████████████████| 1.2 MB 14.5 MB/s \n",
            "\u001b[?25hRequirement already satisfied: numpy in /usr/local/lib/python3.7/dist-packages (from visualization) (1.21.6)\n",
            "Collecting autolab-core\n",
            "  Downloading autolab_core-1.1.1-py3-none-any.whl (116 kB)\n",
            "\u001b[K     |████████████████████████████████| 116 kB 57.5 MB/s \n",
            "\u001b[?25hCollecting trimesh[easy]\n",
            "  Downloading trimesh-3.16.4-py3-none-any.whl (663 kB)\n",
            "\u001b[K     |████████████████████████████████| 663 kB 70.1 MB/s \n",
            "\u001b[?25hRequirement already satisfied: matplotlib in /usr/local/lib/python3.7/dist-packages (from visualization) (3.2.2)\n",
            "Requirement already satisfied: imageio in /usr/local/lib/python3.7/dist-packages (from visualization) (2.9.0)\n",
            "Collecting ruamel.yaml\n",
            "  Downloading ruamel.yaml-0.17.21-py3-none-any.whl (109 kB)\n",
            "\u001b[K     |████████████████████████████████| 109 kB 72.5 MB/s \n",
            "\u001b[?25hRequirement already satisfied: opencv-python in /usr/local/lib/python3.7/dist-packages (from autolab-core->visualization) (4.6.0.66)\n",
            "Requirement already satisfied: joblib in /usr/local/lib/python3.7/dist-packages (from autolab-core->visualization) (1.2.0)\n",
            "Collecting colorlog\n",
            "  Downloading colorlog-6.7.0-py2.py3-none-any.whl (11 kB)\n",
            "Collecting multiprocess\n",
            "  Downloading multiprocess-0.70.14-py37-none-any.whl (115 kB)\n",
            "\u001b[K     |████████████████████████████████| 115 kB 71.9 MB/s \n",
            "\u001b[?25hRequirement already satisfied: Pillow in /usr/local/lib/python3.7/dist-packages (from autolab-core->visualization) (7.1.2)\n",
            "Requirement already satisfied: scikit-learn in /usr/local/lib/python3.7/dist-packages (from autolab-core->visualization) (1.0.2)\n",
            "Collecting setproctitle\n",
            "  Downloading setproctitle-1.3.2-cp37-cp37m-manylinux_2_5_x86_64.manylinux1_x86_64.manylinux_2_17_x86_64.manylinux2014_x86_64.whl (30 kB)\n",
            "Requirement already satisfied: scipy in /usr/local/lib/python3.7/dist-packages (from autolab-core->visualization) (1.7.3)\n",
            "Requirement already satisfied: scikit-image in /usr/local/lib/python3.7/dist-packages (from autolab-core->visualization) (0.18.3)\n",
            "Requirement already satisfied: cycler>=0.10 in /usr/local/lib/python3.7/dist-packages (from matplotlib->visualization) (0.11.0)\n",
            "Requirement already satisfied: python-dateutil>=2.1 in /usr/local/lib/python3.7/dist-packages (from matplotlib->visualization) (2.8.2)\n",
            "Requirement already satisfied: kiwisolver>=1.0.1 in /usr/local/lib/python3.7/dist-packages (from matplotlib->visualization) (1.4.4)\n",
            "Requirement already satisfied: pyparsing!=2.0.4,!=2.1.2,!=2.1.6,>=2.0.1 in /usr/local/lib/python3.7/dist-packages (from matplotlib->visualization) (3.0.9)\n",
            "Requirement already satisfied: typing-extensions in /usr/local/lib/python3.7/dist-packages (from kiwisolver>=1.0.1->matplotlib->visualization) (4.1.1)\n",
            "Requirement already satisfied: six>=1.5 in /usr/local/lib/python3.7/dist-packages (from python-dateutil>=2.1->matplotlib->visualization) (1.15.0)\n",
            "Requirement already satisfied: dill>=0.3.6 in /usr/local/lib/python3.7/dist-packages (from multiprocess->autolab-core->visualization) (0.3.6)\n",
            "Collecting freetype-py\n",
            "  Downloading freetype_py-2.3.0-py3-none-manylinux_2_5_x86_64.manylinux1_x86_64.manylinux_2_12_x86_64.manylinux2010_x86_64.whl (978 kB)\n",
            "\u001b[K     |████████████████████████████████| 978 kB 63.6 MB/s \n",
            "\u001b[?25hCollecting pyglet>=1.4.10\n",
            "  Downloading pyglet-2.0.0-py3-none-any.whl (966 kB)\n",
            "\u001b[K     |████████████████████████████████| 966 kB 65.7 MB/s \n",
            "\u001b[?25hCollecting PyOpenGL==3.1.0\n",
            "  Downloading PyOpenGL-3.1.0.zip (2.2 MB)\n",
            "\u001b[K     |████████████████████████████████| 2.2 MB 61.3 MB/s \n",
            "\u001b[?25hRequirement already satisfied: networkx in /usr/local/lib/python3.7/dist-packages (from pyrender->visualization) (2.6.3)\n",
            "Collecting ruamel.yaml.clib>=0.2.6\n",
            "  Downloading ruamel.yaml.clib-0.2.7-cp37-cp37m-manylinux_2_17_x86_64.manylinux2014_x86_64.manylinux_2_24_x86_64.whl (500 kB)\n",
            "\u001b[K     |████████████████████████████████| 500 kB 68.2 MB/s \n",
            "\u001b[?25hRequirement already satisfied: PyWavelets>=1.1.1 in /usr/local/lib/python3.7/dist-packages (from scikit-image->autolab-core->visualization) (1.3.0)\n",
            "Requirement already satisfied: tifffile>=2019.7.26 in /usr/local/lib/python3.7/dist-packages (from scikit-image->autolab-core->visualization) (2021.11.2)\n",
            "Requirement already satisfied: threadpoolctl>=2.0.0 in /usr/local/lib/python3.7/dist-packages (from scikit-learn->autolab-core->visualization) (3.1.0)\n",
            "Collecting rtree\n",
            "  Downloading Rtree-1.0.1-cp37-cp37m-manylinux_2_17_x86_64.manylinux2014_x86_64.whl (1.0 MB)\n",
            "\u001b[K     |████████████████████████████████| 1.0 MB 65.3 MB/s \n",
            "\u001b[?25hCollecting pycollada\n",
            "  Downloading pycollada-0.7.2.tar.gz (107 kB)\n",
            "\u001b[K     |████████████████████████████████| 107 kB 71.7 MB/s \n",
            "\u001b[?25hRequirement already satisfied: lxml in /usr/local/lib/python3.7/dist-packages (from trimesh[easy]->visualization) (4.9.1)\n",
            "Requirement already satisfied: requests in /usr/local/lib/python3.7/dist-packages (from trimesh[easy]->visualization) (2.23.0)\n",
            "Collecting svg.path\n",
            "  Downloading svg.path-6.2-py2.py3-none-any.whl (40 kB)\n",
            "\u001b[K     |████████████████████████████████| 40 kB 6.6 MB/s \n",
            "\u001b[?25hRequirement already satisfied: chardet in /usr/local/lib/python3.7/dist-packages (from trimesh[easy]->visualization) (3.0.4)\n",
            "Requirement already satisfied: msgpack in /usr/local/lib/python3.7/dist-packages (from trimesh[easy]->visualization) (1.0.4)\n",
            "Collecting pyglet>=1.4.10\n",
            "  Downloading pyglet-1.5.27-py3-none-any.whl (1.1 MB)\n",
            "\u001b[K     |████████████████████████████████| 1.1 MB 62.8 MB/s \n",
            "\u001b[?25hRequirement already satisfied: sympy in /usr/local/lib/python3.7/dist-packages (from trimesh[easy]->visualization) (1.7.1)\n",
            "Requirement already satisfied: setuptools in /usr/local/lib/python3.7/dist-packages (from trimesh[easy]->visualization) (57.4.0)\n",
            "Requirement already satisfied: jsonschema in /usr/local/lib/python3.7/dist-packages (from trimesh[easy]->visualization) (4.3.3)\n",
            "Collecting mapbox-earcut\n",
            "  Downloading mapbox_earcut-1.0.0-cp37-cp37m-manylinux_2_12_x86_64.manylinux2010_x86_64.whl (98 kB)\n",
            "\u001b[K     |████████████████████████████████| 98 kB 9.7 MB/s \n",
            "\u001b[?25hRequirement already satisfied: shapely in /usr/local/lib/python3.7/dist-packages (from trimesh[easy]->visualization) (1.8.5.post1)\n",
            "Collecting xxhash\n",
            "  Downloading xxhash-3.1.0-cp37-cp37m-manylinux_2_17_x86_64.manylinux2014_x86_64.whl (212 kB)\n",
            "\u001b[K     |████████████████████████████████| 212 kB 70.7 MB/s \n",
            "\u001b[?25hRequirement already satisfied: pyrsistent!=0.17.0,!=0.17.1,!=0.17.2,>=0.14.0 in /usr/local/lib/python3.7/dist-packages (from jsonschema->trimesh[easy]->visualization) (0.19.2)\n",
            "Requirement already satisfied: importlib-resources>=1.4.0 in /usr/local/lib/python3.7/dist-packages (from jsonschema->trimesh[easy]->visualization) (5.10.0)\n",
            "Requirement already satisfied: importlib-metadata in /usr/local/lib/python3.7/dist-packages (from jsonschema->trimesh[easy]->visualization) (4.13.0)\n",
            "Requirement already satisfied: attrs>=17.4.0 in /usr/local/lib/python3.7/dist-packages (from jsonschema->trimesh[easy]->visualization) (22.1.0)\n",
            "Requirement already satisfied: zipp>=3.1.0 in /usr/local/lib/python3.7/dist-packages (from importlib-resources>=1.4.0->jsonschema->trimesh[easy]->visualization) (3.10.0)\n",
            "Requirement already satisfied: urllib3!=1.25.0,!=1.25.1,<1.26,>=1.21.1 in /usr/local/lib/python3.7/dist-packages (from requests->trimesh[easy]->visualization) (1.24.3)\n",
            "Requirement already satisfied: idna<3,>=2.5 in /usr/local/lib/python3.7/dist-packages (from requests->trimesh[easy]->visualization) (2.10)\n",
            "Requirement already satisfied: certifi>=2017.4.17 in /usr/local/lib/python3.7/dist-packages (from requests->trimesh[easy]->visualization) (2022.9.24)\n",
            "Requirement already satisfied: mpmath>=0.19 in /usr/local/lib/python3.7/dist-packages (from sympy->trimesh[easy]->visualization) (1.2.1)\n",
            "Building wheels for collected packages: PyOpenGL, pycollada\n",
            "  Building wheel for PyOpenGL (setup.py) ... \u001b[?25l\u001b[?25hdone\n",
            "  Created wheel for PyOpenGL: filename=PyOpenGL-3.1.0-py3-none-any.whl size=1745210 sha256=8efe0f1e3d8a60941febb544b60f020a5ae8a3998dfe77a98d3ceef916b8c390\n",
            "  Stored in directory: /root/.cache/pip/wheels/c6/83/cb/af51a0c06c33d08537b941bbfc87469e8a3c68d05f77a6a212\n",
            "  Building wheel for pycollada (setup.py) ... \u001b[?25l\u001b[?25hdone\n",
            "  Created wheel for pycollada: filename=pycollada-0.7.2-py3-none-any.whl size=127026 sha256=3ba057661eeb0f79a402d62c4752d7ae6ae7f9485379711c2b4ad95a576e473b\n",
            "  Stored in directory: /root/.cache/pip/wheels/19/0b/be/6cad4a774484615180dc30a68ff3635fbc36cccf489bcd6543\n",
            "Successfully built PyOpenGL pycollada\n",
            "Installing collected packages: ruamel.yaml.clib, xxhash, trimesh, svg.path, setproctitle, ruamel.yaml, rtree, PyOpenGL, pyglet, pycollada, multiprocess, mapbox-earcut, freetype-py, colorlog, pyrender, autolab-core, visualization\n",
            "  Attempting uninstall: PyOpenGL\n",
            "    Found existing installation: PyOpenGL 3.1.6\n",
            "    Uninstalling PyOpenGL-3.1.6:\n",
            "      Successfully uninstalled PyOpenGL-3.1.6\n",
            "Successfully installed PyOpenGL-3.1.0 autolab-core-1.1.1 colorlog-6.7.0 freetype-py-2.3.0 mapbox-earcut-1.0.0 multiprocess-0.70.14 pycollada-0.7.2 pyglet-1.5.27 pyrender-0.1.45 rtree-1.0.1 ruamel.yaml-0.17.21 ruamel.yaml.clib-0.2.7 setproctitle-1.3.2 svg.path-6.2 trimesh-3.16.4 visualization-1.0.0 xxhash-3.1.0\n"
          ]
        }
      ]
    },
    {
      "cell_type": "code",
      "source": [
        "from visualization import *\n",
        "import numpy as np\n",
        "import cv2\n",
        "from keras import backend as K\n",
        "from keras.preprocessing import image\n",
        "import os\n",
        "\n",
        "\n",
        "def ShowAttentionV1(model,image_path):\n",
        "    file_list = os.listdir(image_path)\n",
        "    file_list.sort()\n",
        "    for filename in file_list:\n",
        "        print (filename)\n",
        "        filepath=image_path+filename\n",
        "        image=load_image(filepath)\n",
        "        image = image/255.0\n",
        "        gender=1.0\n",
        "        gender=np.asarray(gender)\n",
        "        gender=np.expand_dims(gender,axis=0)\n",
        "        layer=K.function([model.layers[0].input],[model.layers[196].output])\n",
        "        FeatureMap=layer([image,gender])[0]\n",
        "        print (FeatureMap.shape)\n",
        "        FeatureMap = np.squeeze(FeatureMap, axis=0)\n",
        "        FeatureMap = np.abs(FeatureMap)\n",
        "        heatmap = np.mean(FeatureMap,axis=2)\n",
        "        heatmap = heatmap/np.max(heatmap)\n",
        "        heatmap = np.uint8(255*heatmap)\n",
        "        print (heatmap.shape)\n",
        "        heatmap = cv2.applyColorMap(heatmap,cv2.COLORMAP_JET)\n",
        "        SaveImg(filename,filepath,heatmap)\n",
        "    print ('********** Done ***********')\n",
        "\n",
        "\n",
        "\n",
        "\n",
        "def GAPAttention(model,weights,image_path):\n",
        "    file_list = os.listdir(image_path)\n",
        "    file_list.sort()\n",
        "    for filename in file_list:\n",
        "        filepath=image_path+filename\n",
        "        print (filepath)\n",
        "        image=load_image(filepath)\n",
        "        print(\"gpa\")\n",
        "        print(image.shape)\n",
        "        image = image/255.0\n",
        "        gender=1.0\n",
        "        gender=np.asarray(gender)\n",
        "        gender=np.expand_dims(gender,axis=0)\n",
        "        print(\"ok\")\n",
        "        layer=K.function([model.layers[0].input],[model.layers[1].get_output_at(-1),model.layers[-1].output])\n",
        "        print(\"ok_1\")\n",
        "        GAP,prediction=layer([image])\n",
        "        print(\"ok_2\")\n",
        "        GAP=np.squeeze(GAP,axis=0)\n",
        "        print(\"ok_3\")\n",
        "        print (GAP.shape)\n",
        "        print(\"ok_4\")\n",
        "        index = np.argmax(prediction)\n",
        "        print(\"ok_5\")\n",
        "        print (index)\n",
        "       # weight = weights[:,index]\n",
        "        weight =np.mean(weights[:,index-5:index+5],axis=1)\n",
        "        heatmap = np.zeros((GAP.shape[0],GAP.shape[1]))\n",
        "        for k in range(GAP.shape[2]):\n",
        "            heatmap = heatmap + weight[k]*GAP[:,:,k]\n",
        "        heatmap = heatmap/np.max(heatmap)\n",
        "        heatmap = np.uint8(255*heatmap)\n",
        "        print (heatmap.shape)\n",
        "        heatmap = cv2.applyColorMap(heatmap,cv2.COLORMAP_JET)\n",
        "        SaveImg(filename,filepath,heatmap)\n",
        "    print ('********** Done ***********')\n",
        "\n",
        "\n",
        "\n",
        "def SaveImg(filename,filepath,heatmap):\n",
        "    img = cv2.imread(filepath)\n",
        "    heatmap = cv2.resize(heatmap,(img.shape[1],img.shape[0]))\n",
        "    AttentionImg =0.5* heatmap + img\n",
        "    cv2.imwrite('/content/heat'+filename,heatmap)\n",
        "    cv2.imwrite('/content/attention'+filename,AttentionImg)\n",
        "\n",
        "\n",
        "def load_image(path):\n",
        "    img = cv2.imread(path)\n",
        "    print(img.shape)\n",
        "    img = cv2.resize(img,(300,300))\n",
        "    print(img.shape)\n",
        "    x = np.asarray(img, dtype=np.float32)\n",
        "   # img = image.load_img(path, target_size=(448, 448))\n",
        "   # print (img.shape)\n",
        "   # x = image.img_to_array(img)\n",
        "    x = np.expand_dims(x, axis=0)\n",
        "    return x\n",
        "\n",
        "def TestMAE(model,test_data,test_label,test_gender):\n",
        "    test_gender = np.array(test_gender)\n",
        "    test_gender = np.expand_dims(test_gender,axis=1)\n",
        "    layer=K.function([model.layers[0].input,model.layers[3].input],[model.layers[-1].output])\n",
        "    predictions=layer([test_data,test_gender])\n",
        "    predictions = np.array(predictions)\n",
        "    predictions = np.squeeze(predictions,axis=0)\n",
        "    print (predictions.shape)\n",
        "    predict_label = np.argmax(predictions,axis=1)\n",
        "    test_label = np.argmax(test_label,axis=1)\n",
        "    print (predict_label)\n",
        "    print (test_label)\n",
        "    TestMAE = np.mean(np.abs(predict_label-test_label))\n",
        "    return TestMAE\n",
        "\n",
        "\n",
        "\n",
        "def DataAugment(x_train):\n",
        "    x_train_Aug = np.zeros(x_train.shape)\n",
        "    for i in range(x_train.shape[0]):\n",
        "        for j in range(3):\n",
        "            img = x_train[i,:,:,j]\n",
        "            img = RandomMask(img)\n",
        "            img = RandomMask(img)\n",
        "            if np.random.random()>-1:\n",
        "                x_train_Aug[i,:,:,j]=img \n",
        "            else:\n",
        "                x_train_Aug[i,:,:,j]=x_train[i,:,:,j]\n",
        "    return x_train_Aug\n",
        "\n",
        "\n",
        "def RandomMask(img):\n",
        "    m,n=img.shape\n",
        "    m=int(m/6)\n",
        "    n=int(n/6)\n",
        "    i,j = np.random.randint(0,6,2)\n",
        "    img[i*m:(i+1)*m,j*n:(j+1)*n]=np.random.random()\n",
        "    return img\n",
        "\n"
      ],
      "metadata": {
        "colab": {
          "base_uri": "https://localhost:8080/"
        },
        "id": "2z4Db80-IClx",
        "outputId": "57d864b8-c6ae-4e42-f0f9-2647a71f389e"
      },
      "execution_count": 26,
      "outputs": [
        {
          "output_type": "stream",
          "name": "stderr",
          "text": [
            "WARNING:root:Failed to import geometry msgs in rigid_transformations.py.\n",
            "WARNING:root:Failed to import ros dependencies in rigid_transforms.py\n",
            "WARNING:root:autolab_core not installed as catkin package, RigidTransform ros methods will be unavailable\n"
          ]
        }
      ]
    },
    {
      "cell_type": "code",
      "source": [
        "from tensorflow.keras.applications.resnet50 import ResNet50\n",
        "from keras.applications.vgg19 import VGG19\n",
        "from keras.applications.inception_v3 import InceptionV3\n",
        "from keras.applications.xception import Xception\n",
        "from keras.preprocessing import image\n",
        "from keras.models import Model, load_model\n",
        "from keras.layers import Flatten, Dense, Input, Reshape, Lambda,Conv2D\n",
        "import tensorflow as tf\n",
        "from keras import backend as K\n",
        "import pickle\n",
        "import numpy as np\n",
        "import matplotlib.pyplot as plt\n",
        "import keras\n",
        "#from func_utils import *\n",
        "import os\n",
        "#os.environ[\"CUDA_VISIBLE_DEVICES\"]=\"2\"\n",
        "#os.environ['OMP_NUM_THREADS']='6'\n",
        "batch_size = 32\n",
        "epochs = 30"
      ],
      "metadata": {
        "id": "Ko7j7X9lIrEk"
      },
      "execution_count": 37,
      "outputs": []
    },
    {
      "cell_type": "code",
      "source": [
        "base_model11 = ResNet50(weights='imagenet', include_top=False)"
      ],
      "metadata": {
        "id": "HALtGDlZI3sO",
        "outputId": "ae99f922-7808-45ce-cfb3-ab61795b9418",
        "colab": {
          "base_uri": "https://localhost:8080/"
        }
      },
      "execution_count": 28,
      "outputs": [
        {
          "output_type": "stream",
          "name": "stdout",
          "text": [
            "Downloading data from https://storage.googleapis.com/tensorflow/keras-applications/resnet/resnet50_weights_tf_dim_ordering_tf_kernels_notop.h5\n",
            "94765736/94765736 [==============================] - 3s 0us/step\n"
          ]
        }
      ]
    },
    {
      "cell_type": "code",
      "source": [
        "base_model11.trainable = True\n",
        "print(\"Number of layers in the base model: \", len(base_model11.layers))\n",
        "\n",
        "# Fine-tune from this layer onwards\n",
        "fine_tune_at = 100\n",
        "\n",
        "# Freeze all the layers before the `fine_tune_at` layer\n",
        "for layer in base_model11.layers[:fine_tune_at]:\n",
        "  layer.trainable = False"
      ],
      "metadata": {
        "id": "lvd4LGhaI_rT",
        "outputId": "ec9e0bc7-5951-4bf5-b581-9eb79c58c976",
        "colab": {
          "base_uri": "https://localhost:8080/"
        }
      },
      "execution_count": 29,
      "outputs": [
        {
          "output_type": "stream",
          "name": "stdout",
          "text": [
            "Number of layers in the base model:  175\n"
          ]
        }
      ]
    },
    {
      "cell_type": "code",
      "source": [
        "def channel_attention(input_feature):\n",
        "  kernel_initializer = tf.keras.initializers.variance_scaling()\n",
        "  bias_initializer = tf.constant_initializer(value=0.0)\n",
        "  channel = input_feature.get_shape()[-1]\n",
        "  ratio=8\n",
        "  avg_pool = tf.reduce_mean(input_feature, axis=[1,2], keepdims=True)\n",
        "  assert avg_pool.get_shape()[1:] == (1,1,channel)\n",
        "  avg_pool =Dense(\n",
        "                                 units=channel//ratio,\n",
        "                                 activation=tf.nn.relu,\n",
        "                                 kernel_initializer=kernel_initializer,\n",
        "                                 bias_initializer=bias_initializer) (avg_pool)\n",
        "  assert avg_pool.get_shape()[1:] == (1,1,channel//ratio)\n",
        "  avg_pool = Dense(\n",
        "                                 units=channel,                             \n",
        "                                 kernel_initializer=kernel_initializer,\n",
        "                                 bias_initializer=bias_initializer)  (avg_pool)  \n",
        "  assert avg_pool.get_shape()[1:] == (1,1,channel)\n",
        "\n",
        "  max_pool = tf.reduce_max(input_feature, axis=[1,2], keepdims=True)    \n",
        "  assert max_pool.get_shape()[1:] == (1,1,channel)\n",
        "  max_pool = Dense(\n",
        "                                 units=channel//ratio,\n",
        "                                 activation=tf.nn.relu) (max_pool)  \n",
        "  assert max_pool.get_shape()[1:] == (1,1,channel//ratio)\n",
        "  max_pool = Dense(\n",
        "                                 units=channel)  (max_pool)\n",
        "  assert max_pool.get_shape()[1:] == (1,1,channel)\n",
        "\n",
        "  scale = tf.keras.activations.sigmoid(avg_pool + max_pool) \n",
        "  return input_feature * scale\n"
      ],
      "metadata": {
        "id": "wRw98DsAJSiN"
      },
      "execution_count": 52,
      "outputs": []
    },
    {
      "cell_type": "code",
      "source": [
        "def spatial_attention(input_feature):\n",
        "  kernel_size = 7\n",
        "  kernel_initializer = tf.keras.initializers.variance_scaling()\n",
        "\n",
        "  avg_pool = tf.reduce_mean(input_feature, axis=[3], keepdims=True)\n",
        "  assert avg_pool.get_shape()[-1] == 1\n",
        "  max_pool = tf.reduce_max(input_feature, axis=[3], keepdims=True)\n",
        "  assert max_pool.get_shape()[-1] == 1\n",
        "  concat = tf.concat([avg_pool,max_pool], 3)\n",
        "  assert concat.get_shape()[-1] == 2\n",
        "\n",
        "  concat = Conv2D(\n",
        "                              filters=1,\n",
        "                              kernel_size=[kernel_size,kernel_size],\n",
        "                              strides=[1,1],\n",
        "                              padding=\"same\",\n",
        "                              activation=None,\n",
        "                              kernel_initializer=kernel_initializer,\n",
        "                              use_bias=False)(concat)\n",
        "  assert concat.get_shape()[-1] == 1\n",
        "  concat = tf.keras.activations.sigmoid(concat)\n",
        "    \n",
        "  return input_feature * concat"
      ],
      "metadata": {
        "id": "lEvkPbShNQlx"
      },
      "execution_count": 55,
      "outputs": []
    },
    {
      "cell_type": "code",
      "source": [
        "input11 = Input(shape=(300,300,3),name='input1')\n",
        "input_gender11 = Input(shape=(1,),dtype='float32',name='input2')\n",
        "output11 = base_model11(input11)\n",
        "gender_embedding11=Dense(16)(input_gender11)\n",
        "print (K.int_shape(output11))\n",
        "x11=channel_attention(output11)\n",
        "print (K.int_shape(x11))\n",
        "x11=spatial_attention(x11)\n",
        "print (K.int_shape(x11))\n",
        "x11 = keras.layers.MaxPooling2D(pool_size=(8,8))(x11)\n",
        "print (K.int_shape(x11))\n",
        "x11=Flatten()(x11)\n",
        "f11 = keras.layers.Concatenate(axis=1)([x11,gender_embedding11])\n",
        "print (K.int_shape(f11)) \n",
        "#x = Dense(256, activation='relu')(x)\n",
        "prediction11 = Dense(240)(x11)\n",
        "\n",
        "model11 = Model(inputs=[input11,input_gender11], outputs=prediction11)\n",
        "for i,layer in enumerate(model11.layers):\n",
        "    print (i,layer.name)\n",
        "\n",
        "Adam=tf.keras.optimizers.Adam(lr=0.0003,beta_1=0.9,beta_2=0.999)\n",
        "model11.compile(optimizer=Adam, loss='mean_absolute_error', metrics=['MAE'])"
      ],
      "metadata": {
        "id": "SQPE7PrOJFrs",
        "outputId": "69ac45db-d163-40fa-feec-18bd2ba98b24",
        "colab": {
          "base_uri": "https://localhost:8080/"
        }
      },
      "execution_count": 64,
      "outputs": [
        {
          "output_type": "stream",
          "name": "stdout",
          "text": [
            "(None, 10, 10, 2048)\n",
            "(None, 10, 10, 2048)\n",
            "(None, 10, 10, 2048)\n",
            "(None, 1, 1, 2048)\n",
            "(None, 2064)\n",
            "0 input1\n",
            "1 resnet50\n",
            "2 tf.math.reduce_mean_13\n",
            "3 tf.math.reduce_max_6\n",
            "4 dense_32\n",
            "5 dense_34\n",
            "6 dense_33\n",
            "7 dense_35\n",
            "8 tf.__operators__.add_4\n",
            "9 tf.math.sigmoid_6\n",
            "10 tf.math.multiply_6\n",
            "11 tf.math.reduce_mean_14\n",
            "12 tf.math.reduce_max_7\n",
            "13 tf.concat_2\n",
            "14 conv2d_2\n",
            "15 tf.math.sigmoid_7\n",
            "16 tf.math.multiply_7\n",
            "17 max_pooling2d_3\n",
            "18 flatten_3\n",
            "19 input2\n",
            "20 dense_36\n"
          ]
        }
      ]
    },
    {
      "cell_type": "code",
      "source": [
        "len(model11.trainable_variables)"
      ],
      "metadata": {
        "id": "hbDJTeMPOMuL",
        "outputId": "48e6714b-3cbb-4f04-d639-0b669b3ae9be",
        "colab": {
          "base_uri": "https://localhost:8080/"
        }
      },
      "execution_count": 65,
      "outputs": [
        {
          "output_type": "execute_result",
          "data": {
            "text/plain": [
              "101"
            ]
          },
          "metadata": {},
          "execution_count": 65
        }
      ]
    },
    {
      "cell_type": "code",
      "source": [
        "checkpoint =keras.callbacks.ModelCheckpoint(filepath='weights.{epoch:02d}-{val_loss:.2f}.hdf5',save_weights_only=True,period=30)\n",
        "history11=model11.fit([x_train,gender_train],y_train,batch_size=batch_size,epochs=100,verbose=1,validation_data=([x_valid,gender_valid],y_valid), callbacks = [checkpoint])"
      ],
      "metadata": {
        "id": "CqwBHvm_WBrE",
        "outputId": "aca3a43a-f062-4096-e34a-67d6a17f5a37",
        "colab": {
          "base_uri": "https://localhost:8080/"
        }
      },
      "execution_count": 66,
      "outputs": [
        {
          "output_type": "stream",
          "name": "stderr",
          "text": [
            "WARNING:tensorflow:`period` argument is deprecated. Please use `save_freq` to specify the frequency in number of batches seen.\n"
          ]
        },
        {
          "output_type": "stream",
          "name": "stdout",
          "text": [
            "Epoch 1/100\n",
            "2/2 [==============================] - 6s 1s/step - loss: 0.2012 - MAE: 0.2012 - val_loss: 0.2053 - val_MAE: 0.2053\n",
            "Epoch 2/100\n",
            "2/2 [==============================] - 1s 300ms/step - loss: 0.2012 - MAE: 0.2012 - val_loss: 0.2053 - val_MAE: 0.2053\n",
            "Epoch 3/100\n",
            "2/2 [==============================] - 1s 295ms/step - loss: 0.2012 - MAE: 0.2012 - val_loss: 0.2052 - val_MAE: 0.2052\n",
            "Epoch 4/100\n",
            "2/2 [==============================] - 1s 293ms/step - loss: 0.2012 - MAE: 0.2012 - val_loss: 0.2053 - val_MAE: 0.2053\n",
            "Epoch 5/100\n",
            "2/2 [==============================] - 1s 294ms/step - loss: 0.2012 - MAE: 0.2012 - val_loss: 0.2053 - val_MAE: 0.2053\n",
            "Epoch 6/100\n",
            "2/2 [==============================] - 1s 295ms/step - loss: 0.2012 - MAE: 0.2012 - val_loss: 0.2052 - val_MAE: 0.2052\n",
            "Epoch 7/100\n",
            "2/2 [==============================] - 1s 375ms/step - loss: 0.2012 - MAE: 0.2012 - val_loss: 0.2052 - val_MAE: 0.2052\n",
            "Epoch 8/100\n",
            "2/2 [==============================] - 1s 294ms/step - loss: 0.2012 - MAE: 0.2012 - val_loss: 0.2052 - val_MAE: 0.2052\n",
            "Epoch 9/100\n",
            "2/2 [==============================] - 1s 300ms/step - loss: 0.2012 - MAE: 0.2012 - val_loss: 0.2052 - val_MAE: 0.2052\n",
            "Epoch 10/100\n",
            "2/2 [==============================] - 1s 377ms/step - loss: 0.2013 - MAE: 0.2013 - val_loss: 0.2053 - val_MAE: 0.2053\n",
            "Epoch 11/100\n",
            "2/2 [==============================] - 1s 293ms/step - loss: 0.2012 - MAE: 0.2012 - val_loss: 0.2095 - val_MAE: 0.2095\n",
            "Epoch 12/100\n",
            "2/2 [==============================] - 1s 302ms/step - loss: 0.2012 - MAE: 0.2012 - val_loss: 0.2187 - val_MAE: 0.2187\n",
            "Epoch 13/100\n",
            "2/2 [==============================] - 1s 376ms/step - loss: 0.2012 - MAE: 0.2012 - val_loss: 0.2167 - val_MAE: 0.2167\n",
            "Epoch 14/100\n",
            "2/2 [==============================] - 1s 298ms/step - loss: 0.2012 - MAE: 0.2012 - val_loss: 0.2136 - val_MAE: 0.2136\n",
            "Epoch 15/100\n",
            "2/2 [==============================] - 1s 304ms/step - loss: 0.2013 - MAE: 0.2013 - val_loss: 0.2113 - val_MAE: 0.2113\n",
            "Epoch 16/100\n",
            "2/2 [==============================] - 1s 305ms/step - loss: 0.2014 - MAE: 0.2014 - val_loss: 0.2095 - val_MAE: 0.2095\n",
            "Epoch 17/100\n",
            "2/2 [==============================] - 1s 321ms/step - loss: 0.2014 - MAE: 0.2014 - val_loss: 0.2148 - val_MAE: 0.2148\n",
            "Epoch 18/100\n",
            "2/2 [==============================] - 1s 322ms/step - loss: 0.2014 - MAE: 0.2014 - val_loss: 0.2174 - val_MAE: 0.2174\n",
            "Epoch 19/100\n",
            "2/2 [==============================] - 1s 326ms/step - loss: 0.2039 - MAE: 0.2039 - val_loss: 0.2136 - val_MAE: 0.2136\n",
            "Epoch 20/100\n",
            "2/2 [==============================] - 1s 323ms/step - loss: 0.2012 - MAE: 0.2012 - val_loss: 0.2430 - val_MAE: 0.2430\n",
            "Epoch 21/100\n",
            "2/2 [==============================] - 1s 332ms/step - loss: 0.2011 - MAE: 0.2011 - val_loss: 0.3104 - val_MAE: 0.3104\n",
            "Epoch 22/100\n",
            "2/2 [==============================] - 1s 318ms/step - loss: 0.2012 - MAE: 0.2012 - val_loss: 0.4397 - val_MAE: 0.4397\n",
            "Epoch 23/100\n",
            "2/2 [==============================] - 1s 328ms/step - loss: 0.2011 - MAE: 0.2011 - val_loss: 0.6700 - val_MAE: 0.6700\n",
            "Epoch 24/100\n",
            "2/2 [==============================] - 1s 328ms/step - loss: 0.2011 - MAE: 0.2011 - val_loss: 0.9416 - val_MAE: 0.9416\n",
            "Epoch 25/100\n",
            "2/2 [==============================] - 1s 394ms/step - loss: 0.2011 - MAE: 0.2011 - val_loss: 1.1129 - val_MAE: 1.1129\n",
            "Epoch 26/100\n",
            "2/2 [==============================] - 1s 331ms/step - loss: 0.2011 - MAE: 0.2011 - val_loss: 1.2995 - val_MAE: 1.2995\n",
            "Epoch 27/100\n",
            "2/2 [==============================] - 1s 323ms/step - loss: 0.2011 - MAE: 0.2011 - val_loss: 1.1505 - val_MAE: 1.1505\n",
            "Epoch 28/100\n",
            "2/2 [==============================] - 1s 323ms/step - loss: 0.2011 - MAE: 0.2011 - val_loss: 1.0620 - val_MAE: 1.0620\n",
            "Epoch 29/100\n",
            "2/2 [==============================] - 1s 318ms/step - loss: 0.2011 - MAE: 0.2011 - val_loss: 1.0010 - val_MAE: 1.0010\n",
            "Epoch 30/100\n",
            "2/2 [==============================] - 1s 794ms/step - loss: 0.2011 - MAE: 0.2011 - val_loss: 0.9362 - val_MAE: 0.9362\n",
            "Epoch 31/100\n",
            "2/2 [==============================] - 1s 320ms/step - loss: 0.2011 - MAE: 0.2011 - val_loss: 0.8615 - val_MAE: 0.8615\n",
            "Epoch 32/100\n",
            "2/2 [==============================] - 1s 305ms/step - loss: 0.2011 - MAE: 0.2011 - val_loss: 0.7782 - val_MAE: 0.7782\n",
            "Epoch 33/100\n",
            "2/2 [==============================] - 1s 309ms/step - loss: 0.2011 - MAE: 0.2011 - val_loss: 0.7029 - val_MAE: 0.7029\n",
            "Epoch 34/100\n",
            "2/2 [==============================] - 1s 301ms/step - loss: 0.2011 - MAE: 0.2011 - val_loss: 0.6248 - val_MAE: 0.6248\n",
            "Epoch 35/100\n",
            "2/2 [==============================] - 1s 303ms/step - loss: 0.2011 - MAE: 0.2011 - val_loss: 0.5589 - val_MAE: 0.5589\n",
            "Epoch 36/100\n",
            "2/2 [==============================] - 1s 302ms/step - loss: 0.2011 - MAE: 0.2011 - val_loss: 0.5022 - val_MAE: 0.5022\n",
            "Epoch 37/100\n",
            "2/2 [==============================] - 1s 313ms/step - loss: 0.2011 - MAE: 0.2011 - val_loss: 0.4454 - val_MAE: 0.4454\n",
            "Epoch 38/100\n",
            "2/2 [==============================] - 1s 309ms/step - loss: 0.2011 - MAE: 0.2011 - val_loss: 0.3959 - val_MAE: 0.3959\n",
            "Epoch 39/100\n",
            "2/2 [==============================] - 1s 300ms/step - loss: 0.2011 - MAE: 0.2011 - val_loss: 0.3521 - val_MAE: 0.3521\n",
            "Epoch 40/100\n",
            "2/2 [==============================] - 1s 305ms/step - loss: 0.2011 - MAE: 0.2011 - val_loss: 0.3163 - val_MAE: 0.3163\n",
            "Epoch 41/100\n",
            "2/2 [==============================] - 1s 304ms/step - loss: 0.2011 - MAE: 0.2011 - val_loss: 0.2779 - val_MAE: 0.2779\n",
            "Epoch 42/100\n",
            "2/2 [==============================] - 1s 300ms/step - loss: 0.2011 - MAE: 0.2011 - val_loss: 0.2655 - val_MAE: 0.2655\n",
            "Epoch 43/100\n",
            "2/2 [==============================] - 1s 303ms/step - loss: 0.2012 - MAE: 0.2012 - val_loss: 0.2496 - val_MAE: 0.2496\n",
            "Epoch 44/100\n",
            "2/2 [==============================] - 1s 310ms/step - loss: 0.2011 - MAE: 0.2011 - val_loss: 0.2281 - val_MAE: 0.2281\n",
            "Epoch 45/100\n",
            "2/2 [==============================] - 1s 309ms/step - loss: 0.2011 - MAE: 0.2011 - val_loss: 0.2411 - val_MAE: 0.2411\n",
            "Epoch 46/100\n",
            "2/2 [==============================] - 1s 418ms/step - loss: 0.2011 - MAE: 0.2011 - val_loss: 0.2333 - val_MAE: 0.2333\n",
            "Epoch 47/100\n",
            "2/2 [==============================] - 1s 311ms/step - loss: 0.2011 - MAE: 0.2011 - val_loss: 0.2337 - val_MAE: 0.2337\n",
            "Epoch 48/100\n",
            "2/2 [==============================] - 1s 301ms/step - loss: 0.2011 - MAE: 0.2011 - val_loss: 0.2302 - val_MAE: 0.2302\n",
            "Epoch 49/100\n",
            "2/2 [==============================] - 1s 305ms/step - loss: 0.2011 - MAE: 0.2011 - val_loss: 0.2252 - val_MAE: 0.2252\n",
            "Epoch 50/100\n",
            "2/2 [==============================] - 1s 308ms/step - loss: 0.2010 - MAE: 0.2010 - val_loss: 0.2205 - val_MAE: 0.2205\n",
            "Epoch 51/100\n",
            "2/2 [==============================] - 1s 308ms/step - loss: 0.2010 - MAE: 0.2010 - val_loss: 0.2161 - val_MAE: 0.2161\n",
            "Epoch 52/100\n",
            "2/2 [==============================] - 1s 302ms/step - loss: 0.2010 - MAE: 0.2010 - val_loss: 0.2119 - val_MAE: 0.2119\n",
            "Epoch 53/100\n",
            "2/2 [==============================] - 1s 393ms/step - loss: 0.2010 - MAE: 0.2010 - val_loss: 0.2089 - val_MAE: 0.2089\n",
            "Epoch 54/100\n",
            "2/2 [==============================] - 1s 299ms/step - loss: 0.2010 - MAE: 0.2010 - val_loss: 0.2074 - val_MAE: 0.2074\n",
            "Epoch 55/100\n",
            "2/2 [==============================] - 1s 313ms/step - loss: 0.2010 - MAE: 0.2010 - val_loss: 0.2064 - val_MAE: 0.2064\n",
            "Epoch 56/100\n",
            "2/2 [==============================] - 1s 311ms/step - loss: 0.2010 - MAE: 0.2010 - val_loss: 0.2060 - val_MAE: 0.2060\n",
            "Epoch 57/100\n",
            "2/2 [==============================] - 1s 300ms/step - loss: 0.2010 - MAE: 0.2010 - val_loss: 0.2057 - val_MAE: 0.2057\n",
            "Epoch 58/100\n",
            "2/2 [==============================] - 1s 386ms/step - loss: 0.2010 - MAE: 0.2010 - val_loss: 0.2054 - val_MAE: 0.2054\n",
            "Epoch 59/100\n",
            "2/2 [==============================] - 1s 302ms/step - loss: 0.2010 - MAE: 0.2010 - val_loss: 0.2053 - val_MAE: 0.2053\n",
            "Epoch 60/100\n",
            "2/2 [==============================] - 1s 673ms/step - loss: 0.2010 - MAE: 0.2010 - val_loss: 0.2053 - val_MAE: 0.2053\n",
            "Epoch 61/100\n",
            "2/2 [==============================] - 1s 383ms/step - loss: 0.2010 - MAE: 0.2010 - val_loss: 0.2053 - val_MAE: 0.2053\n",
            "Epoch 62/100\n",
            "2/2 [==============================] - 1s 303ms/step - loss: 0.2012 - MAE: 0.2012 - val_loss: 0.2059 - val_MAE: 0.2059\n",
            "Epoch 63/100\n",
            "2/2 [==============================] - 1s 334ms/step - loss: 0.2011 - MAE: 0.2011 - val_loss: 0.2128 - val_MAE: 0.2128\n",
            "Epoch 64/100\n",
            "2/2 [==============================] - 1s 296ms/step - loss: 0.2010 - MAE: 0.2010 - val_loss: 0.2204 - val_MAE: 0.2204\n",
            "Epoch 65/100\n",
            "2/2 [==============================] - 1s 302ms/step - loss: 0.2011 - MAE: 0.2011 - val_loss: 0.2055 - val_MAE: 0.2055\n",
            "Epoch 66/100\n",
            "2/2 [==============================] - 1s 297ms/step - loss: 0.2010 - MAE: 0.2010 - val_loss: 0.2053 - val_MAE: 0.2053\n",
            "Epoch 67/100\n",
            "2/2 [==============================] - 1s 301ms/step - loss: 0.2010 - MAE: 0.2010 - val_loss: 0.2057 - val_MAE: 0.2057\n",
            "Epoch 68/100\n",
            "2/2 [==============================] - 1s 293ms/step - loss: 0.2010 - MAE: 0.2010 - val_loss: 0.2061 - val_MAE: 0.2061\n",
            "Epoch 69/100\n",
            "2/2 [==============================] - 1s 297ms/step - loss: 0.2010 - MAE: 0.2010 - val_loss: 0.2062 - val_MAE: 0.2062\n",
            "Epoch 70/100\n",
            "2/2 [==============================] - 1s 359ms/step - loss: 0.2010 - MAE: 0.2010 - val_loss: 0.2062 - val_MAE: 0.2062\n",
            "Epoch 71/100\n",
            "2/2 [==============================] - 1s 355ms/step - loss: 0.2010 - MAE: 0.2010 - val_loss: 0.2062 - val_MAE: 0.2062\n",
            "Epoch 72/100\n",
            "2/2 [==============================] - 1s 359ms/step - loss: 0.2010 - MAE: 0.2010 - val_loss: 0.2060 - val_MAE: 0.2060\n",
            "Epoch 73/100\n",
            "2/2 [==============================] - 1s 348ms/step - loss: 0.2010 - MAE: 0.2010 - val_loss: 0.2057 - val_MAE: 0.2057\n",
            "Epoch 74/100\n",
            "2/2 [==============================] - 1s 328ms/step - loss: 0.2010 - MAE: 0.2010 - val_loss: 0.2055 - val_MAE: 0.2055\n",
            "Epoch 75/100\n",
            "2/2 [==============================] - 1s 299ms/step - loss: 0.2010 - MAE: 0.2010 - val_loss: 0.2053 - val_MAE: 0.2053\n",
            "Epoch 76/100\n",
            "2/2 [==============================] - 1s 298ms/step - loss: 0.2010 - MAE: 0.2010 - val_loss: 0.2053 - val_MAE: 0.2053\n",
            "Epoch 77/100\n",
            "2/2 [==============================] - 1s 299ms/step - loss: 0.2010 - MAE: 0.2010 - val_loss: 0.2053 - val_MAE: 0.2053\n",
            "Epoch 78/100\n",
            "2/2 [==============================] - 1s 302ms/step - loss: 0.2010 - MAE: 0.2010 - val_loss: 0.2053 - val_MAE: 0.2053\n",
            "Epoch 79/100\n",
            "2/2 [==============================] - 1s 298ms/step - loss: 0.2010 - MAE: 0.2010 - val_loss: 0.2053 - val_MAE: 0.2053\n",
            "Epoch 80/100\n",
            "2/2 [==============================] - 1s 293ms/step - loss: 0.2010 - MAE: 0.2010 - val_loss: 0.2053 - val_MAE: 0.2053\n",
            "Epoch 81/100\n",
            "2/2 [==============================] - 1s 298ms/step - loss: 0.2010 - MAE: 0.2010 - val_loss: 0.2053 - val_MAE: 0.2053\n",
            "Epoch 82/100\n",
            "2/2 [==============================] - 1s 295ms/step - loss: 0.2010 - MAE: 0.2010 - val_loss: 0.2053 - val_MAE: 0.2053\n",
            "Epoch 83/100\n",
            "2/2 [==============================] - 1s 340ms/step - loss: 0.2010 - MAE: 0.2010 - val_loss: 0.2053 - val_MAE: 0.2053\n",
            "Epoch 84/100\n",
            "2/2 [==============================] - 1s 401ms/step - loss: 0.2010 - MAE: 0.2010 - val_loss: 0.2053 - val_MAE: 0.2053\n",
            "Epoch 85/100\n",
            "2/2 [==============================] - 1s 383ms/step - loss: 0.2010 - MAE: 0.2010 - val_loss: 0.2053 - val_MAE: 0.2053\n",
            "Epoch 86/100\n",
            "2/2 [==============================] - 1s 385ms/step - loss: 0.2010 - MAE: 0.2010 - val_loss: 0.2053 - val_MAE: 0.2053\n",
            "Epoch 87/100\n",
            "2/2 [==============================] - 1s 372ms/step - loss: 0.2010 - MAE: 0.2010 - val_loss: 0.2053 - val_MAE: 0.2053\n",
            "Epoch 88/100\n",
            "2/2 [==============================] - 1s 368ms/step - loss: 0.2010 - MAE: 0.2010 - val_loss: 0.2053 - val_MAE: 0.2053\n",
            "Epoch 89/100\n",
            "2/2 [==============================] - 1s 405ms/step - loss: 0.2010 - MAE: 0.2010 - val_loss: 0.2053 - val_MAE: 0.2053\n",
            "Epoch 90/100\n",
            "2/2 [==============================] - 2s 2s/step - loss: 0.2010 - MAE: 0.2010 - val_loss: 0.2053 - val_MAE: 0.2053\n",
            "Epoch 91/100\n",
            "2/2 [==============================] - 1s 425ms/step - loss: 0.2010 - MAE: 0.2010 - val_loss: 0.2053 - val_MAE: 0.2053\n",
            "Epoch 92/100\n",
            "2/2 [==============================] - 1s 385ms/step - loss: 0.2010 - MAE: 0.2010 - val_loss: 0.2053 - val_MAE: 0.2053\n",
            "Epoch 93/100\n",
            "2/2 [==============================] - 1s 375ms/step - loss: 0.2010 - MAE: 0.2010 - val_loss: 0.2053 - val_MAE: 0.2053\n",
            "Epoch 94/100\n",
            "2/2 [==============================] - 1s 370ms/step - loss: 0.2010 - MAE: 0.2010 - val_loss: 0.2053 - val_MAE: 0.2053\n",
            "Epoch 95/100\n",
            "2/2 [==============================] - 1s 295ms/step - loss: 0.2010 - MAE: 0.2010 - val_loss: 0.2053 - val_MAE: 0.2053\n",
            "Epoch 96/100\n",
            "2/2 [==============================] - 1s 307ms/step - loss: 0.2009 - MAE: 0.2009 - val_loss: 0.2053 - val_MAE: 0.2053\n",
            "Epoch 97/100\n",
            "2/2 [==============================] - 1s 297ms/step - loss: 0.2009 - MAE: 0.2009 - val_loss: 0.2053 - val_MAE: 0.2053\n",
            "Epoch 98/100\n",
            "2/2 [==============================] - 1s 294ms/step - loss: 0.2009 - MAE: 0.2009 - val_loss: 0.2053 - val_MAE: 0.2053\n",
            "Epoch 99/100\n",
            "2/2 [==============================] - 1s 294ms/step - loss: 0.2009 - MAE: 0.2009 - val_loss: 0.2053 - val_MAE: 0.2053\n",
            "Epoch 100/100\n",
            "2/2 [==============================] - 1s 293ms/step - loss: 0.2009 - MAE: 0.2009 - val_loss: 0.2053 - val_MAE: 0.2053\n"
          ]
        }
      ]
    },
    {
      "cell_type": "code",
      "source": [
        "loss = history11.history['loss']\n",
        "val_loss = history11.history['val_loss']\n",
        "\n",
        "plt.subplot(2, 1, 2)\n",
        "plt.plot(loss, label='Training Loss')\n",
        "plt.plot(val_loss, label='Validation Loss')\n",
        "plt.legend(loc='upper right')\n",
        "plt.ylabel('Cross Entropy')\n",
        "plt.ylim([0,1.0])\n",
        "plt.title('Training and Validation Loss')\n",
        "plt.xlabel('epoch')\n",
        "plt.show()"
      ],
      "metadata": {
        "id": "h8Dne0D5WF1W",
        "outputId": "777c6a3a-1eea-4f27-d685-d2904ad877cb",
        "colab": {
          "base_uri": "https://localhost:8080/",
          "height": 177
        }
      },
      "execution_count": 67,
      "outputs": [
        {
          "output_type": "display_data",
          "data": {
            "text/plain": [
              "<Figure size 432x288 with 1 Axes>"
            ],
            "image/png": "[encoded data removed]"
          },
          "metadata": {
            "needs_background": "light"
          }
        }
      ]
    },
    {
      "cell_type": "code",
      "source": [
        "model11.summary\n"
      ],
      "metadata": {
        "id": "Fs9_rRAIWb-X",
        "outputId": "8c203d4e-b76d-4167-e312-05841f7b287d",
        "colab": {
          "base_uri": "https://localhost:8080/"
        }
      },
      "execution_count": 60,
      "outputs": [
        {
          "output_type": "execute_result",
          "data": {
            "text/plain": [
              "<bound method Model.summary of <keras.engine.functional.Functional object at 0x7f10ae22f210>>"
            ]
          },
          "metadata": {},
          "execution_count": 60
        }
      ]
    },
    {
      "cell_type": "code",
      "source": [
        "input11 = Input(shape=(300,300,3),name='input1')\n",
        "input_gender11 = Input(shape=(1,),dtype='float32',name='input2')\n",
        "output11 = base_model11(input11)\n",
        "gender_embedding11=Dense(16)(input_gender11)\n",
        "print (K.int_shape(output11))\n",
        "x11=channel_attention(output11)\n",
        "print (K.int_shape(x11))\n",
        "#x11=spatial_attention(x11)\n",
        "#print (K.int_shape(x11))\n",
        "x11 = keras.layers.MaxPooling2D(pool_size=(8,8))(x11)\n",
        "print (K.int_shape(x11))\n",
        "x11=Flatten()(x11)\n",
        "f11 = keras.layers.Concatenate(axis=1)([x11,gender_embedding11])\n",
        "print (K.int_shape(f11)) \n",
        "#x = Dense(256, activation='relu')(x)\n",
        "prediction11 = Dense(240)(x11)\n",
        "\n",
        "model12 = Model(inputs=[input11,input_gender11], outputs=prediction11)\n",
        "for i,layer in enumerate(model11.layers):\n",
        "    print (i,layer.name)\n",
        "\n",
        "Adam=tf.keras.optimizers.Adam(lr=0.0003,beta_1=0.9,beta_2=0.999)\n",
        "model12.compile(optimizer=Adam, loss='mean_absolute_error', metrics=['MAE'])"
      ],
      "metadata": {
        "id": "3ubw8IONWnxf",
        "outputId": "ecc716dd-a398-45b6-e541-573623c86717",
        "colab": {
          "base_uri": "https://localhost:8080/"
        }
      },
      "execution_count": 71,
      "outputs": [
        {
          "output_type": "stream",
          "name": "stdout",
          "text": [
            "(None, 10, 10, 2048)\n",
            "(None, 10, 10, 2048)\n",
            "(None, 1, 1, 2048)\n",
            "(None, 2064)\n",
            "0 input1\n",
            "1 resnet50\n",
            "2 tf.math.reduce_mean_13\n",
            "3 tf.math.reduce_max_6\n",
            "4 dense_32\n",
            "5 dense_34\n",
            "6 dense_33\n",
            "7 dense_35\n",
            "8 tf.__operators__.add_4\n",
            "9 tf.math.sigmoid_6\n",
            "10 tf.math.multiply_6\n",
            "11 tf.math.reduce_mean_14\n",
            "12 tf.math.reduce_max_7\n",
            "13 tf.concat_2\n",
            "14 conv2d_2\n",
            "15 tf.math.sigmoid_7\n",
            "16 tf.math.multiply_7\n",
            "17 max_pooling2d_3\n",
            "18 flatten_3\n",
            "19 input2\n",
            "20 dense_36\n"
          ]
        },
        {
          "output_type": "stream",
          "name": "stderr",
          "text": [
            "/usr/local/lib/python3.7/dist-packages/keras/optimizers/optimizer_v2/adam.py:110: UserWarning: The `lr` argument is deprecated, use `learning_rate` instead.\n",
            "  super(Adam, self).__init__(name, **kwargs)\n"
          ]
        }
      ]
    },
    {
      "cell_type": "code",
      "source": [
        "checkpoint =keras.callbacks.ModelCheckpoint(filepath='weights.{epoch:02d}-{val_loss:.2f}.hdf5',save_weights_only=True,period=30)\n",
        "history12=model12.fit([x_train,gender_train],y_train,batch_size=batch_size,epochs=100,verbose=1,validation_data=([x_valid,gender_valid],y_valid), callbacks = [checkpoint])"
      ],
      "metadata": {
        "id": "XqFXCCw-YTW0",
        "outputId": "32a9feb0-6951-4f87-d5fc-cc570792e519",
        "colab": {
          "base_uri": "https://localhost:8080/"
        }
      },
      "execution_count": 72,
      "outputs": [
        {
          "output_type": "stream",
          "name": "stderr",
          "text": [
            "WARNING:tensorflow:`period` argument is deprecated. Please use `save_freq` to specify the frequency in number of batches seen.\n"
          ]
        },
        {
          "output_type": "stream",
          "name": "stdout",
          "text": [
            "Epoch 1/100\n",
            "2/2 [==============================] - 6s 1s/step - loss: 0.2012 - MAE: 0.2012 - val_loss: 0.2497 - val_MAE: 0.2497\n",
            "Epoch 2/100\n",
            "2/2 [==============================] - 1s 286ms/step - loss: 0.2012 - MAE: 0.2012 - val_loss: 0.2445 - val_MAE: 0.2445\n",
            "Epoch 3/100\n",
            "2/2 [==============================] - 1s 286ms/step - loss: 0.2012 - MAE: 0.2012 - val_loss: 0.2398 - val_MAE: 0.2398\n",
            "Epoch 4/100\n",
            "2/2 [==============================] - 1s 289ms/step - loss: 0.2012 - MAE: 0.2012 - val_loss: 0.2359 - val_MAE: 0.2359\n",
            "Epoch 5/100\n",
            "2/2 [==============================] - 1s 292ms/step - loss: 0.2012 - MAE: 0.2012 - val_loss: 0.2325 - val_MAE: 0.2325\n",
            "Epoch 6/100\n",
            "2/2 [==============================] - 1s 312ms/step - loss: 0.2012 - MAE: 0.2012 - val_loss: 0.2293 - val_MAE: 0.2293\n",
            "Epoch 7/100\n",
            "2/2 [==============================] - 1s 312ms/step - loss: 0.2012 - MAE: 0.2012 - val_loss: 0.2265 - val_MAE: 0.2265\n",
            "Epoch 8/100\n",
            "2/2 [==============================] - 1s 286ms/step - loss: 0.2012 - MAE: 0.2012 - val_loss: 0.2241 - val_MAE: 0.2241\n",
            "Epoch 9/100\n",
            "2/2 [==============================] - 1s 291ms/step - loss: 0.2012 - MAE: 0.2012 - val_loss: 0.2220 - val_MAE: 0.2220\n",
            "Epoch 10/100\n",
            "2/2 [==============================] - 1s 288ms/step - loss: 0.2012 - MAE: 0.2012 - val_loss: 0.2200 - val_MAE: 0.2200\n",
            "Epoch 11/100\n",
            "2/2 [==============================] - 1s 289ms/step - loss: 0.2012 - MAE: 0.2012 - val_loss: 0.2183 - val_MAE: 0.2183\n",
            "Epoch 12/100\n",
            "2/2 [==============================] - 1s 288ms/step - loss: 0.2011 - MAE: 0.2011 - val_loss: 0.2169 - val_MAE: 0.2169\n",
            "Epoch 13/100\n",
            "2/2 [==============================] - 1s 288ms/step - loss: 0.2011 - MAE: 0.2011 - val_loss: 0.2157 - val_MAE: 0.2157\n",
            "Epoch 14/100\n",
            "2/2 [==============================] - 1s 286ms/step - loss: 0.2011 - MAE: 0.2011 - val_loss: 0.2147 - val_MAE: 0.2147\n",
            "Epoch 15/100\n",
            "2/2 [==============================] - 1s 296ms/step - loss: 0.2011 - MAE: 0.2011 - val_loss: 0.2138 - val_MAE: 0.2138\n",
            "Epoch 16/100\n",
            "2/2 [==============================] - 1s 293ms/step - loss: 0.2011 - MAE: 0.2011 - val_loss: 0.2128 - val_MAE: 0.2128\n",
            "Epoch 17/100\n",
            "2/2 [==============================] - 1s 299ms/step - loss: 0.2011 - MAE: 0.2011 - val_loss: 0.2120 - val_MAE: 0.2120\n",
            "Epoch 18/100\n",
            "2/2 [==============================] - 1s 292ms/step - loss: 0.2011 - MAE: 0.2011 - val_loss: 0.2112 - val_MAE: 0.2112\n",
            "Epoch 19/100\n",
            "2/2 [==============================] - 1s 293ms/step - loss: 0.2011 - MAE: 0.2011 - val_loss: 0.2106 - val_MAE: 0.2106\n",
            "Epoch 20/100\n",
            "2/2 [==============================] - 1s 296ms/step - loss: 0.2011 - MAE: 0.2011 - val_loss: 0.2100 - val_MAE: 0.2100\n",
            "Epoch 21/100\n",
            "2/2 [==============================] - 1s 296ms/step - loss: 0.2011 - MAE: 0.2011 - val_loss: 0.2094 - val_MAE: 0.2094\n",
            "Epoch 22/100\n",
            "2/2 [==============================] - 1s 294ms/step - loss: 0.2011 - MAE: 0.2011 - val_loss: 0.2089 - val_MAE: 0.2089\n",
            "Epoch 23/100\n",
            "2/2 [==============================] - 1s 288ms/step - loss: 0.2011 - MAE: 0.2011 - val_loss: 0.2085 - val_MAE: 0.2085\n",
            "Epoch 24/100\n",
            "2/2 [==============================] - 1s 370ms/step - loss: 0.2011 - MAE: 0.2011 - val_loss: 0.2081 - val_MAE: 0.2081\n",
            "Epoch 25/100\n",
            "2/2 [==============================] - 1s 292ms/step - loss: 0.2011 - MAE: 0.2011 - val_loss: 0.2078 - val_MAE: 0.2078\n",
            "Epoch 26/100\n",
            "2/2 [==============================] - 1s 293ms/step - loss: 0.2011 - MAE: 0.2011 - val_loss: 0.2074 - val_MAE: 0.2074\n",
            "Epoch 27/100\n",
            "2/2 [==============================] - 1s 375ms/step - loss: 0.2011 - MAE: 0.2011 - val_loss: 0.2072 - val_MAE: 0.2072\n",
            "Epoch 28/100\n",
            "2/2 [==============================] - 1s 294ms/step - loss: 0.2011 - MAE: 0.2011 - val_loss: 0.2069 - val_MAE: 0.2069\n",
            "Epoch 29/100\n",
            "2/2 [==============================] - 1s 294ms/step - loss: 0.2011 - MAE: 0.2011 - val_loss: 0.2067 - val_MAE: 0.2067\n",
            "Epoch 30/100\n",
            "2/2 [==============================] - 1s 752ms/step - loss: 0.2011 - MAE: 0.2011 - val_loss: 0.2065 - val_MAE: 0.2065\n",
            "Epoch 31/100\n",
            "2/2 [==============================] - 1s 291ms/step - loss: 0.2011 - MAE: 0.2011 - val_loss: 0.2064 - val_MAE: 0.2064\n",
            "Epoch 32/100\n",
            "2/2 [==============================] - 1s 298ms/step - loss: 0.2011 - MAE: 0.2011 - val_loss: 0.2062 - val_MAE: 0.2062\n",
            "Epoch 33/100\n",
            "2/2 [==============================] - 1s 294ms/step - loss: 0.2011 - MAE: 0.2011 - val_loss: 0.2061 - val_MAE: 0.2061\n",
            "Epoch 34/100\n",
            "2/2 [==============================] - 1s 291ms/step - loss: 0.2011 - MAE: 0.2011 - val_loss: 0.2060 - val_MAE: 0.2060\n",
            "Epoch 35/100\n",
            "2/2 [==============================] - 1s 373ms/step - loss: 0.2011 - MAE: 0.2011 - val_loss: 0.2060 - val_MAE: 0.2060\n",
            "Epoch 36/100\n",
            "2/2 [==============================] - 1s 292ms/step - loss: 0.2011 - MAE: 0.2011 - val_loss: 0.2059 - val_MAE: 0.2059\n",
            "Epoch 37/100\n",
            "2/2 [==============================] - 1s 319ms/step - loss: 0.2011 - MAE: 0.2011 - val_loss: 0.2058 - val_MAE: 0.2058\n",
            "Epoch 38/100\n",
            "2/2 [==============================] - 1s 385ms/step - loss: 0.2011 - MAE: 0.2011 - val_loss: 0.2058 - val_MAE: 0.2058\n",
            "Epoch 39/100\n",
            "2/2 [==============================] - 1s 386ms/step - loss: 0.2011 - MAE: 0.2011 - val_loss: 0.2057 - val_MAE: 0.2057\n",
            "Epoch 40/100\n",
            "2/2 [==============================] - 1s 388ms/step - loss: 0.2011 - MAE: 0.2011 - val_loss: 0.2057 - val_MAE: 0.2057\n",
            "Epoch 41/100\n",
            "2/2 [==============================] - 1s 322ms/step - loss: 0.2011 - MAE: 0.2011 - val_loss: 0.2056 - val_MAE: 0.2056\n",
            "Epoch 42/100\n",
            "2/2 [==============================] - 1s 392ms/step - loss: 0.2010 - MAE: 0.2010 - val_loss: 0.2056 - val_MAE: 0.2056\n",
            "Epoch 43/100\n",
            "2/2 [==============================] - 1s 391ms/step - loss: 0.2010 - MAE: 0.2010 - val_loss: 0.2056 - val_MAE: 0.2056\n",
            "Epoch 44/100\n",
            "2/2 [==============================] - 1s 314ms/step - loss: 0.2010 - MAE: 0.2010 - val_loss: 0.2055 - val_MAE: 0.2055\n",
            "Epoch 45/100\n",
            "2/2 [==============================] - 1s 308ms/step - loss: 0.2010 - MAE: 0.2010 - val_loss: 0.2055 - val_MAE: 0.2055\n",
            "Epoch 46/100\n",
            "2/2 [==============================] - 1s 296ms/step - loss: 0.2010 - MAE: 0.2010 - val_loss: 0.2055 - val_MAE: 0.2055\n",
            "Epoch 47/100\n",
            "2/2 [==============================] - 1s 295ms/step - loss: 0.2010 - MAE: 0.2010 - val_loss: 0.2055 - val_MAE: 0.2055\n",
            "Epoch 48/100\n",
            "2/2 [==============================] - 1s 298ms/step - loss: 0.2010 - MAE: 0.2010 - val_loss: 0.2054 - val_MAE: 0.2054\n",
            "Epoch 49/100\n",
            "2/2 [==============================] - 1s 309ms/step - loss: 0.2010 - MAE: 0.2010 - val_loss: 0.2054 - val_MAE: 0.2054\n",
            "Epoch 50/100\n",
            "2/2 [==============================] - 1s 324ms/step - loss: 0.2010 - MAE: 0.2010 - val_loss: 0.2054 - val_MAE: 0.2054\n",
            "Epoch 51/100\n",
            "2/2 [==============================] - 1s 340ms/step - loss: 0.2010 - MAE: 0.2010 - val_loss: 0.2054 - val_MAE: 0.2054\n",
            "Epoch 52/100\n",
            "2/2 [==============================] - 1s 412ms/step - loss: 0.2010 - MAE: 0.2010 - val_loss: 0.2054 - val_MAE: 0.2054\n",
            "Epoch 53/100\n",
            "2/2 [==============================] - 1s 353ms/step - loss: 0.2010 - MAE: 0.2010 - val_loss: 0.2054 - val_MAE: 0.2054\n",
            "Epoch 54/100\n",
            "2/2 [==============================] - 1s 329ms/step - loss: 0.2010 - MAE: 0.2010 - val_loss: 0.2053 - val_MAE: 0.2053\n",
            "Epoch 55/100\n",
            "2/2 [==============================] - 1s 326ms/step - loss: 0.2010 - MAE: 0.2010 - val_loss: 0.2053 - val_MAE: 0.2053\n",
            "Epoch 56/100\n",
            "2/2 [==============================] - 1s 298ms/step - loss: 0.2010 - MAE: 0.2010 - val_loss: 0.2053 - val_MAE: 0.2053\n",
            "Epoch 57/100\n",
            "2/2 [==============================] - 1s 327ms/step - loss: 0.2010 - MAE: 0.2010 - val_loss: 0.2053 - val_MAE: 0.2053\n",
            "Epoch 58/100\n",
            "2/2 [==============================] - 1s 299ms/step - loss: 0.2010 - MAE: 0.2010 - val_loss: 0.2053 - val_MAE: 0.2053\n",
            "Epoch 59/100\n",
            "2/2 [==============================] - 1s 390ms/step - loss: 0.2010 - MAE: 0.2010 - val_loss: 0.2053 - val_MAE: 0.2053\n",
            "Epoch 60/100\n",
            "2/2 [==============================] - 2s 2s/step - loss: 0.2010 - MAE: 0.2010 - val_loss: 0.2053 - val_MAE: 0.2053\n",
            "Epoch 61/100\n",
            "2/2 [==============================] - 1s 319ms/step - loss: 0.2010 - MAE: 0.2010 - val_loss: 0.2053 - val_MAE: 0.2053\n",
            "Epoch 62/100\n",
            "2/2 [==============================] - 1s 374ms/step - loss: 0.2010 - MAE: 0.2010 - val_loss: 0.2053 - val_MAE: 0.2053\n",
            "Epoch 63/100\n",
            "2/2 [==============================] - 1s 373ms/step - loss: 0.2010 - MAE: 0.2010 - val_loss: 0.2053 - val_MAE: 0.2053\n",
            "Epoch 64/100\n",
            "2/2 [==============================] - 1s 303ms/step - loss: 0.2010 - MAE: 0.2010 - val_loss: 0.2053 - val_MAE: 0.2053\n",
            "Epoch 65/100\n",
            "2/2 [==============================] - 1s 293ms/step - loss: 0.2010 - MAE: 0.2010 - val_loss: 0.2053 - val_MAE: 0.2053\n",
            "Epoch 66/100\n",
            "2/2 [==============================] - 1s 295ms/step - loss: 0.2010 - MAE: 0.2010 - val_loss: 0.2053 - val_MAE: 0.2053\n",
            "Epoch 67/100\n",
            "2/2 [==============================] - 1s 295ms/step - loss: 0.2010 - MAE: 0.2010 - val_loss: 0.2053 - val_MAE: 0.2053\n",
            "Epoch 68/100\n",
            "2/2 [==============================] - 1s 302ms/step - loss: 0.2010 - MAE: 0.2010 - val_loss: 0.2053 - val_MAE: 0.2053\n",
            "Epoch 69/100\n",
            "2/2 [==============================] - 1s 293ms/step - loss: 0.2010 - MAE: 0.2010 - val_loss: 0.2053 - val_MAE: 0.2053\n",
            "Epoch 70/100\n",
            "2/2 [==============================] - 1s 292ms/step - loss: 0.2010 - MAE: 0.2010 - val_loss: 0.2053 - val_MAE: 0.2053\n",
            "Epoch 71/100\n",
            "2/2 [==============================] - 1s 292ms/step - loss: 0.2010 - MAE: 0.2010 - val_loss: 0.2053 - val_MAE: 0.2053\n",
            "Epoch 72/100\n",
            "2/2 [==============================] - 1s 293ms/step - loss: 0.2010 - MAE: 0.2010 - val_loss: 0.2053 - val_MAE: 0.2053\n",
            "Epoch 73/100\n",
            "2/2 [==============================] - 1s 295ms/step - loss: 0.2010 - MAE: 0.2010 - val_loss: 0.2053 - val_MAE: 0.2053\n",
            "Epoch 74/100\n",
            "2/2 [==============================] - 1s 296ms/step - loss: 0.2010 - MAE: 0.2010 - val_loss: 0.2053 - val_MAE: 0.2053\n",
            "Epoch 75/100\n",
            "2/2 [==============================] - 1s 292ms/step - loss: 0.2010 - MAE: 0.2010 - val_loss: 0.2053 - val_MAE: 0.2053\n",
            "Epoch 76/100\n",
            "2/2 [==============================] - 1s 294ms/step - loss: 0.2010 - MAE: 0.2010 - val_loss: 0.2053 - val_MAE: 0.2053\n",
            "Epoch 77/100\n",
            "2/2 [==============================] - 1s 295ms/step - loss: 0.2010 - MAE: 0.2010 - val_loss: 0.2053 - val_MAE: 0.2053\n",
            "Epoch 78/100\n",
            "2/2 [==============================] - 1s 290ms/step - loss: 0.2010 - MAE: 0.2010 - val_loss: 0.2053 - val_MAE: 0.2053\n",
            "Epoch 79/100\n",
            "2/2 [==============================] - 1s 292ms/step - loss: 0.2010 - MAE: 0.2010 - val_loss: 0.2053 - val_MAE: 0.2053\n",
            "Epoch 80/100\n",
            "2/2 [==============================] - 1s 292ms/step - loss: 0.2010 - MAE: 0.2010 - val_loss: 0.2053 - val_MAE: 0.2053\n",
            "Epoch 81/100\n",
            "2/2 [==============================] - 1s 296ms/step - loss: 0.2010 - MAE: 0.2010 - val_loss: 0.2053 - val_MAE: 0.2053\n",
            "Epoch 82/100\n",
            "2/2 [==============================] - 1s 293ms/step - loss: 0.2010 - MAE: 0.2010 - val_loss: 0.2053 - val_MAE: 0.2053\n",
            "Epoch 83/100\n",
            "2/2 [==============================] - 1s 294ms/step - loss: 0.2009 - MAE: 0.2009 - val_loss: 0.2053 - val_MAE: 0.2053\n",
            "Epoch 84/100\n",
            "2/2 [==============================] - 1s 290ms/step - loss: 0.2010 - MAE: 0.2010 - val_loss: 0.2053 - val_MAE: 0.2053\n",
            "Epoch 85/100\n",
            "2/2 [==============================] - 1s 290ms/step - loss: 0.2009 - MAE: 0.2009 - val_loss: 0.2053 - val_MAE: 0.2053\n",
            "Epoch 86/100\n",
            "2/2 [==============================] - 1s 291ms/step - loss: 0.2009 - MAE: 0.2009 - val_loss: 0.2053 - val_MAE: 0.2053\n",
            "Epoch 87/100\n",
            "2/2 [==============================] - 1s 291ms/step - loss: 0.2009 - MAE: 0.2009 - val_loss: 0.2053 - val_MAE: 0.2053\n",
            "Epoch 88/100\n",
            "2/2 [==============================] - 1s 294ms/step - loss: 0.2009 - MAE: 0.2009 - val_loss: 0.2053 - val_MAE: 0.2053\n",
            "Epoch 89/100\n",
            "2/2 [==============================] - 1s 293ms/step - loss: 0.2009 - MAE: 0.2009 - val_loss: 0.2053 - val_MAE: 0.2053\n",
            "Epoch 90/100\n",
            "2/2 [==============================] - 1s 708ms/step - loss: 0.2009 - MAE: 0.2009 - val_loss: 0.2053 - val_MAE: 0.2053\n",
            "Epoch 91/100\n",
            "2/2 [==============================] - 1s 373ms/step - loss: 0.2009 - MAE: 0.2009 - val_loss: 0.2053 - val_MAE: 0.2053\n",
            "Epoch 92/100\n",
            "2/2 [==============================] - 1s 297ms/step - loss: 0.2009 - MAE: 0.2009 - val_loss: 0.2053 - val_MAE: 0.2053\n",
            "Epoch 93/100\n",
            "2/2 [==============================] - 1s 287ms/step - loss: 0.2009 - MAE: 0.2009 - val_loss: 0.2053 - val_MAE: 0.2053\n",
            "Epoch 94/100\n",
            "2/2 [==============================] - 1s 294ms/step - loss: 0.2009 - MAE: 0.2009 - val_loss: 0.2053 - val_MAE: 0.2053\n",
            "Epoch 95/100\n",
            "2/2 [==============================] - 1s 290ms/step - loss: 0.2009 - MAE: 0.2009 - val_loss: 0.2053 - val_MAE: 0.2053\n",
            "Epoch 96/100\n",
            "2/2 [==============================] - 1s 292ms/step - loss: 0.2009 - MAE: 0.2009 - val_loss: 0.2053 - val_MAE: 0.2053\n",
            "Epoch 97/100\n",
            "2/2 [==============================] - 1s 336ms/step - loss: 0.2009 - MAE: 0.2009 - val_loss: 0.2053 - val_MAE: 0.2053\n",
            "Epoch 98/100\n",
            "2/2 [==============================] - 1s 307ms/step - loss: 0.2009 - MAE: 0.2009 - val_loss: 0.2053 - val_MAE: 0.2053\n",
            "Epoch 99/100\n",
            "2/2 [==============================] - 1s 314ms/step - loss: 0.2009 - MAE: 0.2009 - val_loss: 0.2053 - val_MAE: 0.2053\n",
            "Epoch 100/100\n",
            "2/2 [==============================] - 1s 305ms/step - loss: 0.2009 - MAE: 0.2009 - val_loss: 0.2053 - val_MAE: 0.2053\n"
          ]
        }
      ]
    },
    {
      "cell_type": "code",
      "source": [
        "loss = history12.history['loss']\n",
        "val_loss = history12.history['val_loss']\n",
        "\n",
        "plt.subplot(2, 1, 2)\n",
        "plt.plot(loss, label='Training Loss')\n",
        "plt.plot(val_loss, label='Validation Loss')\n",
        "plt.legend(loc='upper right')\n",
        "plt.ylabel('Cross Entropy')\n",
        "plt.ylim([0,1.0])\n",
        "plt.title('Training and Validation Loss')\n",
        "plt.xlabel('epoch')\n",
        "plt.show()"
      ],
      "metadata": {
        "id": "-q9EnTKnYZvs",
        "outputId": "aab21f1e-fff0-4641-e963-5ee4a06abc94",
        "colab": {
          "base_uri": "https://localhost:8080/",
          "height": 177
        }
      },
      "execution_count": 73,
      "outputs": [
        {
          "output_type": "display_data",
          "data": {
            "text/plain": [
              "<Figure size 432x288 with 1 Axes>"
            ],
            "image/png": "[encoded data removed]"
          },
          "metadata": {
            "needs_background": "light"
          }
        }
      ]
    },
    {
      "cell_type": "code",
      "source": [
        "input11 = Input(shape=(300,300,3),name='input1')\n",
        "input_gender11 = Input(shape=(1,),dtype='float32',name='input2')\n",
        "output11 = base_model11(input11)\n",
        "gender_embedding11=Dense(16)(input_gender11)\n",
        "print (K.int_shape(output11))\n",
        "#x11=channel_attention(output11)\n",
        "#print (K.int_shape(x11))\n",
        "x11=spatial_attention(output11)\n",
        "print (K.int_shape(x11))\n",
        "x11 = keras.layers.MaxPooling2D(pool_size=(8,8))(x11)\n",
        "print (K.int_shape(x11))\n",
        "x11=Flatten()(x11)\n",
        "f11 = keras.layers.Concatenate(axis=1)([x11,gender_embedding11])\n",
        "print (K.int_shape(f11)) \n",
        "#x = Dense(256, activation='relu')(x)\n",
        "prediction11 = Dense(240)(x11)\n",
        "\n",
        "model13 = Model(inputs=[input11,input_gender11], outputs=prediction11)\n",
        "for i,layer in enumerate(model11.layers):\n",
        "    print (i,layer.name)\n",
        "\n",
        "Adam=tf.keras.optimizers.Adam(lr=0.0003,beta_1=0.9,beta_2=0.999)\n",
        "model13.compile(optimizer=Adam, loss='mean_absolute_error', metrics=['MAE'])"
      ],
      "metadata": {
        "id": "LV5z1LWFZcU1",
        "outputId": "f0b44a9c-5f6f-4168-bf5f-96ee4504e8f6",
        "colab": {
          "base_uri": "https://localhost:8080/"
        }
      },
      "execution_count": 75,
      "outputs": [
        {
          "output_type": "stream",
          "name": "stdout",
          "text": [
            "(None, 10, 10, 2048)\n",
            "(None, 10, 10, 2048)\n",
            "(None, 1, 1, 2048)\n",
            "(None, 2064)\n",
            "0 input1\n",
            "1 resnet50\n",
            "2 tf.math.reduce_mean_13\n",
            "3 tf.math.reduce_max_6\n",
            "4 dense_32\n",
            "5 dense_34\n",
            "6 dense_33\n",
            "7 dense_35\n",
            "8 tf.__operators__.add_4\n",
            "9 tf.math.sigmoid_6\n",
            "10 tf.math.multiply_6\n",
            "11 tf.math.reduce_mean_14\n",
            "12 tf.math.reduce_max_7\n",
            "13 tf.concat_2\n",
            "14 conv2d_2\n",
            "15 tf.math.sigmoid_7\n",
            "16 tf.math.multiply_7\n",
            "17 max_pooling2d_3\n",
            "18 flatten_3\n",
            "19 input2\n",
            "20 dense_36\n"
          ]
        },
        {
          "output_type": "stream",
          "name": "stderr",
          "text": [
            "/usr/local/lib/python3.7/dist-packages/keras/optimizers/optimizer_v2/adam.py:110: UserWarning: The `lr` argument is deprecated, use `learning_rate` instead.\n",
            "  super(Adam, self).__init__(name, **kwargs)\n"
          ]
        }
      ]
    },
    {
      "cell_type": "code",
      "source": [
        "checkpoint =keras.callbacks.ModelCheckpoint(filepath='weights.{epoch:02d}-{val_loss:.2f}.hdf5',save_weights_only=True,period=30)\n",
        "history13=model13.fit([x_train,gender_train],y_train,batch_size=batch_size,epochs=100,verbose=1,validation_data=([x_valid,gender_valid],y_valid), callbacks = [checkpoint])"
      ],
      "metadata": {
        "id": "LOPhLwqQZ362",
        "outputId": "4eeaab10-78c7-4026-8b45-02c24658ce27",
        "colab": {
          "base_uri": "https://localhost:8080/"
        }
      },
      "execution_count": 76,
      "outputs": [
        {
          "output_type": "stream",
          "name": "stderr",
          "text": [
            "WARNING:tensorflow:`period` argument is deprecated. Please use `save_freq` to specify the frequency in number of batches seen.\n"
          ]
        },
        {
          "output_type": "stream",
          "name": "stdout",
          "text": [
            "Epoch 1/100\n",
            "2/2 [==============================] - 6s 1s/step - loss: 0.2012 - MAE: 0.2012 - val_loss: 0.2053 - val_MAE: 0.2053\n",
            "Epoch 2/100\n",
            "2/2 [==============================] - 1s 284ms/step - loss: 0.2012 - MAE: 0.2012 - val_loss: 0.2053 - val_MAE: 0.2053\n",
            "Epoch 3/100\n",
            "2/2 [==============================] - 1s 288ms/step - loss: 0.2012 - MAE: 0.2012 - val_loss: 0.2053 - val_MAE: 0.2053\n",
            "Epoch 4/100\n",
            "2/2 [==============================] - 1s 293ms/step - loss: 0.2012 - MAE: 0.2012 - val_loss: 0.2053 - val_MAE: 0.2053\n",
            "Epoch 5/100\n",
            "2/2 [==============================] - 1s 287ms/step - loss: 0.2012 - MAE: 0.2012 - val_loss: 0.2053 - val_MAE: 0.2053\n",
            "Epoch 6/100\n",
            "2/2 [==============================] - 1s 289ms/step - loss: 0.2012 - MAE: 0.2012 - val_loss: 0.2053 - val_MAE: 0.2053\n",
            "Epoch 7/100\n",
            "2/2 [==============================] - 1s 293ms/step - loss: 0.2012 - MAE: 0.2012 - val_loss: 0.2053 - val_MAE: 0.2053\n",
            "Epoch 8/100\n",
            "2/2 [==============================] - 1s 289ms/step - loss: 0.2012 - MAE: 0.2012 - val_loss: 0.2053 - val_MAE: 0.2053\n",
            "Epoch 9/100\n",
            "2/2 [==============================] - 1s 291ms/step - loss: 0.2012 - MAE: 0.2012 - val_loss: 0.2053 - val_MAE: 0.2053\n",
            "Epoch 10/100\n",
            "2/2 [==============================] - 1s 285ms/step - loss: 0.2012 - MAE: 0.2012 - val_loss: 0.2053 - val_MAE: 0.2053\n",
            "Epoch 11/100\n",
            "2/2 [==============================] - 1s 289ms/step - loss: 0.2012 - MAE: 0.2012 - val_loss: 0.2053 - val_MAE: 0.2053\n",
            "Epoch 12/100\n",
            "2/2 [==============================] - 1s 296ms/step - loss: 0.2012 - MAE: 0.2012 - val_loss: 0.2053 - val_MAE: 0.2053\n",
            "Epoch 13/100\n",
            "2/2 [==============================] - 1s 289ms/step - loss: 0.2011 - MAE: 0.2011 - val_loss: 0.2053 - val_MAE: 0.2053\n",
            "Epoch 14/100\n",
            "2/2 [==============================] - 1s 292ms/step - loss: 0.2012 - MAE: 0.2012 - val_loss: 0.2053 - val_MAE: 0.2053\n",
            "Epoch 15/100\n",
            "2/2 [==============================] - 1s 294ms/step - loss: 0.2011 - MAE: 0.2011 - val_loss: 0.2053 - val_MAE: 0.2053\n",
            "Epoch 16/100\n",
            "2/2 [==============================] - 1s 289ms/step - loss: 0.2011 - MAE: 0.2011 - val_loss: 0.2053 - val_MAE: 0.2053\n",
            "Epoch 17/100\n",
            "2/2 [==============================] - 1s 299ms/step - loss: 0.2011 - MAE: 0.2011 - val_loss: 0.2053 - val_MAE: 0.2053\n",
            "Epoch 18/100\n",
            "2/2 [==============================] - 1s 291ms/step - loss: 0.2011 - MAE: 0.2011 - val_loss: 0.2053 - val_MAE: 0.2053\n",
            "Epoch 19/100\n",
            "2/2 [==============================] - 1s 288ms/step - loss: 0.2011 - MAE: 0.2011 - val_loss: 0.2053 - val_MAE: 0.2053\n",
            "Epoch 20/100\n",
            "2/2 [==============================] - 1s 304ms/step - loss: 0.2011 - MAE: 0.2011 - val_loss: 0.2053 - val_MAE: 0.2053\n",
            "Epoch 21/100\n",
            "2/2 [==============================] - 1s 313ms/step - loss: 0.2011 - MAE: 0.2011 - val_loss: 0.2053 - val_MAE: 0.2053\n",
            "Epoch 22/100\n",
            "2/2 [==============================] - 1s 298ms/step - loss: 0.2011 - MAE: 0.2011 - val_loss: 0.2053 - val_MAE: 0.2053\n",
            "Epoch 23/100\n",
            "2/2 [==============================] - 1s 306ms/step - loss: 0.2011 - MAE: 0.2011 - val_loss: 0.2053 - val_MAE: 0.2053\n",
            "Epoch 24/100\n",
            "2/2 [==============================] - 1s 295ms/step - loss: 0.2011 - MAE: 0.2011 - val_loss: 0.2053 - val_MAE: 0.2053\n",
            "Epoch 25/100\n",
            "2/2 [==============================] - 1s 308ms/step - loss: 0.2011 - MAE: 0.2011 - val_loss: 0.2053 - val_MAE: 0.2053\n",
            "Epoch 26/100\n",
            "2/2 [==============================] - 1s 315ms/step - loss: 0.2011 - MAE: 0.2011 - val_loss: 0.2053 - val_MAE: 0.2053\n",
            "Epoch 27/100\n",
            "2/2 [==============================] - 1s 304ms/step - loss: 0.2011 - MAE: 0.2011 - val_loss: 0.2053 - val_MAE: 0.2053\n",
            "Epoch 28/100\n",
            "2/2 [==============================] - 1s 310ms/step - loss: 0.2011 - MAE: 0.2011 - val_loss: 0.2053 - val_MAE: 0.2053\n",
            "Epoch 29/100\n",
            "2/2 [==============================] - 1s 292ms/step - loss: 0.2011 - MAE: 0.2011 - val_loss: 0.2053 - val_MAE: 0.2053\n",
            "Epoch 30/100\n",
            "2/2 [==============================] - 1s 679ms/step - loss: 0.2011 - MAE: 0.2011 - val_loss: 0.2053 - val_MAE: 0.2053\n",
            "Epoch 31/100\n",
            "2/2 [==============================] - 1s 296ms/step - loss: 0.2011 - MAE: 0.2011 - val_loss: 0.2053 - val_MAE: 0.2053\n",
            "Epoch 32/100\n",
            "2/2 [==============================] - 1s 292ms/step - loss: 0.2011 - MAE: 0.2011 - val_loss: 0.2053 - val_MAE: 0.2053\n",
            "Epoch 33/100\n",
            "2/2 [==============================] - 1s 293ms/step - loss: 0.2011 - MAE: 0.2011 - val_loss: 0.2053 - val_MAE: 0.2053\n",
            "Epoch 34/100\n",
            "2/2 [==============================] - 1s 298ms/step - loss: 0.2011 - MAE: 0.2011 - val_loss: 0.2053 - val_MAE: 0.2053\n",
            "Epoch 35/100\n",
            "2/2 [==============================] - 1s 304ms/step - loss: 0.2011 - MAE: 0.2011 - val_loss: 0.2053 - val_MAE: 0.2053\n",
            "Epoch 36/100\n",
            "2/2 [==============================] - 1s 328ms/step - loss: 0.2011 - MAE: 0.2011 - val_loss: 0.2053 - val_MAE: 0.2053\n",
            "Epoch 37/100\n",
            "2/2 [==============================] - 1s 311ms/step - loss: 0.2011 - MAE: 0.2011 - val_loss: 0.2053 - val_MAE: 0.2053\n",
            "Epoch 38/100\n",
            "2/2 [==============================] - 1s 300ms/step - loss: 0.2011 - MAE: 0.2011 - val_loss: 0.2053 - val_MAE: 0.2053\n",
            "Epoch 39/100\n",
            "2/2 [==============================] - 1s 321ms/step - loss: 0.2011 - MAE: 0.2011 - val_loss: 0.2053 - val_MAE: 0.2053\n",
            "Epoch 40/100\n",
            "2/2 [==============================] - 1s 314ms/step - loss: 0.2011 - MAE: 0.2011 - val_loss: 0.2053 - val_MAE: 0.2053\n",
            "Epoch 41/100\n",
            "2/2 [==============================] - 1s 321ms/step - loss: 0.2011 - MAE: 0.2011 - val_loss: 0.2053 - val_MAE: 0.2053\n",
            "Epoch 42/100\n",
            "2/2 [==============================] - 1s 297ms/step - loss: 0.2011 - MAE: 0.2011 - val_loss: 0.2053 - val_MAE: 0.2053\n",
            "Epoch 43/100\n",
            "2/2 [==============================] - 1s 336ms/step - loss: 0.2011 - MAE: 0.2011 - val_loss: 0.2053 - val_MAE: 0.2053\n",
            "Epoch 44/100\n",
            "2/2 [==============================] - 1s 317ms/step - loss: 0.2011 - MAE: 0.2011 - val_loss: 0.2053 - val_MAE: 0.2053\n",
            "Epoch 45/100\n",
            "2/2 [==============================] - 1s 325ms/step - loss: 0.2011 - MAE: 0.2011 - val_loss: 0.2053 - val_MAE: 0.2053\n",
            "Epoch 46/100\n",
            "2/2 [==============================] - 1s 342ms/step - loss: 0.2011 - MAE: 0.2011 - val_loss: 0.2053 - val_MAE: 0.2053\n",
            "Epoch 47/100\n",
            "2/2 [==============================] - 1s 437ms/step - loss: 0.2010 - MAE: 0.2010 - val_loss: 0.2053 - val_MAE: 0.2053\n",
            "Epoch 48/100\n",
            "2/2 [==============================] - 1s 411ms/step - loss: 0.2010 - MAE: 0.2010 - val_loss: 0.2053 - val_MAE: 0.2053\n",
            "Epoch 49/100\n",
            "2/2 [==============================] - 1s 375ms/step - loss: 0.2010 - MAE: 0.2010 - val_loss: 0.2053 - val_MAE: 0.2053\n",
            "Epoch 50/100\n",
            "2/2 [==============================] - 1s 322ms/step - loss: 0.2010 - MAE: 0.2010 - val_loss: 0.2053 - val_MAE: 0.2053\n",
            "Epoch 51/100\n",
            "2/2 [==============================] - 1s 318ms/step - loss: 0.2010 - MAE: 0.2010 - val_loss: 0.2053 - val_MAE: 0.2053\n",
            "Epoch 52/100\n",
            "2/2 [==============================] - 1s 321ms/step - loss: 0.2010 - MAE: 0.2010 - val_loss: 0.2053 - val_MAE: 0.2053\n",
            "Epoch 53/100\n",
            "2/2 [==============================] - 1s 389ms/step - loss: 0.2010 - MAE: 0.2010 - val_loss: 0.2053 - val_MAE: 0.2053\n",
            "Epoch 54/100\n",
            "2/2 [==============================] - 1s 363ms/step - loss: 0.2010 - MAE: 0.2010 - val_loss: 0.2053 - val_MAE: 0.2053\n",
            "Epoch 55/100\n",
            "2/2 [==============================] - 1s 301ms/step - loss: 0.2010 - MAE: 0.2010 - val_loss: 0.2053 - val_MAE: 0.2053\n",
            "Epoch 56/100\n",
            "2/2 [==============================] - 1s 299ms/step - loss: 0.2010 - MAE: 0.2010 - val_loss: 0.2053 - val_MAE: 0.2053\n",
            "Epoch 57/100\n",
            "2/2 [==============================] - 1s 296ms/step - loss: 0.2010 - MAE: 0.2010 - val_loss: 0.2053 - val_MAE: 0.2053\n",
            "Epoch 58/100\n",
            "2/2 [==============================] - 1s 298ms/step - loss: 0.2010 - MAE: 0.2010 - val_loss: 0.2053 - val_MAE: 0.2053\n",
            "Epoch 59/100\n",
            "2/2 [==============================] - 1s 295ms/step - loss: 0.2010 - MAE: 0.2010 - val_loss: 0.2053 - val_MAE: 0.2053\n",
            "Epoch 60/100\n",
            "2/2 [==============================] - 1s 693ms/step - loss: 0.2010 - MAE: 0.2010 - val_loss: 0.2053 - val_MAE: 0.2053\n",
            "Epoch 61/100\n",
            "2/2 [==============================] - 1s 297ms/step - loss: 0.2010 - MAE: 0.2010 - val_loss: 0.2053 - val_MAE: 0.2053\n",
            "Epoch 62/100\n",
            "2/2 [==============================] - 1s 380ms/step - loss: 0.2010 - MAE: 0.2010 - val_loss: 0.2053 - val_MAE: 0.2053\n",
            "Epoch 63/100\n",
            "2/2 [==============================] - 1s 300ms/step - loss: 0.2010 - MAE: 0.2010 - val_loss: 0.2053 - val_MAE: 0.2053\n",
            "Epoch 64/100\n",
            "2/2 [==============================] - 1s 294ms/step - loss: 0.2010 - MAE: 0.2010 - val_loss: 0.2053 - val_MAE: 0.2053\n",
            "Epoch 65/100\n",
            "2/2 [==============================] - 1s 294ms/step - loss: 0.2010 - MAE: 0.2010 - val_loss: 0.2053 - val_MAE: 0.2053\n",
            "Epoch 66/100\n",
            "2/2 [==============================] - 1s 294ms/step - loss: 0.2010 - MAE: 0.2010 - val_loss: 0.2053 - val_MAE: 0.2053\n",
            "Epoch 67/100\n",
            "2/2 [==============================] - 1s 297ms/step - loss: 0.2010 - MAE: 0.2010 - val_loss: 0.2053 - val_MAE: 0.2053\n",
            "Epoch 68/100\n",
            "2/2 [==============================] - 1s 292ms/step - loss: 0.2010 - MAE: 0.2010 - val_loss: 0.2053 - val_MAE: 0.2053\n",
            "Epoch 69/100\n",
            "2/2 [==============================] - 1s 298ms/step - loss: 0.2010 - MAE: 0.2010 - val_loss: 0.2053 - val_MAE: 0.2053\n",
            "Epoch 70/100\n",
            "2/2 [==============================] - 1s 296ms/step - loss: 0.2010 - MAE: 0.2010 - val_loss: 0.2053 - val_MAE: 0.2053\n",
            "Epoch 71/100\n",
            "2/2 [==============================] - 1s 298ms/step - loss: 0.2010 - MAE: 0.2010 - val_loss: 0.2053 - val_MAE: 0.2053\n",
            "Epoch 72/100\n",
            "2/2 [==============================] - 1s 295ms/step - loss: 0.2010 - MAE: 0.2010 - val_loss: 0.2053 - val_MAE: 0.2053\n",
            "Epoch 73/100\n",
            "2/2 [==============================] - 1s 293ms/step - loss: 0.2010 - MAE: 0.2010 - val_loss: 0.2053 - val_MAE: 0.2053\n",
            "Epoch 74/100\n",
            "2/2 [==============================] - 1s 293ms/step - loss: 0.2010 - MAE: 0.2010 - val_loss: 0.2053 - val_MAE: 0.2053\n",
            "Epoch 75/100\n",
            "2/2 [==============================] - 1s 292ms/step - loss: 0.2010 - MAE: 0.2010 - val_loss: 0.2053 - val_MAE: 0.2053\n",
            "Epoch 76/100\n",
            "2/2 [==============================] - 1s 301ms/step - loss: 0.2010 - MAE: 0.2010 - val_loss: 0.2053 - val_MAE: 0.2053\n",
            "Epoch 77/100\n",
            "2/2 [==============================] - 1s 290ms/step - loss: 0.2010 - MAE: 0.2010 - val_loss: 0.2053 - val_MAE: 0.2053\n",
            "Epoch 78/100\n",
            "2/2 [==============================] - 1s 300ms/step - loss: 0.2010 - MAE: 0.2010 - val_loss: 0.2053 - val_MAE: 0.2053\n",
            "Epoch 79/100\n",
            "2/2 [==============================] - 1s 294ms/step - loss: 0.2010 - MAE: 0.2010 - val_loss: 0.2053 - val_MAE: 0.2053\n",
            "Epoch 80/100\n",
            "2/2 [==============================] - 1s 295ms/step - loss: 0.2010 - MAE: 0.2010 - val_loss: 0.2053 - val_MAE: 0.2053\n",
            "Epoch 81/100\n",
            "2/2 [==============================] - 1s 307ms/step - loss: 0.2010 - MAE: 0.2010 - val_loss: 0.2053 - val_MAE: 0.2053\n",
            "Epoch 82/100\n",
            "2/2 [==============================] - 1s 391ms/step - loss: 0.2010 - MAE: 0.2010 - val_loss: 0.2053 - val_MAE: 0.2053\n",
            "Epoch 83/100\n",
            "2/2 [==============================] - 1s 309ms/step - loss: 0.2010 - MAE: 0.2010 - val_loss: 0.2053 - val_MAE: 0.2053\n",
            "Epoch 84/100\n",
            "2/2 [==============================] - 1s 318ms/step - loss: 0.2010 - MAE: 0.2010 - val_loss: 0.2053 - val_MAE: 0.2053\n",
            "Epoch 85/100\n",
            "2/2 [==============================] - 1s 313ms/step - loss: 0.2010 - MAE: 0.2010 - val_loss: 0.2053 - val_MAE: 0.2053\n",
            "Epoch 86/100\n",
            "2/2 [==============================] - 1s 305ms/step - loss: 0.2010 - MAE: 0.2010 - val_loss: 0.2053 - val_MAE: 0.2053\n",
            "Epoch 87/100\n",
            "2/2 [==============================] - 1s 311ms/step - loss: 0.2010 - MAE: 0.2010 - val_loss: 0.2053 - val_MAE: 0.2053\n",
            "Epoch 88/100\n",
            "2/2 [==============================] - 1s 307ms/step - loss: 0.2009 - MAE: 0.2009 - val_loss: 0.2053 - val_MAE: 0.2053\n",
            "Epoch 89/100\n",
            "2/2 [==============================] - 1s 309ms/step - loss: 0.2009 - MAE: 0.2009 - val_loss: 0.2053 - val_MAE: 0.2053\n",
            "Epoch 90/100\n",
            "2/2 [==============================] - 1s 685ms/step - loss: 0.2009 - MAE: 0.2009 - val_loss: 0.2053 - val_MAE: 0.2053\n",
            "Epoch 91/100\n",
            "2/2 [==============================] - 1s 291ms/step - loss: 0.2009 - MAE: 0.2009 - val_loss: 0.2053 - val_MAE: 0.2053\n",
            "Epoch 92/100\n",
            "2/2 [==============================] - 1s 293ms/step - loss: 0.2009 - MAE: 0.2009 - val_loss: 0.2053 - val_MAE: 0.2053\n",
            "Epoch 93/100\n",
            "2/2 [==============================] - 1s 292ms/step - loss: 0.2009 - MAE: 0.2009 - val_loss: 0.2053 - val_MAE: 0.2053\n",
            "Epoch 94/100\n",
            "2/2 [==============================] - 1s 290ms/step - loss: 0.2009 - MAE: 0.2009 - val_loss: 0.2053 - val_MAE: 0.2053\n",
            "Epoch 95/100\n",
            "2/2 [==============================] - 1s 292ms/step - loss: 0.2009 - MAE: 0.2009 - val_loss: 0.2053 - val_MAE: 0.2053\n",
            "Epoch 96/100\n",
            "2/2 [==============================] - 1s 288ms/step - loss: 0.2009 - MAE: 0.2009 - val_loss: 0.2053 - val_MAE: 0.2053\n",
            "Epoch 97/100\n",
            "2/2 [==============================] - 1s 370ms/step - loss: 0.2009 - MAE: 0.2009 - val_loss: 0.2053 - val_MAE: 0.2053\n",
            "Epoch 98/100\n",
            "2/2 [==============================] - 1s 300ms/step - loss: 0.2009 - MAE: 0.2009 - val_loss: 0.2053 - val_MAE: 0.2053\n",
            "Epoch 99/100\n",
            "2/2 [==============================] - 1s 292ms/step - loss: 0.2009 - MAE: 0.2009 - val_loss: 0.2053 - val_MAE: 0.2053\n",
            "Epoch 100/100\n",
            "2/2 [==============================] - 1s 291ms/step - loss: 0.2009 - MAE: 0.2009 - val_loss: 0.2053 - val_MAE: 0.2053\n"
          ]
        }
      ]
    },
    {
      "cell_type": "code",
      "source": [
        "loss = history13.history['loss']\n",
        "val_loss = history13.history['val_loss']\n",
        "\n",
        "plt.subplot(2, 1, 2)\n",
        "plt.plot(loss, label='Training Loss')\n",
        "plt.plot(val_loss, label='Validation Loss')\n",
        "plt.legend(loc='upper right')\n",
        "plt.ylabel('Cross Entropy')\n",
        "plt.ylim([0,1.0])\n",
        "plt.title('Training and Validation Loss')\n",
        "plt.xlabel('epoch')\n",
        "plt.show()"
      ],
      "metadata": {
        "id": "wk90rLLUaE-5",
        "outputId": "46346011-03a3-4d36-8f31-f9f6a0b3da25",
        "colab": {
          "base_uri": "https://localhost:8080/",
          "height": 177
        }
      },
      "execution_count": 77,
      "outputs": [
        {
          "output_type": "display_data",
          "data": {
            "text/plain": [
              "<Figure size 432x288 with 1 Axes>"
            ],
            "image/png": "[encoded data removed]"
          },
          "metadata": {
            "needs_background": "light"
          }
        }
      ]
    },
    {
      "cell_type": "code",
      "source": [],
      "metadata": {
        "id": "4l8zN8pEaYCJ"
      },
      "execution_count": null,
      "outputs": []
    }
  ]
}